{
 "cells": [
  {
   "cell_type": "markdown",
   "id": "638b13d6",
   "metadata": {},
   "source": [
    "# Import Library\n",
    "Import pandas untuk melakukan pengolahan dataframe, load dataset, dan proses manipulasi data lainnya, dan gunakan pyarrow untuk dapat bekerja sebagai engine di Jupyter Notebook (jika running di Google Colab tidak perlu ini)"
   ]
  },
  {
   "cell_type": "code",
   "execution_count": 1,
   "id": "88c406c3",
   "metadata": {},
   "outputs": [],
   "source": [
    "# Import Library\n",
    "\n",
    "import pandas as pd"
   ]
  },
  {
   "cell_type": "code",
   "execution_count": 2,
   "id": "cd68c7eb",
   "metadata": {
    "scrolled": false
   },
   "outputs": [
    {
     "name": "stdout",
     "output_type": "stream",
     "text": [
      "Requirement already satisfied: pyarrow in c:\\users\\user\\anaconda3\\lib\\site-packages (12.0.1)\n",
      "Requirement already satisfied: numpy>=1.16.6 in c:\\users\\user\\anaconda3\\lib\\site-packages (from pyarrow) (1.21.6)\n"
     ]
    }
   ],
   "source": [
    "# Install engine agar bisa membaca data parquet\n",
    "\n",
    "!pip install pyarrow"
   ]
  },
  {
   "cell_type": "markdown",
   "id": "7e129363",
   "metadata": {},
   "source": [
    "# Load Dataset\n",
    "Load kedua dataset menggunakan Pandas dengan bantuan engine pyarrow dan kita bisa amati jumlah baris dan kolom dari kedua dataset tersebut"
   ]
  },
  {
   "cell_type": "code",
   "execution_count": 3,
   "id": "879e0c61",
   "metadata": {},
   "outputs": [
    {
     "data": {
      "text/html": [
       "<div>\n",
       "<style scoped>\n",
       "    .dataframe tbody tr th:only-of-type {\n",
       "        vertical-align: middle;\n",
       "    }\n",
       "\n",
       "    .dataframe tbody tr th {\n",
       "        vertical-align: top;\n",
       "    }\n",
       "\n",
       "    .dataframe thead th {\n",
       "        text-align: right;\n",
       "    }\n",
       "</style>\n",
       "<table border=\"1\" class=\"dataframe\">\n",
       "  <thead>\n",
       "    <tr style=\"text-align: right;\">\n",
       "      <th></th>\n",
       "      <th>movieId</th>\n",
       "      <th>title</th>\n",
       "      <th>genres</th>\n",
       "    </tr>\n",
       "  </thead>\n",
       "  <tbody>\n",
       "    <tr>\n",
       "      <th>0</th>\n",
       "      <td>1</td>\n",
       "      <td>Toy Story (1995)</td>\n",
       "      <td>Adventure|Animation|Children|Comedy|Fantasy</td>\n",
       "    </tr>\n",
       "    <tr>\n",
       "      <th>1</th>\n",
       "      <td>2</td>\n",
       "      <td>Jumanji (1995)</td>\n",
       "      <td>Adventure|Children|Fantasy</td>\n",
       "    </tr>\n",
       "    <tr>\n",
       "      <th>2</th>\n",
       "      <td>3</td>\n",
       "      <td>Grumpier Old Men (1995)</td>\n",
       "      <td>Comedy|Romance</td>\n",
       "    </tr>\n",
       "    <tr>\n",
       "      <th>3</th>\n",
       "      <td>4</td>\n",
       "      <td>Waiting to Exhale (1995)</td>\n",
       "      <td>Comedy|Drama|Romance</td>\n",
       "    </tr>\n",
       "    <tr>\n",
       "      <th>4</th>\n",
       "      <td>5</td>\n",
       "      <td>Father of the Bride Part II (1995)</td>\n",
       "      <td>Comedy</td>\n",
       "    </tr>\n",
       "    <tr>\n",
       "      <th>...</th>\n",
       "      <td>...</td>\n",
       "      <td>...</td>\n",
       "      <td>...</td>\n",
       "    </tr>\n",
       "    <tr>\n",
       "      <th>27270</th>\n",
       "      <td>131254</td>\n",
       "      <td>Kein Bund für's Leben (2007)</td>\n",
       "      <td>Comedy</td>\n",
       "    </tr>\n",
       "    <tr>\n",
       "      <th>27271</th>\n",
       "      <td>131256</td>\n",
       "      <td>Feuer, Eis &amp; Dosenbier (2002)</td>\n",
       "      <td>Comedy</td>\n",
       "    </tr>\n",
       "    <tr>\n",
       "      <th>27272</th>\n",
       "      <td>131258</td>\n",
       "      <td>The Pirates (2014)</td>\n",
       "      <td>Adventure</td>\n",
       "    </tr>\n",
       "    <tr>\n",
       "      <th>27273</th>\n",
       "      <td>131260</td>\n",
       "      <td>Rentun Ruusu (2001)</td>\n",
       "      <td>(no genres listed)</td>\n",
       "    </tr>\n",
       "    <tr>\n",
       "      <th>27274</th>\n",
       "      <td>131262</td>\n",
       "      <td>Innocence (2014)</td>\n",
       "      <td>Adventure|Fantasy|Horror</td>\n",
       "    </tr>\n",
       "  </tbody>\n",
       "</table>\n",
       "<p>27275 rows × 3 columns</p>\n",
       "</div>"
      ],
      "text/plain": [
       "       movieId                               title  \\\n",
       "0            1                    Toy Story (1995)   \n",
       "1            2                      Jumanji (1995)   \n",
       "2            3             Grumpier Old Men (1995)   \n",
       "3            4            Waiting to Exhale (1995)   \n",
       "4            5  Father of the Bride Part II (1995)   \n",
       "...        ...                                 ...   \n",
       "27270   131254        Kein Bund für's Leben (2007)   \n",
       "27271   131256       Feuer, Eis & Dosenbier (2002)   \n",
       "27272   131258                  The Pirates (2014)   \n",
       "27273   131260                 Rentun Ruusu (2001)   \n",
       "27274   131262                    Innocence (2014)   \n",
       "\n",
       "                                            genres  \n",
       "0      Adventure|Animation|Children|Comedy|Fantasy  \n",
       "1                       Adventure|Children|Fantasy  \n",
       "2                                   Comedy|Romance  \n",
       "3                             Comedy|Drama|Romance  \n",
       "4                                           Comedy  \n",
       "...                                            ...  \n",
       "27270                                       Comedy  \n",
       "27271                                       Comedy  \n",
       "27272                                    Adventure  \n",
       "27273                           (no genres listed)  \n",
       "27274                     Adventure|Fantasy|Horror  \n",
       "\n",
       "[27275 rows x 3 columns]"
      ]
     },
     "execution_count": 3,
     "metadata": {},
     "output_type": "execute_result"
    }
   ],
   "source": [
    "# Load dataset movie.parquet\n",
    "\n",
    "df_movie = pd.read_parquet('./movie.parquet', engine='pyarrow')\n",
    "df_movie"
   ]
  },
  {
   "cell_type": "code",
   "execution_count": 4,
   "id": "283dbae0",
   "metadata": {},
   "outputs": [
    {
     "data": {
      "text/html": [
       "<div>\n",
       "<style scoped>\n",
       "    .dataframe tbody tr th:only-of-type {\n",
       "        vertical-align: middle;\n",
       "    }\n",
       "\n",
       "    .dataframe tbody tr th {\n",
       "        vertical-align: top;\n",
       "    }\n",
       "\n",
       "    .dataframe thead th {\n",
       "        text-align: right;\n",
       "    }\n",
       "</style>\n",
       "<table border=\"1\" class=\"dataframe\">\n",
       "  <thead>\n",
       "    <tr style=\"text-align: right;\">\n",
       "      <th></th>\n",
       "      <th>#</th>\n",
       "      <th>userId</th>\n",
       "      <th>movieId</th>\n",
       "      <th>rating</th>\n",
       "      <th>timestamp</th>\n",
       "    </tr>\n",
       "  </thead>\n",
       "  <tbody>\n",
       "    <tr>\n",
       "      <th>0</th>\n",
       "      <td>1</td>\n",
       "      <td>1</td>\n",
       "      <td>2</td>\n",
       "      <td>3.5</td>\n",
       "      <td>2005-04-02 23:53:47</td>\n",
       "    </tr>\n",
       "    <tr>\n",
       "      <th>1</th>\n",
       "      <td>2</td>\n",
       "      <td>1</td>\n",
       "      <td>29</td>\n",
       "      <td>3.5</td>\n",
       "      <td>2005-04-02 23:31:16</td>\n",
       "    </tr>\n",
       "    <tr>\n",
       "      <th>2</th>\n",
       "      <td>3</td>\n",
       "      <td>1</td>\n",
       "      <td>32</td>\n",
       "      <td>3.5</td>\n",
       "      <td>2005-04-02 23:33:39</td>\n",
       "    </tr>\n",
       "    <tr>\n",
       "      <th>3</th>\n",
       "      <td>4</td>\n",
       "      <td>1</td>\n",
       "      <td>47</td>\n",
       "      <td>3.5</td>\n",
       "      <td>2005-04-02 23:32:07</td>\n",
       "    </tr>\n",
       "    <tr>\n",
       "      <th>4</th>\n",
       "      <td>5</td>\n",
       "      <td>1</td>\n",
       "      <td>50</td>\n",
       "      <td>3.5</td>\n",
       "      <td>2005-04-02 23:29:40</td>\n",
       "    </tr>\n",
       "    <tr>\n",
       "      <th>...</th>\n",
       "      <td>...</td>\n",
       "      <td>...</td>\n",
       "      <td>...</td>\n",
       "      <td>...</td>\n",
       "      <td>...</td>\n",
       "    </tr>\n",
       "    <tr>\n",
       "      <th>20000258</th>\n",
       "      <td>20000259</td>\n",
       "      <td>138493</td>\n",
       "      <td>68954</td>\n",
       "      <td>4.5</td>\n",
       "      <td>2009-11-13 15:42:00</td>\n",
       "    </tr>\n",
       "    <tr>\n",
       "      <th>20000259</th>\n",
       "      <td>20000260</td>\n",
       "      <td>138493</td>\n",
       "      <td>69526</td>\n",
       "      <td>4.5</td>\n",
       "      <td>2009-12-03 18:31:48</td>\n",
       "    </tr>\n",
       "    <tr>\n",
       "      <th>20000260</th>\n",
       "      <td>20000261</td>\n",
       "      <td>138493</td>\n",
       "      <td>69644</td>\n",
       "      <td>3.0</td>\n",
       "      <td>2009-12-07 18:10:57</td>\n",
       "    </tr>\n",
       "    <tr>\n",
       "      <th>20000261</th>\n",
       "      <td>20000262</td>\n",
       "      <td>138493</td>\n",
       "      <td>70286</td>\n",
       "      <td>5.0</td>\n",
       "      <td>2009-11-13 15:42:24</td>\n",
       "    </tr>\n",
       "    <tr>\n",
       "      <th>20000262</th>\n",
       "      <td>20000263</td>\n",
       "      <td>138493</td>\n",
       "      <td>71619</td>\n",
       "      <td>2.5</td>\n",
       "      <td>2009-10-17 20:25:36</td>\n",
       "    </tr>\n",
       "  </tbody>\n",
       "</table>\n",
       "<p>20000263 rows × 5 columns</p>\n",
       "</div>"
      ],
      "text/plain": [
       "                 #  userId  movieId  rating           timestamp\n",
       "0                1       1        2     3.5 2005-04-02 23:53:47\n",
       "1                2       1       29     3.5 2005-04-02 23:31:16\n",
       "2                3       1       32     3.5 2005-04-02 23:33:39\n",
       "3                4       1       47     3.5 2005-04-02 23:32:07\n",
       "4                5       1       50     3.5 2005-04-02 23:29:40\n",
       "...            ...     ...      ...     ...                 ...\n",
       "20000258  20000259  138493    68954     4.5 2009-11-13 15:42:00\n",
       "20000259  20000260  138493    69526     4.5 2009-12-03 18:31:48\n",
       "20000260  20000261  138493    69644     3.0 2009-12-07 18:10:57\n",
       "20000261  20000262  138493    70286     5.0 2009-11-13 15:42:24\n",
       "20000262  20000263  138493    71619     2.5 2009-10-17 20:25:36\n",
       "\n",
       "[20000263 rows x 5 columns]"
      ]
     },
     "execution_count": 4,
     "metadata": {},
     "output_type": "execute_result"
    }
   ],
   "source": [
    "# Load dataset rating.parquet\n",
    "\n",
    "df_rating = pd.read_parquet('./rating.parquet', engine='pyarrow')\n",
    "df_rating"
   ]
  },
  {
   "cell_type": "markdown",
   "id": "a23a3250",
   "metadata": {},
   "source": [
    "# EDA Dataset\n",
    "Lakukan eksplorasi data secara analitis dengan melihat unique value-nya, informasi jumlah data dari masing-masing kolom dan tipe datanya, melihat nilai statistika dari masing-masing kolom dari kedua dataset"
   ]
  },
  {
   "cell_type": "code",
   "execution_count": 5,
   "id": "d98db7a3",
   "metadata": {},
   "outputs": [
    {
     "data": {
      "text/plain": [
       "movieId    27275\n",
       "title      27259\n",
       "genres      1342\n",
       "dtype: int64"
      ]
     },
     "execution_count": 5,
     "metadata": {},
     "output_type": "execute_result"
    }
   ],
   "source": [
    "# lihat unique value movie\n",
    "\n",
    "df_movie.nunique()"
   ]
  },
  {
   "cell_type": "code",
   "execution_count": 6,
   "id": "6a7bc2e1",
   "metadata": {},
   "outputs": [
    {
     "data": {
      "text/plain": [
       "#            20000263\n",
       "userId         138493\n",
       "movieId         26744\n",
       "rating             10\n",
       "timestamp    15351121\n",
       "dtype: int64"
      ]
     },
     "execution_count": 6,
     "metadata": {},
     "output_type": "execute_result"
    }
   ],
   "source": [
    "# lihat unique value rating\n",
    "\n",
    "df_rating.nunique()"
   ]
  },
  {
   "cell_type": "code",
   "execution_count": 7,
   "id": "c2ea91d9",
   "metadata": {},
   "outputs": [
    {
     "name": "stdout",
     "output_type": "stream",
     "text": [
      "<class 'pandas.core.frame.DataFrame'>\n",
      "RangeIndex: 27275 entries, 0 to 27274\n",
      "Data columns (total 3 columns):\n",
      " #   Column   Non-Null Count  Dtype \n",
      "---  ------   --------------  ----- \n",
      " 0   movieId  27275 non-null  int64 \n",
      " 1   title    27275 non-null  object\n",
      " 2   genres   27275 non-null  object\n",
      "dtypes: int64(1), object(2)\n",
      "memory usage: 639.4+ KB\n"
     ]
    }
   ],
   "source": [
    "# lihat informasi mendalam dari movie\n",
    "\n",
    "df_movie.info()"
   ]
  },
  {
   "cell_type": "code",
   "execution_count": 8,
   "id": "01ee324e",
   "metadata": {},
   "outputs": [
    {
     "name": "stdout",
     "output_type": "stream",
     "text": [
      "<class 'pandas.core.frame.DataFrame'>\n",
      "RangeIndex: 20000263 entries, 0 to 20000262\n",
      "Data columns (total 5 columns):\n",
      " #   Column     Dtype         \n",
      "---  ------     -----         \n",
      " 0   #          int64         \n",
      " 1   userId     int64         \n",
      " 2   movieId    int64         \n",
      " 3   rating     float64       \n",
      " 4   timestamp  datetime64[ns]\n",
      "dtypes: datetime64[ns](1), float64(1), int64(3)\n",
      "memory usage: 762.9 MB\n"
     ]
    }
   ],
   "source": [
    "# lihat informasi mendalam dari rating\n",
    "\n",
    "df_rating.info()"
   ]
  },
  {
   "cell_type": "code",
   "execution_count": 9,
   "id": "cef3529b",
   "metadata": {},
   "outputs": [
    {
     "data": {
      "text/html": [
       "<div>\n",
       "<style scoped>\n",
       "    .dataframe tbody tr th:only-of-type {\n",
       "        vertical-align: middle;\n",
       "    }\n",
       "\n",
       "    .dataframe tbody tr th {\n",
       "        vertical-align: top;\n",
       "    }\n",
       "\n",
       "    .dataframe thead th {\n",
       "        text-align: right;\n",
       "    }\n",
       "</style>\n",
       "<table border=\"1\" class=\"dataframe\">\n",
       "  <thead>\n",
       "    <tr style=\"text-align: right;\">\n",
       "      <th></th>\n",
       "      <th>movieId</th>\n",
       "    </tr>\n",
       "  </thead>\n",
       "  <tbody>\n",
       "    <tr>\n",
       "      <th>count</th>\n",
       "      <td>27275.000000</td>\n",
       "    </tr>\n",
       "    <tr>\n",
       "      <th>mean</th>\n",
       "      <td>59855.759083</td>\n",
       "    </tr>\n",
       "    <tr>\n",
       "      <th>std</th>\n",
       "      <td>44429.452895</td>\n",
       "    </tr>\n",
       "    <tr>\n",
       "      <th>min</th>\n",
       "      <td>1.000000</td>\n",
       "    </tr>\n",
       "    <tr>\n",
       "      <th>25%</th>\n",
       "      <td>6930.500000</td>\n",
       "    </tr>\n",
       "    <tr>\n",
       "      <th>50%</th>\n",
       "      <td>68069.000000</td>\n",
       "    </tr>\n",
       "    <tr>\n",
       "      <th>75%</th>\n",
       "      <td>100292.500000</td>\n",
       "    </tr>\n",
       "    <tr>\n",
       "      <th>max</th>\n",
       "      <td>131262.000000</td>\n",
       "    </tr>\n",
       "  </tbody>\n",
       "</table>\n",
       "</div>"
      ],
      "text/plain": [
       "             movieId\n",
       "count   27275.000000\n",
       "mean    59855.759083\n",
       "std     44429.452895\n",
       "min         1.000000\n",
       "25%      6930.500000\n",
       "50%     68069.000000\n",
       "75%    100292.500000\n",
       "max    131262.000000"
      ]
     },
     "execution_count": 9,
     "metadata": {},
     "output_type": "execute_result"
    }
   ],
   "source": [
    "# lihat informasi nilai statistika dari movie\n",
    "\n",
    "df_movie.describe()"
   ]
  },
  {
   "cell_type": "code",
   "execution_count": 10,
   "id": "2821bc57",
   "metadata": {},
   "outputs": [
    {
     "data": {
      "text/html": [
       "<div>\n",
       "<style scoped>\n",
       "    .dataframe tbody tr th:only-of-type {\n",
       "        vertical-align: middle;\n",
       "    }\n",
       "\n",
       "    .dataframe tbody tr th {\n",
       "        vertical-align: top;\n",
       "    }\n",
       "\n",
       "    .dataframe thead th {\n",
       "        text-align: right;\n",
       "    }\n",
       "</style>\n",
       "<table border=\"1\" class=\"dataframe\">\n",
       "  <thead>\n",
       "    <tr style=\"text-align: right;\">\n",
       "      <th></th>\n",
       "      <th>#</th>\n",
       "      <th>userId</th>\n",
       "      <th>movieId</th>\n",
       "      <th>rating</th>\n",
       "      <th>timestamp</th>\n",
       "    </tr>\n",
       "  </thead>\n",
       "  <tbody>\n",
       "    <tr>\n",
       "      <th>count</th>\n",
       "      <td>2.000026e+07</td>\n",
       "      <td>2.000026e+07</td>\n",
       "      <td>2.000026e+07</td>\n",
       "      <td>2.000026e+07</td>\n",
       "      <td>20000263</td>\n",
       "    </tr>\n",
       "    <tr>\n",
       "      <th>mean</th>\n",
       "      <td>1.000013e+07</td>\n",
       "      <td>6.904587e+04</td>\n",
       "      <td>9.041567e+03</td>\n",
       "      <td>3.525529e+00</td>\n",
       "      <td>2004-11-20 02:32:01.677113984</td>\n",
       "    </tr>\n",
       "    <tr>\n",
       "      <th>min</th>\n",
       "      <td>1.000000e+00</td>\n",
       "      <td>1.000000e+00</td>\n",
       "      <td>1.000000e+00</td>\n",
       "      <td>5.000000e-01</td>\n",
       "      <td>1995-01-09 11:46:44</td>\n",
       "    </tr>\n",
       "    <tr>\n",
       "      <th>25%</th>\n",
       "      <td>5.000066e+06</td>\n",
       "      <td>3.439500e+04</td>\n",
       "      <td>9.020000e+02</td>\n",
       "      <td>3.000000e+00</td>\n",
       "      <td>2000-08-20 18:55:45</td>\n",
       "    </tr>\n",
       "    <tr>\n",
       "      <th>50%</th>\n",
       "      <td>1.000013e+07</td>\n",
       "      <td>6.914100e+04</td>\n",
       "      <td>2.167000e+03</td>\n",
       "      <td>3.500000e+00</td>\n",
       "      <td>2004-12-20 15:18:06</td>\n",
       "    </tr>\n",
       "    <tr>\n",
       "      <th>75%</th>\n",
       "      <td>1.500020e+07</td>\n",
       "      <td>1.036370e+05</td>\n",
       "      <td>4.770000e+03</td>\n",
       "      <td>4.000000e+00</td>\n",
       "      <td>2008-11-02 16:11:57.500000</td>\n",
       "    </tr>\n",
       "    <tr>\n",
       "      <th>max</th>\n",
       "      <td>2.000026e+07</td>\n",
       "      <td>1.384930e+05</td>\n",
       "      <td>1.312620e+05</td>\n",
       "      <td>5.000000e+00</td>\n",
       "      <td>2015-03-31 06:40:02</td>\n",
       "    </tr>\n",
       "    <tr>\n",
       "      <th>std</th>\n",
       "      <td>5.773579e+06</td>\n",
       "      <td>4.003863e+04</td>\n",
       "      <td>1.978948e+04</td>\n",
       "      <td>1.051989e+00</td>\n",
       "      <td>NaN</td>\n",
       "    </tr>\n",
       "  </tbody>\n",
       "</table>\n",
       "</div>"
      ],
      "text/plain": [
       "                  #        userId       movieId        rating  \\\n",
       "count  2.000026e+07  2.000026e+07  2.000026e+07  2.000026e+07   \n",
       "mean   1.000013e+07  6.904587e+04  9.041567e+03  3.525529e+00   \n",
       "min    1.000000e+00  1.000000e+00  1.000000e+00  5.000000e-01   \n",
       "25%    5.000066e+06  3.439500e+04  9.020000e+02  3.000000e+00   \n",
       "50%    1.000013e+07  6.914100e+04  2.167000e+03  3.500000e+00   \n",
       "75%    1.500020e+07  1.036370e+05  4.770000e+03  4.000000e+00   \n",
       "max    2.000026e+07  1.384930e+05  1.312620e+05  5.000000e+00   \n",
       "std    5.773579e+06  4.003863e+04  1.978948e+04  1.051989e+00   \n",
       "\n",
       "                           timestamp  \n",
       "count                       20000263  \n",
       "mean   2004-11-20 02:32:01.677113984  \n",
       "min              1995-01-09 11:46:44  \n",
       "25%              2000-08-20 18:55:45  \n",
       "50%              2004-12-20 15:18:06  \n",
       "75%       2008-11-02 16:11:57.500000  \n",
       "max              2015-03-31 06:40:02  \n",
       "std                              NaN  "
      ]
     },
     "execution_count": 10,
     "metadata": {},
     "output_type": "execute_result"
    }
   ],
   "source": [
    "# lihat informasi nilai statistika dari rating\n",
    "\n",
    "df_rating.describe()"
   ]
  },
  {
   "cell_type": "code",
   "execution_count": 11,
   "id": "2a7a96b9",
   "metadata": {},
   "outputs": [
    {
     "data": {
      "text/html": [
       "<div>\n",
       "<style scoped>\n",
       "    .dataframe tbody tr th:only-of-type {\n",
       "        vertical-align: middle;\n",
       "    }\n",
       "\n",
       "    .dataframe tbody tr th {\n",
       "        vertical-align: top;\n",
       "    }\n",
       "\n",
       "    .dataframe thead th {\n",
       "        text-align: right;\n",
       "    }\n",
       "</style>\n",
       "<table border=\"1\" class=\"dataframe\">\n",
       "  <thead>\n",
       "    <tr style=\"text-align: right;\">\n",
       "      <th></th>\n",
       "      <th>movieId</th>\n",
       "      <th>count</th>\n",
       "    </tr>\n",
       "  </thead>\n",
       "  <tbody>\n",
       "    <tr>\n",
       "      <th>0</th>\n",
       "      <td>1</td>\n",
       "      <td>1</td>\n",
       "    </tr>\n",
       "    <tr>\n",
       "      <th>1</th>\n",
       "      <td>91044</td>\n",
       "      <td>1</td>\n",
       "    </tr>\n",
       "    <tr>\n",
       "      <th>2</th>\n",
       "      <td>91035</td>\n",
       "      <td>1</td>\n",
       "    </tr>\n",
       "    <tr>\n",
       "      <th>3</th>\n",
       "      <td>91031</td>\n",
       "      <td>1</td>\n",
       "    </tr>\n",
       "    <tr>\n",
       "      <th>4</th>\n",
       "      <td>91028</td>\n",
       "      <td>1</td>\n",
       "    </tr>\n",
       "    <tr>\n",
       "      <th>...</th>\n",
       "      <td>...</td>\n",
       "      <td>...</td>\n",
       "    </tr>\n",
       "    <tr>\n",
       "      <th>27270</th>\n",
       "      <td>26853</td>\n",
       "      <td>1</td>\n",
       "    </tr>\n",
       "    <tr>\n",
       "      <th>27271</th>\n",
       "      <td>26851</td>\n",
       "      <td>1</td>\n",
       "    </tr>\n",
       "    <tr>\n",
       "      <th>27272</th>\n",
       "      <td>26850</td>\n",
       "      <td>1</td>\n",
       "    </tr>\n",
       "    <tr>\n",
       "      <th>27273</th>\n",
       "      <td>26849</td>\n",
       "      <td>1</td>\n",
       "    </tr>\n",
       "    <tr>\n",
       "      <th>27274</th>\n",
       "      <td>131262</td>\n",
       "      <td>1</td>\n",
       "    </tr>\n",
       "  </tbody>\n",
       "</table>\n",
       "<p>27275 rows × 2 columns</p>\n",
       "</div>"
      ],
      "text/plain": [
       "       movieId  count\n",
       "0            1      1\n",
       "1        91044      1\n",
       "2        91035      1\n",
       "3        91031      1\n",
       "4        91028      1\n",
       "...        ...    ...\n",
       "27270    26853      1\n",
       "27271    26851      1\n",
       "27272    26850      1\n",
       "27273    26849      1\n",
       "27274   131262      1\n",
       "\n",
       "[27275 rows x 2 columns]"
      ]
     },
     "execution_count": 11,
     "metadata": {},
     "output_type": "execute_result"
    }
   ],
   "source": [
    "# Hitung unique value kemudian tampilkan jumlahnya\n",
    "# Bisa kita lihat semua nilai adalah unik\n",
    "\n",
    "count=(df_movie.movieId.value_counts()).to_frame()\n",
    "count.reset_index(inplace=True)\n",
    "count.columns=['movieId','count']\n",
    "count"
   ]
  },
  {
   "cell_type": "code",
   "execution_count": 12,
   "id": "69dcbecc",
   "metadata": {
    "scrolled": true
   },
   "outputs": [
    {
     "data": {
      "text/html": [
       "<div>\n",
       "<style scoped>\n",
       "    .dataframe tbody tr th:only-of-type {\n",
       "        vertical-align: middle;\n",
       "    }\n",
       "\n",
       "    .dataframe tbody tr th {\n",
       "        vertical-align: top;\n",
       "    }\n",
       "\n",
       "    .dataframe thead th {\n",
       "        text-align: right;\n",
       "    }\n",
       "</style>\n",
       "<table border=\"1\" class=\"dataframe\">\n",
       "  <thead>\n",
       "    <tr style=\"text-align: right;\">\n",
       "      <th></th>\n",
       "      <th>title</th>\n",
       "      <th>count</th>\n",
       "    </tr>\n",
       "  </thead>\n",
       "  <tbody>\n",
       "    <tr>\n",
       "      <th>0</th>\n",
       "      <td>Blackout (2007)</td>\n",
       "      <td>2</td>\n",
       "    </tr>\n",
       "    <tr>\n",
       "      <th>1</th>\n",
       "      <td>Girl, The (2012)</td>\n",
       "      <td>2</td>\n",
       "    </tr>\n",
       "    <tr>\n",
       "      <th>2</th>\n",
       "      <td>Casanova (2005)</td>\n",
       "      <td>2</td>\n",
       "    </tr>\n",
       "    <tr>\n",
       "      <th>3</th>\n",
       "      <td>Emma (1996)</td>\n",
       "      <td>2</td>\n",
       "    </tr>\n",
       "    <tr>\n",
       "      <th>4</th>\n",
       "      <td>Paradise (2013)</td>\n",
       "      <td>2</td>\n",
       "    </tr>\n",
       "    <tr>\n",
       "      <th>...</th>\n",
       "      <td>...</td>\n",
       "      <td>...</td>\n",
       "    </tr>\n",
       "    <tr>\n",
       "      <th>27254</th>\n",
       "      <td>Tai Chi Master (Twin Warriors) (Tai ji: Zhang ...</td>\n",
       "      <td>1</td>\n",
       "    </tr>\n",
       "    <tr>\n",
       "      <th>27255</th>\n",
       "      <td>Splitting Heirs (1993)</td>\n",
       "      <td>1</td>\n",
       "    </tr>\n",
       "    <tr>\n",
       "      <th>27256</th>\n",
       "      <td>Sonatine (Sonachine) (1993)</td>\n",
       "      <td>1</td>\n",
       "    </tr>\n",
       "    <tr>\n",
       "      <th>27257</th>\n",
       "      <td>Snapper, The (1993)</td>\n",
       "      <td>1</td>\n",
       "    </tr>\n",
       "    <tr>\n",
       "      <th>27258</th>\n",
       "      <td>Innocence (2014)</td>\n",
       "      <td>1</td>\n",
       "    </tr>\n",
       "  </tbody>\n",
       "</table>\n",
       "<p>27259 rows × 2 columns</p>\n",
       "</div>"
      ],
      "text/plain": [
       "                                                   title  count\n",
       "0                                        Blackout (2007)      2\n",
       "1                                       Girl, The (2012)      2\n",
       "2                                        Casanova (2005)      2\n",
       "3                                            Emma (1996)      2\n",
       "4                                        Paradise (2013)      2\n",
       "...                                                  ...    ...\n",
       "27254  Tai Chi Master (Twin Warriors) (Tai ji: Zhang ...      1\n",
       "27255                             Splitting Heirs (1993)      1\n",
       "27256                        Sonatine (Sonachine) (1993)      1\n",
       "27257                                Snapper, The (1993)      1\n",
       "27258                                   Innocence (2014)      1\n",
       "\n",
       "[27259 rows x 2 columns]"
      ]
     },
     "execution_count": 12,
     "metadata": {},
     "output_type": "execute_result"
    }
   ],
   "source": [
    "# Hitung nilai unik ternyata terjadi duplikasi nilai\n",
    "# dari masing-masing judul film, padahal ID-nya unik\n",
    "\n",
    "count=(df_movie.title.value_counts()).to_frame()\n",
    "count.reset_index(inplace=True)\n",
    "count.columns=['title','count']\n",
    "count"
   ]
  },
  {
   "cell_type": "code",
   "execution_count": 13,
   "id": "8e84f555",
   "metadata": {},
   "outputs": [
    {
     "data": {
      "text/plain": [
       "movieId     int64\n",
       "title      object\n",
       "genres     object\n",
       "dtype: object"
      ]
     },
     "execution_count": 13,
     "metadata": {},
     "output_type": "execute_result"
    }
   ],
   "source": [
    "# Cek tipe data\n",
    "\n",
    "df_movie.dtypes"
   ]
  },
  {
   "cell_type": "code",
   "execution_count": 14,
   "id": "be6cc782",
   "metadata": {},
   "outputs": [
    {
     "data": {
      "text/plain": [
       "#                     int64\n",
       "userId                int64\n",
       "movieId               int64\n",
       "rating              float64\n",
       "timestamp    datetime64[ns]\n",
       "dtype: object"
      ]
     },
     "execution_count": 14,
     "metadata": {},
     "output_type": "execute_result"
    }
   ],
   "source": [
    "# Cek tipe data\n",
    "\n",
    "df_rating.dtypes"
   ]
  },
  {
   "cell_type": "markdown",
   "id": "8469dae4",
   "metadata": {},
   "source": [
    "# Check Specific Data on Duplicates Data\n",
    "selanjutnya kita selidiki lagi mengapa bisa terjadi duplikasi data di data movie saya kira data ini adalah data master sehingga seharusnya tidak ada duplikasi data pada bagian judul film dengan nama yang sama, secara logika film tidak mungkin diterbitkan dengan nama yang sama dan ditahun yang sama. Namun jangan di drop duplicates karena kita tidak tau ID mana yang tercatat pada data rating (untuk proses joining table)"
   ]
  },
  {
   "cell_type": "code",
   "execution_count": 15,
   "id": "8ed17b61",
   "metadata": {},
   "outputs": [
    {
     "data": {
      "text/html": [
       "<div>\n",
       "<style scoped>\n",
       "    .dataframe tbody tr th:only-of-type {\n",
       "        vertical-align: middle;\n",
       "    }\n",
       "\n",
       "    .dataframe tbody tr th {\n",
       "        vertical-align: top;\n",
       "    }\n",
       "\n",
       "    .dataframe thead th {\n",
       "        text-align: right;\n",
       "    }\n",
       "</style>\n",
       "<table border=\"1\" class=\"dataframe\">\n",
       "  <thead>\n",
       "    <tr style=\"text-align: right;\">\n",
       "      <th></th>\n",
       "      <th>title</th>\n",
       "      <th>count</th>\n",
       "    </tr>\n",
       "  </thead>\n",
       "  <tbody>\n",
       "    <tr>\n",
       "      <th>0</th>\n",
       "      <td>Blackout (2007)</td>\n",
       "      <td>2</td>\n",
       "    </tr>\n",
       "    <tr>\n",
       "      <th>1</th>\n",
       "      <td>Girl, The (2012)</td>\n",
       "      <td>2</td>\n",
       "    </tr>\n",
       "    <tr>\n",
       "      <th>2</th>\n",
       "      <td>Casanova (2005)</td>\n",
       "      <td>2</td>\n",
       "    </tr>\n",
       "    <tr>\n",
       "      <th>3</th>\n",
       "      <td>Emma (1996)</td>\n",
       "      <td>2</td>\n",
       "    </tr>\n",
       "    <tr>\n",
       "      <th>4</th>\n",
       "      <td>Paradise (2013)</td>\n",
       "      <td>2</td>\n",
       "    </tr>\n",
       "    <tr>\n",
       "      <th>5</th>\n",
       "      <td>Hamlet (2000)</td>\n",
       "      <td>2</td>\n",
       "    </tr>\n",
       "    <tr>\n",
       "      <th>6</th>\n",
       "      <td>20,000 Leagues Under the Sea (1997)</td>\n",
       "      <td>2</td>\n",
       "    </tr>\n",
       "    <tr>\n",
       "      <th>7</th>\n",
       "      <td>Chaos (2005)</td>\n",
       "      <td>2</td>\n",
       "    </tr>\n",
       "    <tr>\n",
       "      <th>8</th>\n",
       "      <td>Darling (2007)</td>\n",
       "      <td>2</td>\n",
       "    </tr>\n",
       "    <tr>\n",
       "      <th>9</th>\n",
       "      <td>Beneath (2013)</td>\n",
       "      <td>2</td>\n",
       "    </tr>\n",
       "    <tr>\n",
       "      <th>10</th>\n",
       "      <td>Aladdin (1992)</td>\n",
       "      <td>2</td>\n",
       "    </tr>\n",
       "    <tr>\n",
       "      <th>11</th>\n",
       "      <td>Men with Guns (1997)</td>\n",
       "      <td>2</td>\n",
       "    </tr>\n",
       "    <tr>\n",
       "      <th>12</th>\n",
       "      <td>Johnny Express (2014)</td>\n",
       "      <td>2</td>\n",
       "    </tr>\n",
       "    <tr>\n",
       "      <th>13</th>\n",
       "      <td>Offside (2006)</td>\n",
       "      <td>2</td>\n",
       "    </tr>\n",
       "    <tr>\n",
       "      <th>14</th>\n",
       "      <td>War of the Worlds (2005)</td>\n",
       "      <td>2</td>\n",
       "    </tr>\n",
       "    <tr>\n",
       "      <th>15</th>\n",
       "      <td>Clear History (2013)</td>\n",
       "      <td>2</td>\n",
       "    </tr>\n",
       "  </tbody>\n",
       "</table>\n",
       "</div>"
      ],
      "text/plain": [
       "                                  title  count\n",
       "0                       Blackout (2007)      2\n",
       "1                      Girl, The (2012)      2\n",
       "2                       Casanova (2005)      2\n",
       "3                           Emma (1996)      2\n",
       "4                       Paradise (2013)      2\n",
       "5                         Hamlet (2000)      2\n",
       "6   20,000 Leagues Under the Sea (1997)      2\n",
       "7                          Chaos (2005)      2\n",
       "8                        Darling (2007)      2\n",
       "9                        Beneath (2013)      2\n",
       "10                       Aladdin (1992)      2\n",
       "11                 Men with Guns (1997)      2\n",
       "12                Johnny Express (2014)      2\n",
       "13                       Offside (2006)      2\n",
       "14             War of the Worlds (2005)      2\n",
       "15                 Clear History (2013)      2"
      ]
     },
     "execution_count": 15,
     "metadata": {},
     "output_type": "execute_result"
    }
   ],
   "source": [
    "# Hitung nilai dari judul film yang duplikat\n",
    "# Jumlahnya 16 data, 27275 - 16 = 27259\n",
    "# Jumlah keseluruhan sama dengan data title movie\n",
    "\n",
    "count[count['count']==2]"
   ]
  },
  {
   "cell_type": "code",
   "execution_count": 16,
   "id": "05eb0032",
   "metadata": {},
   "outputs": [
    {
     "data": {
      "text/html": [
       "<div>\n",
       "<style scoped>\n",
       "    .dataframe tbody tr th:only-of-type {\n",
       "        vertical-align: middle;\n",
       "    }\n",
       "\n",
       "    .dataframe tbody tr th {\n",
       "        vertical-align: top;\n",
       "    }\n",
       "\n",
       "    .dataframe thead th {\n",
       "        text-align: right;\n",
       "    }\n",
       "</style>\n",
       "<table border=\"1\" class=\"dataframe\">\n",
       "  <thead>\n",
       "    <tr style=\"text-align: right;\">\n",
       "      <th></th>\n",
       "      <th>movieId</th>\n",
       "      <th>title</th>\n",
       "      <th>genres</th>\n",
       "    </tr>\n",
       "  </thead>\n",
       "  <tbody>\n",
       "    <tr>\n",
       "      <th>10693</th>\n",
       "      <td>42015</td>\n",
       "      <td>Casanova (2005)</td>\n",
       "      <td>Action|Adventure|Comedy|Drama|Romance</td>\n",
       "    </tr>\n",
       "    <tr>\n",
       "      <th>26805</th>\n",
       "      <td>128862</td>\n",
       "      <td>Casanova (2005)</td>\n",
       "      <td>Comedy|Drama|Romance</td>\n",
       "    </tr>\n",
       "  </tbody>\n",
       "</table>\n",
       "</div>"
      ],
      "text/plain": [
       "       movieId            title                                 genres\n",
       "10693    42015  Casanova (2005)  Action|Adventure|Comedy|Drama|Romance\n",
       "26805   128862  Casanova (2005)                   Comedy|Drama|Romance"
      ]
     },
     "execution_count": 16,
     "metadata": {},
     "output_type": "execute_result"
    }
   ],
   "source": [
    "# Setelah dicek ternyata ID dan pencatatan genre menjadi masalah\n",
    "\n",
    "df_movie[df_movie['title']=='Casanova (2005)']"
   ]
  },
  {
   "cell_type": "code",
   "execution_count": 17,
   "id": "c47ead23",
   "metadata": {},
   "outputs": [
    {
     "data": {
      "text/html": [
       "<div>\n",
       "<style scoped>\n",
       "    .dataframe tbody tr th:only-of-type {\n",
       "        vertical-align: middle;\n",
       "    }\n",
       "\n",
       "    .dataframe tbody tr th {\n",
       "        vertical-align: top;\n",
       "    }\n",
       "\n",
       "    .dataframe thead th {\n",
       "        text-align: right;\n",
       "    }\n",
       "</style>\n",
       "<table border=\"1\" class=\"dataframe\">\n",
       "  <thead>\n",
       "    <tr style=\"text-align: right;\">\n",
       "      <th></th>\n",
       "      <th>movieId</th>\n",
       "      <th>title</th>\n",
       "      <th>genres</th>\n",
       "    </tr>\n",
       "  </thead>\n",
       "  <tbody>\n",
       "    <tr>\n",
       "      <th>19761</th>\n",
       "      <td>97773</td>\n",
       "      <td>Girl, The (2012)</td>\n",
       "      <td>Drama</td>\n",
       "    </tr>\n",
       "    <tr>\n",
       "      <th>20651</th>\n",
       "      <td>101212</td>\n",
       "      <td>Girl, The (2012)</td>\n",
       "      <td>Drama</td>\n",
       "    </tr>\n",
       "  </tbody>\n",
       "</table>\n",
       "</div>"
      ],
      "text/plain": [
       "       movieId             title genres\n",
       "19761    97773  Girl, The (2012)  Drama\n",
       "20651   101212  Girl, The (2012)  Drama"
      ]
     },
     "execution_count": 17,
     "metadata": {},
     "output_type": "execute_result"
    }
   ],
   "source": [
    "# Genre sama namun pencatatan ID bermasalah\n",
    "\n",
    "df_movie[df_movie['title']=='Girl, The (2012)']"
   ]
  },
  {
   "cell_type": "code",
   "execution_count": 18,
   "id": "4c427463",
   "metadata": {},
   "outputs": [
    {
     "data": {
      "text/html": [
       "<div>\n",
       "<style scoped>\n",
       "    .dataframe tbody tr th:only-of-type {\n",
       "        vertical-align: middle;\n",
       "    }\n",
       "\n",
       "    .dataframe tbody tr th {\n",
       "        vertical-align: top;\n",
       "    }\n",
       "\n",
       "    .dataframe thead th {\n",
       "        text-align: right;\n",
       "    }\n",
       "</style>\n",
       "<table border=\"1\" class=\"dataframe\">\n",
       "  <thead>\n",
       "    <tr style=\"text-align: right;\">\n",
       "      <th></th>\n",
       "      <th>movieId</th>\n",
       "      <th>title</th>\n",
       "      <th>genres</th>\n",
       "    </tr>\n",
       "  </thead>\n",
       "  <tbody>\n",
       "    <tr>\n",
       "      <th>13415</th>\n",
       "      <td>66140</td>\n",
       "      <td>Blackout (2007)</td>\n",
       "      <td>Horror|Thriller</td>\n",
       "    </tr>\n",
       "    <tr>\n",
       "      <th>16825</th>\n",
       "      <td>85070</td>\n",
       "      <td>Blackout (2007)</td>\n",
       "      <td>Drama</td>\n",
       "    </tr>\n",
       "  </tbody>\n",
       "</table>\n",
       "</div>"
      ],
      "text/plain": [
       "       movieId            title           genres\n",
       "13415    66140  Blackout (2007)  Horror|Thriller\n",
       "16825    85070  Blackout (2007)            Drama"
      ]
     },
     "execution_count": 18,
     "metadata": {},
     "output_type": "execute_result"
    }
   ],
   "source": [
    "# Setelah dicek ternyata ID dan pencatatan genre menjadi masalah\n",
    "\n",
    "df_movie[df_movie['title']=='Blackout (2007)']"
   ]
  },
  {
   "cell_type": "markdown",
   "id": "b5911d3a",
   "metadata": {},
   "source": [
    "# Create Date and Time Columns on Rating Dataset\n",
    "Split timestamp menjadi dua kolom baru yaitu date dan time untuk memudahkan proses visualisasi data nantinya"
   ]
  },
  {
   "cell_type": "code",
   "execution_count": 19,
   "id": "0cf4763f",
   "metadata": {},
   "outputs": [],
   "source": [
    "# Split Data dan ubah menjadi date dan time\n",
    "\n",
    "df_rating['date'] = df_rating['timestamp'].dt.date\n",
    "df_rating['time'] = df_rating['timestamp'].dt.time"
   ]
  },
  {
   "cell_type": "code",
   "execution_count": 20,
   "id": "a0fede7a",
   "metadata": {},
   "outputs": [
    {
     "data": {
      "text/html": [
       "<div>\n",
       "<style scoped>\n",
       "    .dataframe tbody tr th:only-of-type {\n",
       "        vertical-align: middle;\n",
       "    }\n",
       "\n",
       "    .dataframe tbody tr th {\n",
       "        vertical-align: top;\n",
       "    }\n",
       "\n",
       "    .dataframe thead th {\n",
       "        text-align: right;\n",
       "    }\n",
       "</style>\n",
       "<table border=\"1\" class=\"dataframe\">\n",
       "  <thead>\n",
       "    <tr style=\"text-align: right;\">\n",
       "      <th></th>\n",
       "      <th>#</th>\n",
       "      <th>userId</th>\n",
       "      <th>movieId</th>\n",
       "      <th>rating</th>\n",
       "      <th>timestamp</th>\n",
       "      <th>date</th>\n",
       "      <th>time</th>\n",
       "    </tr>\n",
       "  </thead>\n",
       "  <tbody>\n",
       "    <tr>\n",
       "      <th>0</th>\n",
       "      <td>1</td>\n",
       "      <td>1</td>\n",
       "      <td>2</td>\n",
       "      <td>3.5</td>\n",
       "      <td>2005-04-02 23:53:47</td>\n",
       "      <td>2005-04-02</td>\n",
       "      <td>23:53:47</td>\n",
       "    </tr>\n",
       "    <tr>\n",
       "      <th>1</th>\n",
       "      <td>2</td>\n",
       "      <td>1</td>\n",
       "      <td>29</td>\n",
       "      <td>3.5</td>\n",
       "      <td>2005-04-02 23:31:16</td>\n",
       "      <td>2005-04-02</td>\n",
       "      <td>23:31:16</td>\n",
       "    </tr>\n",
       "    <tr>\n",
       "      <th>2</th>\n",
       "      <td>3</td>\n",
       "      <td>1</td>\n",
       "      <td>32</td>\n",
       "      <td>3.5</td>\n",
       "      <td>2005-04-02 23:33:39</td>\n",
       "      <td>2005-04-02</td>\n",
       "      <td>23:33:39</td>\n",
       "    </tr>\n",
       "    <tr>\n",
       "      <th>3</th>\n",
       "      <td>4</td>\n",
       "      <td>1</td>\n",
       "      <td>47</td>\n",
       "      <td>3.5</td>\n",
       "      <td>2005-04-02 23:32:07</td>\n",
       "      <td>2005-04-02</td>\n",
       "      <td>23:32:07</td>\n",
       "    </tr>\n",
       "    <tr>\n",
       "      <th>4</th>\n",
       "      <td>5</td>\n",
       "      <td>1</td>\n",
       "      <td>50</td>\n",
       "      <td>3.5</td>\n",
       "      <td>2005-04-02 23:29:40</td>\n",
       "      <td>2005-04-02</td>\n",
       "      <td>23:29:40</td>\n",
       "    </tr>\n",
       "    <tr>\n",
       "      <th>5</th>\n",
       "      <td>6</td>\n",
       "      <td>1</td>\n",
       "      <td>112</td>\n",
       "      <td>3.5</td>\n",
       "      <td>2004-09-10 03:09:00</td>\n",
       "      <td>2004-09-10</td>\n",
       "      <td>03:09:00</td>\n",
       "    </tr>\n",
       "    <tr>\n",
       "      <th>6</th>\n",
       "      <td>7</td>\n",
       "      <td>1</td>\n",
       "      <td>151</td>\n",
       "      <td>4.0</td>\n",
       "      <td>2004-09-10 03:08:54</td>\n",
       "      <td>2004-09-10</td>\n",
       "      <td>03:08:54</td>\n",
       "    </tr>\n",
       "    <tr>\n",
       "      <th>7</th>\n",
       "      <td>8</td>\n",
       "      <td>1</td>\n",
       "      <td>223</td>\n",
       "      <td>4.0</td>\n",
       "      <td>2005-04-02 23:46:13</td>\n",
       "      <td>2005-04-02</td>\n",
       "      <td>23:46:13</td>\n",
       "    </tr>\n",
       "    <tr>\n",
       "      <th>8</th>\n",
       "      <td>9</td>\n",
       "      <td>1</td>\n",
       "      <td>253</td>\n",
       "      <td>4.0</td>\n",
       "      <td>2005-04-02 23:35:40</td>\n",
       "      <td>2005-04-02</td>\n",
       "      <td>23:35:40</td>\n",
       "    </tr>\n",
       "    <tr>\n",
       "      <th>9</th>\n",
       "      <td>10</td>\n",
       "      <td>1</td>\n",
       "      <td>260</td>\n",
       "      <td>4.0</td>\n",
       "      <td>2005-04-02 23:33:46</td>\n",
       "      <td>2005-04-02</td>\n",
       "      <td>23:33:46</td>\n",
       "    </tr>\n",
       "  </tbody>\n",
       "</table>\n",
       "</div>"
      ],
      "text/plain": [
       "    #  userId  movieId  rating           timestamp        date      time\n",
       "0   1       1        2     3.5 2005-04-02 23:53:47  2005-04-02  23:53:47\n",
       "1   2       1       29     3.5 2005-04-02 23:31:16  2005-04-02  23:31:16\n",
       "2   3       1       32     3.5 2005-04-02 23:33:39  2005-04-02  23:33:39\n",
       "3   4       1       47     3.5 2005-04-02 23:32:07  2005-04-02  23:32:07\n",
       "4   5       1       50     3.5 2005-04-02 23:29:40  2005-04-02  23:29:40\n",
       "5   6       1      112     3.5 2004-09-10 03:09:00  2004-09-10  03:09:00\n",
       "6   7       1      151     4.0 2004-09-10 03:08:54  2004-09-10  03:08:54\n",
       "7   8       1      223     4.0 2005-04-02 23:46:13  2005-04-02  23:46:13\n",
       "8   9       1      253     4.0 2005-04-02 23:35:40  2005-04-02  23:35:40\n",
       "9  10       1      260     4.0 2005-04-02 23:33:46  2005-04-02  23:33:46"
      ]
     },
     "execution_count": 20,
     "metadata": {},
     "output_type": "execute_result"
    }
   ],
   "source": [
    "# Tampilkan perubahan\n",
    "\n",
    "df_rating.head(10)"
   ]
  },
  {
   "cell_type": "markdown",
   "id": "c5f0bb2c",
   "metadata": {},
   "source": [
    "# Create Joining Table using Left Outer Join\n",
    "Lakukan joining table menggunakan konsep yang sama persis pada SQL yaitu Left Outer Join, dengan table left-nya diisi oleh tabel rating dan tabel kanan adalah tabel movie"
   ]
  },
  {
   "cell_type": "code",
   "execution_count": 21,
   "id": "8e0a2e74",
   "metadata": {},
   "outputs": [
    {
     "data": {
      "text/plain": [
       "(20000263, 9)"
      ]
     },
     "execution_count": 21,
     "metadata": {},
     "output_type": "execute_result"
    }
   ],
   "source": [
    "# Joining Table menggunakan validasi movieId\n",
    "\n",
    "left_join = pd.merge(df_rating, df_movie, how=\"left\", on=[\"movieId\"])\n",
    "left_join.shape"
   ]
  },
  {
   "cell_type": "code",
   "execution_count": 22,
   "id": "8f4dbf00",
   "metadata": {},
   "outputs": [
    {
     "data": {
      "text/html": [
       "<div>\n",
       "<style scoped>\n",
       "    .dataframe tbody tr th:only-of-type {\n",
       "        vertical-align: middle;\n",
       "    }\n",
       "\n",
       "    .dataframe tbody tr th {\n",
       "        vertical-align: top;\n",
       "    }\n",
       "\n",
       "    .dataframe thead th {\n",
       "        text-align: right;\n",
       "    }\n",
       "</style>\n",
       "<table border=\"1\" class=\"dataframe\">\n",
       "  <thead>\n",
       "    <tr style=\"text-align: right;\">\n",
       "      <th></th>\n",
       "      <th>#</th>\n",
       "      <th>userId</th>\n",
       "      <th>movieId</th>\n",
       "      <th>rating</th>\n",
       "      <th>timestamp</th>\n",
       "      <th>date</th>\n",
       "      <th>time</th>\n",
       "      <th>title</th>\n",
       "      <th>genres</th>\n",
       "    </tr>\n",
       "  </thead>\n",
       "  <tbody>\n",
       "    <tr>\n",
       "      <th>0</th>\n",
       "      <td>1</td>\n",
       "      <td>1</td>\n",
       "      <td>2</td>\n",
       "      <td>3.5</td>\n",
       "      <td>2005-04-02 23:53:47</td>\n",
       "      <td>2005-04-02</td>\n",
       "      <td>23:53:47</td>\n",
       "      <td>Jumanji (1995)</td>\n",
       "      <td>Adventure|Children|Fantasy</td>\n",
       "    </tr>\n",
       "    <tr>\n",
       "      <th>1</th>\n",
       "      <td>2</td>\n",
       "      <td>1</td>\n",
       "      <td>29</td>\n",
       "      <td>3.5</td>\n",
       "      <td>2005-04-02 23:31:16</td>\n",
       "      <td>2005-04-02</td>\n",
       "      <td>23:31:16</td>\n",
       "      <td>City of Lost Children, The (Cité des enfants p...</td>\n",
       "      <td>Adventure|Drama|Fantasy|Mystery|Sci-Fi</td>\n",
       "    </tr>\n",
       "    <tr>\n",
       "      <th>2</th>\n",
       "      <td>3</td>\n",
       "      <td>1</td>\n",
       "      <td>32</td>\n",
       "      <td>3.5</td>\n",
       "      <td>2005-04-02 23:33:39</td>\n",
       "      <td>2005-04-02</td>\n",
       "      <td>23:33:39</td>\n",
       "      <td>Twelve Monkeys (a.k.a. 12 Monkeys) (1995)</td>\n",
       "      <td>Mystery|Sci-Fi|Thriller</td>\n",
       "    </tr>\n",
       "    <tr>\n",
       "      <th>3</th>\n",
       "      <td>4</td>\n",
       "      <td>1</td>\n",
       "      <td>47</td>\n",
       "      <td>3.5</td>\n",
       "      <td>2005-04-02 23:32:07</td>\n",
       "      <td>2005-04-02</td>\n",
       "      <td>23:32:07</td>\n",
       "      <td>Seven (a.k.a. Se7en) (1995)</td>\n",
       "      <td>Mystery|Thriller</td>\n",
       "    </tr>\n",
       "    <tr>\n",
       "      <th>4</th>\n",
       "      <td>5</td>\n",
       "      <td>1</td>\n",
       "      <td>50</td>\n",
       "      <td>3.5</td>\n",
       "      <td>2005-04-02 23:29:40</td>\n",
       "      <td>2005-04-02</td>\n",
       "      <td>23:29:40</td>\n",
       "      <td>Usual Suspects, The (1995)</td>\n",
       "      <td>Crime|Mystery|Thriller</td>\n",
       "    </tr>\n",
       "    <tr>\n",
       "      <th>5</th>\n",
       "      <td>6</td>\n",
       "      <td>1</td>\n",
       "      <td>112</td>\n",
       "      <td>3.5</td>\n",
       "      <td>2004-09-10 03:09:00</td>\n",
       "      <td>2004-09-10</td>\n",
       "      <td>03:09:00</td>\n",
       "      <td>Rumble in the Bronx (Hont faan kui) (1995)</td>\n",
       "      <td>Action|Adventure|Comedy|Crime</td>\n",
       "    </tr>\n",
       "    <tr>\n",
       "      <th>6</th>\n",
       "      <td>7</td>\n",
       "      <td>1</td>\n",
       "      <td>151</td>\n",
       "      <td>4.0</td>\n",
       "      <td>2004-09-10 03:08:54</td>\n",
       "      <td>2004-09-10</td>\n",
       "      <td>03:08:54</td>\n",
       "      <td>Rob Roy (1995)</td>\n",
       "      <td>Action|Drama|Romance|War</td>\n",
       "    </tr>\n",
       "    <tr>\n",
       "      <th>7</th>\n",
       "      <td>8</td>\n",
       "      <td>1</td>\n",
       "      <td>223</td>\n",
       "      <td>4.0</td>\n",
       "      <td>2005-04-02 23:46:13</td>\n",
       "      <td>2005-04-02</td>\n",
       "      <td>23:46:13</td>\n",
       "      <td>Clerks (1994)</td>\n",
       "      <td>Comedy</td>\n",
       "    </tr>\n",
       "    <tr>\n",
       "      <th>8</th>\n",
       "      <td>9</td>\n",
       "      <td>1</td>\n",
       "      <td>253</td>\n",
       "      <td>4.0</td>\n",
       "      <td>2005-04-02 23:35:40</td>\n",
       "      <td>2005-04-02</td>\n",
       "      <td>23:35:40</td>\n",
       "      <td>Interview with the Vampire: The Vampire Chroni...</td>\n",
       "      <td>Drama|Horror</td>\n",
       "    </tr>\n",
       "    <tr>\n",
       "      <th>9</th>\n",
       "      <td>10</td>\n",
       "      <td>1</td>\n",
       "      <td>260</td>\n",
       "      <td>4.0</td>\n",
       "      <td>2005-04-02 23:33:46</td>\n",
       "      <td>2005-04-02</td>\n",
       "      <td>23:33:46</td>\n",
       "      <td>Star Wars: Episode IV - A New Hope (1977)</td>\n",
       "      <td>Action|Adventure|Sci-Fi</td>\n",
       "    </tr>\n",
       "  </tbody>\n",
       "</table>\n",
       "</div>"
      ],
      "text/plain": [
       "    #  userId  movieId  rating           timestamp        date      time  \\\n",
       "0   1       1        2     3.5 2005-04-02 23:53:47  2005-04-02  23:53:47   \n",
       "1   2       1       29     3.5 2005-04-02 23:31:16  2005-04-02  23:31:16   \n",
       "2   3       1       32     3.5 2005-04-02 23:33:39  2005-04-02  23:33:39   \n",
       "3   4       1       47     3.5 2005-04-02 23:32:07  2005-04-02  23:32:07   \n",
       "4   5       1       50     3.5 2005-04-02 23:29:40  2005-04-02  23:29:40   \n",
       "5   6       1      112     3.5 2004-09-10 03:09:00  2004-09-10  03:09:00   \n",
       "6   7       1      151     4.0 2004-09-10 03:08:54  2004-09-10  03:08:54   \n",
       "7   8       1      223     4.0 2005-04-02 23:46:13  2005-04-02  23:46:13   \n",
       "8   9       1      253     4.0 2005-04-02 23:35:40  2005-04-02  23:35:40   \n",
       "9  10       1      260     4.0 2005-04-02 23:33:46  2005-04-02  23:33:46   \n",
       "\n",
       "                                               title  \\\n",
       "0                                     Jumanji (1995)   \n",
       "1  City of Lost Children, The (Cité des enfants p...   \n",
       "2          Twelve Monkeys (a.k.a. 12 Monkeys) (1995)   \n",
       "3                        Seven (a.k.a. Se7en) (1995)   \n",
       "4                         Usual Suspects, The (1995)   \n",
       "5         Rumble in the Bronx (Hont faan kui) (1995)   \n",
       "6                                     Rob Roy (1995)   \n",
       "7                                      Clerks (1994)   \n",
       "8  Interview with the Vampire: The Vampire Chroni...   \n",
       "9          Star Wars: Episode IV - A New Hope (1977)   \n",
       "\n",
       "                                   genres  \n",
       "0              Adventure|Children|Fantasy  \n",
       "1  Adventure|Drama|Fantasy|Mystery|Sci-Fi  \n",
       "2                 Mystery|Sci-Fi|Thriller  \n",
       "3                        Mystery|Thriller  \n",
       "4                  Crime|Mystery|Thriller  \n",
       "5           Action|Adventure|Comedy|Crime  \n",
       "6                Action|Drama|Romance|War  \n",
       "7                                  Comedy  \n",
       "8                            Drama|Horror  \n",
       "9                 Action|Adventure|Sci-Fi  "
      ]
     },
     "execution_count": 22,
     "metadata": {},
     "output_type": "execute_result"
    }
   ],
   "source": [
    "# Tampilkan perubahan\n",
    "\n",
    "left_join.head(10)"
   ]
  },
  {
   "cell_type": "markdown",
   "id": "8534b141",
   "metadata": {},
   "source": [
    "# Check Null Values After Joining Table and Drop It!"
   ]
  },
  {
   "cell_type": "code",
   "execution_count": 23,
   "id": "adbde4c9",
   "metadata": {},
   "outputs": [
    {
     "data": {
      "text/plain": [
       "#            20000263\n",
       "userId         138493\n",
       "movieId         26744\n",
       "rating             10\n",
       "timestamp    15351121\n",
       "date             6911\n",
       "time            86400\n",
       "title           26726\n",
       "genres           1329\n",
       "dtype: int64"
      ]
     },
     "execution_count": 23,
     "metadata": {},
     "output_type": "execute_result"
    }
   ],
   "source": [
    "# Cek unique value\n",
    "\n",
    "left_join.nunique()"
   ]
  },
  {
   "cell_type": "code",
   "execution_count": 24,
   "id": "e45a424d",
   "metadata": {
    "scrolled": true
   },
   "outputs": [
    {
     "data": {
      "text/plain": [
       "#              0\n",
       "userId         0\n",
       "movieId        0\n",
       "rating         0\n",
       "timestamp      0\n",
       "date           0\n",
       "time           0\n",
       "title        281\n",
       "genres       281\n",
       "dtype: int64"
      ]
     },
     "execution_count": 24,
     "metadata": {},
     "output_type": "execute_result"
    }
   ],
   "source": [
    "# Cek kekosongan data\n",
    "\n",
    "left_join.isna().sum()"
   ]
  },
  {
   "cell_type": "code",
   "execution_count": 25,
   "id": "b51e833d",
   "metadata": {},
   "outputs": [],
   "source": [
    "# Hapus atribut yang tidak berguna\n",
    "\n",
    "left_join = left_join.drop('#', axis=1)"
   ]
  },
  {
   "cell_type": "code",
   "execution_count": 26,
   "id": "502b73c5",
   "metadata": {},
   "outputs": [
    {
     "data": {
      "text/html": [
       "<div>\n",
       "<style scoped>\n",
       "    .dataframe tbody tr th:only-of-type {\n",
       "        vertical-align: middle;\n",
       "    }\n",
       "\n",
       "    .dataframe tbody tr th {\n",
       "        vertical-align: top;\n",
       "    }\n",
       "\n",
       "    .dataframe thead th {\n",
       "        text-align: right;\n",
       "    }\n",
       "</style>\n",
       "<table border=\"1\" class=\"dataframe\">\n",
       "  <thead>\n",
       "    <tr style=\"text-align: right;\">\n",
       "      <th></th>\n",
       "      <th>userId</th>\n",
       "      <th>movieId</th>\n",
       "      <th>rating</th>\n",
       "      <th>timestamp</th>\n",
       "      <th>date</th>\n",
       "      <th>time</th>\n",
       "      <th>title</th>\n",
       "      <th>genres</th>\n",
       "    </tr>\n",
       "  </thead>\n",
       "  <tbody>\n",
       "    <tr>\n",
       "      <th>0</th>\n",
       "      <td>1</td>\n",
       "      <td>2</td>\n",
       "      <td>3.5</td>\n",
       "      <td>2005-04-02 23:53:47</td>\n",
       "      <td>2005-04-02</td>\n",
       "      <td>23:53:47</td>\n",
       "      <td>Jumanji (1995)</td>\n",
       "      <td>Adventure|Children|Fantasy</td>\n",
       "    </tr>\n",
       "    <tr>\n",
       "      <th>1</th>\n",
       "      <td>1</td>\n",
       "      <td>29</td>\n",
       "      <td>3.5</td>\n",
       "      <td>2005-04-02 23:31:16</td>\n",
       "      <td>2005-04-02</td>\n",
       "      <td>23:31:16</td>\n",
       "      <td>City of Lost Children, The (Cité des enfants p...</td>\n",
       "      <td>Adventure|Drama|Fantasy|Mystery|Sci-Fi</td>\n",
       "    </tr>\n",
       "    <tr>\n",
       "      <th>2</th>\n",
       "      <td>1</td>\n",
       "      <td>32</td>\n",
       "      <td>3.5</td>\n",
       "      <td>2005-04-02 23:33:39</td>\n",
       "      <td>2005-04-02</td>\n",
       "      <td>23:33:39</td>\n",
       "      <td>Twelve Monkeys (a.k.a. 12 Monkeys) (1995)</td>\n",
       "      <td>Mystery|Sci-Fi|Thriller</td>\n",
       "    </tr>\n",
       "    <tr>\n",
       "      <th>3</th>\n",
       "      <td>1</td>\n",
       "      <td>47</td>\n",
       "      <td>3.5</td>\n",
       "      <td>2005-04-02 23:32:07</td>\n",
       "      <td>2005-04-02</td>\n",
       "      <td>23:32:07</td>\n",
       "      <td>Seven (a.k.a. Se7en) (1995)</td>\n",
       "      <td>Mystery|Thriller</td>\n",
       "    </tr>\n",
       "    <tr>\n",
       "      <th>4</th>\n",
       "      <td>1</td>\n",
       "      <td>50</td>\n",
       "      <td>3.5</td>\n",
       "      <td>2005-04-02 23:29:40</td>\n",
       "      <td>2005-04-02</td>\n",
       "      <td>23:29:40</td>\n",
       "      <td>Usual Suspects, The (1995)</td>\n",
       "      <td>Crime|Mystery|Thriller</td>\n",
       "    </tr>\n",
       "    <tr>\n",
       "      <th>...</th>\n",
       "      <td>...</td>\n",
       "      <td>...</td>\n",
       "      <td>...</td>\n",
       "      <td>...</td>\n",
       "      <td>...</td>\n",
       "      <td>...</td>\n",
       "      <td>...</td>\n",
       "      <td>...</td>\n",
       "    </tr>\n",
       "    <tr>\n",
       "      <th>20000258</th>\n",
       "      <td>138493</td>\n",
       "      <td>68954</td>\n",
       "      <td>4.5</td>\n",
       "      <td>2009-11-13 15:42:00</td>\n",
       "      <td>2009-11-13</td>\n",
       "      <td>15:42:00</td>\n",
       "      <td>Up (2009)</td>\n",
       "      <td>Adventure|Animation|Children|Drama</td>\n",
       "    </tr>\n",
       "    <tr>\n",
       "      <th>20000259</th>\n",
       "      <td>138493</td>\n",
       "      <td>69526</td>\n",
       "      <td>4.5</td>\n",
       "      <td>2009-12-03 18:31:48</td>\n",
       "      <td>2009-12-03</td>\n",
       "      <td>18:31:48</td>\n",
       "      <td>Transformers: Revenge of the Fallen (2009)</td>\n",
       "      <td>Action|Adventure|Sci-Fi|IMAX</td>\n",
       "    </tr>\n",
       "    <tr>\n",
       "      <th>20000260</th>\n",
       "      <td>138493</td>\n",
       "      <td>69644</td>\n",
       "      <td>3.0</td>\n",
       "      <td>2009-12-07 18:10:57</td>\n",
       "      <td>2009-12-07</td>\n",
       "      <td>18:10:57</td>\n",
       "      <td>Ice Age: Dawn of the Dinosaurs (2009)</td>\n",
       "      <td>Action|Adventure|Animation|Children|Comedy|Rom...</td>\n",
       "    </tr>\n",
       "    <tr>\n",
       "      <th>20000261</th>\n",
       "      <td>138493</td>\n",
       "      <td>70286</td>\n",
       "      <td>5.0</td>\n",
       "      <td>2009-11-13 15:42:24</td>\n",
       "      <td>2009-11-13</td>\n",
       "      <td>15:42:24</td>\n",
       "      <td>District 9 (2009)</td>\n",
       "      <td>Mystery|Sci-Fi|Thriller</td>\n",
       "    </tr>\n",
       "    <tr>\n",
       "      <th>20000262</th>\n",
       "      <td>138493</td>\n",
       "      <td>71619</td>\n",
       "      <td>2.5</td>\n",
       "      <td>2009-10-17 20:25:36</td>\n",
       "      <td>2009-10-17</td>\n",
       "      <td>20:25:36</td>\n",
       "      <td>Coco Before Chanel (Coco avant Chanel) (2009)</td>\n",
       "      <td>Drama</td>\n",
       "    </tr>\n",
       "  </tbody>\n",
       "</table>\n",
       "<p>19999982 rows × 8 columns</p>\n",
       "</div>"
      ],
      "text/plain": [
       "          userId  movieId  rating           timestamp        date      time  \\\n",
       "0              1        2     3.5 2005-04-02 23:53:47  2005-04-02  23:53:47   \n",
       "1              1       29     3.5 2005-04-02 23:31:16  2005-04-02  23:31:16   \n",
       "2              1       32     3.5 2005-04-02 23:33:39  2005-04-02  23:33:39   \n",
       "3              1       47     3.5 2005-04-02 23:32:07  2005-04-02  23:32:07   \n",
       "4              1       50     3.5 2005-04-02 23:29:40  2005-04-02  23:29:40   \n",
       "...          ...      ...     ...                 ...         ...       ...   \n",
       "20000258  138493    68954     4.5 2009-11-13 15:42:00  2009-11-13  15:42:00   \n",
       "20000259  138493    69526     4.5 2009-12-03 18:31:48  2009-12-03  18:31:48   \n",
       "20000260  138493    69644     3.0 2009-12-07 18:10:57  2009-12-07  18:10:57   \n",
       "20000261  138493    70286     5.0 2009-11-13 15:42:24  2009-11-13  15:42:24   \n",
       "20000262  138493    71619     2.5 2009-10-17 20:25:36  2009-10-17  20:25:36   \n",
       "\n",
       "                                                      title  \\\n",
       "0                                            Jumanji (1995)   \n",
       "1         City of Lost Children, The (Cité des enfants p...   \n",
       "2                 Twelve Monkeys (a.k.a. 12 Monkeys) (1995)   \n",
       "3                               Seven (a.k.a. Se7en) (1995)   \n",
       "4                                Usual Suspects, The (1995)   \n",
       "...                                                     ...   \n",
       "20000258                                          Up (2009)   \n",
       "20000259         Transformers: Revenge of the Fallen (2009)   \n",
       "20000260              Ice Age: Dawn of the Dinosaurs (2009)   \n",
       "20000261                                  District 9 (2009)   \n",
       "20000262      Coco Before Chanel (Coco avant Chanel) (2009)   \n",
       "\n",
       "                                                     genres  \n",
       "0                                Adventure|Children|Fantasy  \n",
       "1                    Adventure|Drama|Fantasy|Mystery|Sci-Fi  \n",
       "2                                   Mystery|Sci-Fi|Thriller  \n",
       "3                                          Mystery|Thriller  \n",
       "4                                    Crime|Mystery|Thriller  \n",
       "...                                                     ...  \n",
       "20000258                 Adventure|Animation|Children|Drama  \n",
       "20000259                       Action|Adventure|Sci-Fi|IMAX  \n",
       "20000260  Action|Adventure|Animation|Children|Comedy|Rom...  \n",
       "20000261                            Mystery|Sci-Fi|Thriller  \n",
       "20000262                                              Drama  \n",
       "\n",
       "[19999982 rows x 8 columns]"
      ]
     },
     "execution_count": 26,
     "metadata": {},
     "output_type": "execute_result"
    }
   ],
   "source": [
    "# Drop baris yang mengandung null values\n",
    "# 20000263 - 281 = 19999982\n",
    "\n",
    "left_join.dropna()"
   ]
  },
  {
   "cell_type": "markdown",
   "id": "722bfb43",
   "metadata": {},
   "source": [
    "# Data to Visualize"
   ]
  },
  {
   "cell_type": "markdown",
   "id": "2b7df26e",
   "metadata": {},
   "source": [
    "## Import Library Visualization\n",
    "Gunakan plotly express dan matplotlib untuk melakukan visualisasi data"
   ]
  },
  {
   "cell_type": "code",
   "execution_count": 92,
   "id": "d5ccc6d6",
   "metadata": {},
   "outputs": [],
   "source": [
    "# Import Library\n",
    "\n",
    "import plotly.express as px\n",
    "import matplotlib.pyplot as plt"
   ]
  },
  {
   "cell_type": "markdown",
   "id": "493d4504",
   "metadata": {},
   "source": [
    "## Create Sampling Data, Bcs Data is too Much!\n",
    "Lakukan sampling data menggunakan metode sampling acak dikarenakan data sangat besar"
   ]
  },
  {
   "cell_type": "code",
   "execution_count": 83,
   "id": "d93a6563",
   "metadata": {},
   "outputs": [],
   "source": [
    "# Sampling data\n",
    "\n",
    "left_join_sample = left_join.sample(n=5000, random_state=42)"
   ]
  },
  {
   "cell_type": "markdown",
   "id": "1ca9471f",
   "metadata": {},
   "source": [
    "## Visualize Data\n",
    "Time to visualize the data using plotly and matplotlib!"
   ]
  },
  {
   "cell_type": "code",
   "execution_count": 84,
   "id": "b872d155",
   "metadata": {},
   "outputs": [
    {
     "data": {
      "application/vnd.plotly.v1+json": {
       "config": {
        "plotlyServerURL": "https://plot.ly"
       },
       "data": [
        {
         "customdata": [
          [
           "Shrek 2 (2004)"
          ],
          [
           "Twelve Monkeys (a.k.a. 12 Monkeys) (1995)"
          ],
          [
           "Grand Budapest Hotel, The (2014)"
          ],
          [
           "Swingers (1996)"
          ],
          [
           "Big Lebowski, The (1998)"
          ],
          [
           "No Escape (1994)"
          ],
          [
           "U.S. Marshals (1998)"
          ],
          [
           "Cube Zero (2004)"
          ],
          [
           "Two Girls and a Guy (1997)"
          ],
          [
           "Crouching Tiger, Hidden Dragon (Wo hu cang long) (2000)"
          ],
          [
           "My Cousin Vinny (1992)"
          ],
          [
           "Meet Joe Black (1998)"
          ],
          [
           "Wall Street (1987)"
          ],
          [
           "Monty Python and the Holy Grail (1975)"
          ],
          [
           "Fish Called Wanda, A (1988)"
          ],
          [
           "Independence Day (a.k.a. ID4) (1996)"
          ],
          [
           "Dial M for Murder (1954)"
          ],
          [
           "WarGames (1983)"
          ],
          [
           "Nine Months (1995)"
          ],
          [
           "Gremlins (1984)"
          ],
          [
           "Mr. Holland's Opus (1995)"
          ],
          [
           "M*A*S*H (a.k.a. MASH) (1970)"
          ],
          [
           "Wimbledon (2004)"
          ],
          [
           "7th Voyage of Sinbad, The (1958)"
          ],
          [
           "Aladdin (1992)"
          ],
          [
           "Descent, The (2005)"
          ],
          [
           "Rob Roy (1995)"
          ],
          [
           "King's Speech, The (2010)"
          ],
          [
           "Night of the Living Dead (1968)"
          ],
          [
           "Strawberry and Chocolate (Fresa y chocolate) (1993)"
          ],
          [
           "Apollo 13 (1995)"
          ],
          [
           "Heavy Metal (1981)"
          ],
          [
           "Scream (1996)"
          ],
          [
           "Transformers: Revenge of the Fallen (2009)"
          ],
          [
           "Speed 2: Cruise Control (1997)"
          ],
          [
           "About Schmidt (2002)"
          ],
          [
           "Highlander (1986)"
          ],
          [
           "Anchorman: The Legend of Ron Burgundy (2004)"
          ],
          [
           "Forever Young (1992)"
          ],
          [
           "Howling III: The Marsupials (1987)"
          ],
          [
           "Limitless (2011)"
          ],
          [
           "Pulp Fiction (1994)"
          ],
          [
           "Full Monty, The (1997)"
          ],
          [
           "Cliffhanger (1993)"
          ],
          [
           "Kill Bill: Vol. 1 (2003)"
          ],
          [
           "Summer of Sam (1999)"
          ],
          [
           "Pirates of the Caribbean: The Curse of the Black Pearl (2003)"
          ],
          [
           "Who's That Girl? (1987)"
          ],
          [
           "Independence Day (a.k.a. ID4) (1996)"
          ],
          [
           "Harry Potter and the Sorcerer's Stone (a.k.a. Harry Potter and the Philosopher's Stone) (2001)"
          ],
          [
           "Journey of Natty Gann, The (1985)"
          ],
          [
           "Diner (1982)"
          ],
          [
           "Silence of the Lambs, The (1991)"
          ],
          [
           "Daredevil (2003)"
          ],
          [
           "Bourne Identity, The (2002)"
          ],
          [
           "Mighty Aphrodite (1995)"
          ],
          [
           "Bull Durham (1988)"
          ],
          [
           "Gift, The (2000)"
          ],
          [
           "Higher Learning (1995)"
          ],
          [
           "Corrina, Corrina (1994)"
          ],
          [
           "Aguirre: The Wrath of God (Aguirre, der Zorn Gottes) (1972)"
          ],
          [
           "Exorcist, The (1973)"
          ],
          [
           "Sixth Sense, The (1999)"
          ],
          [
           "That Thing You Do! (1996)"
          ],
          [
           "Broadcast News (1987)"
          ],
          [
           "Taken (2008)"
          ],
          [
           "Eraser (1996)"
          ],
          [
           "Urban Legend (1998)"
          ],
          [
           "Outbreak (1995)"
          ],
          [
           "Me, Myself & Irene (2000)"
          ],
          [
           "Analyze This (1999)"
          ],
          [
           "Big Daddy (1999)"
          ],
          [
           "Romy and Michele's High School Reunion (1997)"
          ],
          [
           "Eternal Sunshine of the Spotless Mind (2004)"
          ],
          [
           "Indian in the Cupboard, The (1995)"
          ],
          [
           "Aladdin (1992)"
          ],
          [
           "American Beauty (1999)"
          ],
          [
           "American Beauty (1999)"
          ],
          [
           "So I Married an Axe Murderer (1993)"
          ],
          [
           "Amelia (2009)"
          ],
          [
           "Wordplay (2006)"
          ],
          [
           "Sahara (1943)"
          ],
          [
           "Independence Day (a.k.a. ID4) (1996)"
          ],
          [
           "Lord of the Rings: The Two Towers, The (2002)"
          ],
          [
           "Six Degrees of Separation (1993)"
          ],
          [
           "Graduate, The (1967)"
          ],
          [
           "Independence Day (a.k.a. ID4) (1996)"
          ],
          [
           "Moonraker (1979)"
          ],
          [
           "Stardust Memories (1980)"
          ],
          [
           "Rushmore (1998)"
          ],
          [
           "Silence of the Lambs, The (1991)"
          ],
          [
           "Friday (1995)"
          ],
          [
           "American President, The (1995)"
          ],
          [
           "Last of the Mohicans, The (1992)"
          ],
          [
           "Fear (1996)"
          ],
          [
           "Untouchables, The (1987)"
          ],
          [
           "Some Like It Hot (1959)"
          ],
          [
           "Superman II (1980)"
          ],
          [
           "X-Men: First Class (2011)"
          ],
          [
           "Rat Race (2001)"
          ],
          [
           "Galaxy Quest (1999)"
          ],
          [
           "Terminator 2: Judgment Day (1991)"
          ],
          [
           "Dracula (Bram Stoker's Dracula) (1992)"
          ],
          [
           "Gattaca (1997)"
          ],
          [
           "Princess Bride, The (1987)"
          ],
          [
           "Crash (2004)"
          ],
          [
           "Forrest Gump (1994)"
          ],
          [
           "Waterworld (1995)"
          ],
          [
           "Bend of the River (1952)"
          ],
          [
           "Another Year (2010)"
          ],
          [
           "Take the Money and Run (1969)"
          ],
          [
           "Braveheart (1995)"
          ],
          [
           "Psycho (1960)"
          ],
          [
           "Legally Blonde (2001)"
          ],
          [
           "Star Wars: Episode V - The Empire Strikes Back (1980)"
          ],
          [
           "Koyaanisqatsi (a.k.a. Koyaanisqatsi: Life Out of Balance) (1983)"
          ],
          [
           "Dancer in the Dark (2000)"
          ],
          [
           "Casablanca (1942)"
          ],
          [
           "Radio (2003)"
          ],
          [
           "WALL·E (2008)"
          ],
          [
           "Blade (1998)"
          ],
          [
           "Time to Kill, A (1996)"
          ],
          [
           "Basketball Diaries, The (1995)"
          ],
          [
           "Adaptation (2002)"
          ],
          [
           "Monty Python's Life of Brian (1979)"
          ],
          [
           "Into the Wild (2007)"
          ],
          [
           "Pulp Fiction (1994)"
          ],
          [
           "Girl, Interrupted (1999)"
          ],
          [
           "Crow: City of Angels, The (1996)"
          ],
          [
           "What Planet Are You From? (2000)"
          ],
          [
           "Love Letter, The (1999)"
          ],
          [
           "Jean de Florette (1986)"
          ],
          [
           "Liar Liar (1997)"
          ],
          [
           "Charlie and the Chocolate Factory (2005)"
          ],
          [
           "Robin Hood: Men in Tights (1993)"
          ],
          [
           "Ridicule (1996)"
          ],
          [
           "Devil's Advocate, The (1997)"
          ],
          [
           "Van Helsing (2004)"
          ],
          [
           "Heat (1995)"
          ],
          [
           "Interview with the Vampire: The Vampire Chronicles (1994)"
          ],
          [
           "Fahrenheit 9/11 (2004)"
          ],
          [
           "Dirty Harry (1971)"
          ],
          [
           "Breakfast Club, The (1985)"
          ],
          [
           "Lost in Space (1998)"
          ],
          [
           "Out of Africa (1985)"
          ],
          [
           "Deconstructing Harry (1997)"
          ],
          [
           "City of Lost Children, The (Cité des enfants perdus, La) (1995)"
          ],
          [
           "Lair of the White Worm, The (1988)"
          ],
          [
           "Mulholland Drive (2001)"
          ],
          [
           "Little Shop of Horrors (1986)"
          ],
          [
           "Kick-Ass (2010)"
          ],
          [
           "Little Mermaid, The (1989)"
          ],
          [
           "Disclosure (1994)"
          ],
          [
           "Desperately Seeking Susan (1985)"
          ],
          [
           "Girl Who Leapt Through Time, The (Toki o kakeru shôjo) (2006)"
          ],
          [
           "Muriel's Wedding (1994)"
          ],
          [
           "Another Stakeout (1993)"
          ],
          [
           "Dog Day Afternoon (1975)"
          ],
          [
           "Young Guns (1988)"
          ],
          [
           "Amadeus (1984)"
          ],
          [
           "Rosencrantz and Guildenstern Are Dead (1990)"
          ],
          [
           "Shanghai Noon (2000)"
          ],
          [
           "The Count of Monte Cristo (2002)"
          ],
          [
           "Trainspotting (1996)"
          ],
          [
           "Die Another Day (2002)"
          ],
          [
           "20,000 Leagues Under the Sea (1954)"
          ],
          [
           "Grumpy Old Men (1993)"
          ],
          [
           "Indiana Jones and the Last Crusade (1989)"
          ],
          [
           "Secrets & Lies (1996)"
          ],
          [
           "Starman (1984)"
          ],
          [
           "Nicholas Nickleby (2002)"
          ],
          [
           "Rudy (1993)"
          ],
          [
           "Billy Liar (1963)"
          ],
          [
           "Star Trek V: The Final Frontier (1989)"
          ],
          [
           "Crying Game, The (1992)"
          ],
          [
           "Hotel (2001)"
          ],
          [
           "Matrix Reloaded, The (2003)"
          ],
          [
           "Dirty Rotten Scoundrels (1988)"
          ],
          [
           "Wallace & Gromit: The Best of Aardman Animation (1996)"
          ],
          [
           "Dances with Wolves (1990)"
          ],
          [
           "Risky Business (1983)"
          ],
          [
           "O Brother, Where Art Thou? (2000)"
          ],
          [
           "Silence of the Lambs, The (1991)"
          ],
          [
           "Rocky Horror Picture Show, The (1975)"
          ],
          [
           "Night at the Roxbury, A (1998)"
          ],
          [
           "What's Eating Gilbert Grape (1993)"
          ],
          [
           "Benny & Joon (1993)"
          ],
          [
           "Office Space (1999)"
          ],
          [
           "Running Man, The (1987)"
          ],
          [
           "Shrek (2001)"
          ],
          [
           "Doctor Dolittle (1967)"
          ],
          [
           "Saturday Night Fever (1977)"
          ],
          [
           "Munich (2005)"
          ],
          [
           "Office Space (1999)"
          ],
          [
           "Spider-Man (2002)"
          ],
          [
           "Laura (1944)"
          ],
          [
           "Social Network, The (2010)"
          ],
          [
           "Beauty and the Beast (1991)"
          ],
          [
           "Mask of Zorro, The (1998)"
          ],
          [
           "Road to Bali (1952)"
          ],
          [
           "Jazz Singer, The (1980)"
          ],
          [
           "Matrix Reloaded, The (2003)"
          ],
          [
           "Harold and Maude (1971)"
          ],
          [
           "Star Trek III: The Search for Spock (1984)"
          ],
          [
           "Exit Wounds (2001)"
          ],
          [
           "Star Trek II: The Wrath of Khan (1982)"
          ],
          [
           "Terminator, The (1984)"
          ],
          [
           "Total Recall (1990)"
          ],
          [
           "Wanted (2008)"
          ],
          [
           "3:10 to Yuma (2007)"
          ],
          [
           "Married to the Mob (1988)"
          ],
          [
           "Million Dollar Baby (2004)"
          ],
          [
           "Ring, The (2002)"
          ],
          [
           "Jurassic Park III (2001)"
          ],
          [
           "Ready to Wear (Pret-A-Porter) (1994)"
          ],
          [
           "Blues Brothers 2000 (1998)"
          ],
          [
           "American History X (1998)"
          ],
          [
           "Polar Express, The (2004)"
          ],
          [
           "Touch of Evil (1958)"
          ],
          [
           "Joe Versus the Volcano (1990)"
          ],
          [
           "Local Hero (1983)"
          ],
          [
           "Planes, Trains & Automobiles (1987)"
          ],
          [
           "Untouchables, The (1987)"
          ],
          [
           "Seven Samurai (Shichinin no samurai) (1954)"
          ],
          [
           "Muppets From Space (1999)"
          ],
          [
           "For a Few Dollars More (Per qualche dollaro in più) (1965)"
          ],
          [
           "Citizen Toxie: The Toxic Avenger IV (2000)"
          ],
          [
           "Private Benjamin (1980)"
          ],
          [
           "Great Santini, The (1979)"
          ],
          [
           "Enigma (2001)"
          ],
          [
           "Mad Love (1995)"
          ],
          [
           "E.T. the Extra-Terrestrial (1982)"
          ],
          [
           "Jungle Book, The (1967)"
          ],
          [
           "English Patient, The (1996)"
          ],
          [
           "Sorry, Wrong Number (1948)"
          ],
          [
           "Captain America: The First Avenger (2011)"
          ],
          [
           "Minority Report (2002)"
          ],
          [
           "Ace Ventura: When Nature Calls (1995)"
          ],
          [
           "Mission: Impossible (1996)"
          ],
          [
           "Wonder Boys (2000)"
          ],
          [
           "Ratatouille (2007)"
          ],
          [
           "Three Kings (1999)"
          ],
          [
           "Big (1988)"
          ],
          [
           "Exorcist, The (1973)"
          ],
          [
           "Dunston Checks In (1996)"
          ],
          [
           "Election (1999)"
          ],
          [
           "School of Rock (2003)"
          ],
          [
           "Bad Santa (2003)"
          ],
          [
           "Plan 9 from Outer Space (1959)"
          ],
          [
           "21 (2008)"
          ],
          [
           "Serenity (2005)"
          ],
          [
           "Tinker, Tailor, Soldier, Spy (1979)"
          ],
          [
           "Bug's Life, A (1998)"
          ],
          [
           "Wizard of Oz, The (1939)"
          ],
          [
           "Gremlins 2: The New Batch (1990)"
          ],
          [
           "Butch Cassidy and the Sundance Kid (1969)"
          ],
          [
           "Johnny Mnemonic (1995)"
          ],
          [
           "Stargate (1994)"
          ],
          [
           "One Flew Over the Cuckoo's Nest (1975)"
          ],
          [
           "Dirty Dozen, The (1967)"
          ],
          [
           "Indochine (1992)"
          ],
          [
           "Thelma & Louise (1991)"
          ],
          [
           "Top Secret! (1984)"
          ],
          [
           "Picnic at Hanging Rock (1975)"
          ],
          [
           "Godfather: Part II, The (1974)"
          ],
          [
           "Gladiator (2000)"
          ],
          [
           "Juno (2007)"
          ],
          [
           "Sabrina (1995)"
          ],
          [
           "Dead Poets Society (1989)"
          ],
          [
           "Sixth Sense, The (1999)"
          ],
          [
           "Star Trek: Nemesis (2002)"
          ],
          [
           "Near Dark (1987)"
          ],
          [
           "Cinema Paradiso (Nuovo cinema Paradiso) (1989)"
          ],
          [
           "Who's Harry Crumb? (1989)"
          ],
          [
           "Remains of the Day, The (1993)"
          ],
          [
           "GoldenEye (1995)"
          ],
          [
           "Tank Girl (1995)"
          ],
          [
           "Ghost (1990)"
          ],
          [
           "Raiders of the Lost Ark (Indiana Jones and the Raiders of the Lost Ark) (1981)"
          ],
          [
           "Swingers (1996)"
          ],
          [
           "Children of Heaven, The (Bacheha-Ye Aseman) (1997)"
          ],
          [
           "Doctor Zhivago (1965)"
          ],
          [
           "Tootsie (1982)"
          ],
          [
           "Charlie and the Chocolate Factory (2005)"
          ],
          [
           "Five Easy Pieces (1970)"
          ],
          [
           "Beauty and the Beast (1991)"
          ],
          [
           "Police Academy (1984)"
          ],
          [
           "Elephant (2003)"
          ],
          [
           "Battleship Potemkin (1925)"
          ],
          [
           "Hot Chick, The (2002)"
          ],
          [
           "Ace Ventura: Pet Detective (1994)"
          ],
          [
           "Snatch (2000)"
          ],
          [
           "English Patient, The (1996)"
          ],
          [
           "Ever After: A Cinderella Story (1998)"
          ],
          [
           "Shawshank Redemption, The (1994)"
          ],
          [
           "Ant Bully, The (2006)"
          ],
          [
           "Secondhand Lions (2003)"
          ],
          [
           "Harvey (1950)"
          ],
          [
           "Matrix Reloaded, The (2003)"
          ],
          [
           "Nightmare on Elm Street 2: Freddy's Revenge, A (1985)"
          ],
          [
           "Austin Powers: International Man of Mystery (1997)"
          ],
          [
           "Shaun of the Dead (2004)"
          ],
          [
           "V for Vendetta (2006)"
          ],
          [
           "Graduate, The (1967)"
          ],
          [
           "Celebration, The (Festen) (1998)"
          ],
          [
           "Road to Perdition (2002)"
          ],
          [
           "Casablanca (1942)"
          ],
          [
           "Antz (1998)"
          ],
          [
           "Wallace & Gromit: The Best of Aardman Animation (1996)"
          ],
          [
           "Spider-Man (2002)"
          ],
          [
           "Boot, Das (Boat, The) (1981)"
          ],
          [
           "Payback (1999)"
          ],
          [
           "Lock, Stock & Two Smoking Barrels (1998)"
          ],
          [
           "Big Lebowski, The (1998)"
          ],
          [
           "X-Files: Fight the Future, The (1998)"
          ],
          [
           "Titanic (1997)"
          ],
          [
           "Men in Black (a.k.a. MIB) (1997)"
          ],
          [
           "Departed, The (2006)"
          ],
          [
           "Great Escape, The (1963)"
          ],
          [
           "Goodfellas (1990)"
          ],
          [
           "Vertical Limit (2000)"
          ],
          [
           "Gods Must Be Crazy II, The (1989)"
          ],
          [
           "Midnight Cowboy (1969)"
          ],
          [
           "Remember the Titans (2000)"
          ],
          [
           "Stir of Echoes (1999)"
          ],
          [
           "Pirates of the Caribbean: The Curse of the Black Pearl (2003)"
          ],
          [
           "Nightmare Before Christmas, The (1993)"
          ],
          [
           "Licence to Kill (1989)"
          ],
          [
           "Three Musketeers, The (1993)"
          ],
          [
           "Armageddon (1998)"
          ],
          [
           "Rain Man (1988)"
          ],
          [
           "Toy Story 2 (1999)"
          ],
          [
           "Young Sherlock Holmes (1985)"
          ],
          [
           "French Kiss (1995)"
          ],
          [
           "To Sir with Love (1967)"
          ],
          [
           "Groundhog Day (1993)"
          ],
          [
           "Rosemary's Baby (1968)"
          ],
          [
           "Borat: Cultural Learnings of America for Make Benefit Glorious Nation of Kazakhstan (2006)"
          ],
          [
           "Goodfellas (1990)"
          ],
          [
           "Demolition Man (1993)"
          ],
          [
           "Christmas Carol, A (Scrooge) (1951)"
          ],
          [
           "American Beauty (1999)"
          ],
          [
           "Abyss, The (1989)"
          ],
          [
           "Kingsman: The Secret Service (2015)"
          ],
          [
           "American Pie (1999)"
          ],
          [
           "Player, The (1992)"
          ],
          [
           "Rear Window (1954)"
          ],
          [
           "Rundown, The (2003)"
          ],
          [
           "Fast and the Furious, The (2001)"
          ],
          [
           "Aladdin (1992)"
          ],
          [
           "Hero (Ying xiong) (2002)"
          ],
          [
           "Queen of the Damned (2002)"
          ],
          [
           "Scream (1996)"
          ],
          [
           "Misérables, Les (1995)"
          ],
          [
           "Back to the Future (1985)"
          ],
          [
           "Godfather, The (1972)"
          ],
          [
           "Happening, The (2008)"
          ],
          [
           "Natural Born Killers (1994)"
          ],
          [
           "Mission: Impossible II (2000)"
          ],
          [
           "Proof of Life (2000)"
          ],
          [
           "Stand by Me (1986)"
          ],
          [
           "Manhattan Murder Mystery (1993)"
          ],
          [
           "Reconstruction (2003)"
          ],
          [
           "Beethoven (1992)"
          ],
          [
           "Bull Durham (1988)"
          ],
          [
           "Juror, The (1996)"
          ],
          [
           "Bottle Rocket (1996)"
          ],
          [
           "Field of Dreams (1989)"
          ],
          [
           "Lord of the Rings: The Two Towers, The (2002)"
          ],
          [
           "Spider-Man (2002)"
          ],
          [
           "Cool Hand Luke (1967)"
          ],
          [
           "Cliffhanger (1993)"
          ],
          [
           "Pineapple Express (2008)"
          ],
          [
           "Little Mermaid, The (1989)"
          ],
          [
           "Tomorrow Never Dies (1997)"
          ],
          [
           "Pretty Woman (1990)"
          ],
          [
           "Saving Private Ryan (1998)"
          ],
          [
           "Star Trek: Generations (1994)"
          ],
          [
           "Santa Clause, The (1994)"
          ],
          [
           "Saving Private Ryan (1998)"
          ],
          [
           "Conquest of the Planet of the Apes (1972)"
          ],
          [
           "Mean Machine (2001)"
          ],
          [
           "Conversation, The (1974)"
          ],
          [
           "Terminator 2: Judgment Day (1991)"
          ],
          [
           "Solomon Kane (2009)"
          ],
          [
           "Emperor's New Groove, The (2000)"
          ],
          [
           "Dune (1984)"
          ],
          [
           "Eraser (1996)"
          ],
          [
           "Clue (1985)"
          ],
          [
           "Moscow Does Not Believe in Tears (Moskva slezam ne verit) (1979)"
          ],
          [
           "Willy Wonka & the Chocolate Factory (1971)"
          ],
          [
           "Sin City (2005)"
          ],
          [
           "Legion (2010)"
          ],
          [
           "Manhattan (1979)"
          ],
          [
           "Kill Bill: Vol. 2 (2004)"
          ],
          [
           "Beautiful Mind, A (2001)"
          ],
          [
           "Center of the World, The (2001)"
          ],
          [
           "Four Weddings and a Funeral (1994)"
          ],
          [
           "Seven (a.k.a. Se7en) (1995)"
          ],
          [
           "Raising Arizona (1987)"
          ],
          [
           "When Harry Met Sally... (1989)"
          ],
          [
           "Bridge on the River Kwai, The (1957)"
          ],
          [
           "Catch Me If You Can (2002)"
          ],
          [
           "Young Guns II (1990)"
          ],
          [
           "Apocalypse Now (1979)"
          ],
          [
           "Reign of Fire (2002)"
          ],
          [
           "Birds, The (1963)"
          ],
          [
           "Agora (2009)"
          ],
          [
           "Secret Life of Walter Mitty, The (2013)"
          ],
          [
           "Road to Wellville, The (1994)"
          ],
          [
           "Ace Ventura: Pet Detective (1994)"
          ],
          [
           "17 Again (2009)"
          ],
          [
           "Indiana Jones and the Temple of Doom (1984)"
          ],
          [
           "Lethal Weapon 2 (1989)"
          ],
          [
           "Cannonball Run, The (1981)"
          ],
          [
           "Better Off Dead... (1985)"
          ],
          [
           "Capturing the Friedmans (2003)"
          ],
          [
           "Wedding Singer, The (1998)"
          ],
          [
           "Losing Isaiah (1995)"
          ],
          [
           "Treasure Planet (2002)"
          ],
          [
           "Old Boy (2003)"
          ],
          [
           "Juno (2007)"
          ],
          [
           "How to Train Your Dragon (2010)"
          ],
          [
           "Ghostbusters (a.k.a. Ghost Busters) (1984)"
          ],
          [
           "Apollo 13 (1995)"
          ],
          [
           "About Time (2013)"
          ],
          [
           "People vs. Larry Flynt, The (1996)"
          ],
          [
           "Léon: The Professional (a.k.a. The Professional) (Léon) (1994)"
          ],
          [
           "Breakfast at Tiffany's (1961)"
          ],
          [
           "Wild Wild West (1999)"
          ],
          [
           "Batman Forever (1995)"
          ],
          [
           "Jackie Brown (1997)"
          ],
          [
           "Naked Gun 33 1/3: The Final Insult (1994)"
          ],
          [
           "EuroTrip (2004)"
          ],
          [
           "Ace Ventura: Pet Detective (1994)"
          ],
          [
           "Inherit the Wind (1960)"
          ],
          [
           "Eraser (1996)"
          ],
          [
           "Captain America: The Winter Soldier (2014)"
          ],
          [
           "Predator (1987)"
          ],
          [
           "Marty (1955)"
          ],
          [
           "Speechless (1994)"
          ],
          [
           "Star Wars: Episode II - Attack of the Clones (2002)"
          ],
          [
           "Samurai II: Duel at Ichijoji Temple (Zoku Miyamoto Musashi: Ichijôji no kettô) (1955)"
          ],
          [
           "European Vacation (aka National Lampoon's European Vacation) (1985)"
          ],
          [
           "Finding Nemo (2003)"
          ],
          [
           "Inglourious Basterds (2009)"
          ],
          [
           "Fargo (1996)"
          ],
          [
           "Prince of Tides, The (1991)"
          ],
          [
           "Alice in Wonderland (1951)"
          ],
          [
           "How to Lose a Guy in 10 Days (2003)"
          ],
          [
           "True Lies (1994)"
          ],
          [
           "Newton Boys, The (1998)"
          ],
          [
           "Sgt. Bilko (1996)"
          ],
          [
           "Rudy (1993)"
          ],
          [
           "Garden State (2004)"
          ],
          [
           "Net, The (1995)"
          ],
          [
           "Munich (2005)"
          ],
          [
           "Lion King, The (1994)"
          ],
          [
           "Naked Gun 33 1/3: The Final Insult (1994)"
          ],
          [
           "Final Destination (2000)"
          ],
          [
           "Boondock Saints, The (2000)"
          ],
          [
           "American President, The (1995)"
          ],
          [
           "Outrage (Autoreiji) (2010)"
          ],
          [
           "Seventh Sign, The (1988)"
          ],
          [
           "Quiz Show (1994)"
          ],
          [
           "Color of Money, The (1986)"
          ],
          [
           "Old Yeller (1957)"
          ],
          [
           "Dreamscape (1984)"
          ],
          [
           "To Die For (1995)"
          ],
          [
           "Wings of Desire (Himmel über Berlin, Der) (1987)"
          ],
          [
           "Gremlins (1984)"
          ],
          [
           "Green Mile, The (1999)"
          ],
          [
           "Westworld (1973)"
          ],
          [
           "Men in Black II (a.k.a. MIIB) (a.k.a. MIB 2) (2002)"
          ],
          [
           "Sneakers (1992)"
          ],
          [
           "Dark Crystal, The (1982)"
          ],
          [
           "Diamonds Are Forever (1971)"
          ],
          [
           "Rush (1991)"
          ],
          [
           "Good, the Bad, the Weird, The (Joheunnom nabbeunnom isanghannom) (2008)"
          ],
          [
           "Sweeney Todd: The Demon Barber of Fleet Street (2007)"
          ],
          [
           "Class of 1984 (1982)"
          ],
          [
           "Terminator, The (1984)"
          ],
          [
           "Detroit Rock City (1999)"
          ],
          [
           "Happiest Millionaire, The (1967)"
          ],
          [
           "A.I. Artificial Intelligence (2001)"
          ],
          [
           "Snow White and the Seven Dwarfs (1937)"
          ],
          [
           "Inside Man (2006)"
          ],
          [
           "Dog Day Afternoon (1975)"
          ],
          [
           "Boys Don't Cry (1999)"
          ],
          [
           "Brazil (1985)"
          ],
          [
           "Beetlejuice (1988)"
          ],
          [
           "Free Willy 2: The Adventure Home (1995)"
          ],
          [
           "Cable Guy, The (1996)"
          ],
          [
           "Scrooged (1988)"
          ],
          [
           "That Thing You Do! (1996)"
          ],
          [
           "Adaptation (2002)"
          ],
          [
           "Gone with the Wind (1939)"
          ],
          [
           "Watership Down (1978)"
          ],
          [
           "Rock, The (1996)"
          ],
          [
           "Daria: Is It College Yet? (2002)"
          ],
          [
           "Ratatouille (2007)"
          ],
          [
           "Austin Powers: The Spy Who Shagged Me (1999)"
          ],
          [
           "Bull Durham (1988)"
          ],
          [
           "Breakfast at Tiffany's (1961)"
          ],
          [
           "Training Day (2001)"
          ],
          [
           "Girl, Interrupted (1999)"
          ],
          [
           "Ransom (1996)"
          ],
          [
           "Pitch Black (2000)"
          ],
          [
           "Secretary (2002)"
          ],
          [
           "Craft, The (1996)"
          ],
          [
           "Lara Croft: Tomb Raider (2001)"
          ],
          [
           "While You Were Sleeping (1995)"
          ],
          [
           "Opposite of Sex, The (1998)"
          ],
          [
           "Wayne's World 2 (1993)"
          ],
          [
           "Beetlejuice (1988)"
          ],
          [
           "Double Jeopardy (1999)"
          ],
          [
           "Talk Radio (1988)"
          ],
          [
           "10,000 BC (2008)"
          ],
          [
           "Monty Python's Life of Brian (1979)"
          ],
          [
           "Lost in Translation (2003)"
          ],
          [
           "Fish Called Wanda, A (1988)"
          ],
          [
           "Immortal Beloved (1994)"
          ],
          [
           "Substitute, The (1996)"
          ],
          [
           "Stargate (1994)"
          ],
          [
           "Stranger than Fiction (2006)"
          ],
          [
           "To Die For (1995)"
          ],
          [
           "Bruce Almighty (2003)"
          ],
          [
           "Traffic (2000)"
          ],
          [
           "Patton (1970)"
          ],
          [
           "Girl with a Pearl Earring (2003)"
          ],
          [
           "Apocalypse Now (1979)"
          ],
          [
           "Dark Knight, The (2008)"
          ],
          [
           "Teenage Mutant Ninja Turtles II: The Secret of the Ooze (1991)"
          ],
          [
           "Thirty-Two Short Films About Glenn Gould (1993)"
          ],
          [
           "Look Who's Talking (1989)"
          ],
          [
           "Men in Black (a.k.a. MIB) (1997)"
          ],
          [
           "Bug's Life, A (1998)"
          ],
          [
           "GoldenEye (1995)"
          ],
          [
           "Matilda (1996)"
          ],
          [
           "20,000 Leagues Under the Sea (1954)"
          ],
          [
           "Fatal Attraction (1987)"
          ],
          [
           "Toy Story (1995)"
          ],
          [
           "Pee-wee's Big Adventure (1985)"
          ],
          [
           "City of God (Cidade de Deus) (2002)"
          ],
          [
           "Natural, The (1984)"
          ],
          [
           "Who Framed Roger Rabbit? (1988)"
          ],
          [
           "Fugitive, The (1993)"
          ],
          [
           "American Beauty (1999)"
          ],
          [
           "Chronicles of Narnia: The Lion, the Witch and the Wardrobe, The (2005)"
          ],
          [
           "Pirates of the Caribbean: Dead Man's Chest (2006)"
          ],
          [
           "Tin Cup (1996)"
          ],
          [
           "¡Three Amigos! (1986)"
          ],
          [
           "Beautiful Mind, A (2001)"
          ],
          [
           "Stripes (1981)"
          ],
          [
           "Lord of the Rings: The Return of the King, The (2003)"
          ],
          [
           "Princess Diaries 2: Royal Engagement, The (2004)"
          ],
          [
           "Simpsons Movie, The (2007)"
          ],
          [
           "Truth About Cats & Dogs, The (1996)"
          ],
          [
           "Bedroom Window, The (1987)"
          ],
          [
           "Akira (1988)"
          ],
          [
           "Dumbo (1941)"
          ],
          [
           "Man on the Moon (1999)"
          ],
          [
           "Rebecca (1940)"
          ],
          [
           "Rear Window (1954)"
          ],
          [
           "Pledge, The (2001)"
          ],
          [
           "Iron Giant, The (1999)"
          ],
          [
           "Aladdin (1992)"
          ],
          [
           "Junior (1994)"
          ],
          [
           "Intact (Intacto) (2001)"
          ],
          [
           "There Will Be Blood (2007)"
          ],
          [
           "Batman (1989)"
          ],
          [
           "My Date with Drew (2004)"
          ],
          [
           "Yossi & Jagger (2002)"
          ],
          [
           "Cable Guy, The (1996)"
          ],
          [
           "Taken (2008)"
          ],
          [
           "Maverick (1994)"
          ],
          [
           "Women on the Verge of a Nervous Breakdown (Mujeres al borde de un ataque de nervios) (1988)"
          ],
          [
           "Madeline (1998)"
          ],
          [
           "Jewel of the Nile, The (1985)"
          ],
          [
           "X-Men: The Last Stand (2006)"
          ],
          [
           "Four Rooms (1995)"
          ],
          [
           "Antz (1998)"
          ],
          [
           "Cold in July (2014)"
          ],
          [
           "Serpico (1973)"
          ],
          [
           "Saint, The (1997)"
          ],
          [
           "Hot Rod (2007)"
          ],
          [
           "Faculty, The (1998)"
          ],
          [
           "Spy Game (2001)"
          ],
          [
           "Sea Inside, The (Mar adentro) (2004)"
          ],
          [
           "Roger & Me (1989)"
          ],
          [
           "Girl Next Door, The (2004)"
          ],
          [
           "March of the Penguins (Marche de l'empereur, La) (2005)"
          ],
          [
           "Dog's Life, A (1918)"
          ],
          [
           "Bachelor, The (1999)"
          ],
          [
           "Being John Malkovich (1999)"
          ],
          [
           "Hunt for Red October, The (1990)"
          ],
          [
           "Prizzi's Honor (1985)"
          ],
          [
           "Haunted World of Edward D. Wood Jr., The (1996)"
          ],
          [
           "Cast Away (2000)"
          ],
          [
           "Toy Story (1995)"
          ],
          [
           "Grifters, The (1990)"
          ],
          [
           "School of Rock (2003)"
          ],
          [
           "Mallrats (1995)"
          ],
          [
           "Vampire Hunter D: Bloodlust (Banpaia hantâ D) (2000)"
          ],
          [
           "Boys on the Side (1995)"
          ],
          [
           "She's Gotta Have It (1986)"
          ],
          [
           "True Lies (1994)"
          ],
          [
           "Big (1988)"
          ],
          [
           "Peeping Tom (1960)"
          ],
          [
           "Mr. Blandings Builds His Dream House (1948)"
          ],
          [
           "Good Will Hunting (1997)"
          ],
          [
           "Ghostbusters (a.k.a. Ghost Busters) (1984)"
          ],
          [
           "Fletch (1985)"
          ],
          [
           "Dances with Wolves (1990)"
          ],
          [
           "As Good as It Gets (1997)"
          ],
          [
           "Limitless (2011)"
          ],
          [
           "Lars and the Real Girl (2007)"
          ],
          [
           "Primal Fear (1996)"
          ],
          [
           "Batman (1989)"
          ],
          [
           "Close Encounters of the Third Kind (1977)"
          ],
          [
           "Mulholland Falls (1996)"
          ],
          [
           "View to a Kill, A (1985)"
          ],
          [
           "American History X (1998)"
          ],
          [
           "Gettysburg (1993)"
          ],
          [
           "Darkness (2002)"
          ],
          [
           "Beauty and the Beast (1991)"
          ],
          [
           "Toy Soldiers (1991)"
          ],
          [
           "Prometheus (2012)"
          ],
          [
           "Congo (1995)"
          ],
          [
           "Dances with Wolves (1990)"
          ],
          [
           "Sliding Doors (1998)"
          ],
          [
           "Wedding Date, The (2005)"
          ],
          [
           "Shrek (2001)"
          ],
          [
           "Bill & Ted's Excellent Adventure (1989)"
          ],
          [
           "Trading Places (1983)"
          ],
          [
           "Last Action Hero (1993)"
          ],
          [
           "Shining, The (1980)"
          ],
          [
           "River Wild, The (1994)"
          ],
          [
           "My Best Friend's Wedding (1997)"
          ],
          [
           "Double Jeopardy (1999)"
          ],
          [
           "L.A. Confidential (1997)"
          ],
          [
           "Scream (1996)"
          ],
          [
           "Wild Things (1998)"
          ],
          [
           "Star Wars: Episode V - The Empire Strikes Back (1980)"
          ],
          [
           "Zoolander (2001)"
          ],
          [
           "Sabrina (1954)"
          ],
          [
           "Wallace & Gromit: The Wrong Trousers (1993)"
          ],
          [
           "Stardust Memories (1980)"
          ],
          [
           "Modern Times (1936)"
          ],
          [
           "X-Files: Fight the Future, The (1998)"
          ],
          [
           "Boogie Nights (1997)"
          ],
          [
           "Full Monty, The (1997)"
          ],
          [
           "Philadelphia (1993)"
          ],
          [
           "Fish Called Wanda, A (1988)"
          ],
          [
           "Night of the Living Dead (1968)"
          ],
          [
           "Silence of the Lambs, The (1991)"
          ],
          [
           "Blade Runner (1982)"
          ],
          [
           "Rear Window (1954)"
          ],
          [
           "Targets (1968)"
          ],
          [
           "Beautiful Mind, A (2001)"
          ],
          [
           "Oh, God! (1977)"
          ],
          [
           "Hidalgo (2004)"
          ],
          [
           "Austin Powers: International Man of Mystery (1997)"
          ],
          [
           "Red Violin, The (Violon rouge, Le) (1998)"
          ],
          [
           "Twelve Monkeys (a.k.a. 12 Monkeys) (1995)"
          ],
          [
           "Hostel (2005)"
          ],
          [
           "Jumanji (1995)"
          ],
          [
           "Conspiracy Theory (1997)"
          ],
          [
           "Speed (1994)"
          ],
          [
           "X-Men: Days of Future Past (2014)"
          ],
          [
           "Predator (1987)"
          ],
          [
           "Boys Don't Cry (1999)"
          ],
          [
           "Star Trek II: The Wrath of Khan (1982)"
          ],
          [
           "AVP: Alien vs. Predator (2004)"
          ],
          [
           "Ninotchka (1939)"
          ],
          [
           "Saw (2004)"
          ],
          [
           "Prizzi's Honor (1985)"
          ],
          [
           "Shrek 2 (2004)"
          ],
          [
           "Jumanji (1995)"
          ],
          [
           "Signs (2002)"
          ],
          [
           "From Dusk Till Dawn (1996)"
          ],
          [
           "Everything Is Illuminated (2005)"
          ],
          [
           "Casino (1995)"
          ],
          [
           "Herbie Goes Bananas (1980)"
          ],
          [
           "Iron Giant, The (1999)"
          ],
          [
           "Max Dugan Returns (1983)"
          ],
          [
           "Cliffhanger (1993)"
          ],
          [
           "Spider-Man (2002)"
          ],
          [
           "Children of the Corn IV: The Gathering (1996)"
          ],
          [
           "Dogs of War, The (1980)"
          ],
          [
           "Philadelphia (1993)"
          ],
          [
           "Artist, The (2011)"
          ],
          [
           "As Good as It Gets (1997)"
          ],
          [
           "Some Folks Call It a Sling Blade (1993)"
          ],
          [
           "Coneheads (1993)"
          ],
          [
           "Angel Heart (1987)"
          ],
          [
           "Goofy Movie, A (1995)"
          ],
          [
           "Legend of Drunken Master, The (Jui kuen II) (1994)"
          ],
          [
           "Twister (1996)"
          ],
          [
           "Hanna (2011)"
          ],
          [
           "National Treasure: Book of Secrets (2007)"
          ],
          [
           "Mrs. Doubtfire (1993)"
          ],
          [
           "Star Wars: Episode II - Attack of the Clones (2002)"
          ],
          [
           "Fifth Element, The (1997)"
          ],
          [
           "Freaky Friday (1977)"
          ],
          [
           "Erin Brockovich (2000)"
          ],
          [
           "Mission: Impossible (1996)"
          ],
          [
           "Babe (1995)"
          ],
          [
           "Shallow Grave (1994)"
          ],
          [
           "Wild Geese, The (1978)"
          ],
          [
           "NeverEnding Story, The (1984)"
          ],
          [
           "Fifth Element, The (1997)"
          ],
          [
           "Pretty Woman (1990)"
          ],
          [
           "One Hour Photo (2002)"
          ],
          [
           "Hole, The (2001)"
          ],
          [
           "Flesh and Bone (1993)"
          ],
          [
           "Dave (1993)"
          ],
          [
           "Runaway Bride (1999)"
          ],
          [
           "Age of Innocence, The (1993)"
          ],
          [
           "Training Day (2001)"
          ],
          [
           "Full Metal Jacket (1987)"
          ],
          [
           "Braveheart (1995)"
          ],
          [
           "Clueless (1995)"
          ],
          [
           "Amistad (1997)"
          ],
          [
           "Monty Python and the Holy Grail (1975)"
          ],
          [
           "Revenge of the Nerds II: Nerds in Paradise (1987)"
          ],
          [
           "Raiders of the Lost Ark (Indiana Jones and the Raiders of the Lost Ark) (1981)"
          ],
          [
           "Mulholland Falls (1996)"
          ],
          [
           "Crouching Tiger, Hidden Dragon (Wo hu cang long) (2000)"
          ],
          [
           "Hangover, The (2009)"
          ],
          [
           "Elf (2003)"
          ],
          [
           "All of Me (1984)"
          ],
          [
           "Batman Begins (2005)"
          ],
          [
           "Liar Liar (1997)"
          ],
          [
           "Partly Cloudy (2009)"
          ],
          [
           "Flintstones, The (1994)"
          ],
          [
           "Midnight in the Garden of Good and Evil (1997)"
          ],
          [
           "Heat (1995)"
          ],
          [
           "City Slickers II: The Legend of Curly's Gold (1994)"
          ],
          [
           "Talented Mr. Ripley, The (1999)"
          ],
          [
           "Corpse Bride (2005)"
          ],
          [
           "Blues Brothers, The (1980)"
          ],
          [
           "Goodfellas (1990)"
          ],
          [
           "Two if by Sea (1996)"
          ],
          [
           "Sirens (1994)"
          ],
          [
           "9 (2009)"
          ],
          [
           "Face/Off (1997)"
          ],
          [
           "Congo (1995)"
          ],
          [
           "Grizzly Man (2005)"
          ],
          [
           "Killing Fields, The (1984)"
          ],
          [
           "From Dusk Till Dawn (1996)"
          ],
          [
           "Near Dark (1987)"
          ],
          [
           "Goodfellas (1990)"
          ],
          [
           "Tombstone (1993)"
          ],
          [
           "Elizabeth (1998)"
          ],
          [
           "Rush Hour (1998)"
          ],
          [
           "Cape Fear (1991)"
          ],
          [
           "Eraser (1996)"
          ],
          [
           "13th Warrior, The (1999)"
          ],
          [
           "Fifth Element, The (1997)"
          ],
          [
           "Gandhi (1982)"
          ],
          [
           "Prairie Home Companion, A (2006)"
          ],
          [
           "Phantasm II (1988)"
          ],
          [
           "Monty Python's Life of Brian (1979)"
          ],
          [
           "Stepmom (1998)"
          ],
          [
           "Ace Ventura: When Nature Calls (1995)"
          ],
          [
           "Scanner Darkly, A (2006)"
          ],
          [
           "AVP: Alien vs. Predator (2004)"
          ],
          [
           "Alice in Wonderland (1951)"
          ],
          [
           "Warriors, The (1979)"
          ],
          [
           "Kill Bill: Vol. 1 (2003)"
          ],
          [
           "Howl's Moving Castle (Hauru no ugoku shiro) (2004)"
          ],
          [
           "Toy Story 2 (1999)"
          ],
          [
           "Miami Vice (2006)"
          ],
          [
           "Picnic (1955)"
          ],
          [
           "Godfather, The (1972)"
          ],
          [
           "As Good as It Gets (1997)"
          ],
          [
           "Dark Crystal, The (1982)"
          ],
          [
           "Cape Fear (1991)"
          ],
          [
           "Speed (1994)"
          ],
          [
           "Chronicles of Narnia: The Lion, the Witch and the Wardrobe, The (2005)"
          ],
          [
           "Waterworld (1995)"
          ],
          [
           "Shaun of the Dead (2004)"
          ],
          [
           "Jesus' Son (1999)"
          ],
          [
           "Heathers (1989)"
          ],
          [
           "Few Good Men, A (1992)"
          ],
          [
           "Blues Brothers, The (1980)"
          ],
          [
           "Matilda (1996)"
          ],
          [
           "Red Rock West (1992)"
          ],
          [
           "Golden Child, The (1986)"
          ],
          [
           "Aladdin and the King of Thieves (1996)"
          ],
          [
           "Get Him to the Greek (2010)"
          ],
          [
           "Superman II (1980)"
          ],
          [
           "Star Trek II: The Wrath of Khan (1982)"
          ],
          [
           "Fight Club (1999)"
          ],
          [
           "Conviction (2010)"
          ],
          [
           "Few Good Men, A (1992)"
          ],
          [
           "Buena Vista Social Club (1999)"
          ],
          [
           "Holes (2003)"
          ],
          [
           "Harry Potter and the Goblet of Fire (2005)"
          ],
          [
           "Donovan's Reef (1963)"
          ],
          [
           "Total Recall (1990)"
          ],
          [
           "Final Fantasy: The Spirits Within (2001)"
          ],
          [
           "Pretty Woman (1990)"
          ],
          [
           "Dumb & Dumber (Dumb and Dumber) (1994)"
          ],
          [
           "Million Dollar Baby (2004)"
          ],
          [
           "Indiana Jones and the Kingdom of the Crystal Skull (2008)"
          ],
          [
           "Groundhog Day (1993)"
          ],
          [
           "Harry Potter and the Order of the Phoenix (2007)"
          ],
          [
           "Paris Was a Woman (1995)"
          ],
          [
           "Constant Gardener, The (2005)"
          ],
          [
           "Ransom (1996)"
          ],
          [
           "Tropic Thunder (2008)"
          ],
          [
           "Somebody is Waiting (1996)"
          ],
          [
           "Edge, The (1997)"
          ],
          [
           "Hunchback of Notre Dame, The (1996)"
          ],
          [
           "English Patient, The (1996)"
          ],
          [
           "Zodiac (2007)"
          ],
          [
           "Ice Age (2002)"
          ],
          [
           "Beverly Hillbillies, The (1993)"
          ],
          [
           "Ace Ventura: Pet Detective (1994)"
          ],
          [
           "Jewel of the Nile, The (1985)"
          ],
          [
           "Ace Ventura: Pet Detective (1994)"
          ],
          [
           "Roger & Me (1989)"
          ],
          [
           "Like Mike (2002)"
          ],
          [
           "Being John Malkovich (1999)"
          ],
          [
           "True Lies (1994)"
          ],
          [
           "Eternal Sunshine of the Spotless Mind (2004)"
          ],
          [
           "Interview with the Vampire: The Vampire Chronicles (1994)"
          ],
          [
           "Net, The (1995)"
          ],
          [
           "Finding Nemo (2003)"
          ],
          [
           "Jurassic Park III (2001)"
          ],
          [
           "Tombstone (1993)"
          ],
          [
           "Ocean's Twelve (2004)"
          ],
          [
           "Kindergarten Cop (1990)"
          ],
          [
           "Day After Tomorrow, The (2004)"
          ],
          [
           "Unbreakable (2000)"
          ],
          [
           "Amityville: Dollhouse (1996)"
          ],
          [
           "Hannibal (2001)"
          ],
          [
           "Down by Law (1986)"
          ],
          [
           "Tootsie (1982)"
          ],
          [
           "Lake Placid (1999)"
          ],
          [
           "Match Point (2005)"
          ],
          [
           "Invasion of the Body Snatchers (1978)"
          ],
          [
           "Charlie and the Chocolate Factory (2005)"
          ],
          [
           "Fight Club (1999)"
          ],
          [
           "Wanderlust (2012)"
          ],
          [
           "Lion King, The (1994)"
          ],
          [
           "Taxi Driver (1976)"
          ],
          [
           "Fast and the Furious, The (2001)"
          ],
          [
           "Congo (1995)"
          ],
          [
           "Superman (1978)"
          ],
          [
           "Rush Hour (1998)"
          ],
          [
           "Delicatessen (1991)"
          ],
          [
           "Who'll Stop the Rain (1978)"
          ],
          [
           "Benny & Joon (1993)"
          ],
          [
           "Pirates of the Caribbean: The Curse of the Black Pearl (2003)"
          ],
          [
           "Longest Day, The (1962)"
          ],
          [
           "Austin Powers: International Man of Mystery (1997)"
          ],
          [
           "Jean de Florette (1986)"
          ],
          [
           "Heavy Metal (1981)"
          ],
          [
           "Adam's Apples (Adams æbler) (2005)"
          ],
          [
           "Memento (2000)"
          ],
          [
           "Blade (1998)"
          ],
          [
           "Terminator 2: Judgment Day (1991)"
          ],
          [
           "Anastasia (1997)"
          ],
          [
           "Mrs. Brown (a.k.a. Her Majesty, Mrs. Brown) (1997)"
          ],
          [
           "Brothers McMullen, The (1995)"
          ],
          [
           "Rocky V (1990)"
          ],
          [
           "Friends with Benefits (2011)"
          ],
          [
           "Indiana Jones and the Temple of Doom (1984)"
          ],
          [
           "Silence of the Lambs, The (1991)"
          ],
          [
           "Bruce Almighty (2003)"
          ],
          [
           "Michael Jackson's This Is It (2009)"
          ],
          [
           "Mask, The (1994)"
          ],
          [
           "Exotica (1994)"
          ],
          [
           "Beverly Hills Cop (1984)"
          ],
          [
           "Santa Clause, The (1994)"
          ],
          [
           "Others, The (2001)"
          ],
          [
           "Firestarter (1984)"
          ],
          [
           "Taxi Driver (1976)"
          ],
          [
           "Star Wars: Episode IV - A New Hope (1977)"
          ],
          [
           "Beavis and Butt-Head Do America (1996)"
          ],
          [
           "Election (1999)"
          ],
          [
           "Porky's (1982)"
          ],
          [
           "Doors, The (1991)"
          ],
          [
           "Ocean's Eleven (2001)"
          ],
          [
           "Raven, The (1963)"
          ],
          [
           "Blair Witch Project, The (1999)"
          ],
          [
           "Beverly Hills Cop III (1994)"
          ],
          [
           "Maltese Falcon, The (1941)"
          ],
          [
           "Die Hard: With a Vengeance (1995)"
          ],
          [
           "Toy Story 3 (2010)"
          ],
          [
           "American Heart (1992)"
          ],
          [
           "Mulholland Drive (2001)"
          ],
          [
           "Butch Cassidy and the Sundance Kid (1969)"
          ],
          [
           "Sleepy Hollow (1999)"
          ],
          [
           "Paper, The (1994)"
          ],
          [
           "Fast Times at Ridgemont High (1982)"
          ],
          [
           "Throne of Blood (Kumonosu jô) (1957)"
          ],
          [
           "Space Cowboys (2000)"
          ],
          [
           "Phenomenon (1996)"
          ],
          [
           "Down with Love (2003)"
          ],
          [
           "Blood Simple (1984)"
          ],
          [
           "Jewel of the Nile, The (1985)"
          ],
          [
           "Starship Troopers (1997)"
          ],
          [
           "Grand Day Out with Wallace and Gromit, A (1989)"
          ],
          [
           "It Could Happen to You (1994)"
          ],
          [
           "Chasing Amy (1997)"
          ],
          [
           "Night at the Museum (2006)"
          ],
          [
           "Much Ado About Nothing (1993)"
          ],
          [
           "Little Miss Sunshine (2006)"
          ],
          [
           "Don Juan DeMarco (1995)"
          ],
          [
           "Casino (1995)"
          ],
          [
           "Backdraft (1991)"
          ],
          [
           "Batman Forever (1995)"
          ],
          [
           "Bug's Life, A (1998)"
          ],
          [
           "Remains of the Day, The (1993)"
          ],
          [
           "Christmas Story, A (1983)"
          ],
          [
           "12 Angry Men (1957)"
          ],
          [
           "Apocalypse Now (1979)"
          ],
          [
           "Wrestler, The (2008)"
          ],
          [
           "Rescuers Down Under, The (1990)"
          ],
          [
           "Miss Congeniality (2000)"
          ],
          [
           "48 Hrs. (1982)"
          ],
          [
           "Snatch (2000)"
          ],
          [
           "Being John Malkovich (1999)"
          ],
          [
           "Adaptation (2002)"
          ],
          [
           "Arlington Road (1999)"
          ],
          [
           "Girl Who Played with Fire, The (Flickan som lekte med elden) (2009)"
          ],
          [
           "Heathers (1989)"
          ],
          [
           "Sixteen Candles (1984)"
          ],
          [
           "Old School (2003)"
          ],
          [
           "Dave (1993)"
          ],
          [
           "Pleasantville (1998)"
          ],
          [
           "Lethal Weapon (1987)"
          ],
          [
           "Clueless (1995)"
          ],
          [
           "Best in Show (2000)"
          ],
          [
           "Field of Dreams (1989)"
          ],
          [
           "Craft, The (1996)"
          ],
          [
           "Dead Man Walking (1995)"
          ],
          [
           "Ghostbusters (a.k.a. Ghost Busters) (1984)"
          ],
          [
           "Diamonds Are Forever (1971)"
          ],
          [
           "True Romance (1993)"
          ],
          [
           "Malice (1993)"
          ],
          [
           "Screamers: The Hunting (2009)"
          ],
          [
           "Spider Lilies (Ci qing) (2007)"
          ],
          [
           "American Outlaws (2001)"
          ],
          [
           "Crocodile Dundee (1986)"
          ],
          [
           "Terminator, The (1984)"
          ],
          [
           "Sin City (2005)"
          ],
          [
           "Dangerous Minds (1995)"
          ],
          [
           "Serenity (2005)"
          ],
          [
           "Old School (2003)"
          ],
          [
           "Seven (a.k.a. Se7en) (1995)"
          ],
          [
           "Boyz N the Hood (1991)"
          ],
          [
           "Young Guns II (1990)"
          ],
          [
           "There's Something About Mary (1998)"
          ],
          [
           "Hunchback of Notre Dame, The (1996)"
          ],
          [
           "Heathers (1989)"
          ],
          [
           "Parent Trap, The (1961)"
          ],
          [
           "Seven (a.k.a. Se7en) (1995)"
          ],
          [
           "Robin Hood: Prince of Thieves (1991)"
          ],
          [
           "Grapes of Wrath, The (1940)"
          ],
          [
           "Blood Diamond (2006)"
          ],
          [
           "Dead Poets Society (1989)"
          ],
          [
           "Apocalypse Now (1979)"
          ],
          [
           "Family Stone, The (2005)"
          ],
          [
           "Book of Eli, The (2010)"
          ],
          [
           "Passenger 57 (1992)"
          ],
          [
           "Mr. Holland's Opus (1995)"
          ],
          [
           "Amores Perros (Love's a Bitch) (2000)"
          ],
          [
           "Lost World: Jurassic Park, The (1997)"
          ],
          [
           "Grease (1978)"
          ],
          [
           "Star Wars: Episode I - The Phantom Menace (1999)"
          ],
          [
           "Akira Kurosawa's Dreams (Dreams) (1990)"
          ],
          [
           "Tron: Legacy (2010)"
          ],
          [
           "American Beauty (1999)"
          ],
          [
           "Sleepy Hollow (1999)"
          ],
          [
           "Matrix Revolutions, The (2003)"
          ],
          [
           "Lord of the Rings: The Two Towers, The (2002)"
          ],
          [
           "William Shakespeare's Romeo + Juliet (1996)"
          ],
          [
           "Last Emperor, The (1987)"
          ],
          [
           "Gone in 60 Seconds (2000)"
          ],
          [
           "Total Recall (1990)"
          ],
          [
           "Closer (2004)"
          ],
          [
           "Gladiator (2000)"
          ],
          [
           "Thomas Crown Affair, The (1999)"
          ],
          [
           "American Beauty (1999)"
          ],
          [
           "McHale's Navy (1997)"
          ],
          [
           "L.A. Story (1991)"
          ],
          [
           "I Shot Andy Warhol (1996)"
          ],
          [
           "Wolf (1994)"
          ],
          [
           "Copycat (1995)"
          ],
          [
           "Toy Story (1995)"
          ],
          [
           "Halloween II (1981)"
          ],
          [
           "Lord of the Rings: The Return of the King, The (2003)"
          ],
          [
           "Lord of the Rings: The Return of the King, The (2003)"
          ],
          [
           "Ocean's Eleven (2001)"
          ],
          [
           "Magnum Force (1973)"
          ],
          [
           "X-Men Origins: Wolverine (2009)"
          ],
          [
           "Fugitive, The (1993)"
          ],
          [
           "Terminator 3: Rise of the Machines (2003)"
          ],
          [
           "Sixth Sense, The (1999)"
          ],
          [
           "Saint, The (1997)"
          ],
          [
           "E.T. the Extra-Terrestrial (1982)"
          ],
          [
           "Strange Days (1995)"
          ],
          [
           "Whale Rider (2002)"
          ],
          [
           "Grand Budapest Hotel, The (2014)"
          ],
          [
           "One Flew Over the Cuckoo's Nest (1975)"
          ],
          [
           "Bourne Identity, The (2002)"
          ],
          [
           "Goonies, The (1985)"
          ],
          [
           "Unfaithful (2002)"
          ],
          [
           "Daybreakers (2010)"
          ],
          [
           "Austin Powers in Goldmember (2002)"
          ],
          [
           "GoldenEye (1995)"
          ],
          [
           "Getaway, The (1972)"
          ],
          [
           "Hellbound: Hellraiser II (1988)"
          ],
          [
           "Limelight (1952)"
          ],
          [
           "Sicko (2007)"
          ],
          [
           "Cabaret (1972)"
          ],
          [
           "Romancing the Stone (1984)"
          ],
          [
           "Titanic (1997)"
          ],
          [
           "Sleepless in Seattle (1993)"
          ],
          [
           "Office Space (1999)"
          ],
          [
           "Two if by Sea (1996)"
          ],
          [
           "Sum of All Fears, The (2002)"
          ],
          [
           "Rain Man (1988)"
          ],
          [
           "Craft, The (1996)"
          ],
          [
           "American Werewolf in London, An (1981)"
          ],
          [
           "Heathers (1989)"
          ],
          [
           "Anna and the King (1999)"
          ],
          [
           "Social Network, The (2010)"
          ],
          [
           "Total Recall (1990)"
          ],
          [
           "Untouchables, The (1987)"
          ],
          [
           "Rashomon (Rashômon) (1950)"
          ],
          [
           "Trekkies (1997)"
          ],
          [
           "Turner & Hooch (1989)"
          ],
          [
           "Highlander III: The Sorcerer (a.k.a. Highlander: The Final Dimension) (1994)"
          ],
          [
           "True Lies (1994)"
          ],
          [
           "Repo Man (1984)"
          ],
          [
           "Gladiator (2000)"
          ],
          [
           "Fisher King, The (1991)"
          ],
          [
           "My Fellow Americans (1996)"
          ],
          [
           "Clerks II (2006)"
          ],
          [
           "American Beauty (1999)"
          ],
          [
           "Erin Brockovich (2000)"
          ],
          [
           "Terminator 2: Judgment Day (1991)"
          ],
          [
           "Wallace & Gromit: The Wrong Trousers (1993)"
          ],
          [
           "Lock, Stock & Two Smoking Barrels (1998)"
          ],
          [
           "Life of Pi (2012)"
          ],
          [
           "Messenger: The Story of Joan of Arc, The (1999)"
          ],
          [
           "American Psycho (2000)"
          ],
          [
           "Armageddon (1998)"
          ],
          [
           "Elephant Man, The (1980)"
          ],
          [
           "Bulletproof Monk (2003)"
          ],
          [
           "Primary Colors (1998)"
          ],
          [
           "Beavis and Butt-Head Do America (1996)"
          ],
          [
           "Jewel of the Nile, The (1985)"
          ],
          [
           "Saw II (2005)"
          ],
          [
           "Red Rock West (1992)"
          ],
          [
           "Others, The (2001)"
          ],
          [
           "Blues Brothers 2000 (1998)"
          ],
          [
           "Natural, The (1984)"
          ],
          [
           "Days of Thunder (1990)"
          ],
          [
           "Body Heat (1981)"
          ],
          [
           "Big (1988)"
          ],
          [
           "Tombstone (1993)"
          ],
          [
           "Wallace & Gromit in The Curse of the Were-Rabbit (2005)"
          ],
          [
           "Proposition, The (2005)"
          ],
          [
           "Eraser (1996)"
          ],
          [
           "Meet Joe Black (1998)"
          ],
          [
           "Donnie Darko (2001)"
          ],
          [
           "Ice Age (2002)"
          ],
          [
           "Prestige, The (2006)"
          ],
          [
           "Sabrina (1995)"
          ],
          [
           "Party Girl (1995)"
          ],
          [
           "Outbreak (1995)"
          ],
          [
           "Much Ado About Nothing (1993)"
          ],
          [
           "Donnie Darko (2001)"
          ],
          [
           "Shrek (2001)"
          ],
          [
           "Annie Hall (1977)"
          ],
          [
           "Legend of Drunken Master, The (Jui kuen II) (1994)"
          ],
          [
           "Soylent Green (1973)"
          ],
          [
           "English Patient, The (1996)"
          ],
          [
           "Indiana Jones and the Kingdom of the Crystal Skull (2008)"
          ],
          [
           "Dave (1993)"
          ],
          [
           "Tarzan and the Lost City (1998)"
          ],
          [
           "Producers, The (1968)"
          ],
          [
           "Little Princess, The (1939)"
          ],
          [
           "6th Day, The (2000)"
          ],
          [
           "True Lies (1994)"
          ],
          [
           "Chocolat (2000)"
          ],
          [
           "Squid and the Whale, The (2005)"
          ],
          [
           "Pirates of the Caribbean: The Curse of the Black Pearl (2003)"
          ],
          [
           "Chasing Amy (1997)"
          ],
          [
           "Splash (1984)"
          ],
          [
           "Malcolm X (1992)"
          ],
          [
           "In the Line of Fire (1993)"
          ],
          [
           "Kill Bill: Vol. 2 (2004)"
          ],
          [
           "Usual Suspects, The (1995)"
          ],
          [
           "Three Kings (1999)"
          ],
          [
           "Blob, The (1988)"
          ],
          [
           "Crimson Tide (1995)"
          ],
          [
           "Drop Zone (1994)"
          ],
          [
           "Regarding Henry (1991)"
          ],
          [
           "Fair Game (2010)"
          ],
          [
           "Bug's Life, A (1998)"
          ],
          [
           "Carrie (1976)"
          ],
          [
           "I, Robot (2004)"
          ],
          [
           "Wackness, The (2008)"
          ],
          [
           "Roxanne (1987)"
          ],
          [
           "X-Men: First Class (2011)"
          ],
          [
           "Star Trek II: The Wrath of Khan (1982)"
          ],
          [
           "War of the Roses, The (1989)"
          ],
          [
           "Star Trek: The Motion Picture (1979)"
          ],
          [
           "Roger & Me (1989)"
          ],
          [
           "Sandlot, The (1993)"
          ],
          [
           "Slumdog Millionaire (2008)"
          ],
          [
           "Beautiful Mind, A (2001)"
          ],
          [
           "Indiana Jones and the Temple of Doom (1984)"
          ],
          [
           "Great Race, The (1965)"
          ],
          [
           "Dangerous Liaisons (1988)"
          ],
          [
           "Rocketeer, The (1991)"
          ],
          [
           "Terminator 2: Judgment Day (1991)"
          ],
          [
           "Green Street Hooligans (a.k.a. Hooligans) (2005)"
          ],
          [
           "E.T. the Extra-Terrestrial (1982)"
          ],
          [
           "Matrix, The (1999)"
          ],
          [
           "Liar Liar (1997)"
          ],
          [
           "American History X (1998)"
          ],
          [
           "Charade (1963)"
          ],
          [
           "Battlefield Earth (2000)"
          ],
          [
           "Full Monty, The (1997)"
          ],
          [
           "Almost Famous (2000)"
          ],
          [
           "Men in Black (a.k.a. MIB) (1997)"
          ],
          [
           "Whole Nine Yards, The (2000)"
          ],
          [
           "Age of Innocence, The (1993)"
          ],
          [
           "London (2005)"
          ],
          [
           "Small Time Crooks (2000)"
          ],
          [
           "Better Off Dead... (1985)"
          ],
          [
           "Immortal Beloved (1994)"
          ],
          [
           "Net, The (1995)"
          ],
          [
           "Mission: Impossible II (2000)"
          ],
          [
           "Thelma & Louise (1991)"
          ],
          [
           "When Harry Met Sally... (1989)"
          ],
          [
           "Angel-A (2005)"
          ],
          [
           "Breakfast of Champions (1999)"
          ],
          [
           "WALL·E (2008)"
          ],
          [
           "Spice World (1997)"
          ],
          [
           "Jumanji (1995)"
          ],
          [
           "Mary Shelley's Frankenstein (Frankenstein) (1994)"
          ],
          [
           "Shawshank Redemption, The (1994)"
          ],
          [
           "Perfect Storm, The (2000)"
          ],
          [
           "Three Kings (1999)"
          ],
          [
           "Fifth Element, The (1997)"
          ],
          [
           "Shampoo (1975)"
          ],
          [
           "Tailor of Panama, The (2001)"
          ],
          [
           "American Sniper (2014)"
          ],
          [
           "Good Will Hunting (1997)"
          ],
          [
           "Jungle2Jungle (a.k.a. Jungle 2 Jungle) (1997)"
          ],
          [
           "King and I, The (1956)"
          ],
          [
           "Indian in the Cupboard, The (1995)"
          ],
          [
           "Caddyshack (1980)"
          ],
          [
           "Pulp Fiction (1994)"
          ],
          [
           "Orange County (2002)"
          ],
          [
           "Mummy, The (1999)"
          ],
          [
           "American President, The (1995)"
          ],
          [
           "And Your Mother Too (Y tu mamá también) (2001)"
          ],
          [
           "Harry Potter and the Sorcerer's Stone (a.k.a. Harry Potter and the Philosopher's Stone) (2001)"
          ],
          [
           "Mission to Mars (2000)"
          ],
          [
           "X2: X-Men United (2003)"
          ],
          [
           "Ransom (1996)"
          ],
          [
           "Phone Booth (2002)"
          ],
          [
           "Quadrophenia (1979)"
          ],
          [
           "Howl's Moving Castle (Hauru no ugoku shiro) (2004)"
          ],
          [
           "Monty Python's Life of Brian (1979)"
          ],
          [
           "Tie Me Up! Tie Me Down! (¡Átame!) (1990)"
          ],
          [
           "Man for All Seasons, A (1966)"
          ],
          [
           "Mary Poppins (1964)"
          ],
          [
           "American Werewolf in Paris, An (1997)"
          ],
          [
           "Shallow Hal (2001)"
          ],
          [
           "Deep Blue Sea (1999)"
          ],
          [
           "Outbreak (1995)"
          ],
          [
           "Nausicaä of the Valley of the Wind (Kaze no tani no Naushika) (1984)"
          ],
          [
           "Hoop Dreams (1994)"
          ],
          [
           "16 Blocks (2006)"
          ],
          [
           "Terminator 2: Judgment Day (1991)"
          ],
          [
           "Nutty Professor, The (1996)"
          ],
          [
           "Doctor Zhivago (1965)"
          ],
          [
           "American Werewolf in London, An (1981)"
          ],
          [
           "Natural Born Killers (1994)"
          ],
          [
           "Hobbit: An Unexpected Journey, The (2012)"
          ],
          [
           "High Fidelity (2000)"
          ],
          [
           "Desperado (1995)"
          ],
          [
           "Dial M for Murder (1954)"
          ],
          [
           "Who's Harry Crumb? (1989)"
          ],
          [
           "King Kong (1933)"
          ],
          [
           "Braveheart (1995)"
          ],
          [
           "Guns of Navarone, The (1961)"
          ],
          [
           "Top Gun (1986)"
          ],
          [
           "Batman Begins (2005)"
          ],
          [
           "Cinemania (2002)"
          ],
          [
           "Eyes Wide Shut (1999)"
          ],
          [
           "Kingpin (1996)"
          ],
          [
           "Beavis and Butt-Head Do America (1996)"
          ],
          [
           "Jacob's Ladder (1990)"
          ],
          [
           "My Cousin Vinny (1992)"
          ],
          [
           "Tootsie (1982)"
          ],
          [
           "Terminator 2: Judgment Day (1991)"
          ],
          [
           "Another 48 Hrs. (1990)"
          ],
          [
           "Coraline (2009)"
          ],
          [
           "Bachelor, The (1999)"
          ],
          [
           "Dances with Wolves (1990)"
          ],
          [
           "Confessions of a Dangerous Mind (2002)"
          ],
          [
           "Final Destination, The (Final Destination 4) (Final Destination in 3-D, The) (2009)"
          ],
          [
           "Limey, The (1999)"
          ],
          [
           "Armageddon (1998)"
          ],
          [
           "North by Northwest (1959)"
          ],
          [
           "Colour of Magic, The (Terry Pratchett's The Colour of Magic) (2008)"
          ],
          [
           "Twelve Monkeys (a.k.a. 12 Monkeys) (1995)"
          ],
          [
           "Milk Money (1994)"
          ],
          [
           "Life Less Ordinary, A (1997)"
          ],
          [
           "Beautiful Mind, A (2001)"
          ],
          [
           "Ace Ventura: Pet Detective (1994)"
          ],
          [
           "Pretty Woman (1990)"
          ],
          [
           "Fog, The (1980)"
          ],
          [
           "Last King of Scotland, The (2006)"
          ],
          [
           "When Harry Met Sally... (1989)"
          ],
          [
           "Shrek (2001)"
          ],
          [
           "Batman Forever (1995)"
          ],
          [
           "Runaway Jury (2003)"
          ],
          [
           "Godzilla 2000 (Gojira ni-sen mireniamu) (1999)"
          ],
          [
           "Willow (1988)"
          ],
          [
           "World Is Not Enough, The (1999)"
          ],
          [
           "Serial Mom (1994)"
          ],
          [
           "Dressed to Kill (1980)"
          ],
          [
           "Brighton Beach Memoirs (1986)"
          ],
          [
           "Arsenic and Old Lace (1944)"
          ],
          [
           "Beverly Hills Cop (1984)"
          ],
          [
           "Dude, Where's My Car? (2000)"
          ],
          [
           "What's Eating Gilbert Grape (1993)"
          ],
          [
           "Drugstore Cowboy (1989)"
          ],
          [
           "Papillon (1973)"
          ],
          [
           "Maltese Falcon, The (1941)"
          ],
          [
           "Ghost Dad (1990)"
          ],
          [
           "Lord of the Rings: The Return of the King, The (2003)"
          ],
          [
           "Sliding Doors (1998)"
          ],
          [
           "Catch Me If You Can (2002)"
          ],
          [
           "Lilo & Stitch (2002)"
          ],
          [
           "Cube (1997)"
          ],
          [
           "Sweet Smell of Success (1957)"
          ],
          [
           "Run Lola Run (Lola rennt) (1998)"
          ],
          [
           "Dr. Dolittle 2 (2001)"
          ],
          [
           "Taming of the Shrew, The (1967)"
          ],
          [
           "Cold Mountain (2003)"
          ],
          [
           "Femme Nikita, La (Nikita) (1990)"
          ],
          [
           "Office Space (1999)"
          ],
          [
           "Firestorm (1998)"
          ],
          [
           "Wallace & Gromit in The Curse of the Were-Rabbit (2005)"
          ],
          [
           "Because I Said So (2007)"
          ],
          [
           "Nightmare on Elm Street, A (1984)"
          ],
          [
           "Twelfth Night (1996)"
          ],
          [
           "Shakespeare in Love (1998)"
          ],
          [
           "Laputa: Castle in the Sky (Tenkû no shiro Rapyuta) (1986)"
          ],
          [
           "Ever After: A Cinderella Story (1998)"
          ],
          [
           "Junior (1994)"
          ],
          [
           "GoldenEye (1995)"
          ],
          [
           "Vertigo (1958)"
          ],
          [
           "Love and Death (1975)"
          ],
          [
           "Breathless (À bout de souffle) (1960)"
          ],
          [
           "Inspector Gadget (1999)"
          ],
          [
           "Star Wars: Episode VI - Return of the Jedi (1983)"
          ],
          [
           "Magnolia (1999)"
          ],
          [
           "Emperor's New Groove, The (2000)"
          ],
          [
           "P.S. I Love You (2007)"
          ],
          [
           "Breakfast Club, The (1985)"
          ],
          [
           "Gone with the Wind (1939)"
          ],
          [
           "NeverEnding Story, The (1984)"
          ],
          [
           "Incredible Hulk, The (2008)"
          ],
          [
           "Philadelphia (1993)"
          ],
          [
           "Batman (1989)"
          ],
          [
           "Transamerica (2005)"
          ],
          [
           "Rush Hour (1998)"
          ],
          [
           "Dames du Bois de Boulogne, Les (Ladies of the Bois de Boulogne, The) (Ladies of the Park) (1945)"
          ],
          [
           "Green Mile, The (1999)"
          ],
          [
           "National Treasure: Book of Secrets (2007)"
          ],
          [
           "Pianist, The (2002)"
          ],
          [
           "Without Limits (1998)"
          ],
          [
           "Any Given Sunday (1999)"
          ],
          [
           "Cable Guy, The (1996)"
          ],
          [
           "Traffic (2000)"
          ],
          [
           "Silence of the Lambs, The (1991)"
          ],
          [
           "Nine Months (1995)"
          ],
          [
           "Ace Ventura: When Nature Calls (1995)"
          ],
          [
           "Pretty in Pink (1986)"
          ],
          [
           "For Love of the Game (1999)"
          ],
          [
           "Things to Do in Denver When You're Dead (1995)"
          ],
          [
           "Silence of the Lambs, The (1991)"
          ],
          [
           "American Pie 2 (2001)"
          ],
          [
           "Dr. Strangelove or: How I Learned to Stop Worrying and Love the Bomb (1964)"
          ],
          [
           "Jack (1996)"
          ],
          [
           "Master and Commander: The Far Side of the World (2003)"
          ],
          [
           "Blade Runner (1982)"
          ],
          [
           "Me, Myself & Irene (2000)"
          ],
          [
           "Harmonists, The (1997)"
          ],
          [
           "F/X (1986)"
          ],
          [
           "Rumble in the Bronx (Hont faan kui) (1995)"
          ],
          [
           "American Splendor (2003)"
          ],
          [
           "Dracula: Dead and Loving It (1995)"
          ],
          [
           "Kiss Kiss Bang Bang (2005)"
          ],
          [
           "Mortal Thoughts (1991)"
          ],
          [
           "Get Bruce (1999)"
          ],
          [
           "Assassins (1995)"
          ],
          [
           "Sky Captain and the World of Tomorrow (2004)"
          ],
          [
           "Wayne's World (1992)"
          ],
          [
           "Graduate, The (1967)"
          ],
          [
           "12 Years a Slave (2013)"
          ],
          [
           "Catch Me If You Can (2002)"
          ],
          [
           "Third Man, The (1949)"
          ],
          [
           "Crocodile Dundee (1986)"
          ],
          [
           "Notting Hill (1999)"
          ],
          [
           "Fugitive, The (1993)"
          ],
          [
           "Full Metal Jacket (1987)"
          ],
          [
           "Bandslam (2009)"
          ],
          [
           "Rugrats in Paris: The Movie (2000)"
          ],
          [
           "Dragonheart (1996)"
          ],
          [
           "Mr. Holland's Opus (1995)"
          ],
          [
           "Big Lebowski, The (1998)"
          ],
          [
           "Raiders of the Lost Ark (Indiana Jones and the Raiders of the Lost Ark) (1981)"
          ],
          [
           "Quiet Man, The (1952)"
          ],
          [
           "Serenity (2005)"
          ],
          [
           "Wag the Dog (1997)"
          ],
          [
           "Mrs. Doubtfire (1993)"
          ],
          [
           "Chocolat (2000)"
          ],
          [
           "Iron Man (2008)"
          ],
          [
           "Insider, The (1999)"
          ],
          [
           "Gerry (2002)"
          ],
          [
           "My Dinner with André (1981)"
          ],
          [
           "Summer of '42 (1971)"
          ],
          [
           "Saving Private Ryan (1998)"
          ],
          [
           "Drop Dead Gorgeous (1999)"
          ],
          [
           "African Queen, The (1951)"
          ],
          [
           "First Daughter (2004)"
          ],
          [
           "Seven (a.k.a. Se7en) (1995)"
          ],
          [
           "From Hell (2001)"
          ],
          [
           "Star Trek: The Motion Picture (1979)"
          ],
          [
           "Bad Taste (1987)"
          ],
          [
           "I, Robot (2004)"
          ],
          [
           "Raiders of the Lost Ark (Indiana Jones and the Raiders of the Lost Ark) (1981)"
          ],
          [
           "Casper (1995)"
          ],
          [
           "Grandma's Boy (2006)"
          ],
          [
           "Vera Drake (2004)"
          ],
          [
           "Rock, The (1996)"
          ],
          [
           "Specialist, The (1994)"
          ],
          [
           "Best Years of Our Lives, The (1946)"
          ],
          [
           "Rocky Horror Picture Show, The (1975)"
          ],
          [
           "Batman (1989)"
          ],
          [
           "Jack (1996)"
          ],
          [
           "Raiders of the Lost Ark (Indiana Jones and the Raiders of the Lost Ark) (1981)"
          ],
          [
           "Transporter, The (2002)"
          ],
          [
           "Cinema Paradiso (Nuovo cinema Paradiso) (1989)"
          ],
          [
           "Rebecca (1940)"
          ],
          [
           "Quiz Show (1994)"
          ],
          [
           "Rounders (1998)"
          ],
          [
           "Gone in 60 Seconds (2000)"
          ],
          [
           "Get Shorty (1995)"
          ],
          [
           "Tomorrow Never Dies (1997)"
          ],
          [
           "Untouchables, The (1987)"
          ],
          [
           "Hook (1991)"
          ],
          [
           "Insomnia (2002)"
          ],
          [
           "Nell (1994)"
          ],
          [
           "Hot Shots! Part Deux (1993)"
          ],
          [
           "Dumb & Dumber (Dumb and Dumber) (1994)"
          ],
          [
           "Scott Pilgrim vs. the World (2010)"
          ],
          [
           "Back to the Future Part III (1990)"
          ],
          [
           "Aladdin (1992)"
          ],
          [
           "Ghost (1990)"
          ],
          [
           "Black Sheep (1996)"
          ],
          [
           "Being John Malkovich (1999)"
          ],
          [
           "Thelma & Louise (1991)"
          ],
          [
           "Joe Versus the Volcano (1990)"
          ],
          [
           "True Grit (2010)"
          ],
          [
           "Borat: Cultural Learnings of America for Make Benefit Glorious Nation of Kazakhstan (2006)"
          ],
          [
           "Escape from New York (1981)"
          ],
          [
           "Planet of the Apes (1968)"
          ],
          [
           "Die Hard: With a Vengeance (1995)"
          ],
          [
           "Dances with Wolves (1990)"
          ],
          [
           "Harry Potter and the Sorcerer's Stone (a.k.a. Harry Potter and the Philosopher's Stone) (2001)"
          ],
          [
           "Evil Dead, The (1981)"
          ],
          [
           "Who Framed Roger Rabbit? (1988)"
          ],
          [
           "Independence Day (a.k.a. ID4) (1996)"
          ],
          [
           "RocknRolla (2008)"
          ],
          [
           "Canadian Bacon (1995)"
          ],
          [
           "Teenage Mutant Ninja Turtles III (1993)"
          ],
          [
           "Dr. Horrible's Sing-Along Blog (2008)"
          ],
          [
           "Confessions of a Dangerous Mind (2002)"
          ],
          [
           "Gandhi (1982)"
          ],
          [
           "Last Emperor, The (1987)"
          ],
          [
           "Star Trek: The Motion Picture (1979)"
          ],
          [
           "Fugitive, The (1993)"
          ],
          [
           "Felicia's Journey (1999)"
          ],
          [
           "[REC] (2007)"
          ],
          [
           "Talk to Her (Hable con Ella) (2002)"
          ],
          [
           "Adventures of Buckaroo Banzai Across the 8th Dimension, The (1984)"
          ],
          [
           "Mad Hot Ballroom (2005)"
          ],
          [
           "Teaching Mrs. Tingle (1999)"
          ],
          [
           "Rapa Nui (1994)"
          ],
          [
           "Silence of the Lambs, The (1991)"
          ],
          [
           "Star Trek (2009)"
          ],
          [
           "Happy Gilmore (1996)"
          ],
          [
           "Pirates of the Caribbean: Dead Man's Chest (2006)"
          ],
          [
           "Vegas Vacation (National Lampoon's Las Vegas Vacation) (1997)"
          ],
          [
           "Shrek (2001)"
          ],
          [
           "Independence Day (a.k.a. ID4) (1996)"
          ],
          [
           "About Time (2013)"
          ],
          [
           "Next (2007)"
          ],
          [
           "Deconstructing Harry (1997)"
          ],
          [
           "Dumb & Dumber (Dumb and Dumber) (1994)"
          ],
          [
           "Three Men and a Little Lady (1990)"
          ],
          [
           "E.T. the Extra-Terrestrial (1982)"
          ],
          [
           "How the Grinch Stole Christmas (a.k.a. The Grinch) (2000)"
          ],
          [
           "So I Married an Axe Murderer (1993)"
          ],
          [
           "Super 8 (2011)"
          ],
          [
           "School of Rock (2003)"
          ],
          [
           "Fantastic Planet, The (Planète sauvage, La) (1973)"
          ],
          [
           "Fantasia (1940)"
          ],
          [
           "Friday the 13th Part 3: 3D (1982)"
          ],
          [
           "Vincent Wants to Sea (Vincent will meer) (2010)"
          ],
          [
           "Golden Compass, The (2007)"
          ],
          [
           "Star Wars: Episode VI - Return of the Jedi (1983)"
          ],
          [
           "Startup.com (2001)"
          ],
          [
           "Firm, The (1993)"
          ],
          [
           "Down Periscope (1996)"
          ],
          [
           "Scary Movie (2000)"
          ],
          [
           "Tron (1982)"
          ],
          [
           "Modern Times (1936)"
          ],
          [
           "Final Fantasy: The Spirits Within (2001)"
          ],
          [
           "Shawshank Redemption, The (1994)"
          ],
          [
           "Roommates (1995)"
          ],
          [
           "Take the Money and Run (1969)"
          ],
          [
           "Miracle on 34th Street (1994)"
          ],
          [
           "Condorman (1981)"
          ],
          [
           "Braveheart (1995)"
          ],
          [
           "Larger Than Life (1996)"
          ],
          [
           "Escape from Alcatraz (1979)"
          ],
          [
           "Powder (1995)"
          ],
          [
           "Good, the Bad and the Ugly, The (Buono, il brutto, il cattivo, Il) (1966)"
          ],
          [
           "Dr. Strangelove or: How I Learned to Stop Worrying and Love the Bomb (1964)"
          ],
          [
           "End of Days (1999)"
          ],
          [
           "Book of Shadows: Blair Witch 2 (2000)"
          ],
          [
           "Evil Dead II (Dead by Dawn) (1987)"
          ],
          [
           "Deepstar Six (1989)"
          ],
          [
           "Thin Blue Line, The (1988)"
          ],
          [
           "Muriel's Wedding (1994)"
          ],
          [
           "Django Unchained (2012)"
          ],
          [
           "Lord of the Rings: The Two Towers, The (2002)"
          ],
          [
           "Terminator 2: Judgment Day (1991)"
          ],
          [
           "George of the Jungle (1997)"
          ],
          [
           "Aces: Iron Eagle III (1992)"
          ],
          [
           "Judge Dredd (1995)"
          ],
          [
           "Monsters, Inc. (2001)"
          ],
          [
           "Lord of the Rings: The Two Towers, The (2002)"
          ],
          [
           "Perks of Being a Wallflower, The (2012)"
          ],
          [
           "Steel Magnolias (1989)"
          ],
          [
           "Court Jester, The (1956)"
          ],
          [
           "They Bite (1996)"
          ],
          [
           "Ravenous (1999)"
          ],
          [
           "Taxi Driver (1976)"
          ],
          [
           "Ghost (1990)"
          ],
          [
           "South Park: Imaginationland (2008)"
          ],
          [
           "Sleepless in Seattle (1993)"
          ],
          [
           "Snoopy Come Home (1972)"
          ],
          [
           "Serendipity (2001)"
          ],
          [
           "Army of Darkness (1993)"
          ],
          [
           "Muppet Movie, The (1979)"
          ],
          [
           "What Lies Beneath (2000)"
          ],
          [
           "Star Trek: Generations (1994)"
          ],
          [
           "London (2005)"
          ],
          [
           "Mamma Roma (1962)"
          ],
          [
           "Jurassic Park (1993)"
          ],
          [
           "Harold and Kumar Go to White Castle (2004)"
          ],
          [
           "English Patient, The (1996)"
          ],
          [
           "Outbreak (1995)"
          ],
          [
           "WarGames (1983)"
          ],
          [
           "Contact (1997)"
          ],
          [
           "Cube (1997)"
          ],
          [
           "Pallbearer, The (1996)"
          ],
          [
           "Hang 'Em High (1968)"
          ],
          [
           "Enter the Dragon (1973)"
          ],
          [
           "Saint, The (1997)"
          ],
          [
           "Interview with the Vampire: The Vampire Chronicles (1994)"
          ],
          [
           "Groundhog Day (1993)"
          ],
          [
           "Apollo 13 (1995)"
          ],
          [
           "Grease 2 (1982)"
          ],
          [
           "Day of the Jackal, The (1973)"
          ],
          [
           "Trapped (2002)"
          ],
          [
           "Juno (2007)"
          ],
          [
           "Forrest Gump (1994)"
          ],
          [
           "Rules of the Game, The (La règle du jeu) (1939)"
          ],
          [
           "Liar Liar (1997)"
          ],
          [
           "Scratch (2001)"
          ],
          [
           "Monty Python's The Meaning of Life (1983)"
          ],
          [
           "Stranger than Fiction (2006)"
          ],
          [
           "Eraser (1996)"
          ],
          [
           "Husbands and Wives (1992)"
          ],
          [
           "It's a Wonderful Life (1946)"
          ],
          [
           "Forrest Gump (1994)"
          ],
          [
           "Bronx Tale, A (1993)"
          ],
          [
           "As Good as It Gets (1997)"
          ],
          [
           "Star Wars: Episode V - The Empire Strikes Back (1980)"
          ],
          [
           "Blade Runner (1982)"
          ],
          [
           "Alien (1979)"
          ],
          [
           "Unleashed (Danny the Dog) (2005)"
          ],
          [
           "Ice Storm, The (1997)"
          ],
          [
           "Red Riding Hood (2011)"
          ],
          [
           "Slumdog Millionaire (2008)"
          ],
          [
           "Ballad of Narayama, The (Narayama Bushiko) (1958)"
          ],
          [
           "Star Trek: Insurrection (1998)"
          ],
          [
           "Men in Black II (a.k.a. MIIB) (a.k.a. MIB 2) (2002)"
          ],
          [
           "Walk Among the Tombstones, A (2014)"
          ],
          [
           "Beauty Shop (2005)"
          ],
          [
           "Chicago (2002)"
          ],
          [
           "Exorcist, The (1973)"
          ],
          [
           "Sleepy Hollow (1999)"
          ],
          [
           "Mary Poppins (1964)"
          ],
          [
           "Sixth Sense, The (1999)"
          ],
          [
           "Dr. Dolittle (1998)"
          ],
          [
           "Die Hard: With a Vengeance (1995)"
          ],
          [
           "Devil's Advocate, The (1997)"
          ],
          [
           "Thirteenth Floor, The (1999)"
          ],
          [
           "Forrest Gump (1994)"
          ],
          [
           "Star Wars: Episode II - Attack of the Clones (2002)"
          ],
          [
           "To Catch a Thief (1955)"
          ],
          [
           "Donnie Darko (2001)"
          ],
          [
           "Seabiscuit (2003)"
          ],
          [
           "Lost World: Jurassic Park, The (1997)"
          ],
          [
           "Kolmistaan (2008)"
          ],
          [
           "Rundown, The (2003)"
          ],
          [
           "Blue Angel, The (Blaue Engel, Der) (1930)"
          ],
          [
           "Meet the Parents (2000)"
          ],
          [
           "Exit Through the Gift Shop (2010)"
          ],
          [
           "Metro (1997)"
          ],
          [
           "Running on Empty (1988)"
          ],
          [
           "Simpsons Movie, The (2007)"
          ],
          [
           "Home for the Holidays (1995)"
          ],
          [
           "Mission: Impossible II (2000)"
          ],
          [
           "Speed 2: Cruise Control (1997)"
          ],
          [
           "Nine Months (1995)"
          ],
          [
           "Dangerous Minds (1995)"
          ],
          [
           "Chinatown (1974)"
          ],
          [
           "Silence of the Lambs, The (1991)"
          ],
          [
           "Happy Gilmore (1996)"
          ],
          [
           "Meet the Parents (2000)"
          ],
          [
           "(500) Days of Summer (2009)"
          ],
          [
           "Dracula: Dead and Loving It (1995)"
          ],
          [
           "Negotiator, The (1998)"
          ],
          [
           "10 Things I Hate About You (1999)"
          ],
          [
           "Man with the Golden Gun, The (1974)"
          ],
          [
           "Four Weddings and a Funeral (1994)"
          ],
          [
           "Chungking Express (Chung Hing sam lam) (1994)"
          ],
          [
           "Twelve Monkeys (a.k.a. 12 Monkeys) (1995)"
          ],
          [
           "Risky Business (1983)"
          ],
          [
           "Night at the Opera, A (1935)"
          ],
          [
           "Washington Square (1997)"
          ],
          [
           "Richie Rich (1994)"
          ],
          [
           "Election (1999)"
          ],
          [
           "Dark City (1998)"
          ],
          [
           "Pursuit of Happyness, The (2006)"
          ],
          [
           "Grand Hotel (1932)"
          ],
          [
           "Harry Potter and the Order of the Phoenix (2007)"
          ],
          [
           "Piano, The (1993)"
          ],
          [
           "Austin Powers: The Spy Who Shagged Me (1999)"
          ],
          [
           "First Wives Club, The (1996)"
          ],
          [
           "Dr. Strangelove or: How I Learned to Stop Worrying and Love the Bomb (1964)"
          ],
          [
           "Legends of the Fall (1994)"
          ],
          [
           "Lara Croft: Tomb Raider (2001)"
          ],
          [
           "101 Reykjavik (101 Reykjavík) (2000)"
          ],
          [
           "Willow (1988)"
          ],
          [
           "Silence of the Lambs, The (1991)"
          ],
          [
           "Red Desert (Deserto rosso, Il) (1964)"
          ],
          [
           "Tales from the Darkside: The Movie (1990)"
          ],
          [
           "Bull Durham (1988)"
          ],
          [
           "Peter Pan (1953)"
          ],
          [
           "Chasing Amy (1997)"
          ],
          [
           "Jumanji (1995)"
          ],
          [
           "American History X (1998)"
          ],
          [
           "Phantom, The (1996)"
          ],
          [
           "Gremlins 2: The New Batch (1990)"
          ],
          [
           "Jerry Maguire (1996)"
          ],
          [
           "Babe (1995)"
          ],
          [
           "Godfather, The (1972)"
          ],
          [
           "Saving Private Ryan (1998)"
          ],
          [
           "And Your Mother Too (Y tu mamá también) (2001)"
          ],
          [
           "Johnny Mnemonic (1995)"
          ],
          [
           "Schindler's List (1993)"
          ],
          [
           "Tombstone (1993)"
          ],
          [
           "Ransom (1996)"
          ],
          [
           "Liar Liar (1997)"
          ],
          [
           "Fisher King, The (1991)"
          ],
          [
           "Mad Max (1979)"
          ],
          [
           "Stardust (2007)"
          ],
          [
           "Brainstorm (1983)"
          ],
          [
           "Serial Mom (1994)"
          ],
          [
           "Shrek (2001)"
          ],
          [
           "Con Air (1997)"
          ],
          [
           "12 Rounds (2009)"
          ],
          [
           "English Patient, The (1996)"
          ],
          [
           "Gattaca (1997)"
          ],
          [
           "Robin Hood: Men in Tights (1993)"
          ],
          [
           "Saved! (2004)"
          ],
          [
           "Super Mario Bros. (1993)"
          ],
          [
           "Moonraker (1979)"
          ],
          [
           "Last House on the Left, The (1972)"
          ],
          [
           "Indiana Jones and the Temple of Doom (1984)"
          ],
          [
           "Nine Months (1995)"
          ],
          [
           "Jungle Book, The (1967)"
          ],
          [
           "Phone Booth (2002)"
          ],
          [
           "Bad Boys (1995)"
          ],
          [
           "Guns of Navarone, The (1961)"
          ],
          [
           "I.Q. (1994)"
          ],
          [
           "Jewel of the Nile, The (1985)"
          ],
          [
           "Bill & Ted's Excellent Adventure (1989)"
          ],
          [
           "Loser (2000)"
          ],
          [
           "Three Stooges, The (2012)"
          ],
          [
           "Wag the Dog (1997)"
          ],
          [
           "Meet the Parents (2000)"
          ],
          [
           "North by Northwest (1959)"
          ],
          [
           "Panic Room (2002)"
          ],
          [
           "Sphere (1998)"
          ],
          [
           "Jungle Book, The (1967)"
          ],
          [
           "Notorious (1946)"
          ],
          [
           "Dead Man Walking (1995)"
          ],
          [
           "Crouching Tiger, Hidden Dragon (Wo hu cang long) (2000)"
          ],
          [
           "Mister Roberts (1955)"
          ],
          [
           "Eraser (1996)"
          ],
          [
           "Fifth Element, The (1997)"
          ],
          [
           "Sonatine (Sonachine) (1993)"
          ],
          [
           "Someone Like You (2001)"
          ],
          [
           "Almost Famous (2000)"
          ],
          [
           "Babe (1995)"
          ],
          [
           "Grifters, The (1990)"
          ],
          [
           "Planet Terror (2007)"
          ],
          [
           "Swordfish (2001)"
          ],
          [
           "Young Frankenstein (1974)"
          ],
          [
           "Superman III (1983)"
          ],
          [
           "Paris Was a Woman (1995)"
          ],
          [
           "Tombstone (1993)"
          ],
          [
           "Pearl Harbor (2001)"
          ],
          [
           "Happiness (1998)"
          ],
          [
           "Ice Age 2: The Meltdown (2006)"
          ],
          [
           "Taxi Driver (1976)"
          ],
          [
           "Analyze This (1999)"
          ],
          [
           "Mission: Impossible (1996)"
          ],
          [
           "Business of Fancydancing, The (2002)"
          ],
          [
           "Look Who's Talking Too (1990)"
          ],
          [
           "Good, the Bad and the Ugly, The (Buono, il brutto, il cattivo, Il) (1966)"
          ],
          [
           "Tron: Legacy (2010)"
          ],
          [
           "Blair Witch Project, The (1999)"
          ],
          [
           "Dead Alive (Braindead) (1992)"
          ],
          [
           "Batman Forever (1995)"
          ],
          [
           "Chocolat (2000)"
          ],
          [
           "Titanic (1997)"
          ],
          [
           "Toy Story (1995)"
          ],
          [
           "Fast Times at Ridgemont High (1982)"
          ],
          [
           "Barbarella (1968)"
          ],
          [
           "Caligula (1979)"
          ],
          [
           "Along Came a Spider (2001)"
          ],
          [
           "Jerry Maguire (1996)"
          ],
          [
           "While You Were Sleeping (1995)"
          ],
          [
           "Aladdin and the King of Thieves (1996)"
          ],
          [
           "M*A*S*H (a.k.a. MASH) (1970)"
          ],
          [
           "Sweetest Thing, The (2002)"
          ],
          [
           "Piano, The (1993)"
          ],
          [
           "Deep Red (Profondo rosso) (1975)"
          ],
          [
           "Night of the Living Dead (1968)"
          ],
          [
           "My Best Friend's Wedding (1997)"
          ],
          [
           "Final Fantasy: The Spirits Within (2001)"
          ],
          [
           "Madness of King George, The (1994)"
          ],
          [
           "Dreamgirls (2006)"
          ],
          [
           "Goonies, The (1985)"
          ],
          [
           "Gone in 60 Seconds (2000)"
          ],
          [
           "Seven (a.k.a. Se7en) (1995)"
          ],
          [
           "Pollock (2000)"
          ],
          [
           "Prestige, The (2006)"
          ],
          [
           "Bonnie and Clyde (1967)"
          ],
          [
           "Last Emperor, The (1987)"
          ],
          [
           "Star Wars: Episode VI - Return of the Jedi (1983)"
          ],
          [
           "Mickey Blue Eyes (1999)"
          ],
          [
           "I Love You, Man (2009)"
          ],
          [
           "Red Planet (2000)"
          ],
          [
           "Brazil (1985)"
          ],
          [
           "Fatal Instinct (1993)"
          ],
          [
           "Superman (1978)"
          ],
          [
           "Never Say Never Again (1983)"
          ],
          [
           "Born on the Fourth of July (1989)"
          ],
          [
           "Sleepy Hollow (1999)"
          ],
          [
           "American Splendor (2003)"
          ],
          [
           "Shadow of the Vampire (2000)"
          ],
          [
           "Dance with Me (1998)"
          ],
          [
           "Enron: The Smartest Guys in the Room (2005)"
          ],
          [
           "Monty Python and the Holy Grail (1975)"
          ],
          [
           "Catch Me If You Can (2002)"
          ],
          [
           "Halloween 4: The Return of Michael Myers (1988)"
          ],
          [
           "Frequency (2000)"
          ],
          [
           "Fatal Attraction (1987)"
          ],
          [
           "L.A. Confidential (1997)"
          ],
          [
           "As Good as It Gets (1997)"
          ],
          [
           "Magnolia (1999)"
          ],
          [
           "Star Wars: Episode VI - Return of the Jedi (1983)"
          ],
          [
           "One Flew Over the Cuckoo's Nest (1975)"
          ],
          [
           "Fletch (1985)"
          ],
          [
           "Luzhin Defence, The (2000)"
          ],
          [
           "Terminator, The (1984)"
          ],
          [
           "Devil and Max Devlin, The (1981)"
          ],
          [
           "Atlantis: The Lost Empire (2001)"
          ],
          [
           "Intouchables (2011)"
          ],
          [
           "Kid in King Arthur's Court, A (1995)"
          ],
          [
           "Thomas Crown Affair, The (1999)"
          ],
          [
           "Birdy (1984)"
          ],
          [
           "Boogie Nights (1997)"
          ],
          [
           "Commitments, The (1991)"
          ],
          [
           "Terminator Salvation (2009)"
          ],
          [
           "Grease (1978)"
          ],
          [
           "Mulholland Drive (2001)"
          ],
          [
           "Crash (2004)"
          ],
          [
           "Tapped (2009)"
          ],
          [
           "Tarzan (1999)"
          ],
          [
           "Dr. Dolittle 2 (2001)"
          ],
          [
           "Bound (1996)"
          ],
          [
           "Gremlins (1984)"
          ],
          [
           "Police Academy (1984)"
          ],
          [
           "Star Wars: Episode I - The Phantom Menace (1999)"
          ],
          [
           "Star Wars: Episode V - The Empire Strikes Back (1980)"
          ],
          [
           "Teenage Mutant Ninja Turtles (1990)"
          ],
          [
           "Pulp Fiction (1994)"
          ],
          [
           "Lost in Translation (2003)"
          ],
          [
           "House of Flying Daggers (Shi mian mai fu) (2004)"
          ],
          [
           "Seven (a.k.a. Se7en) (1995)"
          ],
          [
           "Planet Terror (2007)"
          ],
          [
           "Monster's Ball (2001)"
          ],
          [
           "Breakfast Club, The (1985)"
          ],
          [
           "Lion King, The (1994)"
          ],
          [
           "Boomerang (1992)"
          ],
          [
           "Collateral (2004)"
          ],
          [
           "Love Jones (1997)"
          ],
          [
           "Batman (1989)"
          ],
          [
           "Evil Dead II (Dead by Dawn) (1987)"
          ],
          [
           "Léon: The Professional (a.k.a. The Professional) (Léon) (1994)"
          ],
          [
           "Reds (1981)"
          ],
          [
           "Dumb & Dumber (Dumb and Dumber) (1994)"
          ],
          [
           "Shallow Grave (1994)"
          ],
          [
           "Ever After: A Cinderella Story (1998)"
          ],
          [
           "Cape Fear (1991)"
          ],
          [
           "Watchmen (2009)"
          ],
          [
           "Demolition Man (1993)"
          ],
          [
           "Hunchback of Notre Dame, The (1996)"
          ],
          [
           "Truth About Cats & Dogs, The (1996)"
          ],
          [
           "Being John Malkovich (1999)"
          ],
          [
           "Frankie and Johnny (1991)"
          ],
          [
           "Runaway Bride (1999)"
          ],
          [
           "Ruthless People (1986)"
          ],
          [
           "Just Visiting (2001)"
          ],
          [
           "Divorce - Italian Style (Divorzio all'italiana) (1961)"
          ],
          [
           "Dances with Wolves (1990)"
          ],
          [
           "Life Is Beautiful (La Vita è bella) (1997)"
          ],
          [
           "Network (1976)"
          ],
          [
           "Big Lebowski, The (1998)"
          ],
          [
           "Mona Lisa (1986)"
          ],
          [
           "Scream 3 (2000)"
          ],
          [
           "Motorcycle Diaries, The (Diarios de motocicleta) (2004)"
          ],
          [
           "Giant (1956)"
          ],
          [
           "Identity (2003)"
          ],
          [
           "P.S. I Love You (2007)"
          ],
          [
           "Alien (1979)"
          ],
          [
           "Matrix Reloaded, The (2003)"
          ],
          [
           "Dazed and Confused (1993)"
          ],
          [
           "Terminator 2: Judgment Day (1991)"
          ],
          [
           "Crash (2004)"
          ],
          [
           "Grand Day Out with Wallace and Gromit, A (1989)"
          ],
          [
           "Body Parts (1991)"
          ],
          [
           "Raising Arizona (1987)"
          ],
          [
           "101 Dalmatians (1996)"
          ],
          [
           "Tombstone (1993)"
          ],
          [
           "Mission: Impossible (1996)"
          ],
          [
           "Old School (2003)"
          ],
          [
           "Emma (1996)"
          ],
          [
           "Star Wars: Episode V - The Empire Strikes Back (1980)"
          ],
          [
           "Independence Day (a.k.a. ID4) (1996)"
          ],
          [
           "One Flew Over the Cuckoo's Nest (1975)"
          ],
          [
           "Willy Wonka & the Chocolate Factory (1971)"
          ],
          [
           "Juno (2007)"
          ],
          [
           "Mission: Impossible (1996)"
          ],
          [
           "High Noon (1952)"
          ],
          [
           "Catch Me If You Can (2002)"
          ],
          [
           "William Shakespeare's Romeo + Juliet (1996)"
          ],
          [
           "Child's Play 3 (1991)"
          ],
          [
           "Waterworld (1995)"
          ],
          [
           "Heat (1995)"
          ],
          [
           "Red Sonja (1985)"
          ],
          [
           "Babe (1995)"
          ],
          [
           "Rambling Rose (1991)"
          ],
          [
           "Rundown, The (2003)"
          ],
          [
           "Firm, The (1993)"
          ],
          [
           "Godfather, The (1972)"
          ],
          [
           "Romancing the Stone (1984)"
          ],
          [
           "Dead Man Walking (1995)"
          ],
          [
           "Last King of Scotland, The (2006)"
          ],
          [
           "Benny & Joon (1993)"
          ],
          [
           "In America (2002)"
          ],
          [
           "Babe: Pig in the City (1998)"
          ],
          [
           "Richie Rich (1994)"
          ],
          [
           "Nausicaä of the Valley of the Wind (Kaze no tani no Naushika) (1984)"
          ],
          [
           "Mask, The (1994)"
          ],
          [
           "Final Fantasy: The Spirits Within (2001)"
          ],
          [
           "Blade Runner (1982)"
          ],
          [
           "Sleeper (1973)"
          ],
          [
           "Romancing the Stone (1984)"
          ],
          [
           "Terminator 2: Judgment Day (1991)"
          ],
          [
           "I Love Trouble (1994)"
          ],
          [
           "Love in the Afternoon (1957)"
          ],
          [
           "Maximum Overdrive (1986)"
          ],
          [
           "Aliens (1986)"
          ],
          [
           "Broken Arrow (1996)"
          ],
          [
           "Friday the 13th Part VII: The New Blood (1988)"
          ],
          [
           "Wit (2001)"
          ],
          [
           "Say Anything... (1989)"
          ],
          [
           "Ed Wood (1994)"
          ],
          [
           "Weird Science (1985)"
          ],
          [
           "Patriot, The (2000)"
          ],
          [
           "Star Wars: Episode IV - A New Hope (1977)"
          ],
          [
           "Jawbreaker (1999)"
          ],
          [
           "Match Point (2005)"
          ],
          [
           "Brazil (1985)"
          ],
          [
           "Santa Clause, The (1994)"
          ],
          [
           "Brady Bunch Movie, The (1995)"
          ],
          [
           "Cast Away (2000)"
          ],
          [
           "Ghost and the Darkness, The (1996)"
          ],
          [
           "Taxi Driver (1976)"
          ],
          [
           "Silence of the Lambs, The (1991)"
          ],
          [
           "Superman (1978)"
          ],
          [
           "Brain That Wouldn't Die, The (1962)"
          ],
          [
           "Little Mermaid, The (1989)"
          ],
          [
           "Finding Nemo (2003)"
          ],
          [
           "Total Recall (1990)"
          ],
          [
           "Paris Was a Woman (1995)"
          ],
          [
           "Shawshank Redemption, The (1994)"
          ],
          [
           "Apollo 13 (1995)"
          ],
          [
           "Runaway Jury (2003)"
          ],
          [
           "Yellow Submarine (1968)"
          ],
          [
           "Ice Age (2002)"
          ],
          [
           "Life Is Beautiful (La Vita è bella) (1997)"
          ],
          [
           "Back to the Future (1985)"
          ],
          [
           "Space Jam (1996)"
          ],
          [
           "Gran Torino (2008)"
          ],
          [
           "Team America: World Police (2004)"
          ],
          [
           "Thing, The (2011)"
          ],
          [
           "In the Line of Fire (1993)"
          ],
          [
           "Panic Room (2002)"
          ],
          [
           "After Earth (2013)"
          ],
          [
           "Death and the Maiden (1994)"
          ],
          [
           "Serial Mom (1994)"
          ],
          [
           "Along Came a Spider (2001)"
          ],
          [
           "Galaxy Quest (1999)"
          ],
          [
           "Fahrenheit 9/11 (2004)"
          ],
          [
           "RocketMan (a.k.a. Rocket Man) (1997)"
          ],
          [
           "Independence Day (a.k.a. ID4) (1996)"
          ],
          [
           "Julie & Julia (2009)"
          ],
          [
           "Barry Lyndon (1975)"
          ],
          [
           "Seventh Seal, The (Sjunde inseglet, Det) (1957)"
          ],
          [
           "Star Trek VI: The Undiscovered Country (1991)"
          ],
          [
           "Pulp Fiction (1994)"
          ],
          [
           "Avventura, L' (Adventure, The) (1960)"
          ],
          [
           "Three Musketeers, The (1993)"
          ],
          [
           "Déjà Vu (Deja Vu) (2006)"
          ],
          [
           "Grapes of Wrath, The (1940)"
          ],
          [
           "Four Weddings and a Funeral (1994)"
          ],
          [
           "Raging Bull (1980)"
          ],
          [
           "Toy Story (1995)"
          ],
          [
           "Everyone Says I Love You (1996)"
          ],
          [
           "Star Trek II: The Wrath of Khan (1982)"
          ],
          [
           "Disclosure (1994)"
          ],
          [
           "Ocean's Twelve (2004)"
          ],
          [
           "Feast (2005)"
          ],
          [
           "Mrs. Doubtfire (1993)"
          ],
          [
           "Crimson Tide (1995)"
          ],
          [
           "Child's Play 3 (1991)"
          ],
          [
           "Charlie's Angels (2000)"
          ],
          [
           "School of Rock (2003)"
          ],
          [
           "Bliss (1997)"
          ],
          [
           "Man in the Iron Mask, The (1998)"
          ],
          [
           "Event Horizon (1997)"
          ],
          [
           "Psycho (1960)"
          ],
          [
           "Rundown, The (2003)"
          ],
          [
           "Dr. Strangelove or: How I Learned to Stop Worrying and Love the Bomb (1964)"
          ],
          [
           "Boys Don't Cry (1999)"
          ],
          [
           "Matilda (1996)"
          ],
          [
           "Express, The (2008)"
          ],
          [
           "My Fair Lady (1964)"
          ],
          [
           "Romeo and Juliet (1968)"
          ],
          [
           "Die Hard: With a Vengeance (1995)"
          ],
          [
           "Shining, The (1980)"
          ],
          [
           "Raiders of the Lost Ark (Indiana Jones and the Raiders of the Lost Ark) (1981)"
          ],
          [
           "All the King's Men (1949)"
          ],
          [
           "Godzilla, King of the Monsters! (Kaijû-ô Gojira) (1956)"
          ],
          [
           "Little Miss Sunshine (2006)"
          ],
          [
           "Once (2006)"
          ],
          [
           "Apartment, The (1960)"
          ],
          [
           "Total Recall (1990)"
          ],
          [
           "Cold Mountain (2003)"
          ],
          [
           "Beverly Hillbillies, The (1993)"
          ],
          [
           "Flintstones, The (1994)"
          ],
          [
           "Speed (1994)"
          ],
          [
           "Monster's Ball (2001)"
          ],
          [
           "Dances with Wolves (1990)"
          ],
          [
           "Pulp Fiction (1994)"
          ],
          [
           "Full Monty, The (1997)"
          ],
          [
           "Peacemaker, The (1997)"
          ],
          [
           "Ben-Hur (1959)"
          ],
          [
           "Avatar (2009)"
          ],
          [
           "Goonies, The (1985)"
          ],
          [
           "Rosemary's Baby (1968)"
          ],
          [
           "Starred Up (2013)"
          ],
          [
           "Bridge on the River Kwai, The (1957)"
          ],
          [
           "True Believer (1989)"
          ],
          [
           "Addams Family Values (1993)"
          ],
          [
           "Lives of Others, The (Das leben der Anderen) (2006)"
          ],
          [
           "Heavenly Creatures (1994)"
          ],
          [
           "Kill Bill: Vol. 2 (2004)"
          ],
          [
           "Cat in the Hat, The (2003)"
          ],
          [
           "Office Space (1999)"
          ],
          [
           "Star Trek: The Motion Picture (1979)"
          ],
          [
           "District 9 (2009)"
          ],
          [
           "Thirty-Two Short Films About Glenn Gould (1993)"
          ],
          [
           "Lord of the Rings: The Fellowship of the Ring, The (2001)"
          ],
          [
           "Matrix, The (1999)"
          ],
          [
           "Halloween (1978)"
          ],
          [
           "Science of Sleep, The (La science des rêves) (2006)"
          ],
          [
           "X-Men (2000)"
          ],
          [
           "Wreck of the Mary Deare, The (1959)"
          ],
          [
           "Looking for Richard (1996)"
          ],
          [
           "Tucker & Dale vs Evil (2010)"
          ],
          [
           "Tin Men (1987)"
          ],
          [
           "American History X (1998)"
          ],
          [
           "Say Anything... (1989)"
          ],
          [
           "Amadeus (1984)"
          ],
          [
           "American President, The (1995)"
          ],
          [
           "Ace Ventura: Pet Detective (1994)"
          ],
          [
           "Men in Black (a.k.a. MIB) (1997)"
          ],
          [
           "Some Like It Hot (1959)"
          ],
          [
           "Flashdance (1983)"
          ],
          [
           "Batman Begins (2005)"
          ],
          [
           "Stripes (1981)"
          ],
          [
           "Curly Top (1935)"
          ],
          [
           "Men in Black II (a.k.a. MIIB) (a.k.a. MIB 2) (2002)"
          ],
          [
           "About a Boy (2002)"
          ],
          [
           "Foxfire (1996)"
          ],
          [
           "Four Weddings and a Funeral (1994)"
          ],
          [
           "Blues Brothers, The (1980)"
          ],
          [
           "Kill Bill: Vol. 2 (2004)"
          ],
          [
           "Philadelphia (1993)"
          ],
          [
           "Incredible Shrinking Woman, The (1981)"
          ],
          [
           "Shine (1996)"
          ],
          [
           "Fantasia (1940)"
          ],
          [
           "Da Vinci Code, The (2006)"
          ],
          [
           "Just Cause (1995)"
          ],
          [
           "Wonderful, Horrible Life of Leni Riefenstahl, The (Macht der Bilder: Leni Riefenstahl, Die) (1993)"
          ],
          [
           "Dances with Wolves (1990)"
          ],
          [
           "Shallow Hal (2001)"
          ],
          [
           "Starship Troopers 3: Marauder (2008)"
          ],
          [
           "Verdict, The (1982)"
          ],
          [
           "Last Detail, The (1973)"
          ],
          [
           "Rocky IV (1985)"
          ],
          [
           "25th Hour (2002)"
          ],
          [
           "Tomorrow Never Dies (1997)"
          ],
          [
           "101 Dalmatians (One Hundred and One Dalmatians) (1961)"
          ],
          [
           "Bug's Life, A (1998)"
          ],
          [
           "Outbreak (1995)"
          ],
          [
           "Top Gun (1986)"
          ],
          [
           "Crimson Pirate, The (1952)"
          ],
          [
           "Lust, Caution (Se, jie) (2007)"
          ],
          [
           "Pirates of the Caribbean: Dead Man's Chest (2006)"
          ],
          [
           "Ghost (1990)"
          ],
          [
           "Serenity (2005)"
          ],
          [
           "Stranger than Fiction (2006)"
          ],
          [
           "Little Nicky (2000)"
          ],
          [
           "Norbit (2007)"
          ],
          [
           "Lord of the Rings: The Fellowship of the Ring, The (2001)"
          ],
          [
           "Blues Brothers, The (1980)"
          ],
          [
           "Armageddon (1998)"
          ],
          [
           "Pocahontas (1995)"
          ],
          [
           "Fried Green Tomatoes (1991)"
          ],
          [
           "American Beauty (1999)"
          ],
          [
           "Diamonds Are Forever (1971)"
          ],
          [
           "Nosferatu the Vampyre (Nosferatu: Phantom der Nacht) (1979)"
          ],
          [
           "War Dance (2007)"
          ],
          [
           "Charlie Wilson's War (2007)"
          ],
          [
           "Mirror Has Two Faces, The (1996)"
          ],
          [
           "Caveman's Valentine, The (2001)"
          ],
          [
           "Rush Hour (1998)"
          ],
          [
           "Tombstone (1993)"
          ],
          [
           "Carlito's Way (1993)"
          ],
          [
           "Beetlejuice (1988)"
          ],
          [
           "Unforgiven (1992)"
          ],
          [
           "Mighty Aphrodite (1995)"
          ],
          [
           "Diving Bell and the Butterfly, The (Scaphandre et le papillon, Le) (2007)"
          ],
          [
           "Next (2007)"
          ],
          [
           "Election (1999)"
          ],
          [
           "Spartacus (1960)"
          ],
          [
           "Pulp Fiction (1994)"
          ],
          [
           "Bridget Jones's Diary (2001)"
          ],
          [
           "Life Is Beautiful (La Vita è bella) (1997)"
          ],
          [
           "Parenthood (1989)"
          ],
          [
           "Muriel's Wedding (1994)"
          ],
          [
           "Stargate (1994)"
          ],
          [
           "Two Weeks Notice (2002)"
          ],
          [
           "Invictus (2009)"
          ],
          [
           "Mighty Aphrodite (1995)"
          ],
          [
           "Blade Runner (1982)"
          ],
          [
           "See No Evil, Hear No Evil (1989)"
          ],
          [
           "Candleshoe (1977)"
          ],
          [
           "Love Actually (2003)"
          ],
          [
           "Sleeper (1973)"
          ],
          [
           "Virgin Suicides, The (1999)"
          ],
          [
           "Whiteboyz (1999)"
          ],
          [
           "Hunchback of Notre Dame, The (1996)"
          ],
          [
           "Lost Weekend, The (1945)"
          ],
          [
           "Limitless (2011)"
          ],
          [
           "Legends of the Fall (1994)"
          ],
          [
           "Home Alone (1990)"
          ],
          [
           "League of Extraordinary Gentlemen, The (a.k.a. LXG) (2003)"
          ],
          [
           "Knight's Tale, A (2001)"
          ],
          [
           "Indiana Jones and the Last Crusade (1989)"
          ],
          [
           "True Romance (1993)"
          ],
          [
           "Malcolm X (1992)"
          ],
          [
           "No Country for Old Men (2007)"
          ],
          [
           "Secrets & Lies (1996)"
          ],
          [
           "Water for Elephants (2011)"
          ],
          [
           "No Country for Old Men (2007)"
          ],
          [
           "Holes (2003)"
          ],
          [
           "Traffic (2000)"
          ],
          [
           "Batman Returns (1992)"
          ],
          [
           "Girl with a Pearl Earring (2003)"
          ],
          [
           "Pinocchio (1940)"
          ],
          [
           "Sleepy Hollow (1999)"
          ],
          [
           "Michael (1996)"
          ],
          [
           "Devil's Advocate, The (1997)"
          ],
          [
           "Saving Private Ryan (1998)"
          ],
          [
           "Babe (1995)"
          ],
          [
           "Apocalypse Now (1979)"
          ],
          [
           "Madagascar (2005)"
          ],
          [
           "In the Name of the Father (1993)"
          ],
          [
           "Oh, Heavenly Dog! (1980)"
          ],
          [
           "Lethal Weapon (1987)"
          ],
          [
           "Terminator 2: Judgment Day (1991)"
          ],
          [
           "Adventures of Priscilla, Queen of the Desert, The (1994)"
          ],
          [
           "Normal Life (1996)"
          ],
          [
           "Breakfast at Tiffany's (1961)"
          ],
          [
           "99 francs (2007)"
          ],
          [
           "Remember the Titans (2000)"
          ],
          [
           "After You (Après vous...) (2003)"
          ],
          [
           "Party Girl (1995)"
          ],
          [
           "Stigmata (1999)"
          ],
          [
           "Dogma (1999)"
          ],
          [
           "Men in Black (a.k.a. MIB) (1997)"
          ],
          [
           "Beautiful Mind, A (2001)"
          ],
          [
           "Batman & Robin (1997)"
          ],
          [
           "Ghost Rider (2007)"
          ],
          [
           "Lord of the Rings: The Return of the King, The (2003)"
          ],
          [
           "Bone Collector, The (1999)"
          ],
          [
           "Shrek (2001)"
          ],
          [
           "Three Musketeers, The (1993)"
          ],
          [
           "Cinderella (1950)"
          ],
          [
           "Hearts of Darkness: A Filmmakers Apocalypse (1991)"
          ],
          [
           "Hunt for Red October, The (1990)"
          ],
          [
           "Misérables, Les (1995)"
          ],
          [
           "Ace Ventura: Pet Detective (1994)"
          ],
          [
           "Man Who Would Be King, The (1975)"
          ],
          [
           "Songs From the Second Floor (Sånger från andra våningen) (2000)"
          ],
          [
           "Skulls, The (2000)"
          ],
          [
           "Driving Miss Daisy (1989)"
          ],
          [
           "Hey Arnold! The Movie (2002)"
          ],
          [
           "Night of the Living Dead (1968)"
          ],
          [
           "It Happened One Night (1934)"
          ],
          [
           "Piano, The (1993)"
          ],
          [
           "My Best Friend's Wedding (1997)"
          ],
          [
           "Godfather: Part II, The (1974)"
          ],
          [
           "Crimes of the Heart (1986)"
          ],
          [
           "39 Steps, The (1935)"
          ],
          [
           "Maltese Falcon, The (1941)"
          ],
          [
           "Dear John (2010)"
          ],
          [
           "Stranger than Fiction (2006)"
          ],
          [
           "Mrs. Doubtfire (1993)"
          ],
          [
           "Titan A.E. (2000)"
          ],
          [
           "Big (1988)"
          ],
          [
           "Star Wars: Episode II - Attack of the Clones (2002)"
          ],
          [
           "American Werewolf in London, An (1981)"
          ],
          [
           "Raising Arizona (1987)"
          ],
          [
           "Rumble in the Bronx (Hont faan kui) (1995)"
          ],
          [
           "Grosse Pointe Blank (1997)"
          ],
          [
           "The Lego Movie (2014)"
          ],
          [
           "Client, The (1994)"
          ],
          [
           "Insomnia (2002)"
          ],
          [
           "Windtalkers (2002)"
          ],
          [
           "Stargate (1994)"
          ],
          [
           "Remains of the Day, The (1993)"
          ],
          [
           "Foreign Correspondent (1940)"
          ],
          [
           "Down to Earth (2001)"
          ],
          [
           "Band of Brothers (2001)"
          ],
          [
           "Silence of the Lambs, The (1991)"
          ],
          [
           "Star Wars: Episode V - The Empire Strikes Back (1980)"
          ],
          [
           "Blades of Glory (2007)"
          ],
          [
           "Star Wars: Episode V - The Empire Strikes Back (1980)"
          ],
          [
           "Titanic (1997)"
          ],
          [
           "Atonement (2007)"
          ],
          [
           "Tombstone (1993)"
          ],
          [
           "Casablanca (1942)"
          ],
          [
           "Gone Baby Gone (2007)"
          ],
          [
           "Stir of Echoes (1999)"
          ],
          [
           "Natural Born Killers (1994)"
          ],
          [
           "Signal, The (2014)"
          ],
          [
           "Toy Story (1995)"
          ],
          [
           "Sphere (1998)"
          ],
          [
           "Scooby-Doo (2002)"
          ],
          [
           "Friday the 13th Part VIII: Jason Takes Manhattan (1989)"
          ],
          [
           "Player, The (1992)"
          ],
          [
           "Scream (1996)"
          ],
          [
           "Cowboy Bebop: The Movie (Cowboy Bebop: Tengoku no Tobira) (2001)"
          ],
          [
           "Avengers, The (1998)"
          ],
          [
           "Turner & Hooch (1989)"
          ],
          [
           "Return of the Pink Panther, The (1975)"
          ],
          [
           "Devil's Advocate, The (1997)"
          ],
          [
           "Men in Black (a.k.a. MIB) (1997)"
          ],
          [
           "Wedding Singer, The (1998)"
          ],
          [
           "Igby Goes Down (2002)"
          ],
          [
           "Marriage of Maria Braun, The (Ehe der Maria Braun, Die) (1979)"
          ],
          [
           "Life Is Beautiful (La Vita è bella) (1997)"
          ],
          [
           "Clean Slate (1994)"
          ],
          [
           "Operation Dumbo Drop (1995)"
          ],
          [
           "Wrestler, The (2008)"
          ],
          [
           "About a Boy (2002)"
          ],
          [
           "How to Marry a Millionaire (1953)"
          ],
          [
           "Secret of Roan Inish, The (1994)"
          ],
          [
           "Fly, The (1958)"
          ],
          [
           "Quiz Show (1994)"
          ],
          [
           "Invisible Man, The (1933)"
          ],
          [
           "Forrest Gump (1994)"
          ],
          [
           "Anna and the King (1999)"
          ],
          [
           "Star Wars: Episode V - The Empire Strikes Back (1980)"
          ],
          [
           "Dances with Wolves (1990)"
          ],
          [
           "English Patient, The (1996)"
          ],
          [
           "Client, The (1994)"
          ],
          [
           "Last Waltz, The (1978)"
          ],
          [
           "Crouching Tiger, Hidden Dragon (Wo hu cang long) (2000)"
          ],
          [
           "X-Men: First Class (2011)"
          ],
          [
           "Reservoir Dogs (1992)"
          ],
          [
           "Thomas Crown Affair, The (1968)"
          ],
          [
           "Untouchables, The (1987)"
          ],
          [
           "Toy Story 2 (1999)"
          ],
          [
           "Mulholland Falls (1996)"
          ],
          [
           "Devil Wears Prada, The (2006)"
          ],
          [
           "8MM (1999)"
          ],
          [
           "Lord of the Rings: The Return of the King, The (2003)"
          ],
          [
           "Event Horizon (1997)"
          ],
          [
           "Lawrence of Arabia (1962)"
          ],
          [
           "Sleepers (1996)"
          ],
          [
           "Practical Magic (1998)"
          ],
          [
           "Taxi Driver (1976)"
          ],
          [
           "Crouching Tiger, Hidden Dragon (Wo hu cang long) (2000)"
          ],
          [
           "Amadeus (1984)"
          ],
          [
           "Little Children (2006)"
          ],
          [
           "Copycat (1995)"
          ],
          [
           "Take Shelter (2011)"
          ],
          [
           "Blankman (1994)"
          ],
          [
           "Metro (1997)"
          ],
          [
           "Jerry Maguire (1996)"
          ],
          [
           "Analyze That (2002)"
          ],
          [
           "O Brother, Where Art Thou? (2000)"
          ],
          [
           "Schindler's List (1993)"
          ],
          [
           "Dr. Strangelove or: How I Learned to Stop Worrying and Love the Bomb (1964)"
          ],
          [
           "True Grit (1969)"
          ],
          [
           "It Could Happen to You (1994)"
          ],
          [
           "Saving Silverman (Evil Woman) (2001)"
          ],
          [
           "Bourne Ultimatum, The (2007)"
          ],
          [
           "Lair of the White Worm, The (1988)"
          ],
          [
           "Santa Clause, The (1994)"
          ],
          [
           "Incredibles, The (2004)"
          ],
          [
           "Graduate, The (1967)"
          ],
          [
           "Star Wars: Episode I - The Phantom Menace (1999)"
          ],
          [
           "Mary Poppins (1964)"
          ],
          [
           "Star Trek III: The Search for Spock (1984)"
          ],
          [
           "Ransom (1996)"
          ],
          [
           "Chicago (2002)"
          ],
          [
           "Father of the Bride (1991)"
          ],
          [
           "Napoleon Dynamite (2004)"
          ],
          [
           "American Werewolf in London, An (1981)"
          ],
          [
           "Amelie (Fabuleux destin d'Amélie Poulain, Le) (2001)"
          ],
          [
           "Ferris Bueller's Day Off (1986)"
          ],
          [
           "Star Wars: Episode II - Attack of the Clones (2002)"
          ],
          [
           "Of Mice and Men (1992)"
          ],
          [
           "Jack and Sarah (1995)"
          ],
          [
           "Wedding Singer, The (1998)"
          ],
          [
           "Psycho (1960)"
          ],
          [
           "Courage Under Fire (1996)"
          ],
          [
           "Dances with Wolves (1990)"
          ],
          [
           "Pajama Game, The (1957)"
          ],
          [
           "Amateur (1994)"
          ],
          [
           "Die Hard: With a Vengeance (1995)"
          ],
          [
           "Evita (1996)"
          ],
          [
           "Shrek 2 (2004)"
          ],
          [
           "Beautiful Mind, A (2001)"
          ],
          [
           "Wall Street (1987)"
          ],
          [
           "Reality Bites (1994)"
          ],
          [
           "Romancing the Stone (1984)"
          ],
          [
           "Thelma & Louise (1991)"
          ],
          [
           "Jurassic Park (1993)"
          ],
          [
           "Melinda and Melinda (2004)"
          ],
          [
           "Ace Ventura: Pet Detective (1994)"
          ],
          [
           "Fantasia (1940)"
          ],
          [
           "Serious Man, A (2009)"
          ],
          [
           "Mystery Men (1999)"
          ],
          [
           "Collateral (2004)"
          ],
          [
           "Mission: Impossible (1996)"
          ],
          [
           "Jagged Edge (1985)"
          ],
          [
           "Never Been Kissed (1999)"
          ],
          [
           "L.A. Story (1991)"
          ],
          [
           "True Lies (1994)"
          ],
          [
           "Total Recall (1990)"
          ],
          [
           "Lost World: Jurassic Park, The (1997)"
          ],
          [
           "All About Eve (1950)"
          ],
          [
           "Being John Malkovich (1999)"
          ],
          [
           "Life Aquatic with Steve Zissou, The (2004)"
          ],
          [
           "Trainspotting (1996)"
          ],
          [
           "Quadrophenia (1979)"
          ],
          [
           "Dr. Dolittle (1998)"
          ],
          [
           "Pretty in Pink (1986)"
          ],
          [
           "Reservoir Dogs (1992)"
          ],
          [
           "Bridget Jones's Diary (2001)"
          ],
          [
           "Shirley Valentine (1989)"
          ],
          [
           "'burbs, The (1989)"
          ],
          [
           "It's a Wonderful Life (1946)"
          ],
          [
           "Pirates of the Caribbean: The Curse of the Black Pearl (2003)"
          ],
          [
           "Scooby-Doo (2002)"
          ],
          [
           "RoboCop 2 (1990)"
          ],
          [
           "AVPR: Aliens vs. Predator - Requiem (2007)"
          ],
          [
           "Nightmare on Elm Street 2: Freddy's Revenge, A (1985)"
          ],
          [
           "Children of the Corn III (1994)"
          ],
          [
           "Pulp Fiction (1994)"
          ],
          [
           "Intolerable Cruelty (2003)"
          ],
          [
           "Natural Born Killers (1994)"
          ],
          [
           "Minority Report (2002)"
          ],
          [
           "Loft (2008)"
          ],
          [
           "Ghost World (2001)"
          ],
          [
           "Minority Report (2002)"
          ],
          [
           "Interview with the Vampire: The Vampire Chronicles (1994)"
          ],
          [
           "Changeling (2008)"
          ],
          [
           "Net, The (1995)"
          ],
          [
           "Star Wars: Episode IV - A New Hope (1977)"
          ],
          [
           "Thomas Crown Affair, The (1968)"
          ],
          [
           "Casablanca (1942)"
          ],
          [
           "Nausicaä of the Valley of the Wind (Kaze no tani no Naushika) (1984)"
          ],
          [
           "Silence of the Lambs, The (1991)"
          ],
          [
           "Air Force One (1997)"
          ],
          [
           "Léon: The Professional (a.k.a. The Professional) (Léon) (1994)"
          ],
          [
           "Legally Blonde (2001)"
          ],
          [
           "Flight of the Phoenix (2004)"
          ],
          [
           "Star Wars: Episode VI - Return of the Jedi (1983)"
          ],
          [
           "Dolores Claiborne (1995)"
          ],
          [
           "Bottle Rocket (1996)"
          ],
          [
           "You've Got Mail (1998)"
          ],
          [
           "Lady Vengeance (Sympathy for Lady Vengeance) (Chinjeolhan geumjassi) (2005)"
          ],
          [
           "Sliding Doors (1998)"
          ],
          [
           "Star Wars: Episode IV - A New Hope (1977)"
          ],
          [
           "Nutty Professor II: The Klumps (2000)"
          ],
          [
           "Metropolis (1927)"
          ],
          [
           "Ace Ventura: When Nature Calls (1995)"
          ],
          [
           "Gladiator (2000)"
          ],
          [
           "Waterworld (1995)"
          ],
          [
           "Silence of the Lambs, The (1991)"
          ],
          [
           "Pitch Black (2000)"
          ],
          [
           "Noah (2014)"
          ],
          [
           "X2: X-Men United (2003)"
          ],
          [
           "Forrest Gump (1994)"
          ],
          [
           "Outsiders, The (1983)"
          ],
          [
           "Dragonheart (1996)"
          ],
          [
           "Game, The (1997)"
          ],
          [
           "Aladdin (1992)"
          ],
          [
           "Harry Potter and the Sorcerer's Stone (a.k.a. Harry Potter and the Philosopher's Stone) (2001)"
          ],
          [
           "Taxi Driver (1976)"
          ],
          [
           "Talk Radio (1988)"
          ],
          [
           "Rocky Horror Picture Show, The (1975)"
          ],
          [
           "Jerk, The (1979)"
          ],
          [
           "Under Siege (1992)"
          ],
          [
           "O Brother, Where Art Thou? (2000)"
          ],
          [
           "48 Hrs. (1982)"
          ],
          [
           "Wicker Man, The (1973)"
          ],
          [
           "Midnight Run (1988)"
          ],
          [
           "Pirates of the Caribbean: The Curse of the Black Pearl (2003)"
          ],
          [
           "Matrix, The (1999)"
          ],
          [
           "Indiana Jones and the Last Crusade (1989)"
          ],
          [
           "George of the Jungle (1997)"
          ],
          [
           "Snow Falling on Cedars (1999)"
          ],
          [
           "O Brother, Where Art Thou? (2000)"
          ],
          [
           "Mystic Pizza (1988)"
          ],
          [
           "Courage Under Fire (1996)"
          ],
          [
           "Troy (2004)"
          ],
          [
           "Lethal Weapon 3 (1992)"
          ],
          [
           "Bad News Bears, The (1976)"
          ],
          [
           "Marked for Death (1990)"
          ],
          [
           "Instinct (1999)"
          ],
          [
           "Murder, My Sweet (1944)"
          ],
          [
           "Chinatown (1974)"
          ],
          [
           "Boot, Das (Boat, The) (1981)"
          ],
          [
           "Madagascar (2005)"
          ],
          [
           "Superbad (2007)"
          ],
          [
           "Batman (1989)"
          ],
          [
           "Finding Forrester (2000)"
          ],
          [
           "Transformers (2007)"
          ],
          [
           "Big One, The (1997)"
          ],
          [
           "Of Mice and Men (1939)"
          ],
          [
           "Mad Max (1979)"
          ],
          [
           "You've Got Mail (1998)"
          ],
          [
           "Mars Attacks! (1996)"
          ],
          [
           "Quick and the Dead, The (1995)"
          ],
          [
           "Suicide Kings (1997)"
          ],
          [
           "Private Parts (1997)"
          ],
          [
           "Peter Pan (1953)"
          ],
          [
           "Awakenings (1990)"
          ],
          [
           "Star Wars: Episode IV - A New Hope (1977)"
          ],
          [
           "To Kill a Mockingbird (1962)"
          ],
          [
           "X-Files: Fight the Future, The (1998)"
          ],
          [
           "Iron Man 2 (2010)"
          ],
          [
           "Good, the Bad and the Ugly, The (Buono, il brutto, il cattivo, Il) (1966)"
          ],
          [
           "Unstrung Heroes (1995)"
          ],
          [
           "Great Santini, The (1979)"
          ],
          [
           "Fugitive, The (1993)"
          ],
          [
           "Texas Chainsaw Massacre, The (1974)"
          ],
          [
           "Muppets From Space (1999)"
          ],
          [
           "Bourne Identity, The (2002)"
          ],
          [
           "Dumb & Dumber (Dumb and Dumber) (1994)"
          ],
          [
           "True Lies (1994)"
          ],
          [
           "V for Vendetta (2006)"
          ],
          [
           "Ghost and the Darkness, The (1996)"
          ],
          [
           "Starship Troopers (1997)"
          ],
          [
           "Hotel Rwanda (2004)"
          ],
          [
           "Borat: Cultural Learnings of America for Make Benefit Glorious Nation of Kazakhstan (2006)"
          ],
          [
           "Amelie (Fabuleux destin d'Amélie Poulain, Le) (2001)"
          ],
          [
           "Jurassic Park (1993)"
          ],
          [
           "Thomas Crown Affair, The (1999)"
          ],
          [
           "Day Watch (Dnevnoy dozor) (2006)"
          ],
          [
           "Anchorman: The Legend of Ron Burgundy (2004)"
          ],
          [
           "Flipper (1996)"
          ],
          [
           "Babe (1995)"
          ],
          [
           "Beauty and the Beast (1991)"
          ],
          [
           "Christmas Vacation (National Lampoon's Christmas Vacation) (1989)"
          ],
          [
           "First Knight (1995)"
          ],
          [
           "Felix the Cat: The Movie (1988)"
          ],
          [
           "X-Men: The Last Stand (2006)"
          ],
          [
           "James and the Giant Peach (1996)"
          ],
          [
           "Pagemaster, The (1994)"
          ],
          [
           "Days of Glory (Indigènes) (2006)"
          ],
          [
           "Sweet Home Alabama (2002)"
          ],
          [
           "Fisher King, The (1991)"
          ],
          [
           "Coraline (2009)"
          ],
          [
           "Ghost (1990)"
          ],
          [
           "Powder (1995)"
          ],
          [
           "Nightmare Before Christmas, The (1993)"
          ],
          [
           "Deep Blue Sea (1999)"
          ],
          [
           "Aladin (2009)"
          ],
          [
           "Big (1988)"
          ],
          [
           "2001: A Space Odyssey (1968)"
          ],
          [
           "Tin Cup (1996)"
          ],
          [
           "Batman: The Dark Knight Returns, Part 1 (2012)"
          ],
          [
           "Local Hero (1983)"
          ],
          [
           "Mr. Nice Guy (Yat goh ho yan) (1997)"
          ],
          [
           "Fugitive, The (1993)"
          ],
          [
           "Primal Fear (1996)"
          ],
          [
           "Rock, The (1996)"
          ],
          [
           "Bulletproof Monk (2003)"
          ],
          [
           "Titus (1999)"
          ],
          [
           "Star Wars: Episode VI - Return of the Jedi (1983)"
          ],
          [
           "Jane Eyre (1944)"
          ],
          [
           "High Fidelity (2000)"
          ],
          [
           "Grumpy Old Men (1993)"
          ],
          [
           "X-Files: Fight the Future, The (1998)"
          ],
          [
           "Ghostbusters (a.k.a. Ghost Busters) (1984)"
          ],
          [
           "Arrival, The (1996)"
          ],
          [
           "Cool Runnings (1993)"
          ],
          [
           "Terminator, The (1984)"
          ],
          [
           "Father of the Bride Part II (1995)"
          ],
          [
           "Lord of the Rings: The Fellowship of the Ring, The (2001)"
          ],
          [
           "Terminator, The (1984)"
          ],
          [
           "Dirty Dancing (1987)"
          ],
          [
           "Psycho (1960)"
          ],
          [
           "Whatever It Takes (2000)"
          ],
          [
           "Outbreak (1995)"
          ],
          [
           "Best in Show (2000)"
          ],
          [
           "Wallace & Gromit: The Wrong Trousers (1993)"
          ],
          [
           "12 Rounds (2009)"
          ],
          [
           "Lethal Weapon (1987)"
          ],
          [
           "All the King's Men (2006)"
          ],
          [
           "Greatest Show on Earth, The (1952)"
          ],
          [
           "I Love Trouble (1994)"
          ],
          [
           "Down to Earth (2001)"
          ],
          [
           "Covenant, The (2006)"
          ],
          [
           "Drawn Together Movie: The Movie!, The (2010)"
          ],
          [
           "Star Trek VI: The Undiscovered Country (1991)"
          ],
          [
           "Lock, Stock & Two Smoking Barrels (1998)"
          ],
          [
           "Breaking the Waves (1996)"
          ],
          [
           "Serenity (2005)"
          ],
          [
           "Twelve Monkeys (a.k.a. 12 Monkeys) (1995)"
          ],
          [
           "Harold and Maude (1971)"
          ],
          [
           "Julie & Julia (2009)"
          ],
          [
           "St. Elmo's Fire (1985)"
          ],
          [
           "Final Destination (2000)"
          ],
          [
           "Day the Earth Stood Still, The (1951)"
          ],
          [
           "High Fidelity (2000)"
          ],
          [
           "Indiana Jones and the Last Crusade (1989)"
          ],
          [
           "Graduate, The (1967)"
          ],
          [
           "Finding Nemo (2003)"
          ],
          [
           "Spy Game (2001)"
          ],
          [
           "What Women Want (2000)"
          ],
          [
           "Mask of Zorro, The (1998)"
          ],
          [
           "Wes Craven's New Nightmare (Nightmare on Elm Street Part 7: Freddy's Finale, A) (1994)"
          ],
          [
           "Hiroshima Mon Amour (1959)"
          ],
          [
           "Rock, The (1996)"
          ],
          [
           "Dead Poets Society (1989)"
          ],
          [
           "Pearl Harbor (2001)"
          ],
          [
           "Wall Street (1987)"
          ],
          [
           "Jurassic Park (1993)"
          ],
          [
           "Nell (1994)"
          ],
          [
           "Waterboy, The (1998)"
          ],
          [
           "Maltese Falcon, The (1941)"
          ],
          [
           "Departed, The (2006)"
          ],
          [
           "Hot Tub Time Machine (2010)"
          ],
          [
           "Strictly Ballroom (1992)"
          ],
          [
           "Going the Distance (2010)"
          ],
          [
           "Killers (2010)"
          ],
          [
           "Evita (1996)"
          ],
          [
           "Joy Luck Club, The (1993)"
          ],
          [
           "Legend of Drunken Master, The (Jui kuen II) (1994)"
          ],
          [
           "Lawnmower Man 2: Beyond Cyberspace (1996)"
          ],
          [
           "Down to Earth (2001)"
          ],
          [
           "Clockwork Orange, A (1971)"
          ],
          [
           "Casino Royale (2006)"
          ],
          [
           "Clear and Present Danger (1994)"
          ],
          [
           "Elephant (2003)"
          ],
          [
           "Paris Is Burning (1990)"
          ],
          [
           "Iron Man (2008)"
          ],
          [
           "Crying Game, The (1992)"
          ],
          [
           "Born Yesterday (1950)"
          ],
          [
           "Toy Story 2 (1999)"
          ],
          [
           "Catwoman (2004)"
          ],
          [
           "Star Wars: Episode II - Attack of the Clones (2002)"
          ],
          [
           "American Outlaws (2001)"
          ],
          [
           "Sling Blade (1996)"
          ],
          [
           "Man Who Wasn't There, The (2001)"
          ],
          [
           "Congo (1995)"
          ],
          [
           "Ladykillers, The (2004)"
          ],
          [
           "Green Mile, The (1999)"
          ],
          [
           "My Giant (1998)"
          ],
          [
           "Magnolia (1999)"
          ],
          [
           "Akira (1988)"
          ],
          [
           "GoldenEye (1995)"
          ],
          [
           "Farinelli: il castrato (1994)"
          ],
          [
           "Quantum of Solace (2008)"
          ],
          [
           "Money Pit, The (1986)"
          ],
          [
           "My Cousin Vinny (1992)"
          ],
          [
           "Quiz Show (1994)"
          ],
          [
           "Beautiful Mind, A (2001)"
          ],
          [
           "Repo Man (1984)"
          ],
          [
           "Fifth Element, The (1997)"
          ],
          [
           "Speed (1994)"
          ],
          [
           "Cliffhanger (1993)"
          ],
          [
           "I.Q. (1994)"
          ],
          [
           "X2: X-Men United (2003)"
          ],
          [
           "Iron Man (2008)"
          ],
          [
           "Stargate (1994)"
          ],
          [
           "WALL·E (2008)"
          ],
          [
           "Quantum of Solace (2008)"
          ],
          [
           "Finding Forrester (2000)"
          ],
          [
           "Shining, The (1980)"
          ],
          [
           "Rio Bravo (1959)"
          ],
          [
           "Lucky Number Slevin (2006)"
          ],
          [
           "Chasing Amy (1997)"
          ],
          [
           "Lord of the Rings: The Two Towers, The (2002)"
          ],
          [
           "Suicide Kings (1997)"
          ],
          [
           "River Wild, The (1994)"
          ],
          [
           "Free Willy 2: The Adventure Home (1995)"
          ],
          [
           "Carlito's Way (1993)"
          ],
          [
           "Psycho (1960)"
          ],
          [
           "Lean on Me (1989)"
          ],
          [
           "Eraserhead (1977)"
          ],
          [
           "Crimes and Misdemeanors (1989)"
          ],
          [
           "Four Days in September (O Que É Isso, Companheiro?) (1997)"
          ],
          [
           "Shrek (2001)"
          ],
          [
           "Zoolander (2001)"
          ],
          [
           "Hamlet (1996)"
          ],
          [
           "Marnie (1964)"
          ],
          [
           "Babe (1995)"
          ],
          [
           "Melinda and Melinda (2004)"
          ],
          [
           "Choices (1981)"
          ],
          [
           "Taxi Driver (1976)"
          ],
          [
           "From Dusk Till Dawn (1996)"
          ],
          [
           "Glengarry Glen Ross (1992)"
          ],
          [
           "Mission: Impossible (1996)"
          ],
          [
           "Score, The (2001)"
          ],
          [
           "Old Man and the Sea, The (1958)"
          ],
          [
           "Insomnia (2002)"
          ],
          [
           "Star Wars: Episode IV - A New Hope (1977)"
          ],
          [
           "Meet the Parents (2000)"
          ],
          [
           "Winnie the Pooh and the Blustery Day (1968)"
          ],
          [
           "Kiss Kiss Bang Bang (2005)"
          ],
          [
           "Toy Story (1995)"
          ],
          [
           "Conan the Barbarian (1982)"
          ],
          [
           "Funny Face (1957)"
          ],
          [
           "Tin Cup (1996)"
          ],
          [
           "Amadeus (1984)"
          ],
          [
           "Farewell My Concubine (Ba wang bie ji) (1993)"
          ],
          [
           "8 1/2 (8½) (1963)"
          ],
          [
           "Sunset Blvd. (a.k.a. Sunset Boulevard) (1950)"
          ],
          [
           "Magnificent Seven, The (1960)"
          ],
          [
           "Old School (2003)"
          ],
          [
           "Anastasia (1997)"
          ],
          [
           "Vanishing, The (1993)"
          ],
          [
           "Mask, The (1994)"
          ],
          [
           "Gift, The (2000)"
          ],
          [
           "Harry Potter and the Deathly Hallows: Part 1 (2010)"
          ],
          [
           "Muppets Take Manhattan, The (1984)"
          ],
          [
           "My Left Foot (1989)"
          ],
          [
           "Corky Romano (2001)"
          ],
          [
           "With Honors (1994)"
          ],
          [
           "Party, The (1968)"
          ],
          [
           "Star Trek: First Contact (1996)"
          ],
          [
           "Shawshank Redemption, The (1994)"
          ],
          [
           "Strada, La (1954)"
          ],
          [
           "Heavenly Creatures (1994)"
          ],
          [
           "Underworld: Awakening (2012)"
          ],
          [
           "Mighty Aphrodite (1995)"
          ],
          [
           "Tarnation (2003)"
          ],
          [
           "Ocean's Eleven (2001)"
          ],
          [
           "Return of Martin Guerre, The (Retour de Martin Guerre, Le) (1982)"
          ],
          [
           "Crimson Tide (1995)"
          ],
          [
           "Road Trip (2000)"
          ],
          [
           "Miracle on 34th Street (1994)"
          ],
          [
           "Clear and Present Danger (1994)"
          ],
          [
           "Four Weddings and a Funeral (1994)"
          ],
          [
           "Little Buddha (1993)"
          ],
          [
           "Thing, The (1982)"
          ],
          [
           "Mrs. Doubtfire (1993)"
          ],
          [
           "Tombstone (1993)"
          ],
          [
           "Shrek (2001)"
          ],
          [
           "To Live and Die in L.A. (1985)"
          ],
          [
           "Casino (1995)"
          ],
          [
           "Tales from the Crypt Presents: Demon Knight (1995)"
          ],
          [
           "Where the Heart Is (2000)"
          ],
          [
           "Secretary (2002)"
          ],
          [
           "Robin Hood: Men in Tights (1993)"
          ],
          [
           "Backdraft (1991)"
          ],
          [
           "Spawn (1997)"
          ],
          [
           "Lethal Weapon (1987)"
          ],
          [
           "Tombstone (1993)"
          ],
          [
           "Finding Nemo (2003)"
          ],
          [
           "School of Rock (2003)"
          ],
          [
           "Mystic Pizza (1988)"
          ],
          [
           "Graduate, The (1967)"
          ],
          [
           "Forrest Gump (1994)"
          ],
          [
           "Devil's Advocate, The (1997)"
          ],
          [
           "Star Trek: Generations (1994)"
          ],
          [
           "Bandits (2001)"
          ],
          [
           "Being There (1979)"
          ],
          [
           "Shutter Island (2010)"
          ],
          [
           "Lives of Others, The (Das leben der Anderen) (2006)"
          ],
          [
           "Men in Black (a.k.a. MIB) (1997)"
          ],
          [
           "Air Force One (1997)"
          ],
          [
           "Remains of the Day, The (1993)"
          ],
          [
           "Godfather, The (1972)"
          ],
          [
           "Guess Who's Coming to Dinner (1967)"
          ],
          [
           "Schindler's List (1993)"
          ],
          [
           "Remember the Titans (2000)"
          ],
          [
           "Roger & Me (1989)"
          ],
          [
           "In America (2002)"
          ],
          [
           "Mummy, The (1999)"
          ],
          [
           "Mallrats (1995)"
          ],
          [
           "Strange Days (1995)"
          ],
          [
           "Sherlock Holmes (2009)"
          ],
          [
           "Gattaca (1997)"
          ],
          [
           "Return from Witch Mountain (1978)"
          ],
          [
           "Interview with the Vampire: The Vampire Chronicles (1994)"
          ],
          [
           "Gone with the Wind (1939)"
          ],
          [
           "Sliver (1993)"
          ],
          [
           "Hobbit: An Unexpected Journey, The (2012)"
          ],
          [
           "Apple Dumpling Gang, The (1975)"
          ],
          [
           "Shawshank Redemption, The (1994)"
          ],
          [
           "Sleepless in Seattle (1993)"
          ],
          [
           "Crow, The (1994)"
          ],
          [
           "What Dreams May Come (1998)"
          ],
          [
           "Postman, The (1997)"
          ],
          [
           "Hamlet (2000)"
          ],
          [
           "Forrest Gump (1994)"
          ],
          [
           "Braveheart (1995)"
          ],
          [
           "Terms of Endearment (1983)"
          ],
          [
           "Nick and Norah's Infinite Playlist (2008)"
          ],
          [
           "Two Girls and a Guy (1997)"
          ],
          [
           "Last Picture Show, The (1971)"
          ],
          [
           "Goldfinger (1964)"
          ],
          [
           "Bounty, The (1984)"
          ],
          [
           "Lonesome Dove (1989)"
          ],
          [
           "Sweet Hereafter, The (1997)"
          ],
          [
           "Source Code (2011)"
          ],
          [
           "D2: The Mighty Ducks (1994)"
          ],
          [
           "Willard (2003)"
          ],
          [
           "Clear and Present Danger (1994)"
          ],
          [
           "Monsters, Inc. (2001)"
          ],
          [
           "Schindler's List (1993)"
          ],
          [
           "Forrest Gump (1994)"
          ],
          [
           "Tale of Two Sisters, A (Janghwa, Hongryeon) (2003)"
          ],
          [
           "Road Warrior, The (Mad Max 2) (1981)"
          ],
          [
           "Dead Man Walking (1995)"
          ],
          [
           "Immortal Beloved (1994)"
          ],
          [
           "Trading Places (1983)"
          ],
          [
           "20,000 Leagues Under the Sea (1954)"
          ],
          [
           "Ghostbusters (a.k.a. Ghost Busters) (1984)"
          ],
          [
           "Texas Chainsaw Massacre 2, The (1986)"
          ],
          [
           "Beautiful Mind, A (2001)"
          ],
          [
           "Double Indemnity (1944)"
          ],
          [
           "Phone Booth (2002)"
          ],
          [
           "Gladiator (2000)"
          ],
          [
           "Proof of Life (2000)"
          ],
          [
           "Emperor's New Groove, The (2000)"
          ],
          [
           "United States of Leland, The (2003)"
          ],
          [
           "Slap Shot (1977)"
          ],
          [
           "Days of Wine and Roses (1962)"
          ],
          [
           "Talladega Nights: The Ballad of Ricky Bobby (2006)"
          ],
          [
           "Wallace & Gromit: The Wrong Trousers (1993)"
          ],
          [
           "Last Picture Show, The (1971)"
          ],
          [
           "My Science Project (1985)"
          ],
          [
           "Interview with the Vampire: The Vampire Chronicles (1994)"
          ],
          [
           "Godfather, The (1972)"
          ],
          [
           "Free Enterprise (1998)"
          ],
          [
           "Mean Streets (1973)"
          ],
          [
           "Cast Away (2000)"
          ],
          [
           "Goldfinger (1964)"
          ],
          [
           "Finding Neverland (2004)"
          ],
          [
           "Walk to Remember, A (2002)"
          ],
          [
           "Dances with Wolves (1990)"
          ],
          [
           "Crow, The (1994)"
          ],
          [
           "Clueless (1995)"
          ],
          [
           "Ring, The (2002)"
          ],
          [
           "Clueless (1995)"
          ],
          [
           "Ant Bully, The (2006)"
          ],
          [
           "Santa Clause 2, The (2002)"
          ],
          [
           "As Good as It Gets (1997)"
          ],
          [
           "Postman Always Rings Twice, The (1981)"
          ],
          [
           "Apocalypse Now (1979)"
          ],
          [
           "Monsters, Inc. (2001)"
          ],
          [
           "Miracle on 34th Street (1947)"
          ],
          [
           "Lawrence of Arabia (1962)"
          ],
          [
           "Moonstruck (1987)"
          ],
          [
           "Sweeney Todd: The Demon Barber of Fleet Street (2007)"
          ],
          [
           "Clerks (1994)"
          ],
          [
           "What's Eating Gilbert Grape (1993)"
          ],
          [
           "Devil in a Blue Dress (1995)"
          ],
          [
           "I.Q. (1994)"
          ],
          [
           "Into the Wild (2007)"
          ],
          [
           "From Dusk Till Dawn (1996)"
          ],
          [
           "Snatch (2000)"
          ],
          [
           "Big Momma's House (2000)"
          ],
          [
           "Chinatown (1974)"
          ],
          [
           "Nutty Professor II: The Klumps (2000)"
          ],
          [
           "Biloxi Blues (1988)"
          ],
          [
           "The Butterfly Effect (2004)"
          ],
          [
           "Sleepless in Seattle (1993)"
          ],
          [
           "Talented Mr. Ripley, The (1999)"
          ],
          [
           "Peter Pan (2003)"
          ],
          [
           "Sleepless in Seattle (1993)"
          ],
          [
           "Dragonheart (1996)"
          ],
          [
           "Elizabeth (1998)"
          ],
          [
           "Grease (1978)"
          ],
          [
           "Fistful of Dollars, A (Per un pugno di dollari) (1964)"
          ],
          [
           "Enemy at the Gates (2001)"
          ],
          [
           "50/50 (2011)"
          ],
          [
           "Dave (1993)"
          ],
          [
           "Dirty Dozen, The (1967)"
          ],
          [
           "Total Recall (1990)"
          ],
          [
           "Corrina, Corrina (1994)"
          ],
          [
           "Futurama: Bender's Big Score (2007)"
          ],
          [
           "Jaws (1975)"
          ],
          [
           "Possession (2002)"
          ],
          [
           "Rat Race (2001)"
          ],
          [
           "Prizzi's Honor (1985)"
          ],
          [
           "Fantasia (1940)"
          ],
          [
           "Twelve Monkeys (a.k.a. 12 Monkeys) (1995)"
          ],
          [
           "Whale Rider (2002)"
          ],
          [
           "Crazy in Alabama (1999)"
          ],
          [
           "Juror, The (1996)"
          ],
          [
           "School of Rock (2003)"
          ],
          [
           "Batman Forever (1995)"
          ],
          [
           "Dead Poets Society (1989)"
          ],
          [
           "Graduate, The (1967)"
          ],
          [
           "Fog of War: Eleven Lessons from the Life of Robert S. McNamara, The (2003)"
          ],
          [
           "Hours, The (2002)"
          ],
          [
           "Ocean's Thirteen (2007)"
          ],
          [
           "Wedding Crashers (2005)"
          ],
          [
           "Terminator 2: Judgment Day (1991)"
          ],
          [
           "Fireworks (Hana-bi) (1997)"
          ],
          [
           "Fugitive, The (1993)"
          ],
          [
           "Enchanted (2007)"
          ],
          [
           "Good bye, Lenin! (2003)"
          ],
          [
           "How to Make an American Quilt (1995)"
          ],
          [
           "Interiors (1978)"
          ],
          [
           "First Wives Club, The (1996)"
          ],
          [
           "Usual Suspects, The (1995)"
          ],
          [
           "Stranger, The (1946)"
          ],
          [
           "Tropic Thunder (2008)"
          ],
          [
           "Tootsie (1982)"
          ],
          [
           "Surviving the Game (1994)"
          ],
          [
           "Dark Knight Rises, The (2012)"
          ],
          [
           "Lion King, The (1994)"
          ],
          [
           "Remember the Titans (2000)"
          ],
          [
           "Whole Nine Yards, The (2000)"
          ],
          [
           "Wreck-It Ralph (2012)"
          ],
          [
           "King of Comedy, The (1983)"
          ],
          [
           "Ace Ventura: When Nature Calls (1995)"
          ],
          [
           "Blow (2001)"
          ],
          [
           "Girl, Interrupted (1999)"
          ],
          [
           "Chocolat (2000)"
          ],
          [
           "She's Gotta Have It (1986)"
          ],
          [
           "Space Cowboys (2000)"
          ],
          [
           "Reservoir Dogs (1992)"
          ],
          [
           "True Lies (1994)"
          ],
          [
           "Tinker Tailor Soldier Spy (2011)"
          ],
          [
           "Lost World: Jurassic Park, The (1997)"
          ],
          [
           "Big (1988)"
          ],
          [
           "Devil's Backbone, The (Espinazo del diablo, El) (2001)"
          ],
          [
           "Blob, The (1958)"
          ],
          [
           "Spider-Man (2002)"
          ],
          [
           "City of Lost Children, The (Cité des enfants perdus, La) (1995)"
          ],
          [
           "Sum of Us, The (1994)"
          ],
          [
           "Brüno (Bruno) (2009)"
          ],
          [
           "Batman Returns (1992)"
          ],
          [
           "Ring, The (2002)"
          ],
          [
           "Iron Giant, The (1999)"
          ],
          [
           "Hercules (1997)"
          ],
          [
           "Star Trek: First Contact (1996)"
          ],
          [
           "Ladder 49 (2004)"
          ],
          [
           "Spartan (2004)"
          ],
          [
           "Inception (2010)"
          ],
          [
           "Die Hard (1988)"
          ],
          [
           "Deep Blue Sea (1999)"
          ],
          [
           "Stripes (1981)"
          ],
          [
           "Siege, The (1998)"
          ],
          [
           "Gothic (1986)"
          ],
          [
           "Klute (1971)"
          ],
          [
           "Wrestler, The (2008)"
          ],
          [
           "Hustler, The (1961)"
          ],
          [
           "Jeffrey (1995)"
          ],
          [
           "Master and Commander: The Far Side of the World (2003)"
          ],
          [
           "Adventures of Robin Hood, The (1938)"
          ],
          [
           "Scrooged (1988)"
          ],
          [
           "Mr. Blandings Builds His Dream House (1948)"
          ],
          [
           "Gettysburg (1993)"
          ],
          [
           "Back to the Future Part II (1989)"
          ],
          [
           "Happening, The (2008)"
          ],
          [
           "U.S. Marshals (1998)"
          ],
          [
           "Rashomon (Rashômon) (1950)"
          ],
          [
           "Braveheart (1995)"
          ],
          [
           "Swordfish (2001)"
          ],
          [
           "Interview with the Vampire: The Vampire Chronicles (1994)"
          ],
          [
           "Eyes Wide Shut (1999)"
          ],
          [
           "Notebook, The (2004)"
          ],
          [
           "eXistenZ (1999)"
          ],
          [
           "Bio-Dome (1996)"
          ],
          [
           "Cloverfield (2008)"
          ],
          [
           "Lord of the Rings: The Two Towers, The (2002)"
          ],
          [
           "Harry Potter and the Goblet of Fire (2005)"
          ],
          [
           "You Can Count on Me (2000)"
          ],
          [
           "Breaking the Waves (1996)"
          ],
          [
           "Run Lola Run (Lola rennt) (1998)"
          ],
          [
           "Dangerous Minds (1995)"
          ],
          [
           "Baby Mama (2008)"
          ],
          [
           "Indiana Jones and the Last Crusade (1989)"
          ],
          [
           "Dolores Claiborne (1995)"
          ],
          [
           "Little Buddha (1993)"
          ],
          [
           "Joe Versus the Volcano (1990)"
          ],
          [
           "Full Metal Jacket (1987)"
          ],
          [
           "Postal (2007)"
          ],
          [
           "Spider-Man 3 (2007)"
          ],
          [
           "Clockwork Orange, A (1971)"
          ],
          [
           "Green Zone (2010)"
          ],
          [
           "In the Line of Fire (1993)"
          ],
          [
           "Primal Fear (1996)"
          ],
          [
           "Grease (1978)"
          ],
          [
           "Simple Plan, A (1998)"
          ],
          [
           "Die Hard 2 (1990)"
          ],
          [
           "Ulee's Gold (1997)"
          ],
          [
           "Bourne Supremacy, The (2004)"
          ],
          [
           "Beavis and Butt-Head Do America (1996)"
          ],
          [
           "Fried Green Tomatoes (1991)"
          ],
          [
           "Raiders of the Lost Ark (Indiana Jones and the Raiders of the Lost Ark) (1981)"
          ],
          [
           "Training Day (2001)"
          ],
          [
           "Mummy Returns, The (2001)"
          ],
          [
           "Beverly Hills Cop III (1994)"
          ],
          [
           "Civil Action, A (1998)"
          ],
          [
           "Lost World: Jurassic Park, The (1997)"
          ],
          [
           "Wes Craven's New Nightmare (Nightmare on Elm Street Part 7: Freddy's Finale, A) (1994)"
          ],
          [
           "Ghostbusters II (1989)"
          ],
          [
           "E.T. the Extra-Terrestrial (1982)"
          ],
          [
           "Pulp Fiction (1994)"
          ],
          [
           "Reality Bites (1994)"
          ],
          [
           "Shortbus (2006)"
          ],
          [
           "Blade Runner (1982)"
          ],
          [
           "Weather Man, The (2005)"
          ],
          [
           "True Romance (1993)"
          ],
          [
           "Blazing Saddles (1974)"
          ],
          [
           "Nutty Professor, The (1996)"
          ],
          [
           "Felicia's Journey (1999)"
          ],
          [
           "Donnie Darko (2001)"
          ],
          [
           "Disclosure (1994)"
          ],
          [
           "Airplane! (1980)"
          ],
          [
           "Ernest Goes to Africa (1997)"
          ],
          [
           "Judge Dredd (1995)"
          ],
          [
           "Black Book (Zwartboek) (2006)"
          ],
          [
           "Mars Attacks! (1996)"
          ],
          [
           "Spider-Man 2 (2004)"
          ],
          [
           "Face/Off (1997)"
          ],
          [
           "Constant Gardener, The (2005)"
          ],
          [
           "Pulp Fiction (1994)"
          ],
          [
           "Rocky Horror Picture Show, The (1975)"
          ],
          [
           "Aliens (1986)"
          ],
          [
           "Fight Club (1999)"
          ],
          [
           "RocknRolla (2008)"
          ],
          [
           "Pink Floyd: The Wall (1982)"
          ],
          [
           "Braveheart (1995)"
          ],
          [
           "Muriel's Wedding (1994)"
          ],
          [
           "Deer Hunter, The (1978)"
          ],
          [
           "Lord of the Rings: The Return of the King, The (2003)"
          ],
          [
           "Monsters, Inc. (2001)"
          ],
          [
           "Flight (2012)"
          ],
          [
           "Alive (1993)"
          ],
          [
           "Bridge on the River Kwai, The (1957)"
          ],
          [
           "Into the Wild (2007)"
          ],
          [
           "Lady Vanishes, The (1938)"
          ],
          [
           "Wedding Singer, The (1998)"
          ],
          [
           "Cast Away (2000)"
          ],
          [
           "Crash (2004)"
          ],
          [
           "Chungking Express (Chung Hing sam lam) (1994)"
          ],
          [
           "Nosferatu the Vampyre (Nosferatu: Phantom der Nacht) (1979)"
          ],
          [
           "Splash (1984)"
          ],
          [
           "Barry Lyndon (1975)"
          ],
          [
           "O Brother, Where Art Thou? (2000)"
          ],
          [
           "Ace Ventura: When Nature Calls (1995)"
          ],
          [
           "Strictly Ballroom (1992)"
          ],
          [
           "About Schmidt (2002)"
          ],
          [
           "Master and Commander: The Far Side of the World (2003)"
          ],
          [
           "Condorman (1981)"
          ],
          [
           "Speed (1994)"
          ],
          [
           "White Water Summer (1987)"
          ],
          [
           "Men in Black (a.k.a. MIB) (1997)"
          ],
          [
           "Psycho (1960)"
          ],
          [
           "Brazil (1985)"
          ],
          [
           "Godfather, The (1972)"
          ],
          [
           "Fatal Attraction (1987)"
          ],
          [
           "Children of the Corn IV: The Gathering (1996)"
          ],
          [
           "Roger Dodger (2002)"
          ],
          [
           "Inception (2010)"
          ],
          [
           "Exorcist, The (1973)"
          ],
          [
           "Space Cowboys (2000)"
          ],
          [
           "Lord of the Rings: The Two Towers, The (2002)"
          ],
          [
           "Dead Poets Society (1989)"
          ],
          [
           "Business, The (2005)"
          ],
          [
           "Master and Commander: The Far Side of the World (2003)"
          ],
          [
           "Requiem for a Dream (2000)"
          ],
          [
           "Addams Family, The (1991)"
          ],
          [
           "Payback (1999)"
          ],
          [
           "Big Chill, The (1983)"
          ],
          [
           "From Dusk Till Dawn (1996)"
          ],
          [
           "Yellowbeard (1983)"
          ],
          [
           "Pulp Fiction (1994)"
          ],
          [
           "Enemy of the State (1998)"
          ],
          [
           "Tombstone (1993)"
          ],
          [
           "Amelie (Fabuleux destin d'Amélie Poulain, Le) (2001)"
          ],
          [
           "Memento (2000)"
          ],
          [
           "Heavy Metal (1981)"
          ],
          [
           "L.A. Story (1991)"
          ],
          [
           "Mermaids (1990)"
          ],
          [
           "Vanilla Sky (2001)"
          ],
          [
           "Star Trek: Generations (1994)"
          ],
          [
           "Bloodsport (1988)"
          ],
          [
           "China Syndrome, The (1979)"
          ],
          [
           "Something to Talk About (1995)"
          ],
          [
           "Cube (1997)"
          ],
          [
           "Lord of the Rings: The Fellowship of the Ring, The (2001)"
          ],
          [
           "North by Northwest (1959)"
          ],
          [
           "Superman (1978)"
          ],
          [
           "Crimson Tide (1995)"
          ],
          [
           "Ferris Bueller's Day Off (1986)"
          ],
          [
           "Coyote Ugly (2000)"
          ],
          [
           "Freshman, The (1990)"
          ],
          [
           "Creepshow (1982)"
          ],
          [
           "Business of Strangers, The (2001)"
          ],
          [
           "Shakespeare in Love (1998)"
          ],
          [
           "Incredibles, The (2004)"
          ],
          [
           "Pink Panther Strikes Again, The (1976)"
          ],
          [
           "Léon: The Professional (a.k.a. The Professional) (Léon) (1994)"
          ],
          [
           "Alfie (1966)"
          ],
          [
           "Layer Cake (2004)"
          ],
          [
           "Naked Lunch (1991)"
          ],
          [
           "Girl with the Dragon Tattoo, The (2011)"
          ],
          [
           "Men in Black II (a.k.a. MIIB) (a.k.a. MIB 2) (2002)"
          ],
          [
           "Educating Rita (1983)"
          ],
          [
           "Unfinished Piece for a Player Piano, An (Neokonchennaya pyesa dlya mekhanicheskogo pianino) (1977)"
          ],
          [
           "Spaceballs (1987)"
          ],
          [
           "Me, Myself & Irene (2000)"
          ],
          [
           "Jumpin' Jack Flash (1986)"
          ],
          [
           "Brady Bunch Movie, The (1995)"
          ],
          [
           "Back to the Future (1985)"
          ],
          [
           "Burlesque (2010)"
          ],
          [
           "Money Train (1995)"
          ],
          [
           "Hellraiser III: Hell on Earth (1992)"
          ],
          [
           "Groundhog Day (1993)"
          ],
          [
           "District 9 (2009)"
          ],
          [
           "Clear and Present Danger (1994)"
          ],
          [
           "Let the Right One In (Låt den rätte komma in) (2008)"
          ],
          [
           "Tank Girl (1995)"
          ],
          [
           "Chicago (2002)"
          ],
          [
           "Dune (1984)"
          ],
          [
           "Thing, The (1982)"
          ],
          [
           "Matchstick Men (2003)"
          ],
          [
           "Beauty and the Beast (1991)"
          ],
          [
           "Star Trek: Insurrection (1998)"
          ],
          [
           "Pulp Fiction (1994)"
          ],
          [
           "Hunchback of Notre Dame, The (1996)"
          ],
          [
           "I Spy (2002)"
          ],
          [
           "Road Warrior, The (Mad Max 2) (1981)"
          ],
          [
           "Far and Away (1992)"
          ],
          [
           "One, The (2001)"
          ],
          [
           "Beauty and the Beast (1991)"
          ],
          [
           "Powder (1995)"
          ],
          [
           "Play Misty for Me (1971)"
          ],
          [
           "Memento (2000)"
          ],
          [
           "Deliverance (1972)"
          ],
          [
           "Truth About Cats & Dogs, The (1996)"
          ],
          [
           "Anatomy of a Murder (1959)"
          ],
          [
           "Earthsea (Legend of Earthsea) (2004)"
          ],
          [
           "Lincoln Lawyer, The (2011)"
          ],
          [
           "Super Size Me (2004)"
          ],
          [
           "Toy Story (1995)"
          ],
          [
           "Airplane! (1980)"
          ],
          [
           "Crouching Tiger, Hidden Dragon (Wo hu cang long) (2000)"
          ],
          [
           "Divergent (2014)"
          ],
          [
           "Grosse Pointe Blank (1997)"
          ],
          [
           "Iron Man (2008)"
          ],
          [
           "Ghostbusters (a.k.a. Ghost Busters) (1984)"
          ],
          [
           "True Lies (1994)"
          ],
          [
           "Apocalypse Now (1979)"
          ],
          [
           "Room with a View, A (1986)"
          ],
          [
           "Godfather, The (1972)"
          ],
          [
           "Home Alone (1990)"
          ],
          [
           "Austin Powers in Goldmember (2002)"
          ],
          [
           "East of Eden (1955)"
          ],
          [
           "Bug's Life, A (1998)"
          ],
          [
           "Cyborg (1989)"
          ],
          [
           "Princess Bride, The (1987)"
          ],
          [
           "My Big Fat Greek Wedding (2002)"
          ],
          [
           "At First Sight (1999)"
          ],
          [
           "Living Daylights, The (1987)"
          ],
          [
           "Copycat (1995)"
          ],
          [
           "One Hour Photo (2002)"
          ],
          [
           "Fugitive, The (1993)"
          ],
          [
           "Drop Dead Fred (1991)"
          ],
          [
           "Aliens (1986)"
          ],
          [
           "Producers, The (1968)"
          ],
          [
           "Wrestler, The (2008)"
          ],
          [
           "American History X (1998)"
          ],
          [
           "Ocean's Twelve (2004)"
          ],
          [
           "Hotel Rwanda (2004)"
          ],
          [
           "Bull Durham (1988)"
          ],
          [
           "Godfather, The (1972)"
          ],
          [
           "Reaping, The (2007)"
          ],
          [
           "Omen, The (2006)"
          ],
          [
           "Virgin Suicides, The (1999)"
          ],
          [
           "Splash (1984)"
          ],
          [
           "Rear Window (1954)"
          ],
          [
           "Mary Poppins (1964)"
          ],
          [
           "Pitch Black (2000)"
          ],
          [
           "Dead Poets Society (1989)"
          ],
          [
           "40 Days and 40 Nights (2002)"
          ],
          [
           "Wolf (1994)"
          ],
          [
           "Insider, The (1999)"
          ],
          [
           "Ran (1985)"
          ],
          [
           "Crocodile Dundee (1986)"
          ],
          [
           "Fish Called Wanda, A (1988)"
          ],
          [
           "Bowling for Columbine (2002)"
          ],
          [
           "Sword in the Stone, The (1963)"
          ],
          [
           "Hurricane, The (1999)"
          ],
          [
           "Annie (1982)"
          ],
          [
           "Black Swan (2010)"
          ],
          [
           "Maltese Falcon, The (1941)"
          ],
          [
           "Escape Plan (2013)"
          ],
          [
           "Dodgeball: A True Underdog Story (2004)"
          ],
          [
           "Twister (1996)"
          ],
          [
           "Doctor Dolittle (1967)"
          ],
          [
           "Gladiator (2000)"
          ],
          [
           "Village of the Damned (1960)"
          ],
          [
           "Men in Black II (a.k.a. MIIB) (a.k.a. MIB 2) (2002)"
          ],
          [
           "I Am Legend (2007)"
          ],
          [
           "Underworld (2003)"
          ],
          [
           "Sex and Death 101 (2007)"
          ],
          [
           "Fight Club (1999)"
          ],
          [
           "That Hamilton Woman (1941)"
          ],
          [
           "Super Mario Bros. (1993)"
          ],
          [
           "Eagle Has Landed, The (1976)"
          ],
          [
           "Haunting, The (1963)"
          ],
          [
           "Apollo 13 (1995)"
          ],
          [
           "What About Bob? (1991)"
          ],
          [
           "Schindler's List (1993)"
          ],
          [
           "All About Eve (1950)"
          ],
          [
           "Twelve Monkeys (a.k.a. 12 Monkeys) (1995)"
          ],
          [
           "Coach Carter (2005)"
          ],
          [
           "Ratatouille (2007)"
          ],
          [
           "Tango & Cash (1989)"
          ],
          [
           "Dr. Strangelove or: How I Learned to Stop Worrying and Love the Bomb (1964)"
          ],
          [
           "Perfume: The Story of a Murderer (2006)"
          ],
          [
           "Evita (1996)"
          ],
          [
           "Foxfire (1996)"
          ],
          [
           "Silence of the Lambs, The (1991)"
          ],
          [
           "Guardians of the Galaxy (2014)"
          ],
          [
           "Third Man, The (1949)"
          ],
          [
           "Nightmare on Elm Street, A (1984)"
          ],
          [
           "Me, Myself & Irene (2000)"
          ],
          [
           "Titanic (1997)"
          ],
          [
           "Chain Reaction (1996)"
          ],
          [
           "Born on the Fourth of July (1989)"
          ],
          [
           "Quadrophenia (1979)"
          ],
          [
           "Matrix Reloaded, The (2003)"
          ],
          [
           "Perfume: The Story of a Murderer (2006)"
          ],
          [
           "Naked Gun: From the Files of Police Squad!, The (1988)"
          ],
          [
           "Snows of Kilimanjaro, The (1952)"
          ],
          [
           "Dark Knight Rises, The (2012)"
          ],
          [
           "Pitch Black (2000)"
          ],
          [
           "Full Monty, The (1997)"
          ],
          [
           "Get Shorty (1995)"
          ],
          [
           "Blair Witch Project, The (1999)"
          ],
          [
           "Little Children (2006)"
          ],
          [
           "Striptease (1996)"
          ],
          [
           "Old Man and the Sea, The (1958)"
          ],
          [
           "Man with the Golden Gun, The (1974)"
          ],
          [
           "Together (Tillsammans) (2000)"
          ],
          [
           "Rock, The (1996)"
          ],
          [
           "First Blood (Rambo: First Blood) (1982)"
          ],
          [
           "Debt, The (2011)"
          ],
          [
           "Star Trek III: The Search for Spock (1984)"
          ],
          [
           "Turner & Hooch (1989)"
          ],
          [
           "Star Trek (2009)"
          ],
          [
           "Replacement Killers, The (1998)"
          ],
          [
           "Leaving Las Vegas (1995)"
          ],
          [
           "Goodfellas (1990)"
          ],
          [
           "Reversal of Fortune (1990)"
          ],
          [
           "Clerks (1994)"
          ],
          [
           "Frances Ha (2012)"
          ],
          [
           "Dancer in the Dark (2000)"
          ],
          [
           "Scorpion King, The (2002)"
          ],
          [
           "Van Helsing (2004)"
          ],
          [
           "Freddy's Dead: The Final Nightmare (Nightmare on Elm Street Part 6: Freddy's Dead, A) (1991)"
          ],
          [
           "Rain Man (1988)"
          ],
          [
           "Ransom (1996)"
          ],
          [
           "Desperately Seeking Susan (1985)"
          ],
          [
           "Promise, The (La promesse) (1996)"
          ],
          [
           "Bridge on the River Kwai, The (1957)"
          ],
          [
           "Sixth Sense, The (1999)"
          ],
          [
           "She's So Lovely (1997)"
          ],
          [
           "Branded (2012)"
          ],
          [
           "State and Main (2000)"
          ],
          [
           "Sleepy Hollow (1999)"
          ],
          [
           "Blades of Glory (2007)"
          ],
          [
           "300 (2007)"
          ],
          [
           "Great Muppet Caper, The (1981)"
          ],
          [
           "Astronaut's Wife, The (1999)"
          ],
          [
           "Seven (a.k.a. Se7en) (1995)"
          ],
          [
           "Black Hawk Down (2001)"
          ],
          [
           "Rio Bravo (1959)"
          ],
          [
           "Ed Wood (1994)"
          ],
          [
           "Dangerous Minds (1995)"
          ],
          [
           "Silence of the Lambs, The (1991)"
          ],
          [
           "Bourne Ultimatum, The (2007)"
          ],
          [
           "Dumb & Dumber (Dumb and Dumber) (1994)"
          ],
          [
           "Star Trek (2009)"
          ],
          [
           "Talented Mr. Ripley, The (1999)"
          ],
          [
           "Face/Off (1997)"
          ],
          [
           "Star Wars: Episode VI - Return of the Jedi (1983)"
          ],
          [
           "Sting, The (1973)"
          ],
          [
           "Toy Story 2 (1999)"
          ],
          [
           "Ace Ventura: Pet Detective (1994)"
          ],
          [
           "Austin Powers in Goldmember (2002)"
          ],
          [
           "Iron Man (2008)"
          ],
          [
           "L.A. Story (1991)"
          ],
          [
           "Striking Distance (1993)"
          ],
          [
           "Dogma (1999)"
          ],
          [
           "Christmas Story, A (1983)"
          ],
          [
           "Piano, The (1993)"
          ],
          [
           "U-571 (2000)"
          ],
          [
           "Patton (1970)"
          ],
          [
           "Pretty Woman (1990)"
          ],
          [
           "Snake Eyes (1998)"
          ],
          [
           "White Men Can't Jump (1992)"
          ],
          [
           "Repulsion (1965)"
          ],
          [
           "True Grit (1969)"
          ],
          [
           "Raiders of the Lost Ark (Indiana Jones and the Raiders of the Lost Ark) (1981)"
          ],
          [
           "Nutty Professor, The (1996)"
          ],
          [
           "Witness (1985)"
          ],
          [
           "400 Blows, The (Les quatre cents coups) (1959)"
          ],
          [
           "Fantasia 2000 (1999)"
          ],
          [
           "James and the Giant Peach (1996)"
          ],
          [
           "Mr. & Mrs. Smith (2005)"
          ],
          [
           "Deceiver (1997)"
          ],
          [
           "Notes on a Scandal (2006)"
          ],
          [
           "Love & Sex (2000)"
          ],
          [
           "Birdman (2014)"
          ],
          [
           "Snatch (2000)"
          ],
          [
           "Maximum Risk (1996)"
          ],
          [
           "In & Out (1997)"
          ],
          [
           "Island, The (2005)"
          ],
          [
           "Exit to Eden (1994)"
          ],
          [
           "Deep Impact (1998)"
          ],
          [
           "Om Shanti Om (2007)"
          ],
          [
           "Serenity (2005)"
          ],
          [
           "Ace Ventura: Pet Detective (1994)"
          ],
          [
           "Toy Story 3 (2010)"
          ],
          [
           "Silence of the Lambs, The (1991)"
          ],
          [
           "Bone Collector, The (1999)"
          ],
          [
           "Backbeat (1993)"
          ],
          [
           "Jack (1996)"
          ],
          [
           "Cool Runnings (1993)"
          ],
          [
           "Godfather: Part III, The (1990)"
          ],
          [
           "Ace Ventura: Pet Detective (1994)"
          ],
          [
           "Young Sherlock Holmes (1985)"
          ],
          [
           "American Pie (1999)"
          ],
          [
           "Aristocats, The (1970)"
          ],
          [
           "When Harry Met Sally... (1989)"
          ],
          [
           "Minority Report (2002)"
          ],
          [
           "When Harry Met Sally... (1989)"
          ],
          [
           "The Importance of Being Earnest (1952)"
          ],
          [
           "Eddie (1996)"
          ],
          [
           "Teenage Mutant Ninja Turtles (2014)"
          ],
          [
           "Indiana Jones and the Last Crusade (1989)"
          ],
          [
           "Before the Devil Knows You're Dead (2007)"
          ],
          [
           "Game, The (1997)"
          ],
          [
           "Mask (1985)"
          ],
          [
           "Man Who Knew Too Little, The (1997)"
          ],
          [
           "Die Hard 2 (1990)"
          ],
          [
           "Together (Tillsammans) (2000)"
          ],
          [
           "Pretty Woman (1990)"
          ],
          [
           "Code 46 (2003)"
          ],
          [
           "Goldfinger (1964)"
          ],
          [
           "Sixteen Candles (1984)"
          ],
          [
           "Star Wars: Episode V - The Empire Strikes Back (1980)"
          ],
          [
           "Evolution (2001)"
          ],
          [
           "Matrix Reloaded, The (2003)"
          ],
          [
           "My Life as a Dog (Mitt liv som hund) (1985)"
          ],
          [
           "Air Force One (1997)"
          ],
          [
           "Miracle on 34th Street (1994)"
          ],
          [
           "E.T. the Extra-Terrestrial (1982)"
          ],
          [
           "Shadow of a Doubt (1943)"
          ],
          [
           "Musketeer, The (2001)"
          ],
          [
           "Stargate (1994)"
          ],
          [
           "Mulholland Drive (2001)"
          ],
          [
           "Hellboy (2004)"
          ],
          [
           "Alien (1979)"
          ],
          [
           "Monster House (2006)"
          ],
          [
           "Big Daddy (1999)"
          ],
          [
           "Lethal Weapon 2 (1989)"
          ],
          [
           "Executive Decision (1996)"
          ],
          [
           "Broadcast News (1987)"
          ],
          [
           "Ghost Dog: The Way of the Samurai (1999)"
          ],
          [
           "Natural Born Killers (1994)"
          ],
          [
           "Same Time, Next Year (1978)"
          ],
          [
           "One Flew Over the Cuckoo's Nest (1975)"
          ],
          [
           "Swimming with Sharks (1995)"
          ],
          [
           "M (1931)"
          ],
          [
           "Boiler Room (2000)"
          ],
          [
           "Transporter, The (2002)"
          ],
          [
           "Little Miss Sunshine (2006)"
          ],
          [
           "Devil's Advocate, The (1997)"
          ],
          [
           "Crimson Tide (1995)"
          ],
          [
           "Catch Me If You Can (2002)"
          ],
          [
           "Courage Under Fire (1996)"
          ],
          [
           "Looney Tunes: Back in Action (2003)"
          ],
          [
           "Sense and Sensibility (1995)"
          ],
          [
           "Field of Dreams (1989)"
          ],
          [
           "Lady Vanishes, The (1938)"
          ],
          [
           "Ace Ventura: When Nature Calls (1995)"
          ],
          [
           "Old School (2003)"
          ],
          [
           "Capote (2005)"
          ],
          [
           "Back to the Future (1985)"
          ],
          [
           "Funny Games U.S. (2007)"
          ],
          [
           "Dragonheart (1996)"
          ],
          [
           "Miss Congeniality (2000)"
          ],
          [
           "Full Monty, The (1997)"
          ],
          [
           "Lion King, The (1994)"
          ],
          [
           "Pinocchio (1940)"
          ],
          [
           "Robots (2005)"
          ],
          [
           "Scarface (1983)"
          ],
          [
           "Unforgiven (1992)"
          ],
          [
           "Mission: Impossible (1996)"
          ],
          [
           "Birdcage, The (1996)"
          ],
          [
           "Pink Floyd: The Wall (1982)"
          ],
          [
           "Ghost in the Shell (Kôkaku kidôtai) (1995)"
          ],
          [
           "Book of Shadows: Blair Witch 2 (2000)"
          ],
          [
           "Spy Who Loved Me, The (1977)"
          ],
          [
           "How Green Was My Valley (1941)"
          ],
          [
           "In-Laws, The (2003)"
          ],
          [
           "Airplane! (1980)"
          ],
          [
           "Net, The (1995)"
          ],
          [
           "Short Cuts (1993)"
          ],
          [
           "Mesrine: Public Enemy #1 (L'ennemi public n°1) (2008)"
          ],
          [
           "Ghostbusters (a.k.a. Ghost Busters) (1984)"
          ],
          [
           "Outbreak (1995)"
          ],
          [
           "Speed (1994)"
          ],
          [
           "Ruthless People (1986)"
          ],
          [
           "Apocalypse Now (1979)"
          ],
          [
           "Terminator 3: Rise of the Machines (2003)"
          ],
          [
           "Femme Nikita, La (Nikita) (1990)"
          ],
          [
           "Mrs. Doubtfire (1993)"
          ],
          [
           "Star Wars: Episode III - Revenge of the Sith (2005)"
          ],
          [
           "Pearl Harbor (2001)"
          ],
          [
           "What's Up, Tiger Lily? (1966)"
          ],
          [
           "Sense and Sensibility (1995)"
          ],
          [
           "Where Eagles Dare (1968)"
          ],
          [
           "Thelma & Louise (1991)"
          ],
          [
           "Minority Report (2002)"
          ],
          [
           "Love and Death on Long Island (1997)"
          ],
          [
           "Insider, The (1999)"
          ],
          [
           "F/X (1986)"
          ],
          [
           "Scary Movie 2 (2001)"
          ],
          [
           "Charlie's Angels: Full Throttle (2003)"
          ],
          [
           "Mighty Morphin Power Rangers: The Movie (1995)"
          ],
          [
           "Spaceballs (1987)"
          ],
          [
           "28 Weeks Later (2007)"
          ],
          [
           "Jungle Book, The (1994)"
          ],
          [
           "Amelie (Fabuleux destin d'Amélie Poulain, Le) (2001)"
          ],
          [
           "Brady Bunch Movie, The (1995)"
          ],
          [
           "Tao of Steve, The (2000)"
          ],
          [
           "Rush Hour (1998)"
          ],
          [
           "Schindler's List (1993)"
          ],
          [
           "House of Yes, The (1997)"
          ],
          [
           "Live and Let Die (1973)"
          ],
          [
           "First Knight (1995)"
          ],
          [
           "Santa Clause, The (1994)"
          ],
          [
           "Changing Habits (1997)"
          ],
          [
           "Smokey and the Bandit (1977)"
          ],
          [
           "Browning Version, The (1994)"
          ],
          [
           "True Lies (1994)"
          ],
          [
           "Lassie Come Home (1943)"
          ],
          [
           "Red Violin, The (Violon rouge, Le) (1998)"
          ],
          [
           "Invasion, The (2007)"
          ],
          [
           "Dead Presidents (1995)"
          ],
          [
           "Apostle, The (1997)"
          ],
          [
           "Tin Cup (1996)"
          ],
          [
           "Lost in Space (1998)"
          ],
          [
           "Royal Tenenbaums, The (2001)"
          ],
          [
           "Bamboozled (2000)"
          ],
          [
           "Gattaca (1997)"
          ],
          [
           "Two Much (1995)"
          ],
          [
           "French Kiss (1995)"
          ],
          [
           "Matilda (1996)"
          ],
          [
           "American Pie 2 (2001)"
          ],
          [
           "American Pie 2 (2001)"
          ],
          [
           "Firm, The (1993)"
          ],
          [
           "Pretty Woman (1990)"
          ],
          [
           "Zoolander (2001)"
          ],
          [
           "Die Another Day (2002)"
          ],
          [
           "Devdas (2002)"
          ],
          [
           "Bachelor, The (1999)"
          ],
          [
           "Harry Potter and the Prisoner of Azkaban (2004)"
          ],
          [
           "Teenage Mutant Ninja Turtles II: The Secret of the Ooze (1991)"
          ],
          [
           "Fled (1996)"
          ],
          [
           "Wedding Planner, The (2001)"
          ],
          [
           "Ben-Hur (1959)"
          ],
          [
           "Wedding Crashers (2005)"
          ],
          [
           "Fargo (1996)"
          ],
          [
           "Last Temptation of Christ, The (1988)"
          ],
          [
           "Léon: The Professional (a.k.a. The Professional) (Léon) (1994)"
          ],
          [
           "Shattered Glass (2003)"
          ],
          [
           "8 Heads in a Duffel Bag (1997)"
          ],
          [
           "Showgirls (1995)"
          ],
          [
           "Coming to America (1988)"
          ],
          [
           "World Is Not Enough, The (1999)"
          ],
          [
           "Star Trek II: The Wrath of Khan (1982)"
          ],
          [
           "Stripes (1981)"
          ],
          [
           "Beauty and the Beast (1991)"
          ],
          [
           "Payback (1999)"
          ],
          [
           "French Connection, The (1971)"
          ],
          [
           "Cold Comfort Farm (1995)"
          ],
          [
           "Fight Club (1999)"
          ],
          [
           "Austin Powers: The Spy Who Shagged Me (1999)"
          ],
          [
           "Cocktail (1988)"
          ],
          [
           "Long Kiss Goodnight, The (1996)"
          ],
          [
           "Spanish Prisoner, The (1997)"
          ],
          [
           "Interview with the Vampire: The Vampire Chronicles (1994)"
          ],
          [
           "Armageddon (1998)"
          ],
          [
           "English Patient, The (1996)"
          ],
          [
           "Executive Decision (1996)"
          ],
          [
           "U-571 (2000)"
          ],
          [
           "Horseman on the Roof, The (Hussard sur le toit, Le) (1995)"
          ],
          [
           "The Butterfly Effect (2004)"
          ],
          [
           "American History X (1998)"
          ],
          [
           "Notting Hill (1999)"
          ],
          [
           "American Pie (1999)"
          ],
          [
           "Star Trek II: The Wrath of Khan (1982)"
          ],
          [
           "Ghost (1990)"
          ],
          [
           "Next Friday (2000)"
          ],
          [
           "Karate Kid, The (1984)"
          ],
          [
           "Nadja (1994)"
          ],
          [
           "For Richer or Poorer (1997)"
          ],
          [
           "Halloween (1978)"
          ],
          [
           "Jurassic Park (1993)"
          ],
          [
           "Babe (1995)"
          ],
          [
           "Fried Green Tomatoes (1991)"
          ],
          [
           "Ghost (1990)"
          ],
          [
           "Miami Vice (2006)"
          ],
          [
           "Breakfast Club, The (1985)"
          ],
          [
           "Lord of the Rings: The Fellowship of the Ring, The (2001)"
          ],
          [
           "Pretty Woman (1990)"
          ],
          [
           "Outsiders, The (1983)"
          ],
          [
           "Kindergarten Cop (1990)"
          ],
          [
           "101 Dalmatians (1996)"
          ],
          [
           "Three Days of the Condor (3 Days of the Condor) (1975)"
          ],
          [
           "Vampire Hunter D: Bloodlust (Banpaia hantâ D) (2000)"
          ],
          [
           "Manderlay (2005)"
          ],
          [
           "Time to Kill, A (1996)"
          ],
          [
           "Daredevil (2003)"
          ],
          [
           "Stargate (1994)"
          ],
          [
           "Willy Wonka & the Chocolate Factory (1971)"
          ],
          [
           "Ring, The (2002)"
          ],
          [
           "Escape to Witch Mountain (1975)"
          ],
          [
           "Knight's Tale, A (2001)"
          ],
          [
           "Woyzeck (1979)"
          ],
          [
           "Men with Guns (1997)"
          ],
          [
           "Mission: Impossible (1996)"
          ],
          [
           "Poseidon Adventure, The (1972)"
          ],
          [
           "Jingle All the Way (1996)"
          ],
          [
           "Fargo (1996)"
          ],
          [
           "Planet of the Apes (2001)"
          ],
          [
           "King Kong (2005)"
          ],
          [
           "Sirens (1994)"
          ],
          [
           "Dumb & Dumber (Dumb and Dumber) (1994)"
          ],
          [
           "Birds, The (1963)"
          ],
          [
           "X-Men (2000)"
          ],
          [
           "Princess Mononoke (Mononoke-hime) (1997)"
          ],
          [
           "Pirates of the Caribbean: Dead Man's Chest (2006)"
          ],
          [
           "20,000 Leagues Under the Sea (1954)"
          ],
          [
           "Conspiracy Theory (1997)"
          ],
          [
           "Basket Case (1982)"
          ],
          [
           "Sleepless in Seattle (1993)"
          ],
          [
           "Cast Away (2000)"
          ],
          [
           "Thin Red Line, The (1998)"
          ],
          [
           "Seven (a.k.a. Se7en) (1995)"
          ],
          [
           "Rush Hour (1998)"
          ],
          [
           "Mystic River (2003)"
          ],
          [
           "Body of Lies (2008)"
          ],
          [
           "Halloween III: Season of the Witch (1982)"
          ],
          [
           "Star Wars: Episode VI - Return of the Jedi (1983)"
          ],
          [
           "Carnival of Souls (1962)"
          ],
          [
           "Mission: Impossible III (2006)"
          ],
          [
           "Seven (a.k.a. Se7en) (1995)"
          ],
          [
           "And Your Mother Too (Y tu mamá también) (2001)"
          ],
          [
           "Temptress Moon (Feng Yue) (1996)"
          ],
          [
           "American History X (1998)"
          ],
          [
           "Majestic, The (2001)"
          ],
          [
           "U.S. Marshals (1998)"
          ],
          [
           "Great Escape, The (1963)"
          ],
          [
           "Night Shift (1982)"
          ],
          [
           "Few Good Men, A (1992)"
          ],
          [
           "Crimson Tide (1995)"
          ],
          [
           "Zombieland (2009)"
          ],
          [
           "Lord of the Rings: The Two Towers, The (2002)"
          ],
          [
           "Crouching Tiger, Hidden Dragon (Wo hu cang long) (2000)"
          ],
          [
           "Maltese Falcon, The (1941)"
          ],
          [
           "Showgirls (1995)"
          ],
          [
           "Scarface (1983)"
          ],
          [
           "Ferris Bueller's Day Off (1986)"
          ],
          [
           "Fifth Element, The (1997)"
          ],
          [
           "Breakfast Club, The (1985)"
          ],
          [
           "Breakfast at Tiffany's (1961)"
          ],
          [
           "Perfume: The Story of a Murderer (2006)"
          ],
          [
           "Princess Mononoke (Mononoke-hime) (1997)"
          ],
          [
           "Jawbreaker (1999)"
          ],
          [
           "A.I. Artificial Intelligence (2001)"
          ],
          [
           "City of God (Cidade de Deus) (2002)"
          ],
          [
           "In the Bedroom (2001)"
          ],
          [
           "Titanic (1953)"
          ],
          [
           "Ace Ventura: Pet Detective (1994)"
          ],
          [
           "X-Men Origins: Wolverine (2009)"
          ],
          [
           "Secrets & Lies (1996)"
          ],
          [
           "Black and White (1999)"
          ],
          [
           "Snow White and the Seven Dwarfs (1937)"
          ],
          [
           "Eagle Eye (2008)"
          ],
          [
           "Signs (2002)"
          ],
          [
           "Babe: Pig in the City (1998)"
          ],
          [
           "Emperor's New Groove, The (2000)"
          ],
          [
           "Frozen River (2008)"
          ],
          [
           "Jean de Florette (1986)"
          ],
          [
           "Cliffhanger (1993)"
          ],
          [
           "Whole Nine Yards, The (2000)"
          ],
          [
           "Italian Job, The (2003)"
          ],
          [
           "Memento (2000)"
          ],
          [
           "Star Wars: Episode III - Revenge of the Sith (2005)"
          ],
          [
           "Pirates of the Caribbean: Dead Man's Chest (2006)"
          ],
          [
           "Cry in the Dark, A (1988)"
          ],
          [
           "Royal Tenenbaums, The (2001)"
          ],
          [
           "Office Space (1999)"
          ],
          [
           "Braveheart (1995)"
          ],
          [
           "Black Sheep (1996)"
          ],
          [
           "Lethal Weapon (1987)"
          ],
          [
           "Royal Tenenbaums, The (2001)"
          ],
          [
           "Eraser (1996)"
          ],
          [
           "Apartment, The (1960)"
          ],
          [
           "Batman Begins (2005)"
          ],
          [
           "Clockwork Orange, A (1971)"
          ],
          [
           "You Got Served (2004)"
          ],
          [
           "Clueless (1995)"
          ],
          [
           "What Planet Are You From? (2000)"
          ],
          [
           "Spartacus (1960)"
          ],
          [
           "When Harry Met Sally... (1989)"
          ],
          [
           "Tae Guk Gi: The Brotherhood of War (Taegukgi hwinalrimyeo) (2004)"
          ],
          [
           "Small Time Crooks (2000)"
          ],
          [
           "Dead Man Walking (1995)"
          ],
          [
           "True Lies (1994)"
          ],
          [
           "Kicking and Screaming (1995)"
          ],
          [
           "Hero (Ying xiong) (2002)"
          ],
          [
           "Illusionist, The (2006)"
          ],
          [
           "Desperately Seeking Susan (1985)"
          ],
          [
           "Gattaca (1997)"
          ],
          [
           "Frailty (2001)"
          ],
          [
           "Life as a House (2001)"
          ],
          [
           "28 Days Later (2002)"
          ],
          [
           "Lock, Stock & Two Smoking Barrels (1998)"
          ],
          [
           "Last Samurai, The (2003)"
          ],
          [
           "Ghostbusters II (1989)"
          ],
          [
           "Little Women (1994)"
          ],
          [
           "Dead End (1937)"
          ],
          [
           "Antitrust (2001)"
          ],
          [
           "Nell (1994)"
          ],
          [
           "Amarcord (1973)"
          ],
          [
           "George of the Jungle (1997)"
          ],
          [
           "Never Been Kissed (1999)"
          ],
          [
           "Dumb & Dumber (Dumb and Dumber) (1994)"
          ],
          [
           "Pulp Fiction (1994)"
          ],
          [
           "Sleepless in Seattle (1993)"
          ],
          [
           "Bowling for Columbine (2002)"
          ],
          [
           "Helvetica (2007)"
          ],
          [
           "Spitfire Grill, The (1996)"
          ],
          [
           "Dune (1984)"
          ],
          [
           "Saint, The (1997)"
          ],
          [
           "Dave (1993)"
          ],
          [
           "Invisible Man, The (1933)"
          ],
          [
           "Boiler Room (2000)"
          ],
          [
           "Jungle Book, The (1994)"
          ],
          [
           "16 Blocks (2006)"
          ],
          [
           "Four Weddings and a Funeral (1994)"
          ],
          [
           "Hunchback of Notre Dame, The (1996)"
          ],
          [
           "Ruling Class, The (1972)"
          ],
          [
           "Aliens (1986)"
          ],
          [
           "Departed, The (2006)"
          ],
          [
           "Natural Born Killers (1994)"
          ],
          [
           "Little Big League (1994)"
          ],
          [
           "Jurassic Park (1993)"
          ],
          [
           "Gangs of New York (2002)"
          ],
          [
           "Wayne's World (1992)"
          ],
          [
           "Michael Collins (1996)"
          ],
          [
           "Die Hard: With a Vengeance (1995)"
          ],
          [
           "Bad Boys (1995)"
          ],
          [
           "Die Hard (1988)"
          ],
          [
           "Indiana Jones and the Last Crusade (1989)"
          ],
          [
           "From Dusk Till Dawn (1996)"
          ],
          [
           "Can't Hardly Wait (1998)"
          ],
          [
           "Funny Games (1997)"
          ],
          [
           "Hidden Fortress, The (Kakushi-toride no san-akunin) (1958)"
          ],
          [
           "Westworld (1973)"
          ],
          [
           "Groundhog Day (1993)"
          ],
          [
           "Rock, The (1996)"
          ],
          [
           "Cinema Paradiso (Nuovo cinema Paradiso) (1989)"
          ],
          [
           "Good Morning, Vietnam (1987)"
          ],
          [
           "Toy Story 2 (1999)"
          ],
          [
           "Santa Clause, The (1994)"
          ],
          [
           "Pinocchio (1940)"
          ],
          [
           "Sunset Limited, The (2011)"
          ],
          [
           "Monsters, Inc. (2001)"
          ],
          [
           "Whole Ten Yards, The (2004)"
          ],
          [
           "Destry Rides Again (1939)"
          ],
          [
           "Mask, The (1994)"
          ],
          [
           "Shrek (2001)"
          ],
          [
           "Armageddon (1998)"
          ],
          [
           "Erin Brockovich (2000)"
          ],
          [
           "Pitch Black (2000)"
          ],
          [
           "Legally Blonde (2001)"
          ],
          [
           "Knight's Tale, A (2001)"
          ],
          [
           "So I Married an Axe Murderer (1993)"
          ],
          [
           "Drop Dead Gorgeous (1999)"
          ],
          [
           "Bug's Life, A (1998)"
          ],
          [
           "Beverly Hills Cop III (1994)"
          ],
          [
           "American Wedding (American Pie 3) (2003)"
          ],
          [
           "Hurt Locker, The (2008)"
          ],
          [
           "Back to the Future Part III (1990)"
          ],
          [
           "Snow Falling on Cedars (1999)"
          ],
          [
           "Pushing Tin (1999)"
          ],
          [
           "Lovely & Amazing (2001)"
          ],
          [
           "Signs (2002)"
          ],
          [
           "Bridge on the River Kwai, The (1957)"
          ],
          [
           "2001: A Space Odyssey (1968)"
          ],
          [
           "Ransom (1996)"
          ],
          [
           "Explorers (1985)"
          ],
          [
           "Circle of Friends (1995)"
          ],
          [
           "Bad Company (1995)"
          ],
          [
           "Good Man in Africa, A (1994)"
          ],
          [
           "First Wives Club, The (1996)"
          ],
          [
           "Donnie Darko (2001)"
          ],
          [
           "Abyss, The (1989)"
          ],
          [
           "In America (2002)"
          ],
          [
           "Twister (1996)"
          ],
          [
           "Fargo (1996)"
          ],
          [
           "Labyrinth (1986)"
          ],
          [
           "Austin Powers: International Man of Mystery (1997)"
          ],
          [
           "Harry Potter and the Chamber of Secrets (2002)"
          ],
          [
           "I Know What You Did Last Summer (1997)"
          ],
          [
           "GoldenEye (1995)"
          ],
          [
           "Perfect World, A (1993)"
          ],
          [
           "Eraser (1996)"
          ],
          [
           "Henry V (1989)"
          ],
          [
           "Total Recall (1990)"
          ],
          [
           "Don Juan DeMarco (1995)"
          ],
          [
           "National Security (2003)"
          ],
          [
           "U.S. Marshals (1998)"
          ],
          [
           "Alien: Resurrection (1997)"
          ],
          [
           "Saint, The (1997)"
          ],
          [
           "Vicky Cristina Barcelona (2008)"
          ],
          [
           "Don Juan DeMarco (1995)"
          ],
          [
           "Batman Forever (1995)"
          ],
          [
           "From Hell (2001)"
          ],
          [
           "Matrix, The (1999)"
          ],
          [
           "Aliens (1986)"
          ],
          [
           "Dumbo (1941)"
          ],
          [
           "Willy Wonka & the Chocolate Factory (1971)"
          ],
          [
           "Arachnophobia (1990)"
          ],
          [
           "Freakonomics (2010)"
          ],
          [
           "Ninja Scroll (Jûbei ninpûchô) (1995)"
          ],
          [
           "Wave, The (Welle, Die) (2008)"
          ],
          [
           "Fear and Loathing in Las Vegas (1998)"
          ],
          [
           "Firm, The (1993)"
          ],
          [
           "Four Rooms (1995)"
          ],
          [
           "Stardust (2007)"
          ],
          [
           "Speed (1994)"
          ],
          [
           "Akira (1988)"
          ],
          [
           "How to Lose a Guy in 10 Days (2003)"
          ],
          [
           "Gauntlet, The (1977)"
          ],
          [
           "Star Wars: Episode V - The Empire Strikes Back (1980)"
          ],
          [
           "My Man Godfrey (1936)"
          ],
          [
           "Breaking the Waves (1996)"
          ],
          [
           "Random Hearts (1999)"
          ],
          [
           "Cowboys & Aliens (2011)"
          ],
          [
           "Blood Simple (1984)"
          ],
          [
           "Three Kings (1999)"
          ],
          [
           "Cookie's Fortune (1999)"
          ],
          [
           "Paris, Texas (1984)"
          ],
          [
           "Austin Powers: International Man of Mystery (1997)"
          ],
          [
           "Midnight Run (1988)"
          ],
          [
           "Super Size Me (2004)"
          ],
          [
           "Maltese Falcon, The (1941)"
          ],
          [
           "Last of the Mohicans, The (1992)"
          ],
          [
           "West Side Story (1961)"
          ],
          [
           "Spy Game (2001)"
          ],
          [
           "Honey, I Shrunk the Kids (1989)"
          ],
          [
           "Raising Arizona (1987)"
          ],
          [
           "Madagascar: Escape 2 Africa (2008)"
          ],
          [
           "Harry Potter and the Chamber of Secrets (2002)"
          ],
          [
           "Road to Perdition (2002)"
          ],
          [
           "Terminator, The (1984)"
          ],
          [
           "Death to Smoochy (2002)"
          ],
          [
           "Fire with Fire (2012)"
          ],
          [
           "Da Vinci Code, The (2006)"
          ],
          [
           "Mrs. Brown (a.k.a. Her Majesty, Mrs. Brown) (1997)"
          ],
          [
           "Blues Brothers, The (1980)"
          ],
          [
           "Fight Club (1999)"
          ],
          [
           "Anaconda (1997)"
          ],
          [
           "Firm, The (1993)"
          ],
          [
           "White Men Can't Jump (1992)"
          ],
          [
           "Animatrix, The (2003)"
          ],
          [
           "Cape Fear (1991)"
          ],
          [
           "Serial Mom (1994)"
          ],
          [
           "March of the Penguins (Marche de l'empereur, La) (2005)"
          ],
          [
           "Dial M for Murder (1954)"
          ],
          [
           "Road Warrior, The (Mad Max 2) (1981)"
          ],
          [
           "Jurassic Park (1993)"
          ],
          [
           "Benny & Joon (1993)"
          ],
          [
           "Who Framed Roger Rabbit? (1988)"
          ],
          [
           "Midnight Cowboy (1969)"
          ],
          [
           "Scrooged (1988)"
          ],
          [
           "Batman Forever (1995)"
          ],
          [
           "Game, The (1997)"
          ],
          [
           "Nightmare on Elm Street, A (1984)"
          ],
          [
           "Red Sonja (1985)"
          ],
          [
           "Snake Eyes (1998)"
          ],
          [
           "Romeo Must Die (2000)"
          ],
          [
           "Cloudy with a Chance of Meatballs (2009)"
          ],
          [
           "Ghosts of Mississippi (1996)"
          ],
          [
           "Bulletproof Monk (2003)"
          ],
          [
           "Monty Python and the Holy Grail (1975)"
          ],
          [
           "Groundhog Day (1993)"
          ],
          [
           "Mask, The (1994)"
          ],
          [
           "Star Trek III: The Search for Spock (1984)"
          ],
          [
           "Jurassic Park (1993)"
          ],
          [
           "Fisher King, The (1991)"
          ],
          [
           "Back to the Future (1985)"
          ],
          [
           "Identity (2003)"
          ],
          [
           "Galaxy Quest (1999)"
          ],
          [
           "Bad Santa (2003)"
          ],
          [
           "Good Girl, The (2002)"
          ],
          [
           "Ghost (1990)"
          ],
          [
           "Dirty Pretty Things (2002)"
          ],
          [
           "Clerks (1994)"
          ],
          [
           "Melancholia (2011)"
          ],
          [
           "Seven Psychopaths (2012)"
          ],
          [
           "American Beauty (1999)"
          ],
          [
           "Englishman Who Went Up a Hill But Came Down a Mountain, The (1995)"
          ],
          [
           "Bowling for Columbine (2002)"
          ],
          [
           "Up (2009)"
          ],
          [
           "Natural Born Killers (1994)"
          ],
          [
           "Fantasia (1940)"
          ],
          [
           "Braveheart (1995)"
          ],
          [
           "Sling Blade (1996)"
          ],
          [
           "Dead Poets Society (1989)"
          ],
          [
           "Finding Neverland (2004)"
          ],
          [
           "World Is Not Enough, The (1999)"
          ],
          [
           "Red Riding: 1980 (2009)"
          ],
          [
           "Quest, The (1996)"
          ],
          [
           "Sweet Hereafter, The (1997)"
          ],
          [
           "Georgia Rule (2007)"
          ],
          [
           "Star Wars: Episode IV - A New Hope (1977)"
          ],
          [
           "Taxi Driver (1976)"
          ],
          [
           "Midnight Clear, A (1992)"
          ],
          [
           "Alien: Resurrection (1997)"
          ],
          [
           "Léon: The Professional (a.k.a. The Professional) (Léon) (1994)"
          ],
          [
           "Parent Trap, The (1961)"
          ],
          [
           "Taking Woodstock (2009)"
          ],
          [
           "On the Road (2012)"
          ],
          [
           "Shallow Hal (2001)"
          ],
          [
           "Home Alone (1990)"
          ],
          [
           "Wayne's World (1992)"
          ],
          [
           "Battlestar Galactica: Razor (2007)"
          ],
          [
           "Chinatown (1974)"
          ],
          [
           "Monsters, Inc. (2001)"
          ],
          [
           "Serenity (2005)"
          ],
          [
           "Shine (1996)"
          ],
          [
           "Hoop Dreams (1994)"
          ],
          [
           "Robin Hood (1973)"
          ],
          [
           "Mrs. Miniver (1942)"
          ],
          [
           "West Side Story (1961)"
          ],
          [
           "Ghostbusters (a.k.a. Ghost Busters) (1984)"
          ],
          [
           "Moonstruck (1987)"
          ],
          [
           "You've Got Mail (1998)"
          ],
          [
           "Asphalt Jungle, The (1950)"
          ],
          [
           "GoldenEye (1995)"
          ],
          [
           "Star Trek: Generations (1994)"
          ],
          [
           "Entrapment (1999)"
          ],
          [
           "Pretty Woman (1990)"
          ],
          [
           "Bob Roberts (1992)"
          ],
          [
           "Wag the Dog (1997)"
          ],
          [
           "Tomorrow Never Dies (1997)"
          ],
          [
           "Amadeus (1984)"
          ],
          [
           "Secret Window (2004)"
          ],
          [
           "Crow, The (1994)"
          ],
          [
           "Hugo Pool (1997)"
          ],
          [
           "Dungeons & Dragons (2000)"
          ],
          [
           "Jurassic Park (1993)"
          ],
          [
           "Forrest Gump (1994)"
          ],
          [
           "Shawshank Redemption, The (1994)"
          ],
          [
           "Indiana Jones and the Last Crusade (1989)"
          ],
          [
           "Ed Wood (1994)"
          ],
          [
           "Bananas (1971)"
          ],
          [
           "Fled (1996)"
          ],
          [
           "All About Eve (1950)"
          ],
          [
           "Gone with the Wind (1939)"
          ],
          [
           "Almost Famous (2000)"
          ],
          [
           "Pee-wee's Big Adventure (1985)"
          ],
          [
           "Salvador (1986)"
          ],
          [
           "The Butterfly Effect (2004)"
          ],
          [
           "You've Got Mail (1998)"
          ],
          [
           "I.Q. (1994)"
          ],
          [
           "Goodfellas (1990)"
          ],
          [
           "Terminator 2: Judgment Day (1991)"
          ],
          [
           "Disclosure (1994)"
          ],
          [
           "Deep Impact (1998)"
          ],
          [
           "Epic Movie (2007)"
          ],
          [
           "Big Lebowski, The (1998)"
          ],
          [
           "First Knight (1995)"
          ],
          [
           "From Here to Eternity (1953)"
          ],
          [
           "Treasure of the Sierra Madre, The (1948)"
          ],
          [
           "Save the Last Dance (2001)"
          ],
          [
           "Half Baked (1998)"
          ],
          [
           "3:10 to Yuma (2007)"
          ],
          [
           "Abyss, The (1989)"
          ],
          [
           "Few Good Men, A (1992)"
          ],
          [
           "Heavenly Creatures (1994)"
          ],
          [
           "Godzilla (1998)"
          ],
          [
           "Men in Black (a.k.a. MIB) (1997)"
          ],
          [
           "Moulin Rouge (2001)"
          ],
          [
           "Seven (a.k.a. Se7en) (1995)"
          ],
          [
           "E.T. the Extra-Terrestrial (1982)"
          ],
          [
           "One Flew Over the Cuckoo's Nest (1975)"
          ],
          [
           "Beauty and the Beast (1991)"
          ],
          [
           "Dirty Dancing (1987)"
          ],
          [
           "Pleasantville (1998)"
          ],
          [
           "Clueless (1995)"
          ],
          [
           "Pay It Forward (2000)"
          ],
          [
           "In the Realm of the Senses (Ai no corrida) (1976)"
          ],
          [
           "Apollo 13 (1995)"
          ],
          [
           "Raiders of the Lost Ark (Indiana Jones and the Raiders of the Lost Ark) (1981)"
          ],
          [
           "Hemingway & Gellhorn (2012)"
          ],
          [
           "Bad Taste (1987)"
          ],
          [
           "Clockwork Orange, A (1971)"
          ],
          [
           "Black Hawk Down (2001)"
          ],
          [
           "Drop Zone (1994)"
          ],
          [
           "Antz (1998)"
          ],
          [
           "Edward Scissorhands (1990)"
          ],
          [
           "True Lies (1994)"
          ],
          [
           "Robin Hood: Men in Tights (1993)"
          ],
          [
           "War of the Worlds (2005)"
          ],
          [
           "Godfather: Part II, The (1974)"
          ],
          [
           "Star Wars: Episode IV - A New Hope (1977)"
          ],
          [
           "Animals are Beautiful People (1974)"
          ],
          [
           "Rules of the Game, The (La règle du jeu) (1939)"
          ],
          [
           "Beautiful Mind, A (2001)"
          ],
          [
           "Juno (2007)"
          ],
          [
           "Shall We Dance (1937)"
          ],
          [
           "Koti-ikävä (2005)"
          ],
          [
           "Atlantic City (1980)"
          ],
          [
           "Dead Zone, The (1983)"
          ],
          [
           "Young Poisoner's Handbook, The (1995)"
          ],
          [
           "Specialist, The (1994)"
          ],
          [
           "GoldenEye (1995)"
          ],
          [
           "Dances with Wolves (1990)"
          ],
          [
           "K-PAX (2001)"
          ],
          [
           "Three Kings (1999)"
          ],
          [
           "Heist (2001)"
          ],
          [
           "Men in Black (a.k.a. MIB) (1997)"
          ],
          [
           "City by the Sea (2002)"
          ],
          [
           "Empire of the Sun (1987)"
          ],
          [
           "Forgetting Sarah Marshall (2008)"
          ],
          [
           "Motorcycle Diaries, The (Diarios de motocicleta) (2004)"
          ],
          [
           "Deliverance (1972)"
          ],
          [
           "Young Poisoner's Handbook, The (1995)"
          ],
          [
           "Celebration, The (Festen) (1998)"
          ],
          [
           "Easy Rider (1969)"
          ],
          [
           "Mark of Zorro, The (1940)"
          ],
          [
           "Big (1988)"
          ],
          [
           "Signal, The (2007)"
          ],
          [
           "American President, The (1995)"
          ],
          [
           "Star Wars: Episode VI - Return of the Jedi (1983)"
          ],
          [
           "Falcon and the Snowman, The (1985)"
          ],
          [
           "Who's Afraid of Virginia Woolf? (1966)"
          ],
          [
           "Aliens (1986)"
          ],
          [
           "Buena Vista Social Club (1999)"
          ],
          [
           "Beverly Hills Cop (1984)"
          ],
          [
           "Spider-Man (2002)"
          ],
          [
           "Cliffhanger (1993)"
          ],
          [
           "Star Trek: First Contact (1996)"
          ],
          [
           "Jerry Maguire (1996)"
          ],
          [
           "Blade Runner (1982)"
          ],
          [
           "Freeway (1996)"
          ],
          [
           "Salome's Last Dance (1988)"
          ],
          [
           "Meet the Robinsons (2007)"
          ],
          [
           "Mercury Rising (1998)"
          ],
          [
           "Celluloid Closet, The (1995)"
          ],
          [
           "Silence of the Lambs, The (1991)"
          ],
          [
           "Pushing Tin (1999)"
          ],
          [
           "Robin Hood: Men in Tights (1993)"
          ],
          [
           "Waterworld (1995)"
          ],
          [
           "Strictly Ballroom (1992)"
          ],
          [
           "Poltergeist (1982)"
          ],
          [
           "Other Sister, The (1999)"
          ],
          [
           "Hard-Boiled (Lat sau san taam) (1992)"
          ],
          [
           "Hot Fuzz (2007)"
          ],
          [
           "Ronin (1998)"
          ],
          [
           "Sommersby (1993)"
          ],
          [
           "50 First Dates (2004)"
          ],
          [
           "Commitments, The (1991)"
          ],
          [
           "Sleepless in Seattle (1993)"
          ],
          [
           "Pushing Tin (1999)"
          ],
          [
           "Butch Cassidy and the Sundance Kid (1969)"
          ],
          [
           "Punch-Drunk Love (2002)"
          ],
          [
           "Pulp Fiction (1994)"
          ],
          [
           "Lord of the Rings: The Fellowship of the Ring, The (2001)"
          ],
          [
           "White Squall (1996)"
          ],
          [
           "Return to Oz (1985)"
          ],
          [
           "Billy Elliot (2000)"
          ],
          [
           "Caddyshack (1980)"
          ],
          [
           "North by Northwest (1959)"
          ],
          [
           "Horror of Dracula (Dracula) (1958)"
          ],
          [
           "127 Hours (2010)"
          ],
          [
           "Lawrence of Arabia (1962)"
          ],
          [
           "Umbrellas of Cherbourg, The (Parapluies de Cherbourg, Les) (1964)"
          ],
          [
           "Trainspotting (1996)"
          ],
          [
           "Femme Nikita, La (Nikita) (1990)"
          ],
          [
           "Liar Liar (1997)"
          ],
          [
           "War of the Worlds (2005)"
          ],
          [
           "Skin I Live In, The (La piel que habito) (2011)"
          ],
          [
           "Home Alone 2: Lost in New York (1992)"
          ],
          [
           "Scanner Darkly, A (2006)"
          ],
          [
           "Christmas Story, A (1983)"
          ],
          [
           "Pocahontas (1995)"
          ],
          [
           "Gangs of New York (2002)"
          ],
          [
           "Simon Birch (1998)"
          ],
          [
           "Shrek (2001)"
          ],
          [
           "High Noon (1952)"
          ],
          [
           "Austin Powers: The Spy Who Shagged Me (1999)"
          ],
          [
           "Dead Poets Society (1989)"
          ],
          [
           "Grumpier Old Men (1995)"
          ],
          [
           "Goodfellas (1990)"
          ],
          [
           "Princess Bride, The (1987)"
          ],
          [
           "Star Wars: Episode IV - A New Hope (1977)"
          ],
          [
           "Godfather, The (1972)"
          ],
          [
           "200 Cigarettes (1999)"
          ],
          [
           "Network (1976)"
          ],
          [
           "Cinderella (1950)"
          ],
          [
           "Traffic (2000)"
          ],
          [
           "Xiu Xiu: The Sent-Down Girl (Tian yu) (1998)"
          ],
          [
           "Jumanji (1995)"
          ],
          [
           "Elf (2003)"
          ],
          [
           "Ace Ventura: When Nature Calls (1995)"
          ],
          [
           "Doubt (2008)"
          ],
          [
           "Beauty and the Beast (1991)"
          ],
          [
           "Home Alone (1990)"
          ],
          [
           "National Lampoon's Van Wilder (2002)"
          ],
          [
           "Scarface (1983)"
          ],
          [
           "Superman IV: The Quest for Peace (1987)"
          ],
          [
           "Johnny Mnemonic (1995)"
          ],
          [
           "Home Alone (1990)"
          ],
          [
           "Outbreak (1995)"
          ],
          [
           "Affair of Love, An (Liaison pornographique, Une) (1999)"
          ],
          [
           "Jacknife (1989)"
          ],
          [
           "Rocky IV (1985)"
          ],
          [
           "Cloud Atlas (2012)"
          ],
          [
           "Finding Nemo (2003)"
          ],
          [
           "Beetlejuice (1988)"
          ],
          [
           "I'll Do Anything (1994)"
          ],
          [
           "Resurrected, The (1992)"
          ],
          [
           "Secret Window (2004)"
          ],
          [
           "Edward Scissorhands (1990)"
          ],
          [
           "Sting, The (1973)"
          ],
          [
           "Monty Python and the Holy Grail (1975)"
          ],
          [
           "Total Recall (1990)"
          ],
          [
           "Town, The (2010)"
          ],
          [
           "Kill Bill: Vol. 2 (2004)"
          ],
          [
           "Rugrats Go Wild! (2003)"
          ],
          [
           "2001: A Space Odyssey (1968)"
          ],
          [
           "Chinatown (1974)"
          ],
          [
           "Tomorrow Never Dies (1997)"
          ],
          [
           "Demolition Man (1993)"
          ],
          [
           "Young Frankenstein (1974)"
          ],
          [
           "Touch of Evil (1958)"
          ],
          [
           "Almost Famous (2000)"
          ],
          [
           "Firm, The (1993)"
          ],
          [
           "Sleepless in Seattle (1993)"
          ],
          [
           "Back to the Future Part III (1990)"
          ],
          [
           "Lion King, The (1994)"
          ],
          [
           "Mr. Holland's Opus (1995)"
          ],
          [
           "Blue Velvet (1986)"
          ],
          [
           "Crocodile Dundee II (1988)"
          ],
          [
           "Ace Ventura: When Nature Calls (1995)"
          ],
          [
           "Erin Brockovich (2000)"
          ],
          [
           "Heavenly Creatures (1994)"
          ],
          [
           "You've Got Mail (1998)"
          ],
          [
           "Simple Plan, A (1998)"
          ],
          [
           "Silence of the Lambs, The (1991)"
          ],
          [
           "Eastern Promises (2007)"
          ],
          [
           "West Side Story (1961)"
          ],
          [
           "Batman: Under the Red Hood (2010)"
          ],
          [
           "Double Indemnity (1944)"
          ],
          [
           "Erin Brockovich (2000)"
          ],
          [
           "Brokeback Mountain (2005)"
          ],
          [
           "Tree of Life, The (2011)"
          ],
          [
           "13th Warrior, The (1999)"
          ],
          [
           "Breakfast Club, The (1985)"
          ],
          [
           "Divine Secrets of the Ya-Ya Sisterhood (2002)"
          ],
          [
           "Game, The (1997)"
          ],
          [
           "Monty Python's And Now for Something Completely Different (1971)"
          ],
          [
           "City of Industry (1997)"
          ],
          [
           "Saving Private Ryan (1998)"
          ],
          [
           "Scratch (2001)"
          ],
          [
           "Amadeus (1984)"
          ],
          [
           "Who Framed Roger Rabbit? (1988)"
          ],
          [
           "Ransom (1996)"
          ],
          [
           "Aliens (1986)"
          ],
          [
           "Usual Suspects, The (1995)"
          ],
          [
           "No Country for Old Men (2007)"
          ],
          [
           "Net, The (1995)"
          ],
          [
           "Anatomy of a Murder (1959)"
          ],
          [
           "2001: A Space Odyssey (1968)"
          ],
          [
           "Craft, The (1996)"
          ],
          [
           "Paper, The (1994)"
          ],
          [
           "Saved! (2004)"
          ],
          [
           "Hunger (2008)"
          ],
          [
           "Evolution (2001)"
          ],
          [
           "Grosse Pointe Blank (1997)"
          ],
          [
           "Chinatown (1974)"
          ],
          [
           "Harry Potter and the Deathly Hallows: Part 2 (2011)"
          ],
          [
           "Monty Python and the Holy Grail (1975)"
          ],
          [
           "Simpsons Movie, The (2007)"
          ],
          [
           "Clueless (1995)"
          ],
          [
           "Transformers: The Movie (1986)"
          ],
          [
           "Crimson Tide (1995)"
          ],
          [
           "Mighty Aphrodite (1995)"
          ],
          [
           "Toy Story 3 (2010)"
          ],
          [
           "When Harry Met Sally... (1989)"
          ],
          [
           "Legend of Drunken Master, The (Jui kuen II) (1994)"
          ],
          [
           "Mary Poppins (1964)"
          ],
          [
           "What Lies Beneath (2000)"
          ],
          [
           "State of Play (2009)"
          ],
          [
           "American Pie (1999)"
          ],
          [
           "Dead Poets Society (1989)"
          ],
          [
           "Crazy, Stupid, Love. (2011)"
          ],
          [
           "Number 23, The (2007)"
          ],
          [
           "Last Emperor, The (1987)"
          ],
          [
           "2 Days in the Valley (1996)"
          ],
          [
           "Net, The (1995)"
          ],
          [
           "Reno 911!: Miami (2007)"
          ],
          [
           "Léon: The Professional (a.k.a. The Professional) (Léon) (1994)"
          ],
          [
           "Topsy-Turvy (1999)"
          ],
          [
           "Princess Bride, The (1987)"
          ],
          [
           "There's Something About Mary (1998)"
          ],
          [
           "Monty Python and the Holy Grail (1975)"
          ],
          [
           "Bless the Child (2000)"
          ],
          [
           "Splash (1984)"
          ],
          [
           "Omega Man, The (1971)"
          ],
          [
           "Slackers (2002)"
          ],
          [
           "Man of the House (1995)"
          ],
          [
           "First Wives Club, The (1996)"
          ],
          [
           "Royal Tenenbaums, The (2001)"
          ],
          [
           "Ratatouille (2007)"
          ],
          [
           "Battlefield Earth (2000)"
          ],
          [
           "Honey, I Shrunk the Kids (1989)"
          ],
          [
           "2 Days in New York (2012)"
          ],
          [
           "Road Trip (2000)"
          ],
          [
           "Batman Forever (1995)"
          ],
          [
           "Dances with Wolves (1990)"
          ],
          [
           "Lives of Others, The (Das leben der Anderen) (2006)"
          ],
          [
           "Casanova (2005)"
          ],
          [
           "Fantastic Mr. Fox (2009)"
          ],
          [
           "Live and Let Die (1973)"
          ],
          [
           "Practical Magic (1998)"
          ],
          [
           "Santa Clause, The (1994)"
          ],
          [
           "Sleepers (1996)"
          ],
          [
           "Superstar (1999)"
          ],
          [
           "Inherit the Wind (1960)"
          ],
          [
           "Mallrats (1995)"
          ],
          [
           "Unforgiven (1992)"
          ],
          [
           "Apollo 13 (1995)"
          ],
          [
           "Cinema Paradiso (Nuovo cinema Paradiso) (1989)"
          ],
          [
           "Coming to America (1988)"
          ],
          [
           "Tomorrow Never Dies (1997)"
          ],
          [
           "Crow: City of Angels, The (1996)"
          ],
          [
           "Ideal Husband, An (1999)"
          ],
          [
           "From Dusk Till Dawn (1996)"
          ],
          [
           "Arthur (1981)"
          ],
          [
           "Erin Brockovich (2000)"
          ],
          [
           "Star Trek Into Darkness (2013)"
          ],
          [
           "Breakfast Club, The (1985)"
          ],
          [
           "Braveheart (1995)"
          ],
          [
           "Hudsucker Proxy, The (1994)"
          ],
          [
           "Black Hawk Down (2001)"
          ],
          [
           "Affair to Remember, An (1957)"
          ],
          [
           "Pirates of the Caribbean: On Stranger Tides (2011)"
          ],
          [
           "His Girl Friday (1940)"
          ],
          [
           "Chinatown (1974)"
          ],
          [
           "Backdraft (1991)"
          ],
          [
           "Point Break (1991)"
          ],
          [
           "Ghostbusters (a.k.a. Ghost Busters) (1984)"
          ],
          [
           "Big Fish (2003)"
          ],
          [
           "Charlie's Angels: Full Throttle (2003)"
          ],
          [
           "Jerk, The (1979)"
          ],
          [
           "Fight Club (1999)"
          ],
          [
           "Groundhog Day (1993)"
          ],
          [
           "Jurassic Park (1993)"
          ],
          [
           "Fugitive, The (1993)"
          ],
          [
           "Schindler's List (1993)"
          ],
          [
           "Ace Ventura: Pet Detective (1994)"
          ],
          [
           "Eraser (1996)"
          ],
          [
           "2001: A Space Odyssey (1968)"
          ],
          [
           "Back to the Future (1985)"
          ],
          [
           "Mask, The (1994)"
          ],
          [
           "Silence of the Lambs, The (1991)"
          ],
          [
           "Adventures of Buckaroo Banzai Across the 8th Dimension, The (1984)"
          ],
          [
           "Mask of Zorro, The (1998)"
          ],
          [
           "Traffic (2000)"
          ],
          [
           "Being There (1979)"
          ],
          [
           "Terminator, The (1984)"
          ],
          [
           "Con Air (1997)"
          ],
          [
           "Fugitive, The (1993)"
          ],
          [
           "American Beauty (1999)"
          ],
          [
           "Bug's Life, A (1998)"
          ],
          [
           "Condorman (1981)"
          ],
          [
           "Don Juan DeMarco (1995)"
          ],
          [
           "Abandon (2002)"
          ],
          [
           "Armageddon (1998)"
          ],
          [
           "Amores Perros (Love's a Bitch) (2000)"
          ],
          [
           "Taps (1981)"
          ],
          [
           "Mystic River (2003)"
          ],
          [
           "Troll Hunter, The (Trolljegeren) (2010)"
          ],
          [
           "Dumbo (1941)"
          ],
          [
           "Rock Star (2001)"
          ],
          [
           "Cowboys & Aliens (2011)"
          ],
          [
           "Shrek 2 (2004)"
          ],
          [
           "Bodyguard, The (1992)"
          ],
          [
           "Carlito's Way (1993)"
          ],
          [
           "Batman Begins (2005)"
          ],
          [
           "Living Out Loud (1998)"
          ],
          [
           "Saw II (2005)"
          ],
          [
           "Twelve Monkeys (a.k.a. 12 Monkeys) (1995)"
          ],
          [
           "Money Train (1995)"
          ],
          [
           "Schindler's List (1993)"
          ],
          [
           "Secret Garden, The (1993)"
          ],
          [
           "All Quiet on the Western Front (1930)"
          ],
          [
           "Ref, The (1994)"
          ],
          [
           "Home Alone (1990)"
          ],
          [
           "Mr. Holland's Opus (1995)"
          ],
          [
           "Silverado (1985)"
          ],
          [
           "Space Jam (1996)"
          ],
          [
           "Man with the Golden Gun, The (1974)"
          ],
          [
           "Robin Hood (2010)"
          ],
          [
           "Congo (1995)"
          ],
          [
           "Englishman Who Went Up a Hill But Came Down a Mountain, The (1995)"
          ],
          [
           "In the Line of Fire (1993)"
          ],
          [
           "Farewell My Concubine (Ba wang bie ji) (1993)"
          ],
          [
           "Birdcage, The (1996)"
          ],
          [
           "Terminator, The (1984)"
          ],
          [
           "Invasion of the Body Snatchers (1956)"
          ],
          [
           "Clockwork Orange, A (1971)"
          ],
          [
           "Spartacus (1960)"
          ],
          [
           "Walk on the Moon, A (1999)"
          ],
          [
           "War of the Roses, The (1989)"
          ],
          [
           "Mothman Prophecies, The (2002)"
          ],
          [
           "Dead Man Walking (1995)"
          ],
          [
           "Scream (1996)"
          ],
          [
           "Goldfinger (1964)"
          ],
          [
           "Pulp Fiction (1994)"
          ],
          [
           "Deep Impact (1998)"
          ],
          [
           "Barry Lyndon (1975)"
          ],
          [
           "Tin Man (2007)"
          ],
          [
           "Braveheart (1995)"
          ],
          [
           "Waterworld (1995)"
          ],
          [
           "Eyes Wide Shut (1999)"
          ],
          [
           "Heat (1995)"
          ],
          [
           "Nine Months (1995)"
          ],
          [
           "Forrest Gump (1994)"
          ],
          [
           "Filth (2013)"
          ],
          [
           "West Side Story (1961)"
          ],
          [
           "Hangover, The (2009)"
          ],
          [
           "Brazil (1985)"
          ],
          [
           "Bulworth (1998)"
          ],
          [
           "Pulp Fiction (1994)"
          ],
          [
           "Halloween H20: 20 Years Later (Halloween 7: The Revenge of Laurie Strode) (1998)"
          ],
          [
           "Naked Gun: From the Files of Police Squad!, The (1988)"
          ],
          [
           "Funny Ha Ha (2002)"
          ],
          [
           "Felon (2008)"
          ],
          [
           "Incredible Hulk, The (2008)"
          ],
          [
           "King Kong (2005)"
          ],
          [
           "Matilda (1996)"
          ],
          [
           "Matador, The (2005)"
          ],
          [
           "Cool Runnings (1993)"
          ],
          [
           "Men in Black (a.k.a. MIB) (1997)"
          ],
          [
           "Gate, The (1987)"
          ],
          [
           "Alien (1979)"
          ],
          [
           "Harriet the Spy (1996)"
          ],
          [
           "X-Men (2000)"
          ],
          [
           "Time to Kill, A (1996)"
          ],
          [
           "Cutthroat Island (1995)"
          ],
          [
           "Replacement Killers, The (1998)"
          ],
          [
           "Erin Brockovich (2000)"
          ],
          [
           "Being John Malkovich (1999)"
          ],
          [
           "Matrix, The (1999)"
          ],
          [
           "Nobody's Fool (1994)"
          ],
          [
           "Untouchables, The (1987)"
          ],
          [
           "Coming to America (1988)"
          ],
          [
           "1408 (2007)"
          ],
          [
           "Twister (1996)"
          ],
          [
           "Indiana Jones and the Temple of Doom (1984)"
          ],
          [
           "Addams Family Values (1993)"
          ],
          [
           "Road to Perdition (2002)"
          ],
          [
           "K-19: The Widowmaker (2002)"
          ],
          [
           "Crimes and Misdemeanors (1989)"
          ],
          [
           "Black Beauty (1994)"
          ],
          [
           "Bandits (2001)"
          ],
          [
           "A.I. Artificial Intelligence (2001)"
          ],
          [
           "Clerks II (2006)"
          ],
          [
           "Platoon (1986)"
          ],
          [
           "Dr. No (1962)"
          ],
          [
           "Serendipity (2001)"
          ],
          [
           "That Thing You Do! (1996)"
          ],
          [
           "Predator 2 (1990)"
          ],
          [
           "Police Academy: Mission to Moscow (1994)"
          ],
          [
           "Jungle Fever (1991)"
          ],
          [
           "WALL·E (2008)"
          ],
          [
           "Evil Dead, The (1981)"
          ],
          [
           "Game, The (1997)"
          ],
          [
           "Traffic (2000)"
          ],
          [
           "Much Ado About Nothing (1993)"
          ],
          [
           "Scrooged (1988)"
          ],
          [
           "Collateral (2004)"
          ],
          [
           "Suicide Club (Jisatsu saakuru) (2001)"
          ],
          [
           "Two Weeks Notice (2002)"
          ],
          [
           "Mad Max (1979)"
          ],
          [
           "Broken Arrow (1996)"
          ],
          [
           "Private Benjamin (1980)"
          ],
          [
           "Producers, The (1968)"
          ],
          [
           "Water for Elephants (2011)"
          ],
          [
           "Star Wars: Episode IV - A New Hope (1977)"
          ],
          [
           "48 Hrs. (1982)"
          ],
          [
           "L.A. Confidential (1997)"
          ],
          [
           "Nurse Betty (2000)"
          ],
          [
           "American Beauty (1999)"
          ],
          [
           "Shining, The (1980)"
          ],
          [
           "Harold and Kumar Go to White Castle (2004)"
          ],
          [
           "Jackal, The (1997)"
          ],
          [
           "48 Hrs. (1982)"
          ],
          [
           "Twister (1996)"
          ],
          [
           "Fantasia 2000 (1999)"
          ],
          [
           "Saturday Night Fever (1977)"
          ],
          [
           "Flight of the Navigator (1986)"
          ],
          [
           "Blob, The (1988)"
          ],
          [
           "Sense and Sensibility (1995)"
          ],
          [
           "Big Momma's House (2000)"
          ],
          [
           "Escape from New York (1981)"
          ],
          [
           "Last Action Hero (1993)"
          ],
          [
           "In the Name of the Father (1993)"
          ],
          [
           "Full Monty, The (1997)"
          ],
          [
           "Donnie Brasco (1997)"
          ],
          [
           "Little Boy Blue (1997)"
          ],
          [
           "Nurse Betty (2000)"
          ],
          [
           "Spaceballs (1987)"
          ],
          [
           "Pee-wee's Big Adventure (1985)"
          ],
          [
           "English Patient, The (1996)"
          ],
          [
           "Terminator, The (1984)"
          ],
          [
           "Exorcist, The (1973)"
          ],
          [
           "Wedding Crashers (2005)"
          ],
          [
           "Better Off Dead... (1985)"
          ],
          [
           "Being There (1979)"
          ],
          [
           "Oblivion (2013)"
          ],
          [
           "What's Eating Gilbert Grape (1993)"
          ],
          [
           "Big Daddy (1999)"
          ],
          [
           "Truman Show, The (1998)"
          ],
          [
           "Christmas Story, A (1983)"
          ],
          [
           "Marathon Man (1976)"
          ],
          [
           "King Kong (2005)"
          ],
          [
           "Six Days Seven Nights (1998)"
          ],
          [
           "Lion King, The (1994)"
          ],
          [
           "One Flew Over the Cuckoo's Nest (1975)"
          ],
          [
           "Wag the Dog (1997)"
          ],
          [
           "Maltese Falcon, The (1941)"
          ],
          [
           "Blazing Saddles (1974)"
          ],
          [
           "Lone Star (1996)"
          ],
          [
           "Pulp Fiction (1994)"
          ],
          [
           "Save the Green Planet! (Jigureul jikyeora!) (2003)"
          ],
          [
           "Bullets Over Broadway (1994)"
          ],
          [
           "Three Colors: Blue (Trois couleurs: Bleu) (1993)"
          ],
          [
           "Shining, The (1980)"
          ],
          [
           "Mummy Returns, The (2001)"
          ],
          [
           "School of Rock (2003)"
          ],
          [
           "GoldenEye (1995)"
          ],
          [
           "Lilo & Stitch (2002)"
          ],
          [
           "Zoolander (2001)"
          ],
          [
           "Natural Born Killers (1994)"
          ],
          [
           "Juno (2007)"
          ],
          [
           "Honey, I Shrunk the Kids (1989)"
          ],
          [
           "Forty Guns (1957)"
          ],
          [
           "Night at the Museum (2006)"
          ],
          [
           "Program, The (1993)"
          ],
          [
           "Mission: Impossible (1996)"
          ],
          [
           "Pagemaster, The (1994)"
          ],
          [
           "Blair Witch Project, The (1999)"
          ],
          [
           "Powder (1995)"
          ],
          [
           "Scream (1996)"
          ],
          [
           "Crocodile Dundee II (1988)"
          ],
          [
           "Eagle vs Shark (2007)"
          ],
          [
           "Metropolis (1927)"
          ],
          [
           "Raiders of the Lost Ark (Indiana Jones and the Raiders of the Lost Ark) (1981)"
          ],
          [
           "Requiem for a Dream (2000)"
          ],
          [
           "Independence Day (a.k.a. ID4) (1996)"
          ],
          [
           "At First Sight (1999)"
          ],
          [
           "Pitch Black (2000)"
          ],
          [
           "Unbreakable (2000)"
          ],
          [
           "Much Ado About Nothing (1993)"
          ],
          [
           "Rat Race (2001)"
          ],
          [
           "Stuart Saves His Family (1995)"
          ],
          [
           "Reservoir Dogs (1992)"
          ],
          [
           "21 Grams (2003)"
          ],
          [
           "Soapdish (1991)"
          ],
          [
           "Philadelphia (1993)"
          ],
          [
           "Teenage Mutant Ninja Turtles (1990)"
          ],
          [
           "It Could Happen to You (1994)"
          ],
          [
           "Harry Potter and the Chamber of Secrets (2002)"
          ],
          [
           "Waterboy, The (1998)"
          ],
          [
           "We're No Angels (1955)"
          ],
          [
           "Blob, The (1988)"
          ],
          [
           "Firestarter (1984)"
          ],
          [
           "Clockwork Orange, A (1971)"
          ],
          [
           "Ghost and the Darkness, The (1996)"
          ],
          [
           "North (1994)"
          ],
          [
           "Apollo 13 (1995)"
          ],
          [
           "JFK (1991)"
          ],
          [
           "Fargo (1996)"
          ],
          [
           "Dirty Dozen, The (1967)"
          ],
          [
           "Star Wars: Episode IV - A New Hope (1977)"
          ],
          [
           "Owning Mahowny (2003)"
          ],
          [
           "In the Name of the Father (1993)"
          ],
          [
           "Priest (2011)"
          ],
          [
           "Total Recall (1990)"
          ],
          [
           "Dances with Wolves (1990)"
          ],
          [
           "Happy, Texas (1999)"
          ],
          [
           "Predator (1987)"
          ],
          [
           "Underneath (1995)"
          ],
          [
           "Man Without a Face, The (1993)"
          ],
          [
           "Crow: City of Angels, The (1996)"
          ],
          [
           "Wallace & Gromit: The Wrong Trousers (1993)"
          ],
          [
           "Charlie Brown Christmas, A (1965)"
          ],
          [
           "12 Angry Men (1957)"
          ],
          [
           "Looper (2012)"
          ],
          [
           "Lord of the Rings: The Return of the King, The (2003)"
          ],
          [
           "Blade Runner (1982)"
          ],
          [
           "Michael (1996)"
          ],
          [
           "Final Fantasy: The Spirits Within (2001)"
          ],
          [
           "Sixth Sense, The (1999)"
          ],
          [
           "Anaconda (1997)"
          ],
          [
           "Flight of the Phoenix, The (1965)"
          ],
          [
           "Fight Club (1999)"
          ],
          [
           "Carrie (1976)"
          ],
          [
           "Full Monty, The (1997)"
          ],
          [
           "Back to the Future (1985)"
          ],
          [
           "Batman Forever (1995)"
          ],
          [
           "Butch Cassidy and the Sundance Kid (1969)"
          ],
          [
           "Maid in Manhattan (2002)"
          ],
          [
           "Groundhog Day (1993)"
          ],
          [
           "Ninotchka (1939)"
          ],
          [
           "Bridget Jones's Diary (2001)"
          ],
          [
           "Moon-Spinners, The (1964)"
          ],
          [
           "Bridges of Madison County, The (1995)"
          ],
          [
           "Bronx Tale, A (1993)"
          ],
          [
           "Matrix, The (1999)"
          ],
          [
           "Mary Poppins (1964)"
          ],
          [
           "Dude, Where's My Car? (2000)"
          ],
          [
           "Sword in the Stone, The (1963)"
          ],
          [
           "Avatar (2009)"
          ],
          [
           "House of Flying Daggers (Shi mian mai fu) (2004)"
          ],
          [
           "House of Flying Daggers (Shi mian mai fu) (2004)"
          ],
          [
           "RoboCop (1987)"
          ],
          [
           "Barenaked in America (1999)"
          ],
          [
           "Meet Joe Black (1998)"
          ],
          [
           "2001: A Space Odyssey (1968)"
          ],
          [
           "Sin City (2005)"
          ],
          [
           "Mission: Impossible (1996)"
          ],
          [
           "Moon (2009)"
          ],
          [
           "Judge Dredd (1995)"
          ],
          [
           "Hot Shots! Part Deux (1993)"
          ],
          [
           "Shark Tale (2004)"
          ],
          [
           "Perfect World, A (1993)"
          ],
          [
           "Stuck on You (2003)"
          ],
          [
           "Shaun of the Dead (2004)"
          ],
          [
           "Airplane! (1980)"
          ],
          [
           "X2: X-Men United (2003)"
          ],
          [
           "Titanic (1997)"
          ],
          [
           "Green Mile, The (1999)"
          ],
          [
           "Pirates of the Caribbean: At World's End (2007)"
          ],
          [
           "In the Line of Fire (1993)"
          ],
          [
           "Sleepless in Seattle (1993)"
          ],
          [
           "Firm, The (1993)"
          ],
          [
           "Life Is Beautiful (La Vita è bella) (1997)"
          ],
          [
           "Alice in Wonderland (2010)"
          ],
          [
           "Mike's Murder (1984)"
          ],
          [
           "Pinocchio (1940)"
          ],
          [
           "Dogma (1999)"
          ],
          [
           "Last Samurai, The (2003)"
          ],
          [
           "Wizard of Oz, The (1939)"
          ],
          [
           "Mystery Train (1989)"
          ],
          [
           "Star Wars: Episode VI - Return of the Jedi (1983)"
          ],
          [
           "Star Trek: Nemesis (2002)"
          ],
          [
           "Men in Black (a.k.a. MIB) (1997)"
          ],
          [
           "Sound of Music, The (1965)"
          ],
          [
           "Proof of Life (2000)"
          ],
          [
           "Puppet Master II (1991)"
          ],
          [
           "Snake Eyes (1998)"
          ],
          [
           "Usual Suspects, The (1995)"
          ],
          [
           "Bad Boys (1995)"
          ],
          [
           "Shakespeare in Love (1998)"
          ],
          [
           "Crash (2004)"
          ],
          [
           "Superman IV: The Quest for Peace (1987)"
          ],
          [
           "Allnighter, The (1987)"
          ],
          [
           "Field of Dreams (1989)"
          ],
          [
           "Austin Powers in Goldmember (2002)"
          ],
          [
           "Maltese Falcon, The (1941)"
          ],
          [
           "Postman, The (Postino, Il) (1994)"
          ],
          [
           "Stigmata (1999)"
          ],
          [
           "Lolita (1962)"
          ],
          [
           "Free Willy (1993)"
          ],
          [
           "Great White Hype, The (1996)"
          ],
          [
           "White Men Can't Jump (1992)"
          ],
          [
           "Arlington Road (1999)"
          ],
          [
           "Flintstones, The (1994)"
          ],
          [
           "Rain Man (1988)"
          ],
          [
           "Accidental Tourist, The (1988)"
          ],
          [
           "Little Women (1994)"
          ],
          [
           "Terminator 2: Judgment Day (1991)"
          ],
          [
           "Ghostbusters (a.k.a. Ghost Busters) (1984)"
          ],
          [
           "Sword in the Stone, The (1963)"
          ],
          [
           "Lion in Winter, The (1968)"
          ],
          [
           "Ninth Gate, The (1999)"
          ],
          [
           "Clockwork Orange, A (1971)"
          ],
          [
           "Cast Away (2000)"
          ],
          [
           "Bring It On (2000)"
          ],
          [
           "Great Expectations (1998)"
          ],
          [
           "Corpse Bride (2005)"
          ],
          [
           "High Fidelity (2000)"
          ],
          [
           "Pee-wee's Big Adventure (1985)"
          ],
          [
           "Full Metal Jacket (1987)"
          ],
          [
           "Spider-Man 3 (2007)"
          ],
          [
           "Breathless (1983)"
          ],
          [
           "Cyrano de Bergerac (1990)"
          ],
          [
           "Dracula (Bram Stoker's Dracula) (1992)"
          ],
          [
           "Kids in the Hall: Brain Candy (1996)"
          ],
          [
           "Garfield: The Movie (2004)"
          ],
          [
           "Fly, The (1986)"
          ],
          [
           "Young Frankenstein (1974)"
          ],
          [
           "Apocalypse Now (1979)"
          ],
          [
           "Matrix, The (1999)"
          ],
          [
           "Addams Family, The (1991)"
          ],
          [
           "Full Monty, The (1997)"
          ],
          [
           "E.T. the Extra-Terrestrial (1982)"
          ],
          [
           "Summer Lovers (1982)"
          ],
          [
           "Equilibrium (2002)"
          ],
          [
           "Waterworld (1995)"
          ],
          [
           "Deuce Bigalow: Male Gigolo (1999)"
          ],
          [
           "Waterworld (1995)"
          ],
          [
           "Atlantic City (1980)"
          ],
          [
           "Hoop Dreams (1994)"
          ],
          [
           "Apocalypse Now (1979)"
          ],
          [
           "Shawshank Redemption, The (1994)"
          ],
          [
           "American President, The (1995)"
          ],
          [
           "Hidalgo (2004)"
          ],
          [
           "Snow White and the Seven Dwarfs (1937)"
          ],
          [
           "Shrek 2 (2004)"
          ],
          [
           "Firm, The (1993)"
          ],
          [
           "To Kill a Mockingbird (1962)"
          ],
          [
           "Pineapple Express (2008)"
          ],
          [
           "Little Mermaid, The (1989)"
          ],
          [
           "Philadelphia (1993)"
          ],
          [
           "All About the Benjamins (2002)"
          ],
          [
           "Psycho II (1983)"
          ],
          [
           "Mr. & Mrs. Smith (2005)"
          ],
          [
           "Amistad (1997)"
          ],
          [
           "Ever After: A Cinderella Story (1998)"
          ],
          [
           "Four Rooms (1995)"
          ],
          [
           "Mad Max (1979)"
          ],
          [
           "My Fair Lady (1964)"
          ],
          [
           "Ice Age (2002)"
          ],
          [
           "Schindler's List (1993)"
          ],
          [
           "Firm, The (1993)"
          ],
          [
           "Hot Fuzz (2007)"
          ],
          [
           "Despicable Me (2010)"
          ],
          [
           "Fatal Attraction (1987)"
          ],
          [
           "101 Dalmatians (1996)"
          ],
          [
           "Abyss, The (1989)"
          ],
          [
           "Not Without My Daughter (1991)"
          ],
          [
           "Pokémon 3: The Movie (2001)"
          ],
          [
           "Thin Man, The (1934)"
          ],
          [
           "Iron Man 2 (2010)"
          ],
          [
           "Godfather, The (1972)"
          ],
          [
           "Sting, The (1973)"
          ],
          [
           "Star Trek VI: The Undiscovered Country (1991)"
          ],
          [
           "Net, The (1995)"
          ],
          [
           "WALL·E (2008)"
          ],
          [
           "L.A. Confidential (1997)"
          ],
          [
           "Karate Kid, Part II, The (1986)"
          ],
          [
           "Austin Powers in Goldmember (2002)"
          ],
          [
           "Army of Darkness (1993)"
          ],
          [
           "American Pie (1999)"
          ],
          [
           "Highlander (1986)"
          ],
          [
           "Thin Red Line, The (1998)"
          ],
          [
           "Hamlet (1996)"
          ],
          [
           "Waiting... (2005)"
          ],
          [
           "Dumb & Dumber (Dumb and Dumber) (1994)"
          ],
          [
           "Double Jeopardy (1999)"
          ],
          [
           "African Queen, The (1951)"
          ],
          [
           "Primal Fear (1996)"
          ],
          [
           "Rob Roy (1995)"
          ],
          [
           "Coneheads (1993)"
          ],
          [
           "Man on Fire (2004)"
          ],
          [
           "Kingpin (1996)"
          ],
          [
           "History of the World: Part I (1981)"
          ],
          [
           "Pirates of the Caribbean: Dead Man's Chest (2006)"
          ],
          [
           "Seven (a.k.a. Se7en) (1995)"
          ],
          [
           "X-Men (2000)"
          ],
          [
           "School of Rock (2003)"
          ],
          [
           "Brothers McMullen, The (1995)"
          ],
          [
           "Inglourious Basterds (2009)"
          ],
          [
           "Don't Be a Menace to South Central While Drinking Your Juice in the Hood (1996)"
          ],
          [
           "Monsters (2010)"
          ],
          [
           "Rock, The (1996)"
          ],
          [
           "Few Good Men, A (1992)"
          ],
          [
           "Scorpion King, The (2002)"
          ],
          [
           "Dave (1993)"
          ],
          [
           "Blue Velvet (1986)"
          ],
          [
           "Duck Soup (1933)"
          ],
          [
           "Resident Evil: Extinction (2007)"
          ],
          [
           "Antz (1998)"
          ],
          [
           "Destiny Turns on the Radio (1995)"
          ],
          [
           "Almost Famous (2000)"
          ],
          [
           "Mystery Men (1999)"
          ],
          [
           "Dead Snow (Død snø) (2009)"
          ],
          [
           "Zoolander (2001)"
          ],
          [
           "She's All That (1999)"
          ],
          [
           "Anger Management (2003)"
          ],
          [
           "Bourne Ultimatum, The (2007)"
          ],
          [
           "Back to the Future Part III (1990)"
          ],
          [
           "Forsaken, The (2001)"
          ],
          [
           "Wedding Singer, The (1998)"
          ],
          [
           "Blues Brothers, The (1980)"
          ],
          [
           "Star Wars: Episode VI - Return of the Jedi (1983)"
          ],
          [
           "Rust and Bone (De rouille et d'os) (2012)"
          ],
          [
           "Take Shelter (2011)"
          ],
          [
           "Speed (1994)"
          ],
          [
           "Outbreak (1995)"
          ],
          [
           "Shawshank Redemption, The (1994)"
          ],
          [
           "2 Days in the Valley (1996)"
          ],
          [
           "American Psycho (2000)"
          ],
          [
           "Poltergeist (1982)"
          ],
          [
           "Rear Window (1954)"
          ],
          [
           "Pocahontas (1995)"
          ],
          [
           "Mars Attacks! (1996)"
          ],
          [
           "Aladdin and the King of Thieves (1996)"
          ],
          [
           "Lost Boys, The (1987)"
          ],
          [
           "My Cousin Vinny (1992)"
          ],
          [
           "My Neighbor Totoro (Tonari no Totoro) (1988)"
          ],
          [
           "Deep Impact (1998)"
          ],
          [
           "Ghostbusters II (1989)"
          ],
          [
           "Infernal Affairs (Mou gaan dou) (2002)"
          ],
          [
           "Finding Neverland (2004)"
          ],
          [
           "So I Married an Axe Murderer (1993)"
          ],
          [
           "Fox and the Hound, The (1981)"
          ],
          [
           "Spanish Apartment, The (L'auberge espagnole) (2002)"
          ],
          [
           "Streetcar Named Desire, A (1951)"
          ],
          [
           "National Lampoon's Van Wilder (2002)"
          ],
          [
           "Happy Gilmore (1996)"
          ],
          [
           "Metropolis (2001)"
          ],
          [
           "Good Morning, Vietnam (1987)"
          ],
          [
           "Austin Powers: The Spy Who Shagged Me (1999)"
          ],
          [
           "Ballad of Narayama, The (Narayama bushiko) (1983)"
          ],
          [
           "Swiss Family Robinson (1960)"
          ],
          [
           "Thank You for Smoking (2006)"
          ],
          [
           "Ready to Wear (Pret-A-Porter) (1994)"
          ],
          [
           "Happy Accidents (2000)"
          ],
          [
           "Nightmare Before Christmas, The (1993)"
          ],
          [
           "Bad Boys (1995)"
          ],
          [
           "Starship Troopers (1997)"
          ],
          [
           "Star Wars: Episode III - Revenge of the Sith (2005)"
          ],
          [
           "American Beauty (1999)"
          ],
          [
           "Apocalypse Now (1979)"
          ],
          [
           "Wallace & Gromit: The Best of Aardman Animation (1996)"
          ],
          [
           "Star Trek: The Motion Picture (1979)"
          ],
          [
           "Village of the Damned (1960)"
          ],
          [
           "Notting Hill (1999)"
          ],
          [
           "Birdcage, The (1996)"
          ],
          [
           "Casablanca (1942)"
          ],
          [
           "Romancing the Stone (1984)"
          ],
          [
           "Aliens (1986)"
          ],
          [
           "Traffic (2000)"
          ],
          [
           "Thirteen Ghosts (a.k.a. Thir13en Ghosts) (2001)"
          ],
          [
           "Sleepless in Seattle (1993)"
          ],
          [
           "Adaptation (2002)"
          ],
          [
           "Happiness (1998)"
          ],
          [
           "Thin Red Line, The (1998)"
          ],
          [
           "Happy Gilmore (1996)"
          ],
          [
           "Forrest Gump (1994)"
          ],
          [
           "Back to the Future (1985)"
          ],
          [
           "Toys (1992)"
          ],
          [
           "Starship Troopers (1997)"
          ],
          [
           "Minority Report (2002)"
          ],
          [
           "His Girl Friday (1940)"
          ],
          [
           "Opposite of Sex, The (1998)"
          ],
          [
           "To Die For (1995)"
          ],
          [
           "Shoot 'Em Up (2007)"
          ],
          [
           "Scent of a Woman (1992)"
          ],
          [
           "Spider-Man 2 (2004)"
          ],
          [
           "40 Days and 40 Nights (2002)"
          ],
          [
           "Star Wars: Episode IV - A New Hope (1977)"
          ],
          [
           "High Noon (1952)"
          ],
          [
           "Three Colors: Blue (Trois couleurs: Bleu) (1993)"
          ],
          [
           "Net, The (1995)"
          ],
          [
           "Wizard of Oz, The (1939)"
          ],
          [
           "Wallace & Gromit: A Close Shave (1995)"
          ],
          [
           "Holiday Inn (1942)"
          ],
          [
           "Wicker Park (2004)"
          ],
          [
           "Point Break (1991)"
          ],
          [
           "Predator 2 (1990)"
          ],
          [
           "Notting Hill (1999)"
          ],
          [
           "Beauty and the Beast (1991)"
          ],
          [
           "Eraser (1996)"
          ],
          [
           "Austin Powers: International Man of Mystery (1997)"
          ],
          [
           "Star Trek: Generations (1994)"
          ],
          [
           "Rocky (1976)"
          ],
          [
           "True Romance (1993)"
          ],
          [
           "Freeway (1996)"
          ],
          [
           "Sweeney Todd: The Demon Barber of Fleet Street (2007)"
          ],
          [
           "Centurion (2010)"
          ],
          [
           "Batman Returns (1992)"
          ],
          [
           "Fog, The (1980)"
          ],
          [
           "Night of the Comet (1984)"
          ],
          [
           "Secondhand Lions (2003)"
          ],
          [
           "Brokeback Mountain (2005)"
          ],
          [
           "Klute (1971)"
          ],
          [
           "Indiana Jones and the Last Crusade (1989)"
          ],
          [
           "Cyclo (Xich lo) (1995)"
          ],
          [
           "Mars Attacks! (1996)"
          ],
          [
           "Labyrinth (1986)"
          ],
          [
           "Muriel's Wedding (1994)"
          ],
          [
           "Aviator, The (2004)"
          ],
          [
           "Go (1999)"
          ],
          [
           "Interview with the Vampire: The Vampire Chronicles (1994)"
          ],
          [
           "Fugitive, The (1993)"
          ],
          [
           "Beverly Hills Cop III (1994)"
          ],
          [
           "RoboCop (1987)"
          ],
          [
           "Starship Troopers (1997)"
          ],
          [
           "Lethal Weapon 4 (1998)"
          ],
          [
           "Little Mermaid, The (1989)"
          ],
          [
           "Indiana Jones and the Last Crusade (1989)"
          ],
          [
           "Heathers (1989)"
          ],
          [
           "Apocalypse Now (1979)"
          ],
          [
           "Elizabethtown (2005)"
          ],
          [
           "JFK (1991)"
          ],
          [
           "Crash (2004)"
          ],
          [
           "Eragon (2006)"
          ],
          [
           "Braveheart (1995)"
          ],
          [
           "American President, The (1995)"
          ],
          [
           "Hilary and Jackie (1998)"
          ],
          [
           "X-Files: Fight the Future, The (1998)"
          ],
          [
           "English Patient, The (1996)"
          ],
          [
           "Iron Monkey (Siu nin Wong Fei-hung ji: Tit Ma Lau) (1993)"
          ],
          [
           "What's Eating Gilbert Grape (1993)"
          ],
          [
           "Pretty Woman (1990)"
          ],
          [
           "Little Shop of Horrors (1986)"
          ],
          [
           "Law Abiding Citizen (2009)"
          ],
          [
           "Princess Bride, The (1987)"
          ],
          [
           "Three Colors: Blue (Trois couleurs: Bleu) (1993)"
          ],
          [
           "Officer and a Gentleman, An (1982)"
          ],
          [
           "Wedding Singer, The (1998)"
          ],
          [
           "Dr. Strangelove or: How I Learned to Stop Worrying and Love the Bomb (1964)"
          ],
          [
           "Aladdin (1992)"
          ],
          [
           "Batman (1989)"
          ],
          [
           "Futurama: The Beast with a Billion Backs (2008)"
          ],
          [
           "Mr. Holland's Opus (1995)"
          ],
          [
           "Shawshank Redemption, The (1994)"
          ],
          [
           "William Shakespeare's Romeo + Juliet (1996)"
          ],
          [
           "2010: The Year We Make Contact (1984)"
          ],
          [
           "Heathers (1989)"
          ],
          [
           "Demolition Man (1993)"
          ],
          [
           "GoldenEye (1995)"
          ],
          [
           "Reality Bites (1994)"
          ],
          [
           "Forbidden Planet (1956)"
          ],
          [
           "Maleficent (2014)"
          ],
          [
           "Trading Places (1983)"
          ],
          [
           "Philadelphia (1993)"
          ],
          [
           "Heat (1995)"
          ],
          [
           "Heat (1995)"
          ],
          [
           "Orange County (2002)"
          ],
          [
           "American Psycho (2000)"
          ],
          [
           "Rain Man (1988)"
          ],
          [
           "Taxi Driver (1976)"
          ],
          [
           "Angel Heart (1987)"
          ],
          [
           "Starship Troopers (1997)"
          ],
          [
           "Secret Garden, The (1993)"
          ],
          [
           "Truth About Cats & Dogs, The (1996)"
          ],
          [
           "Raise the Red Lantern (Da hong deng long gao gao gua) (1991)"
          ],
          [
           "Star Wars: Episode II - Attack of the Clones (2002)"
          ],
          [
           "Say Anything... (1989)"
          ],
          [
           "French Connection, The (1971)"
          ],
          [
           "Others, The (2001)"
          ],
          [
           "Lady from Shanghai, The (1947)"
          ],
          [
           "Red Dragon (2002)"
          ],
          [
           "Pianist, The (2002)"
          ],
          [
           "City Hall (1996)"
          ],
          [
           "Babylon 5: In the Beginning (1998)"
          ],
          [
           "Star Trek: First Contact (1996)"
          ],
          [
           "Usual Suspects, The (1995)"
          ],
          [
           "Love Actually (2003)"
          ],
          [
           "Twelve Monkeys (a.k.a. 12 Monkeys) (1995)"
          ],
          [
           "101 Dalmatians (One Hundred and One Dalmatians) (1961)"
          ],
          [
           "Judge Dredd (1995)"
          ],
          [
           "Last Emperor, The (1987)"
          ],
          [
           "Hangover, The (2009)"
          ],
          [
           "English Patient, The (1996)"
          ],
          [
           "Love and Basketball (2000)"
          ],
          [
           "City Lights (1931)"
          ],
          [
           "Vertigo (1958)"
          ],
          [
           "Thing, The (1982)"
          ],
          [
           "Bachelor Party (1984)"
          ],
          [
           "Blues Brothers 2000 (1998)"
          ],
          [
           "Basic Instinct (1992)"
          ],
          [
           "Postman, The (Postino, Il) (1994)"
          ],
          [
           "Jurassic Park (1993)"
          ],
          [
           "Road Warrior, The (Mad Max 2) (1981)"
          ],
          [
           "Three Colors: Blue (Trois couleurs: Bleu) (1993)"
          ],
          [
           "City Hall (1996)"
          ],
          [
           "Miracle on 34th Street (1994)"
          ],
          [
           "Lawnmower Man, The (1992)"
          ],
          [
           "Piano, The (1993)"
          ],
          [
           "Prince & Me, The (2004)"
          ],
          [
           "Jaws (1975)"
          ],
          [
           "Beverly Hills Cop II (1987)"
          ],
          [
           "Good Girl, The (2002)"
          ],
          [
           "Harry Potter and the Order of the Phoenix (2007)"
          ],
          [
           "Face/Off (1997)"
          ],
          [
           "Bonnie and Clyde (1967)"
          ],
          [
           "Hot Shots! Part Deux (1993)"
          ],
          [
           "Blade (1998)"
          ],
          [
           "Hannah and Her Sisters (1986)"
          ],
          [
           "Harry Potter and the Sorcerer's Stone (a.k.a. Harry Potter and the Philosopher's Stone) (2001)"
          ],
          [
           "Kill Bill: Vol. 1 (2003)"
          ],
          [
           "First Day of the Rest of Your Life, The (Le premier jour du reste de ta vie) (2008)"
          ],
          [
           "Grand, The (2007)"
          ],
          [
           "10 Things I Hate About You (1999)"
          ],
          [
           "Dave (1993)"
          ],
          [
           "Kill Bill: Vol. 2 (2004)"
          ],
          [
           "Edward Scissorhands (1990)"
          ],
          [
           "Psycho (1960)"
          ],
          [
           "Willy Wonka & the Chocolate Factory (1971)"
          ],
          [
           "Night of the Living Dead (1968)"
          ],
          [
           "Heaven (2002)"
          ],
          [
           "Godfather: Part II, The (1974)"
          ],
          [
           "Three Musketeers, The (1993)"
          ],
          [
           "Cinema Paradiso (Nuovo cinema Paradiso) (1989)"
          ],
          [
           "Dead Men Don't Wear Plaid (1982)"
          ],
          [
           "Friday (1995)"
          ],
          [
           "Striptease (1996)"
          ],
          [
           "Wild Things (1998)"
          ],
          [
           "Lady and the Tramp (1955)"
          ],
          [
           "Tom Thumb (1958)"
          ],
          [
           "JFK (1991)"
          ],
          [
           "H.O.T.S. (1979)"
          ],
          [
           "Strictly Ballroom (1992)"
          ],
          [
           "To Kill a Mockingbird (1962)"
          ],
          [
           "Howard the Duck (1986)"
          ],
          [
           "Inglourious Basterds (2009)"
          ],
          [
           "Kill Bill: Vol. 2 (2004)"
          ],
          [
           "X-Men (2000)"
          ],
          [
           "Small Soldiers (1998)"
          ],
          [
           "Elephant Man, The (1980)"
          ],
          [
           "V for Vendetta (2006)"
          ],
          [
           "White Men Can't Jump (1992)"
          ],
          [
           "Mr. & Mrs. Smith (1941)"
          ],
          [
           "Jurassic Park (1993)"
          ],
          [
           "Gladiator (2000)"
          ],
          [
           "Four Rooms (1995)"
          ],
          [
           "Outbreak (1995)"
          ],
          [
           "Titanic (1997)"
          ],
          [
           "Bourne Supremacy, The (2004)"
          ],
          [
           "Apocalypse Now (1979)"
          ],
          [
           "Accidental Spy, The (Dak miu mai shing) (2001)"
          ],
          [
           "Bowfinger (1999)"
          ],
          [
           "Kill Bill: Vol. 1 (2003)"
          ],
          [
           "Chicago (2002)"
          ],
          [
           "Nine Months (1995)"
          ],
          [
           "Incredibles, The (2004)"
          ],
          [
           "Flintstones in Viva Rock Vegas, The (2000)"
          ],
          [
           "Fight Club (1999)"
          ],
          [
           "Jungle Book, The (1994)"
          ],
          [
           "Year of Living Dangerously, The (1982)"
          ],
          [
           "Godfather: Part II, The (1974)"
          ],
          [
           "Romancing the Stone (1984)"
          ],
          [
           "Stand and Deliver (1988)"
          ],
          [
           "Return of Martin Guerre, The (Retour de Martin Guerre, Le) (1982)"
          ],
          [
           "So I Married an Axe Murderer (1993)"
          ],
          [
           "Hate (Haine, La) (1995)"
          ],
          [
           "300 (2007)"
          ],
          [
           "Groundhog Day (1993)"
          ],
          [
           "Chicago (2002)"
          ],
          [
           "Twister (1996)"
          ],
          [
           "Charlie Bartlett (2007)"
          ],
          [
           "Pinocchio (1940)"
          ],
          [
           "Great Expectations (1998)"
          ],
          [
           "North Dallas Forty (1979)"
          ],
          [
           "Pretty Woman (1990)"
          ],
          [
           "Apollo 13 (1995)"
          ],
          [
           "Stargate (1994)"
          ],
          [
           "Boondock Saints, The (2000)"
          ],
          [
           "Third Man, The (1949)"
          ],
          [
           "Journey of Natty Gann, The (1985)"
          ],
          [
           "Contender, The (2000)"
          ],
          [
           "Amadeus (1984)"
          ],
          [
           "Waterworld (1995)"
          ],
          [
           "Twelve Monkeys (a.k.a. 12 Monkeys) (1995)"
          ],
          [
           "Tales from the Golden Age (Amintiri din epoca de aur) (2009)"
          ],
          [
           "Austin Powers: International Man of Mystery (1997)"
          ],
          [
           "Kolya (Kolja) (1996)"
          ],
          [
           "Apocalypse Now (1979)"
          ],
          [
           "Tin Drum, The (Blechtrommel, Die) (1979)"
          ],
          [
           "Paris, I Love You (Paris, je t'aime) (2006)"
          ],
          [
           "Judge Dredd (1995)"
          ],
          [
           "Man in the White Suit, The (1951)"
          ],
          [
           "Total Recall (1990)"
          ],
          [
           "Thank You for Smoking (2006)"
          ],
          [
           "Great Santini, The (1979)"
          ],
          [
           "Mission: Impossible (1996)"
          ],
          [
           "South Park: Bigger, Longer and Uncut (1999)"
          ],
          [
           "Last Detail, The (1973)"
          ],
          [
           "In Crowd, The (2000)"
          ],
          [
           "License to Drive (1988)"
          ],
          [
           "April Fool's Day (1986)"
          ],
          [
           "Fast and the Furious, The (2001)"
          ],
          [
           "Batman (1989)"
          ],
          [
           "Richard Pryor: Live in Concert (1979)"
          ],
          [
           "Splash (1984)"
          ],
          [
           "Good Will Hunting (1997)"
          ],
          [
           "Mr. Smith Goes to Washington (1939)"
          ],
          [
           "Right Stuff, The (1983)"
          ],
          [
           "Roxanne (1987)"
          ],
          [
           "Stargate (1994)"
          ],
          [
           "Mission: Impossible (1996)"
          ],
          [
           "Babe (1995)"
          ],
          [
           "X2: X-Men United (2003)"
          ],
          [
           "Heat (1995)"
          ],
          [
           "Desperado (1995)"
          ],
          [
           "Shanghai Noon (2000)"
          ],
          [
           "Elizabeth (1998)"
          ],
          [
           "Midnight Cowboy (1969)"
          ],
          [
           "Murder in the First (1995)"
          ],
          [
           "Clerks (1994)"
          ],
          [
           "Pulp Fiction (1994)"
          ],
          [
           "Men in Black (a.k.a. MIB) (1997)"
          ],
          [
           "Casper (1995)"
          ],
          [
           "Edward Scissorhands (1990)"
          ],
          [
           "Sorority Boys (2002)"
          ],
          [
           "Hard Candy (2005)"
          ],
          [
           "Insider, The (1999)"
          ],
          [
           "Little Nikita (1988)"
          ],
          [
           "Home on the Range (2004)"
          ],
          [
           "Breakfast Club, The (1985)"
          ],
          [
           "Star Trek: Generations (1994)"
          ],
          [
           "Quiz Show (1994)"
          ],
          [
           "Evil Dead II (Dead by Dawn) (1987)"
          ],
          [
           "Batman Returns (1992)"
          ],
          [
           "Planet of the Apes (1968)"
          ],
          [
           "Talented Mr. Ripley, The (1999)"
          ],
          [
           "Home Fries (1998)"
          ],
          [
           "Beautiful Girls (1996)"
          ],
          [
           "Roman Holiday (1953)"
          ],
          [
           "Jurassic Park (1993)"
          ],
          [
           "Interview with the Vampire: The Vampire Chronicles (1994)"
          ],
          [
           "Perfume: The Story of a Murderer (2006)"
          ],
          [
           "Ghostbusters (a.k.a. Ghost Busters) (1984)"
          ],
          [
           "Beverly Hills Cop II (1987)"
          ],
          [
           "Gift, The (2000)"
          ],
          [
           "Parent Trap, The (1998)"
          ],
          [
           "Rocketeer, The (1991)"
          ],
          [
           "Inglourious Basterds (2009)"
          ],
          [
           "World According to Garp, The (1982)"
          ],
          [
           "Ghostbusters (a.k.a. Ghost Busters) (1984)"
          ],
          [
           "Jesus Christ Superstar (2000)"
          ],
          [
           "Willy Wonka & the Chocolate Factory (1971)"
          ],
          [
           "Batman (1989)"
          ],
          [
           "There's Something About Mary (1998)"
          ],
          [
           "Battlefield Earth (2000)"
          ],
          [
           "Jack (1996)"
          ],
          [
           "Spy Hard (1996)"
          ],
          [
           "Bang, Bang, You're Dead (2002)"
          ],
          [
           "South Park: Bigger, Longer and Uncut (1999)"
          ],
          [
           "Kramer vs. Kramer (1979)"
          ],
          [
           "Texas Chainsaw Massacre, The (2003)"
          ],
          [
           "Avengers, The (2012)"
          ],
          [
           "Mortal Kombat (1995)"
          ],
          [
           "Godfather, The (1972)"
          ],
          [
           "Forrest Gump (1994)"
          ],
          [
           "25th Hour (2002)"
          ],
          [
           "Pope of Greenwich Village, The (1984)"
          ],
          [
           "NeverEnding Story, The (1984)"
          ],
          [
           "Blade: Trinity (2004)"
          ],
          [
           "Top Gun (1986)"
          ],
          [
           "Other Woman, The (2014)"
          ],
          [
           "Little Miss Sunshine (2006)"
          ],
          [
           "Kinsey (2004)"
          ],
          [
           "Terminator, The (1984)"
          ],
          [
           "Aristocats, The (1970)"
          ],
          [
           "Princess Bride, The (1987)"
          ],
          [
           "Star Trek: Generations (1994)"
          ],
          [
           "2001: A Space Odyssey (1968)"
          ],
          [
           "Grapes of Wrath, The (1940)"
          ],
          [
           "Romeo Must Die (2000)"
          ],
          [
           "Romancing the Stone (1984)"
          ],
          [
           "Wolf (1994)"
          ],
          [
           "Swordfish (2001)"
          ],
          [
           "Machete (2010)"
          ],
          [
           "Ferris Bueller's Day Off (1986)"
          ],
          [
           "Disclosure (1994)"
          ],
          [
           "What Lies Beneath (2000)"
          ],
          [
           "Final Cut (1998)"
          ],
          [
           "Hand That Rocks the Cradle, The (1992)"
          ],
          [
           "Backdraft (1991)"
          ],
          [
           "Come and See (Idi i smotri) (1985)"
          ],
          [
           "Alien: Resurrection (1997)"
          ],
          [
           "Silence of the Lambs, The (1991)"
          ],
          [
           "Pianist, The (2002)"
          ],
          [
           "Heat (1995)"
          ],
          [
           "War of the Roses, The (1989)"
          ],
          [
           "Analyze That (2002)"
          ],
          [
           "Good Will Hunting (1997)"
          ],
          [
           "Minority Report (2002)"
          ],
          [
           "RoboCop 3 (1993)"
          ],
          [
           "Fly, The (1958)"
          ],
          [
           "Private Parts (1997)"
          ],
          [
           "Speed (1994)"
          ],
          [
           "Blue Velvet (1986)"
          ],
          [
           "Kiki's Delivery Service (Majo no takkyûbin) (1989)"
          ],
          [
           "Thirteen Days (2000)"
          ],
          [
           "Jumanji (1995)"
          ],
          [
           "Vanilla Sky (2001)"
          ],
          [
           "Pulp Fiction (1994)"
          ],
          [
           "Chorus Line, A (1985)"
          ],
          [
           "Tombstone (1993)"
          ],
          [
           "Beginners (2010)"
          ],
          [
           "Antz (1998)"
          ],
          [
           "200 Cigarettes (1999)"
          ],
          [
           "Rain Man (1988)"
          ],
          [
           "Dead Poets Society (1989)"
          ],
          [
           "Lethal Weapon (1987)"
          ],
          [
           "Emma (1996)"
          ],
          [
           "This Film Is Not Yet Rated (2006)"
          ],
          [
           "Anatomy of a Murder (1959)"
          ],
          [
           "Grumpier Old Men (1995)"
          ],
          [
           "Killing Fields, The (1984)"
          ],
          [
           "On Her Majesty's Secret Service (1969)"
          ],
          [
           "Matrix Reloaded, The (2003)"
          ],
          [
           "Lilya 4-Ever (Lilja 4-ever) (2002)"
          ],
          [
           "Thin Red Line, The (1998)"
          ],
          [
           "Congo (1995)"
          ],
          [
           "Muppet Treasure Island (1996)"
          ],
          [
           "Wanted (2008)"
          ],
          [
           "Dead Again (1991)"
          ],
          [
           "Muppet Movie, The (1979)"
          ],
          [
           "Contagion / Bio Slime (2010)"
          ],
          [
           "Finding Nemo (2003)"
          ],
          [
           "Mrs. Doubtfire (1993)"
          ],
          [
           "Chinatown (1974)"
          ],
          [
           "Congo (1995)"
          ],
          [
           "Ace Ventura: Pet Detective (1994)"
          ],
          [
           "3:10 to Yuma (2007)"
          ],
          [
           "Casper (1995)"
          ],
          [
           "Tin Cup (1996)"
          ],
          [
           "Transformers (2007)"
          ],
          [
           "Pocahontas (1995)"
          ],
          [
           "Mask of Zorro, The (1998)"
          ],
          [
           "Primal Fear (1996)"
          ],
          [
           "Reservoir Dogs (1992)"
          ],
          [
           "Sixteen Candles (1984)"
          ],
          [
           "Casino (1995)"
          ],
          [
           "Jail Bait (1954)"
          ],
          [
           "My Big Fat Greek Wedding (2002)"
          ],
          [
           "Much Ado About Nothing (1993)"
          ],
          [
           "Forrest Gump (1994)"
          ],
          [
           "Live and Let Die (1973)"
          ],
          [
           "Into the Wild (2007)"
          ],
          [
           "Leaving Las Vegas (1995)"
          ],
          [
           "Master of Disguise, The (2002)"
          ],
          [
           "Muppet Treasure Island (1996)"
          ],
          [
           "Stigmata (1999)"
          ],
          [
           "Fandango (1985)"
          ],
          [
           "Dumb and Dumber To (2014)"
          ],
          [
           "Proof (2005)"
          ],
          [
           "Good bye, Lenin! (2003)"
          ],
          [
           "Hollow Man (2000)"
          ],
          [
           "Fargo (1996)"
          ],
          [
           "Interview with the Vampire: The Vampire Chronicles (1994)"
          ],
          [
           "Gone Baby Gone (2007)"
          ],
          [
           "Assassination of Jesse James by the Coward Robert Ford, The (2007)"
          ],
          [
           "Fugitive, The (1993)"
          ],
          [
           "Madagascar (2005)"
          ],
          [
           "Jurassic Park (1993)"
          ],
          [
           "Blank Check (1994)"
          ],
          [
           "Jaws 2 (1978)"
          ],
          [
           "Dangerous Liaisons (1988)"
          ],
          [
           "Scream 2 (1997)"
          ],
          [
           "Wild Wild West (1999)"
          ],
          [
           "Star Trek VI: The Undiscovered Country (1991)"
          ],
          [
           "Purple Rose of Cairo, The (1985)"
          ],
          [
           "Godfather, The (1972)"
          ],
          [
           "Naked Gun 33 1/3: The Final Insult (1994)"
          ],
          [
           "Stand by Me (1986)"
          ],
          [
           "Smokey and the Bandit (1977)"
          ],
          [
           "Man on Fire (2004)"
          ],
          [
           "Being Julia (2004)"
          ],
          [
           "Jaws 3-D (1983)"
          ],
          [
           "Old School (2003)"
          ],
          [
           "Hellboy II: The Golden Army (2008)"
          ],
          [
           "Mystery Science Theater 3000: The Movie (1996)"
          ],
          [
           "Antitrust (2001)"
          ],
          [
           "Unforgettable (1996)"
          ],
          [
           "Terminator, The (1984)"
          ],
          [
           "40-Year-Old Virgin, The (2005)"
          ],
          [
           "Exorcist, The (1973)"
          ],
          [
           "Ghostbusters (a.k.a. Ghost Busters) (1984)"
          ],
          [
           "Meatballs (1979)"
          ],
          [
           "Drugstore Cowboy (1989)"
          ],
          [
           "Tom Jones (1963)"
          ],
          [
           "Glory (1989)"
          ],
          [
           "Trainspotting (1996)"
          ],
          [
           "Singin' in the Rain (1952)"
          ],
          [
           "After Hours (1985)"
          ],
          [
           "Trainspotting (1996)"
          ],
          [
           "Three Men and a Baby (1987)"
          ],
          [
           "Goodfellas (1990)"
          ],
          [
           "Alien (1979)"
          ],
          [
           "Raise Your Voice (2004)"
          ],
          [
           "Runaway Jury (2003)"
          ],
          [
           "Dick Tracy (1990)"
          ],
          [
           "Mask, The (1994)"
          ],
          [
           "Chicago (2002)"
          ],
          [
           "Manhattan Murder Mystery (1993)"
          ],
          [
           "Magnolia (1999)"
          ],
          [
           "Dances with Wolves (1990)"
          ],
          [
           "In the Heat of the Night (1967)"
          ],
          [
           "Born into Brothels (2004)"
          ],
          [
           "Daredevil (2003)"
          ],
          [
           "To Sir with Love (1967)"
          ],
          [
           "Babe: Pig in the City (1998)"
          ],
          [
           "My Science Project (1985)"
          ],
          [
           "Grumpy Old Men (1993)"
          ],
          [
           "Tin Men (1987)"
          ],
          [
           "American Psycho (2000)"
          ],
          [
           "American Pie (1999)"
          ],
          [
           "Birds, The (1963)"
          ],
          [
           "Stand by Me (1986)"
          ],
          [
           "Invasion of the Body Snatchers (1956)"
          ],
          [
           "First Wives Club, The (1996)"
          ],
          [
           "Insomnia (2002)"
          ],
          [
           "American Pie (1999)"
          ],
          [
           "Shining, The (1980)"
          ],
          [
           "Doors, The (1991)"
          ],
          [
           "Pirates of the Caribbean: At World's End (2007)"
          ],
          [
           "Metropolis (1927)"
          ],
          [
           "Killers, The (1946)"
          ],
          [
           "Airplane! (1980)"
          ],
          [
           "Fantastic Four (2005)"
          ],
          [
           "Edward Scissorhands (1990)"
          ],
          [
           "Specialist, The (1994)"
          ],
          [
           "Aladdin (1992)"
          ],
          [
           "Nightmare Before Christmas, The (1993)"
          ],
          [
           "Wallace & Gromit: The Wrong Trousers (1993)"
          ],
          [
           "Prometheus (2012)"
          ],
          [
           "Princess and the Frog, The (2009)"
          ],
          [
           "My Neighbor Totoro (Tonari no Totoro) (1988)"
          ],
          [
           "Under the Tuscan Sun (2003)"
          ],
          [
           "Pi (1998)"
          ],
          [
           "History Boys, The (2006)"
          ],
          [
           "Matrix, The (1999)"
          ],
          [
           "Mystery Men (1999)"
          ],
          [
           "Fargo (1996)"
          ],
          [
           "Out of Towners, The (1970)"
          ],
          [
           "Forrest Gump (1994)"
          ],
          [
           "Cinema Paradiso (Nuovo cinema Paradiso) (1989)"
          ],
          [
           "Cinderella (1950)"
          ],
          [
           "Don Juan DeMarco (1995)"
          ],
          [
           "Ninja Scroll (Jûbei ninpûchô) (1995)"
          ],
          [
           "Fargo (1996)"
          ],
          [
           "Turbulence (1997)"
          ],
          [
           "Carnal Knowledge (1971)"
          ],
          [
           "Nell (1994)"
          ],
          [
           "Back to the Future Part II (1989)"
          ],
          [
           "Madagascar: Escape 2 Africa (2008)"
          ],
          [
           "Salaam Bombay! (1988)"
          ],
          [
           "Raising Arizona (1987)"
          ],
          [
           "Mighty Ducks, The (1992)"
          ],
          [
           "Fifty Dead Men Walking (2008)"
          ],
          [
           "Congo (1995)"
          ],
          [
           "Back to the Future Part III (1990)"
          ],
          [
           "Ran (1985)"
          ],
          [
           "Pulp Fiction (1994)"
          ],
          [
           "Amadeus (1984)"
          ],
          [
           "Multiplicity (1996)"
          ],
          [
           "Braveheart (1995)"
          ],
          [
           "Dangerous Minds (1995)"
          ],
          [
           "Predator (1987)"
          ],
          [
           "Arthur (1981)"
          ],
          [
           "Harold and Kumar Go to White Castle (2004)"
          ],
          [
           "Big (1988)"
          ],
          [
           "Chasing Amy (1997)"
          ],
          [
           "Ace Ventura: Pet Detective (1994)"
          ],
          [
           "Lethal Weapon 3 (1992)"
          ],
          [
           "Mexican, The (2001)"
          ],
          [
           "Swan Princess, The (1994)"
          ],
          [
           "American Beauty (1999)"
          ],
          [
           "Disclosure (1994)"
          ],
          [
           "I Am Sam (2001)"
          ],
          [
           "Usual Suspects, The (1995)"
          ],
          [
           "Cast Away (2000)"
          ],
          [
           "Children of Men (2006)"
          ]
         ],
         "hovertemplate": "movieId=%{x}<br>rating=%{y}<br>title=%{customdata[0]}<extra></extra>",
         "legendgroup": "",
         "marker": {
          "color": "#636efa",
          "symbol": "circle"
         },
         "mode": "markers",
         "name": "",
         "showlegend": false,
         "type": "scattergl",
         "x": [
          8360,
          32,
          109374,
          1060,
          1732,
          504,
          1792,
          32213,
          1816,
          3996,
          2302,
          2340,
          4007,
          1136,
          1079,
          780,
          1086,
          6979,
          186,
          2003,
          62,
          5060,
          8866,
          3153,
          588,
          40732,
          151,
          81845,
          968,
          321,
          150,
          610,
          1407,
          69526,
          1556,
          5945,
          1275,
          8641,
          3269,
          4425,
          84152,
          296,
          1641,
          434,
          6874,
          2702,
          6539,
          3391,
          780,
          4896,
          2077,
          3543,
          593,
          6157,
          5418,
          52,
          3361,
          4020,
          358,
          351,
          7063,
          1997,
          2762,
          1042,
          2243,
          59369,
          786,
          2279,
          292,
          3752,
          2539,
          2694,
          1513,
          7361,
          60,
          588,
          2858,
          2858,
          543,
          71876,
          46850,
          5001,
          780,
          5952,
          538,
          1247,
          780,
          3638,
          2290,
          2395,
          593,
          69,
          11,
          1408,
          662,
          2194,
          910,
          2641,
          87232,
          4728,
          3175,
          589,
          1339,
          1653,
          1197,
          33166,
          356,
          208,
          6409,
          82463,
          1963,
          110,
          1219,
          4447,
          1196,
          1289,
          3910,
          912,
          6887,
          60069,
          2167,
          805,
          147,
          5902,
          1080,
          55247,
          296,
          3186,
          839,
          3326,
          2629,
          1131,
          1485,
          30793,
          520,
          1365,
          1645,
          7454,
          6,
          253,
          8622,
          4855,
          1968,
          1831,
          1959,
          1701,
          29,
          4518,
          4848,
          2746,
          76251,
          2081,
          225,
          2369,
          57504,
          342,
          415,
          3362,
          1378,
          1225,
          1243,
          3624,
          5064,
          778,
          5872,
          1019,
          3450,
          1291,
          1041,
          3699,
          5994,
          524,
          4687,
          1373,
          1094,
          6569,
          6365,
          4499,
          720,
          590,
          2915,
          4027,
          593,
          2657,
          2296,
          337,
          1441,
          2502,
          3698,
          4306,
          2135,
          5693,
          41997,
          2502,
          5349,
          942,
          80463,
          595,
          2006,
          7405,
          5193,
          6365,
          1235,
          1375,
          4224,
          1374,
          1240,
          2916,
          60072,
          54997,
          2247,
          30707,
          5679,
          4638,
          305,
          1772,
          2329,
          8965,
          1248,
          5303,
          1238,
          4002,
          2194,
          2019,
          2709,
          3681,
          8258,
          1135,
          3135,
          5316,
          179,
          1097,
          2078,
          1183,
          5434,
          88140,
          5445,
          19,
          648,
          3317,
          50872,
          2890,
          2797,
          1997,
          87,
          2599,
          6863,
          6957,
          1924,
          58803,
          34405,
          7762,
          2355,
          919,
          2004,
          1304,
          172,
          316,
          1193,
          2944,
          2943,
          3418,
          5500,
          1913,
          1221,
          3578,
          56367,
          7,
          1246,
          2762,
          5944,
          3727,
          1172,
          3387,
          515,
          10,
          327,
          587,
          1198,
          1060,
          1900,
          2067,
          4361,
          30793,
          3201,
          595,
          2378,
          6890,
          3742,
          5942,
          344,
          4011,
          1183,
          2125,
          318,
          47124,
          6753,
          3088,
          6365,
          1969,
          1517,
          8874,
          44191,
          1247,
          2360,
          5464,
          912,
          2294,
          720,
          5349,
          1233,
          2490,
          2542,
          1732,
          1909,
          1721,
          1580,
          48516,
          1262,
          1213,
          3999,
          2151,
          1952,
          3916,
          2841,
          6539,
          551,
          2990,
          552,
          1917,
          1961,
          3114,
          2414,
          236,
          3296,
          1265,
          2160,
          48385,
          1213,
          442,
          8492,
          2858,
          1127,
          119145,
          2706,
          2289,
          904,
          6764,
          4369,
          588,
          7090,
          5128,
          1407,
          73,
          1270,
          858,
          60037,
          288,
          3623,
          3998,
          1259,
          492,
          8573,
          6793,
          3361,
          79,
          101,
          1302,
          5952,
          5349,
          1276,
          434,
          61024,
          2081,
          1722,
          597,
          2028,
          329,
          317,
          2028,
          2532,
          5134,
          3730,
          589,
          77540,
          4016,
          2021,
          786,
          2413,
          4788,
          1073,
          32587,
          73929,
          1244,
          7438,
          4995,
          4256,
          357,
          47,
          1394,
          1307,
          1250,
          5989,
          1379,
          1208,
          5463,
          1333,
          74624,
          106918,
          518,
          344,
          68135,
          2115,
          2001,
          4396,
          1257,
          6380,
          1777,
          271,
          5882,
          27773,
          56367,
          76093,
          2716,
          150,
          104374,
          1120,
          293,
          902,
          2701,
          153,
          1729,
          370,
          7317,
          344,
          3469,
          786,
          110102,
          3527,
          1946,
          378,
          5378,
          26005,
          2794,
          6377,
          68157,
          608,
          3528,
          1032,
          6155,
          380,
          1804,
          637,
          524,
          8784,
          185,
          41997,
          364,
          370,
          3409,
          3275,
          11,
          83525,
          2263,
          300,
          2474,
          1012,
          3770,
          45,
          1211,
          2003,
          3147,
          2527,
          5459,
          1396,
          2140,
          3984,
          8158,
          66785,
          56757,
          5935,
          1240,
          2772,
          2049,
          4370,
          594,
          44199,
          3362,
          2908,
          1199,
          2174,
          169,
          784,
          3087,
          1042,
          5902,
          920,
          2138,
          733,
          69685,
          50872,
          2683,
          3361,
          902,
          4776,
          3186,
          832,
          3300,
          5617,
          724,
          4367,
          339,
          1885,
          3254,
          2174,
          2881,
          4009,
          58293,
          1080,
          6711,
          1079,
          249,
          694,
          316,
          46976,
          45,
          6373,
          4034,
          1272,
          7151,
          1208,
          58559,
          3439,
          549,
          4621,
          1580,
          2355,
          10,
          837,
          1019,
          3101,
          1,
          3608,
          6016,
          3098,
          2987,
          457,
          2858,
          41566,
          45722,
          852,
          2478,
          4995,
          1663,
          7153,
          8808,
          54272,
          708,
          2753,
          1274,
          1029,
          3174,
          928,
          904,
          4056,
          2761,
          588,
          256,
          5949,
          56782,
          592,
          34767,
          6762,
          784,
          59369,
          368,
          3067,
          1919,
          2405,
          45499,
          18,
          2294,
          110611,
          3735,
          1479,
          54256,
          2428,
          4901,
          27803,
          2064,
          7346,
          34072,
          3309,
          3004,
          2997,
          1610,
          3685,
          722,
          4022,
          1,
          1179,
          6863,
          180,
          5146,
          218,
          3422,
          380,
          2797,
          2488,
          8711,
          1704,
          2716,
          2371,
          590,
          1784,
          84152,
          55280,
          628,
          592,
          3471,
          707,
          2376,
          2329,
          4047,
          27434,
          595,
          5843,
          94864,
          160,
          590,
          1680,
          31433,
          4306,
          4571,
          3039,
          485,
          1258,
          376,
          1569,
          2881,
          1617,
          1407,
          1805,
          1196,
          4816,
          915,
          1148,
          2290,
          3462,
          1909,
          1673,
          1641,
          508,
          1079,
          968,
          593,
          541,
          904,
          6727,
          4995,
          5214,
          7324,
          1517,
          2686,
          32,
          42723,
          2,
          1597,
          377,
          111362,
          3527,
          2908,
          1374,
          8810,
          936,
          8957,
          3685,
          8360,
          2,
          5502,
          70,
          36535,
          16,
          2050,
          2761,
          3497,
          434,
          5349,
          1105,
          4842,
          508,
          89904,
          1784,
          678,
          435,
          3706,
          239,
          3972,
          736,
          86190,
          56775,
          500,
          5378,
          1527,
          2014,
          3408,
          648,
          34,
          319,
          40973,
          2161,
          1527,
          597,
          5528,
          27338,
          451,
          440,
          2724,
          412,
          4776,
          1222,
          110,
          39,
          1693,
          1136,
          4215,
          1198,
          707,
          3996,
          69122,
          6936,
          8610,
          33794,
          1485,
          72356,
          355,
          1711,
          6,
          432,
          3176,
          37729,
          1220,
          1213,
          64,
          537,
          71057,
          1573,
          160,
          34542,
          1299,
          70,
          3727,
          1213,
          553,
          2336,
          2273,
          1343,
          786,
          2826,
          1527,
          1293,
          45028,
          3837,
          1080,
          2432,
          19,
          27904,
          8810,
          1032,
          7802,
          6874,
          31658,
          3114,
          47044,
          982,
          858,
          1784,
          2140,
          1343,
          377,
          41566,
          208,
          8874,
          3747,
          1285,
          2268,
          1220,
          837,
          373,
          2735,
          1064,
          78209,
          2641,
          1374,
          2959,
          80939,
          2268,
          2677,
          6297,
          40815,
          4401,
          2916,
          4446,
          597,
          231,
          30707,
          59615,
          1265,
          54001,
          1315,
          36517,
          832,
          61132,
          1400,
          1615,
          783,
          1183,
          51540,
          5218,
          419,
          344,
          2405,
          344,
          2064,
          5458,
          2997,
          380,
          7361,
          253,
          185,
          6377,
          4638,
          553,
          8984,
          7004,
          8361,
          3994,
          1324,
          4148,
          1273,
          4361,
          2713,
          41285,
          7001,
          30793,
          2959,
          94953,
          364,
          111,
          4369,
          160,
          2640,
          2273,
          1175,
          4695,
          1441,
          6539,
          3062,
          1517,
          1131,
          610,
          47491,
          4226,
          2167,
          589,
          1688,
          1643,
          144,
          2412,
          88405,
          2115,
          593,
          6373,
          72131,
          367,
          233,
          4085,
          317,
          4720,
          3708,
          111,
          260,
          1405,
          2599,
          3688,
          1093,
          4963,
          2780,
          2710,
          420,
          913,
          165,
          78499,
          6198,
          4848,
          1304,
          3081,
          371,
          3210,
          7766,
          3827,
          802,
          6367,
          3683,
          2405,
          1676,
          1223,
          361,
          1639,
          46972,
          497,
          46578,
          224,
          16,
          3107,
          153,
          2355,
          515,
          2804,
          1203,
          1208,
          64839,
          2089,
          4025,
          5049,
          4011,
          2997,
          5902,
          2707,
          74510,
          1285,
          2144,
          6188,
          440,
          2321,
          2000,
          39,
          3911,
          1302,
          724,
          36,
          2716,
          3984,
          555,
          490,
          66789,
          84863,
          4721,
          2470,
          1240,
          32587,
          31,
          34405,
          6188,
          47,
          6796,
          1379,
          1923,
          783,
          1285,
          1013,
          47,
          1027,
          3095,
          49530,
          1246,
          1208,
          41573,
          73321,
          7017,
          62,
          4235,
          1544,
          1380,
          2628,
          6270,
          82461,
          2858,
          3081,
          6934,
          5952,
          1059,
          1960,
          3717,
          2916,
          8981,
          3578,
          2763,
          2858,
          1445,
          2108,
          766,
          382,
          22,
          1,
          1983,
          7153,
          7153,
          4963,
          3682,
          68319,
          457,
          6537,
          2762,
          1479,
          1097,
          198,
          6385,
          109374,
          1193,
          5418,
          2005,
          5364,
          73268,
          5481,
          10,
          8016,
          3918,
          3559,
          53894,
          3545,
          2406,
          1721,
          539,
          2502,
          64,
          5400,
          1961,
          724,
          1321,
          1285,
          3155,
          80463,
          2916,
          2194,
          5291,
          2693,
          4677,
          405,
          380,
          1965,
          3578,
          3108,
          1390,
          45728,
          2858,
          3408,
          589,
          1148,
          2542,
          97938,
          3053,
          3535,
          1917,
          2313,
          6294,
          1810,
          1405,
          2405,
          39446,
          373,
          4720,
          1772,
          3098,
          1100,
          2917,
          2797,
          553,
          38038,
          39381,
          786,
          2340,
          4878,
          5218,
          48780,
          7,
          187,
          292,
          497,
          4878,
          4306,
          1230,
          3972,
          2009,
          1183,
          59615,
          440,
          1867,
          2300,
          917,
          3986,
          380,
          4014,
          38886,
          6539,
          1639,
          2100,
          3246,
          474,
          7438,
          50,
          2890,
          4480,
          161,
          227,
          6832,
          81641,
          2355,
          1345,
          8644,
          60293,
          8623,
          87232,
          1374,
          4681,
          1371,
          2064,
          5103,
          63082,
          4995,
          2115,
          1083,
          2020,
          2094,
          589,
          37731,
          1097,
          2571,
          1485,
          2329,
          911,
          3593,
          1641,
          3897,
          1580,
          3301,
          412,
          43908,
          3618,
          1257,
          249,
          185,
          3623,
          3418,
          1307,
          47725,
          2507,
          60069,
          1760,
          2,
          273,
          318,
          3755,
          2890,
          1527,
          3099,
          4234,
          114662,
          1704,
          1474,
          2565,
          60,
          3552,
          296,
          5025,
          2617,
          11,
          5225,
          4896,
          3354,
          6333,
          832,
          6281,
          4811,
          31658,
          1080,
          1190,
          1949,
          1028,
          2793,
          4890,
          2722,
          292,
          7099,
          246,
          43936,
          589,
          788,
          2067,
          1321,
          288,
          98809,
          3481,
          163,
          1086,
          3387,
          2366,
          110,
          3654,
          1101,
          33794,
          6368,
          2712,
          785,
          1405,
          3476,
          2302,
          4361,
          589,
          5027,
          66097,
          3004,
          590,
          6003,
          71252,
          2912,
          1917,
          908,
          60816,
          32,
          276,
          1658,
          4995,
          344,
          597,
          1128,
          48738,
          1307,
          4306,
          153,
          6879,
          3864,
          2193,
          3082,
          532,
          4932,
          2736,
          1269,
          4085,
          4015,
          337,
          3019,
          3198,
          913,
          26686,
          7153,
          1680,
          5989,
          5444,
          2232,
          4432,
          2692,
          4368,
          3028,
          7162,
          1249,
          2502,
          1744,
          38038,
          50802,
          1347,
          892,
          2396,
          6350,
          2125,
          256,
          10,
          903,
          3814,
          4914,
          2720,
          1210,
          3160,
          4016,
          56941,
          1968,
          920,
          2161,
          60040,
          508,
          592,
          42004,
          2273,
          6258,
          3147,
          56775,
          5995,
          2237,
          3173,
          784,
          4034,
          593,
          186,
          19,
          2145,
          2861,
          81,
          593,
          4718,
          750,
          765,
          6947,
          541,
          3752,
          2493,
          3763,
          112,
          6620,
          12,
          38061,
          2267,
          2689,
          23,
          8865,
          3253,
          1247,
          105844,
          5989,
          1212,
          2470,
          2671,
          457,
          1222,
          70643,
          3990,
          653,
          62,
          1732,
          1198,
          1226,
          34405,
          1747,
          500,
          4014,
          59315,
          3006,
          6162,
          5772,
          5122,
          2028,
          2718,
          969,
          8869,
          47,
          4865,
          1371,
          1255,
          8644,
          1198,
          158,
          42725,
          8951,
          733,
          315,
          1939,
          2657,
          592,
          765,
          1198,
          5574,
          1172,
          928,
          300,
          2231,
          3717,
          21,
          1722,
          2194,
          3489,
          5388,
          282,
          466,
          231,
          79702,
          2012,
          588,
          587,
          88,
          2997,
          3418,
          5303,
          82459,
          48385,
          1129,
          2529,
          165,
          590,
          4896,
          4105,
          2987,
          780,
          62849,
          157,
          3440,
          66934,
          6003,
          1293,
          1960,
          1371,
          457,
          3055,
          57274,
          5878,
          3070,
          33639,
          2806,
          8585,
          593,
          68358,
          104,
          45722,
          1461,
          4306,
          780,
          104374,
          51412,
          1701,
          231,
          5309,
          1097,
          3988,
          543,
          87306,
          6863,
          2495,
          1282,
          1976,
          82088,
          56171,
          1210,
          4304,
          454,
          135,
          3785,
          2105,
          3462,
          4446,
          318,
          304,
          1963,
          277,
          2041,
          110,
          813,
          8340,
          24,
          1201,
          750,
          3113,
          3973,
          1261,
          4213,
          1189,
          342,
          99114,
          5952,
          589,
          1588,
          2817,
          173,
          4886,
          5952,
          96821,
          3844,
          7075,
          676,
          2560,
          111,
          587,
          79008,
          539,
          48061,
          4823,
          1215,
          3396,
          3798,
          329,
          43908,
          8739,
          480,
          8807,
          1183,
          292,
          6979,
          1584,
          2232,
          612,
          2922,
          7482,
          1479,
          253,
          1265,
          150,
          1381,
          8207,
          5612,
          56367,
          356,
          6783,
          1485,
          5137,
          6807,
          46976,
          786,
          5339,
          953,
          356,
          428,
          1784,
          1196,
          541,
          1214,
          33437,
          1635,
          85397,
          63082,
          854,
          2393,
          5459,
          114246,
          32589,
          5991,
          1997,
          3081,
          1028,
          2762,
          1911,
          165,
          1645,
          2672,
          356,
          5378,
          933,
          4878,
          6565,
          1544,
          128688,
          6764,
          4970,
          3948,
          77455,
          1432,
          4537,
          54272,
          57,
          3623,
          1556,
          186,
          31,
          1252,
          593,
          104,
          3948,
          69757,
          12,
          2058,
          2572,
          3639,
          357,
          123,
          32,
          2915,
          7132,
          1650,
          374,
          2599,
          1748,
          47099,
          1929,
          54001,
          509,
          2683,
          830,
          750,
          266,
          4367,
          6344,
          2193,
          593,
          32792,
          2327,
          3361,
          2087,
          1639,
          2,
          2329,
          761,
          2004,
          1393,
          34,
          858,
          2028,
          5225,
          172,
          527,
          553,
          832,
          1485,
          3108,
          3702,
          54259,
          5054,
          532,
          4306,
          1552,
          70361,
          1183,
          1653,
          520,
          8366,
          546,
          3638,
          5569,
          2115,
          186,
          2078,
          6281,
          145,
          3654,
          252,
          2405,
          4571,
          3616,
          93980,
          1747,
          3948,
          908,
          5266,
          1779,
          2078,
          930,
          36,
          3996,
          3035,
          786,
          1527,
          26840,
          4231,
          3897,
          34,
          1179,
          54995,
          4344,
          1278,
          2642,
          1315,
          553,
          4310,
          2318,
          44022,
          111,
          2539,
          648,
          6647,
          7701,
          1201,
          82461,
          2710,
          1241,
          153,
          4014,
          1721,
          1,
          3210,
          674,
          2862,
          4238,
          1393,
          339,
          1064,
          5060,
          5296,
          509,
          7115,
          968,
          1569,
          4446,
          272,
          49824,
          2005,
          3717,
          47,
          4017,
          48780,
          1084,
          1960,
          1210,
          2805,
          67087,
          3981,
          1199,
          445,
          2640,
          7573,
          4008,
          3081,
          6620,
          4036,
          2168,
          33154,
          1136,
          5989,
          1985,
          3510,
          3101,
          1617,
          1784,
          3160,
          1210,
          1193,
          2371,
          4259,
          1240,
          2044,
          4366,
          92259,
          258,
          2763,
          3342,
          1673,
          3060,
          68791,
          1380,
          4848,
          33166,
          87928,
          2687,
          4368,
          866,
          2003,
          2378,
          2628,
          1196,
          3438,
          296,
          6711,
          8983,
          47,
          54995,
          5015,
          1968,
          364,
          122,
          8798,
          1477,
          592,
          1261,
          293,
          2929,
          231,
          319,
          2125,
          1343,
          60684,
          442,
          783,
          708,
          2997,
          4285,
          2724,
          2463,
          4240,
          33564,
          590,
          2324,
          3504,
          1732,
          2349,
          3273,
          8873,
          948,
          6323,
          56941,
          1214,
          6365,
          441,
          589,
          33166,
          1223,
          1336,
          1394,
          1367,
          553,
          648,
          6188,
          838,
          1196,
          780,
          1193,
          1073,
          56367,
          648,
          1283,
          5989,
          1059,
          1993,
          208,
          6,
          2373,
          34,
          5359,
          6764,
          454,
          858,
          2406,
          36,
          48738,
          1441,
          7139,
          2384,
          374,
          7099,
          367,
          4446,
          541,
          1077,
          2406,
          589,
          360,
          937,
          2119,
          1200,
          95,
          1980,
          7572,
          2248,
          235,
          2134,
          3753,
          260,
          2500,
          41285,
          1199,
          317,
          585,
          4022,
          1049,
          111,
          593,
          2640,
          3833,
          2081,
          6377,
          2916,
          1315,
          318,
          150,
          6879,
          2857,
          5218,
          2324,
          1270,
          673,
          64614,
          8917,
          90345,
          474,
          5266,
          102880,
          229,
          532,
          4238,
          3175,
          8622,
          1646,
          780,
          70293,
          2730,
          1237,
          1372,
          296,
          8195,
          552,
          49278,
          3095,
          357,
          1228,
          1,
          1057,
          1374,
          225,
          8984,
          48678,
          500,
          161,
          1993,
          3977,
          6863,
          987,
          1801,
          1590,
          1219,
          6764,
          750,
          2908,
          837,
          62799,
          914,
          3668,
          165,
          1258,
          1198,
          1942,
          5640,
          46578,
          53123,
          909,
          2916,
          7162,
          419,
          355,
          377,
          5015,
          590,
          296,
          1641,
          1616,
          1287,
          72998,
          2005,
          2160,
          110110,
          1250,
          4279,
          410,
          44555,
          247,
          7438,
          6951,
          2502,
          1371,
          70286,
          549,
          4993,
          2571,
          1982,
          48082,
          3793,
          71280,
          1050,
          83134,
          1395,
          2329,
          2248,
          1225,
          11,
          344,
          1580,
          910,
          2942,
          33794,
          1663,
          87383,
          5459,
          5377,
          835,
          357,
          1220,
          7438,
          508,
          4909,
          1357,
          1282,
          45447,
          257,
          363,
          590,
          4890,
          64508,
          3068,
          3200,
          2411,
          5954,
          1722,
          2085,
          2355,
          292,
          1101,
          3417,
          55253,
          45722,
          587,
          34405,
          46976,
          3979,
          50806,
          4993,
          1220,
          1917,
          48,
          1271,
          2858,
          3984,
          5489,
          58309,
          56788,
          1353,
          4164,
          2273,
          553,
          431,
          2174,
          1266,
          52,
          55814,
          51412,
          2599,
          2728,
          296,
          4246,
          2324,
          3526,
          342,
          316,
          5957,
          72733,
          52,
          541,
          4662,
          2037,
          6942,
          1077,
          3556,
          2845,
          783,
          1938,
          84152,
          266,
          586,
          6541,
          4299,
          1291,
          555,
          3246,
          55820,
          1041,
          86548,
          55820,
          6297,
          4034,
          1377,
          7151,
          596,
          3081,
          1409,
          1645,
          2028,
          34,
          1208,
          33615,
          475,
          5215,
          2000,
          589,
          345,
          1053,
          902,
          59026,
          3916,
          33675,
          187,
          2840,
          3052,
          1580,
          4995,
          1562,
          51077,
          7153,
          3005,
          4306,
          552,
          1022,
          26729,
          1610,
          73,
          344,
          1303,
          5515,
          3484,
          1962,
          5448,
          968,
          905,
          509,
          1569,
          1221,
          2738,
          965,
          913,
          74688,
          46976,
          500,
          3745,
          2797,
          5378,
          1321,
          1394,
          112,
          1500,
          108932,
          350,
          5388,
          5420,
          316,
          515,
          929,
          4153,
          7502,
          593,
          1196,
          52245,
          1196,
          1721,
          55052,
          553,
          912,
          55290,
          2841,
          288,
          112868,
          1,
          1779,
          5419,
          1981,
          2289,
          1407,
          6283,
          2153,
          4677,
          1125,
          1645,
          1580,
          1777,
          5577,
          31522,
          2324,
          433,
          688,
          64839,
          5377,
          4357,
          314,
          2454,
          300,
          3932,
          356,
          3155,
          1196,
          590,
          1183,
          350,
          5385,
          3996,
          87232,
          1089,
          2764,
          2194,
          3114,
          707,
          45720,
          2505,
          7153,
          1590,
          1204,
          1061,
          2316,
          111,
          3996,
          1225,
          48696,
          22,
          90057,
          5053,
          1432,
          1393,
          5900,
          4027,
          527,
          750,
          3494,
          361,
          4149,
          54286,
          4518,
          317,
          8961,
          1247,
          2628,
          1028,
          1375,
          832,
          5991,
          6944,
          8376,
          1321,
          4973,
          2918,
          5378,
          3271,
          638,
          1777,
          1219,
          647,
          590,
          2874,
          149,
          165,
          1416,
          8360,
          4995,
          4007,
          372,
          2406,
          3418,
          480,
          32291,
          344,
          1282,
          71464,
          2723,
          8798,
          648,
          3102,
          2581,
          2108,
          380,
          2916,
          1544,
          926,
          2997,
          30810,
          778,
          4811,
          1911,
          2145,
          1089,
          4246,
          4664,
          2072,
          953,
          6539,
          5419,
          2986,
          56801,
          1969,
          2516,
          296,
          6873,
          288,
          5445,
          65142,
          4641,
          5445,
          253,
          63062,
          185,
          260,
          2764,
          912,
          7099,
          593,
          1608,
          293,
          4447,
          27837,
          1210,
          230,
          101,
          2424,
          42632,
          1680,
          260,
          3821,
          2010,
          19,
          3578,
          208,
          593,
          3300,
          110127,
          6333,
          356,
          2114,
          653,
          1625,
          588,
          4896,
          111,
          4009,
          2657,
          2109,
          1385,
          4027,
          5049,
          4754,
          3104,
          6539,
          2571,
          1291,
          1588,
          3185,
          4027,
          4062,
          647,
          7458,
          2002,
          5139,
          1382,
          2676,
          1069,
          1252,
          1233,
          33615,
          54503,
          592,
          4019,
          53996,
          1827,
          4178,
          3702,
          2424,
          1391,
          303,
          1799,
          1476,
          2087,
          3105,
          260,
          1207,
          1909,
          77561,
          1201,
          205,
          3135,
          457,
          2459,
          2709,
          5418,
          231,
          380,
          44191,
          1049,
          1676,
          30749,
          48385,
          4973,
          480,
          2763,
          52950,
          8641,
          711,
          34,
          595,
          2423,
          168,
          115611,
          45499,
          661,
          558,
          51007,
          5620,
          3108,
          66097,
          587,
          24,
          551,
          2722,
          78557,
          2797,
          924,
          852,
          98124,
          1238,
          1858,
          457,
          628,
          733,
          6294,
          3181,
          1210,
          6983,
          3481,
          3450,
          1909,
          2716,
          748,
          1020,
          1240,
          5,
          4993,
          1240,
          1088,
          1219,
          3454,
          292,
          3911,
          1148,
          70361,
          2000,
          48326,
          1943,
          360,
          4153,
          47952,
          78247,
          1372,
          2542,
          1354,
          34405,
          32,
          1235,
          70293,
          2146,
          3409,
          1253,
          3481,
          1291,
          1247,
          6377,
          4901,
          4018,
          2006,
          366,
          8197,
          733,
          1246,
          4310,
          4007,
          480,
          282,
          2335,
          913,
          48516,
          76077,
          1188,
          80241,
          78041,
          1416,
          1678,
          3972,
          66,
          4153,
          1206,
          49272,
          349,
          6890,
          1192,
          59315,
          1094,
          3341,
          3114,
          8666,
          5378,
          4721,
          1358,
          4881,
          160,
          7367,
          3147,
          1839,
          3160,
          1274,
          10,
          242,
          63113,
          2375,
          2302,
          300,
          4995,
          1965,
          1527,
          377,
          434,
          252,
          6333,
          59315,
          316,
          60069,
          63113,
          4019,
          1258,
          4329,
          44665,
          1639,
          5952,
          1799,
          376,
          169,
          431,
          1219,
          4616,
          3676,
          2973,
          1759,
          4306,
          4816,
          1411,
          2181,
          34,
          32291,
          2254,
          111,
          70,
          1095,
          648,
          4448,
          1085,
          5388,
          260,
          3948,
          1023,
          38061,
          1,
          1587,
          901,
          852,
          1225,
          446,
          1251,
          922,
          4327,
          6188,
          1688,
          4808,
          367,
          4020,
          81834,
          3398,
          1185,
          4845,
          450,
          5004,
          1356,
          318,
          7234,
          247,
          91974,
          52,
          8938,
          4963,
          1150,
          161,
          3617,
          277,
          349,
          357,
          365,
          2288,
          500,
          553,
          4306,
          7040,
          16,
          328,
          3565,
          5617,
          520,
          3107,
          1591,
          2000,
          553,
          6377,
          6863,
          4062,
          1247,
          356,
          1645,
          329,
          4844,
          1292,
          74458,
          44555,
          1580,
          1608,
          515,
          858,
          3451,
          527,
          3916,
          2064,
          7139,
          2617,
          180,
          198,
          73017,
          1653,
          2091,
          253,
          920,
          540,
          98809,
          1007,
          318,
          539,
          353,
          2297,
          1726,
          3598,
          356,
          110,
          1958,
          62155,
          1816,
          3152,
          2947,
          4000,
          26649,
          1719,
          85414,
          2042,
          6220,
          349,
          4886,
          527,
          356,
          7982,
          3703,
          36,
          249,
          3039,
          1019,
          2716,
          2460,
          4995,
          3435,
          6281,
          3578,
          3998,
          4016,
          7377,
          5292,
          4263,
          46970,
          1148,
          3152,
          2615,
          253,
          858,
          2681,
          8042,
          4022,
          2947,
          8970,
          5066,
          590,
          353,
          39,
          5679,
          39,
          47124,
          5804,
          1784,
          3529,
          1208,
          4886,
          2398,
          1204,
          3072,
          56757,
          223,
          337,
          164,
          252,
          55247,
          70,
          4011,
          3646,
          1252,
          3821,
          4478,
          7254,
          539,
          3176,
          7164,
          539,
          653,
          2336,
          1380,
          2951,
          4223,
          89864,
          440,
          2944,
          2916,
          351,
          56251,
          1387,
          5527,
          4728,
          3685,
          1282,
          32,
          6385,
          2977,
          79,
          6863,
          153,
          1246,
          1247,
          7156,
          5992,
          53322,
          34162,
          589,
          1809,
          457,
          56152,
          7323,
          46,
          3813,
          830,
          50,
          25927,
          61132,
          4361,
          547,
          91529,
          364,
          3916,
          3301,
          97913,
          6001,
          19,
          4239,
          3186,
          4014,
          3422,
          3827,
          1089,
          380,
          89753,
          1544,
          2797,
          4902,
          1334,
          5349,
          29,
          324,
          69784,
          1377,
          5679,
          2761,
          1566,
          1356,
          8908,
          7348,
          79132,
          1036,
          2722,
          1663,
          2334,
          3459,
          1964,
          64839,
          3468,
          171,
          6947,
          940,
          3087,
          8711,
          4047,
          2011,
          60037,
          1792,
          5291,
          110,
          4344,
          253,
          2712,
          8533,
          2600,
          65,
          57368,
          5952,
          40815,
          3983,
          1354,
          2692,
          31,
          59258,
          1291,
          230,
          365,
          5303,
          1222,
          55257,
          52722,
          1206,
          74795,
          474,
          628,
          1380,
          2391,
          1370,
          1633,
          8665,
          1405,
          1271,
          1198,
          4776,
          4270,
          420,
          2433,
          1544,
          366,
          2717,
          1097,
          296,
          372,
          48744,
          541,
          39444,
          555,
          3671,
          788,
          3055,
          4878,
          225,
          2791,
          5647,
          173,
          52042,
          1391,
          8636,
          1573,
          36517,
          296,
          2657,
          1200,
          2959,
          62849,
          1298,
          110,
          342,
          1263,
          7153,
          4886,
          97923,
          3250,
          1250,
          55247,
          2208,
          1777,
          4022,
          33166,
          123,
          5489,
          2100,
          2730,
          4027,
          19,
          1188,
          5945,
          6947,
          2041,
          377,
          4988,
          1580,
          1219,
          1199,
          858,
          3101,
          1105,
          5792,
          79132,
          1997,
          3827,
          5952,
          1246,
          43853,
          6947,
          3949,
          2124,
          2490,
          2352,
          70,
          26495,
          296,
          2353,
          553,
          4973,
          4226,
          610,
          2108,
          4205,
          4975,
          329,
          3444,
          7698,
          195,
          2232,
          4993,
          908,
          2640,
          161,
          2918,
          3825,
          6974,
          3016,
          4965,
          2396,
          8961,
          6663,
          293,
          4191,
          27831,
          7123,
          91658,
          5459,
          8183,
          8794,
          3033,
          3752,
          2468,
          585,
          1270,
          83086,
          20,
          3919,
          1265,
          70286,
          349,
          61240,
          327,
          5991,
          2021,
          2288,
          6708,
          595,
          2393,
          296,
          783,
          5803,
          3703,
          3259,
          4887,
          595,
          24,
          4803,
          4226,
          2871,
          708,
          3801,
          65359,
          84392,
          8464,
          1,
          2791,
          3996,
          108190,
          1500,
          59315,
          2716,
          380,
          1208,
          1296,
          858,
          586,
          5481,
          949,
          2355,
          4580,
          1197,
          5299,
          2445,
          4005,
          22,
          5528,
          457,
          1126,
          1200,
          2300,
          64839,
          2329,
          8984,
          30749,
          3361,
          858,
          52283,
          45662,
          3556,
          2100,
          904,
          1028,
          3300,
          1246,
          5151,
          382,
          3006,
          1217,
          2470,
          1079,
          5669,
          1025,
          3178,
          4039,
          81591,
          913,
          105653,
          8528,
          736,
          2135,
          3578,
          2553,
          5459,
          56174,
          6754,
          59000,
          2959,
          56350,
          546,
          3985,
          2550,
          150,
          3809,
          527,
          926,
          32,
          31225,
          50872,
          4673,
          750,
          48997,
          1416,
          835,
          593,
          112852,
          1212,
          1347,
          3752,
          1721,
          836,
          4008,
          4811,
          6365,
          48997,
          3868,
          3207,
          91529,
          3300,
          1641,
          21,
          2710,
          48696,
          762,
          1085,
          3639,
          4741,
          733,
          2403,
          89085,
          1375,
          4677,
          68358,
          1769,
          25,
          1213,
          4211,
          223,
          102800,
          3910,
          5313,
          7454,
          1973,
          1961,
          832,
          2369,
          1533,
          1250,
          2762,
          1600,
          96596,
          4029,
          3081,
          52245,
          51662,
          3397,
          2827,
          47,
          5010,
          4329,
          235,
          31,
          593,
          54286,
          231,
          68358,
          3176,
          1573,
          1210,
          1234,
          3114,
          344,
          5481,
          59315,
          2108,
          544,
          3052,
          2804,
          509,
          3555,
          1272,
          597,
          2126,
          3263,
          3075,
          3494,
          1198,
          788,
          1674,
          2731,
          3159,
          661,
          33679,
          1671,
          49961,
          3885,
          112183,
          4011,
          990,
          1614,
          34319,
          234,
          1876,
          56167,
          34405,
          344,
          78499,
          593,
          3005,
          346,
          765,
          1020,
          2023,
          344,
          2414,
          2706,
          616,
          1307,
          5445,
          1307,
          5470,
          656,
          113348,
          1291,
          55805,
          1625,
          8880,
          1689,
          1370,
          4741,
          597,
          8800,
          2947,
          2144,
          1196,
          4343,
          6365,
          1300,
          1608,
          277,
          1097,
          2203,
          4756,
          316,
          4848,
          7373,
          1214,
          46948,
          2694,
          2001,
          494,
          2243,
          3328,
          288,
          6779,
          1193,
          322,
          1260,
          3298,
          5574,
          46578,
          1645,
          161,
          5989,
          647,
          6946,
          17,
          1302,
          2208,
          19,
          6188,
          37741,
          1270,
          58301,
          653,
          4025,
          1641,
          364,
          596,
          32031,
          4262,
          1266,
          648,
          141,
          1298,
          741,
          3973,
          3635,
          1935,
          6374,
          2791,
          185,
          535,
          85354,
          2716,
          292,
          377,
          2463,
          1208,
          6537,
          1249,
          500,
          33493,
          4310,
          6584,
          17,
          6808,
          3418,
          5445,
          1794,
          3006,
          3763,
          4388,
          6503,
          181,
          3033,
          53000,
          362,
          4973,
          585,
          3852,
          2273,
          527,
          1648,
          2991,
          168,
          317,
          6627,
          5247,
          211,
          380,
          8612,
          2686,
          54771,
          42,
          1694,
          852,
          1831,
          4979,
          3943,
          1653,
          618,
          236,
          837,
          4718,
          4718,
          454,
          597,
          4816,
          5872,
          27326,
          3004,
          8368,
          3439,
          809,
          4069,
          1287,
          34162,
          608,
          2022,
          293,
          6932,
          1503,
          193,
          4489,
          3082,
          1374,
          1663,
          595,
          2490,
          1953,
          728,
          2959,
          2683,
          4487,
          1047,
          1834,
          253,
          1917,
          1183,
          494,
          3555,
          715,
          7254,
          2329,
          2671,
          2706,
          1374,
          587,
          3177,
          2420,
          184,
          1703,
          1982,
          480,
          34,
          1271,
          587,
          47044,
          1968,
          4993,
          597,
          2114,
          7004,
          1367,
          2819,
          5146,
          39869,
          805,
          6157,
          316,
          1073,
          5679,
          1009,
          4299,
          37545,
          1788,
          648,
          2013,
          1359,
          608,
          4643,
          41569,
          537,
          231,
          1333,
          3793,
          3000,
          45722,
          1019,
          1597,
          4697,
          539,
          4022,
          2427,
          47,
          2273,
          6870,
          62374,
          1984,
          1210,
          3627,
          45186,
          47,
          5225,
          1514,
          2329,
          4994,
          1792,
          1262,
          2518,
          2268,
          161,
          71535,
          5952,
          3996,
          913,
          193,
          4262,
          2918,
          1527,
          1968,
          902,
          48997,
          3000,
          2500,
          4370,
          6016,
          4903,
          3404,
          344,
          68319,
          1041,
          3509,
          594,
          62081,
          5502,
          2384,
          4016,
          60943,
          1131,
          434,
          3301,
          6378,
          4226,
          33493,
          45722,
          3211,
          4979,
          2502,
          110,
          88,
          2000,
          4979,
          786,
          909,
          33794,
          1206,
          7259,
          39,
          3326,
          2728,
          1307,
          27869,
          3618,
          36,
          380,
          72,
          7090,
          47610,
          2369,
          1653,
          5294,
          4880,
          6502,
          2542,
          7143,
          2717,
          261,
          25835,
          4052,
          282,
          7089,
          1588,
          2581,
          231,
          296,
          539,
          5669,
          56563,
          848,
          2021,
          1479,
          440,
          3932,
          3298,
          362,
          43936,
          357,
          783,
          1162,
          1200,
          48516,
          288,
          569,
          480,
          5956,
          3253,
          991,
          165,
          145,
          1036,
          1291,
          70,
          1895,
          6975,
          7925,
          2527,
          1265,
          733,
          1172,
          3448,
          3114,
          317,
          596,
          85213,
          4886,
          7381,
          6412,
          367,
          4306,
          1917,
          3408,
          3300,
          4447,
          4299,
          543,
          2718,
          2355,
          420,
          6586,
          69481,
          2012,
          3185,
          2598,
          5450,
          5502,
          1250,
          924,
          832,
          7743,
          222,
          384,
          462,
          830,
          4878,
          1127,
          7139,
          736,
          608,
          1967,
          1517,
          5816,
          1644,
          10,
          507,
          786,
          1224,
          2916,
          224,
          6014,
          1792,
          1690,
          1479,
          60950,
          224,
          153,
          4865,
          2571,
          1200,
          1029,
          1073,
          2699,
          89102,
          6857,
          62644,
          1884,
          454,
          18,
          54259,
          377,
          1274,
          6155,
          4947,
          1196,
          947,
          1354,
          2906,
          83613,
          3683,
          2890,
          2583,
          1305,
          1517,
          3104,
          8464,
          913,
          1408,
          1947,
          4901,
          2054,
          1394,
          62999,
          5816,
          5464,
          1240,
          5265,
          99005,
          45447,
          1643,
          1220,
          2959,
          1499,
          454,
          3263,
          27660,
          1343,
          532,
          34072,
          1086,
          3703,
          480,
          1441,
          2987,
          1952,
          3087,
          153,
          1625,
          1347,
          2373,
          2126,
          3452,
          71264,
          1401,
          6294,
          1136,
          1265,
          367,
          1375,
          480,
          3108,
          1270,
          6323,
          3175,
          6957,
          5505,
          587,
          6552,
          223,
          86320,
          97306,
          2858,
          468,
          5669,
          68954,
          288,
          1282,
          110,
          1358,
          1246,
          8970,
          3082,
          77330,
          704,
          1719,
          53002,
          260,
          111,
          7025,
          1690,
          293,
          1013,
          70984,
          95488,
          4890,
          586,
          3253,
          56921,
          1252,
          4886,
          34405,
          1357,
          246,
          3034,
          1936,
          1947,
          2716,
          3072,
          2424,
          3364,
          10,
          329,
          2605,
          597,
          1171,
          1747,
          1722,
          1225,
          7347,
          353,
          1666,
          3997,
          480,
          356,
          318,
          1291,
          235,
          1078,
          809,
          926,
          920,
          3897,
          3608,
          4407,
          7254,
          2424,
          252,
          1213,
          589,
          225,
          1876,
          50798,
          1732,
          168,
          1944,
          1254,
          4054,
          1753,
          54997,
          1127,
          2268,
          247,
          1882,
          1580,
          4308,
          47,
          1097,
          1193,
          595,
          1088,
          2321,
          39,
          3969,
          495,
          150,
          1198,
          94837,
          1255,
          1206,
          5010,
          227,
          2294,
          2291,
          380,
          520,
          34048,
          1221,
          260,
          6408,
          6783,
          4995,
          56367,
          1066,
          35681,
          2130,
          2118,
          117,
          315,
          10,
          590,
          4874,
          2890,
          4889,
          1580,
          5563,
          4103,
          58998,
          8873,
          2871,
          117,
          2360,
          3168,
          941,
          2797,
          57637,
          11,
          1210,
          3169,
          2132,
          1200,
          2677,
          4085,
          5349,
          434,
          1356,
          1393,
          541,
          1034,
          4538,
          52287,
          1833,
          581,
          593,
          2598,
          520,
          208,
          1188,
          1994,
          2506,
          3265,
          51255,
          2278,
          2875,
          7293,
          3060,
          539,
          2598,
          1304,
          5673,
          296,
          4993,
          86,
          2093,
          3967,
          3552,
          908,
          5649,
          81562,
          1204,
          199,
          778,
          1249,
          1485,
          34048,
          89118,
          2953,
          27904,
          2804,
          48,
          5956,
          2236,
          4306,
          1283,
          2683,
          1246,
          3,
          1213,
          1197,
          260,
          858,
          2504,
          3504,
          1022,
          4034,
          2621,
          2,
          6936,
          19,
          64575,
          595,
          586,
          5283,
          4262,
          2643,
          172,
          586,
          292,
          3855,
          4609,
          2411,
          97752,
          6377,
          2174,
          472,
          52589,
          7347,
          2291,
          1234,
          1136,
          2916,
          80489,
          7438,
          6485,
          924,
          1252,
          1722,
          442,
          1278,
          1248,
          3897,
          454,
          539,
          2012,
          364,
          62,
          2076,
          2471,
          19,
          3408,
          247,
          2424,
          2391,
          593,
          55118,
          1947,
          79274,
          3435,
          3408,
          39183,
          86898,
          2826,
          1968,
          5415,
          1625,
          2788,
          1472,
          2028,
          5137,
          1225,
          2987,
          832,
          1200,
          50,
          55820,
          185,
          3801,
          924,
          724,
          371,
          8366,
          64197,
          4343,
          1500,
          1252,
          88125,
          1136,
          54272,
          39,
          4006,
          161,
          52,
          78499,
          1307,
          3972,
          1028,
          3798,
          68159,
          2706,
          1246,
          88163,
          51086,
          1960,
          999,
          185,
          51088,
          293,
          3163,
          1197,
          1923,
          1136,
          3857,
          2100,
          3032,
          5080,
          274,
          830,
          4979,
          50872,
          3593,
          2054,
          95744,
          3617,
          153,
          590,
          44555,
          42015,
          72226,
          2991,
          2316,
          317,
          1061,
          2907,
          3469,
          180,
          1266,
          150,
          1172,
          4489,
          1722,
          839,
          2690,
          70,
          3524,
          3408,
          102445,
          1968,
          110,
          471,
          5010,
          932,
          86880,
          951,
          1252,
          3107,
          4351,
          2716,
          7147,
          6503,
          2109,
          2959,
          1265,
          480,
          457,
          527,
          344,
          786,
          924,
          1270,
          367,
          593,
          3070,
          2006,
          4034,
          1292,
          1240,
          1552,
          457,
          2858,
          2355,
          2041,
          224,
          5677,
          1917,
          4235,
          5237,
          6870,
          85412,
          1029,
          4757,
          83613,
          8360,
          3257,
          431,
          33794,
          2331,
          39446,
          32,
          20,
          527,
          531,
          1927,
          514,
          586,
          62,
          7027,
          673,
          3639,
          77866,
          160,
          468,
          474,
          446,
          141,
          1240,
          2664,
          1206,
          2728,
          2570,
          4681,
          5065,
          36,
          1407,
          2947,
          296,
          1876,
          2730,
          62970,
          110,
          208,
          2712,
          6,
          186,
          356,
          105593,
          1947,
          69122,
          1199,
          1883,
          296,
          2107,
          3868,
          34314,
          60753,
          60040,
          41569,
          837,
          41716,
          1020,
          1580,
          2451,
          1214,
          801,
          3793,
          805,
          15,
          1769,
          3408,
          2997,
          2571,
          281,
          2194,
          4489,
          53953,
          736,
          2115,
          410,
          5464,
          5479,
          2973,
          421,
          4844,
          4370,
          45728,
          1090,
          2949,
          4823,
          1042,
          3697,
          8387,
          3426,
          60069,
          4105,
          1625,
          4034,
          497,
          3087,
          8798,
          27604,
          5957,
          3702,
          95,
          1135,
          2300,
          86548,
          260,
          5049,
          1617,
          3893,
          2858,
          1258,
          8807,
          1687,
          5049,
          736,
          3159,
          5693,
          2046,
          4480,
          17,
          3646,
          1129,
          485,
          475,
          1641,
          1466,
          1890,
          3893,
          3033,
          3608,
          1183,
          1240,
          1997,
          34162,
          1257,
          1292,
          101864,
          337,
          2694,
          1682,
          2804,
          3551,
          41569,
          1894,
          364,
          1193,
          1747,
          913,
          3671,
          800,
          296,
          32239,
          348,
          307,
          1258,
          4270,
          6863,
          10,
          5444,
          4816,
          288,
          56367,
          2054,
          40755,
          46972,
          511,
          648,
          558,
          2710,
          24,
          1407,
          2471,
          53189,
          2010,
          1198,
          3949,
          780,
          2445,
          3300,
          3994,
          497,
          4728,
          312,
          1089,
          6953,
          3712,
          508,
          3438,
          361,
          5816,
          2335,
          32469,
          4480,
          3708,
          1206,
          1049,
          505,
          150,
          3386,
          608,
          2944,
          260,
          6337,
          475,
          86835,
          2916,
          590,
          2891,
          3527,
          335,
          491,
          839,
          1148,
          26133,
          1203,
          96610,
          7153,
          541,
          1409,
          4446,
          2762,
          1499,
          6448,
          2959,
          1345,
          1641,
          1270,
          153,
          1304,
          5943,
          1265,
          936,
          4246,
          6054,
          105,
          428,
          2571,
          1028,
          4015,
          1025,
          72998,
          8983,
          8983,
          2985,
          3913,
          2340,
          924,
          32587,
          648,
          68237,
          173,
          466,
          8907,
          507,
          7150,
          8874,
          2791,
          6333,
          1721,
          3147,
          53125,
          474,
          539,
          454,
          2324,
          74789,
          2945,
          596,
          3052,
          7143,
          919,
          3521,
          1210,
          5944,
          1580,
          1035,
          3998,
          3661,
          2126,
          50,
          145,
          2396,
          33166,
          2643,
          2244,
          1302,
          5481,
          913,
          58,
          2840,
          2729,
          455,
          725,
          3263,
          2707,
          355,
          1961,
          4464,
          261,
          589,
          2716,
          1025,
          4427,
          3355,
          1206,
          4022,
          3882,
          1735,
          37729,
          3481,
          3608,
          1222,
          52722,
          3584,
          1277,
          1339,
          663,
          8372,
          2455,
          1278,
          1208,
          2571,
          2124,
          1641,
          1097,
          6037,
          5903,
          208,
          3146,
          208,
          2130,
          246,
          1208,
          318,
          11,
          7324,
          594,
          8360,
          454,
          1207,
          61024,
          2081,
          508,
          5170,
          2902,
          33679,
          1693,
          2125,
          18,
          3702,
          914,
          5218,
          527,
          454,
          51255,
          79091,
          3101,
          1367,
          1127,
          4862,
          4241,
          950,
          77561,
          858,
          1234,
          1372,
          185,
          60069,
          1617,
          2421,
          5481,
          1215,
          2706,
          1275,
          2427,
          1411,
          37384,
          231,
          2881,
          969,
          628,
          151,
          435,
          7445,
          785,
          2301,
          45722,
          47,
          3793,
          6863,
          144,
          68157,
          63,
          80917,
          733,
          2268,
          5313,
          440,
          2076,
          1256,
          55232,
          2294,
          228,
          3897,
          2723,
          69275,
          4816,
          2485,
          6287,
          54286,
          2012,
          4266,
          1777,
          1220,
          1210,
          97024,
          90057,
          377,
          292,
          318,
          999,
          3535,
          1994,
          904,
          48,
          1391,
          1064,
          4128,
          2302,
          5971,
          1876,
          2717,
          7981,
          8970,
          543,
          1033,
          6370,
          1104,
          5283,
          104,
          5072,
          3448,
          2683,
          2512,
          1017,
          44195,
          305,
          4738,
          551,
          145,
          1676,
          33493,
          2858,
          1208,
          720,
          1371,
          2553,
          2671,
          141,
          912,
          2406,
          1200,
          4034,
          4876,
          539,
          5902,
          2318,
          2427,
          104,
          356,
          1270,
          2253,
          1676,
          5445,
          951,
          1885,
          45,
          54999,
          3252,
          8636,
          5151,
          260,
          1283,
          307,
          185,
          919,
          745,
          3061,
          8836,
          4351,
          3697,
          2671,
          595,
          786,
          1517,
          329,
          1954,
          555,
          1034,
          56757,
          79796,
          1377,
          1128,
          2613,
          6753,
          39183,
          1964,
          1291,
          850,
          1391,
          1967,
          342,
          30812,
          2580,
          253,
          457,
          420,
          2985,
          1676,
          1918,
          2081,
          1291,
          1285,
          1208,
          39231,
          3386,
          33166,
          49649,
          110,
          11,
          2442,
          1909,
          1183,
          4846,
          337,
          597,
          2746,
          71838,
          1197,
          307,
          4041,
          1777,
          750,
          588,
          592,
          60161,
          62,
          318,
          1059,
          2311,
          1285,
          442,
          10,
          372,
          1301,
          111659,
          3039,
          508,
          6,
          6,
          5025,
          3535,
          1961,
          111,
          3706,
          1676,
          531,
          708,
          1280,
          5378,
          2248,
          1953,
          4720,
          25940,
          5630,
          5995,
          100,
          7649,
          1356,
          50,
          6942,
          32,
          2085,
          173,
          1960,
          69122,
          1183,
          3554,
          3307,
          903,
          2288,
          3525,
          1772,
          1092,
          58,
          480,
          3703,
          307,
          100,
          277,
          1037,
          509,
          7375,
          1387,
          4084,
          5505,
          54001,
          1573,
          1084,
          466,
          2167,
          6993,
          4896,
          6874,
          74327,
          59721,
          2572,
          440,
          7438,
          2291,
          1219,
          1073,
          968,
          5633,
          1221,
          552,
          1172,
          2110,
          69,
          762,
          1805,
          2080,
          74630,
          3386,
          3804,
          1188,
          1207,
          2450,
          68157,
          7438,
          3793,
          1920,
          2313,
          44191,
          3263,
          2205,
          480,
          3578,
          18,
          292,
          1721,
          8665,
          1208,
          27426,
          2770,
          6874,
          5991,
          186,
          8961,
          3564,
          2959,
          362,
          2919,
          1221,
          2406,
          3071,
          1150,
          543,
          97,
          51662,
          1265,
          5991,
          736,
          54281,
          596,
          1735,
          3506,
          597,
          150,
          316,
          3275,
          1212,
          2077,
          3952,
          1225,
          208,
          32,
          78268,
          1517,
          1446,
          1208,
          1161,
          50912,
          173,
          5604,
          2916,
          44195,
          3135,
          648,
          2700,
          3200,
          3797,
          4520,
          1330,
          4369,
          592,
          42163,
          2100,
          1704,
          954,
          1231,
          8623,
          316,
          648,
          34,
          6333,
          6,
          163,
          3624,
          2336,
          1952,
          280,
          223,
          296,
          1580,
          158,
          2291,
          5255,
          44974,
          3006,
          4521,
          7374,
          1968,
          329,
          300,
          1261,
          1377,
          2529,
          3176,
          2385,
          94,
          916,
          480,
          253,
          48997,
          2716,
          4084,
          4020,
          2059,
          2094,
          68157,
          4280,
          2716,
          66354,
          1073,
          592,
          1923,
          3593,
          765,
          743,
          7773,
          2700,
          1955,
          6880,
          89745,
          44,
          858,
          356,
          5954,
          2347,
          2161,
          8985,
          1101,
          110771,
          46578,
          8966,
          1240,
          616,
          1197,
          329,
          924,
          3095,
          3452,
          2406,
          382,
          4344,
          80219,
          2918,
          225,
          3798,
          7203,
          3249,
          3107,
          6818,
          1690,
          593,
          5995,
          6,
          4681,
          5900,
          1704,
          5445,
          519,
          2454,
          1476,
          377,
          2076,
          26662,
          4033,
          2,
          4975,
          296,
          6345,
          553,
          87304,
          2294,
          2504,
          1961,
          1246,
          2000,
          838,
          44788,
          3801,
          3,
          1299,
          3633,
          6365,
          6291,
          2427,
          160,
          107,
          60072,
          3044,
          3396,
          95002,
          6377,
          500,
          1252,
          160,
          344,
          54997,
          158,
          852,
          53996,
          48,
          2006,
          628,
          1089,
          2144,
          16,
          3335,
          5299,
          497,
          356,
          2991,
          55247,
          25,
          5501,
          107,
          2840,
          2073,
          116977,
          36527,
          7323,
          3826,
          608,
          253,
          55290,
          55363,
          457,
          33615,
          480,
          2036,
          1388,
          2020,
          1717,
          2701,
          1372,
          2065,
          858,
          370,
          1259,
          5247,
          7445,
          8943,
          1389,
          6188,
          57640,
          671,
          4052,
          103,
          1240,
          35836,
          1997,
          2716,
          3040,
          3019,
          1948,
          1242,
          778,
          899,
          7419,
          778,
          5308,
          1213,
          1214,
          8911,
          6879,
          2616,
          367,
          5991,
          492,
          3160,
          590,
          1950,
          27878,
          6157,
          3296,
          2384,
          2615,
          3450,
          1395,
          3535,
          2706,
          1333,
          1259,
          2664,
          830,
          5388,
          2706,
          1258,
          1093,
          53125,
          2010,
          7943,
          2791,
          34150,
          2291,
          315,
          588,
          551,
          1148,
          94864,
          72737,
          5971,
          6765,
          1921,
          49957,
          2571,
          2723,
          608,
          7250,
          356,
          1172,
          1022,
          224,
          6857,
          608,
          1427,
          3167,
          282,
          2011,
          62999,
          6244,
          1394,
          2082,
          71691,
          160,
          2012,
          1217,
          296,
          1225,
          719,
          110,
          31,
          3527,
          3524,
          8807,
          2797,
          1639,
          344,
          2002,
          4161,
          313,
          2858,
          225,
          5014,
          50,
          4022,
          48774
         ],
         "xaxis": "x",
         "y": [
          3.5,
          2,
          3.5,
          3,
          2,
          1,
          2.5,
          4,
          2,
          5,
          3,
          4,
          4,
          4,
          4.5,
          5,
          4.5,
          4.5,
          0.5,
          3,
          3,
          5,
          3.5,
          4,
          3.5,
          3.5,
          3,
          4.5,
          4,
          1,
          4,
          3.5,
          0.5,
          4,
          2.5,
          3,
          4.5,
          4,
          3,
          2,
          4,
          1,
          4,
          4,
          4,
          4,
          4.5,
          4,
          2,
          4,
          4,
          3,
          4,
          2,
          3.5,
          4,
          3,
          3.5,
          3,
          3,
          5,
          3.5,
          4,
          1,
          5,
          3,
          3,
          5,
          3,
          4,
          4,
          3,
          3,
          4.5,
          4,
          4,
          4,
          5,
          3,
          3,
          4,
          4,
          4,
          3.5,
          4.5,
          3,
          4,
          4.5,
          4,
          2,
          5,
          4,
          5,
          4,
          2,
          5,
          5,
          3,
          4,
          3.5,
          3.5,
          5,
          4,
          5,
          4,
          3,
          5,
          3,
          3.5,
          4,
          3,
          4,
          3,
          3,
          5,
          5,
          5,
          5,
          4,
          4.5,
          2,
          5,
          2,
          4.5,
          4,
          3.5,
          5,
          3,
          1,
          4,
          3,
          0.5,
          0.5,
          4,
          3,
          2.5,
          3,
          2,
          4.5,
          2,
          3,
          5,
          4,
          3,
          5,
          2,
          5,
          4,
          4,
          1,
          3,
          4,
          2.5,
          3,
          4,
          3.5,
          4,
          5,
          1,
          5,
          3,
          4,
          3.5,
          5,
          3.5,
          4,
          3.5,
          4,
          4,
          4,
          3,
          1.5,
          3,
          2,
          3,
          3.5,
          4,
          2.5,
          2.5,
          1,
          3,
          5,
          3,
          5,
          0.5,
          3,
          4,
          5,
          0.5,
          3.5,
          2,
          2,
          3,
          4.5,
          3,
          4.5,
          4,
          5,
          3,
          3,
          3,
          3,
          3.5,
          4,
          1.5,
          3,
          4,
          3,
          3.5,
          3,
          4,
          4.5,
          2.5,
          2,
          3,
          1,
          4,
          4,
          3,
          4,
          4,
          3,
          3.5,
          4.5,
          3.5,
          4.5,
          3,
          4,
          3,
          5,
          3,
          5,
          4,
          3,
          4,
          4,
          3,
          2.5,
          2.5,
          3.5,
          4,
          2,
          3.5,
          4.5,
          3,
          2.5,
          3.5,
          5,
          5,
          3,
          4.5,
          4,
          3,
          4,
          2,
          4,
          3,
          3.5,
          4,
          4,
          5,
          4,
          2,
          4,
          4,
          5,
          4.5,
          3,
          3.5,
          2.5,
          3,
          3,
          5,
          3,
          3,
          4,
          2,
          3.5,
          4,
          3,
          4,
          4.5,
          3,
          3,
          4,
          5,
          4,
          2.5,
          4,
          5,
          0.5,
          5,
          5,
          4.5,
          3,
          4,
          3.5,
          4,
          3.5,
          2,
          3,
          4,
          0.5,
          4.5,
          5,
          4.5,
          4,
          3,
          4,
          3.5,
          4,
          1.5,
          4,
          2.5,
          4,
          2,
          4,
          5,
          4.5,
          5,
          5,
          1,
          5,
          3,
          2.5,
          2.5,
          4.5,
          3,
          1.5,
          4.5,
          5,
          4,
          4,
          3,
          4,
          2.5,
          4,
          3,
          4,
          3,
          3,
          4.5,
          2.5,
          1.5,
          5,
          5,
          3,
          4.5,
          3.5,
          3,
          3.5,
          2.5,
          2,
          5,
          4,
          3.5,
          3,
          3,
          2.5,
          3,
          5,
          3,
          4,
          4,
          4.5,
          3,
          4,
          4,
          0.5,
          4,
          4,
          5,
          3,
          2.5,
          3,
          3,
          3,
          4,
          2,
          4,
          4,
          4,
          4,
          1.5,
          2.5,
          1.5,
          5,
          2.5,
          4,
          4,
          3,
          3,
          2,
          4,
          4,
          5,
          2,
          3,
          4,
          5,
          5,
          5,
          5,
          3,
          4,
          4,
          3.5,
          2,
          4.5,
          3,
          5,
          3,
          3.5,
          4,
          3,
          3,
          3,
          3.5,
          3,
          2,
          3,
          4,
          4,
          3.5,
          4,
          3,
          5,
          5,
          4,
          2,
          3,
          4,
          0.5,
          3,
          2,
          3.5,
          3,
          3,
          4,
          3,
          3,
          2.5,
          4,
          5,
          4,
          3.5,
          5,
          5,
          0.5,
          3.5,
          3,
          3,
          5,
          4,
          3,
          3,
          3.5,
          4,
          4,
          3,
          3,
          3,
          5,
          2.5,
          5,
          4,
          3.5,
          5,
          3,
          5,
          3.5,
          4.5,
          4,
          5,
          5,
          4,
          4,
          4,
          4.5,
          4.5,
          0.5,
          4,
          4,
          5,
          4,
          3.5,
          4,
          4.5,
          5,
          3.5,
          4,
          1.5,
          0.5,
          2.5,
          5,
          4,
          3,
          2,
          3.5,
          4,
          4.5,
          4,
          3,
          4,
          3.5,
          3,
          3,
          3,
          4,
          3,
          3,
          3,
          3,
          2,
          4,
          3,
          4.5,
          1.5,
          4.5,
          3.5,
          3,
          4,
          3,
          5,
          4.5,
          3,
          3,
          4,
          3.5,
          2,
          5,
          4.5,
          4,
          3,
          1.5,
          3,
          3,
          3,
          4,
          3,
          4.5,
          4,
          4,
          3.5,
          4.5,
          5,
          4,
          4,
          3,
          4.5,
          3,
          3,
          4,
          4.5,
          5,
          3.5,
          4,
          4,
          4,
          2,
          4,
          4,
          3,
          4,
          4,
          4,
          4,
          2,
          5,
          4.5,
          3,
          3,
          5,
          3,
          3,
          2,
          5,
          5,
          3,
          3.5,
          3,
          3.5,
          4,
          4,
          3,
          3.5,
          4,
          4,
          3.5,
          3,
          2,
          3.5,
          4,
          2,
          5,
          4,
          3,
          5,
          2.5,
          5,
          4,
          3.5,
          4.5,
          3.5,
          3,
          2,
          3.5,
          3.5,
          4,
          4,
          3.5,
          5,
          2,
          5,
          3.5,
          4.5,
          2.5,
          3,
          4,
          5,
          3,
          3.5,
          5,
          5,
          4.5,
          3,
          1,
          3.5,
          3,
          4,
          2,
          1,
          5,
          4,
          4,
          3,
          3,
          3,
          3,
          3,
          4,
          5,
          2,
          4.5,
          4,
          4,
          5,
          2,
          3.5,
          3,
          4,
          4,
          2.5,
          4,
          4,
          4,
          2.5,
          4.5,
          3,
          4,
          3,
          4,
          4,
          4.5,
          3,
          2.5,
          5,
          4,
          3,
          3.5,
          4,
          4.5,
          2.5,
          3,
          5,
          4,
          4,
          4,
          2.5,
          3.5,
          3,
          2.5,
          5,
          2,
          4,
          4,
          2,
          3,
          0.5,
          4,
          3.5,
          3,
          3.5,
          3.5,
          2,
          4.5,
          3,
          4.5,
          5,
          1.5,
          2,
          4.5,
          4,
          3,
          5,
          2,
          2.5,
          4,
          4,
          3.5,
          4.5,
          4.5,
          3,
          2.5,
          1.5,
          3,
          2,
          3,
          5,
          3,
          3.5,
          4,
          3,
          4,
          3,
          3,
          5,
          3,
          5,
          4,
          3.5,
          4.5,
          4.5,
          4,
          3.5,
          3,
          2,
          1,
          2,
          3,
          3.5,
          5,
          5,
          4.5,
          3,
          3.5,
          3,
          5,
          5,
          5,
          2,
          4,
          5,
          3,
          4,
          3,
          4.5,
          1,
          1,
          5,
          3,
          3.5,
          4,
          4.5,
          2.5,
          2,
          4,
          3,
          4,
          3.5,
          0.5,
          2.5,
          4,
          4,
          4,
          3,
          5,
          4,
          2,
          3.5,
          4,
          3.5,
          4,
          4.5,
          4,
          4,
          4,
          3.5,
          4,
          3,
          3,
          3,
          4,
          5,
          3.5,
          3.5,
          3,
          4,
          3,
          4,
          3,
          1,
          3.5,
          3.5,
          3,
          4.5,
          3,
          1,
          3.5,
          1,
          4,
          2.5,
          2.5,
          1,
          2,
          5,
          4,
          2.5,
          4,
          2,
          3,
          3,
          2.5,
          4,
          3.5,
          2,
          4,
          4,
          2,
          2,
          5,
          3,
          3,
          5,
          1.5,
          3,
          1,
          2,
          2,
          4,
          4,
          2,
          4,
          3.5,
          2,
          4,
          3,
          3,
          4,
          3.5,
          3,
          0.5,
          4,
          4,
          4,
          3,
          4,
          4.5,
          2,
          3.5,
          5,
          4,
          4,
          4,
          4,
          4,
          3,
          1,
          1,
          3,
          4,
          5,
          4,
          3,
          3,
          4,
          4,
          4,
          3,
          1,
          5,
          3,
          3,
          5,
          3.5,
          4,
          4,
          3.5,
          2,
          3,
          4,
          2,
          3.5,
          4,
          4.5,
          5,
          3,
          3,
          2.5,
          4.5,
          3,
          3,
          2,
          4,
          4,
          4,
          4,
          4,
          4,
          3.5,
          3,
          3.5,
          3,
          4,
          3.5,
          2,
          3,
          4,
          3.5,
          5,
          5,
          2.5,
          3.5,
          2,
          4,
          3,
          4,
          4.5,
          3.5,
          4,
          4.5,
          4,
          1,
          4,
          3.5,
          3.5,
          5,
          3.5,
          4,
          3,
          2.5,
          5,
          4.5,
          3,
          3,
          3,
          3,
          3.5,
          3,
          3,
          4,
          3,
          3.5,
          3.5,
          5,
          4,
          3,
          1,
          3,
          4,
          4,
          3.5,
          3,
          3,
          3,
          4,
          3,
          3.5,
          4,
          1.5,
          3,
          4,
          3.5,
          4.5,
          5,
          5,
          4,
          5,
          2.5,
          3.5,
          4,
          3.5,
          4,
          3,
          4,
          3.5,
          4,
          3.5,
          4.5,
          2.5,
          4,
          3,
          4,
          3,
          5,
          3,
          4,
          1,
          4,
          2,
          4,
          3.5,
          3.5,
          4,
          4,
          3.5,
          4,
          3.5,
          4.5,
          4.5,
          4.5,
          3,
          2.5,
          4.5,
          3,
          4,
          4.5,
          1.5,
          4,
          3.5,
          3.5,
          3,
          3.5,
          4,
          3,
          3,
          3.5,
          4,
          4,
          3,
          3,
          4,
          3,
          4,
          5,
          4.5,
          3,
          2.5,
          3,
          4.5,
          4.5,
          4.5,
          4,
          3,
          4.5,
          4.5,
          4,
          1,
          4.5,
          4,
          4.5,
          3,
          2,
          3,
          3,
          4,
          4,
          4.5,
          3,
          3.5,
          3,
          2.5,
          1,
          3,
          5,
          4,
          4,
          2,
          3,
          3.5,
          3.5,
          3.5,
          5,
          3.5,
          3.5,
          3,
          5,
          1.5,
          4,
          4,
          4,
          4.5,
          4,
          3,
          2,
          3,
          4,
          1.5,
          5,
          3,
          3,
          4,
          5,
          4,
          5,
          3,
          3,
          2.5,
          3.5,
          1,
          5,
          4,
          3,
          4,
          3,
          4,
          4.5,
          5,
          3,
          3.5,
          4.5,
          1.5,
          4,
          5,
          3,
          3,
          5,
          3,
          0.5,
          2,
          4,
          3,
          5,
          0.5,
          4.5,
          4,
          3,
          4,
          3,
          5,
          5,
          1,
          3,
          5,
          5,
          4,
          3,
          2,
          3,
          4,
          3,
          3,
          4,
          3.5,
          5,
          4,
          1.5,
          3.5,
          1,
          2.5,
          3,
          5,
          1,
          4,
          3.5,
          1,
          1,
          3.5,
          5,
          3,
          4,
          1.5,
          4.5,
          4,
          2,
          4,
          3,
          4,
          2.5,
          3,
          5,
          4,
          3,
          4,
          4,
          4,
          3,
          4,
          5,
          4,
          5,
          3,
          3,
          5,
          5,
          3.5,
          3.5,
          3.5,
          3.5,
          0.5,
          3,
          4,
          4,
          4,
          4,
          3,
          4,
          3,
          4,
          3.5,
          4,
          5,
          2.5,
          4,
          4,
          5,
          2.5,
          4,
          4,
          3,
          4,
          5,
          4,
          4,
          3.5,
          5,
          1,
          4,
          4,
          4,
          1,
          5,
          4.5,
          3,
          3,
          5,
          5,
          3.5,
          4,
          3,
          4,
          1,
          2,
          3,
          2,
          4,
          3,
          4,
          5,
          2,
          3,
          3.5,
          3,
          5,
          3,
          4,
          5,
          3,
          2.5,
          4,
          3.5,
          5,
          4,
          4,
          4,
          3.5,
          4,
          2,
          4,
          4,
          5,
          3,
          4,
          3.5,
          5,
          3,
          3.5,
          4,
          3,
          5,
          2.5,
          0.5,
          2,
          5,
          5,
          3,
          5,
          4,
          4,
          4,
          3,
          3,
          4,
          3.5,
          4.5,
          5,
          4,
          4,
          3.5,
          3,
          1,
          5,
          3.5,
          4,
          2,
          4,
          4,
          5,
          3,
          4,
          4,
          5,
          5,
          3,
          4,
          4,
          3.5,
          3,
          2,
          4.5,
          3,
          1,
          2,
          4,
          4.5,
          3.5,
          4,
          3.5,
          3,
          2,
          2,
          4,
          4,
          4,
          1,
          5,
          4,
          2.5,
          4,
          5,
          4.5,
          4,
          4,
          2.5,
          3.5,
          3,
          4,
          5,
          3.5,
          5,
          4,
          4,
          3,
          5,
          1,
          3,
          4.5,
          3.5,
          5,
          3,
          4,
          3.5,
          3.5,
          3,
          4,
          4,
          3,
          1,
          3.5,
          3.5,
          5,
          4,
          3,
          4.5,
          5,
          5,
          3.5,
          4,
          3,
          4,
          3,
          2,
          5,
          2.5,
          2.5,
          4,
          2,
          5,
          5,
          3,
          3,
          5,
          4,
          2,
          4,
          4,
          4,
          5,
          3.5,
          4,
          3,
          3,
          2,
          0.5,
          4.5,
          1.5,
          4,
          4.5,
          3.5,
          4,
          5,
          4.5,
          4,
          4,
          3.5,
          3,
          0.5,
          4,
          5,
          3,
          4,
          3.5,
          4,
          4,
          3.5,
          1,
          4,
          4,
          2.5,
          3,
          0.5,
          3,
          3.5,
          2,
          3.5,
          3,
          1,
          4.5,
          5,
          4,
          5,
          3.5,
          5,
          2,
          3,
          5,
          4,
          4,
          3,
          4.5,
          3,
          4,
          5,
          3,
          4,
          3,
          3.5,
          4,
          5,
          1,
          4,
          3,
          4,
          1,
          3.5,
          4,
          4.5,
          2.5,
          1,
          3,
          4,
          5,
          4,
          3.5,
          3,
          2,
          3.5,
          4,
          3,
          5,
          4,
          4,
          2.5,
          4,
          3,
          2,
          3,
          2.5,
          4,
          5,
          4,
          4,
          4,
          3.5,
          4,
          5,
          2,
          4,
          4.5,
          2.5,
          4,
          4,
          5,
          1,
          4.5,
          3,
          3.5,
          3.5,
          3.5,
          2.5,
          4.5,
          4,
          4.5,
          3,
          2,
          5,
          4,
          4,
          3.5,
          4,
          5,
          3.5,
          3.5,
          5,
          0.5,
          3,
          5,
          3,
          2.5,
          3.5,
          2,
          4,
          3.5,
          4,
          3.5,
          3,
          3,
          5,
          2,
          4.5,
          5,
          2.5,
          3,
          4.5,
          4.5,
          4,
          3.5,
          4,
          4.5,
          3,
          4.5,
          2,
          3.5,
          4,
          4,
          2,
          1,
          2,
          3,
          3.5,
          5,
          4,
          3.5,
          5,
          2.5,
          3,
          4,
          4,
          4,
          5,
          4,
          5,
          5,
          3,
          2,
          3.5,
          4.5,
          3.5,
          5,
          4,
          4,
          2.5,
          0.5,
          5,
          4,
          3,
          3,
          4.5,
          4,
          3,
          4,
          3,
          5,
          4,
          3,
          5,
          3,
          2.5,
          4,
          5,
          4.5,
          2,
          4,
          3.5,
          5,
          3,
          3,
          4,
          3,
          4,
          4,
          5,
          2,
          2.5,
          4,
          1,
          5,
          4.5,
          3.5,
          3,
          3,
          3,
          1,
          5,
          3,
          4,
          3,
          1,
          3,
          4,
          4,
          3.5,
          3,
          3.5,
          4.5,
          3.5,
          4,
          3,
          1,
          3,
          3.5,
          4,
          4,
          3,
          2,
          3,
          3,
          2,
          5,
          1,
          5,
          3,
          1,
          4,
          2.5,
          4,
          2,
          3,
          3.5,
          5,
          4,
          4,
          2,
          5,
          3,
          4,
          3.5,
          1,
          1,
          2,
          4,
          3,
          3,
          3.5,
          1,
          2,
          3,
          3,
          3,
          4,
          5,
          4,
          4,
          5,
          3,
          3,
          3.5,
          5,
          3,
          5,
          5,
          4,
          4.5,
          5,
          4,
          3.5,
          4,
          2.5,
          4,
          3,
          4,
          3,
          4,
          3,
          3,
          2,
          4,
          4.5,
          5,
          4,
          3,
          3,
          4,
          4,
          3,
          4.5,
          5,
          5,
          3,
          3.5,
          3,
          4,
          5,
          3,
          3,
          5,
          1,
          3,
          2,
          4.5,
          3.5,
          4,
          4.5,
          3.5,
          2.5,
          3,
          4,
          2,
          4,
          1,
          1,
          4.5,
          3,
          1,
          2,
          3.5,
          3.5,
          5,
          2.5,
          4,
          4,
          4.5,
          3,
          2,
          2,
          3,
          4.5,
          5,
          4,
          2.5,
          5,
          4,
          4,
          3,
          3.5,
          3,
          4,
          4.5,
          2.5,
          4,
          3,
          1,
          3.5,
          5,
          3,
          4.5,
          5,
          4,
          0.5,
          5,
          3.5,
          3.5,
          4,
          4,
          3.5,
          4,
          4,
          4.5,
          4,
          2,
          4,
          3,
          5,
          4,
          3.5,
          4,
          2,
          3,
          5,
          4.5,
          3.5,
          4,
          4,
          3,
          3,
          3,
          3,
          4,
          3,
          4,
          3,
          3,
          3,
          5,
          5,
          4,
          4,
          5,
          5,
          4,
          3.5,
          5,
          4.5,
          4,
          5,
          3,
          5,
          4,
          3,
          4,
          2,
          4.5,
          4,
          2.5,
          4.5,
          5,
          2.5,
          3,
          3,
          5,
          1,
          4.5,
          4,
          3,
          1,
          4,
          4,
          4,
          4,
          3.5,
          1,
          3,
          3,
          3,
          3,
          5,
          3,
          3.5,
          4.5,
          4.5,
          5,
          4,
          2,
          4,
          4.5,
          3.5,
          3,
          3,
          3,
          5,
          3,
          2,
          4,
          0.5,
          4,
          3,
          4.5,
          2.5,
          5,
          3.5,
          3,
          3,
          3.5,
          4.5,
          5,
          4,
          4,
          4,
          3,
          4,
          3,
          3,
          4,
          3,
          3,
          1,
          2.5,
          4,
          3,
          2.5,
          3,
          3,
          4,
          5,
          4,
          4,
          4,
          5,
          5,
          5,
          3.5,
          4,
          3,
          1,
          3.5,
          0.5,
          2,
          4,
          4.5,
          0.5,
          4,
          4,
          2.5,
          3.5,
          3,
          3,
          5,
          3.5,
          3,
          5,
          2,
          5,
          5,
          3.5,
          3.5,
          5,
          3,
          4.5,
          0.5,
          2.5,
          0.5,
          5,
          3,
          5,
          4,
          4,
          4.5,
          4.5,
          3.5,
          4,
          2.5,
          3,
          4,
          4,
          4,
          3,
          4,
          4,
          5,
          2,
          5,
          3,
          3,
          1.5,
          3,
          3,
          2,
          4,
          3,
          3,
          3.5,
          5,
          5,
          4,
          3,
          4,
          4,
          4.5,
          2.5,
          2.5,
          4.5,
          0.5,
          4,
          4,
          3,
          3,
          5,
          3,
          4,
          4,
          4.5,
          4,
          2.5,
          2,
          4,
          3,
          4.5,
          2,
          3,
          4,
          2,
          4.5,
          4,
          4.5,
          3.5,
          3,
          4,
          4,
          3.5,
          3,
          4.5,
          4.5,
          4,
          5,
          4,
          4.5,
          2,
          5,
          5,
          4.5,
          4,
          3,
          3.5,
          1,
          3,
          2.5,
          3,
          5,
          3,
          5,
          3,
          4,
          3.5,
          2,
          3.5,
          4,
          2,
          3,
          2,
          2.5,
          3,
          3,
          4,
          4.5,
          4.5,
          5,
          3.5,
          5,
          4.5,
          4,
          4,
          4,
          3,
          4,
          4,
          5,
          4,
          3,
          4,
          4,
          3,
          3,
          4,
          4,
          3,
          1,
          4,
          3.5,
          4,
          3.5,
          3.5,
          3,
          3.5,
          4,
          4.5,
          2.5,
          3.5,
          4,
          2,
          4.5,
          4,
          5,
          2.5,
          5,
          5,
          3,
          5,
          4,
          3.5,
          4,
          3.5,
          4.5,
          4,
          4,
          3,
          4,
          2,
          3,
          2,
          4,
          3,
          3,
          4,
          3.5,
          2,
          5,
          4,
          4,
          4,
          4,
          4,
          3,
          2,
          4,
          4,
          4,
          3,
          3.5,
          5,
          5,
          3.5,
          5,
          4,
          4,
          4,
          5,
          4.5,
          4,
          1.5,
          4,
          4.5,
          3.5,
          0.5,
          3,
          4.5,
          3,
          3.5,
          2,
          3,
          4.5,
          4,
          4,
          3.5,
          4,
          3.5,
          5,
          2,
          3.5,
          4,
          3,
          4,
          4,
          3,
          3,
          4,
          5,
          1,
          4,
          5,
          5,
          3,
          3,
          4.5,
          5,
          5,
          3,
          3,
          3,
          3,
          2.5,
          2,
          2.5,
          3,
          5,
          5,
          5,
          4,
          4.5,
          5,
          3.5,
          2.5,
          4,
          3.5,
          4,
          4,
          1,
          4,
          4,
          5,
          4,
          3,
          3,
          4,
          3.5,
          4,
          4.5,
          4,
          2,
          4,
          5,
          3,
          2.5,
          2.5,
          5,
          5,
          5,
          4.5,
          4,
          3.5,
          3,
          4.5,
          4,
          4,
          3,
          3.5,
          4,
          3,
          4,
          4,
          3,
          4.5,
          4,
          4,
          3,
          4,
          4,
          4,
          5,
          4,
          3,
          3.5,
          2.5,
          4,
          3,
          4,
          3,
          3,
          1,
          4.5,
          5,
          5,
          4,
          2,
          1,
          4,
          5,
          5,
          2.5,
          4.5,
          4,
          4,
          3,
          2,
          3.5,
          1,
          1.5,
          3,
          3.5,
          2,
          3.5,
          3.5,
          3,
          4,
          4,
          3.5,
          3,
          5,
          3,
          3,
          3,
          5,
          3.5,
          5,
          4.5,
          1.5,
          4,
          2,
          5,
          3,
          2.5,
          4,
          3,
          4,
          4,
          1,
          5,
          4,
          5,
          2.5,
          1,
          4,
          3,
          4.5,
          3,
          4,
          5,
          4.5,
          5,
          4,
          4,
          3,
          3,
          5,
          4,
          4.5,
          5,
          4,
          1,
          5,
          4,
          3,
          4,
          3,
          4,
          3,
          2,
          1,
          3,
          5,
          4,
          5,
          3.5,
          3.5,
          5,
          2,
          2.5,
          3.5,
          3,
          3,
          3.5,
          2.5,
          1,
          5,
          3,
          5,
          5,
          3,
          5,
          4,
          4,
          3.5,
          4,
          5,
          4.5,
          4,
          2.5,
          2,
          4.5,
          4,
          2.5,
          4,
          5,
          4,
          5,
          2.5,
          4,
          5,
          3,
          4.5,
          4.5,
          3,
          3,
          3,
          4,
          2.5,
          0.5,
          3.5,
          2,
          2.5,
          3.5,
          5,
          5,
          3.5,
          4,
          3,
          2,
          3,
          3.5,
          4,
          4,
          3,
          2,
          5,
          2,
          4,
          4,
          1,
          3,
          5,
          4,
          3.5,
          3,
          1,
          3.5,
          5,
          3,
          3.5,
          4,
          3,
          3.5,
          5,
          4,
          4,
          2,
          3,
          4,
          5,
          5,
          4,
          4,
          1,
          3.5,
          4,
          1.5,
          2,
          1,
          5,
          3,
          4.5,
          3,
          5,
          3.5,
          3.5,
          3.5,
          3,
          5,
          3.5,
          3.5,
          3,
          3,
          4,
          5,
          2.5,
          3.5,
          4,
          2,
          0.5,
          3,
          4,
          2,
          1,
          3,
          4.5,
          4,
          3,
          4,
          3,
          1,
          3,
          3.5,
          2,
          3.5,
          3,
          4,
          4,
          4.5,
          5,
          4,
          3,
          3,
          2,
          2,
          2,
          1,
          4,
          3,
          4,
          3.5,
          4.5,
          2,
          4,
          1,
          4,
          4,
          0.5,
          3.5,
          3,
          4.5,
          4.5,
          5,
          3,
          4,
          3,
          3,
          3.5,
          3.5,
          4,
          4,
          3,
          3,
          4,
          4.5,
          4,
          3,
          5,
          3,
          4,
          2.5,
          3.5,
          4.5,
          2.5,
          1,
          4,
          5,
          3.5,
          3,
          2,
          3.5,
          3,
          2,
          4,
          1,
          1,
          3,
          3,
          4,
          3,
          3.5,
          4,
          4.5,
          3,
          4,
          2,
          5,
          5,
          2.5,
          4,
          5,
          5,
          4,
          4,
          4.5,
          3,
          3,
          4,
          3.5,
          2,
          5,
          4,
          4,
          3,
          4.5,
          4,
          4,
          4,
          4,
          3,
          2,
          3.5,
          3,
          5,
          4,
          2,
          2,
          5,
          3,
          3,
          4,
          4,
          3,
          3.5,
          4,
          3.5,
          3,
          3,
          4,
          3,
          4,
          2.5,
          4,
          3,
          3.5,
          4.5,
          4,
          2.5,
          5,
          4,
          3,
          3.5,
          4.5,
          4.5,
          4.5,
          4,
          3,
          3.5,
          5,
          4,
          5,
          4,
          4,
          4,
          3,
          4.5,
          3.5,
          2.5,
          3,
          4,
          3,
          4,
          1,
          4,
          2,
          3.5,
          3,
          5,
          3,
          3,
          3,
          2,
          3,
          3,
          3.5,
          3.5,
          4,
          2,
          3,
          4,
          5,
          4.5,
          3.5,
          3.5,
          4,
          5,
          4,
          5,
          3.5,
          5,
          5,
          4.5,
          4,
          4,
          4,
          1.5,
          3,
          2,
          3,
          5,
          3,
          3.5,
          2.5,
          5,
          3,
          5,
          5,
          4,
          2,
          4,
          4.5,
          2,
          4,
          4,
          3,
          3,
          2.5,
          2,
          3,
          2,
          3,
          4,
          2,
          4.5,
          3.5,
          3.5,
          4.5,
          3,
          2,
          5,
          1,
          2.5,
          4,
          3,
          4,
          5,
          4,
          3.5,
          2,
          2,
          5,
          3,
          4,
          3.5,
          3,
          3,
          3.5,
          4,
          3,
          4,
          4.5,
          3,
          4.5,
          2.5,
          3.5,
          4,
          4,
          1,
          3.5,
          4.5,
          3,
          4,
          2,
          4,
          5,
          4,
          1,
          4,
          3.5,
          3,
          4,
          3.5,
          5,
          5,
          4,
          4.5,
          4.5,
          3.5,
          4,
          1.5,
          3.5,
          3,
          5,
          4,
          5,
          4,
          5,
          5,
          2,
          3.5,
          4,
          4,
          5,
          5,
          3.5,
          2,
          3,
          3.5,
          4,
          4,
          4.5,
          5,
          4,
          2.5,
          3,
          3.5,
          3,
          3,
          4.5,
          4,
          4,
          1,
          3,
          3,
          5,
          4,
          2,
          3,
          4.5,
          4.5,
          4.5,
          4,
          3,
          4,
          2,
          1,
          4,
          4.5,
          3,
          3.5,
          2.5,
          3.5,
          4,
          4,
          4,
          2.5,
          3,
          4,
          3.5,
          5,
          3.5,
          3,
          4.5,
          3,
          2,
          3,
          4,
          4,
          3.5,
          4,
          5,
          2.5,
          3.5,
          4.5,
          2,
          3,
          4,
          4,
          5,
          3,
          1.5,
          3,
          3,
          3,
          5,
          4,
          4.5,
          3,
          4,
          3,
          5,
          4,
          2.5,
          4.5,
          1,
          3,
          4,
          4,
          3,
          4,
          4,
          3,
          4.5,
          4.5,
          4,
          3,
          3,
          3,
          5,
          4,
          2.5,
          1.5,
          1,
          3,
          4.5,
          2.5,
          4.5,
          4,
          3,
          1.5,
          3.5,
          5,
          5,
          5,
          4,
          4,
          1,
          3.5,
          5,
          4.5,
          4.5,
          4,
          5,
          4,
          4,
          5,
          3.5,
          4,
          3.5,
          4,
          4,
          3.5,
          5,
          3,
          4,
          3,
          4,
          3,
          4,
          3,
          4,
          4.5,
          3.5,
          5,
          3.5,
          3,
          4,
          5,
          3,
          2.5,
          5,
          4,
          3,
          5,
          4.5,
          3.5,
          3,
          3,
          3,
          3,
          5,
          3,
          5,
          5,
          4.5,
          3.5,
          4,
          3.5,
          3,
          0.5,
          4,
          4,
          3,
          3.5,
          3,
          5,
          3,
          5,
          4.5,
          3,
          4,
          1,
          3.5,
          3,
          4.5,
          4,
          4.5,
          4,
          4,
          4,
          5,
          1.5,
          4,
          4,
          2.5,
          3,
          3,
          2,
          3.5,
          5,
          0.5,
          1,
          5,
          4.5,
          4,
          1,
          3.5,
          3.5,
          4,
          4,
          3.5,
          5,
          3.5,
          2,
          2.5,
          4,
          4,
          2.5,
          3,
          4,
          5,
          3,
          4.5,
          5,
          4,
          5,
          4,
          3,
          4,
          3,
          4,
          5,
          2.5,
          4,
          4,
          4,
          3,
          5,
          2,
          4.5,
          3,
          4,
          5,
          5,
          3,
          3.5,
          3,
          1,
          4,
          3.5,
          4,
          4,
          3,
          4,
          5,
          4.5,
          4,
          3.5,
          5,
          4,
          5,
          3,
          2.5,
          3.5,
          4,
          4,
          4,
          3.5,
          5,
          3,
          3,
          4,
          4,
          4,
          5,
          0.5,
          4.5,
          4,
          5,
          3.5,
          5,
          3.5,
          4,
          2,
          3,
          4,
          4,
          2,
          3,
          1.5,
          3.5,
          3.5,
          3.5,
          1.5,
          4,
          5,
          5,
          3,
          5,
          5,
          5,
          3,
          2.5,
          1,
          3,
          4,
          3,
          3,
          4,
          5,
          4,
          4.5,
          2.5,
          1,
          2,
          3,
          2,
          4.5,
          3.5,
          2.5,
          1,
          5,
          4,
          2,
          3,
          4,
          4,
          3,
          4,
          2,
          5,
          4,
          0.5,
          4.5,
          3,
          2,
          4,
          3,
          3,
          5,
          4.5,
          3,
          5,
          4,
          2,
          5,
          2.5,
          4,
          4,
          2,
          4,
          3,
          4.5,
          3,
          3,
          5,
          4.5,
          3,
          3,
          5,
          2,
          3,
          4.5,
          4.5,
          4.5,
          4,
          4,
          3.5,
          4,
          3,
          2,
          3,
          4,
          4.5,
          4.5,
          4.5,
          4,
          3.5,
          4,
          3,
          4,
          5,
          5,
          4,
          3,
          4,
          3,
          4,
          2.5,
          5,
          0.5,
          2.5,
          4,
          4,
          3.5,
          4,
          3.5,
          4,
          3,
          4,
          4,
          4,
          3,
          4,
          3,
          3.5,
          3,
          4,
          3,
          2,
          3,
          5,
          3,
          3,
          3,
          4,
          4.5,
          2,
          2,
          2.5,
          3,
          5,
          3.5,
          3,
          5,
          3,
          0.5,
          3,
          3,
          2,
          2,
          3,
          4,
          4.5,
          4,
          4,
          5,
          3,
          4,
          3.5,
          1,
          4.5,
          4,
          4,
          4,
          5,
          3,
          4,
          5,
          2.5,
          5,
          2,
          3,
          2.5,
          3,
          2.5,
          3,
          5,
          3.5,
          4,
          3.5,
          4.5,
          5,
          3.5,
          5,
          3,
          4,
          3,
          3,
          3.5,
          3,
          4,
          5,
          2,
          3.5,
          1,
          4.5,
          3.5,
          2,
          4,
          4,
          5,
          3,
          3,
          3.5,
          4.5,
          3,
          4,
          4,
          4.5,
          4,
          3,
          3,
          3,
          3,
          3,
          5,
          4.5,
          4,
          3,
          3.5,
          3,
          5,
          3.5,
          4,
          3,
          4.5,
          3,
          4,
          3,
          5,
          4,
          4,
          4,
          5,
          2,
          1,
          2,
          2,
          3,
          3,
          5,
          4.5,
          1,
          2.5,
          3,
          5,
          1,
          4,
          3,
          3,
          1.5,
          3,
          4,
          3,
          2.5,
          3,
          4,
          4,
          3,
          3,
          2,
          5,
          1.5,
          3,
          3,
          3,
          3,
          2,
          2,
          4,
          2,
          2.5,
          3,
          3,
          3,
          4,
          1,
          5,
          4,
          2.5,
          3,
          2,
          4,
          4,
          4,
          3,
          0.5,
          3,
          3.5,
          5,
          3.5,
          5,
          4,
          4.5,
          1,
          4,
          2,
          1,
          4,
          3,
          5,
          2,
          1.5,
          4,
          3,
          4,
          4,
          4,
          3.5,
          4,
          3,
          5,
          4,
          4,
          3,
          5,
          4,
          4,
          5,
          3.5,
          4,
          3.5,
          4,
          4,
          3,
          3.5,
          2.5,
          3,
          4,
          3,
          3.5,
          3,
          2.5,
          3,
          1,
          3,
          3,
          4,
          3.5,
          5,
          3,
          3,
          4,
          5,
          4,
          3.5,
          3,
          4,
          4,
          3,
          3.5,
          2.5,
          3,
          4.5,
          4,
          5,
          4,
          4,
          5,
          4,
          4,
          3.5,
          3.5,
          3,
          4,
          4,
          4.5,
          4,
          5,
          4.5,
          3.5,
          2.5,
          4.5,
          4,
          3,
          4,
          4.5,
          3,
          4.5,
          2,
          3,
          4,
          3.5,
          4,
          4,
          3.5,
          4,
          4.5,
          2,
          5,
          4.5,
          5,
          2,
          3,
          4,
          2,
          3,
          3,
          3.5,
          4,
          1,
          4,
          4.5,
          2,
          3,
          3.5,
          3.5,
          4.5,
          3.5,
          2,
          3,
          3.5,
          4,
          4,
          1,
          3,
          3.5,
          4,
          4,
          4,
          5,
          4.5,
          2,
          3,
          4,
          5,
          4.5,
          4,
          5,
          2.5,
          2,
          5,
          4,
          2,
          3.5,
          4.5,
          4,
          4,
          5,
          4,
          2,
          5,
          3,
          2.5,
          4,
          5,
          3,
          3,
          5,
          5,
          3,
          4,
          3,
          4,
          2,
          3,
          4,
          4,
          2.5,
          3.5,
          3,
          3,
          5,
          3,
          3.5,
          3.5,
          4,
          2,
          3.5,
          0.5,
          2,
          4,
          4,
          3.5,
          4,
          5,
          4,
          4,
          3.5,
          3,
          3,
          3,
          5,
          4,
          3.5,
          0.5,
          5,
          4,
          4.5,
          5,
          2.5,
          4,
          3,
          3.5,
          4,
          3.5,
          2,
          5,
          4,
          4,
          4,
          3,
          2.5,
          1.5,
          2.5,
          5,
          3,
          3,
          4,
          3,
          4,
          3,
          3,
          4,
          3,
          3,
          2,
          2.5,
          1.5,
          3.5,
          5,
          3,
          2,
          2,
          4,
          5,
          3.5,
          3,
          3,
          3,
          4,
          5,
          2,
          1.5,
          3,
          3,
          2,
          4,
          4,
          3,
          4,
          5,
          3,
          5,
          3,
          3,
          2,
          4.5,
          5,
          4,
          4,
          3,
          5,
          4,
          4.5,
          2,
          0.5,
          4.5,
          4,
          4,
          2,
          3.5,
          4,
          4,
          4,
          4,
          1.5,
          4,
          4,
          4,
          3,
          5,
          5,
          4,
          4,
          4,
          3,
          3,
          3,
          2,
          3,
          4,
          4,
          5,
          4,
          2.5,
          2,
          2,
          4.5,
          4,
          2,
          4.5,
          2.5,
          5,
          5,
          4,
          4,
          5,
          3,
          2,
          4.5,
          5,
          1,
          3.5,
          4,
          3,
          3,
          4,
          3.5,
          3.5,
          2.5,
          3,
          5,
          5,
          5,
          4,
          4,
          4.5,
          4,
          4,
          4,
          4.5,
          2.5,
          3.5,
          5,
          2,
          4.5,
          3.5,
          4,
          5,
          4,
          4,
          5,
          3,
          4,
          4,
          4,
          5,
          4,
          4,
          4,
          4,
          2,
          4,
          3.5,
          0.5,
          3,
          3,
          2,
          4,
          4,
          5,
          3.5,
          1.5,
          4,
          2,
          5,
          4,
          4,
          2,
          4.5,
          3,
          5,
          3,
          3,
          2,
          1,
          3,
          2.5,
          2.5,
          4,
          4,
          3,
          1,
          3,
          3,
          5,
          5,
          3.5,
          4.5,
          3,
          1,
          4,
          3,
          3,
          5,
          5,
          4,
          3.5,
          4,
          5,
          3,
          4,
          2.5,
          2,
          5,
          1.5,
          3.5,
          4,
          2.5,
          3,
          3,
          2.5,
          4,
          5,
          3,
          4,
          3,
          4,
          4,
          4,
          3,
          1.5,
          4,
          1,
          5,
          5,
          3,
          4,
          1,
          5,
          5,
          3.5,
          2,
          4.5,
          1,
          3,
          3,
          0.5,
          5,
          4,
          3.5,
          3.5,
          4.5,
          3.5,
          5,
          3.5,
          4,
          5,
          3,
          3,
          3,
          5,
          2.5,
          4,
          2,
          3.5,
          3,
          5,
          5,
          3.5,
          2,
          2,
          4,
          2,
          4,
          5,
          2,
          5,
          4,
          5,
          4,
          5,
          4,
          4,
          4,
          3,
          1,
          4,
          5,
          5,
          2,
          5,
          3.5,
          4,
          3,
          4,
          2.5,
          3,
          4,
          1,
          1.5,
          4,
          4.5,
          4,
          4,
          5,
          3,
          4,
          1,
          3,
          4,
          5,
          4,
          3,
          3,
          4,
          4,
          2,
          4,
          4.5,
          5,
          3,
          4,
          5,
          3,
          4,
          4.5,
          4,
          2.5,
          3,
          3,
          2,
          5,
          4,
          5,
          4,
          4,
          3,
          5,
          3.5,
          4,
          2,
          3,
          3,
          3.5,
          4.5,
          5,
          1,
          4.5,
          3,
          3.5,
          4,
          2,
          3,
          4.5,
          1.5,
          1.5,
          3,
          3,
          4,
          3,
          3,
          4,
          4,
          4,
          3,
          3,
          2.5,
          4,
          4.5,
          3.5,
          4,
          4,
          5,
          2,
          4.5,
          4.5,
          3.5,
          3,
          1,
          5,
          3,
          3,
          3,
          3,
          3,
          4,
          5,
          1,
          4,
          4,
          5,
          4.5,
          3,
          5,
          4,
          4,
          3.5,
          5,
          5,
          4,
          3,
          3.5,
          4,
          3.5,
          5,
          4,
          3,
          1,
          5,
          4.5,
          4,
          4,
          4,
          5,
          4,
          3,
          4.5,
          5,
          3.5,
          3,
          2.5,
          4,
          1,
          3,
          4,
          3.5,
          4,
          3.5,
          4,
          4,
          3.5,
          3,
          5,
          3,
          3.5,
          3,
          1,
          4,
          3.5,
          5,
          3,
          5,
          4,
          3,
          5,
          4,
          3.5,
          3,
          5,
          4,
          4,
          3,
          2,
          4,
          3.5,
          4,
          3,
          2.5,
          4,
          3,
          3,
          1.5,
          1,
          1.5,
          2,
          4.5,
          4,
          5,
          3,
          4,
          4,
          4,
          2,
          4.5,
          3,
          3,
          5,
          5,
          0.5,
          4,
          1,
          4.5,
          2.5,
          3.5,
          4,
          4,
          2.5,
          4.5,
          4.5,
          2,
          5,
          4.5,
          4,
          2,
          4,
          3.5,
          2.5,
          2,
          3,
          4,
          5,
          4,
          4,
          4,
          4,
          2,
          3,
          4.5,
          4,
          3,
          5,
          4.5,
          4,
          3.5,
          4,
          4,
          4,
          4,
          4,
          4,
          3,
          3.5,
          3,
          3.5,
          4,
          3,
          5,
          4.5,
          1.5,
          4,
          2,
          4,
          2.5,
          3,
          3,
          3,
          1.5,
          4,
          3,
          3,
          5,
          5,
          4,
          4,
          4,
          3.5,
          5,
          3.5,
          3.5,
          2,
          4,
          5,
          5,
          4,
          4,
          0.5,
          3.5,
          4,
          4,
          3.5,
          3.5,
          3,
          2.5,
          4,
          4,
          2,
          2.5,
          5,
          5,
          5,
          4,
          4.5,
          2,
          4.5,
          3.5,
          3,
          4.5,
          4,
          2.5,
          4.5,
          1,
          4,
          4,
          4,
          2.5,
          3,
          4,
          4,
          3,
          4,
          2,
          5,
          2,
          2,
          3.5,
          3,
          2,
          3,
          4,
          4.5,
          4,
          4,
          3.5,
          4,
          1,
          3,
          3,
          4.5,
          3.5,
          4,
          1,
          3,
          4,
          2.5,
          2,
          3,
          2.5,
          4,
          4.5,
          0.5,
          3,
          4,
          4,
          3,
          3.5,
          4.5,
          4,
          4,
          5,
          3,
          4.5,
          3,
          4,
          5,
          3.5,
          4,
          3.5,
          5,
          3,
          5,
          4,
          1,
          3,
          3.5,
          3,
          4,
          4,
          2,
          4,
          5,
          2.5,
          3,
          3,
          3.5,
          4,
          3.5,
          4,
          3,
          3,
          2,
          2.5,
          3.5,
          3,
          4.5,
          5,
          5,
          4,
          3,
          5,
          4,
          4,
          1.5,
          4,
          4,
          5,
          4.5,
          2,
          4,
          4,
          4,
          2.5,
          0.5,
          4.5,
          4,
          4,
          3,
          3.5,
          5,
          3,
          1,
          4.5,
          4,
          3.5,
          3.5,
          4,
          2,
          3,
          3.5,
          3,
          1,
          4,
          3,
          2,
          4,
          4,
          4.5,
          4,
          3,
          4,
          5,
          5,
          2.5,
          1,
          4,
          5,
          4,
          4,
          3,
          4,
          4,
          3.5,
          3.5,
          3,
          1,
          5,
          4,
          2,
          4,
          4.5,
          4,
          5,
          4,
          2.5,
          5,
          2.5,
          3,
          4,
          4,
          4.5,
          1,
          2,
          3,
          3,
          4,
          4.5,
          4,
          5,
          5,
          1,
          3.5,
          4,
          3,
          4,
          5,
          4,
          4,
          4,
          3.5,
          3.5,
          0.5,
          4.5,
          4,
          4,
          0.5,
          5,
          4,
          3,
          4,
          2,
          3,
          5,
          3.5,
          3.5,
          2,
          1,
          3,
          5,
          5,
          4,
          4,
          3,
          4,
          3,
          4,
          3,
          4,
          3,
          4,
          3.5,
          4,
          5,
          4,
          5,
          2,
          2,
          3,
          3,
          3,
          3,
          4.5,
          5,
          4,
          5,
          2.5,
          4,
          4,
          1.5,
          2,
          3,
          5,
          2,
          2,
          3.5,
          1,
          1,
          4,
          1,
          4,
          2,
          3,
          5,
          0.5,
          4,
          3,
          4,
          3,
          2,
          4,
          3,
          5,
          5,
          4,
          3,
          1,
          4,
          3,
          2,
          4,
          5,
          3.5,
          4,
          0.5,
          2.5,
          3,
          4,
          3,
          1.5,
          2.5,
          2.5,
          4,
          4,
          3,
          5,
          4,
          4,
          4.5,
          3,
          2,
          4.5,
          3.5,
          5,
          4,
          4,
          5,
          4,
          3,
          2,
          5,
          4.5,
          4.5,
          3,
          4,
          3,
          2,
          2.5,
          3,
          5,
          5,
          3,
          4,
          5,
          3,
          4,
          5,
          3,
          4,
          3.5,
          0.5,
          3,
          4,
          0.5,
          4,
          3,
          4.5,
          4,
          3,
          3,
          4,
          4,
          2.5,
          2.5,
          4,
          2.5,
          3,
          3,
          5,
          4,
          1.5,
          2,
          4,
          5,
          3,
          3,
          5,
          5,
          4.5,
          3,
          1,
          5,
          3,
          4,
          3.5,
          5,
          3,
          3,
          3,
          3.5,
          5,
          4,
          4,
          4.5,
          3,
          1,
          4.5,
          4,
          0.5,
          3.5,
          3.5,
          5,
          4,
          3,
          3,
          4.5,
          4,
          3,
          3.5,
          5,
          3,
          4,
          4,
          3,
          1,
          3,
          5,
          4,
          3,
          1.5,
          0.5,
          4,
          4,
          3.5,
          3,
          5,
          3.5,
          4,
          3,
          3,
          4,
          2.5,
          5,
          4.5,
          5,
          3.5,
          4,
          3,
          3,
          1,
          3.5,
          4,
          4,
          3,
          4,
          5,
          4,
          4.5,
          0.5,
          1,
          5,
          4,
          5,
          3,
          4.5,
          4,
          5,
          3.5,
          4,
          5,
          3.5,
          3,
          5,
          3,
          0.5,
          1,
          3,
          5,
          5,
          2,
          3,
          3,
          2,
          3,
          4,
          4,
          3.5,
          2,
          4,
          5,
          4.5,
          2.5,
          5,
          2.5,
          4,
          4,
          4,
          3.5,
          4,
          4,
          5,
          3,
          1.5,
          3.5,
          5,
          5,
          3,
          4.5,
          4,
          3,
          4,
          4.5,
          2,
          4,
          3,
          3,
          3,
          3,
          3,
          1,
          3,
          3,
          3,
          3,
          4,
          3,
          4,
          4,
          1,
          3,
          3.5,
          5,
          4,
          4,
          2,
          4.5,
          4,
          4,
          2,
          3,
          3,
          3,
          4.5,
          3.5,
          4,
          5,
          1.5,
          3,
          5,
          4,
          4,
          4,
          2.5,
          4,
          3,
          4,
          3,
          4.5,
          3.5,
          4,
          3,
          4,
          3.5,
          3.5,
          3,
          5,
          5,
          4,
          2,
          4,
          5,
          5,
          3,
          3.5,
          4,
          4,
          4.5,
          3.5,
          3.5,
          4,
          3,
          3,
          4,
          4,
          3,
          4,
          5,
          3,
          4,
          3,
          4,
          4,
          3,
          5,
          4,
          5,
          3.5,
          5,
          3,
          5,
          4,
          3,
          4,
          4,
          4.5,
          5,
          4,
          4,
          5,
          3.5,
          1.5,
          4,
          4,
          3,
          3.5,
          4,
          3.5,
          4,
          1,
          4,
          2.5,
          4.5,
          2,
          5,
          3,
          4.5,
          3.5,
          4.5,
          4,
          4.5,
          4,
          3.5,
          3,
          4,
          3,
          3,
          3,
          2.5,
          4,
          5,
          2,
          5,
          3,
          4,
          4,
          3.5,
          4,
          2,
          2,
          4,
          4.5,
          3,
          4,
          5,
          3.5,
          4,
          2.5,
          5,
          4,
          3.5,
          4,
          4,
          2,
          5,
          4,
          5,
          3.5,
          4,
          4,
          2,
          4,
          4,
          3.5,
          3,
          1,
          3,
          4,
          4.5,
          4,
          3,
          2,
          3,
          3,
          5,
          4.5,
          4,
          4,
          4,
          4,
          4.5,
          3.5,
          4,
          4,
          4,
          4,
          4.5,
          1.5,
          4.5,
          4,
          4,
          4,
          5,
          3,
          4.5,
          3,
          2,
          1,
          3.5,
          2,
          4,
          2,
          5,
          4,
          5,
          2.5,
          4,
          3,
          3,
          2.5,
          4,
          2,
          2,
          3.5,
          3,
          2,
          5,
          5,
          4,
          3,
          4,
          3,
          4.5,
          5,
          3,
          3.5,
          3,
          5,
          5,
          5,
          4,
          3.5,
          3,
          2,
          4,
          5,
          4,
          4.5,
          4.5,
          5,
          3,
          3.5,
          3,
          4,
          1,
          3,
          3,
          3,
          4,
          3,
          2,
          0.5,
          3,
          2.5,
          4,
          5,
          4,
          3.5,
          4.5,
          0.5,
          4,
          4.5,
          3.5,
          5,
          4.5,
          3.5,
          3,
          4,
          4,
          4,
          3.5,
          4,
          3.5,
          3,
          3.5,
          5,
          3,
          3,
          3,
          4,
          3.5,
          3.5,
          3,
          4,
          3,
          3.5,
          4.5,
          2,
          4,
          4.5,
          4,
          3,
          3,
          3,
          5,
          4,
          3,
          4,
          1,
          4,
          4,
          4.5,
          4.5,
          4,
          5,
          5,
          4,
          3,
          3,
          4,
          2.5,
          3.5,
          4,
          3,
          4,
          4.5,
          5,
          4,
          5,
          4.5,
          3,
          4.5,
          3,
          2,
          0.5,
          2.5,
          4,
          3.5,
          4,
          3.5,
          3.5,
          3,
          3,
          4,
          3,
          3.5,
          3,
          4.5,
          3,
          3,
          3.5,
          4,
          4,
          4.5,
          0.5,
          3,
          4,
          2,
          3,
          4.5,
          5,
          0.5,
          4,
          1,
          2,
          0.5,
          4.5,
          4,
          1,
          5,
          3,
          3.5,
          2,
          4.5,
          3.5,
          3,
          3,
          2,
          4,
          1,
          2,
          3,
          4.5,
          4,
          4,
          4,
          4,
          5,
          3.5,
          5,
          4,
          2.5,
          3,
          3.5,
          2.5,
          3.5,
          4,
          3,
          3.5,
          1,
          3,
          3,
          5,
          4,
          3,
          5,
          4,
          2,
          4.5,
          4,
          4,
          3,
          3.5,
          2.5,
          4,
          3,
          2,
          4.5,
          4,
          5,
          1.5,
          4.5,
          3,
          4,
          2,
          4.5,
          3,
          3,
          2.5,
          4,
          4,
          2,
          4,
          3,
          4.5,
          1.5,
          4,
          3.5,
          3,
          5,
          4,
          4,
          2,
          4,
          5,
          4,
          2.5,
          4.5,
          3.5,
          2,
          4.5,
          5,
          5,
          2,
          5,
          3.5,
          3,
          5,
          3,
          3,
          4.5,
          3,
          3,
          4.5,
          3,
          3,
          4,
          4,
          5,
          3,
          3.5,
          2,
          1,
          5,
          2,
          4.5,
          3,
          4,
          5,
          2,
          1,
          3.5,
          4,
          4,
          3,
          3.5,
          4,
          4,
          3.5,
          4.5,
          2.5,
          5,
          1,
          4
         ],
         "yaxis": "y"
        }
       ],
       "layout": {
        "legend": {
         "tracegroupgap": 0
        },
        "template": {
         "data": {
          "bar": [
           {
            "error_x": {
             "color": "#2a3f5f"
            },
            "error_y": {
             "color": "#2a3f5f"
            },
            "marker": {
             "line": {
              "color": "white",
              "width": 0.5
             },
             "pattern": {
              "fillmode": "overlay",
              "size": 10,
              "solidity": 0.2
             }
            },
            "type": "bar"
           }
          ],
          "barpolar": [
           {
            "marker": {
             "line": {
              "color": "white",
              "width": 0.5
             },
             "pattern": {
              "fillmode": "overlay",
              "size": 10,
              "solidity": 0.2
             }
            },
            "type": "barpolar"
           }
          ],
          "carpet": [
           {
            "aaxis": {
             "endlinecolor": "#2a3f5f",
             "gridcolor": "#C8D4E3",
             "linecolor": "#C8D4E3",
             "minorgridcolor": "#C8D4E3",
             "startlinecolor": "#2a3f5f"
            },
            "baxis": {
             "endlinecolor": "#2a3f5f",
             "gridcolor": "#C8D4E3",
             "linecolor": "#C8D4E3",
             "minorgridcolor": "#C8D4E3",
             "startlinecolor": "#2a3f5f"
            },
            "type": "carpet"
           }
          ],
          "choropleth": [
           {
            "colorbar": {
             "outlinewidth": 0,
             "ticks": ""
            },
            "type": "choropleth"
           }
          ],
          "contour": [
           {
            "colorbar": {
             "outlinewidth": 0,
             "ticks": ""
            },
            "colorscale": [
             [
              0,
              "#0d0887"
             ],
             [
              0.1111111111111111,
              "#46039f"
             ],
             [
              0.2222222222222222,
              "#7201a8"
             ],
             [
              0.3333333333333333,
              "#9c179e"
             ],
             [
              0.4444444444444444,
              "#bd3786"
             ],
             [
              0.5555555555555556,
              "#d8576b"
             ],
             [
              0.6666666666666666,
              "#ed7953"
             ],
             [
              0.7777777777777778,
              "#fb9f3a"
             ],
             [
              0.8888888888888888,
              "#fdca26"
             ],
             [
              1,
              "#f0f921"
             ]
            ],
            "type": "contour"
           }
          ],
          "contourcarpet": [
           {
            "colorbar": {
             "outlinewidth": 0,
             "ticks": ""
            },
            "type": "contourcarpet"
           }
          ],
          "heatmap": [
           {
            "colorbar": {
             "outlinewidth": 0,
             "ticks": ""
            },
            "colorscale": [
             [
              0,
              "#0d0887"
             ],
             [
              0.1111111111111111,
              "#46039f"
             ],
             [
              0.2222222222222222,
              "#7201a8"
             ],
             [
              0.3333333333333333,
              "#9c179e"
             ],
             [
              0.4444444444444444,
              "#bd3786"
             ],
             [
              0.5555555555555556,
              "#d8576b"
             ],
             [
              0.6666666666666666,
              "#ed7953"
             ],
             [
              0.7777777777777778,
              "#fb9f3a"
             ],
             [
              0.8888888888888888,
              "#fdca26"
             ],
             [
              1,
              "#f0f921"
             ]
            ],
            "type": "heatmap"
           }
          ],
          "heatmapgl": [
           {
            "colorbar": {
             "outlinewidth": 0,
             "ticks": ""
            },
            "colorscale": [
             [
              0,
              "#0d0887"
             ],
             [
              0.1111111111111111,
              "#46039f"
             ],
             [
              0.2222222222222222,
              "#7201a8"
             ],
             [
              0.3333333333333333,
              "#9c179e"
             ],
             [
              0.4444444444444444,
              "#bd3786"
             ],
             [
              0.5555555555555556,
              "#d8576b"
             ],
             [
              0.6666666666666666,
              "#ed7953"
             ],
             [
              0.7777777777777778,
              "#fb9f3a"
             ],
             [
              0.8888888888888888,
              "#fdca26"
             ],
             [
              1,
              "#f0f921"
             ]
            ],
            "type": "heatmapgl"
           }
          ],
          "histogram": [
           {
            "marker": {
             "pattern": {
              "fillmode": "overlay",
              "size": 10,
              "solidity": 0.2
             }
            },
            "type": "histogram"
           }
          ],
          "histogram2d": [
           {
            "colorbar": {
             "outlinewidth": 0,
             "ticks": ""
            },
            "colorscale": [
             [
              0,
              "#0d0887"
             ],
             [
              0.1111111111111111,
              "#46039f"
             ],
             [
              0.2222222222222222,
              "#7201a8"
             ],
             [
              0.3333333333333333,
              "#9c179e"
             ],
             [
              0.4444444444444444,
              "#bd3786"
             ],
             [
              0.5555555555555556,
              "#d8576b"
             ],
             [
              0.6666666666666666,
              "#ed7953"
             ],
             [
              0.7777777777777778,
              "#fb9f3a"
             ],
             [
              0.8888888888888888,
              "#fdca26"
             ],
             [
              1,
              "#f0f921"
             ]
            ],
            "type": "histogram2d"
           }
          ],
          "histogram2dcontour": [
           {
            "colorbar": {
             "outlinewidth": 0,
             "ticks": ""
            },
            "colorscale": [
             [
              0,
              "#0d0887"
             ],
             [
              0.1111111111111111,
              "#46039f"
             ],
             [
              0.2222222222222222,
              "#7201a8"
             ],
             [
              0.3333333333333333,
              "#9c179e"
             ],
             [
              0.4444444444444444,
              "#bd3786"
             ],
             [
              0.5555555555555556,
              "#d8576b"
             ],
             [
              0.6666666666666666,
              "#ed7953"
             ],
             [
              0.7777777777777778,
              "#fb9f3a"
             ],
             [
              0.8888888888888888,
              "#fdca26"
             ],
             [
              1,
              "#f0f921"
             ]
            ],
            "type": "histogram2dcontour"
           }
          ],
          "mesh3d": [
           {
            "colorbar": {
             "outlinewidth": 0,
             "ticks": ""
            },
            "type": "mesh3d"
           }
          ],
          "parcoords": [
           {
            "line": {
             "colorbar": {
              "outlinewidth": 0,
              "ticks": ""
             }
            },
            "type": "parcoords"
           }
          ],
          "pie": [
           {
            "automargin": true,
            "type": "pie"
           }
          ],
          "scatter": [
           {
            "fillpattern": {
             "fillmode": "overlay",
             "size": 10,
             "solidity": 0.2
            },
            "type": "scatter"
           }
          ],
          "scatter3d": [
           {
            "line": {
             "colorbar": {
              "outlinewidth": 0,
              "ticks": ""
             }
            },
            "marker": {
             "colorbar": {
              "outlinewidth": 0,
              "ticks": ""
             }
            },
            "type": "scatter3d"
           }
          ],
          "scattercarpet": [
           {
            "marker": {
             "colorbar": {
              "outlinewidth": 0,
              "ticks": ""
             }
            },
            "type": "scattercarpet"
           }
          ],
          "scattergeo": [
           {
            "marker": {
             "colorbar": {
              "outlinewidth": 0,
              "ticks": ""
             }
            },
            "type": "scattergeo"
           }
          ],
          "scattergl": [
           {
            "marker": {
             "colorbar": {
              "outlinewidth": 0,
              "ticks": ""
             }
            },
            "type": "scattergl"
           }
          ],
          "scattermapbox": [
           {
            "marker": {
             "colorbar": {
              "outlinewidth": 0,
              "ticks": ""
             }
            },
            "type": "scattermapbox"
           }
          ],
          "scatterpolar": [
           {
            "marker": {
             "colorbar": {
              "outlinewidth": 0,
              "ticks": ""
             }
            },
            "type": "scatterpolar"
           }
          ],
          "scatterpolargl": [
           {
            "marker": {
             "colorbar": {
              "outlinewidth": 0,
              "ticks": ""
             }
            },
            "type": "scatterpolargl"
           }
          ],
          "scatterternary": [
           {
            "marker": {
             "colorbar": {
              "outlinewidth": 0,
              "ticks": ""
             }
            },
            "type": "scatterternary"
           }
          ],
          "surface": [
           {
            "colorbar": {
             "outlinewidth": 0,
             "ticks": ""
            },
            "colorscale": [
             [
              0,
              "#0d0887"
             ],
             [
              0.1111111111111111,
              "#46039f"
             ],
             [
              0.2222222222222222,
              "#7201a8"
             ],
             [
              0.3333333333333333,
              "#9c179e"
             ],
             [
              0.4444444444444444,
              "#bd3786"
             ],
             [
              0.5555555555555556,
              "#d8576b"
             ],
             [
              0.6666666666666666,
              "#ed7953"
             ],
             [
              0.7777777777777778,
              "#fb9f3a"
             ],
             [
              0.8888888888888888,
              "#fdca26"
             ],
             [
              1,
              "#f0f921"
             ]
            ],
            "type": "surface"
           }
          ],
          "table": [
           {
            "cells": {
             "fill": {
              "color": "#EBF0F8"
             },
             "line": {
              "color": "white"
             }
            },
            "header": {
             "fill": {
              "color": "#C8D4E3"
             },
             "line": {
              "color": "white"
             }
            },
            "type": "table"
           }
          ]
         },
         "layout": {
          "annotationdefaults": {
           "arrowcolor": "#2a3f5f",
           "arrowhead": 0,
           "arrowwidth": 1
          },
          "autotypenumbers": "strict",
          "coloraxis": {
           "colorbar": {
            "outlinewidth": 0,
            "ticks": ""
           }
          },
          "colorscale": {
           "diverging": [
            [
             0,
             "#8e0152"
            ],
            [
             0.1,
             "#c51b7d"
            ],
            [
             0.2,
             "#de77ae"
            ],
            [
             0.3,
             "#f1b6da"
            ],
            [
             0.4,
             "#fde0ef"
            ],
            [
             0.5,
             "#f7f7f7"
            ],
            [
             0.6,
             "#e6f5d0"
            ],
            [
             0.7,
             "#b8e186"
            ],
            [
             0.8,
             "#7fbc41"
            ],
            [
             0.9,
             "#4d9221"
            ],
            [
             1,
             "#276419"
            ]
           ],
           "sequential": [
            [
             0,
             "#0d0887"
            ],
            [
             0.1111111111111111,
             "#46039f"
            ],
            [
             0.2222222222222222,
             "#7201a8"
            ],
            [
             0.3333333333333333,
             "#9c179e"
            ],
            [
             0.4444444444444444,
             "#bd3786"
            ],
            [
             0.5555555555555556,
             "#d8576b"
            ],
            [
             0.6666666666666666,
             "#ed7953"
            ],
            [
             0.7777777777777778,
             "#fb9f3a"
            ],
            [
             0.8888888888888888,
             "#fdca26"
            ],
            [
             1,
             "#f0f921"
            ]
           ],
           "sequentialminus": [
            [
             0,
             "#0d0887"
            ],
            [
             0.1111111111111111,
             "#46039f"
            ],
            [
             0.2222222222222222,
             "#7201a8"
            ],
            [
             0.3333333333333333,
             "#9c179e"
            ],
            [
             0.4444444444444444,
             "#bd3786"
            ],
            [
             0.5555555555555556,
             "#d8576b"
            ],
            [
             0.6666666666666666,
             "#ed7953"
            ],
            [
             0.7777777777777778,
             "#fb9f3a"
            ],
            [
             0.8888888888888888,
             "#fdca26"
            ],
            [
             1,
             "#f0f921"
            ]
           ]
          },
          "colorway": [
           "#636efa",
           "#EF553B",
           "#00cc96",
           "#ab63fa",
           "#FFA15A",
           "#19d3f3",
           "#FF6692",
           "#B6E880",
           "#FF97FF",
           "#FECB52"
          ],
          "font": {
           "color": "#2a3f5f"
          },
          "geo": {
           "bgcolor": "white",
           "lakecolor": "white",
           "landcolor": "white",
           "showlakes": true,
           "showland": true,
           "subunitcolor": "#C8D4E3"
          },
          "hoverlabel": {
           "align": "left"
          },
          "hovermode": "closest",
          "mapbox": {
           "style": "light"
          },
          "paper_bgcolor": "white",
          "plot_bgcolor": "white",
          "polar": {
           "angularaxis": {
            "gridcolor": "#EBF0F8",
            "linecolor": "#EBF0F8",
            "ticks": ""
           },
           "bgcolor": "white",
           "radialaxis": {
            "gridcolor": "#EBF0F8",
            "linecolor": "#EBF0F8",
            "ticks": ""
           }
          },
          "scene": {
           "xaxis": {
            "backgroundcolor": "white",
            "gridcolor": "#DFE8F3",
            "gridwidth": 2,
            "linecolor": "#EBF0F8",
            "showbackground": true,
            "ticks": "",
            "zerolinecolor": "#EBF0F8"
           },
           "yaxis": {
            "backgroundcolor": "white",
            "gridcolor": "#DFE8F3",
            "gridwidth": 2,
            "linecolor": "#EBF0F8",
            "showbackground": true,
            "ticks": "",
            "zerolinecolor": "#EBF0F8"
           },
           "zaxis": {
            "backgroundcolor": "white",
            "gridcolor": "#DFE8F3",
            "gridwidth": 2,
            "linecolor": "#EBF0F8",
            "showbackground": true,
            "ticks": "",
            "zerolinecolor": "#EBF0F8"
           }
          },
          "shapedefaults": {
           "line": {
            "color": "#2a3f5f"
           }
          },
          "ternary": {
           "aaxis": {
            "gridcolor": "#DFE8F3",
            "linecolor": "#A2B1C6",
            "ticks": ""
           },
           "baxis": {
            "gridcolor": "#DFE8F3",
            "linecolor": "#A2B1C6",
            "ticks": ""
           },
           "bgcolor": "white",
           "caxis": {
            "gridcolor": "#DFE8F3",
            "linecolor": "#A2B1C6",
            "ticks": ""
           }
          },
          "title": {
           "x": 0.05
          },
          "xaxis": {
           "automargin": true,
           "gridcolor": "#EBF0F8",
           "linecolor": "#EBF0F8",
           "ticks": "",
           "title": {
            "standoff": 15
           },
           "zerolinecolor": "#EBF0F8",
           "zerolinewidth": 2
          },
          "yaxis": {
           "automargin": true,
           "gridcolor": "#EBF0F8",
           "linecolor": "#EBF0F8",
           "ticks": "",
           "title": {
            "standoff": 15
           },
           "zerolinecolor": "#EBF0F8",
           "zerolinewidth": 2
          }
         }
        },
        "title": {
         "text": "Ratings vs Movie ID"
        },
        "xaxis": {
         "anchor": "y",
         "domain": [
          0,
          1
         ],
         "title": {
          "text": "movieId"
         }
        },
        "yaxis": {
         "anchor": "x",
         "domain": [
          0,
          1
         ],
         "title": {
          "text": "rating"
         }
        }
       }
      },
      "text/html": [
       "<div>                            <div id=\"1cf1bfcb-a5ce-4234-a9b6-fb5bb02111a3\" class=\"plotly-graph-div\" style=\"height:525px; width:100%;\"></div>            <script type=\"text/javascript\">                require([\"plotly\"], function(Plotly) {                    window.PLOTLYENV=window.PLOTLYENV || {};                                    if (document.getElementById(\"1cf1bfcb-a5ce-4234-a9b6-fb5bb02111a3\")) {                    Plotly.newPlot(                        \"1cf1bfcb-a5ce-4234-a9b6-fb5bb02111a3\",                        [{\"customdata\":[[\"Shrek 2 (2004)\"],[\"Twelve Monkeys (a.k.a. 12 Monkeys) (1995)\"],[\"Grand Budapest Hotel, The (2014)\"],[\"Swingers (1996)\"],[\"Big Lebowski, The (1998)\"],[\"No Escape (1994)\"],[\"U.S. Marshals (1998)\"],[\"Cube Zero (2004)\"],[\"Two Girls and a Guy (1997)\"],[\"Crouching Tiger, Hidden Dragon (Wo hu cang long) (2000)\"],[\"My Cousin Vinny (1992)\"],[\"Meet Joe Black (1998)\"],[\"Wall Street (1987)\"],[\"Monty Python and the Holy Grail (1975)\"],[\"Fish Called Wanda, A (1988)\"],[\"Independence Day (a.k.a. ID4) (1996)\"],[\"Dial M for Murder (1954)\"],[\"WarGames (1983)\"],[\"Nine Months (1995)\"],[\"Gremlins (1984)\"],[\"Mr. Holland's Opus (1995)\"],[\"M*A*S*H (a.k.a. MASH) (1970)\"],[\"Wimbledon (2004)\"],[\"7th Voyage of Sinbad, The (1958)\"],[\"Aladdin (1992)\"],[\"Descent, The (2005)\"],[\"Rob Roy (1995)\"],[\"King's Speech, The (2010)\"],[\"Night of the Living Dead (1968)\"],[\"Strawberry and Chocolate (Fresa y chocolate) (1993)\"],[\"Apollo 13 (1995)\"],[\"Heavy Metal (1981)\"],[\"Scream (1996)\"],[\"Transformers: Revenge of the Fallen (2009)\"],[\"Speed 2: Cruise Control (1997)\"],[\"About Schmidt (2002)\"],[\"Highlander (1986)\"],[\"Anchorman: The Legend of Ron Burgundy (2004)\"],[\"Forever Young (1992)\"],[\"Howling III: The Marsupials (1987)\"],[\"Limitless (2011)\"],[\"Pulp Fiction (1994)\"],[\"Full Monty, The (1997)\"],[\"Cliffhanger (1993)\"],[\"Kill Bill: Vol. 1 (2003)\"],[\"Summer of Sam (1999)\"],[\"Pirates of the Caribbean: The Curse of the Black Pearl (2003)\"],[\"Who's That Girl? (1987)\"],[\"Independence Day (a.k.a. ID4) (1996)\"],[\"Harry Potter and the Sorcerer's Stone (a.k.a. Harry Potter and the Philosopher's Stone) (2001)\"],[\"Journey of Natty Gann, The (1985)\"],[\"Diner (1982)\"],[\"Silence of the Lambs, The (1991)\"],[\"Daredevil (2003)\"],[\"Bourne Identity, The (2002)\"],[\"Mighty Aphrodite (1995)\"],[\"Bull Durham (1988)\"],[\"Gift, The (2000)\"],[\"Higher Learning (1995)\"],[\"Corrina, Corrina (1994)\"],[\"Aguirre: The Wrath of God (Aguirre, der Zorn Gottes) (1972)\"],[\"Exorcist, The (1973)\"],[\"Sixth Sense, The (1999)\"],[\"That Thing You Do! (1996)\"],[\"Broadcast News (1987)\"],[\"Taken (2008)\"],[\"Eraser (1996)\"],[\"Urban Legend (1998)\"],[\"Outbreak (1995)\"],[\"Me, Myself & Irene (2000)\"],[\"Analyze This (1999)\"],[\"Big Daddy (1999)\"],[\"Romy and Michele's High School Reunion (1997)\"],[\"Eternal Sunshine of the Spotless Mind (2004)\"],[\"Indian in the Cupboard, The (1995)\"],[\"Aladdin (1992)\"],[\"American Beauty (1999)\"],[\"American Beauty (1999)\"],[\"So I Married an Axe Murderer (1993)\"],[\"Amelia (2009)\"],[\"Wordplay (2006)\"],[\"Sahara (1943)\"],[\"Independence Day (a.k.a. ID4) (1996)\"],[\"Lord of the Rings: The Two Towers, The (2002)\"],[\"Six Degrees of Separation (1993)\"],[\"Graduate, The (1967)\"],[\"Independence Day (a.k.a. ID4) (1996)\"],[\"Moonraker (1979)\"],[\"Stardust Memories (1980)\"],[\"Rushmore (1998)\"],[\"Silence of the Lambs, The (1991)\"],[\"Friday (1995)\"],[\"American President, The (1995)\"],[\"Last of the Mohicans, The (1992)\"],[\"Fear (1996)\"],[\"Untouchables, The (1987)\"],[\"Some Like It Hot (1959)\"],[\"Superman II (1980)\"],[\"X-Men: First Class (2011)\"],[\"Rat Race (2001)\"],[\"Galaxy Quest (1999)\"],[\"Terminator 2: Judgment Day (1991)\"],[\"Dracula (Bram Stoker's Dracula) (1992)\"],[\"Gattaca (1997)\"],[\"Princess Bride, The (1987)\"],[\"Crash (2004)\"],[\"Forrest Gump (1994)\"],[\"Waterworld (1995)\"],[\"Bend of the River (1952)\"],[\"Another Year (2010)\"],[\"Take the Money and Run (1969)\"],[\"Braveheart (1995)\"],[\"Psycho (1960)\"],[\"Legally Blonde (2001)\"],[\"Star Wars: Episode V - The Empire Strikes Back (1980)\"],[\"Koyaanisqatsi (a.k.a. Koyaanisqatsi: Life Out of Balance) (1983)\"],[\"Dancer in the Dark (2000)\"],[\"Casablanca (1942)\"],[\"Radio (2003)\"],[\"WALL\\u00b7E (2008)\"],[\"Blade (1998)\"],[\"Time to Kill, A (1996)\"],[\"Basketball Diaries, The (1995)\"],[\"Adaptation (2002)\"],[\"Monty Python's Life of Brian (1979)\"],[\"Into the Wild (2007)\"],[\"Pulp Fiction (1994)\"],[\"Girl, Interrupted (1999)\"],[\"Crow: City of Angels, The (1996)\"],[\"What Planet Are You From? (2000)\"],[\"Love Letter, The (1999)\"],[\"Jean de Florette (1986)\"],[\"Liar Liar (1997)\"],[\"Charlie and the Chocolate Factory (2005)\"],[\"Robin Hood: Men in Tights (1993)\"],[\"Ridicule (1996)\"],[\"Devil's Advocate, The (1997)\"],[\"Van Helsing (2004)\"],[\"Heat (1995)\"],[\"Interview with the Vampire: The Vampire Chronicles (1994)\"],[\"Fahrenheit 9/11 (2004)\"],[\"Dirty Harry (1971)\"],[\"Breakfast Club, The (1985)\"],[\"Lost in Space (1998)\"],[\"Out of Africa (1985)\"],[\"Deconstructing Harry (1997)\"],[\"City of Lost Children, The (Cit\\u00e9 des enfants perdus, La) (1995)\"],[\"Lair of the White Worm, The (1988)\"],[\"Mulholland Drive (2001)\"],[\"Little Shop of Horrors (1986)\"],[\"Kick-Ass (2010)\"],[\"Little Mermaid, The (1989)\"],[\"Disclosure (1994)\"],[\"Desperately Seeking Susan (1985)\"],[\"Girl Who Leapt Through Time, The (Toki o kakeru sh\\u00f4jo) (2006)\"],[\"Muriel's Wedding (1994)\"],[\"Another Stakeout (1993)\"],[\"Dog Day Afternoon (1975)\"],[\"Young Guns (1988)\"],[\"Amadeus (1984)\"],[\"Rosencrantz and Guildenstern Are Dead (1990)\"],[\"Shanghai Noon (2000)\"],[\"The Count of Monte Cristo (2002)\"],[\"Trainspotting (1996)\"],[\"Die Another Day (2002)\"],[\"20,000 Leagues Under the Sea (1954)\"],[\"Grumpy Old Men (1993)\"],[\"Indiana Jones and the Last Crusade (1989)\"],[\"Secrets & Lies (1996)\"],[\"Starman (1984)\"],[\"Nicholas Nickleby (2002)\"],[\"Rudy (1993)\"],[\"Billy Liar (1963)\"],[\"Star Trek V: The Final Frontier (1989)\"],[\"Crying Game, The (1992)\"],[\"Hotel (2001)\"],[\"Matrix Reloaded, The (2003)\"],[\"Dirty Rotten Scoundrels (1988)\"],[\"Wallace & Gromit: The Best of Aardman Animation (1996)\"],[\"Dances with Wolves (1990)\"],[\"Risky Business (1983)\"],[\"O Brother, Where Art Thou? (2000)\"],[\"Silence of the Lambs, The (1991)\"],[\"Rocky Horror Picture Show, The (1975)\"],[\"Night at the Roxbury, A (1998)\"],[\"What's Eating Gilbert Grape (1993)\"],[\"Benny & Joon (1993)\"],[\"Office Space (1999)\"],[\"Running Man, The (1987)\"],[\"Shrek (2001)\"],[\"Doctor Dolittle (1967)\"],[\"Saturday Night Fever (1977)\"],[\"Munich (2005)\"],[\"Office Space (1999)\"],[\"Spider-Man (2002)\"],[\"Laura (1944)\"],[\"Social Network, The (2010)\"],[\"Beauty and the Beast (1991)\"],[\"Mask of Zorro, The (1998)\"],[\"Road to Bali (1952)\"],[\"Jazz Singer, The (1980)\"],[\"Matrix Reloaded, The (2003)\"],[\"Harold and Maude (1971)\"],[\"Star Trek III: The Search for Spock (1984)\"],[\"Exit Wounds (2001)\"],[\"Star Trek II: The Wrath of Khan (1982)\"],[\"Terminator, The (1984)\"],[\"Total Recall (1990)\"],[\"Wanted (2008)\"],[\"3:10 to Yuma (2007)\"],[\"Married to the Mob (1988)\"],[\"Million Dollar Baby (2004)\"],[\"Ring, The (2002)\"],[\"Jurassic Park III (2001)\"],[\"Ready to Wear (Pret-A-Porter) (1994)\"],[\"Blues Brothers 2000 (1998)\"],[\"American History X (1998)\"],[\"Polar Express, The (2004)\"],[\"Touch of Evil (1958)\"],[\"Joe Versus the Volcano (1990)\"],[\"Local Hero (1983)\"],[\"Planes, Trains & Automobiles (1987)\"],[\"Untouchables, The (1987)\"],[\"Seven Samurai (Shichinin no samurai) (1954)\"],[\"Muppets From Space (1999)\"],[\"For a Few Dollars More (Per qualche dollaro in pi\\u00f9) (1965)\"],[\"Citizen Toxie: The Toxic Avenger IV (2000)\"],[\"Private Benjamin (1980)\"],[\"Great Santini, The (1979)\"],[\"Enigma (2001)\"],[\"Mad Love (1995)\"],[\"E.T. the Extra-Terrestrial (1982)\"],[\"Jungle Book, The (1967)\"],[\"English Patient, The (1996)\"],[\"Sorry, Wrong Number (1948)\"],[\"Captain America: The First Avenger (2011)\"],[\"Minority Report (2002)\"],[\"Ace Ventura: When Nature Calls (1995)\"],[\"Mission: Impossible (1996)\"],[\"Wonder Boys (2000)\"],[\"Ratatouille (2007)\"],[\"Three Kings (1999)\"],[\"Big (1988)\"],[\"Exorcist, The (1973)\"],[\"Dunston Checks In (1996)\"],[\"Election (1999)\"],[\"School of Rock (2003)\"],[\"Bad Santa (2003)\"],[\"Plan 9 from Outer Space (1959)\"],[\"21 (2008)\"],[\"Serenity (2005)\"],[\"Tinker, Tailor, Soldier, Spy (1979)\"],[\"Bug's Life, A (1998)\"],[\"Wizard of Oz, The (1939)\"],[\"Gremlins 2: The New Batch (1990)\"],[\"Butch Cassidy and the Sundance Kid (1969)\"],[\"Johnny Mnemonic (1995)\"],[\"Stargate (1994)\"],[\"One Flew Over the Cuckoo's Nest (1975)\"],[\"Dirty Dozen, The (1967)\"],[\"Indochine (1992)\"],[\"Thelma & Louise (1991)\"],[\"Top Secret! (1984)\"],[\"Picnic at Hanging Rock (1975)\"],[\"Godfather: Part II, The (1974)\"],[\"Gladiator (2000)\"],[\"Juno (2007)\"],[\"Sabrina (1995)\"],[\"Dead Poets Society (1989)\"],[\"Sixth Sense, The (1999)\"],[\"Star Trek: Nemesis (2002)\"],[\"Near Dark (1987)\"],[\"Cinema Paradiso (Nuovo cinema Paradiso) (1989)\"],[\"Who's Harry Crumb? (1989)\"],[\"Remains of the Day, The (1993)\"],[\"GoldenEye (1995)\"],[\"Tank Girl (1995)\"],[\"Ghost (1990)\"],[\"Raiders of the Lost Ark (Indiana Jones and the Raiders of the Lost Ark) (1981)\"],[\"Swingers (1996)\"],[\"Children of Heaven, The (Bacheha-Ye Aseman) (1997)\"],[\"Doctor Zhivago (1965)\"],[\"Tootsie (1982)\"],[\"Charlie and the Chocolate Factory (2005)\"],[\"Five Easy Pieces (1970)\"],[\"Beauty and the Beast (1991)\"],[\"Police Academy (1984)\"],[\"Elephant (2003)\"],[\"Battleship Potemkin (1925)\"],[\"Hot Chick, The (2002)\"],[\"Ace Ventura: Pet Detective (1994)\"],[\"Snatch (2000)\"],[\"English Patient, The (1996)\"],[\"Ever After: A Cinderella Story (1998)\"],[\"Shawshank Redemption, The (1994)\"],[\"Ant Bully, The (2006)\"],[\"Secondhand Lions (2003)\"],[\"Harvey (1950)\"],[\"Matrix Reloaded, The (2003)\"],[\"Nightmare on Elm Street 2: Freddy's Revenge, A (1985)\"],[\"Austin Powers: International Man of Mystery (1997)\"],[\"Shaun of the Dead (2004)\"],[\"V for Vendetta (2006)\"],[\"Graduate, The (1967)\"],[\"Celebration, The (Festen) (1998)\"],[\"Road to Perdition (2002)\"],[\"Casablanca (1942)\"],[\"Antz (1998)\"],[\"Wallace & Gromit: The Best of Aardman Animation (1996)\"],[\"Spider-Man (2002)\"],[\"Boot, Das (Boat, The) (1981)\"],[\"Payback (1999)\"],[\"Lock, Stock & Two Smoking Barrels (1998)\"],[\"Big Lebowski, The (1998)\"],[\"X-Files: Fight the Future, The (1998)\"],[\"Titanic (1997)\"],[\"Men in Black (a.k.a. MIB) (1997)\"],[\"Departed, The (2006)\"],[\"Great Escape, The (1963)\"],[\"Goodfellas (1990)\"],[\"Vertical Limit (2000)\"],[\"Gods Must Be Crazy II, The (1989)\"],[\"Midnight Cowboy (1969)\"],[\"Remember the Titans (2000)\"],[\"Stir of Echoes (1999)\"],[\"Pirates of the Caribbean: The Curse of the Black Pearl (2003)\"],[\"Nightmare Before Christmas, The (1993)\"],[\"Licence to Kill (1989)\"],[\"Three Musketeers, The (1993)\"],[\"Armageddon (1998)\"],[\"Rain Man (1988)\"],[\"Toy Story 2 (1999)\"],[\"Young Sherlock Holmes (1985)\"],[\"French Kiss (1995)\"],[\"To Sir with Love (1967)\"],[\"Groundhog Day (1993)\"],[\"Rosemary's Baby (1968)\"],[\"Borat: Cultural Learnings of America for Make Benefit Glorious Nation of Kazakhstan (2006)\"],[\"Goodfellas (1990)\"],[\"Demolition Man (1993)\"],[\"Christmas Carol, A (Scrooge) (1951)\"],[\"American Beauty (1999)\"],[\"Abyss, The (1989)\"],[\"Kingsman: The Secret Service (2015)\"],[\"American Pie (1999)\"],[\"Player, The (1992)\"],[\"Rear Window (1954)\"],[\"Rundown, The (2003)\"],[\"Fast and the Furious, The (2001)\"],[\"Aladdin (1992)\"],[\"Hero (Ying xiong) (2002)\"],[\"Queen of the Damned (2002)\"],[\"Scream (1996)\"],[\"Mis\\u00e9rables, Les (1995)\"],[\"Back to the Future (1985)\"],[\"Godfather, The (1972)\"],[\"Happening, The (2008)\"],[\"Natural Born Killers (1994)\"],[\"Mission: Impossible II (2000)\"],[\"Proof of Life (2000)\"],[\"Stand by Me (1986)\"],[\"Manhattan Murder Mystery (1993)\"],[\"Reconstruction (2003)\"],[\"Beethoven (1992)\"],[\"Bull Durham (1988)\"],[\"Juror, The (1996)\"],[\"Bottle Rocket (1996)\"],[\"Field of Dreams (1989)\"],[\"Lord of the Rings: The Two Towers, The (2002)\"],[\"Spider-Man (2002)\"],[\"Cool Hand Luke (1967)\"],[\"Cliffhanger (1993)\"],[\"Pineapple Express (2008)\"],[\"Little Mermaid, The (1989)\"],[\"Tomorrow Never Dies (1997)\"],[\"Pretty Woman (1990)\"],[\"Saving Private Ryan (1998)\"],[\"Star Trek: Generations (1994)\"],[\"Santa Clause, The (1994)\"],[\"Saving Private Ryan (1998)\"],[\"Conquest of the Planet of the Apes (1972)\"],[\"Mean Machine (2001)\"],[\"Conversation, The (1974)\"],[\"Terminator 2: Judgment Day (1991)\"],[\"Solomon Kane (2009)\"],[\"Emperor's New Groove, The (2000)\"],[\"Dune (1984)\"],[\"Eraser (1996)\"],[\"Clue (1985)\"],[\"Moscow Does Not Believe in Tears (Moskva slezam ne verit) (1979)\"],[\"Willy Wonka & the Chocolate Factory (1971)\"],[\"Sin City (2005)\"],[\"Legion (2010)\"],[\"Manhattan (1979)\"],[\"Kill Bill: Vol. 2 (2004)\"],[\"Beautiful Mind, A (2001)\"],[\"Center of the World, The (2001)\"],[\"Four Weddings and a Funeral (1994)\"],[\"Seven (a.k.a. Se7en) (1995)\"],[\"Raising Arizona (1987)\"],[\"When Harry Met Sally... (1989)\"],[\"Bridge on the River Kwai, The (1957)\"],[\"Catch Me If You Can (2002)\"],[\"Young Guns II (1990)\"],[\"Apocalypse Now (1979)\"],[\"Reign of Fire (2002)\"],[\"Birds, The (1963)\"],[\"Agora (2009)\"],[\"Secret Life of Walter Mitty, The (2013)\"],[\"Road to Wellville, The (1994)\"],[\"Ace Ventura: Pet Detective (1994)\"],[\"17 Again (2009)\"],[\"Indiana Jones and the Temple of Doom (1984)\"],[\"Lethal Weapon 2 (1989)\"],[\"Cannonball Run, The (1981)\"],[\"Better Off Dead... (1985)\"],[\"Capturing the Friedmans (2003)\"],[\"Wedding Singer, The (1998)\"],[\"Losing Isaiah (1995)\"],[\"Treasure Planet (2002)\"],[\"Old Boy (2003)\"],[\"Juno (2007)\"],[\"How to Train Your Dragon (2010)\"],[\"Ghostbusters (a.k.a. Ghost Busters) (1984)\"],[\"Apollo 13 (1995)\"],[\"About Time (2013)\"],[\"People vs. Larry Flynt, The (1996)\"],[\"L\\u00e9on: The Professional (a.k.a. The Professional) (L\\u00e9on) (1994)\"],[\"Breakfast at Tiffany's (1961)\"],[\"Wild Wild West (1999)\"],[\"Batman Forever (1995)\"],[\"Jackie Brown (1997)\"],[\"Naked Gun 33 1/3: The Final Insult (1994)\"],[\"EuroTrip (2004)\"],[\"Ace Ventura: Pet Detective (1994)\"],[\"Inherit the Wind (1960)\"],[\"Eraser (1996)\"],[\"Captain America: The Winter Soldier (2014)\"],[\"Predator (1987)\"],[\"Marty (1955)\"],[\"Speechless (1994)\"],[\"Star Wars: Episode II - Attack of the Clones (2002)\"],[\"Samurai II: Duel at Ichijoji Temple (Zoku Miyamoto Musashi: Ichij\\u00f4ji no kett\\u00f4) (1955)\"],[\"European Vacation (aka National Lampoon's European Vacation) (1985)\"],[\"Finding Nemo (2003)\"],[\"Inglourious Basterds (2009)\"],[\"Fargo (1996)\"],[\"Prince of Tides, The (1991)\"],[\"Alice in Wonderland (1951)\"],[\"How to Lose a Guy in 10 Days (2003)\"],[\"True Lies (1994)\"],[\"Newton Boys, The (1998)\"],[\"Sgt. Bilko (1996)\"],[\"Rudy (1993)\"],[\"Garden State (2004)\"],[\"Net, The (1995)\"],[\"Munich (2005)\"],[\"Lion King, The (1994)\"],[\"Naked Gun 33 1/3: The Final Insult (1994)\"],[\"Final Destination (2000)\"],[\"Boondock Saints, The (2000)\"],[\"American President, The (1995)\"],[\"Outrage (Autoreiji) (2010)\"],[\"Seventh Sign, The (1988)\"],[\"Quiz Show (1994)\"],[\"Color of Money, The (1986)\"],[\"Old Yeller (1957)\"],[\"Dreamscape (1984)\"],[\"To Die For (1995)\"],[\"Wings of Desire (Himmel \\u00fcber Berlin, Der) (1987)\"],[\"Gremlins (1984)\"],[\"Green Mile, The (1999)\"],[\"Westworld (1973)\"],[\"Men in Black II (a.k.a. MIIB) (a.k.a. MIB 2) (2002)\"],[\"Sneakers (1992)\"],[\"Dark Crystal, The (1982)\"],[\"Diamonds Are Forever (1971)\"],[\"Rush (1991)\"],[\"Good, the Bad, the Weird, The (Joheunnom nabbeunnom isanghannom) (2008)\"],[\"Sweeney Todd: The Demon Barber of Fleet Street (2007)\"],[\"Class of 1984 (1982)\"],[\"Terminator, The (1984)\"],[\"Detroit Rock City (1999)\"],[\"Happiest Millionaire, The (1967)\"],[\"A.I. Artificial Intelligence (2001)\"],[\"Snow White and the Seven Dwarfs (1937)\"],[\"Inside Man (2006)\"],[\"Dog Day Afternoon (1975)\"],[\"Boys Don't Cry (1999)\"],[\"Brazil (1985)\"],[\"Beetlejuice (1988)\"],[\"Free Willy 2: The Adventure Home (1995)\"],[\"Cable Guy, The (1996)\"],[\"Scrooged (1988)\"],[\"That Thing You Do! (1996)\"],[\"Adaptation (2002)\"],[\"Gone with the Wind (1939)\"],[\"Watership Down (1978)\"],[\"Rock, The (1996)\"],[\"Daria: Is It College Yet? (2002)\"],[\"Ratatouille (2007)\"],[\"Austin Powers: The Spy Who Shagged Me (1999)\"],[\"Bull Durham (1988)\"],[\"Breakfast at Tiffany's (1961)\"],[\"Training Day (2001)\"],[\"Girl, Interrupted (1999)\"],[\"Ransom (1996)\"],[\"Pitch Black (2000)\"],[\"Secretary (2002)\"],[\"Craft, The (1996)\"],[\"Lara Croft: Tomb Raider (2001)\"],[\"While You Were Sleeping (1995)\"],[\"Opposite of Sex, The (1998)\"],[\"Wayne's World 2 (1993)\"],[\"Beetlejuice (1988)\"],[\"Double Jeopardy (1999)\"],[\"Talk Radio (1988)\"],[\"10,000 BC (2008)\"],[\"Monty Python's Life of Brian (1979)\"],[\"Lost in Translation (2003)\"],[\"Fish Called Wanda, A (1988)\"],[\"Immortal Beloved (1994)\"],[\"Substitute, The (1996)\"],[\"Stargate (1994)\"],[\"Stranger than Fiction (2006)\"],[\"To Die For (1995)\"],[\"Bruce Almighty (2003)\"],[\"Traffic (2000)\"],[\"Patton (1970)\"],[\"Girl with a Pearl Earring (2003)\"],[\"Apocalypse Now (1979)\"],[\"Dark Knight, The (2008)\"],[\"Teenage Mutant Ninja Turtles II: The Secret of the Ooze (1991)\"],[\"Thirty-Two Short Films About Glenn Gould (1993)\"],[\"Look Who's Talking (1989)\"],[\"Men in Black (a.k.a. MIB) (1997)\"],[\"Bug's Life, A (1998)\"],[\"GoldenEye (1995)\"],[\"Matilda (1996)\"],[\"20,000 Leagues Under the Sea (1954)\"],[\"Fatal Attraction (1987)\"],[\"Toy Story (1995)\"],[\"Pee-wee's Big Adventure (1985)\"],[\"City of God (Cidade de Deus) (2002)\"],[\"Natural, The (1984)\"],[\"Who Framed Roger Rabbit? (1988)\"],[\"Fugitive, The (1993)\"],[\"American Beauty (1999)\"],[\"Chronicles of Narnia: The Lion, the Witch and the Wardrobe, The (2005)\"],[\"Pirates of the Caribbean: Dead Man's Chest (2006)\"],[\"Tin Cup (1996)\"],[\"\\u00a1Three Amigos! (1986)\"],[\"Beautiful Mind, A (2001)\"],[\"Stripes (1981)\"],[\"Lord of the Rings: The Return of the King, The (2003)\"],[\"Princess Diaries 2: Royal Engagement, The (2004)\"],[\"Simpsons Movie, The (2007)\"],[\"Truth About Cats & Dogs, The (1996)\"],[\"Bedroom Window, The (1987)\"],[\"Akira (1988)\"],[\"Dumbo (1941)\"],[\"Man on the Moon (1999)\"],[\"Rebecca (1940)\"],[\"Rear Window (1954)\"],[\"Pledge, The (2001)\"],[\"Iron Giant, The (1999)\"],[\"Aladdin (1992)\"],[\"Junior (1994)\"],[\"Intact (Intacto) (2001)\"],[\"There Will Be Blood (2007)\"],[\"Batman (1989)\"],[\"My Date with Drew (2004)\"],[\"Yossi & Jagger (2002)\"],[\"Cable Guy, The (1996)\"],[\"Taken (2008)\"],[\"Maverick (1994)\"],[\"Women on the Verge of a Nervous Breakdown (Mujeres al borde de un ataque de nervios) (1988)\"],[\"Madeline (1998)\"],[\"Jewel of the Nile, The (1985)\"],[\"X-Men: The Last Stand (2006)\"],[\"Four Rooms (1995)\"],[\"Antz (1998)\"],[\"Cold in July (2014)\"],[\"Serpico (1973)\"],[\"Saint, The (1997)\"],[\"Hot Rod (2007)\"],[\"Faculty, The (1998)\"],[\"Spy Game (2001)\"],[\"Sea Inside, The (Mar adentro) (2004)\"],[\"Roger & Me (1989)\"],[\"Girl Next Door, The (2004)\"],[\"March of the Penguins (Marche de l'empereur, La) (2005)\"],[\"Dog's Life, A (1918)\"],[\"Bachelor, The (1999)\"],[\"Being John Malkovich (1999)\"],[\"Hunt for Red October, The (1990)\"],[\"Prizzi's Honor (1985)\"],[\"Haunted World of Edward D. Wood Jr., The (1996)\"],[\"Cast Away (2000)\"],[\"Toy Story (1995)\"],[\"Grifters, The (1990)\"],[\"School of Rock (2003)\"],[\"Mallrats (1995)\"],[\"Vampire Hunter D: Bloodlust (Banpaia hant\\u00e2 D) (2000)\"],[\"Boys on the Side (1995)\"],[\"She's Gotta Have It (1986)\"],[\"True Lies (1994)\"],[\"Big (1988)\"],[\"Peeping Tom (1960)\"],[\"Mr. Blandings Builds His Dream House (1948)\"],[\"Good Will Hunting (1997)\"],[\"Ghostbusters (a.k.a. Ghost Busters) (1984)\"],[\"Fletch (1985)\"],[\"Dances with Wolves (1990)\"],[\"As Good as It Gets (1997)\"],[\"Limitless (2011)\"],[\"Lars and the Real Girl (2007)\"],[\"Primal Fear (1996)\"],[\"Batman (1989)\"],[\"Close Encounters of the Third Kind (1977)\"],[\"Mulholland Falls (1996)\"],[\"View to a Kill, A (1985)\"],[\"American History X (1998)\"],[\"Gettysburg (1993)\"],[\"Darkness (2002)\"],[\"Beauty and the Beast (1991)\"],[\"Toy Soldiers (1991)\"],[\"Prometheus (2012)\"],[\"Congo (1995)\"],[\"Dances with Wolves (1990)\"],[\"Sliding Doors (1998)\"],[\"Wedding Date, The (2005)\"],[\"Shrek (2001)\"],[\"Bill & Ted's Excellent Adventure (1989)\"],[\"Trading Places (1983)\"],[\"Last Action Hero (1993)\"],[\"Shining, The (1980)\"],[\"River Wild, The (1994)\"],[\"My Best Friend's Wedding (1997)\"],[\"Double Jeopardy (1999)\"],[\"L.A. Confidential (1997)\"],[\"Scream (1996)\"],[\"Wild Things (1998)\"],[\"Star Wars: Episode V - The Empire Strikes Back (1980)\"],[\"Zoolander (2001)\"],[\"Sabrina (1954)\"],[\"Wallace & Gromit: The Wrong Trousers (1993)\"],[\"Stardust Memories (1980)\"],[\"Modern Times (1936)\"],[\"X-Files: Fight the Future, The (1998)\"],[\"Boogie Nights (1997)\"],[\"Full Monty, The (1997)\"],[\"Philadelphia (1993)\"],[\"Fish Called Wanda, A (1988)\"],[\"Night of the Living Dead (1968)\"],[\"Silence of the Lambs, The (1991)\"],[\"Blade Runner (1982)\"],[\"Rear Window (1954)\"],[\"Targets (1968)\"],[\"Beautiful Mind, A (2001)\"],[\"Oh, God! (1977)\"],[\"Hidalgo (2004)\"],[\"Austin Powers: International Man of Mystery (1997)\"],[\"Red Violin, The (Violon rouge, Le) (1998)\"],[\"Twelve Monkeys (a.k.a. 12 Monkeys) (1995)\"],[\"Hostel (2005)\"],[\"Jumanji (1995)\"],[\"Conspiracy Theory (1997)\"],[\"Speed (1994)\"],[\"X-Men: Days of Future Past (2014)\"],[\"Predator (1987)\"],[\"Boys Don't Cry (1999)\"],[\"Star Trek II: The Wrath of Khan (1982)\"],[\"AVP: Alien vs. Predator (2004)\"],[\"Ninotchka (1939)\"],[\"Saw (2004)\"],[\"Prizzi's Honor (1985)\"],[\"Shrek 2 (2004)\"],[\"Jumanji (1995)\"],[\"Signs (2002)\"],[\"From Dusk Till Dawn (1996)\"],[\"Everything Is Illuminated (2005)\"],[\"Casino (1995)\"],[\"Herbie Goes Bananas (1980)\"],[\"Iron Giant, The (1999)\"],[\"Max Dugan Returns (1983)\"],[\"Cliffhanger (1993)\"],[\"Spider-Man (2002)\"],[\"Children of the Corn IV: The Gathering (1996)\"],[\"Dogs of War, The (1980)\"],[\"Philadelphia (1993)\"],[\"Artist, The (2011)\"],[\"As Good as It Gets (1997)\"],[\"Some Folks Call It a Sling Blade (1993)\"],[\"Coneheads (1993)\"],[\"Angel Heart (1987)\"],[\"Goofy Movie, A (1995)\"],[\"Legend of Drunken Master, The (Jui kuen II) (1994)\"],[\"Twister (1996)\"],[\"Hanna (2011)\"],[\"National Treasure: Book of Secrets (2007)\"],[\"Mrs. Doubtfire (1993)\"],[\"Star Wars: Episode II - Attack of the Clones (2002)\"],[\"Fifth Element, The (1997)\"],[\"Freaky Friday (1977)\"],[\"Erin Brockovich (2000)\"],[\"Mission: Impossible (1996)\"],[\"Babe (1995)\"],[\"Shallow Grave (1994)\"],[\"Wild Geese, The (1978)\"],[\"NeverEnding Story, The (1984)\"],[\"Fifth Element, The (1997)\"],[\"Pretty Woman (1990)\"],[\"One Hour Photo (2002)\"],[\"Hole, The (2001)\"],[\"Flesh and Bone (1993)\"],[\"Dave (1993)\"],[\"Runaway Bride (1999)\"],[\"Age of Innocence, The (1993)\"],[\"Training Day (2001)\"],[\"Full Metal Jacket (1987)\"],[\"Braveheart (1995)\"],[\"Clueless (1995)\"],[\"Amistad (1997)\"],[\"Monty Python and the Holy Grail (1975)\"],[\"Revenge of the Nerds II: Nerds in Paradise (1987)\"],[\"Raiders of the Lost Ark (Indiana Jones and the Raiders of the Lost Ark) (1981)\"],[\"Mulholland Falls (1996)\"],[\"Crouching Tiger, Hidden Dragon (Wo hu cang long) (2000)\"],[\"Hangover, The (2009)\"],[\"Elf (2003)\"],[\"All of Me (1984)\"],[\"Batman Begins (2005)\"],[\"Liar Liar (1997)\"],[\"Partly Cloudy (2009)\"],[\"Flintstones, The (1994)\"],[\"Midnight in the Garden of Good and Evil (1997)\"],[\"Heat (1995)\"],[\"City Slickers II: The Legend of Curly's Gold (1994)\"],[\"Talented Mr. Ripley, The (1999)\"],[\"Corpse Bride (2005)\"],[\"Blues Brothers, The (1980)\"],[\"Goodfellas (1990)\"],[\"Two if by Sea (1996)\"],[\"Sirens (1994)\"],[\"9 (2009)\"],[\"Face/Off (1997)\"],[\"Congo (1995)\"],[\"Grizzly Man (2005)\"],[\"Killing Fields, The (1984)\"],[\"From Dusk Till Dawn (1996)\"],[\"Near Dark (1987)\"],[\"Goodfellas (1990)\"],[\"Tombstone (1993)\"],[\"Elizabeth (1998)\"],[\"Rush Hour (1998)\"],[\"Cape Fear (1991)\"],[\"Eraser (1996)\"],[\"13th Warrior, The (1999)\"],[\"Fifth Element, The (1997)\"],[\"Gandhi (1982)\"],[\"Prairie Home Companion, A (2006)\"],[\"Phantasm II (1988)\"],[\"Monty Python's Life of Brian (1979)\"],[\"Stepmom (1998)\"],[\"Ace Ventura: When Nature Calls (1995)\"],[\"Scanner Darkly, A (2006)\"],[\"AVP: Alien vs. Predator (2004)\"],[\"Alice in Wonderland (1951)\"],[\"Warriors, The (1979)\"],[\"Kill Bill: Vol. 1 (2003)\"],[\"Howl's Moving Castle (Hauru no ugoku shiro) (2004)\"],[\"Toy Story 2 (1999)\"],[\"Miami Vice (2006)\"],[\"Picnic (1955)\"],[\"Godfather, The (1972)\"],[\"As Good as It Gets (1997)\"],[\"Dark Crystal, The (1982)\"],[\"Cape Fear (1991)\"],[\"Speed (1994)\"],[\"Chronicles of Narnia: The Lion, the Witch and the Wardrobe, The (2005)\"],[\"Waterworld (1995)\"],[\"Shaun of the Dead (2004)\"],[\"Jesus' Son (1999)\"],[\"Heathers (1989)\"],[\"Few Good Men, A (1992)\"],[\"Blues Brothers, The (1980)\"],[\"Matilda (1996)\"],[\"Red Rock West (1992)\"],[\"Golden Child, The (1986)\"],[\"Aladdin and the King of Thieves (1996)\"],[\"Get Him to the Greek (2010)\"],[\"Superman II (1980)\"],[\"Star Trek II: The Wrath of Khan (1982)\"],[\"Fight Club (1999)\"],[\"Conviction (2010)\"],[\"Few Good Men, A (1992)\"],[\"Buena Vista Social Club (1999)\"],[\"Holes (2003)\"],[\"Harry Potter and the Goblet of Fire (2005)\"],[\"Donovan's Reef (1963)\"],[\"Total Recall (1990)\"],[\"Final Fantasy: The Spirits Within (2001)\"],[\"Pretty Woman (1990)\"],[\"Dumb & Dumber (Dumb and Dumber) (1994)\"],[\"Million Dollar Baby (2004)\"],[\"Indiana Jones and the Kingdom of the Crystal Skull (2008)\"],[\"Groundhog Day (1993)\"],[\"Harry Potter and the Order of the Phoenix (2007)\"],[\"Paris Was a Woman (1995)\"],[\"Constant Gardener, The (2005)\"],[\"Ransom (1996)\"],[\"Tropic Thunder (2008)\"],[\"Somebody is Waiting (1996)\"],[\"Edge, The (1997)\"],[\"Hunchback of Notre Dame, The (1996)\"],[\"English Patient, The (1996)\"],[\"Zodiac (2007)\"],[\"Ice Age (2002)\"],[\"Beverly Hillbillies, The (1993)\"],[\"Ace Ventura: Pet Detective (1994)\"],[\"Jewel of the Nile, The (1985)\"],[\"Ace Ventura: Pet Detective (1994)\"],[\"Roger & Me (1989)\"],[\"Like Mike (2002)\"],[\"Being John Malkovich (1999)\"],[\"True Lies (1994)\"],[\"Eternal Sunshine of the Spotless Mind (2004)\"],[\"Interview with the Vampire: The Vampire Chronicles (1994)\"],[\"Net, The (1995)\"],[\"Finding Nemo (2003)\"],[\"Jurassic Park III (2001)\"],[\"Tombstone (1993)\"],[\"Ocean's Twelve (2004)\"],[\"Kindergarten Cop (1990)\"],[\"Day After Tomorrow, The (2004)\"],[\"Unbreakable (2000)\"],[\"Amityville: Dollhouse (1996)\"],[\"Hannibal (2001)\"],[\"Down by Law (1986)\"],[\"Tootsie (1982)\"],[\"Lake Placid (1999)\"],[\"Match Point (2005)\"],[\"Invasion of the Body Snatchers (1978)\"],[\"Charlie and the Chocolate Factory (2005)\"],[\"Fight Club (1999)\"],[\"Wanderlust (2012)\"],[\"Lion King, The (1994)\"],[\"Taxi Driver (1976)\"],[\"Fast and the Furious, The (2001)\"],[\"Congo (1995)\"],[\"Superman (1978)\"],[\"Rush Hour (1998)\"],[\"Delicatessen (1991)\"],[\"Who'll Stop the Rain (1978)\"],[\"Benny & Joon (1993)\"],[\"Pirates of the Caribbean: The Curse of the Black Pearl (2003)\"],[\"Longest Day, The (1962)\"],[\"Austin Powers: International Man of Mystery (1997)\"],[\"Jean de Florette (1986)\"],[\"Heavy Metal (1981)\"],[\"Adam's Apples (Adams \\u00e6bler) (2005)\"],[\"Memento (2000)\"],[\"Blade (1998)\"],[\"Terminator 2: Judgment Day (1991)\"],[\"Anastasia (1997)\"],[\"Mrs. Brown (a.k.a. Her Majesty, Mrs. Brown) (1997)\"],[\"Brothers McMullen, The (1995)\"],[\"Rocky V (1990)\"],[\"Friends with Benefits (2011)\"],[\"Indiana Jones and the Temple of Doom (1984)\"],[\"Silence of the Lambs, The (1991)\"],[\"Bruce Almighty (2003)\"],[\"Michael Jackson's This Is It (2009)\"],[\"Mask, The (1994)\"],[\"Exotica (1994)\"],[\"Beverly Hills Cop (1984)\"],[\"Santa Clause, The (1994)\"],[\"Others, The (2001)\"],[\"Firestarter (1984)\"],[\"Taxi Driver (1976)\"],[\"Star Wars: Episode IV - A New Hope (1977)\"],[\"Beavis and Butt-Head Do America (1996)\"],[\"Election (1999)\"],[\"Porky's (1982)\"],[\"Doors, The (1991)\"],[\"Ocean's Eleven (2001)\"],[\"Raven, The (1963)\"],[\"Blair Witch Project, The (1999)\"],[\"Beverly Hills Cop III (1994)\"],[\"Maltese Falcon, The (1941)\"],[\"Die Hard: With a Vengeance (1995)\"],[\"Toy Story 3 (2010)\"],[\"American Heart (1992)\"],[\"Mulholland Drive (2001)\"],[\"Butch Cassidy and the Sundance Kid (1969)\"],[\"Sleepy Hollow (1999)\"],[\"Paper, The (1994)\"],[\"Fast Times at Ridgemont High (1982)\"],[\"Throne of Blood (Kumonosu j\\u00f4) (1957)\"],[\"Space Cowboys (2000)\"],[\"Phenomenon (1996)\"],[\"Down with Love (2003)\"],[\"Blood Simple (1984)\"],[\"Jewel of the Nile, The (1985)\"],[\"Starship Troopers (1997)\"],[\"Grand Day Out with Wallace and Gromit, A (1989)\"],[\"It Could Happen to You (1994)\"],[\"Chasing Amy (1997)\"],[\"Night at the Museum (2006)\"],[\"Much Ado About Nothing (1993)\"],[\"Little Miss Sunshine (2006)\"],[\"Don Juan DeMarco (1995)\"],[\"Casino (1995)\"],[\"Backdraft (1991)\"],[\"Batman Forever (1995)\"],[\"Bug's Life, A (1998)\"],[\"Remains of the Day, The (1993)\"],[\"Christmas Story, A (1983)\"],[\"12 Angry Men (1957)\"],[\"Apocalypse Now (1979)\"],[\"Wrestler, The (2008)\"],[\"Rescuers Down Under, The (1990)\"],[\"Miss Congeniality (2000)\"],[\"48 Hrs. (1982)\"],[\"Snatch (2000)\"],[\"Being John Malkovich (1999)\"],[\"Adaptation (2002)\"],[\"Arlington Road (1999)\"],[\"Girl Who Played with Fire, The (Flickan som lekte med elden) (2009)\"],[\"Heathers (1989)\"],[\"Sixteen Candles (1984)\"],[\"Old School (2003)\"],[\"Dave (1993)\"],[\"Pleasantville (1998)\"],[\"Lethal Weapon (1987)\"],[\"Clueless (1995)\"],[\"Best in Show (2000)\"],[\"Field of Dreams (1989)\"],[\"Craft, The (1996)\"],[\"Dead Man Walking (1995)\"],[\"Ghostbusters (a.k.a. Ghost Busters) (1984)\"],[\"Diamonds Are Forever (1971)\"],[\"True Romance (1993)\"],[\"Malice (1993)\"],[\"Screamers: The Hunting (2009)\"],[\"Spider Lilies (Ci qing) (2007)\"],[\"American Outlaws (2001)\"],[\"Crocodile Dundee (1986)\"],[\"Terminator, The (1984)\"],[\"Sin City (2005)\"],[\"Dangerous Minds (1995)\"],[\"Serenity (2005)\"],[\"Old School (2003)\"],[\"Seven (a.k.a. Se7en) (1995)\"],[\"Boyz N the Hood (1991)\"],[\"Young Guns II (1990)\"],[\"There's Something About Mary (1998)\"],[\"Hunchback of Notre Dame, The (1996)\"],[\"Heathers (1989)\"],[\"Parent Trap, The (1961)\"],[\"Seven (a.k.a. Se7en) (1995)\"],[\"Robin Hood: Prince of Thieves (1991)\"],[\"Grapes of Wrath, The (1940)\"],[\"Blood Diamond (2006)\"],[\"Dead Poets Society (1989)\"],[\"Apocalypse Now (1979)\"],[\"Family Stone, The (2005)\"],[\"Book of Eli, The (2010)\"],[\"Passenger 57 (1992)\"],[\"Mr. Holland's Opus (1995)\"],[\"Amores Perros (Love's a Bitch) (2000)\"],[\"Lost World: Jurassic Park, The (1997)\"],[\"Grease (1978)\"],[\"Star Wars: Episode I - The Phantom Menace (1999)\"],[\"Akira Kurosawa's Dreams (Dreams) (1990)\"],[\"Tron: Legacy (2010)\"],[\"American Beauty (1999)\"],[\"Sleepy Hollow (1999)\"],[\"Matrix Revolutions, The (2003)\"],[\"Lord of the Rings: The Two Towers, The (2002)\"],[\"William Shakespeare's Romeo + Juliet (1996)\"],[\"Last Emperor, The (1987)\"],[\"Gone in 60 Seconds (2000)\"],[\"Total Recall (1990)\"],[\"Closer (2004)\"],[\"Gladiator (2000)\"],[\"Thomas Crown Affair, The (1999)\"],[\"American Beauty (1999)\"],[\"McHale's Navy (1997)\"],[\"L.A. Story (1991)\"],[\"I Shot Andy Warhol (1996)\"],[\"Wolf (1994)\"],[\"Copycat (1995)\"],[\"Toy Story (1995)\"],[\"Halloween II (1981)\"],[\"Lord of the Rings: The Return of the King, The (2003)\"],[\"Lord of the Rings: The Return of the King, The (2003)\"],[\"Ocean's Eleven (2001)\"],[\"Magnum Force (1973)\"],[\"X-Men Origins: Wolverine (2009)\"],[\"Fugitive, The (1993)\"],[\"Terminator 3: Rise of the Machines (2003)\"],[\"Sixth Sense, The (1999)\"],[\"Saint, The (1997)\"],[\"E.T. the Extra-Terrestrial (1982)\"],[\"Strange Days (1995)\"],[\"Whale Rider (2002)\"],[\"Grand Budapest Hotel, The (2014)\"],[\"One Flew Over the Cuckoo's Nest (1975)\"],[\"Bourne Identity, The (2002)\"],[\"Goonies, The (1985)\"],[\"Unfaithful (2002)\"],[\"Daybreakers (2010)\"],[\"Austin Powers in Goldmember (2002)\"],[\"GoldenEye (1995)\"],[\"Getaway, The (1972)\"],[\"Hellbound: Hellraiser II (1988)\"],[\"Limelight (1952)\"],[\"Sicko (2007)\"],[\"Cabaret (1972)\"],[\"Romancing the Stone (1984)\"],[\"Titanic (1997)\"],[\"Sleepless in Seattle (1993)\"],[\"Office Space (1999)\"],[\"Two if by Sea (1996)\"],[\"Sum of All Fears, The (2002)\"],[\"Rain Man (1988)\"],[\"Craft, The (1996)\"],[\"American Werewolf in London, An (1981)\"],[\"Heathers (1989)\"],[\"Anna and the King (1999)\"],[\"Social Network, The (2010)\"],[\"Total Recall (1990)\"],[\"Untouchables, The (1987)\"],[\"Rashomon (Rash\\u00f4mon) (1950)\"],[\"Trekkies (1997)\"],[\"Turner & Hooch (1989)\"],[\"Highlander III: The Sorcerer (a.k.a. Highlander: The Final Dimension) (1994)\"],[\"True Lies (1994)\"],[\"Repo Man (1984)\"],[\"Gladiator (2000)\"],[\"Fisher King, The (1991)\"],[\"My Fellow Americans (1996)\"],[\"Clerks II (2006)\"],[\"American Beauty (1999)\"],[\"Erin Brockovich (2000)\"],[\"Terminator 2: Judgment Day (1991)\"],[\"Wallace & Gromit: The Wrong Trousers (1993)\"],[\"Lock, Stock & Two Smoking Barrels (1998)\"],[\"Life of Pi (2012)\"],[\"Messenger: The Story of Joan of Arc, The (1999)\"],[\"American Psycho (2000)\"],[\"Armageddon (1998)\"],[\"Elephant Man, The (1980)\"],[\"Bulletproof Monk (2003)\"],[\"Primary Colors (1998)\"],[\"Beavis and Butt-Head Do America (1996)\"],[\"Jewel of the Nile, The (1985)\"],[\"Saw II (2005)\"],[\"Red Rock West (1992)\"],[\"Others, The (2001)\"],[\"Blues Brothers 2000 (1998)\"],[\"Natural, The (1984)\"],[\"Days of Thunder (1990)\"],[\"Body Heat (1981)\"],[\"Big (1988)\"],[\"Tombstone (1993)\"],[\"Wallace & Gromit in The Curse of the Were-Rabbit (2005)\"],[\"Proposition, The (2005)\"],[\"Eraser (1996)\"],[\"Meet Joe Black (1998)\"],[\"Donnie Darko (2001)\"],[\"Ice Age (2002)\"],[\"Prestige, The (2006)\"],[\"Sabrina (1995)\"],[\"Party Girl (1995)\"],[\"Outbreak (1995)\"],[\"Much Ado About Nothing (1993)\"],[\"Donnie Darko (2001)\"],[\"Shrek (2001)\"],[\"Annie Hall (1977)\"],[\"Legend of Drunken Master, The (Jui kuen II) (1994)\"],[\"Soylent Green (1973)\"],[\"English Patient, The (1996)\"],[\"Indiana Jones and the Kingdom of the Crystal Skull (2008)\"],[\"Dave (1993)\"],[\"Tarzan and the Lost City (1998)\"],[\"Producers, The (1968)\"],[\"Little Princess, The (1939)\"],[\"6th Day, The (2000)\"],[\"True Lies (1994)\"],[\"Chocolat (2000)\"],[\"Squid and the Whale, The (2005)\"],[\"Pirates of the Caribbean: The Curse of the Black Pearl (2003)\"],[\"Chasing Amy (1997)\"],[\"Splash (1984)\"],[\"Malcolm X (1992)\"],[\"In the Line of Fire (1993)\"],[\"Kill Bill: Vol. 2 (2004)\"],[\"Usual Suspects, The (1995)\"],[\"Three Kings (1999)\"],[\"Blob, The (1988)\"],[\"Crimson Tide (1995)\"],[\"Drop Zone (1994)\"],[\"Regarding Henry (1991)\"],[\"Fair Game (2010)\"],[\"Bug's Life, A (1998)\"],[\"Carrie (1976)\"],[\"I, Robot (2004)\"],[\"Wackness, The (2008)\"],[\"Roxanne (1987)\"],[\"X-Men: First Class (2011)\"],[\"Star Trek II: The Wrath of Khan (1982)\"],[\"War of the Roses, The (1989)\"],[\"Star Trek: The Motion Picture (1979)\"],[\"Roger & Me (1989)\"],[\"Sandlot, The (1993)\"],[\"Slumdog Millionaire (2008)\"],[\"Beautiful Mind, A (2001)\"],[\"Indiana Jones and the Temple of Doom (1984)\"],[\"Great Race, The (1965)\"],[\"Dangerous Liaisons (1988)\"],[\"Rocketeer, The (1991)\"],[\"Terminator 2: Judgment Day (1991)\"],[\"Green Street Hooligans (a.k.a. Hooligans) (2005)\"],[\"E.T. the Extra-Terrestrial (1982)\"],[\"Matrix, The (1999)\"],[\"Liar Liar (1997)\"],[\"American History X (1998)\"],[\"Charade (1963)\"],[\"Battlefield Earth (2000)\"],[\"Full Monty, The (1997)\"],[\"Almost Famous (2000)\"],[\"Men in Black (a.k.a. MIB) (1997)\"],[\"Whole Nine Yards, The (2000)\"],[\"Age of Innocence, The (1993)\"],[\"London (2005)\"],[\"Small Time Crooks (2000)\"],[\"Better Off Dead... (1985)\"],[\"Immortal Beloved (1994)\"],[\"Net, The (1995)\"],[\"Mission: Impossible II (2000)\"],[\"Thelma & Louise (1991)\"],[\"When Harry Met Sally... (1989)\"],[\"Angel-A (2005)\"],[\"Breakfast of Champions (1999)\"],[\"WALL\\u00b7E (2008)\"],[\"Spice World (1997)\"],[\"Jumanji (1995)\"],[\"Mary Shelley's Frankenstein (Frankenstein) (1994)\"],[\"Shawshank Redemption, The (1994)\"],[\"Perfect Storm, The (2000)\"],[\"Three Kings (1999)\"],[\"Fifth Element, The (1997)\"],[\"Shampoo (1975)\"],[\"Tailor of Panama, The (2001)\"],[\"American Sniper (2014)\"],[\"Good Will Hunting (1997)\"],[\"Jungle2Jungle (a.k.a. Jungle 2 Jungle) (1997)\"],[\"King and I, The (1956)\"],[\"Indian in the Cupboard, The (1995)\"],[\"Caddyshack (1980)\"],[\"Pulp Fiction (1994)\"],[\"Orange County (2002)\"],[\"Mummy, The (1999)\"],[\"American President, The (1995)\"],[\"And Your Mother Too (Y tu mam\\u00e1 tambi\\u00e9n) (2001)\"],[\"Harry Potter and the Sorcerer's Stone (a.k.a. Harry Potter and the Philosopher's Stone) (2001)\"],[\"Mission to Mars (2000)\"],[\"X2: X-Men United (2003)\"],[\"Ransom (1996)\"],[\"Phone Booth (2002)\"],[\"Quadrophenia (1979)\"],[\"Howl's Moving Castle (Hauru no ugoku shiro) (2004)\"],[\"Monty Python's Life of Brian (1979)\"],[\"Tie Me Up! Tie Me Down! (\\u00a1\\u00c1tame!) (1990)\"],[\"Man for All Seasons, A (1966)\"],[\"Mary Poppins (1964)\"],[\"American Werewolf in Paris, An (1997)\"],[\"Shallow Hal (2001)\"],[\"Deep Blue Sea (1999)\"],[\"Outbreak (1995)\"],[\"Nausica\\u00e4 of the Valley of the Wind (Kaze no tani no Naushika) (1984)\"],[\"Hoop Dreams (1994)\"],[\"16 Blocks (2006)\"],[\"Terminator 2: Judgment Day (1991)\"],[\"Nutty Professor, The (1996)\"],[\"Doctor Zhivago (1965)\"],[\"American Werewolf in London, An (1981)\"],[\"Natural Born Killers (1994)\"],[\"Hobbit: An Unexpected Journey, The (2012)\"],[\"High Fidelity (2000)\"],[\"Desperado (1995)\"],[\"Dial M for Murder (1954)\"],[\"Who's Harry Crumb? (1989)\"],[\"King Kong (1933)\"],[\"Braveheart (1995)\"],[\"Guns of Navarone, The (1961)\"],[\"Top Gun (1986)\"],[\"Batman Begins (2005)\"],[\"Cinemania (2002)\"],[\"Eyes Wide Shut (1999)\"],[\"Kingpin (1996)\"],[\"Beavis and Butt-Head Do America (1996)\"],[\"Jacob's Ladder (1990)\"],[\"My Cousin Vinny (1992)\"],[\"Tootsie (1982)\"],[\"Terminator 2: Judgment Day (1991)\"],[\"Another 48 Hrs. (1990)\"],[\"Coraline (2009)\"],[\"Bachelor, The (1999)\"],[\"Dances with Wolves (1990)\"],[\"Confessions of a Dangerous Mind (2002)\"],[\"Final Destination, The (Final Destination 4) (Final Destination in 3-D, The) (2009)\"],[\"Limey, The (1999)\"],[\"Armageddon (1998)\"],[\"North by Northwest (1959)\"],[\"Colour of Magic, The (Terry Pratchett's The Colour of Magic) (2008)\"],[\"Twelve Monkeys (a.k.a. 12 Monkeys) (1995)\"],[\"Milk Money (1994)\"],[\"Life Less Ordinary, A (1997)\"],[\"Beautiful Mind, A (2001)\"],[\"Ace Ventura: Pet Detective (1994)\"],[\"Pretty Woman (1990)\"],[\"Fog, The (1980)\"],[\"Last King of Scotland, The (2006)\"],[\"When Harry Met Sally... (1989)\"],[\"Shrek (2001)\"],[\"Batman Forever (1995)\"],[\"Runaway Jury (2003)\"],[\"Godzilla 2000 (Gojira ni-sen mireniamu) (1999)\"],[\"Willow (1988)\"],[\"World Is Not Enough, The (1999)\"],[\"Serial Mom (1994)\"],[\"Dressed to Kill (1980)\"],[\"Brighton Beach Memoirs (1986)\"],[\"Arsenic and Old Lace (1944)\"],[\"Beverly Hills Cop (1984)\"],[\"Dude, Where's My Car? (2000)\"],[\"What's Eating Gilbert Grape (1993)\"],[\"Drugstore Cowboy (1989)\"],[\"Papillon (1973)\"],[\"Maltese Falcon, The (1941)\"],[\"Ghost Dad (1990)\"],[\"Lord of the Rings: The Return of the King, The (2003)\"],[\"Sliding Doors (1998)\"],[\"Catch Me If You Can (2002)\"],[\"Lilo & Stitch (2002)\"],[\"Cube (1997)\"],[\"Sweet Smell of Success (1957)\"],[\"Run Lola Run (Lola rennt) (1998)\"],[\"Dr. Dolittle 2 (2001)\"],[\"Taming of the Shrew, The (1967)\"],[\"Cold Mountain (2003)\"],[\"Femme Nikita, La (Nikita) (1990)\"],[\"Office Space (1999)\"],[\"Firestorm (1998)\"],[\"Wallace & Gromit in The Curse of the Were-Rabbit (2005)\"],[\"Because I Said So (2007)\"],[\"Nightmare on Elm Street, A (1984)\"],[\"Twelfth Night (1996)\"],[\"Shakespeare in Love (1998)\"],[\"Laputa: Castle in the Sky (Tenk\\u00fb no shiro Rapyuta) (1986)\"],[\"Ever After: A Cinderella Story (1998)\"],[\"Junior (1994)\"],[\"GoldenEye (1995)\"],[\"Vertigo (1958)\"],[\"Love and Death (1975)\"],[\"Breathless (\\u00c0 bout de souffle) (1960)\"],[\"Inspector Gadget (1999)\"],[\"Star Wars: Episode VI - Return of the Jedi (1983)\"],[\"Magnolia (1999)\"],[\"Emperor's New Groove, The (2000)\"],[\"P.S. I Love You (2007)\"],[\"Breakfast Club, The (1985)\"],[\"Gone with the Wind (1939)\"],[\"NeverEnding Story, The (1984)\"],[\"Incredible Hulk, The (2008)\"],[\"Philadelphia (1993)\"],[\"Batman (1989)\"],[\"Transamerica (2005)\"],[\"Rush Hour (1998)\"],[\"Dames du Bois de Boulogne, Les (Ladies of the Bois de Boulogne, The) (Ladies of the Park) (1945)\"],[\"Green Mile, The (1999)\"],[\"National Treasure: Book of Secrets (2007)\"],[\"Pianist, The (2002)\"],[\"Without Limits (1998)\"],[\"Any Given Sunday (1999)\"],[\"Cable Guy, The (1996)\"],[\"Traffic (2000)\"],[\"Silence of the Lambs, The (1991)\"],[\"Nine Months (1995)\"],[\"Ace Ventura: When Nature Calls (1995)\"],[\"Pretty in Pink (1986)\"],[\"For Love of the Game (1999)\"],[\"Things to Do in Denver When You're Dead (1995)\"],[\"Silence of the Lambs, The (1991)\"],[\"American Pie 2 (2001)\"],[\"Dr. Strangelove or: How I Learned to Stop Worrying and Love the Bomb (1964)\"],[\"Jack (1996)\"],[\"Master and Commander: The Far Side of the World (2003)\"],[\"Blade Runner (1982)\"],[\"Me, Myself & Irene (2000)\"],[\"Harmonists, The (1997)\"],[\"F/X (1986)\"],[\"Rumble in the Bronx (Hont faan kui) (1995)\"],[\"American Splendor (2003)\"],[\"Dracula: Dead and Loving It (1995)\"],[\"Kiss Kiss Bang Bang (2005)\"],[\"Mortal Thoughts (1991)\"],[\"Get Bruce (1999)\"],[\"Assassins (1995)\"],[\"Sky Captain and the World of Tomorrow (2004)\"],[\"Wayne's World (1992)\"],[\"Graduate, The (1967)\"],[\"12 Years a Slave (2013)\"],[\"Catch Me If You Can (2002)\"],[\"Third Man, The (1949)\"],[\"Crocodile Dundee (1986)\"],[\"Notting Hill (1999)\"],[\"Fugitive, The (1993)\"],[\"Full Metal Jacket (1987)\"],[\"Bandslam (2009)\"],[\"Rugrats in Paris: The Movie (2000)\"],[\"Dragonheart (1996)\"],[\"Mr. Holland's Opus (1995)\"],[\"Big Lebowski, The (1998)\"],[\"Raiders of the Lost Ark (Indiana Jones and the Raiders of the Lost Ark) (1981)\"],[\"Quiet Man, The (1952)\"],[\"Serenity (2005)\"],[\"Wag the Dog (1997)\"],[\"Mrs. Doubtfire (1993)\"],[\"Chocolat (2000)\"],[\"Iron Man (2008)\"],[\"Insider, The (1999)\"],[\"Gerry (2002)\"],[\"My Dinner with Andr\\u00e9 (1981)\"],[\"Summer of '42 (1971)\"],[\"Saving Private Ryan (1998)\"],[\"Drop Dead Gorgeous (1999)\"],[\"African Queen, The (1951)\"],[\"First Daughter (2004)\"],[\"Seven (a.k.a. Se7en) (1995)\"],[\"From Hell (2001)\"],[\"Star Trek: The Motion Picture (1979)\"],[\"Bad Taste (1987)\"],[\"I, Robot (2004)\"],[\"Raiders of the Lost Ark (Indiana Jones and the Raiders of the Lost Ark) (1981)\"],[\"Casper (1995)\"],[\"Grandma's Boy (2006)\"],[\"Vera Drake (2004)\"],[\"Rock, The (1996)\"],[\"Specialist, The (1994)\"],[\"Best Years of Our Lives, The (1946)\"],[\"Rocky Horror Picture Show, The (1975)\"],[\"Batman (1989)\"],[\"Jack (1996)\"],[\"Raiders of the Lost Ark (Indiana Jones and the Raiders of the Lost Ark) (1981)\"],[\"Transporter, The (2002)\"],[\"Cinema Paradiso (Nuovo cinema Paradiso) (1989)\"],[\"Rebecca (1940)\"],[\"Quiz Show (1994)\"],[\"Rounders (1998)\"],[\"Gone in 60 Seconds (2000)\"],[\"Get Shorty (1995)\"],[\"Tomorrow Never Dies (1997)\"],[\"Untouchables, The (1987)\"],[\"Hook (1991)\"],[\"Insomnia (2002)\"],[\"Nell (1994)\"],[\"Hot Shots! Part Deux (1993)\"],[\"Dumb & Dumber (Dumb and Dumber) (1994)\"],[\"Scott Pilgrim vs. the World (2010)\"],[\"Back to the Future Part III (1990)\"],[\"Aladdin (1992)\"],[\"Ghost (1990)\"],[\"Black Sheep (1996)\"],[\"Being John Malkovich (1999)\"],[\"Thelma & Louise (1991)\"],[\"Joe Versus the Volcano (1990)\"],[\"True Grit (2010)\"],[\"Borat: Cultural Learnings of America for Make Benefit Glorious Nation of Kazakhstan (2006)\"],[\"Escape from New York (1981)\"],[\"Planet of the Apes (1968)\"],[\"Die Hard: With a Vengeance (1995)\"],[\"Dances with Wolves (1990)\"],[\"Harry Potter and the Sorcerer's Stone (a.k.a. Harry Potter and the Philosopher's Stone) (2001)\"],[\"Evil Dead, The (1981)\"],[\"Who Framed Roger Rabbit? (1988)\"],[\"Independence Day (a.k.a. ID4) (1996)\"],[\"RocknRolla (2008)\"],[\"Canadian Bacon (1995)\"],[\"Teenage Mutant Ninja Turtles III (1993)\"],[\"Dr. Horrible's Sing-Along Blog (2008)\"],[\"Confessions of a Dangerous Mind (2002)\"],[\"Gandhi (1982)\"],[\"Last Emperor, The (1987)\"],[\"Star Trek: The Motion Picture (1979)\"],[\"Fugitive, The (1993)\"],[\"Felicia's Journey (1999)\"],[\"[REC] (2007)\"],[\"Talk to Her (Hable con Ella) (2002)\"],[\"Adventures of Buckaroo Banzai Across the 8th Dimension, The (1984)\"],[\"Mad Hot Ballroom (2005)\"],[\"Teaching Mrs. Tingle (1999)\"],[\"Rapa Nui (1994)\"],[\"Silence of the Lambs, The (1991)\"],[\"Star Trek (2009)\"],[\"Happy Gilmore (1996)\"],[\"Pirates of the Caribbean: Dead Man's Chest (2006)\"],[\"Vegas Vacation (National Lampoon's Las Vegas Vacation) (1997)\"],[\"Shrek (2001)\"],[\"Independence Day (a.k.a. ID4) (1996)\"],[\"About Time (2013)\"],[\"Next (2007)\"],[\"Deconstructing Harry (1997)\"],[\"Dumb & Dumber (Dumb and Dumber) (1994)\"],[\"Three Men and a Little Lady (1990)\"],[\"E.T. the Extra-Terrestrial (1982)\"],[\"How the Grinch Stole Christmas (a.k.a. The Grinch) (2000)\"],[\"So I Married an Axe Murderer (1993)\"],[\"Super 8 (2011)\"],[\"School of Rock (2003)\"],[\"Fantastic Planet, The (Plan\\u00e8te sauvage, La) (1973)\"],[\"Fantasia (1940)\"],[\"Friday the 13th Part 3: 3D (1982)\"],[\"Vincent Wants to Sea (Vincent will meer) (2010)\"],[\"Golden Compass, The (2007)\"],[\"Star Wars: Episode VI - Return of the Jedi (1983)\"],[\"Startup.com (2001)\"],[\"Firm, The (1993)\"],[\"Down Periscope (1996)\"],[\"Scary Movie (2000)\"],[\"Tron (1982)\"],[\"Modern Times (1936)\"],[\"Final Fantasy: The Spirits Within (2001)\"],[\"Shawshank Redemption, The (1994)\"],[\"Roommates (1995)\"],[\"Take the Money and Run (1969)\"],[\"Miracle on 34th Street (1994)\"],[\"Condorman (1981)\"],[\"Braveheart (1995)\"],[\"Larger Than Life (1996)\"],[\"Escape from Alcatraz (1979)\"],[\"Powder (1995)\"],[\"Good, the Bad and the Ugly, The (Buono, il brutto, il cattivo, Il) (1966)\"],[\"Dr. Strangelove or: How I Learned to Stop Worrying and Love the Bomb (1964)\"],[\"End of Days (1999)\"],[\"Book of Shadows: Blair Witch 2 (2000)\"],[\"Evil Dead II (Dead by Dawn) (1987)\"],[\"Deepstar Six (1989)\"],[\"Thin Blue Line, The (1988)\"],[\"Muriel's Wedding (1994)\"],[\"Django Unchained (2012)\"],[\"Lord of the Rings: The Two Towers, The (2002)\"],[\"Terminator 2: Judgment Day (1991)\"],[\"George of the Jungle (1997)\"],[\"Aces: Iron Eagle III (1992)\"],[\"Judge Dredd (1995)\"],[\"Monsters, Inc. (2001)\"],[\"Lord of the Rings: The Two Towers, The (2002)\"],[\"Perks of Being a Wallflower, The (2012)\"],[\"Steel Magnolias (1989)\"],[\"Court Jester, The (1956)\"],[\"They Bite (1996)\"],[\"Ravenous (1999)\"],[\"Taxi Driver (1976)\"],[\"Ghost (1990)\"],[\"South Park: Imaginationland (2008)\"],[\"Sleepless in Seattle (1993)\"],[\"Snoopy Come Home (1972)\"],[\"Serendipity (2001)\"],[\"Army of Darkness (1993)\"],[\"Muppet Movie, The (1979)\"],[\"What Lies Beneath (2000)\"],[\"Star Trek: Generations (1994)\"],[\"London (2005)\"],[\"Mamma Roma (1962)\"],[\"Jurassic Park (1993)\"],[\"Harold and Kumar Go to White Castle (2004)\"],[\"English Patient, The (1996)\"],[\"Outbreak (1995)\"],[\"WarGames (1983)\"],[\"Contact (1997)\"],[\"Cube (1997)\"],[\"Pallbearer, The (1996)\"],[\"Hang 'Em High (1968)\"],[\"Enter the Dragon (1973)\"],[\"Saint, The (1997)\"],[\"Interview with the Vampire: The Vampire Chronicles (1994)\"],[\"Groundhog Day (1993)\"],[\"Apollo 13 (1995)\"],[\"Grease 2 (1982)\"],[\"Day of the Jackal, The (1973)\"],[\"Trapped (2002)\"],[\"Juno (2007)\"],[\"Forrest Gump (1994)\"],[\"Rules of the Game, The (La r\\u00e8gle du jeu) (1939)\"],[\"Liar Liar (1997)\"],[\"Scratch (2001)\"],[\"Monty Python's The Meaning of Life (1983)\"],[\"Stranger than Fiction (2006)\"],[\"Eraser (1996)\"],[\"Husbands and Wives (1992)\"],[\"It's a Wonderful Life (1946)\"],[\"Forrest Gump (1994)\"],[\"Bronx Tale, A (1993)\"],[\"As Good as It Gets (1997)\"],[\"Star Wars: Episode V - The Empire Strikes Back (1980)\"],[\"Blade Runner (1982)\"],[\"Alien (1979)\"],[\"Unleashed (Danny the Dog) (2005)\"],[\"Ice Storm, The (1997)\"],[\"Red Riding Hood (2011)\"],[\"Slumdog Millionaire (2008)\"],[\"Ballad of Narayama, The (Narayama Bushiko) (1958)\"],[\"Star Trek: Insurrection (1998)\"],[\"Men in Black II (a.k.a. MIIB) (a.k.a. MIB 2) (2002)\"],[\"Walk Among the Tombstones, A (2014)\"],[\"Beauty Shop (2005)\"],[\"Chicago (2002)\"],[\"Exorcist, The (1973)\"],[\"Sleepy Hollow (1999)\"],[\"Mary Poppins (1964)\"],[\"Sixth Sense, The (1999)\"],[\"Dr. Dolittle (1998)\"],[\"Die Hard: With a Vengeance (1995)\"],[\"Devil's Advocate, The (1997)\"],[\"Thirteenth Floor, The (1999)\"],[\"Forrest Gump (1994)\"],[\"Star Wars: Episode II - Attack of the Clones (2002)\"],[\"To Catch a Thief (1955)\"],[\"Donnie Darko (2001)\"],[\"Seabiscuit (2003)\"],[\"Lost World: Jurassic Park, The (1997)\"],[\"Kolmistaan (2008)\"],[\"Rundown, The (2003)\"],[\"Blue Angel, The (Blaue Engel, Der) (1930)\"],[\"Meet the Parents (2000)\"],[\"Exit Through the Gift Shop (2010)\"],[\"Metro (1997)\"],[\"Running on Empty (1988)\"],[\"Simpsons Movie, The (2007)\"],[\"Home for the Holidays (1995)\"],[\"Mission: Impossible II (2000)\"],[\"Speed 2: Cruise Control (1997)\"],[\"Nine Months (1995)\"],[\"Dangerous Minds (1995)\"],[\"Chinatown (1974)\"],[\"Silence of the Lambs, The (1991)\"],[\"Happy Gilmore (1996)\"],[\"Meet the Parents (2000)\"],[\"(500) Days of Summer (2009)\"],[\"Dracula: Dead and Loving It (1995)\"],[\"Negotiator, The (1998)\"],[\"10 Things I Hate About You (1999)\"],[\"Man with the Golden Gun, The (1974)\"],[\"Four Weddings and a Funeral (1994)\"],[\"Chungking Express (Chung Hing sam lam) (1994)\"],[\"Twelve Monkeys (a.k.a. 12 Monkeys) (1995)\"],[\"Risky Business (1983)\"],[\"Night at the Opera, A (1935)\"],[\"Washington Square (1997)\"],[\"Richie Rich (1994)\"],[\"Election (1999)\"],[\"Dark City (1998)\"],[\"Pursuit of Happyness, The (2006)\"],[\"Grand Hotel (1932)\"],[\"Harry Potter and the Order of the Phoenix (2007)\"],[\"Piano, The (1993)\"],[\"Austin Powers: The Spy Who Shagged Me (1999)\"],[\"First Wives Club, The (1996)\"],[\"Dr. Strangelove or: How I Learned to Stop Worrying and Love the Bomb (1964)\"],[\"Legends of the Fall (1994)\"],[\"Lara Croft: Tomb Raider (2001)\"],[\"101 Reykjavik (101 Reykjav\\u00edk) (2000)\"],[\"Willow (1988)\"],[\"Silence of the Lambs, The (1991)\"],[\"Red Desert (Deserto rosso, Il) (1964)\"],[\"Tales from the Darkside: The Movie (1990)\"],[\"Bull Durham (1988)\"],[\"Peter Pan (1953)\"],[\"Chasing Amy (1997)\"],[\"Jumanji (1995)\"],[\"American History X (1998)\"],[\"Phantom, The (1996)\"],[\"Gremlins 2: The New Batch (1990)\"],[\"Jerry Maguire (1996)\"],[\"Babe (1995)\"],[\"Godfather, The (1972)\"],[\"Saving Private Ryan (1998)\"],[\"And Your Mother Too (Y tu mam\\u00e1 tambi\\u00e9n) (2001)\"],[\"Johnny Mnemonic (1995)\"],[\"Schindler's List (1993)\"],[\"Tombstone (1993)\"],[\"Ransom (1996)\"],[\"Liar Liar (1997)\"],[\"Fisher King, The (1991)\"],[\"Mad Max (1979)\"],[\"Stardust (2007)\"],[\"Brainstorm (1983)\"],[\"Serial Mom (1994)\"],[\"Shrek (2001)\"],[\"Con Air (1997)\"],[\"12 Rounds (2009)\"],[\"English Patient, The (1996)\"],[\"Gattaca (1997)\"],[\"Robin Hood: Men in Tights (1993)\"],[\"Saved! (2004)\"],[\"Super Mario Bros. (1993)\"],[\"Moonraker (1979)\"],[\"Last House on the Left, The (1972)\"],[\"Indiana Jones and the Temple of Doom (1984)\"],[\"Nine Months (1995)\"],[\"Jungle Book, The (1967)\"],[\"Phone Booth (2002)\"],[\"Bad Boys (1995)\"],[\"Guns of Navarone, The (1961)\"],[\"I.Q. (1994)\"],[\"Jewel of the Nile, The (1985)\"],[\"Bill & Ted's Excellent Adventure (1989)\"],[\"Loser (2000)\"],[\"Three Stooges, The (2012)\"],[\"Wag the Dog (1997)\"],[\"Meet the Parents (2000)\"],[\"North by Northwest (1959)\"],[\"Panic Room (2002)\"],[\"Sphere (1998)\"],[\"Jungle Book, The (1967)\"],[\"Notorious (1946)\"],[\"Dead Man Walking (1995)\"],[\"Crouching Tiger, Hidden Dragon (Wo hu cang long) (2000)\"],[\"Mister Roberts (1955)\"],[\"Eraser (1996)\"],[\"Fifth Element, The (1997)\"],[\"Sonatine (Sonachine) (1993)\"],[\"Someone Like You (2001)\"],[\"Almost Famous (2000)\"],[\"Babe (1995)\"],[\"Grifters, The (1990)\"],[\"Planet Terror (2007)\"],[\"Swordfish (2001)\"],[\"Young Frankenstein (1974)\"],[\"Superman III (1983)\"],[\"Paris Was a Woman (1995)\"],[\"Tombstone (1993)\"],[\"Pearl Harbor (2001)\"],[\"Happiness (1998)\"],[\"Ice Age 2: The Meltdown (2006)\"],[\"Taxi Driver (1976)\"],[\"Analyze This (1999)\"],[\"Mission: Impossible (1996)\"],[\"Business of Fancydancing, The (2002)\"],[\"Look Who's Talking Too (1990)\"],[\"Good, the Bad and the Ugly, The (Buono, il brutto, il cattivo, Il) (1966)\"],[\"Tron: Legacy (2010)\"],[\"Blair Witch Project, The (1999)\"],[\"Dead Alive (Braindead) (1992)\"],[\"Batman Forever (1995)\"],[\"Chocolat (2000)\"],[\"Titanic (1997)\"],[\"Toy Story (1995)\"],[\"Fast Times at Ridgemont High (1982)\"],[\"Barbarella (1968)\"],[\"Caligula (1979)\"],[\"Along Came a Spider (2001)\"],[\"Jerry Maguire (1996)\"],[\"While You Were Sleeping (1995)\"],[\"Aladdin and the King of Thieves (1996)\"],[\"M*A*S*H (a.k.a. MASH) (1970)\"],[\"Sweetest Thing, The (2002)\"],[\"Piano, The (1993)\"],[\"Deep Red (Profondo rosso) (1975)\"],[\"Night of the Living Dead (1968)\"],[\"My Best Friend's Wedding (1997)\"],[\"Final Fantasy: The Spirits Within (2001)\"],[\"Madness of King George, The (1994)\"],[\"Dreamgirls (2006)\"],[\"Goonies, The (1985)\"],[\"Gone in 60 Seconds (2000)\"],[\"Seven (a.k.a. Se7en) (1995)\"],[\"Pollock (2000)\"],[\"Prestige, The (2006)\"],[\"Bonnie and Clyde (1967)\"],[\"Last Emperor, The (1987)\"],[\"Star Wars: Episode VI - Return of the Jedi (1983)\"],[\"Mickey Blue Eyes (1999)\"],[\"I Love You, Man (2009)\"],[\"Red Planet (2000)\"],[\"Brazil (1985)\"],[\"Fatal Instinct (1993)\"],[\"Superman (1978)\"],[\"Never Say Never Again (1983)\"],[\"Born on the Fourth of July (1989)\"],[\"Sleepy Hollow (1999)\"],[\"American Splendor (2003)\"],[\"Shadow of the Vampire (2000)\"],[\"Dance with Me (1998)\"],[\"Enron: The Smartest Guys in the Room (2005)\"],[\"Monty Python and the Holy Grail (1975)\"],[\"Catch Me If You Can (2002)\"],[\"Halloween 4: The Return of Michael Myers (1988)\"],[\"Frequency (2000)\"],[\"Fatal Attraction (1987)\"],[\"L.A. Confidential (1997)\"],[\"As Good as It Gets (1997)\"],[\"Magnolia (1999)\"],[\"Star Wars: Episode VI - Return of the Jedi (1983)\"],[\"One Flew Over the Cuckoo's Nest (1975)\"],[\"Fletch (1985)\"],[\"Luzhin Defence, The (2000)\"],[\"Terminator, The (1984)\"],[\"Devil and Max Devlin, The (1981)\"],[\"Atlantis: The Lost Empire (2001)\"],[\"Intouchables (2011)\"],[\"Kid in King Arthur's Court, A (1995)\"],[\"Thomas Crown Affair, The (1999)\"],[\"Birdy (1984)\"],[\"Boogie Nights (1997)\"],[\"Commitments, The (1991)\"],[\"Terminator Salvation (2009)\"],[\"Grease (1978)\"],[\"Mulholland Drive (2001)\"],[\"Crash (2004)\"],[\"Tapped (2009)\"],[\"Tarzan (1999)\"],[\"Dr. Dolittle 2 (2001)\"],[\"Bound (1996)\"],[\"Gremlins (1984)\"],[\"Police Academy (1984)\"],[\"Star Wars: Episode I - The Phantom Menace (1999)\"],[\"Star Wars: Episode V - The Empire Strikes Back (1980)\"],[\"Teenage Mutant Ninja Turtles (1990)\"],[\"Pulp Fiction (1994)\"],[\"Lost in Translation (2003)\"],[\"House of Flying Daggers (Shi mian mai fu) (2004)\"],[\"Seven (a.k.a. Se7en) (1995)\"],[\"Planet Terror (2007)\"],[\"Monster's Ball (2001)\"],[\"Breakfast Club, The (1985)\"],[\"Lion King, The (1994)\"],[\"Boomerang (1992)\"],[\"Collateral (2004)\"],[\"Love Jones (1997)\"],[\"Batman (1989)\"],[\"Evil Dead II (Dead by Dawn) (1987)\"],[\"L\\u00e9on: The Professional (a.k.a. The Professional) (L\\u00e9on) (1994)\"],[\"Reds (1981)\"],[\"Dumb & Dumber (Dumb and Dumber) (1994)\"],[\"Shallow Grave (1994)\"],[\"Ever After: A Cinderella Story (1998)\"],[\"Cape Fear (1991)\"],[\"Watchmen (2009)\"],[\"Demolition Man (1993)\"],[\"Hunchback of Notre Dame, The (1996)\"],[\"Truth About Cats & Dogs, The (1996)\"],[\"Being John Malkovich (1999)\"],[\"Frankie and Johnny (1991)\"],[\"Runaway Bride (1999)\"],[\"Ruthless People (1986)\"],[\"Just Visiting (2001)\"],[\"Divorce - Italian Style (Divorzio all'italiana) (1961)\"],[\"Dances with Wolves (1990)\"],[\"Life Is Beautiful (La Vita \\u00e8 bella) (1997)\"],[\"Network (1976)\"],[\"Big Lebowski, The (1998)\"],[\"Mona Lisa (1986)\"],[\"Scream 3 (2000)\"],[\"Motorcycle Diaries, The (Diarios de motocicleta) (2004)\"],[\"Giant (1956)\"],[\"Identity (2003)\"],[\"P.S. I Love You (2007)\"],[\"Alien (1979)\"],[\"Matrix Reloaded, The (2003)\"],[\"Dazed and Confused (1993)\"],[\"Terminator 2: Judgment Day (1991)\"],[\"Crash (2004)\"],[\"Grand Day Out with Wallace and Gromit, A (1989)\"],[\"Body Parts (1991)\"],[\"Raising Arizona (1987)\"],[\"101 Dalmatians (1996)\"],[\"Tombstone (1993)\"],[\"Mission: Impossible (1996)\"],[\"Old School (2003)\"],[\"Emma (1996)\"],[\"Star Wars: Episode V - The Empire Strikes Back (1980)\"],[\"Independence Day (a.k.a. ID4) (1996)\"],[\"One Flew Over the Cuckoo's Nest (1975)\"],[\"Willy Wonka & the Chocolate Factory (1971)\"],[\"Juno (2007)\"],[\"Mission: Impossible (1996)\"],[\"High Noon (1952)\"],[\"Catch Me If You Can (2002)\"],[\"William Shakespeare's Romeo + Juliet (1996)\"],[\"Child's Play 3 (1991)\"],[\"Waterworld (1995)\"],[\"Heat (1995)\"],[\"Red Sonja (1985)\"],[\"Babe (1995)\"],[\"Rambling Rose (1991)\"],[\"Rundown, The (2003)\"],[\"Firm, The (1993)\"],[\"Godfather, The (1972)\"],[\"Romancing the Stone (1984)\"],[\"Dead Man Walking (1995)\"],[\"Last King of Scotland, The (2006)\"],[\"Benny & Joon (1993)\"],[\"In America (2002)\"],[\"Babe: Pig in the City (1998)\"],[\"Richie Rich (1994)\"],[\"Nausica\\u00e4 of the Valley of the Wind (Kaze no tani no Naushika) (1984)\"],[\"Mask, The (1994)\"],[\"Final Fantasy: The Spirits Within (2001)\"],[\"Blade Runner (1982)\"],[\"Sleeper (1973)\"],[\"Romancing the Stone (1984)\"],[\"Terminator 2: Judgment Day (1991)\"],[\"I Love Trouble (1994)\"],[\"Love in the Afternoon (1957)\"],[\"Maximum Overdrive (1986)\"],[\"Aliens (1986)\"],[\"Broken Arrow (1996)\"],[\"Friday the 13th Part VII: The New Blood (1988)\"],[\"Wit (2001)\"],[\"Say Anything... (1989)\"],[\"Ed Wood (1994)\"],[\"Weird Science (1985)\"],[\"Patriot, The (2000)\"],[\"Star Wars: Episode IV - A New Hope (1977)\"],[\"Jawbreaker (1999)\"],[\"Match Point (2005)\"],[\"Brazil (1985)\"],[\"Santa Clause, The (1994)\"],[\"Brady Bunch Movie, The (1995)\"],[\"Cast Away (2000)\"],[\"Ghost and the Darkness, The (1996)\"],[\"Taxi Driver (1976)\"],[\"Silence of the Lambs, The (1991)\"],[\"Superman (1978)\"],[\"Brain That Wouldn't Die, The (1962)\"],[\"Little Mermaid, The (1989)\"],[\"Finding Nemo (2003)\"],[\"Total Recall (1990)\"],[\"Paris Was a Woman (1995)\"],[\"Shawshank Redemption, The (1994)\"],[\"Apollo 13 (1995)\"],[\"Runaway Jury (2003)\"],[\"Yellow Submarine (1968)\"],[\"Ice Age (2002)\"],[\"Life Is Beautiful (La Vita \\u00e8 bella) (1997)\"],[\"Back to the Future (1985)\"],[\"Space Jam (1996)\"],[\"Gran Torino (2008)\"],[\"Team America: World Police (2004)\"],[\"Thing, The (2011)\"],[\"In the Line of Fire (1993)\"],[\"Panic Room (2002)\"],[\"After Earth (2013)\"],[\"Death and the Maiden (1994)\"],[\"Serial Mom (1994)\"],[\"Along Came a Spider (2001)\"],[\"Galaxy Quest (1999)\"],[\"Fahrenheit 9/11 (2004)\"],[\"RocketMan (a.k.a. Rocket Man) (1997)\"],[\"Independence Day (a.k.a. ID4) (1996)\"],[\"Julie & Julia (2009)\"],[\"Barry Lyndon (1975)\"],[\"Seventh Seal, The (Sjunde inseglet, Det) (1957)\"],[\"Star Trek VI: The Undiscovered Country (1991)\"],[\"Pulp Fiction (1994)\"],[\"Avventura, L' (Adventure, The) (1960)\"],[\"Three Musketeers, The (1993)\"],[\"D\\u00e9j\\u00e0 Vu (Deja Vu) (2006)\"],[\"Grapes of Wrath, The (1940)\"],[\"Four Weddings and a Funeral (1994)\"],[\"Raging Bull (1980)\"],[\"Toy Story (1995)\"],[\"Everyone Says I Love You (1996)\"],[\"Star Trek II: The Wrath of Khan (1982)\"],[\"Disclosure (1994)\"],[\"Ocean's Twelve (2004)\"],[\"Feast (2005)\"],[\"Mrs. Doubtfire (1993)\"],[\"Crimson Tide (1995)\"],[\"Child's Play 3 (1991)\"],[\"Charlie's Angels (2000)\"],[\"School of Rock (2003)\"],[\"Bliss (1997)\"],[\"Man in the Iron Mask, The (1998)\"],[\"Event Horizon (1997)\"],[\"Psycho (1960)\"],[\"Rundown, The (2003)\"],[\"Dr. Strangelove or: How I Learned to Stop Worrying and Love the Bomb (1964)\"],[\"Boys Don't Cry (1999)\"],[\"Matilda (1996)\"],[\"Express, The (2008)\"],[\"My Fair Lady (1964)\"],[\"Romeo and Juliet (1968)\"],[\"Die Hard: With a Vengeance (1995)\"],[\"Shining, The (1980)\"],[\"Raiders of the Lost Ark (Indiana Jones and the Raiders of the Lost Ark) (1981)\"],[\"All the King's Men (1949)\"],[\"Godzilla, King of the Monsters! (Kaij\\u00fb-\\u00f4 Gojira) (1956)\"],[\"Little Miss Sunshine (2006)\"],[\"Once (2006)\"],[\"Apartment, The (1960)\"],[\"Total Recall (1990)\"],[\"Cold Mountain (2003)\"],[\"Beverly Hillbillies, The (1993)\"],[\"Flintstones, The (1994)\"],[\"Speed (1994)\"],[\"Monster's Ball (2001)\"],[\"Dances with Wolves (1990)\"],[\"Pulp Fiction (1994)\"],[\"Full Monty, The (1997)\"],[\"Peacemaker, The (1997)\"],[\"Ben-Hur (1959)\"],[\"Avatar (2009)\"],[\"Goonies, The (1985)\"],[\"Rosemary's Baby (1968)\"],[\"Starred Up (2013)\"],[\"Bridge on the River Kwai, The (1957)\"],[\"True Believer (1989)\"],[\"Addams Family Values (1993)\"],[\"Lives of Others, The (Das leben der Anderen) (2006)\"],[\"Heavenly Creatures (1994)\"],[\"Kill Bill: Vol. 2 (2004)\"],[\"Cat in the Hat, The (2003)\"],[\"Office Space (1999)\"],[\"Star Trek: The Motion Picture (1979)\"],[\"District 9 (2009)\"],[\"Thirty-Two Short Films About Glenn Gould (1993)\"],[\"Lord of the Rings: The Fellowship of the Ring, The (2001)\"],[\"Matrix, The (1999)\"],[\"Halloween (1978)\"],[\"Science of Sleep, The (La science des r\\u00eaves) (2006)\"],[\"X-Men (2000)\"],[\"Wreck of the Mary Deare, The (1959)\"],[\"Looking for Richard (1996)\"],[\"Tucker & Dale vs Evil (2010)\"],[\"Tin Men (1987)\"],[\"American History X (1998)\"],[\"Say Anything... (1989)\"],[\"Amadeus (1984)\"],[\"American President, The (1995)\"],[\"Ace Ventura: Pet Detective (1994)\"],[\"Men in Black (a.k.a. MIB) (1997)\"],[\"Some Like It Hot (1959)\"],[\"Flashdance (1983)\"],[\"Batman Begins (2005)\"],[\"Stripes (1981)\"],[\"Curly Top (1935)\"],[\"Men in Black II (a.k.a. MIIB) (a.k.a. MIB 2) (2002)\"],[\"About a Boy (2002)\"],[\"Foxfire (1996)\"],[\"Four Weddings and a Funeral (1994)\"],[\"Blues Brothers, The (1980)\"],[\"Kill Bill: Vol. 2 (2004)\"],[\"Philadelphia (1993)\"],[\"Incredible Shrinking Woman, The (1981)\"],[\"Shine (1996)\"],[\"Fantasia (1940)\"],[\"Da Vinci Code, The (2006)\"],[\"Just Cause (1995)\"],[\"Wonderful, Horrible Life of Leni Riefenstahl, The (Macht der Bilder: Leni Riefenstahl, Die) (1993)\"],[\"Dances with Wolves (1990)\"],[\"Shallow Hal (2001)\"],[\"Starship Troopers 3: Marauder (2008)\"],[\"Verdict, The (1982)\"],[\"Last Detail, The (1973)\"],[\"Rocky IV (1985)\"],[\"25th Hour (2002)\"],[\"Tomorrow Never Dies (1997)\"],[\"101 Dalmatians (One Hundred and One Dalmatians) (1961)\"],[\"Bug's Life, A (1998)\"],[\"Outbreak (1995)\"],[\"Top Gun (1986)\"],[\"Crimson Pirate, The (1952)\"],[\"Lust, Caution (Se, jie) (2007)\"],[\"Pirates of the Caribbean: Dead Man's Chest (2006)\"],[\"Ghost (1990)\"],[\"Serenity (2005)\"],[\"Stranger than Fiction (2006)\"],[\"Little Nicky (2000)\"],[\"Norbit (2007)\"],[\"Lord of the Rings: The Fellowship of the Ring, The (2001)\"],[\"Blues Brothers, The (1980)\"],[\"Armageddon (1998)\"],[\"Pocahontas (1995)\"],[\"Fried Green Tomatoes (1991)\"],[\"American Beauty (1999)\"],[\"Diamonds Are Forever (1971)\"],[\"Nosferatu the Vampyre (Nosferatu: Phantom der Nacht) (1979)\"],[\"War Dance (2007)\"],[\"Charlie Wilson's War (2007)\"],[\"Mirror Has Two Faces, The (1996)\"],[\"Caveman's Valentine, The (2001)\"],[\"Rush Hour (1998)\"],[\"Tombstone (1993)\"],[\"Carlito's Way (1993)\"],[\"Beetlejuice (1988)\"],[\"Unforgiven (1992)\"],[\"Mighty Aphrodite (1995)\"],[\"Diving Bell and the Butterfly, The (Scaphandre et le papillon, Le) (2007)\"],[\"Next (2007)\"],[\"Election (1999)\"],[\"Spartacus (1960)\"],[\"Pulp Fiction (1994)\"],[\"Bridget Jones's Diary (2001)\"],[\"Life Is Beautiful (La Vita \\u00e8 bella) (1997)\"],[\"Parenthood (1989)\"],[\"Muriel's Wedding (1994)\"],[\"Stargate (1994)\"],[\"Two Weeks Notice (2002)\"],[\"Invictus (2009)\"],[\"Mighty Aphrodite (1995)\"],[\"Blade Runner (1982)\"],[\"See No Evil, Hear No Evil (1989)\"],[\"Candleshoe (1977)\"],[\"Love Actually (2003)\"],[\"Sleeper (1973)\"],[\"Virgin Suicides, The (1999)\"],[\"Whiteboyz (1999)\"],[\"Hunchback of Notre Dame, The (1996)\"],[\"Lost Weekend, The (1945)\"],[\"Limitless (2011)\"],[\"Legends of the Fall (1994)\"],[\"Home Alone (1990)\"],[\"League of Extraordinary Gentlemen, The (a.k.a. LXG) (2003)\"],[\"Knight's Tale, A (2001)\"],[\"Indiana Jones and the Last Crusade (1989)\"],[\"True Romance (1993)\"],[\"Malcolm X (1992)\"],[\"No Country for Old Men (2007)\"],[\"Secrets & Lies (1996)\"],[\"Water for Elephants (2011)\"],[\"No Country for Old Men (2007)\"],[\"Holes (2003)\"],[\"Traffic (2000)\"],[\"Batman Returns (1992)\"],[\"Girl with a Pearl Earring (2003)\"],[\"Pinocchio (1940)\"],[\"Sleepy Hollow (1999)\"],[\"Michael (1996)\"],[\"Devil's Advocate, The (1997)\"],[\"Saving Private Ryan (1998)\"],[\"Babe (1995)\"],[\"Apocalypse Now (1979)\"],[\"Madagascar (2005)\"],[\"In the Name of the Father (1993)\"],[\"Oh, Heavenly Dog! (1980)\"],[\"Lethal Weapon (1987)\"],[\"Terminator 2: Judgment Day (1991)\"],[\"Adventures of Priscilla, Queen of the Desert, The (1994)\"],[\"Normal Life (1996)\"],[\"Breakfast at Tiffany's (1961)\"],[\"99 francs (2007)\"],[\"Remember the Titans (2000)\"],[\"After You (Apr\\u00e8s vous...) (2003)\"],[\"Party Girl (1995)\"],[\"Stigmata (1999)\"],[\"Dogma (1999)\"],[\"Men in Black (a.k.a. MIB) (1997)\"],[\"Beautiful Mind, A (2001)\"],[\"Batman & Robin (1997)\"],[\"Ghost Rider (2007)\"],[\"Lord of the Rings: The Return of the King, The (2003)\"],[\"Bone Collector, The (1999)\"],[\"Shrek (2001)\"],[\"Three Musketeers, The (1993)\"],[\"Cinderella (1950)\"],[\"Hearts of Darkness: A Filmmakers Apocalypse (1991)\"],[\"Hunt for Red October, The (1990)\"],[\"Mis\\u00e9rables, Les (1995)\"],[\"Ace Ventura: Pet Detective (1994)\"],[\"Man Who Would Be King, The (1975)\"],[\"Songs From the Second Floor (S\\u00e5nger fr\\u00e5n andra v\\u00e5ningen) (2000)\"],[\"Skulls, The (2000)\"],[\"Driving Miss Daisy (1989)\"],[\"Hey Arnold! The Movie (2002)\"],[\"Night of the Living Dead (1968)\"],[\"It Happened One Night (1934)\"],[\"Piano, The (1993)\"],[\"My Best Friend's Wedding (1997)\"],[\"Godfather: Part II, The (1974)\"],[\"Crimes of the Heart (1986)\"],[\"39 Steps, The (1935)\"],[\"Maltese Falcon, The (1941)\"],[\"Dear John (2010)\"],[\"Stranger than Fiction (2006)\"],[\"Mrs. Doubtfire (1993)\"],[\"Titan A.E. (2000)\"],[\"Big (1988)\"],[\"Star Wars: Episode II - Attack of the Clones (2002)\"],[\"American Werewolf in London, An (1981)\"],[\"Raising Arizona (1987)\"],[\"Rumble in the Bronx (Hont faan kui) (1995)\"],[\"Grosse Pointe Blank (1997)\"],[\"The Lego Movie (2014)\"],[\"Client, The (1994)\"],[\"Insomnia (2002)\"],[\"Windtalkers (2002)\"],[\"Stargate (1994)\"],[\"Remains of the Day, The (1993)\"],[\"Foreign Correspondent (1940)\"],[\"Down to Earth (2001)\"],[\"Band of Brothers (2001)\"],[\"Silence of the Lambs, The (1991)\"],[\"Star Wars: Episode V - The Empire Strikes Back (1980)\"],[\"Blades of Glory (2007)\"],[\"Star Wars: Episode V - The Empire Strikes Back (1980)\"],[\"Titanic (1997)\"],[\"Atonement (2007)\"],[\"Tombstone (1993)\"],[\"Casablanca (1942)\"],[\"Gone Baby Gone (2007)\"],[\"Stir of Echoes (1999)\"],[\"Natural Born Killers (1994)\"],[\"Signal, The (2014)\"],[\"Toy Story (1995)\"],[\"Sphere (1998)\"],[\"Scooby-Doo (2002)\"],[\"Friday the 13th Part VIII: Jason Takes Manhattan (1989)\"],[\"Player, The (1992)\"],[\"Scream (1996)\"],[\"Cowboy Bebop: The Movie (Cowboy Bebop: Tengoku no Tobira) (2001)\"],[\"Avengers, The (1998)\"],[\"Turner & Hooch (1989)\"],[\"Return of the Pink Panther, The (1975)\"],[\"Devil's Advocate, The (1997)\"],[\"Men in Black (a.k.a. MIB) (1997)\"],[\"Wedding Singer, The (1998)\"],[\"Igby Goes Down (2002)\"],[\"Marriage of Maria Braun, The (Ehe der Maria Braun, Die) (1979)\"],[\"Life Is Beautiful (La Vita \\u00e8 bella) (1997)\"],[\"Clean Slate (1994)\"],[\"Operation Dumbo Drop (1995)\"],[\"Wrestler, The (2008)\"],[\"About a Boy (2002)\"],[\"How to Marry a Millionaire (1953)\"],[\"Secret of Roan Inish, The (1994)\"],[\"Fly, The (1958)\"],[\"Quiz Show (1994)\"],[\"Invisible Man, The (1933)\"],[\"Forrest Gump (1994)\"],[\"Anna and the King (1999)\"],[\"Star Wars: Episode V - The Empire Strikes Back (1980)\"],[\"Dances with Wolves (1990)\"],[\"English Patient, The (1996)\"],[\"Client, The (1994)\"],[\"Last Waltz, The (1978)\"],[\"Crouching Tiger, Hidden Dragon (Wo hu cang long) (2000)\"],[\"X-Men: First Class (2011)\"],[\"Reservoir Dogs (1992)\"],[\"Thomas Crown Affair, The (1968)\"],[\"Untouchables, The (1987)\"],[\"Toy Story 2 (1999)\"],[\"Mulholland Falls (1996)\"],[\"Devil Wears Prada, The (2006)\"],[\"8MM (1999)\"],[\"Lord of the Rings: The Return of the King, The (2003)\"],[\"Event Horizon (1997)\"],[\"Lawrence of Arabia (1962)\"],[\"Sleepers (1996)\"],[\"Practical Magic (1998)\"],[\"Taxi Driver (1976)\"],[\"Crouching Tiger, Hidden Dragon (Wo hu cang long) (2000)\"],[\"Amadeus (1984)\"],[\"Little Children (2006)\"],[\"Copycat (1995)\"],[\"Take Shelter (2011)\"],[\"Blankman (1994)\"],[\"Metro (1997)\"],[\"Jerry Maguire (1996)\"],[\"Analyze That (2002)\"],[\"O Brother, Where Art Thou? (2000)\"],[\"Schindler's List (1993)\"],[\"Dr. Strangelove or: How I Learned to Stop Worrying and Love the Bomb (1964)\"],[\"True Grit (1969)\"],[\"It Could Happen to You (1994)\"],[\"Saving Silverman (Evil Woman) (2001)\"],[\"Bourne Ultimatum, The (2007)\"],[\"Lair of the White Worm, The (1988)\"],[\"Santa Clause, The (1994)\"],[\"Incredibles, The (2004)\"],[\"Graduate, The (1967)\"],[\"Star Wars: Episode I - The Phantom Menace (1999)\"],[\"Mary Poppins (1964)\"],[\"Star Trek III: The Search for Spock (1984)\"],[\"Ransom (1996)\"],[\"Chicago (2002)\"],[\"Father of the Bride (1991)\"],[\"Napoleon Dynamite (2004)\"],[\"American Werewolf in London, An (1981)\"],[\"Amelie (Fabuleux destin d'Am\\u00e9lie Poulain, Le) (2001)\"],[\"Ferris Bueller's Day Off (1986)\"],[\"Star Wars: Episode II - Attack of the Clones (2002)\"],[\"Of Mice and Men (1992)\"],[\"Jack and Sarah (1995)\"],[\"Wedding Singer, The (1998)\"],[\"Psycho (1960)\"],[\"Courage Under Fire (1996)\"],[\"Dances with Wolves (1990)\"],[\"Pajama Game, The (1957)\"],[\"Amateur (1994)\"],[\"Die Hard: With a Vengeance (1995)\"],[\"Evita (1996)\"],[\"Shrek 2 (2004)\"],[\"Beautiful Mind, A (2001)\"],[\"Wall Street (1987)\"],[\"Reality Bites (1994)\"],[\"Romancing the Stone (1984)\"],[\"Thelma & Louise (1991)\"],[\"Jurassic Park (1993)\"],[\"Melinda and Melinda (2004)\"],[\"Ace Ventura: Pet Detective (1994)\"],[\"Fantasia (1940)\"],[\"Serious Man, A (2009)\"],[\"Mystery Men (1999)\"],[\"Collateral (2004)\"],[\"Mission: Impossible (1996)\"],[\"Jagged Edge (1985)\"],[\"Never Been Kissed (1999)\"],[\"L.A. Story (1991)\"],[\"True Lies (1994)\"],[\"Total Recall (1990)\"],[\"Lost World: Jurassic Park, The (1997)\"],[\"All About Eve (1950)\"],[\"Being John Malkovich (1999)\"],[\"Life Aquatic with Steve Zissou, The (2004)\"],[\"Trainspotting (1996)\"],[\"Quadrophenia (1979)\"],[\"Dr. Dolittle (1998)\"],[\"Pretty in Pink (1986)\"],[\"Reservoir Dogs (1992)\"],[\"Bridget Jones's Diary (2001)\"],[\"Shirley Valentine (1989)\"],[\"'burbs, The (1989)\"],[\"It's a Wonderful Life (1946)\"],[\"Pirates of the Caribbean: The Curse of the Black Pearl (2003)\"],[\"Scooby-Doo (2002)\"],[\"RoboCop 2 (1990)\"],[\"AVPR: Aliens vs. Predator - Requiem (2007)\"],[\"Nightmare on Elm Street 2: Freddy's Revenge, A (1985)\"],[\"Children of the Corn III (1994)\"],[\"Pulp Fiction (1994)\"],[\"Intolerable Cruelty (2003)\"],[\"Natural Born Killers (1994)\"],[\"Minority Report (2002)\"],[\"Loft (2008)\"],[\"Ghost World (2001)\"],[\"Minority Report (2002)\"],[\"Interview with the Vampire: The Vampire Chronicles (1994)\"],[\"Changeling (2008)\"],[\"Net, The (1995)\"],[\"Star Wars: Episode IV - A New Hope (1977)\"],[\"Thomas Crown Affair, The (1968)\"],[\"Casablanca (1942)\"],[\"Nausica\\u00e4 of the Valley of the Wind (Kaze no tani no Naushika) (1984)\"],[\"Silence of the Lambs, The (1991)\"],[\"Air Force One (1997)\"],[\"L\\u00e9on: The Professional (a.k.a. The Professional) (L\\u00e9on) (1994)\"],[\"Legally Blonde (2001)\"],[\"Flight of the Phoenix (2004)\"],[\"Star Wars: Episode VI - Return of the Jedi (1983)\"],[\"Dolores Claiborne (1995)\"],[\"Bottle Rocket (1996)\"],[\"You've Got Mail (1998)\"],[\"Lady Vengeance (Sympathy for Lady Vengeance) (Chinjeolhan geumjassi) (2005)\"],[\"Sliding Doors (1998)\"],[\"Star Wars: Episode IV - A New Hope (1977)\"],[\"Nutty Professor II: The Klumps (2000)\"],[\"Metropolis (1927)\"],[\"Ace Ventura: When Nature Calls (1995)\"],[\"Gladiator (2000)\"],[\"Waterworld (1995)\"],[\"Silence of the Lambs, The (1991)\"],[\"Pitch Black (2000)\"],[\"Noah (2014)\"],[\"X2: X-Men United (2003)\"],[\"Forrest Gump (1994)\"],[\"Outsiders, The (1983)\"],[\"Dragonheart (1996)\"],[\"Game, The (1997)\"],[\"Aladdin (1992)\"],[\"Harry Potter and the Sorcerer's Stone (a.k.a. Harry Potter and the Philosopher's Stone) (2001)\"],[\"Taxi Driver (1976)\"],[\"Talk Radio (1988)\"],[\"Rocky Horror Picture Show, The (1975)\"],[\"Jerk, The (1979)\"],[\"Under Siege (1992)\"],[\"O Brother, Where Art Thou? (2000)\"],[\"48 Hrs. (1982)\"],[\"Wicker Man, The (1973)\"],[\"Midnight Run (1988)\"],[\"Pirates of the Caribbean: The Curse of the Black Pearl (2003)\"],[\"Matrix, The (1999)\"],[\"Indiana Jones and the Last Crusade (1989)\"],[\"George of the Jungle (1997)\"],[\"Snow Falling on Cedars (1999)\"],[\"O Brother, Where Art Thou? (2000)\"],[\"Mystic Pizza (1988)\"],[\"Courage Under Fire (1996)\"],[\"Troy (2004)\"],[\"Lethal Weapon 3 (1992)\"],[\"Bad News Bears, The (1976)\"],[\"Marked for Death (1990)\"],[\"Instinct (1999)\"],[\"Murder, My Sweet (1944)\"],[\"Chinatown (1974)\"],[\"Boot, Das (Boat, The) (1981)\"],[\"Madagascar (2005)\"],[\"Superbad (2007)\"],[\"Batman (1989)\"],[\"Finding Forrester (2000)\"],[\"Transformers (2007)\"],[\"Big One, The (1997)\"],[\"Of Mice and Men (1939)\"],[\"Mad Max (1979)\"],[\"You've Got Mail (1998)\"],[\"Mars Attacks! (1996)\"],[\"Quick and the Dead, The (1995)\"],[\"Suicide Kings (1997)\"],[\"Private Parts (1997)\"],[\"Peter Pan (1953)\"],[\"Awakenings (1990)\"],[\"Star Wars: Episode IV - A New Hope (1977)\"],[\"To Kill a Mockingbird (1962)\"],[\"X-Files: Fight the Future, The (1998)\"],[\"Iron Man 2 (2010)\"],[\"Good, the Bad and the Ugly, The (Buono, il brutto, il cattivo, Il) (1966)\"],[\"Unstrung Heroes (1995)\"],[\"Great Santini, The (1979)\"],[\"Fugitive, The (1993)\"],[\"Texas Chainsaw Massacre, The (1974)\"],[\"Muppets From Space (1999)\"],[\"Bourne Identity, The (2002)\"],[\"Dumb & Dumber (Dumb and Dumber) (1994)\"],[\"True Lies (1994)\"],[\"V for Vendetta (2006)\"],[\"Ghost and the Darkness, The (1996)\"],[\"Starship Troopers (1997)\"],[\"Hotel Rwanda (2004)\"],[\"Borat: Cultural Learnings of America for Make Benefit Glorious Nation of Kazakhstan (2006)\"],[\"Amelie (Fabuleux destin d'Am\\u00e9lie Poulain, Le) (2001)\"],[\"Jurassic Park (1993)\"],[\"Thomas Crown Affair, The (1999)\"],[\"Day Watch (Dnevnoy dozor) (2006)\"],[\"Anchorman: The Legend of Ron Burgundy (2004)\"],[\"Flipper (1996)\"],[\"Babe (1995)\"],[\"Beauty and the Beast (1991)\"],[\"Christmas Vacation (National Lampoon's Christmas Vacation) (1989)\"],[\"First Knight (1995)\"],[\"Felix the Cat: The Movie (1988)\"],[\"X-Men: The Last Stand (2006)\"],[\"James and the Giant Peach (1996)\"],[\"Pagemaster, The (1994)\"],[\"Days of Glory (Indig\\u00e8nes) (2006)\"],[\"Sweet Home Alabama (2002)\"],[\"Fisher King, The (1991)\"],[\"Coraline (2009)\"],[\"Ghost (1990)\"],[\"Powder (1995)\"],[\"Nightmare Before Christmas, The (1993)\"],[\"Deep Blue Sea (1999)\"],[\"Aladin (2009)\"],[\"Big (1988)\"],[\"2001: A Space Odyssey (1968)\"],[\"Tin Cup (1996)\"],[\"Batman: The Dark Knight Returns, Part 1 (2012)\"],[\"Local Hero (1983)\"],[\"Mr. Nice Guy (Yat goh ho yan) (1997)\"],[\"Fugitive, The (1993)\"],[\"Primal Fear (1996)\"],[\"Rock, The (1996)\"],[\"Bulletproof Monk (2003)\"],[\"Titus (1999)\"],[\"Star Wars: Episode VI - Return of the Jedi (1983)\"],[\"Jane Eyre (1944)\"],[\"High Fidelity (2000)\"],[\"Grumpy Old Men (1993)\"],[\"X-Files: Fight the Future, The (1998)\"],[\"Ghostbusters (a.k.a. Ghost Busters) (1984)\"],[\"Arrival, The (1996)\"],[\"Cool Runnings (1993)\"],[\"Terminator, The (1984)\"],[\"Father of the Bride Part II (1995)\"],[\"Lord of the Rings: The Fellowship of the Ring, The (2001)\"],[\"Terminator, The (1984)\"],[\"Dirty Dancing (1987)\"],[\"Psycho (1960)\"],[\"Whatever It Takes (2000)\"],[\"Outbreak (1995)\"],[\"Best in Show (2000)\"],[\"Wallace & Gromit: The Wrong Trousers (1993)\"],[\"12 Rounds (2009)\"],[\"Lethal Weapon (1987)\"],[\"All the King's Men (2006)\"],[\"Greatest Show on Earth, The (1952)\"],[\"I Love Trouble (1994)\"],[\"Down to Earth (2001)\"],[\"Covenant, The (2006)\"],[\"Drawn Together Movie: The Movie!, The (2010)\"],[\"Star Trek VI: The Undiscovered Country (1991)\"],[\"Lock, Stock & Two Smoking Barrels (1998)\"],[\"Breaking the Waves (1996)\"],[\"Serenity (2005)\"],[\"Twelve Monkeys (a.k.a. 12 Monkeys) (1995)\"],[\"Harold and Maude (1971)\"],[\"Julie & Julia (2009)\"],[\"St. Elmo's Fire (1985)\"],[\"Final Destination (2000)\"],[\"Day the Earth Stood Still, The (1951)\"],[\"High Fidelity (2000)\"],[\"Indiana Jones and the Last Crusade (1989)\"],[\"Graduate, The (1967)\"],[\"Finding Nemo (2003)\"],[\"Spy Game (2001)\"],[\"What Women Want (2000)\"],[\"Mask of Zorro, The (1998)\"],[\"Wes Craven's New Nightmare (Nightmare on Elm Street Part 7: Freddy's Finale, A) (1994)\"],[\"Hiroshima Mon Amour (1959)\"],[\"Rock, The (1996)\"],[\"Dead Poets Society (1989)\"],[\"Pearl Harbor (2001)\"],[\"Wall Street (1987)\"],[\"Jurassic Park (1993)\"],[\"Nell (1994)\"],[\"Waterboy, The (1998)\"],[\"Maltese Falcon, The (1941)\"],[\"Departed, The (2006)\"],[\"Hot Tub Time Machine (2010)\"],[\"Strictly Ballroom (1992)\"],[\"Going the Distance (2010)\"],[\"Killers (2010)\"],[\"Evita (1996)\"],[\"Joy Luck Club, The (1993)\"],[\"Legend of Drunken Master, The (Jui kuen II) (1994)\"],[\"Lawnmower Man 2: Beyond Cyberspace (1996)\"],[\"Down to Earth (2001)\"],[\"Clockwork Orange, A (1971)\"],[\"Casino Royale (2006)\"],[\"Clear and Present Danger (1994)\"],[\"Elephant (2003)\"],[\"Paris Is Burning (1990)\"],[\"Iron Man (2008)\"],[\"Crying Game, The (1992)\"],[\"Born Yesterday (1950)\"],[\"Toy Story 2 (1999)\"],[\"Catwoman (2004)\"],[\"Star Wars: Episode II - Attack of the Clones (2002)\"],[\"American Outlaws (2001)\"],[\"Sling Blade (1996)\"],[\"Man Who Wasn't There, The (2001)\"],[\"Congo (1995)\"],[\"Ladykillers, The (2004)\"],[\"Green Mile, The (1999)\"],[\"My Giant (1998)\"],[\"Magnolia (1999)\"],[\"Akira (1988)\"],[\"GoldenEye (1995)\"],[\"Farinelli: il castrato (1994)\"],[\"Quantum of Solace (2008)\"],[\"Money Pit, The (1986)\"],[\"My Cousin Vinny (1992)\"],[\"Quiz Show (1994)\"],[\"Beautiful Mind, A (2001)\"],[\"Repo Man (1984)\"],[\"Fifth Element, The (1997)\"],[\"Speed (1994)\"],[\"Cliffhanger (1993)\"],[\"I.Q. (1994)\"],[\"X2: X-Men United (2003)\"],[\"Iron Man (2008)\"],[\"Stargate (1994)\"],[\"WALL\\u00b7E (2008)\"],[\"Quantum of Solace (2008)\"],[\"Finding Forrester (2000)\"],[\"Shining, The (1980)\"],[\"Rio Bravo (1959)\"],[\"Lucky Number Slevin (2006)\"],[\"Chasing Amy (1997)\"],[\"Lord of the Rings: The Two Towers, The (2002)\"],[\"Suicide Kings (1997)\"],[\"River Wild, The (1994)\"],[\"Free Willy 2: The Adventure Home (1995)\"],[\"Carlito's Way (1993)\"],[\"Psycho (1960)\"],[\"Lean on Me (1989)\"],[\"Eraserhead (1977)\"],[\"Crimes and Misdemeanors (1989)\"],[\"Four Days in September (O Que \\u00c9 Isso, Companheiro?) (1997)\"],[\"Shrek (2001)\"],[\"Zoolander (2001)\"],[\"Hamlet (1996)\"],[\"Marnie (1964)\"],[\"Babe (1995)\"],[\"Melinda and Melinda (2004)\"],[\"Choices (1981)\"],[\"Taxi Driver (1976)\"],[\"From Dusk Till Dawn (1996)\"],[\"Glengarry Glen Ross (1992)\"],[\"Mission: Impossible (1996)\"],[\"Score, The (2001)\"],[\"Old Man and the Sea, The (1958)\"],[\"Insomnia (2002)\"],[\"Star Wars: Episode IV - A New Hope (1977)\"],[\"Meet the Parents (2000)\"],[\"Winnie the Pooh and the Blustery Day (1968)\"],[\"Kiss Kiss Bang Bang (2005)\"],[\"Toy Story (1995)\"],[\"Conan the Barbarian (1982)\"],[\"Funny Face (1957)\"],[\"Tin Cup (1996)\"],[\"Amadeus (1984)\"],[\"Farewell My Concubine (Ba wang bie ji) (1993)\"],[\"8 1/2 (8\\u00bd) (1963)\"],[\"Sunset Blvd. (a.k.a. Sunset Boulevard) (1950)\"],[\"Magnificent Seven, The (1960)\"],[\"Old School (2003)\"],[\"Anastasia (1997)\"],[\"Vanishing, The (1993)\"],[\"Mask, The (1994)\"],[\"Gift, The (2000)\"],[\"Harry Potter and the Deathly Hallows: Part 1 (2010)\"],[\"Muppets Take Manhattan, The (1984)\"],[\"My Left Foot (1989)\"],[\"Corky Romano (2001)\"],[\"With Honors (1994)\"],[\"Party, The (1968)\"],[\"Star Trek: First Contact (1996)\"],[\"Shawshank Redemption, The (1994)\"],[\"Strada, La (1954)\"],[\"Heavenly Creatures (1994)\"],[\"Underworld: Awakening (2012)\"],[\"Mighty Aphrodite (1995)\"],[\"Tarnation (2003)\"],[\"Ocean's Eleven (2001)\"],[\"Return of Martin Guerre, The (Retour de Martin Guerre, Le) (1982)\"],[\"Crimson Tide (1995)\"],[\"Road Trip (2000)\"],[\"Miracle on 34th Street (1994)\"],[\"Clear and Present Danger (1994)\"],[\"Four Weddings and a Funeral (1994)\"],[\"Little Buddha (1993)\"],[\"Thing, The (1982)\"],[\"Mrs. Doubtfire (1993)\"],[\"Tombstone (1993)\"],[\"Shrek (2001)\"],[\"To Live and Die in L.A. (1985)\"],[\"Casino (1995)\"],[\"Tales from the Crypt Presents: Demon Knight (1995)\"],[\"Where the Heart Is (2000)\"],[\"Secretary (2002)\"],[\"Robin Hood: Men in Tights (1993)\"],[\"Backdraft (1991)\"],[\"Spawn (1997)\"],[\"Lethal Weapon (1987)\"],[\"Tombstone (1993)\"],[\"Finding Nemo (2003)\"],[\"School of Rock (2003)\"],[\"Mystic Pizza (1988)\"],[\"Graduate, The (1967)\"],[\"Forrest Gump (1994)\"],[\"Devil's Advocate, The (1997)\"],[\"Star Trek: Generations (1994)\"],[\"Bandits (2001)\"],[\"Being There (1979)\"],[\"Shutter Island (2010)\"],[\"Lives of Others, The (Das leben der Anderen) (2006)\"],[\"Men in Black (a.k.a. MIB) (1997)\"],[\"Air Force One (1997)\"],[\"Remains of the Day, The (1993)\"],[\"Godfather, The (1972)\"],[\"Guess Who's Coming to Dinner (1967)\"],[\"Schindler's List (1993)\"],[\"Remember the Titans (2000)\"],[\"Roger & Me (1989)\"],[\"In America (2002)\"],[\"Mummy, The (1999)\"],[\"Mallrats (1995)\"],[\"Strange Days (1995)\"],[\"Sherlock Holmes (2009)\"],[\"Gattaca (1997)\"],[\"Return from Witch Mountain (1978)\"],[\"Interview with the Vampire: The Vampire Chronicles (1994)\"],[\"Gone with the Wind (1939)\"],[\"Sliver (1993)\"],[\"Hobbit: An Unexpected Journey, The (2012)\"],[\"Apple Dumpling Gang, The (1975)\"],[\"Shawshank Redemption, The (1994)\"],[\"Sleepless in Seattle (1993)\"],[\"Crow, The (1994)\"],[\"What Dreams May Come (1998)\"],[\"Postman, The (1997)\"],[\"Hamlet (2000)\"],[\"Forrest Gump (1994)\"],[\"Braveheart (1995)\"],[\"Terms of Endearment (1983)\"],[\"Nick and Norah's Infinite Playlist (2008)\"],[\"Two Girls and a Guy (1997)\"],[\"Last Picture Show, The (1971)\"],[\"Goldfinger (1964)\"],[\"Bounty, The (1984)\"],[\"Lonesome Dove (1989)\"],[\"Sweet Hereafter, The (1997)\"],[\"Source Code (2011)\"],[\"D2: The Mighty Ducks (1994)\"],[\"Willard (2003)\"],[\"Clear and Present Danger (1994)\"],[\"Monsters, Inc. (2001)\"],[\"Schindler's List (1993)\"],[\"Forrest Gump (1994)\"],[\"Tale of Two Sisters, A (Janghwa, Hongryeon) (2003)\"],[\"Road Warrior, The (Mad Max 2) (1981)\"],[\"Dead Man Walking (1995)\"],[\"Immortal Beloved (1994)\"],[\"Trading Places (1983)\"],[\"20,000 Leagues Under the Sea (1954)\"],[\"Ghostbusters (a.k.a. Ghost Busters) (1984)\"],[\"Texas Chainsaw Massacre 2, The (1986)\"],[\"Beautiful Mind, A (2001)\"],[\"Double Indemnity (1944)\"],[\"Phone Booth (2002)\"],[\"Gladiator (2000)\"],[\"Proof of Life (2000)\"],[\"Emperor's New Groove, The (2000)\"],[\"United States of Leland, The (2003)\"],[\"Slap Shot (1977)\"],[\"Days of Wine and Roses (1962)\"],[\"Talladega Nights: The Ballad of Ricky Bobby (2006)\"],[\"Wallace & Gromit: The Wrong Trousers (1993)\"],[\"Last Picture Show, The (1971)\"],[\"My Science Project (1985)\"],[\"Interview with the Vampire: The Vampire Chronicles (1994)\"],[\"Godfather, The (1972)\"],[\"Free Enterprise (1998)\"],[\"Mean Streets (1973)\"],[\"Cast Away (2000)\"],[\"Goldfinger (1964)\"],[\"Finding Neverland (2004)\"],[\"Walk to Remember, A (2002)\"],[\"Dances with Wolves (1990)\"],[\"Crow, The (1994)\"],[\"Clueless (1995)\"],[\"Ring, The (2002)\"],[\"Clueless (1995)\"],[\"Ant Bully, The (2006)\"],[\"Santa Clause 2, The (2002)\"],[\"As Good as It Gets (1997)\"],[\"Postman Always Rings Twice, The (1981)\"],[\"Apocalypse Now (1979)\"],[\"Monsters, Inc. (2001)\"],[\"Miracle on 34th Street (1947)\"],[\"Lawrence of Arabia (1962)\"],[\"Moonstruck (1987)\"],[\"Sweeney Todd: The Demon Barber of Fleet Street (2007)\"],[\"Clerks (1994)\"],[\"What's Eating Gilbert Grape (1993)\"],[\"Devil in a Blue Dress (1995)\"],[\"I.Q. (1994)\"],[\"Into the Wild (2007)\"],[\"From Dusk Till Dawn (1996)\"],[\"Snatch (2000)\"],[\"Big Momma's House (2000)\"],[\"Chinatown (1974)\"],[\"Nutty Professor II: The Klumps (2000)\"],[\"Biloxi Blues (1988)\"],[\"The Butterfly Effect (2004)\"],[\"Sleepless in Seattle (1993)\"],[\"Talented Mr. Ripley, The (1999)\"],[\"Peter Pan (2003)\"],[\"Sleepless in Seattle (1993)\"],[\"Dragonheart (1996)\"],[\"Elizabeth (1998)\"],[\"Grease (1978)\"],[\"Fistful of Dollars, A (Per un pugno di dollari) (1964)\"],[\"Enemy at the Gates (2001)\"],[\"50/50 (2011)\"],[\"Dave (1993)\"],[\"Dirty Dozen, The (1967)\"],[\"Total Recall (1990)\"],[\"Corrina, Corrina (1994)\"],[\"Futurama: Bender's Big Score (2007)\"],[\"Jaws (1975)\"],[\"Possession (2002)\"],[\"Rat Race (2001)\"],[\"Prizzi's Honor (1985)\"],[\"Fantasia (1940)\"],[\"Twelve Monkeys (a.k.a. 12 Monkeys) (1995)\"],[\"Whale Rider (2002)\"],[\"Crazy in Alabama (1999)\"],[\"Juror, The (1996)\"],[\"School of Rock (2003)\"],[\"Batman Forever (1995)\"],[\"Dead Poets Society (1989)\"],[\"Graduate, The (1967)\"],[\"Fog of War: Eleven Lessons from the Life of Robert S. McNamara, The (2003)\"],[\"Hours, The (2002)\"],[\"Ocean's Thirteen (2007)\"],[\"Wedding Crashers (2005)\"],[\"Terminator 2: Judgment Day (1991)\"],[\"Fireworks (Hana-bi) (1997)\"],[\"Fugitive, The (1993)\"],[\"Enchanted (2007)\"],[\"Good bye, Lenin! (2003)\"],[\"How to Make an American Quilt (1995)\"],[\"Interiors (1978)\"],[\"First Wives Club, The (1996)\"],[\"Usual Suspects, The (1995)\"],[\"Stranger, The (1946)\"],[\"Tropic Thunder (2008)\"],[\"Tootsie (1982)\"],[\"Surviving the Game (1994)\"],[\"Dark Knight Rises, The (2012)\"],[\"Lion King, The (1994)\"],[\"Remember the Titans (2000)\"],[\"Whole Nine Yards, The (2000)\"],[\"Wreck-It Ralph (2012)\"],[\"King of Comedy, The (1983)\"],[\"Ace Ventura: When Nature Calls (1995)\"],[\"Blow (2001)\"],[\"Girl, Interrupted (1999)\"],[\"Chocolat (2000)\"],[\"She's Gotta Have It (1986)\"],[\"Space Cowboys (2000)\"],[\"Reservoir Dogs (1992)\"],[\"True Lies (1994)\"],[\"Tinker Tailor Soldier Spy (2011)\"],[\"Lost World: Jurassic Park, The (1997)\"],[\"Big (1988)\"],[\"Devil's Backbone, The (Espinazo del diablo, El) (2001)\"],[\"Blob, The (1958)\"],[\"Spider-Man (2002)\"],[\"City of Lost Children, The (Cit\\u00e9 des enfants perdus, La) (1995)\"],[\"Sum of Us, The (1994)\"],[\"Br\\u00fcno (Bruno) (2009)\"],[\"Batman Returns (1992)\"],[\"Ring, The (2002)\"],[\"Iron Giant, The (1999)\"],[\"Hercules (1997)\"],[\"Star Trek: First Contact (1996)\"],[\"Ladder 49 (2004)\"],[\"Spartan (2004)\"],[\"Inception (2010)\"],[\"Die Hard (1988)\"],[\"Deep Blue Sea (1999)\"],[\"Stripes (1981)\"],[\"Siege, The (1998)\"],[\"Gothic (1986)\"],[\"Klute (1971)\"],[\"Wrestler, The (2008)\"],[\"Hustler, The (1961)\"],[\"Jeffrey (1995)\"],[\"Master and Commander: The Far Side of the World (2003)\"],[\"Adventures of Robin Hood, The (1938)\"],[\"Scrooged (1988)\"],[\"Mr. Blandings Builds His Dream House (1948)\"],[\"Gettysburg (1993)\"],[\"Back to the Future Part II (1989)\"],[\"Happening, The (2008)\"],[\"U.S. Marshals (1998)\"],[\"Rashomon (Rash\\u00f4mon) (1950)\"],[\"Braveheart (1995)\"],[\"Swordfish (2001)\"],[\"Interview with the Vampire: The Vampire Chronicles (1994)\"],[\"Eyes Wide Shut (1999)\"],[\"Notebook, The (2004)\"],[\"eXistenZ (1999)\"],[\"Bio-Dome (1996)\"],[\"Cloverfield (2008)\"],[\"Lord of the Rings: The Two Towers, The (2002)\"],[\"Harry Potter and the Goblet of Fire (2005)\"],[\"You Can Count on Me (2000)\"],[\"Breaking the Waves (1996)\"],[\"Run Lola Run (Lola rennt) (1998)\"],[\"Dangerous Minds (1995)\"],[\"Baby Mama (2008)\"],[\"Indiana Jones and the Last Crusade (1989)\"],[\"Dolores Claiborne (1995)\"],[\"Little Buddha (1993)\"],[\"Joe Versus the Volcano (1990)\"],[\"Full Metal Jacket (1987)\"],[\"Postal (2007)\"],[\"Spider-Man 3 (2007)\"],[\"Clockwork Orange, A (1971)\"],[\"Green Zone (2010)\"],[\"In the Line of Fire (1993)\"],[\"Primal Fear (1996)\"],[\"Grease (1978)\"],[\"Simple Plan, A (1998)\"],[\"Die Hard 2 (1990)\"],[\"Ulee's Gold (1997)\"],[\"Bourne Supremacy, The (2004)\"],[\"Beavis and Butt-Head Do America (1996)\"],[\"Fried Green Tomatoes (1991)\"],[\"Raiders of the Lost Ark (Indiana Jones and the Raiders of the Lost Ark) (1981)\"],[\"Training Day (2001)\"],[\"Mummy Returns, The (2001)\"],[\"Beverly Hills Cop III (1994)\"],[\"Civil Action, A (1998)\"],[\"Lost World: Jurassic Park, The (1997)\"],[\"Wes Craven's New Nightmare (Nightmare on Elm Street Part 7: Freddy's Finale, A) (1994)\"],[\"Ghostbusters II (1989)\"],[\"E.T. the Extra-Terrestrial (1982)\"],[\"Pulp Fiction (1994)\"],[\"Reality Bites (1994)\"],[\"Shortbus (2006)\"],[\"Blade Runner (1982)\"],[\"Weather Man, The (2005)\"],[\"True Romance (1993)\"],[\"Blazing Saddles (1974)\"],[\"Nutty Professor, The (1996)\"],[\"Felicia's Journey (1999)\"],[\"Donnie Darko (2001)\"],[\"Disclosure (1994)\"],[\"Airplane! (1980)\"],[\"Ernest Goes to Africa (1997)\"],[\"Judge Dredd (1995)\"],[\"Black Book (Zwartboek) (2006)\"],[\"Mars Attacks! (1996)\"],[\"Spider-Man 2 (2004)\"],[\"Face/Off (1997)\"],[\"Constant Gardener, The (2005)\"],[\"Pulp Fiction (1994)\"],[\"Rocky Horror Picture Show, The (1975)\"],[\"Aliens (1986)\"],[\"Fight Club (1999)\"],[\"RocknRolla (2008)\"],[\"Pink Floyd: The Wall (1982)\"],[\"Braveheart (1995)\"],[\"Muriel's Wedding (1994)\"],[\"Deer Hunter, The (1978)\"],[\"Lord of the Rings: The Return of the King, The (2003)\"],[\"Monsters, Inc. (2001)\"],[\"Flight (2012)\"],[\"Alive (1993)\"],[\"Bridge on the River Kwai, The (1957)\"],[\"Into the Wild (2007)\"],[\"Lady Vanishes, The (1938)\"],[\"Wedding Singer, The (1998)\"],[\"Cast Away (2000)\"],[\"Crash (2004)\"],[\"Chungking Express (Chung Hing sam lam) (1994)\"],[\"Nosferatu the Vampyre (Nosferatu: Phantom der Nacht) (1979)\"],[\"Splash (1984)\"],[\"Barry Lyndon (1975)\"],[\"O Brother, Where Art Thou? (2000)\"],[\"Ace Ventura: When Nature Calls (1995)\"],[\"Strictly Ballroom (1992)\"],[\"About Schmidt (2002)\"],[\"Master and Commander: The Far Side of the World (2003)\"],[\"Condorman (1981)\"],[\"Speed (1994)\"],[\"White Water Summer (1987)\"],[\"Men in Black (a.k.a. MIB) (1997)\"],[\"Psycho (1960)\"],[\"Brazil (1985)\"],[\"Godfather, The (1972)\"],[\"Fatal Attraction (1987)\"],[\"Children of the Corn IV: The Gathering (1996)\"],[\"Roger Dodger (2002)\"],[\"Inception (2010)\"],[\"Exorcist, The (1973)\"],[\"Space Cowboys (2000)\"],[\"Lord of the Rings: The Two Towers, The (2002)\"],[\"Dead Poets Society (1989)\"],[\"Business, The (2005)\"],[\"Master and Commander: The Far Side of the World (2003)\"],[\"Requiem for a Dream (2000)\"],[\"Addams Family, The (1991)\"],[\"Payback (1999)\"],[\"Big Chill, The (1983)\"],[\"From Dusk Till Dawn (1996)\"],[\"Yellowbeard (1983)\"],[\"Pulp Fiction (1994)\"],[\"Enemy of the State (1998)\"],[\"Tombstone (1993)\"],[\"Amelie (Fabuleux destin d'Am\\u00e9lie Poulain, Le) (2001)\"],[\"Memento (2000)\"],[\"Heavy Metal (1981)\"],[\"L.A. Story (1991)\"],[\"Mermaids (1990)\"],[\"Vanilla Sky (2001)\"],[\"Star Trek: Generations (1994)\"],[\"Bloodsport (1988)\"],[\"China Syndrome, The (1979)\"],[\"Something to Talk About (1995)\"],[\"Cube (1997)\"],[\"Lord of the Rings: The Fellowship of the Ring, The (2001)\"],[\"North by Northwest (1959)\"],[\"Superman (1978)\"],[\"Crimson Tide (1995)\"],[\"Ferris Bueller's Day Off (1986)\"],[\"Coyote Ugly (2000)\"],[\"Freshman, The (1990)\"],[\"Creepshow (1982)\"],[\"Business of Strangers, The (2001)\"],[\"Shakespeare in Love (1998)\"],[\"Incredibles, The (2004)\"],[\"Pink Panther Strikes Again, The (1976)\"],[\"L\\u00e9on: The Professional (a.k.a. The Professional) (L\\u00e9on) (1994)\"],[\"Alfie (1966)\"],[\"Layer Cake (2004)\"],[\"Naked Lunch (1991)\"],[\"Girl with the Dragon Tattoo, The (2011)\"],[\"Men in Black II (a.k.a. MIIB) (a.k.a. MIB 2) (2002)\"],[\"Educating Rita (1983)\"],[\"Unfinished Piece for a Player Piano, An (Neokonchennaya pyesa dlya mekhanicheskogo pianino) (1977)\"],[\"Spaceballs (1987)\"],[\"Me, Myself & Irene (2000)\"],[\"Jumpin' Jack Flash (1986)\"],[\"Brady Bunch Movie, The (1995)\"],[\"Back to the Future (1985)\"],[\"Burlesque (2010)\"],[\"Money Train (1995)\"],[\"Hellraiser III: Hell on Earth (1992)\"],[\"Groundhog Day (1993)\"],[\"District 9 (2009)\"],[\"Clear and Present Danger (1994)\"],[\"Let the Right One In (L\\u00e5t den r\\u00e4tte komma in) (2008)\"],[\"Tank Girl (1995)\"],[\"Chicago (2002)\"],[\"Dune (1984)\"],[\"Thing, The (1982)\"],[\"Matchstick Men (2003)\"],[\"Beauty and the Beast (1991)\"],[\"Star Trek: Insurrection (1998)\"],[\"Pulp Fiction (1994)\"],[\"Hunchback of Notre Dame, The (1996)\"],[\"I Spy (2002)\"],[\"Road Warrior, The (Mad Max 2) (1981)\"],[\"Far and Away (1992)\"],[\"One, The (2001)\"],[\"Beauty and the Beast (1991)\"],[\"Powder (1995)\"],[\"Play Misty for Me (1971)\"],[\"Memento (2000)\"],[\"Deliverance (1972)\"],[\"Truth About Cats & Dogs, The (1996)\"],[\"Anatomy of a Murder (1959)\"],[\"Earthsea (Legend of Earthsea) (2004)\"],[\"Lincoln Lawyer, The (2011)\"],[\"Super Size Me (2004)\"],[\"Toy Story (1995)\"],[\"Airplane! (1980)\"],[\"Crouching Tiger, Hidden Dragon (Wo hu cang long) (2000)\"],[\"Divergent (2014)\"],[\"Grosse Pointe Blank (1997)\"],[\"Iron Man (2008)\"],[\"Ghostbusters (a.k.a. Ghost Busters) (1984)\"],[\"True Lies (1994)\"],[\"Apocalypse Now (1979)\"],[\"Room with a View, A (1986)\"],[\"Godfather, The (1972)\"],[\"Home Alone (1990)\"],[\"Austin Powers in Goldmember (2002)\"],[\"East of Eden (1955)\"],[\"Bug's Life, A (1998)\"],[\"Cyborg (1989)\"],[\"Princess Bride, The (1987)\"],[\"My Big Fat Greek Wedding (2002)\"],[\"At First Sight (1999)\"],[\"Living Daylights, The (1987)\"],[\"Copycat (1995)\"],[\"One Hour Photo (2002)\"],[\"Fugitive, The (1993)\"],[\"Drop Dead Fred (1991)\"],[\"Aliens (1986)\"],[\"Producers, The (1968)\"],[\"Wrestler, The (2008)\"],[\"American History X (1998)\"],[\"Ocean's Twelve (2004)\"],[\"Hotel Rwanda (2004)\"],[\"Bull Durham (1988)\"],[\"Godfather, The (1972)\"],[\"Reaping, The (2007)\"],[\"Omen, The (2006)\"],[\"Virgin Suicides, The (1999)\"],[\"Splash (1984)\"],[\"Rear Window (1954)\"],[\"Mary Poppins (1964)\"],[\"Pitch Black (2000)\"],[\"Dead Poets Society (1989)\"],[\"40 Days and 40 Nights (2002)\"],[\"Wolf (1994)\"],[\"Insider, The (1999)\"],[\"Ran (1985)\"],[\"Crocodile Dundee (1986)\"],[\"Fish Called Wanda, A (1988)\"],[\"Bowling for Columbine (2002)\"],[\"Sword in the Stone, The (1963)\"],[\"Hurricane, The (1999)\"],[\"Annie (1982)\"],[\"Black Swan (2010)\"],[\"Maltese Falcon, The (1941)\"],[\"Escape Plan (2013)\"],[\"Dodgeball: A True Underdog Story (2004)\"],[\"Twister (1996)\"],[\"Doctor Dolittle (1967)\"],[\"Gladiator (2000)\"],[\"Village of the Damned (1960)\"],[\"Men in Black II (a.k.a. MIIB) (a.k.a. MIB 2) (2002)\"],[\"I Am Legend (2007)\"],[\"Underworld (2003)\"],[\"Sex and Death 101 (2007)\"],[\"Fight Club (1999)\"],[\"That Hamilton Woman (1941)\"],[\"Super Mario Bros. (1993)\"],[\"Eagle Has Landed, The (1976)\"],[\"Haunting, The (1963)\"],[\"Apollo 13 (1995)\"],[\"What About Bob? (1991)\"],[\"Schindler's List (1993)\"],[\"All About Eve (1950)\"],[\"Twelve Monkeys (a.k.a. 12 Monkeys) (1995)\"],[\"Coach Carter (2005)\"],[\"Ratatouille (2007)\"],[\"Tango & Cash (1989)\"],[\"Dr. Strangelove or: How I Learned to Stop Worrying and Love the Bomb (1964)\"],[\"Perfume: The Story of a Murderer (2006)\"],[\"Evita (1996)\"],[\"Foxfire (1996)\"],[\"Silence of the Lambs, The (1991)\"],[\"Guardians of the Galaxy (2014)\"],[\"Third Man, The (1949)\"],[\"Nightmare on Elm Street, A (1984)\"],[\"Me, Myself & Irene (2000)\"],[\"Titanic (1997)\"],[\"Chain Reaction (1996)\"],[\"Born on the Fourth of July (1989)\"],[\"Quadrophenia (1979)\"],[\"Matrix Reloaded, The (2003)\"],[\"Perfume: The Story of a Murderer (2006)\"],[\"Naked Gun: From the Files of Police Squad!, The (1988)\"],[\"Snows of Kilimanjaro, The (1952)\"],[\"Dark Knight Rises, The (2012)\"],[\"Pitch Black (2000)\"],[\"Full Monty, The (1997)\"],[\"Get Shorty (1995)\"],[\"Blair Witch Project, The (1999)\"],[\"Little Children (2006)\"],[\"Striptease (1996)\"],[\"Old Man and the Sea, The (1958)\"],[\"Man with the Golden Gun, The (1974)\"],[\"Together (Tillsammans) (2000)\"],[\"Rock, The (1996)\"],[\"First Blood (Rambo: First Blood) (1982)\"],[\"Debt, The (2011)\"],[\"Star Trek III: The Search for Spock (1984)\"],[\"Turner & Hooch (1989)\"],[\"Star Trek (2009)\"],[\"Replacement Killers, The (1998)\"],[\"Leaving Las Vegas (1995)\"],[\"Goodfellas (1990)\"],[\"Reversal of Fortune (1990)\"],[\"Clerks (1994)\"],[\"Frances Ha (2012)\"],[\"Dancer in the Dark (2000)\"],[\"Scorpion King, The (2002)\"],[\"Van Helsing (2004)\"],[\"Freddy's Dead: The Final Nightmare (Nightmare on Elm Street Part 6: Freddy's Dead, A) (1991)\"],[\"Rain Man (1988)\"],[\"Ransom (1996)\"],[\"Desperately Seeking Susan (1985)\"],[\"Promise, The (La promesse) (1996)\"],[\"Bridge on the River Kwai, The (1957)\"],[\"Sixth Sense, The (1999)\"],[\"She's So Lovely (1997)\"],[\"Branded (2012)\"],[\"State and Main (2000)\"],[\"Sleepy Hollow (1999)\"],[\"Blades of Glory (2007)\"],[\"300 (2007)\"],[\"Great Muppet Caper, The (1981)\"],[\"Astronaut's Wife, The (1999)\"],[\"Seven (a.k.a. Se7en) (1995)\"],[\"Black Hawk Down (2001)\"],[\"Rio Bravo (1959)\"],[\"Ed Wood (1994)\"],[\"Dangerous Minds (1995)\"],[\"Silence of the Lambs, The (1991)\"],[\"Bourne Ultimatum, The (2007)\"],[\"Dumb & Dumber (Dumb and Dumber) (1994)\"],[\"Star Trek (2009)\"],[\"Talented Mr. Ripley, The (1999)\"],[\"Face/Off (1997)\"],[\"Star Wars: Episode VI - Return of the Jedi (1983)\"],[\"Sting, The (1973)\"],[\"Toy Story 2 (1999)\"],[\"Ace Ventura: Pet Detective (1994)\"],[\"Austin Powers in Goldmember (2002)\"],[\"Iron Man (2008)\"],[\"L.A. Story (1991)\"],[\"Striking Distance (1993)\"],[\"Dogma (1999)\"],[\"Christmas Story, A (1983)\"],[\"Piano, The (1993)\"],[\"U-571 (2000)\"],[\"Patton (1970)\"],[\"Pretty Woman (1990)\"],[\"Snake Eyes (1998)\"],[\"White Men Can't Jump (1992)\"],[\"Repulsion (1965)\"],[\"True Grit (1969)\"],[\"Raiders of the Lost Ark (Indiana Jones and the Raiders of the Lost Ark) (1981)\"],[\"Nutty Professor, The (1996)\"],[\"Witness (1985)\"],[\"400 Blows, The (Les quatre cents coups) (1959)\"],[\"Fantasia 2000 (1999)\"],[\"James and the Giant Peach (1996)\"],[\"Mr. & Mrs. Smith (2005)\"],[\"Deceiver (1997)\"],[\"Notes on a Scandal (2006)\"],[\"Love & Sex (2000)\"],[\"Birdman (2014)\"],[\"Snatch (2000)\"],[\"Maximum Risk (1996)\"],[\"In & Out (1997)\"],[\"Island, The (2005)\"],[\"Exit to Eden (1994)\"],[\"Deep Impact (1998)\"],[\"Om Shanti Om (2007)\"],[\"Serenity (2005)\"],[\"Ace Ventura: Pet Detective (1994)\"],[\"Toy Story 3 (2010)\"],[\"Silence of the Lambs, The (1991)\"],[\"Bone Collector, The (1999)\"],[\"Backbeat (1993)\"],[\"Jack (1996)\"],[\"Cool Runnings (1993)\"],[\"Godfather: Part III, The (1990)\"],[\"Ace Ventura: Pet Detective (1994)\"],[\"Young Sherlock Holmes (1985)\"],[\"American Pie (1999)\"],[\"Aristocats, The (1970)\"],[\"When Harry Met Sally... (1989)\"],[\"Minority Report (2002)\"],[\"When Harry Met Sally... (1989)\"],[\"The Importance of Being Earnest (1952)\"],[\"Eddie (1996)\"],[\"Teenage Mutant Ninja Turtles (2014)\"],[\"Indiana Jones and the Last Crusade (1989)\"],[\"Before the Devil Knows You're Dead (2007)\"],[\"Game, The (1997)\"],[\"Mask (1985)\"],[\"Man Who Knew Too Little, The (1997)\"],[\"Die Hard 2 (1990)\"],[\"Together (Tillsammans) (2000)\"],[\"Pretty Woman (1990)\"],[\"Code 46 (2003)\"],[\"Goldfinger (1964)\"],[\"Sixteen Candles (1984)\"],[\"Star Wars: Episode V - The Empire Strikes Back (1980)\"],[\"Evolution (2001)\"],[\"Matrix Reloaded, The (2003)\"],[\"My Life as a Dog (Mitt liv som hund) (1985)\"],[\"Air Force One (1997)\"],[\"Miracle on 34th Street (1994)\"],[\"E.T. the Extra-Terrestrial (1982)\"],[\"Shadow of a Doubt (1943)\"],[\"Musketeer, The (2001)\"],[\"Stargate (1994)\"],[\"Mulholland Drive (2001)\"],[\"Hellboy (2004)\"],[\"Alien (1979)\"],[\"Monster House (2006)\"],[\"Big Daddy (1999)\"],[\"Lethal Weapon 2 (1989)\"],[\"Executive Decision (1996)\"],[\"Broadcast News (1987)\"],[\"Ghost Dog: The Way of the Samurai (1999)\"],[\"Natural Born Killers (1994)\"],[\"Same Time, Next Year (1978)\"],[\"One Flew Over the Cuckoo's Nest (1975)\"],[\"Swimming with Sharks (1995)\"],[\"M (1931)\"],[\"Boiler Room (2000)\"],[\"Transporter, The (2002)\"],[\"Little Miss Sunshine (2006)\"],[\"Devil's Advocate, The (1997)\"],[\"Crimson Tide (1995)\"],[\"Catch Me If You Can (2002)\"],[\"Courage Under Fire (1996)\"],[\"Looney Tunes: Back in Action (2003)\"],[\"Sense and Sensibility (1995)\"],[\"Field of Dreams (1989)\"],[\"Lady Vanishes, The (1938)\"],[\"Ace Ventura: When Nature Calls (1995)\"],[\"Old School (2003)\"],[\"Capote (2005)\"],[\"Back to the Future (1985)\"],[\"Funny Games U.S. (2007)\"],[\"Dragonheart (1996)\"],[\"Miss Congeniality (2000)\"],[\"Full Monty, The (1997)\"],[\"Lion King, The (1994)\"],[\"Pinocchio (1940)\"],[\"Robots (2005)\"],[\"Scarface (1983)\"],[\"Unforgiven (1992)\"],[\"Mission: Impossible (1996)\"],[\"Birdcage, The (1996)\"],[\"Pink Floyd: The Wall (1982)\"],[\"Ghost in the Shell (K\\u00f4kaku kid\\u00f4tai) (1995)\"],[\"Book of Shadows: Blair Witch 2 (2000)\"],[\"Spy Who Loved Me, The (1977)\"],[\"How Green Was My Valley (1941)\"],[\"In-Laws, The (2003)\"],[\"Airplane! (1980)\"],[\"Net, The (1995)\"],[\"Short Cuts (1993)\"],[\"Mesrine: Public Enemy #1 (L'ennemi public n\\u00b01) (2008)\"],[\"Ghostbusters (a.k.a. Ghost Busters) (1984)\"],[\"Outbreak (1995)\"],[\"Speed (1994)\"],[\"Ruthless People (1986)\"],[\"Apocalypse Now (1979)\"],[\"Terminator 3: Rise of the Machines (2003)\"],[\"Femme Nikita, La (Nikita) (1990)\"],[\"Mrs. Doubtfire (1993)\"],[\"Star Wars: Episode III - Revenge of the Sith (2005)\"],[\"Pearl Harbor (2001)\"],[\"What's Up, Tiger Lily? (1966)\"],[\"Sense and Sensibility (1995)\"],[\"Where Eagles Dare (1968)\"],[\"Thelma & Louise (1991)\"],[\"Minority Report (2002)\"],[\"Love and Death on Long Island (1997)\"],[\"Insider, The (1999)\"],[\"F/X (1986)\"],[\"Scary Movie 2 (2001)\"],[\"Charlie's Angels: Full Throttle (2003)\"],[\"Mighty Morphin Power Rangers: The Movie (1995)\"],[\"Spaceballs (1987)\"],[\"28 Weeks Later (2007)\"],[\"Jungle Book, The (1994)\"],[\"Amelie (Fabuleux destin d'Am\\u00e9lie Poulain, Le) (2001)\"],[\"Brady Bunch Movie, The (1995)\"],[\"Tao of Steve, The (2000)\"],[\"Rush Hour (1998)\"],[\"Schindler's List (1993)\"],[\"House of Yes, The (1997)\"],[\"Live and Let Die (1973)\"],[\"First Knight (1995)\"],[\"Santa Clause, The (1994)\"],[\"Changing Habits (1997)\"],[\"Smokey and the Bandit (1977)\"],[\"Browning Version, The (1994)\"],[\"True Lies (1994)\"],[\"Lassie Come Home (1943)\"],[\"Red Violin, The (Violon rouge, Le) (1998)\"],[\"Invasion, The (2007)\"],[\"Dead Presidents (1995)\"],[\"Apostle, The (1997)\"],[\"Tin Cup (1996)\"],[\"Lost in Space (1998)\"],[\"Royal Tenenbaums, The (2001)\"],[\"Bamboozled (2000)\"],[\"Gattaca (1997)\"],[\"Two Much (1995)\"],[\"French Kiss (1995)\"],[\"Matilda (1996)\"],[\"American Pie 2 (2001)\"],[\"American Pie 2 (2001)\"],[\"Firm, The (1993)\"],[\"Pretty Woman (1990)\"],[\"Zoolander (2001)\"],[\"Die Another Day (2002)\"],[\"Devdas (2002)\"],[\"Bachelor, The (1999)\"],[\"Harry Potter and the Prisoner of Azkaban (2004)\"],[\"Teenage Mutant Ninja Turtles II: The Secret of the Ooze (1991)\"],[\"Fled (1996)\"],[\"Wedding Planner, The (2001)\"],[\"Ben-Hur (1959)\"],[\"Wedding Crashers (2005)\"],[\"Fargo (1996)\"],[\"Last Temptation of Christ, The (1988)\"],[\"L\\u00e9on: The Professional (a.k.a. The Professional) (L\\u00e9on) (1994)\"],[\"Shattered Glass (2003)\"],[\"8 Heads in a Duffel Bag (1997)\"],[\"Showgirls (1995)\"],[\"Coming to America (1988)\"],[\"World Is Not Enough, The (1999)\"],[\"Star Trek II: The Wrath of Khan (1982)\"],[\"Stripes (1981)\"],[\"Beauty and the Beast (1991)\"],[\"Payback (1999)\"],[\"French Connection, The (1971)\"],[\"Cold Comfort Farm (1995)\"],[\"Fight Club (1999)\"],[\"Austin Powers: The Spy Who Shagged Me (1999)\"],[\"Cocktail (1988)\"],[\"Long Kiss Goodnight, The (1996)\"],[\"Spanish Prisoner, The (1997)\"],[\"Interview with the Vampire: The Vampire Chronicles (1994)\"],[\"Armageddon (1998)\"],[\"English Patient, The (1996)\"],[\"Executive Decision (1996)\"],[\"U-571 (2000)\"],[\"Horseman on the Roof, The (Hussard sur le toit, Le) (1995)\"],[\"The Butterfly Effect (2004)\"],[\"American History X (1998)\"],[\"Notting Hill (1999)\"],[\"American Pie (1999)\"],[\"Star Trek II: The Wrath of Khan (1982)\"],[\"Ghost (1990)\"],[\"Next Friday (2000)\"],[\"Karate Kid, The (1984)\"],[\"Nadja (1994)\"],[\"For Richer or Poorer (1997)\"],[\"Halloween (1978)\"],[\"Jurassic Park (1993)\"],[\"Babe (1995)\"],[\"Fried Green Tomatoes (1991)\"],[\"Ghost (1990)\"],[\"Miami Vice (2006)\"],[\"Breakfast Club, The (1985)\"],[\"Lord of the Rings: The Fellowship of the Ring, The (2001)\"],[\"Pretty Woman (1990)\"],[\"Outsiders, The (1983)\"],[\"Kindergarten Cop (1990)\"],[\"101 Dalmatians (1996)\"],[\"Three Days of the Condor (3 Days of the Condor) (1975)\"],[\"Vampire Hunter D: Bloodlust (Banpaia hant\\u00e2 D) (2000)\"],[\"Manderlay (2005)\"],[\"Time to Kill, A (1996)\"],[\"Daredevil (2003)\"],[\"Stargate (1994)\"],[\"Willy Wonka & the Chocolate Factory (1971)\"],[\"Ring, The (2002)\"],[\"Escape to Witch Mountain (1975)\"],[\"Knight's Tale, A (2001)\"],[\"Woyzeck (1979)\"],[\"Men with Guns (1997)\"],[\"Mission: Impossible (1996)\"],[\"Poseidon Adventure, The (1972)\"],[\"Jingle All the Way (1996)\"],[\"Fargo (1996)\"],[\"Planet of the Apes (2001)\"],[\"King Kong (2005)\"],[\"Sirens (1994)\"],[\"Dumb & Dumber (Dumb and Dumber) (1994)\"],[\"Birds, The (1963)\"],[\"X-Men (2000)\"],[\"Princess Mononoke (Mononoke-hime) (1997)\"],[\"Pirates of the Caribbean: Dead Man's Chest (2006)\"],[\"20,000 Leagues Under the Sea (1954)\"],[\"Conspiracy Theory (1997)\"],[\"Basket Case (1982)\"],[\"Sleepless in Seattle (1993)\"],[\"Cast Away (2000)\"],[\"Thin Red Line, The (1998)\"],[\"Seven (a.k.a. Se7en) (1995)\"],[\"Rush Hour (1998)\"],[\"Mystic River (2003)\"],[\"Body of Lies (2008)\"],[\"Halloween III: Season of the Witch (1982)\"],[\"Star Wars: Episode VI - Return of the Jedi (1983)\"],[\"Carnival of Souls (1962)\"],[\"Mission: Impossible III (2006)\"],[\"Seven (a.k.a. Se7en) (1995)\"],[\"And Your Mother Too (Y tu mam\\u00e1 tambi\\u00e9n) (2001)\"],[\"Temptress Moon (Feng Yue) (1996)\"],[\"American History X (1998)\"],[\"Majestic, The (2001)\"],[\"U.S. Marshals (1998)\"],[\"Great Escape, The (1963)\"],[\"Night Shift (1982)\"],[\"Few Good Men, A (1992)\"],[\"Crimson Tide (1995)\"],[\"Zombieland (2009)\"],[\"Lord of the Rings: The Two Towers, The (2002)\"],[\"Crouching Tiger, Hidden Dragon (Wo hu cang long) (2000)\"],[\"Maltese Falcon, The (1941)\"],[\"Showgirls (1995)\"],[\"Scarface (1983)\"],[\"Ferris Bueller's Day Off (1986)\"],[\"Fifth Element, The (1997)\"],[\"Breakfast Club, The (1985)\"],[\"Breakfast at Tiffany's (1961)\"],[\"Perfume: The Story of a Murderer (2006)\"],[\"Princess Mononoke (Mononoke-hime) (1997)\"],[\"Jawbreaker (1999)\"],[\"A.I. Artificial Intelligence (2001)\"],[\"City of God (Cidade de Deus) (2002)\"],[\"In the Bedroom (2001)\"],[\"Titanic (1953)\"],[\"Ace Ventura: Pet Detective (1994)\"],[\"X-Men Origins: Wolverine (2009)\"],[\"Secrets & Lies (1996)\"],[\"Black and White (1999)\"],[\"Snow White and the Seven Dwarfs (1937)\"],[\"Eagle Eye (2008)\"],[\"Signs (2002)\"],[\"Babe: Pig in the City (1998)\"],[\"Emperor's New Groove, The (2000)\"],[\"Frozen River (2008)\"],[\"Jean de Florette (1986)\"],[\"Cliffhanger (1993)\"],[\"Whole Nine Yards, The (2000)\"],[\"Italian Job, The (2003)\"],[\"Memento (2000)\"],[\"Star Wars: Episode III - Revenge of the Sith (2005)\"],[\"Pirates of the Caribbean: Dead Man's Chest (2006)\"],[\"Cry in the Dark, A (1988)\"],[\"Royal Tenenbaums, The (2001)\"],[\"Office Space (1999)\"],[\"Braveheart (1995)\"],[\"Black Sheep (1996)\"],[\"Lethal Weapon (1987)\"],[\"Royal Tenenbaums, The (2001)\"],[\"Eraser (1996)\"],[\"Apartment, The (1960)\"],[\"Batman Begins (2005)\"],[\"Clockwork Orange, A (1971)\"],[\"You Got Served (2004)\"],[\"Clueless (1995)\"],[\"What Planet Are You From? (2000)\"],[\"Spartacus (1960)\"],[\"When Harry Met Sally... (1989)\"],[\"Tae Guk Gi: The Brotherhood of War (Taegukgi hwinalrimyeo) (2004)\"],[\"Small Time Crooks (2000)\"],[\"Dead Man Walking (1995)\"],[\"True Lies (1994)\"],[\"Kicking and Screaming (1995)\"],[\"Hero (Ying xiong) (2002)\"],[\"Illusionist, The (2006)\"],[\"Desperately Seeking Susan (1985)\"],[\"Gattaca (1997)\"],[\"Frailty (2001)\"],[\"Life as a House (2001)\"],[\"28 Days Later (2002)\"],[\"Lock, Stock & Two Smoking Barrels (1998)\"],[\"Last Samurai, The (2003)\"],[\"Ghostbusters II (1989)\"],[\"Little Women (1994)\"],[\"Dead End (1937)\"],[\"Antitrust (2001)\"],[\"Nell (1994)\"],[\"Amarcord (1973)\"],[\"George of the Jungle (1997)\"],[\"Never Been Kissed (1999)\"],[\"Dumb & Dumber (Dumb and Dumber) (1994)\"],[\"Pulp Fiction (1994)\"],[\"Sleepless in Seattle (1993)\"],[\"Bowling for Columbine (2002)\"],[\"Helvetica (2007)\"],[\"Spitfire Grill, The (1996)\"],[\"Dune (1984)\"],[\"Saint, The (1997)\"],[\"Dave (1993)\"],[\"Invisible Man, The (1933)\"],[\"Boiler Room (2000)\"],[\"Jungle Book, The (1994)\"],[\"16 Blocks (2006)\"],[\"Four Weddings and a Funeral (1994)\"],[\"Hunchback of Notre Dame, The (1996)\"],[\"Ruling Class, The (1972)\"],[\"Aliens (1986)\"],[\"Departed, The (2006)\"],[\"Natural Born Killers (1994)\"],[\"Little Big League (1994)\"],[\"Jurassic Park (1993)\"],[\"Gangs of New York (2002)\"],[\"Wayne's World (1992)\"],[\"Michael Collins (1996)\"],[\"Die Hard: With a Vengeance (1995)\"],[\"Bad Boys (1995)\"],[\"Die Hard (1988)\"],[\"Indiana Jones and the Last Crusade (1989)\"],[\"From Dusk Till Dawn (1996)\"],[\"Can't Hardly Wait (1998)\"],[\"Funny Games (1997)\"],[\"Hidden Fortress, The (Kakushi-toride no san-akunin) (1958)\"],[\"Westworld (1973)\"],[\"Groundhog Day (1993)\"],[\"Rock, The (1996)\"],[\"Cinema Paradiso (Nuovo cinema Paradiso) (1989)\"],[\"Good Morning, Vietnam (1987)\"],[\"Toy Story 2 (1999)\"],[\"Santa Clause, The (1994)\"],[\"Pinocchio (1940)\"],[\"Sunset Limited, The (2011)\"],[\"Monsters, Inc. (2001)\"],[\"Whole Ten Yards, The (2004)\"],[\"Destry Rides Again (1939)\"],[\"Mask, The (1994)\"],[\"Shrek (2001)\"],[\"Armageddon (1998)\"],[\"Erin Brockovich (2000)\"],[\"Pitch Black (2000)\"],[\"Legally Blonde (2001)\"],[\"Knight's Tale, A (2001)\"],[\"So I Married an Axe Murderer (1993)\"],[\"Drop Dead Gorgeous (1999)\"],[\"Bug's Life, A (1998)\"],[\"Beverly Hills Cop III (1994)\"],[\"American Wedding (American Pie 3) (2003)\"],[\"Hurt Locker, The (2008)\"],[\"Back to the Future Part III (1990)\"],[\"Snow Falling on Cedars (1999)\"],[\"Pushing Tin (1999)\"],[\"Lovely & Amazing (2001)\"],[\"Signs (2002)\"],[\"Bridge on the River Kwai, The (1957)\"],[\"2001: A Space Odyssey (1968)\"],[\"Ransom (1996)\"],[\"Explorers (1985)\"],[\"Circle of Friends (1995)\"],[\"Bad Company (1995)\"],[\"Good Man in Africa, A (1994)\"],[\"First Wives Club, The (1996)\"],[\"Donnie Darko (2001)\"],[\"Abyss, The (1989)\"],[\"In America (2002)\"],[\"Twister (1996)\"],[\"Fargo (1996)\"],[\"Labyrinth (1986)\"],[\"Austin Powers: International Man of Mystery (1997)\"],[\"Harry Potter and the Chamber of Secrets (2002)\"],[\"I Know What You Did Last Summer (1997)\"],[\"GoldenEye (1995)\"],[\"Perfect World, A (1993)\"],[\"Eraser (1996)\"],[\"Henry V (1989)\"],[\"Total Recall (1990)\"],[\"Don Juan DeMarco (1995)\"],[\"National Security (2003)\"],[\"U.S. Marshals (1998)\"],[\"Alien: Resurrection (1997)\"],[\"Saint, The (1997)\"],[\"Vicky Cristina Barcelona (2008)\"],[\"Don Juan DeMarco (1995)\"],[\"Batman Forever (1995)\"],[\"From Hell (2001)\"],[\"Matrix, The (1999)\"],[\"Aliens (1986)\"],[\"Dumbo (1941)\"],[\"Willy Wonka & the Chocolate Factory (1971)\"],[\"Arachnophobia (1990)\"],[\"Freakonomics (2010)\"],[\"Ninja Scroll (J\\u00fbbei ninp\\u00fbch\\u00f4) (1995)\"],[\"Wave, The (Welle, Die) (2008)\"],[\"Fear and Loathing in Las Vegas (1998)\"],[\"Firm, The (1993)\"],[\"Four Rooms (1995)\"],[\"Stardust (2007)\"],[\"Speed (1994)\"],[\"Akira (1988)\"],[\"How to Lose a Guy in 10 Days (2003)\"],[\"Gauntlet, The (1977)\"],[\"Star Wars: Episode V - The Empire Strikes Back (1980)\"],[\"My Man Godfrey (1936)\"],[\"Breaking the Waves (1996)\"],[\"Random Hearts (1999)\"],[\"Cowboys & Aliens (2011)\"],[\"Blood Simple (1984)\"],[\"Three Kings (1999)\"],[\"Cookie's Fortune (1999)\"],[\"Paris, Texas (1984)\"],[\"Austin Powers: International Man of Mystery (1997)\"],[\"Midnight Run (1988)\"],[\"Super Size Me (2004)\"],[\"Maltese Falcon, The (1941)\"],[\"Last of the Mohicans, The (1992)\"],[\"West Side Story (1961)\"],[\"Spy Game (2001)\"],[\"Honey, I Shrunk the Kids (1989)\"],[\"Raising Arizona (1987)\"],[\"Madagascar: Escape 2 Africa (2008)\"],[\"Harry Potter and the Chamber of Secrets (2002)\"],[\"Road to Perdition (2002)\"],[\"Terminator, The (1984)\"],[\"Death to Smoochy (2002)\"],[\"Fire with Fire (2012)\"],[\"Da Vinci Code, The (2006)\"],[\"Mrs. Brown (a.k.a. Her Majesty, Mrs. Brown) (1997)\"],[\"Blues Brothers, The (1980)\"],[\"Fight Club (1999)\"],[\"Anaconda (1997)\"],[\"Firm, The (1993)\"],[\"White Men Can't Jump (1992)\"],[\"Animatrix, The (2003)\"],[\"Cape Fear (1991)\"],[\"Serial Mom (1994)\"],[\"March of the Penguins (Marche de l'empereur, La) (2005)\"],[\"Dial M for Murder (1954)\"],[\"Road Warrior, The (Mad Max 2) (1981)\"],[\"Jurassic Park (1993)\"],[\"Benny & Joon (1993)\"],[\"Who Framed Roger Rabbit? (1988)\"],[\"Midnight Cowboy (1969)\"],[\"Scrooged (1988)\"],[\"Batman Forever (1995)\"],[\"Game, The (1997)\"],[\"Nightmare on Elm Street, A (1984)\"],[\"Red Sonja (1985)\"],[\"Snake Eyes (1998)\"],[\"Romeo Must Die (2000)\"],[\"Cloudy with a Chance of Meatballs (2009)\"],[\"Ghosts of Mississippi (1996)\"],[\"Bulletproof Monk (2003)\"],[\"Monty Python and the Holy Grail (1975)\"],[\"Groundhog Day (1993)\"],[\"Mask, The (1994)\"],[\"Star Trek III: The Search for Spock (1984)\"],[\"Jurassic Park (1993)\"],[\"Fisher King, The (1991)\"],[\"Back to the Future (1985)\"],[\"Identity (2003)\"],[\"Galaxy Quest (1999)\"],[\"Bad Santa (2003)\"],[\"Good Girl, The (2002)\"],[\"Ghost (1990)\"],[\"Dirty Pretty Things (2002)\"],[\"Clerks (1994)\"],[\"Melancholia (2011)\"],[\"Seven Psychopaths (2012)\"],[\"American Beauty (1999)\"],[\"Englishman Who Went Up a Hill But Came Down a Mountain, The (1995)\"],[\"Bowling for Columbine (2002)\"],[\"Up (2009)\"],[\"Natural Born Killers (1994)\"],[\"Fantasia (1940)\"],[\"Braveheart (1995)\"],[\"Sling Blade (1996)\"],[\"Dead Poets Society (1989)\"],[\"Finding Neverland (2004)\"],[\"World Is Not Enough, The (1999)\"],[\"Red Riding: 1980 (2009)\"],[\"Quest, The (1996)\"],[\"Sweet Hereafter, The (1997)\"],[\"Georgia Rule (2007)\"],[\"Star Wars: Episode IV - A New Hope (1977)\"],[\"Taxi Driver (1976)\"],[\"Midnight Clear, A (1992)\"],[\"Alien: Resurrection (1997)\"],[\"L\\u00e9on: The Professional (a.k.a. The Professional) (L\\u00e9on) (1994)\"],[\"Parent Trap, The (1961)\"],[\"Taking Woodstock (2009)\"],[\"On the Road (2012)\"],[\"Shallow Hal (2001)\"],[\"Home Alone (1990)\"],[\"Wayne's World (1992)\"],[\"Battlestar Galactica: Razor (2007)\"],[\"Chinatown (1974)\"],[\"Monsters, Inc. (2001)\"],[\"Serenity (2005)\"],[\"Shine (1996)\"],[\"Hoop Dreams (1994)\"],[\"Robin Hood (1973)\"],[\"Mrs. Miniver (1942)\"],[\"West Side Story (1961)\"],[\"Ghostbusters (a.k.a. Ghost Busters) (1984)\"],[\"Moonstruck (1987)\"],[\"You've Got Mail (1998)\"],[\"Asphalt Jungle, The (1950)\"],[\"GoldenEye (1995)\"],[\"Star Trek: Generations (1994)\"],[\"Entrapment (1999)\"],[\"Pretty Woman (1990)\"],[\"Bob Roberts (1992)\"],[\"Wag the Dog (1997)\"],[\"Tomorrow Never Dies (1997)\"],[\"Amadeus (1984)\"],[\"Secret Window (2004)\"],[\"Crow, The (1994)\"],[\"Hugo Pool (1997)\"],[\"Dungeons & Dragons (2000)\"],[\"Jurassic Park (1993)\"],[\"Forrest Gump (1994)\"],[\"Shawshank Redemption, The (1994)\"],[\"Indiana Jones and the Last Crusade (1989)\"],[\"Ed Wood (1994)\"],[\"Bananas (1971)\"],[\"Fled (1996)\"],[\"All About Eve (1950)\"],[\"Gone with the Wind (1939)\"],[\"Almost Famous (2000)\"],[\"Pee-wee's Big Adventure (1985)\"],[\"Salvador (1986)\"],[\"The Butterfly Effect (2004)\"],[\"You've Got Mail (1998)\"],[\"I.Q. (1994)\"],[\"Goodfellas (1990)\"],[\"Terminator 2: Judgment Day (1991)\"],[\"Disclosure (1994)\"],[\"Deep Impact (1998)\"],[\"Epic Movie (2007)\"],[\"Big Lebowski, The (1998)\"],[\"First Knight (1995)\"],[\"From Here to Eternity (1953)\"],[\"Treasure of the Sierra Madre, The (1948)\"],[\"Save the Last Dance (2001)\"],[\"Half Baked (1998)\"],[\"3:10 to Yuma (2007)\"],[\"Abyss, The (1989)\"],[\"Few Good Men, A (1992)\"],[\"Heavenly Creatures (1994)\"],[\"Godzilla (1998)\"],[\"Men in Black (a.k.a. MIB) (1997)\"],[\"Moulin Rouge (2001)\"],[\"Seven (a.k.a. Se7en) (1995)\"],[\"E.T. the Extra-Terrestrial (1982)\"],[\"One Flew Over the Cuckoo's Nest (1975)\"],[\"Beauty and the Beast (1991)\"],[\"Dirty Dancing (1987)\"],[\"Pleasantville (1998)\"],[\"Clueless (1995)\"],[\"Pay It Forward (2000)\"],[\"In the Realm of the Senses (Ai no corrida) (1976)\"],[\"Apollo 13 (1995)\"],[\"Raiders of the Lost Ark (Indiana Jones and the Raiders of the Lost Ark) (1981)\"],[\"Hemingway & Gellhorn (2012)\"],[\"Bad Taste (1987)\"],[\"Clockwork Orange, A (1971)\"],[\"Black Hawk Down (2001)\"],[\"Drop Zone (1994)\"],[\"Antz (1998)\"],[\"Edward Scissorhands (1990)\"],[\"True Lies (1994)\"],[\"Robin Hood: Men in Tights (1993)\"],[\"War of the Worlds (2005)\"],[\"Godfather: Part II, The (1974)\"],[\"Star Wars: Episode IV - A New Hope (1977)\"],[\"Animals are Beautiful People (1974)\"],[\"Rules of the Game, The (La r\\u00e8gle du jeu) (1939)\"],[\"Beautiful Mind, A (2001)\"],[\"Juno (2007)\"],[\"Shall We Dance (1937)\"],[\"Koti-ik\\u00e4v\\u00e4 (2005)\"],[\"Atlantic City (1980)\"],[\"Dead Zone, The (1983)\"],[\"Young Poisoner's Handbook, The (1995)\"],[\"Specialist, The (1994)\"],[\"GoldenEye (1995)\"],[\"Dances with Wolves (1990)\"],[\"K-PAX (2001)\"],[\"Three Kings (1999)\"],[\"Heist (2001)\"],[\"Men in Black (a.k.a. MIB) (1997)\"],[\"City by the Sea (2002)\"],[\"Empire of the Sun (1987)\"],[\"Forgetting Sarah Marshall (2008)\"],[\"Motorcycle Diaries, The (Diarios de motocicleta) (2004)\"],[\"Deliverance (1972)\"],[\"Young Poisoner's Handbook, The (1995)\"],[\"Celebration, The (Festen) (1998)\"],[\"Easy Rider (1969)\"],[\"Mark of Zorro, The (1940)\"],[\"Big (1988)\"],[\"Signal, The (2007)\"],[\"American President, The (1995)\"],[\"Star Wars: Episode VI - Return of the Jedi (1983)\"],[\"Falcon and the Snowman, The (1985)\"],[\"Who's Afraid of Virginia Woolf? (1966)\"],[\"Aliens (1986)\"],[\"Buena Vista Social Club (1999)\"],[\"Beverly Hills Cop (1984)\"],[\"Spider-Man (2002)\"],[\"Cliffhanger (1993)\"],[\"Star Trek: First Contact (1996)\"],[\"Jerry Maguire (1996)\"],[\"Blade Runner (1982)\"],[\"Freeway (1996)\"],[\"Salome's Last Dance (1988)\"],[\"Meet the Robinsons (2007)\"],[\"Mercury Rising (1998)\"],[\"Celluloid Closet, The (1995)\"],[\"Silence of the Lambs, The (1991)\"],[\"Pushing Tin (1999)\"],[\"Robin Hood: Men in Tights (1993)\"],[\"Waterworld (1995)\"],[\"Strictly Ballroom (1992)\"],[\"Poltergeist (1982)\"],[\"Other Sister, The (1999)\"],[\"Hard-Boiled (Lat sau san taam) (1992)\"],[\"Hot Fuzz (2007)\"],[\"Ronin (1998)\"],[\"Sommersby (1993)\"],[\"50 First Dates (2004)\"],[\"Commitments, The (1991)\"],[\"Sleepless in Seattle (1993)\"],[\"Pushing Tin (1999)\"],[\"Butch Cassidy and the Sundance Kid (1969)\"],[\"Punch-Drunk Love (2002)\"],[\"Pulp Fiction (1994)\"],[\"Lord of the Rings: The Fellowship of the Ring, The (2001)\"],[\"White Squall (1996)\"],[\"Return to Oz (1985)\"],[\"Billy Elliot (2000)\"],[\"Caddyshack (1980)\"],[\"North by Northwest (1959)\"],[\"Horror of Dracula (Dracula) (1958)\"],[\"127 Hours (2010)\"],[\"Lawrence of Arabia (1962)\"],[\"Umbrellas of Cherbourg, The (Parapluies de Cherbourg, Les) (1964)\"],[\"Trainspotting (1996)\"],[\"Femme Nikita, La (Nikita) (1990)\"],[\"Liar Liar (1997)\"],[\"War of the Worlds (2005)\"],[\"Skin I Live In, The (La piel que habito) (2011)\"],[\"Home Alone 2: Lost in New York (1992)\"],[\"Scanner Darkly, A (2006)\"],[\"Christmas Story, A (1983)\"],[\"Pocahontas (1995)\"],[\"Gangs of New York (2002)\"],[\"Simon Birch (1998)\"],[\"Shrek (2001)\"],[\"High Noon (1952)\"],[\"Austin Powers: The Spy Who Shagged Me (1999)\"],[\"Dead Poets Society (1989)\"],[\"Grumpier Old Men (1995)\"],[\"Goodfellas (1990)\"],[\"Princess Bride, The (1987)\"],[\"Star Wars: Episode IV - A New Hope (1977)\"],[\"Godfather, The (1972)\"],[\"200 Cigarettes (1999)\"],[\"Network (1976)\"],[\"Cinderella (1950)\"],[\"Traffic (2000)\"],[\"Xiu Xiu: The Sent-Down Girl (Tian yu) (1998)\"],[\"Jumanji (1995)\"],[\"Elf (2003)\"],[\"Ace Ventura: When Nature Calls (1995)\"],[\"Doubt (2008)\"],[\"Beauty and the Beast (1991)\"],[\"Home Alone (1990)\"],[\"National Lampoon's Van Wilder (2002)\"],[\"Scarface (1983)\"],[\"Superman IV: The Quest for Peace (1987)\"],[\"Johnny Mnemonic (1995)\"],[\"Home Alone (1990)\"],[\"Outbreak (1995)\"],[\"Affair of Love, An (Liaison pornographique, Une) (1999)\"],[\"Jacknife (1989)\"],[\"Rocky IV (1985)\"],[\"Cloud Atlas (2012)\"],[\"Finding Nemo (2003)\"],[\"Beetlejuice (1988)\"],[\"I'll Do Anything (1994)\"],[\"Resurrected, The (1992)\"],[\"Secret Window (2004)\"],[\"Edward Scissorhands (1990)\"],[\"Sting, The (1973)\"],[\"Monty Python and the Holy Grail (1975)\"],[\"Total Recall (1990)\"],[\"Town, The (2010)\"],[\"Kill Bill: Vol. 2 (2004)\"],[\"Rugrats Go Wild! (2003)\"],[\"2001: A Space Odyssey (1968)\"],[\"Chinatown (1974)\"],[\"Tomorrow Never Dies (1997)\"],[\"Demolition Man (1993)\"],[\"Young Frankenstein (1974)\"],[\"Touch of Evil (1958)\"],[\"Almost Famous (2000)\"],[\"Firm, The (1993)\"],[\"Sleepless in Seattle (1993)\"],[\"Back to the Future Part III (1990)\"],[\"Lion King, The (1994)\"],[\"Mr. Holland's Opus (1995)\"],[\"Blue Velvet (1986)\"],[\"Crocodile Dundee II (1988)\"],[\"Ace Ventura: When Nature Calls (1995)\"],[\"Erin Brockovich (2000)\"],[\"Heavenly Creatures (1994)\"],[\"You've Got Mail (1998)\"],[\"Simple Plan, A (1998)\"],[\"Silence of the Lambs, The (1991)\"],[\"Eastern Promises (2007)\"],[\"West Side Story (1961)\"],[\"Batman: Under the Red Hood (2010)\"],[\"Double Indemnity (1944)\"],[\"Erin Brockovich (2000)\"],[\"Brokeback Mountain (2005)\"],[\"Tree of Life, The (2011)\"],[\"13th Warrior, The (1999)\"],[\"Breakfast Club, The (1985)\"],[\"Divine Secrets of the Ya-Ya Sisterhood (2002)\"],[\"Game, The (1997)\"],[\"Monty Python's And Now for Something Completely Different (1971)\"],[\"City of Industry (1997)\"],[\"Saving Private Ryan (1998)\"],[\"Scratch (2001)\"],[\"Amadeus (1984)\"],[\"Who Framed Roger Rabbit? (1988)\"],[\"Ransom (1996)\"],[\"Aliens (1986)\"],[\"Usual Suspects, The (1995)\"],[\"No Country for Old Men (2007)\"],[\"Net, The (1995)\"],[\"Anatomy of a Murder (1959)\"],[\"2001: A Space Odyssey (1968)\"],[\"Craft, The (1996)\"],[\"Paper, The (1994)\"],[\"Saved! (2004)\"],[\"Hunger (2008)\"],[\"Evolution (2001)\"],[\"Grosse Pointe Blank (1997)\"],[\"Chinatown (1974)\"],[\"Harry Potter and the Deathly Hallows: Part 2 (2011)\"],[\"Monty Python and the Holy Grail (1975)\"],[\"Simpsons Movie, The (2007)\"],[\"Clueless (1995)\"],[\"Transformers: The Movie (1986)\"],[\"Crimson Tide (1995)\"],[\"Mighty Aphrodite (1995)\"],[\"Toy Story 3 (2010)\"],[\"When Harry Met Sally... (1989)\"],[\"Legend of Drunken Master, The (Jui kuen II) (1994)\"],[\"Mary Poppins (1964)\"],[\"What Lies Beneath (2000)\"],[\"State of Play (2009)\"],[\"American Pie (1999)\"],[\"Dead Poets Society (1989)\"],[\"Crazy, Stupid, Love. (2011)\"],[\"Number 23, The (2007)\"],[\"Last Emperor, The (1987)\"],[\"2 Days in the Valley (1996)\"],[\"Net, The (1995)\"],[\"Reno 911!: Miami (2007)\"],[\"L\\u00e9on: The Professional (a.k.a. The Professional) (L\\u00e9on) (1994)\"],[\"Topsy-Turvy (1999)\"],[\"Princess Bride, The (1987)\"],[\"There's Something About Mary (1998)\"],[\"Monty Python and the Holy Grail (1975)\"],[\"Bless the Child (2000)\"],[\"Splash (1984)\"],[\"Omega Man, The (1971)\"],[\"Slackers (2002)\"],[\"Man of the House (1995)\"],[\"First Wives Club, The (1996)\"],[\"Royal Tenenbaums, The (2001)\"],[\"Ratatouille (2007)\"],[\"Battlefield Earth (2000)\"],[\"Honey, I Shrunk the Kids (1989)\"],[\"2 Days in New York (2012)\"],[\"Road Trip (2000)\"],[\"Batman Forever (1995)\"],[\"Dances with Wolves (1990)\"],[\"Lives of Others, The (Das leben der Anderen) (2006)\"],[\"Casanova (2005)\"],[\"Fantastic Mr. Fox (2009)\"],[\"Live and Let Die (1973)\"],[\"Practical Magic (1998)\"],[\"Santa Clause, The (1994)\"],[\"Sleepers (1996)\"],[\"Superstar (1999)\"],[\"Inherit the Wind (1960)\"],[\"Mallrats (1995)\"],[\"Unforgiven (1992)\"],[\"Apollo 13 (1995)\"],[\"Cinema Paradiso (Nuovo cinema Paradiso) (1989)\"],[\"Coming to America (1988)\"],[\"Tomorrow Never Dies (1997)\"],[\"Crow: City of Angels, The (1996)\"],[\"Ideal Husband, An (1999)\"],[\"From Dusk Till Dawn (1996)\"],[\"Arthur (1981)\"],[\"Erin Brockovich (2000)\"],[\"Star Trek Into Darkness (2013)\"],[\"Breakfast Club, The (1985)\"],[\"Braveheart (1995)\"],[\"Hudsucker Proxy, The (1994)\"],[\"Black Hawk Down (2001)\"],[\"Affair to Remember, An (1957)\"],[\"Pirates of the Caribbean: On Stranger Tides (2011)\"],[\"His Girl Friday (1940)\"],[\"Chinatown (1974)\"],[\"Backdraft (1991)\"],[\"Point Break (1991)\"],[\"Ghostbusters (a.k.a. Ghost Busters) (1984)\"],[\"Big Fish (2003)\"],[\"Charlie's Angels: Full Throttle (2003)\"],[\"Jerk, The (1979)\"],[\"Fight Club (1999)\"],[\"Groundhog Day (1993)\"],[\"Jurassic Park (1993)\"],[\"Fugitive, The (1993)\"],[\"Schindler's List (1993)\"],[\"Ace Ventura: Pet Detective (1994)\"],[\"Eraser (1996)\"],[\"2001: A Space Odyssey (1968)\"],[\"Back to the Future (1985)\"],[\"Mask, The (1994)\"],[\"Silence of the Lambs, The (1991)\"],[\"Adventures of Buckaroo Banzai Across the 8th Dimension, The (1984)\"],[\"Mask of Zorro, The (1998)\"],[\"Traffic (2000)\"],[\"Being There (1979)\"],[\"Terminator, The (1984)\"],[\"Con Air (1997)\"],[\"Fugitive, The (1993)\"],[\"American Beauty (1999)\"],[\"Bug's Life, A (1998)\"],[\"Condorman (1981)\"],[\"Don Juan DeMarco (1995)\"],[\"Abandon (2002)\"],[\"Armageddon (1998)\"],[\"Amores Perros (Love's a Bitch) (2000)\"],[\"Taps (1981)\"],[\"Mystic River (2003)\"],[\"Troll Hunter, The (Trolljegeren) (2010)\"],[\"Dumbo (1941)\"],[\"Rock Star (2001)\"],[\"Cowboys & Aliens (2011)\"],[\"Shrek 2 (2004)\"],[\"Bodyguard, The (1992)\"],[\"Carlito's Way (1993)\"],[\"Batman Begins (2005)\"],[\"Living Out Loud (1998)\"],[\"Saw II (2005)\"],[\"Twelve Monkeys (a.k.a. 12 Monkeys) (1995)\"],[\"Money Train (1995)\"],[\"Schindler's List (1993)\"],[\"Secret Garden, The (1993)\"],[\"All Quiet on the Western Front (1930)\"],[\"Ref, The (1994)\"],[\"Home Alone (1990)\"],[\"Mr. Holland's Opus (1995)\"],[\"Silverado (1985)\"],[\"Space Jam (1996)\"],[\"Man with the Golden Gun, The (1974)\"],[\"Robin Hood (2010)\"],[\"Congo (1995)\"],[\"Englishman Who Went Up a Hill But Came Down a Mountain, The (1995)\"],[\"In the Line of Fire (1993)\"],[\"Farewell My Concubine (Ba wang bie ji) (1993)\"],[\"Birdcage, The (1996)\"],[\"Terminator, The (1984)\"],[\"Invasion of the Body Snatchers (1956)\"],[\"Clockwork Orange, A (1971)\"],[\"Spartacus (1960)\"],[\"Walk on the Moon, A (1999)\"],[\"War of the Roses, The (1989)\"],[\"Mothman Prophecies, The (2002)\"],[\"Dead Man Walking (1995)\"],[\"Scream (1996)\"],[\"Goldfinger (1964)\"],[\"Pulp Fiction (1994)\"],[\"Deep Impact (1998)\"],[\"Barry Lyndon (1975)\"],[\"Tin Man (2007)\"],[\"Braveheart (1995)\"],[\"Waterworld (1995)\"],[\"Eyes Wide Shut (1999)\"],[\"Heat (1995)\"],[\"Nine Months (1995)\"],[\"Forrest Gump (1994)\"],[\"Filth (2013)\"],[\"West Side Story (1961)\"],[\"Hangover, The (2009)\"],[\"Brazil (1985)\"],[\"Bulworth (1998)\"],[\"Pulp Fiction (1994)\"],[\"Halloween H20: 20 Years Later (Halloween 7: The Revenge of Laurie Strode) (1998)\"],[\"Naked Gun: From the Files of Police Squad!, The (1988)\"],[\"Funny Ha Ha (2002)\"],[\"Felon (2008)\"],[\"Incredible Hulk, The (2008)\"],[\"King Kong (2005)\"],[\"Matilda (1996)\"],[\"Matador, The (2005)\"],[\"Cool Runnings (1993)\"],[\"Men in Black (a.k.a. MIB) (1997)\"],[\"Gate, The (1987)\"],[\"Alien (1979)\"],[\"Harriet the Spy (1996)\"],[\"X-Men (2000)\"],[\"Time to Kill, A (1996)\"],[\"Cutthroat Island (1995)\"],[\"Replacement Killers, The (1998)\"],[\"Erin Brockovich (2000)\"],[\"Being John Malkovich (1999)\"],[\"Matrix, The (1999)\"],[\"Nobody's Fool (1994)\"],[\"Untouchables, The (1987)\"],[\"Coming to America (1988)\"],[\"1408 (2007)\"],[\"Twister (1996)\"],[\"Indiana Jones and the Temple of Doom (1984)\"],[\"Addams Family Values (1993)\"],[\"Road to Perdition (2002)\"],[\"K-19: The Widowmaker (2002)\"],[\"Crimes and Misdemeanors (1989)\"],[\"Black Beauty (1994)\"],[\"Bandits (2001)\"],[\"A.I. Artificial Intelligence (2001)\"],[\"Clerks II (2006)\"],[\"Platoon (1986)\"],[\"Dr. No (1962)\"],[\"Serendipity (2001)\"],[\"That Thing You Do! (1996)\"],[\"Predator 2 (1990)\"],[\"Police Academy: Mission to Moscow (1994)\"],[\"Jungle Fever (1991)\"],[\"WALL\\u00b7E (2008)\"],[\"Evil Dead, The (1981)\"],[\"Game, The (1997)\"],[\"Traffic (2000)\"],[\"Much Ado About Nothing (1993)\"],[\"Scrooged (1988)\"],[\"Collateral (2004)\"],[\"Suicide Club (Jisatsu saakuru) (2001)\"],[\"Two Weeks Notice (2002)\"],[\"Mad Max (1979)\"],[\"Broken Arrow (1996)\"],[\"Private Benjamin (1980)\"],[\"Producers, The (1968)\"],[\"Water for Elephants (2011)\"],[\"Star Wars: Episode IV - A New Hope (1977)\"],[\"48 Hrs. (1982)\"],[\"L.A. Confidential (1997)\"],[\"Nurse Betty (2000)\"],[\"American Beauty (1999)\"],[\"Shining, The (1980)\"],[\"Harold and Kumar Go to White Castle (2004)\"],[\"Jackal, The (1997)\"],[\"48 Hrs. (1982)\"],[\"Twister (1996)\"],[\"Fantasia 2000 (1999)\"],[\"Saturday Night Fever (1977)\"],[\"Flight of the Navigator (1986)\"],[\"Blob, The (1988)\"],[\"Sense and Sensibility (1995)\"],[\"Big Momma's House (2000)\"],[\"Escape from New York (1981)\"],[\"Last Action Hero (1993)\"],[\"In the Name of the Father (1993)\"],[\"Full Monty, The (1997)\"],[\"Donnie Brasco (1997)\"],[\"Little Boy Blue (1997)\"],[\"Nurse Betty (2000)\"],[\"Spaceballs (1987)\"],[\"Pee-wee's Big Adventure (1985)\"],[\"English Patient, The (1996)\"],[\"Terminator, The (1984)\"],[\"Exorcist, The (1973)\"],[\"Wedding Crashers (2005)\"],[\"Better Off Dead... (1985)\"],[\"Being There (1979)\"],[\"Oblivion (2013)\"],[\"What's Eating Gilbert Grape (1993)\"],[\"Big Daddy (1999)\"],[\"Truman Show, The (1998)\"],[\"Christmas Story, A (1983)\"],[\"Marathon Man (1976)\"],[\"King Kong (2005)\"],[\"Six Days Seven Nights (1998)\"],[\"Lion King, The (1994)\"],[\"One Flew Over the Cuckoo's Nest (1975)\"],[\"Wag the Dog (1997)\"],[\"Maltese Falcon, The (1941)\"],[\"Blazing Saddles (1974)\"],[\"Lone Star (1996)\"],[\"Pulp Fiction (1994)\"],[\"Save the Green Planet! (Jigureul jikyeora!) (2003)\"],[\"Bullets Over Broadway (1994)\"],[\"Three Colors: Blue (Trois couleurs: Bleu) (1993)\"],[\"Shining, The (1980)\"],[\"Mummy Returns, The (2001)\"],[\"School of Rock (2003)\"],[\"GoldenEye (1995)\"],[\"Lilo & Stitch (2002)\"],[\"Zoolander (2001)\"],[\"Natural Born Killers (1994)\"],[\"Juno (2007)\"],[\"Honey, I Shrunk the Kids (1989)\"],[\"Forty Guns (1957)\"],[\"Night at the Museum (2006)\"],[\"Program, The (1993)\"],[\"Mission: Impossible (1996)\"],[\"Pagemaster, The (1994)\"],[\"Blair Witch Project, The (1999)\"],[\"Powder (1995)\"],[\"Scream (1996)\"],[\"Crocodile Dundee II (1988)\"],[\"Eagle vs Shark (2007)\"],[\"Metropolis (1927)\"],[\"Raiders of the Lost Ark (Indiana Jones and the Raiders of the Lost Ark) (1981)\"],[\"Requiem for a Dream (2000)\"],[\"Independence Day (a.k.a. ID4) (1996)\"],[\"At First Sight (1999)\"],[\"Pitch Black (2000)\"],[\"Unbreakable (2000)\"],[\"Much Ado About Nothing (1993)\"],[\"Rat Race (2001)\"],[\"Stuart Saves His Family (1995)\"],[\"Reservoir Dogs (1992)\"],[\"21 Grams (2003)\"],[\"Soapdish (1991)\"],[\"Philadelphia (1993)\"],[\"Teenage Mutant Ninja Turtles (1990)\"],[\"It Could Happen to You (1994)\"],[\"Harry Potter and the Chamber of Secrets (2002)\"],[\"Waterboy, The (1998)\"],[\"We're No Angels (1955)\"],[\"Blob, The (1988)\"],[\"Firestarter (1984)\"],[\"Clockwork Orange, A (1971)\"],[\"Ghost and the Darkness, The (1996)\"],[\"North (1994)\"],[\"Apollo 13 (1995)\"],[\"JFK (1991)\"],[\"Fargo (1996)\"],[\"Dirty Dozen, The (1967)\"],[\"Star Wars: Episode IV - A New Hope (1977)\"],[\"Owning Mahowny (2003)\"],[\"In the Name of the Father (1993)\"],[\"Priest (2011)\"],[\"Total Recall (1990)\"],[\"Dances with Wolves (1990)\"],[\"Happy, Texas (1999)\"],[\"Predator (1987)\"],[\"Underneath (1995)\"],[\"Man Without a Face, The (1993)\"],[\"Crow: City of Angels, The (1996)\"],[\"Wallace & Gromit: The Wrong Trousers (1993)\"],[\"Charlie Brown Christmas, A (1965)\"],[\"12 Angry Men (1957)\"],[\"Looper (2012)\"],[\"Lord of the Rings: The Return of the King, The (2003)\"],[\"Blade Runner (1982)\"],[\"Michael (1996)\"],[\"Final Fantasy: The Spirits Within (2001)\"],[\"Sixth Sense, The (1999)\"],[\"Anaconda (1997)\"],[\"Flight of the Phoenix, The (1965)\"],[\"Fight Club (1999)\"],[\"Carrie (1976)\"],[\"Full Monty, The (1997)\"],[\"Back to the Future (1985)\"],[\"Batman Forever (1995)\"],[\"Butch Cassidy and the Sundance Kid (1969)\"],[\"Maid in Manhattan (2002)\"],[\"Groundhog Day (1993)\"],[\"Ninotchka (1939)\"],[\"Bridget Jones's Diary (2001)\"],[\"Moon-Spinners, The (1964)\"],[\"Bridges of Madison County, The (1995)\"],[\"Bronx Tale, A (1993)\"],[\"Matrix, The (1999)\"],[\"Mary Poppins (1964)\"],[\"Dude, Where's My Car? (2000)\"],[\"Sword in the Stone, The (1963)\"],[\"Avatar (2009)\"],[\"House of Flying Daggers (Shi mian mai fu) (2004)\"],[\"House of Flying Daggers (Shi mian mai fu) (2004)\"],[\"RoboCop (1987)\"],[\"Barenaked in America (1999)\"],[\"Meet Joe Black (1998)\"],[\"2001: A Space Odyssey (1968)\"],[\"Sin City (2005)\"],[\"Mission: Impossible (1996)\"],[\"Moon (2009)\"],[\"Judge Dredd (1995)\"],[\"Hot Shots! Part Deux (1993)\"],[\"Shark Tale (2004)\"],[\"Perfect World, A (1993)\"],[\"Stuck on You (2003)\"],[\"Shaun of the Dead (2004)\"],[\"Airplane! (1980)\"],[\"X2: X-Men United (2003)\"],[\"Titanic (1997)\"],[\"Green Mile, The (1999)\"],[\"Pirates of the Caribbean: At World's End (2007)\"],[\"In the Line of Fire (1993)\"],[\"Sleepless in Seattle (1993)\"],[\"Firm, The (1993)\"],[\"Life Is Beautiful (La Vita \\u00e8 bella) (1997)\"],[\"Alice in Wonderland (2010)\"],[\"Mike's Murder (1984)\"],[\"Pinocchio (1940)\"],[\"Dogma (1999)\"],[\"Last Samurai, The (2003)\"],[\"Wizard of Oz, The (1939)\"],[\"Mystery Train (1989)\"],[\"Star Wars: Episode VI - Return of the Jedi (1983)\"],[\"Star Trek: Nemesis (2002)\"],[\"Men in Black (a.k.a. MIB) (1997)\"],[\"Sound of Music, The (1965)\"],[\"Proof of Life (2000)\"],[\"Puppet Master II (1991)\"],[\"Snake Eyes (1998)\"],[\"Usual Suspects, The (1995)\"],[\"Bad Boys (1995)\"],[\"Shakespeare in Love (1998)\"],[\"Crash (2004)\"],[\"Superman IV: The Quest for Peace (1987)\"],[\"Allnighter, The (1987)\"],[\"Field of Dreams (1989)\"],[\"Austin Powers in Goldmember (2002)\"],[\"Maltese Falcon, The (1941)\"],[\"Postman, The (Postino, Il) (1994)\"],[\"Stigmata (1999)\"],[\"Lolita (1962)\"],[\"Free Willy (1993)\"],[\"Great White Hype, The (1996)\"],[\"White Men Can't Jump (1992)\"],[\"Arlington Road (1999)\"],[\"Flintstones, The (1994)\"],[\"Rain Man (1988)\"],[\"Accidental Tourist, The (1988)\"],[\"Little Women (1994)\"],[\"Terminator 2: Judgment Day (1991)\"],[\"Ghostbusters (a.k.a. Ghost Busters) (1984)\"],[\"Sword in the Stone, The (1963)\"],[\"Lion in Winter, The (1968)\"],[\"Ninth Gate, The (1999)\"],[\"Clockwork Orange, A (1971)\"],[\"Cast Away (2000)\"],[\"Bring It On (2000)\"],[\"Great Expectations (1998)\"],[\"Corpse Bride (2005)\"],[\"High Fidelity (2000)\"],[\"Pee-wee's Big Adventure (1985)\"],[\"Full Metal Jacket (1987)\"],[\"Spider-Man 3 (2007)\"],[\"Breathless (1983)\"],[\"Cyrano de Bergerac (1990)\"],[\"Dracula (Bram Stoker's Dracula) (1992)\"],[\"Kids in the Hall: Brain Candy (1996)\"],[\"Garfield: The Movie (2004)\"],[\"Fly, The (1986)\"],[\"Young Frankenstein (1974)\"],[\"Apocalypse Now (1979)\"],[\"Matrix, The (1999)\"],[\"Addams Family, The (1991)\"],[\"Full Monty, The (1997)\"],[\"E.T. the Extra-Terrestrial (1982)\"],[\"Summer Lovers (1982)\"],[\"Equilibrium (2002)\"],[\"Waterworld (1995)\"],[\"Deuce Bigalow: Male Gigolo (1999)\"],[\"Waterworld (1995)\"],[\"Atlantic City (1980)\"],[\"Hoop Dreams (1994)\"],[\"Apocalypse Now (1979)\"],[\"Shawshank Redemption, The (1994)\"],[\"American President, The (1995)\"],[\"Hidalgo (2004)\"],[\"Snow White and the Seven Dwarfs (1937)\"],[\"Shrek 2 (2004)\"],[\"Firm, The (1993)\"],[\"To Kill a Mockingbird (1962)\"],[\"Pineapple Express (2008)\"],[\"Little Mermaid, The (1989)\"],[\"Philadelphia (1993)\"],[\"All About the Benjamins (2002)\"],[\"Psycho II (1983)\"],[\"Mr. & Mrs. Smith (2005)\"],[\"Amistad (1997)\"],[\"Ever After: A Cinderella Story (1998)\"],[\"Four Rooms (1995)\"],[\"Mad Max (1979)\"],[\"My Fair Lady (1964)\"],[\"Ice Age (2002)\"],[\"Schindler's List (1993)\"],[\"Firm, The (1993)\"],[\"Hot Fuzz (2007)\"],[\"Despicable Me (2010)\"],[\"Fatal Attraction (1987)\"],[\"101 Dalmatians (1996)\"],[\"Abyss, The (1989)\"],[\"Not Without My Daughter (1991)\"],[\"Pok\\u00e9mon 3: The Movie (2001)\"],[\"Thin Man, The (1934)\"],[\"Iron Man 2 (2010)\"],[\"Godfather, The (1972)\"],[\"Sting, The (1973)\"],[\"Star Trek VI: The Undiscovered Country (1991)\"],[\"Net, The (1995)\"],[\"WALL\\u00b7E (2008)\"],[\"L.A. Confidential (1997)\"],[\"Karate Kid, Part II, The (1986)\"],[\"Austin Powers in Goldmember (2002)\"],[\"Army of Darkness (1993)\"],[\"American Pie (1999)\"],[\"Highlander (1986)\"],[\"Thin Red Line, The (1998)\"],[\"Hamlet (1996)\"],[\"Waiting... (2005)\"],[\"Dumb & Dumber (Dumb and Dumber) (1994)\"],[\"Double Jeopardy (1999)\"],[\"African Queen, The (1951)\"],[\"Primal Fear (1996)\"],[\"Rob Roy (1995)\"],[\"Coneheads (1993)\"],[\"Man on Fire (2004)\"],[\"Kingpin (1996)\"],[\"History of the World: Part I (1981)\"],[\"Pirates of the Caribbean: Dead Man's Chest (2006)\"],[\"Seven (a.k.a. Se7en) (1995)\"],[\"X-Men (2000)\"],[\"School of Rock (2003)\"],[\"Brothers McMullen, The (1995)\"],[\"Inglourious Basterds (2009)\"],[\"Don't Be a Menace to South Central While Drinking Your Juice in the Hood (1996)\"],[\"Monsters (2010)\"],[\"Rock, The (1996)\"],[\"Few Good Men, A (1992)\"],[\"Scorpion King, The (2002)\"],[\"Dave (1993)\"],[\"Blue Velvet (1986)\"],[\"Duck Soup (1933)\"],[\"Resident Evil: Extinction (2007)\"],[\"Antz (1998)\"],[\"Destiny Turns on the Radio (1995)\"],[\"Almost Famous (2000)\"],[\"Mystery Men (1999)\"],[\"Dead Snow (D\\u00f8d sn\\u00f8) (2009)\"],[\"Zoolander (2001)\"],[\"She's All That (1999)\"],[\"Anger Management (2003)\"],[\"Bourne Ultimatum, The (2007)\"],[\"Back to the Future Part III (1990)\"],[\"Forsaken, The (2001)\"],[\"Wedding Singer, The (1998)\"],[\"Blues Brothers, The (1980)\"],[\"Star Wars: Episode VI - Return of the Jedi (1983)\"],[\"Rust and Bone (De rouille et d'os) (2012)\"],[\"Take Shelter (2011)\"],[\"Speed (1994)\"],[\"Outbreak (1995)\"],[\"Shawshank Redemption, The (1994)\"],[\"2 Days in the Valley (1996)\"],[\"American Psycho (2000)\"],[\"Poltergeist (1982)\"],[\"Rear Window (1954)\"],[\"Pocahontas (1995)\"],[\"Mars Attacks! (1996)\"],[\"Aladdin and the King of Thieves (1996)\"],[\"Lost Boys, The (1987)\"],[\"My Cousin Vinny (1992)\"],[\"My Neighbor Totoro (Tonari no Totoro) (1988)\"],[\"Deep Impact (1998)\"],[\"Ghostbusters II (1989)\"],[\"Infernal Affairs (Mou gaan dou) (2002)\"],[\"Finding Neverland (2004)\"],[\"So I Married an Axe Murderer (1993)\"],[\"Fox and the Hound, The (1981)\"],[\"Spanish Apartment, The (L'auberge espagnole) (2002)\"],[\"Streetcar Named Desire, A (1951)\"],[\"National Lampoon's Van Wilder (2002)\"],[\"Happy Gilmore (1996)\"],[\"Metropolis (2001)\"],[\"Good Morning, Vietnam (1987)\"],[\"Austin Powers: The Spy Who Shagged Me (1999)\"],[\"Ballad of Narayama, The (Narayama bushiko) (1983)\"],[\"Swiss Family Robinson (1960)\"],[\"Thank You for Smoking (2006)\"],[\"Ready to Wear (Pret-A-Porter) (1994)\"],[\"Happy Accidents (2000)\"],[\"Nightmare Before Christmas, The (1993)\"],[\"Bad Boys (1995)\"],[\"Starship Troopers (1997)\"],[\"Star Wars: Episode III - Revenge of the Sith (2005)\"],[\"American Beauty (1999)\"],[\"Apocalypse Now (1979)\"],[\"Wallace & Gromit: The Best of Aardman Animation (1996)\"],[\"Star Trek: The Motion Picture (1979)\"],[\"Village of the Damned (1960)\"],[\"Notting Hill (1999)\"],[\"Birdcage, The (1996)\"],[\"Casablanca (1942)\"],[\"Romancing the Stone (1984)\"],[\"Aliens (1986)\"],[\"Traffic (2000)\"],[\"Thirteen Ghosts (a.k.a. Thir13en Ghosts) (2001)\"],[\"Sleepless in Seattle (1993)\"],[\"Adaptation (2002)\"],[\"Happiness (1998)\"],[\"Thin Red Line, The (1998)\"],[\"Happy Gilmore (1996)\"],[\"Forrest Gump (1994)\"],[\"Back to the Future (1985)\"],[\"Toys (1992)\"],[\"Starship Troopers (1997)\"],[\"Minority Report (2002)\"],[\"His Girl Friday (1940)\"],[\"Opposite of Sex, The (1998)\"],[\"To Die For (1995)\"],[\"Shoot 'Em Up (2007)\"],[\"Scent of a Woman (1992)\"],[\"Spider-Man 2 (2004)\"],[\"40 Days and 40 Nights (2002)\"],[\"Star Wars: Episode IV - A New Hope (1977)\"],[\"High Noon (1952)\"],[\"Three Colors: Blue (Trois couleurs: Bleu) (1993)\"],[\"Net, The (1995)\"],[\"Wizard of Oz, The (1939)\"],[\"Wallace & Gromit: A Close Shave (1995)\"],[\"Holiday Inn (1942)\"],[\"Wicker Park (2004)\"],[\"Point Break (1991)\"],[\"Predator 2 (1990)\"],[\"Notting Hill (1999)\"],[\"Beauty and the Beast (1991)\"],[\"Eraser (1996)\"],[\"Austin Powers: International Man of Mystery (1997)\"],[\"Star Trek: Generations (1994)\"],[\"Rocky (1976)\"],[\"True Romance (1993)\"],[\"Freeway (1996)\"],[\"Sweeney Todd: The Demon Barber of Fleet Street (2007)\"],[\"Centurion (2010)\"],[\"Batman Returns (1992)\"],[\"Fog, The (1980)\"],[\"Night of the Comet (1984)\"],[\"Secondhand Lions (2003)\"],[\"Brokeback Mountain (2005)\"],[\"Klute (1971)\"],[\"Indiana Jones and the Last Crusade (1989)\"],[\"Cyclo (Xich lo) (1995)\"],[\"Mars Attacks! (1996)\"],[\"Labyrinth (1986)\"],[\"Muriel's Wedding (1994)\"],[\"Aviator, The (2004)\"],[\"Go (1999)\"],[\"Interview with the Vampire: The Vampire Chronicles (1994)\"],[\"Fugitive, The (1993)\"],[\"Beverly Hills Cop III (1994)\"],[\"RoboCop (1987)\"],[\"Starship Troopers (1997)\"],[\"Lethal Weapon 4 (1998)\"],[\"Little Mermaid, The (1989)\"],[\"Indiana Jones and the Last Crusade (1989)\"],[\"Heathers (1989)\"],[\"Apocalypse Now (1979)\"],[\"Elizabethtown (2005)\"],[\"JFK (1991)\"],[\"Crash (2004)\"],[\"Eragon (2006)\"],[\"Braveheart (1995)\"],[\"American President, The (1995)\"],[\"Hilary and Jackie (1998)\"],[\"X-Files: Fight the Future, The (1998)\"],[\"English Patient, The (1996)\"],[\"Iron Monkey (Siu nin Wong Fei-hung ji: Tit Ma Lau) (1993)\"],[\"What's Eating Gilbert Grape (1993)\"],[\"Pretty Woman (1990)\"],[\"Little Shop of Horrors (1986)\"],[\"Law Abiding Citizen (2009)\"],[\"Princess Bride, The (1987)\"],[\"Three Colors: Blue (Trois couleurs: Bleu) (1993)\"],[\"Officer and a Gentleman, An (1982)\"],[\"Wedding Singer, The (1998)\"],[\"Dr. Strangelove or: How I Learned to Stop Worrying and Love the Bomb (1964)\"],[\"Aladdin (1992)\"],[\"Batman (1989)\"],[\"Futurama: The Beast with a Billion Backs (2008)\"],[\"Mr. Holland's Opus (1995)\"],[\"Shawshank Redemption, The (1994)\"],[\"William Shakespeare's Romeo + Juliet (1996)\"],[\"2010: The Year We Make Contact (1984)\"],[\"Heathers (1989)\"],[\"Demolition Man (1993)\"],[\"GoldenEye (1995)\"],[\"Reality Bites (1994)\"],[\"Forbidden Planet (1956)\"],[\"Maleficent (2014)\"],[\"Trading Places (1983)\"],[\"Philadelphia (1993)\"],[\"Heat (1995)\"],[\"Heat (1995)\"],[\"Orange County (2002)\"],[\"American Psycho (2000)\"],[\"Rain Man (1988)\"],[\"Taxi Driver (1976)\"],[\"Angel Heart (1987)\"],[\"Starship Troopers (1997)\"],[\"Secret Garden, The (1993)\"],[\"Truth About Cats & Dogs, The (1996)\"],[\"Raise the Red Lantern (Da hong deng long gao gao gua) (1991)\"],[\"Star Wars: Episode II - Attack of the Clones (2002)\"],[\"Say Anything... (1989)\"],[\"French Connection, The (1971)\"],[\"Others, The (2001)\"],[\"Lady from Shanghai, The (1947)\"],[\"Red Dragon (2002)\"],[\"Pianist, The (2002)\"],[\"City Hall (1996)\"],[\"Babylon 5: In the Beginning (1998)\"],[\"Star Trek: First Contact (1996)\"],[\"Usual Suspects, The (1995)\"],[\"Love Actually (2003)\"],[\"Twelve Monkeys (a.k.a. 12 Monkeys) (1995)\"],[\"101 Dalmatians (One Hundred and One Dalmatians) (1961)\"],[\"Judge Dredd (1995)\"],[\"Last Emperor, The (1987)\"],[\"Hangover, The (2009)\"],[\"English Patient, The (1996)\"],[\"Love and Basketball (2000)\"],[\"City Lights (1931)\"],[\"Vertigo (1958)\"],[\"Thing, The (1982)\"],[\"Bachelor Party (1984)\"],[\"Blues Brothers 2000 (1998)\"],[\"Basic Instinct (1992)\"],[\"Postman, The (Postino, Il) (1994)\"],[\"Jurassic Park (1993)\"],[\"Road Warrior, The (Mad Max 2) (1981)\"],[\"Three Colors: Blue (Trois couleurs: Bleu) (1993)\"],[\"City Hall (1996)\"],[\"Miracle on 34th Street (1994)\"],[\"Lawnmower Man, The (1992)\"],[\"Piano, The (1993)\"],[\"Prince & Me, The (2004)\"],[\"Jaws (1975)\"],[\"Beverly Hills Cop II (1987)\"],[\"Good Girl, The (2002)\"],[\"Harry Potter and the Order of the Phoenix (2007)\"],[\"Face/Off (1997)\"],[\"Bonnie and Clyde (1967)\"],[\"Hot Shots! Part Deux (1993)\"],[\"Blade (1998)\"],[\"Hannah and Her Sisters (1986)\"],[\"Harry Potter and the Sorcerer's Stone (a.k.a. Harry Potter and the Philosopher's Stone) (2001)\"],[\"Kill Bill: Vol. 1 (2003)\"],[\"First Day of the Rest of Your Life, The (Le premier jour du reste de ta vie) (2008)\"],[\"Grand, The (2007)\"],[\"10 Things I Hate About You (1999)\"],[\"Dave (1993)\"],[\"Kill Bill: Vol. 2 (2004)\"],[\"Edward Scissorhands (1990)\"],[\"Psycho (1960)\"],[\"Willy Wonka & the Chocolate Factory (1971)\"],[\"Night of the Living Dead (1968)\"],[\"Heaven (2002)\"],[\"Godfather: Part II, The (1974)\"],[\"Three Musketeers, The (1993)\"],[\"Cinema Paradiso (Nuovo cinema Paradiso) (1989)\"],[\"Dead Men Don't Wear Plaid (1982)\"],[\"Friday (1995)\"],[\"Striptease (1996)\"],[\"Wild Things (1998)\"],[\"Lady and the Tramp (1955)\"],[\"Tom Thumb (1958)\"],[\"JFK (1991)\"],[\"H.O.T.S. (1979)\"],[\"Strictly Ballroom (1992)\"],[\"To Kill a Mockingbird (1962)\"],[\"Howard the Duck (1986)\"],[\"Inglourious Basterds (2009)\"],[\"Kill Bill: Vol. 2 (2004)\"],[\"X-Men (2000)\"],[\"Small Soldiers (1998)\"],[\"Elephant Man, The (1980)\"],[\"V for Vendetta (2006)\"],[\"White Men Can't Jump (1992)\"],[\"Mr. & Mrs. Smith (1941)\"],[\"Jurassic Park (1993)\"],[\"Gladiator (2000)\"],[\"Four Rooms (1995)\"],[\"Outbreak (1995)\"],[\"Titanic (1997)\"],[\"Bourne Supremacy, The (2004)\"],[\"Apocalypse Now (1979)\"],[\"Accidental Spy, The (Dak miu mai shing) (2001)\"],[\"Bowfinger (1999)\"],[\"Kill Bill: Vol. 1 (2003)\"],[\"Chicago (2002)\"],[\"Nine Months (1995)\"],[\"Incredibles, The (2004)\"],[\"Flintstones in Viva Rock Vegas, The (2000)\"],[\"Fight Club (1999)\"],[\"Jungle Book, The (1994)\"],[\"Year of Living Dangerously, The (1982)\"],[\"Godfather: Part II, The (1974)\"],[\"Romancing the Stone (1984)\"],[\"Stand and Deliver (1988)\"],[\"Return of Martin Guerre, The (Retour de Martin Guerre, Le) (1982)\"],[\"So I Married an Axe Murderer (1993)\"],[\"Hate (Haine, La) (1995)\"],[\"300 (2007)\"],[\"Groundhog Day (1993)\"],[\"Chicago (2002)\"],[\"Twister (1996)\"],[\"Charlie Bartlett (2007)\"],[\"Pinocchio (1940)\"],[\"Great Expectations (1998)\"],[\"North Dallas Forty (1979)\"],[\"Pretty Woman (1990)\"],[\"Apollo 13 (1995)\"],[\"Stargate (1994)\"],[\"Boondock Saints, The (2000)\"],[\"Third Man, The (1949)\"],[\"Journey of Natty Gann, The (1985)\"],[\"Contender, The (2000)\"],[\"Amadeus (1984)\"],[\"Waterworld (1995)\"],[\"Twelve Monkeys (a.k.a. 12 Monkeys) (1995)\"],[\"Tales from the Golden Age (Amintiri din epoca de aur) (2009)\"],[\"Austin Powers: International Man of Mystery (1997)\"],[\"Kolya (Kolja) (1996)\"],[\"Apocalypse Now (1979)\"],[\"Tin Drum, The (Blechtrommel, Die) (1979)\"],[\"Paris, I Love You (Paris, je t'aime) (2006)\"],[\"Judge Dredd (1995)\"],[\"Man in the White Suit, The (1951)\"],[\"Total Recall (1990)\"],[\"Thank You for Smoking (2006)\"],[\"Great Santini, The (1979)\"],[\"Mission: Impossible (1996)\"],[\"South Park: Bigger, Longer and Uncut (1999)\"],[\"Last Detail, The (1973)\"],[\"In Crowd, The (2000)\"],[\"License to Drive (1988)\"],[\"April Fool's Day (1986)\"],[\"Fast and the Furious, The (2001)\"],[\"Batman (1989)\"],[\"Richard Pryor: Live in Concert (1979)\"],[\"Splash (1984)\"],[\"Good Will Hunting (1997)\"],[\"Mr. Smith Goes to Washington (1939)\"],[\"Right Stuff, The (1983)\"],[\"Roxanne (1987)\"],[\"Stargate (1994)\"],[\"Mission: Impossible (1996)\"],[\"Babe (1995)\"],[\"X2: X-Men United (2003)\"],[\"Heat (1995)\"],[\"Desperado (1995)\"],[\"Shanghai Noon (2000)\"],[\"Elizabeth (1998)\"],[\"Midnight Cowboy (1969)\"],[\"Murder in the First (1995)\"],[\"Clerks (1994)\"],[\"Pulp Fiction (1994)\"],[\"Men in Black (a.k.a. MIB) (1997)\"],[\"Casper (1995)\"],[\"Edward Scissorhands (1990)\"],[\"Sorority Boys (2002)\"],[\"Hard Candy (2005)\"],[\"Insider, The (1999)\"],[\"Little Nikita (1988)\"],[\"Home on the Range (2004)\"],[\"Breakfast Club, The (1985)\"],[\"Star Trek: Generations (1994)\"],[\"Quiz Show (1994)\"],[\"Evil Dead II (Dead by Dawn) (1987)\"],[\"Batman Returns (1992)\"],[\"Planet of the Apes (1968)\"],[\"Talented Mr. Ripley, The (1999)\"],[\"Home Fries (1998)\"],[\"Beautiful Girls (1996)\"],[\"Roman Holiday (1953)\"],[\"Jurassic Park (1993)\"],[\"Interview with the Vampire: The Vampire Chronicles (1994)\"],[\"Perfume: The Story of a Murderer (2006)\"],[\"Ghostbusters (a.k.a. Ghost Busters) (1984)\"],[\"Beverly Hills Cop II (1987)\"],[\"Gift, The (2000)\"],[\"Parent Trap, The (1998)\"],[\"Rocketeer, The (1991)\"],[\"Inglourious Basterds (2009)\"],[\"World According to Garp, The (1982)\"],[\"Ghostbusters (a.k.a. Ghost Busters) (1984)\"],[\"Jesus Christ Superstar (2000)\"],[\"Willy Wonka & the Chocolate Factory (1971)\"],[\"Batman (1989)\"],[\"There's Something About Mary (1998)\"],[\"Battlefield Earth (2000)\"],[\"Jack (1996)\"],[\"Spy Hard (1996)\"],[\"Bang, Bang, You're Dead (2002)\"],[\"South Park: Bigger, Longer and Uncut (1999)\"],[\"Kramer vs. Kramer (1979)\"],[\"Texas Chainsaw Massacre, The (2003)\"],[\"Avengers, The (2012)\"],[\"Mortal Kombat (1995)\"],[\"Godfather, The (1972)\"],[\"Forrest Gump (1994)\"],[\"25th Hour (2002)\"],[\"Pope of Greenwich Village, The (1984)\"],[\"NeverEnding Story, The (1984)\"],[\"Blade: Trinity (2004)\"],[\"Top Gun (1986)\"],[\"Other Woman, The (2014)\"],[\"Little Miss Sunshine (2006)\"],[\"Kinsey (2004)\"],[\"Terminator, The (1984)\"],[\"Aristocats, The (1970)\"],[\"Princess Bride, The (1987)\"],[\"Star Trek: Generations (1994)\"],[\"2001: A Space Odyssey (1968)\"],[\"Grapes of Wrath, The (1940)\"],[\"Romeo Must Die (2000)\"],[\"Romancing the Stone (1984)\"],[\"Wolf (1994)\"],[\"Swordfish (2001)\"],[\"Machete (2010)\"],[\"Ferris Bueller's Day Off (1986)\"],[\"Disclosure (1994)\"],[\"What Lies Beneath (2000)\"],[\"Final Cut (1998)\"],[\"Hand That Rocks the Cradle, The (1992)\"],[\"Backdraft (1991)\"],[\"Come and See (Idi i smotri) (1985)\"],[\"Alien: Resurrection (1997)\"],[\"Silence of the Lambs, The (1991)\"],[\"Pianist, The (2002)\"],[\"Heat (1995)\"],[\"War of the Roses, The (1989)\"],[\"Analyze That (2002)\"],[\"Good Will Hunting (1997)\"],[\"Minority Report (2002)\"],[\"RoboCop 3 (1993)\"],[\"Fly, The (1958)\"],[\"Private Parts (1997)\"],[\"Speed (1994)\"],[\"Blue Velvet (1986)\"],[\"Kiki's Delivery Service (Majo no takky\\u00fbbin) (1989)\"],[\"Thirteen Days (2000)\"],[\"Jumanji (1995)\"],[\"Vanilla Sky (2001)\"],[\"Pulp Fiction (1994)\"],[\"Chorus Line, A (1985)\"],[\"Tombstone (1993)\"],[\"Beginners (2010)\"],[\"Antz (1998)\"],[\"200 Cigarettes (1999)\"],[\"Rain Man (1988)\"],[\"Dead Poets Society (1989)\"],[\"Lethal Weapon (1987)\"],[\"Emma (1996)\"],[\"This Film Is Not Yet Rated (2006)\"],[\"Anatomy of a Murder (1959)\"],[\"Grumpier Old Men (1995)\"],[\"Killing Fields, The (1984)\"],[\"On Her Majesty's Secret Service (1969)\"],[\"Matrix Reloaded, The (2003)\"],[\"Lilya 4-Ever (Lilja 4-ever) (2002)\"],[\"Thin Red Line, The (1998)\"],[\"Congo (1995)\"],[\"Muppet Treasure Island (1996)\"],[\"Wanted (2008)\"],[\"Dead Again (1991)\"],[\"Muppet Movie, The (1979)\"],[\"Contagion / Bio Slime (2010)\"],[\"Finding Nemo (2003)\"],[\"Mrs. Doubtfire (1993)\"],[\"Chinatown (1974)\"],[\"Congo (1995)\"],[\"Ace Ventura: Pet Detective (1994)\"],[\"3:10 to Yuma (2007)\"],[\"Casper (1995)\"],[\"Tin Cup (1996)\"],[\"Transformers (2007)\"],[\"Pocahontas (1995)\"],[\"Mask of Zorro, The (1998)\"],[\"Primal Fear (1996)\"],[\"Reservoir Dogs (1992)\"],[\"Sixteen Candles (1984)\"],[\"Casino (1995)\"],[\"Jail Bait (1954)\"],[\"My Big Fat Greek Wedding (2002)\"],[\"Much Ado About Nothing (1993)\"],[\"Forrest Gump (1994)\"],[\"Live and Let Die (1973)\"],[\"Into the Wild (2007)\"],[\"Leaving Las Vegas (1995)\"],[\"Master of Disguise, The (2002)\"],[\"Muppet Treasure Island (1996)\"],[\"Stigmata (1999)\"],[\"Fandango (1985)\"],[\"Dumb and Dumber To (2014)\"],[\"Proof (2005)\"],[\"Good bye, Lenin! (2003)\"],[\"Hollow Man (2000)\"],[\"Fargo (1996)\"],[\"Interview with the Vampire: The Vampire Chronicles (1994)\"],[\"Gone Baby Gone (2007)\"],[\"Assassination of Jesse James by the Coward Robert Ford, The (2007)\"],[\"Fugitive, The (1993)\"],[\"Madagascar (2005)\"],[\"Jurassic Park (1993)\"],[\"Blank Check (1994)\"],[\"Jaws 2 (1978)\"],[\"Dangerous Liaisons (1988)\"],[\"Scream 2 (1997)\"],[\"Wild Wild West (1999)\"],[\"Star Trek VI: The Undiscovered Country (1991)\"],[\"Purple Rose of Cairo, The (1985)\"],[\"Godfather, The (1972)\"],[\"Naked Gun 33 1/3: The Final Insult (1994)\"],[\"Stand by Me (1986)\"],[\"Smokey and the Bandit (1977)\"],[\"Man on Fire (2004)\"],[\"Being Julia (2004)\"],[\"Jaws 3-D (1983)\"],[\"Old School (2003)\"],[\"Hellboy II: The Golden Army (2008)\"],[\"Mystery Science Theater 3000: The Movie (1996)\"],[\"Antitrust (2001)\"],[\"Unforgettable (1996)\"],[\"Terminator, The (1984)\"],[\"40-Year-Old Virgin, The (2005)\"],[\"Exorcist, The (1973)\"],[\"Ghostbusters (a.k.a. Ghost Busters) (1984)\"],[\"Meatballs (1979)\"],[\"Drugstore Cowboy (1989)\"],[\"Tom Jones (1963)\"],[\"Glory (1989)\"],[\"Trainspotting (1996)\"],[\"Singin' in the Rain (1952)\"],[\"After Hours (1985)\"],[\"Trainspotting (1996)\"],[\"Three Men and a Baby (1987)\"],[\"Goodfellas (1990)\"],[\"Alien (1979)\"],[\"Raise Your Voice (2004)\"],[\"Runaway Jury (2003)\"],[\"Dick Tracy (1990)\"],[\"Mask, The (1994)\"],[\"Chicago (2002)\"],[\"Manhattan Murder Mystery (1993)\"],[\"Magnolia (1999)\"],[\"Dances with Wolves (1990)\"],[\"In the Heat of the Night (1967)\"],[\"Born into Brothels (2004)\"],[\"Daredevil (2003)\"],[\"To Sir with Love (1967)\"],[\"Babe: Pig in the City (1998)\"],[\"My Science Project (1985)\"],[\"Grumpy Old Men (1993)\"],[\"Tin Men (1987)\"],[\"American Psycho (2000)\"],[\"American Pie (1999)\"],[\"Birds, The (1963)\"],[\"Stand by Me (1986)\"],[\"Invasion of the Body Snatchers (1956)\"],[\"First Wives Club, The (1996)\"],[\"Insomnia (2002)\"],[\"American Pie (1999)\"],[\"Shining, The (1980)\"],[\"Doors, The (1991)\"],[\"Pirates of the Caribbean: At World's End (2007)\"],[\"Metropolis (1927)\"],[\"Killers, The (1946)\"],[\"Airplane! (1980)\"],[\"Fantastic Four (2005)\"],[\"Edward Scissorhands (1990)\"],[\"Specialist, The (1994)\"],[\"Aladdin (1992)\"],[\"Nightmare Before Christmas, The (1993)\"],[\"Wallace & Gromit: The Wrong Trousers (1993)\"],[\"Prometheus (2012)\"],[\"Princess and the Frog, The (2009)\"],[\"My Neighbor Totoro (Tonari no Totoro) (1988)\"],[\"Under the Tuscan Sun (2003)\"],[\"Pi (1998)\"],[\"History Boys, The (2006)\"],[\"Matrix, The (1999)\"],[\"Mystery Men (1999)\"],[\"Fargo (1996)\"],[\"Out of Towners, The (1970)\"],[\"Forrest Gump (1994)\"],[\"Cinema Paradiso (Nuovo cinema Paradiso) (1989)\"],[\"Cinderella (1950)\"],[\"Don Juan DeMarco (1995)\"],[\"Ninja Scroll (J\\u00fbbei ninp\\u00fbch\\u00f4) (1995)\"],[\"Fargo (1996)\"],[\"Turbulence (1997)\"],[\"Carnal Knowledge (1971)\"],[\"Nell (1994)\"],[\"Back to the Future Part II (1989)\"],[\"Madagascar: Escape 2 Africa (2008)\"],[\"Salaam Bombay! (1988)\"],[\"Raising Arizona (1987)\"],[\"Mighty Ducks, The (1992)\"],[\"Fifty Dead Men Walking (2008)\"],[\"Congo (1995)\"],[\"Back to the Future Part III (1990)\"],[\"Ran (1985)\"],[\"Pulp Fiction (1994)\"],[\"Amadeus (1984)\"],[\"Multiplicity (1996)\"],[\"Braveheart (1995)\"],[\"Dangerous Minds (1995)\"],[\"Predator (1987)\"],[\"Arthur (1981)\"],[\"Harold and Kumar Go to White Castle (2004)\"],[\"Big (1988)\"],[\"Chasing Amy (1997)\"],[\"Ace Ventura: Pet Detective (1994)\"],[\"Lethal Weapon 3 (1992)\"],[\"Mexican, The (2001)\"],[\"Swan Princess, The (1994)\"],[\"American Beauty (1999)\"],[\"Disclosure (1994)\"],[\"I Am Sam (2001)\"],[\"Usual Suspects, The (1995)\"],[\"Cast Away (2000)\"],[\"Children of Men (2006)\"]],\"hovertemplate\":\"movieId=%{x}<br>rating=%{y}<br>title=%{customdata[0]}<extra></extra>\",\"legendgroup\":\"\",\"marker\":{\"color\":\"#636efa\",\"symbol\":\"circle\"},\"mode\":\"markers\",\"name\":\"\",\"showlegend\":false,\"x\":[8360,32,109374,1060,1732,504,1792,32213,1816,3996,2302,2340,4007,1136,1079,780,1086,6979,186,2003,62,5060,8866,3153,588,40732,151,81845,968,321,150,610,1407,69526,1556,5945,1275,8641,3269,4425,84152,296,1641,434,6874,2702,6539,3391,780,4896,2077,3543,593,6157,5418,52,3361,4020,358,351,7063,1997,2762,1042,2243,59369,786,2279,292,3752,2539,2694,1513,7361,60,588,2858,2858,543,71876,46850,5001,780,5952,538,1247,780,3638,2290,2395,593,69,11,1408,662,2194,910,2641,87232,4728,3175,589,1339,1653,1197,33166,356,208,6409,82463,1963,110,1219,4447,1196,1289,3910,912,6887,60069,2167,805,147,5902,1080,55247,296,3186,839,3326,2629,1131,1485,30793,520,1365,1645,7454,6,253,8622,4855,1968,1831,1959,1701,29,4518,4848,2746,76251,2081,225,2369,57504,342,415,3362,1378,1225,1243,3624,5064,778,5872,1019,3450,1291,1041,3699,5994,524,4687,1373,1094,6569,6365,4499,720,590,2915,4027,593,2657,2296,337,1441,2502,3698,4306,2135,5693,41997,2502,5349,942,80463,595,2006,7405,5193,6365,1235,1375,4224,1374,1240,2916,60072,54997,2247,30707,5679,4638,305,1772,2329,8965,1248,5303,1238,4002,2194,2019,2709,3681,8258,1135,3135,5316,179,1097,2078,1183,5434,88140,5445,19,648,3317,50872,2890,2797,1997,87,2599,6863,6957,1924,58803,34405,7762,2355,919,2004,1304,172,316,1193,2944,2943,3418,5500,1913,1221,3578,56367,7,1246,2762,5944,3727,1172,3387,515,10,327,587,1198,1060,1900,2067,4361,30793,3201,595,2378,6890,3742,5942,344,4011,1183,2125,318,47124,6753,3088,6365,1969,1517,8874,44191,1247,2360,5464,912,2294,720,5349,1233,2490,2542,1732,1909,1721,1580,48516,1262,1213,3999,2151,1952,3916,2841,6539,551,2990,552,1917,1961,3114,2414,236,3296,1265,2160,48385,1213,442,8492,2858,1127,119145,2706,2289,904,6764,4369,588,7090,5128,1407,73,1270,858,60037,288,3623,3998,1259,492,8573,6793,3361,79,101,1302,5952,5349,1276,434,61024,2081,1722,597,2028,329,317,2028,2532,5134,3730,589,77540,4016,2021,786,2413,4788,1073,32587,73929,1244,7438,4995,4256,357,47,1394,1307,1250,5989,1379,1208,5463,1333,74624,106918,518,344,68135,2115,2001,4396,1257,6380,1777,271,5882,27773,56367,76093,2716,150,104374,1120,293,902,2701,153,1729,370,7317,344,3469,786,110102,3527,1946,378,5378,26005,2794,6377,68157,608,3528,1032,6155,380,1804,637,524,8784,185,41997,364,370,3409,3275,11,83525,2263,300,2474,1012,3770,45,1211,2003,3147,2527,5459,1396,2140,3984,8158,66785,56757,5935,1240,2772,2049,4370,594,44199,3362,2908,1199,2174,169,784,3087,1042,5902,920,2138,733,69685,50872,2683,3361,902,4776,3186,832,3300,5617,724,4367,339,1885,3254,2174,2881,4009,58293,1080,6711,1079,249,694,316,46976,45,6373,4034,1272,7151,1208,58559,3439,549,4621,1580,2355,10,837,1019,3101,1,3608,6016,3098,2987,457,2858,41566,45722,852,2478,4995,1663,7153,8808,54272,708,2753,1274,1029,3174,928,904,4056,2761,588,256,5949,56782,592,34767,6762,784,59369,368,3067,1919,2405,45499,18,2294,110611,3735,1479,54256,2428,4901,27803,2064,7346,34072,3309,3004,2997,1610,3685,722,4022,1,1179,6863,180,5146,218,3422,380,2797,2488,8711,1704,2716,2371,590,1784,84152,55280,628,592,3471,707,2376,2329,4047,27434,595,5843,94864,160,590,1680,31433,4306,4571,3039,485,1258,376,1569,2881,1617,1407,1805,1196,4816,915,1148,2290,3462,1909,1673,1641,508,1079,968,593,541,904,6727,4995,5214,7324,1517,2686,32,42723,2,1597,377,111362,3527,2908,1374,8810,936,8957,3685,8360,2,5502,70,36535,16,2050,2761,3497,434,5349,1105,4842,508,89904,1784,678,435,3706,239,3972,736,86190,56775,500,5378,1527,2014,3408,648,34,319,40973,2161,1527,597,5528,27338,451,440,2724,412,4776,1222,110,39,1693,1136,4215,1198,707,3996,69122,6936,8610,33794,1485,72356,355,1711,6,432,3176,37729,1220,1213,64,537,71057,1573,160,34542,1299,70,3727,1213,553,2336,2273,1343,786,2826,1527,1293,45028,3837,1080,2432,19,27904,8810,1032,7802,6874,31658,3114,47044,982,858,1784,2140,1343,377,41566,208,8874,3747,1285,2268,1220,837,373,2735,1064,78209,2641,1374,2959,80939,2268,2677,6297,40815,4401,2916,4446,597,231,30707,59615,1265,54001,1315,36517,832,61132,1400,1615,783,1183,51540,5218,419,344,2405,344,2064,5458,2997,380,7361,253,185,6377,4638,553,8984,7004,8361,3994,1324,4148,1273,4361,2713,41285,7001,30793,2959,94953,364,111,4369,160,2640,2273,1175,4695,1441,6539,3062,1517,1131,610,47491,4226,2167,589,1688,1643,144,2412,88405,2115,593,6373,72131,367,233,4085,317,4720,3708,111,260,1405,2599,3688,1093,4963,2780,2710,420,913,165,78499,6198,4848,1304,3081,371,3210,7766,3827,802,6367,3683,2405,1676,1223,361,1639,46972,497,46578,224,16,3107,153,2355,515,2804,1203,1208,64839,2089,4025,5049,4011,2997,5902,2707,74510,1285,2144,6188,440,2321,2000,39,3911,1302,724,36,2716,3984,555,490,66789,84863,4721,2470,1240,32587,31,34405,6188,47,6796,1379,1923,783,1285,1013,47,1027,3095,49530,1246,1208,41573,73321,7017,62,4235,1544,1380,2628,6270,82461,2858,3081,6934,5952,1059,1960,3717,2916,8981,3578,2763,2858,1445,2108,766,382,22,1,1983,7153,7153,4963,3682,68319,457,6537,2762,1479,1097,198,6385,109374,1193,5418,2005,5364,73268,5481,10,8016,3918,3559,53894,3545,2406,1721,539,2502,64,5400,1961,724,1321,1285,3155,80463,2916,2194,5291,2693,4677,405,380,1965,3578,3108,1390,45728,2858,3408,589,1148,2542,97938,3053,3535,1917,2313,6294,1810,1405,2405,39446,373,4720,1772,3098,1100,2917,2797,553,38038,39381,786,2340,4878,5218,48780,7,187,292,497,4878,4306,1230,3972,2009,1183,59615,440,1867,2300,917,3986,380,4014,38886,6539,1639,2100,3246,474,7438,50,2890,4480,161,227,6832,81641,2355,1345,8644,60293,8623,87232,1374,4681,1371,2064,5103,63082,4995,2115,1083,2020,2094,589,37731,1097,2571,1485,2329,911,3593,1641,3897,1580,3301,412,43908,3618,1257,249,185,3623,3418,1307,47725,2507,60069,1760,2,273,318,3755,2890,1527,3099,4234,114662,1704,1474,2565,60,3552,296,5025,2617,11,5225,4896,3354,6333,832,6281,4811,31658,1080,1190,1949,1028,2793,4890,2722,292,7099,246,43936,589,788,2067,1321,288,98809,3481,163,1086,3387,2366,110,3654,1101,33794,6368,2712,785,1405,3476,2302,4361,589,5027,66097,3004,590,6003,71252,2912,1917,908,60816,32,276,1658,4995,344,597,1128,48738,1307,4306,153,6879,3864,2193,3082,532,4932,2736,1269,4085,4015,337,3019,3198,913,26686,7153,1680,5989,5444,2232,4432,2692,4368,3028,7162,1249,2502,1744,38038,50802,1347,892,2396,6350,2125,256,10,903,3814,4914,2720,1210,3160,4016,56941,1968,920,2161,60040,508,592,42004,2273,6258,3147,56775,5995,2237,3173,784,4034,593,186,19,2145,2861,81,593,4718,750,765,6947,541,3752,2493,3763,112,6620,12,38061,2267,2689,23,8865,3253,1247,105844,5989,1212,2470,2671,457,1222,70643,3990,653,62,1732,1198,1226,34405,1747,500,4014,59315,3006,6162,5772,5122,2028,2718,969,8869,47,4865,1371,1255,8644,1198,158,42725,8951,733,315,1939,2657,592,765,1198,5574,1172,928,300,2231,3717,21,1722,2194,3489,5388,282,466,231,79702,2012,588,587,88,2997,3418,5303,82459,48385,1129,2529,165,590,4896,4105,2987,780,62849,157,3440,66934,6003,1293,1960,1371,457,3055,57274,5878,3070,33639,2806,8585,593,68358,104,45722,1461,4306,780,104374,51412,1701,231,5309,1097,3988,543,87306,6863,2495,1282,1976,82088,56171,1210,4304,454,135,3785,2105,3462,4446,318,304,1963,277,2041,110,813,8340,24,1201,750,3113,3973,1261,4213,1189,342,99114,5952,589,1588,2817,173,4886,5952,96821,3844,7075,676,2560,111,587,79008,539,48061,4823,1215,3396,3798,329,43908,8739,480,8807,1183,292,6979,1584,2232,612,2922,7482,1479,253,1265,150,1381,8207,5612,56367,356,6783,1485,5137,6807,46976,786,5339,953,356,428,1784,1196,541,1214,33437,1635,85397,63082,854,2393,5459,114246,32589,5991,1997,3081,1028,2762,1911,165,1645,2672,356,5378,933,4878,6565,1544,128688,6764,4970,3948,77455,1432,4537,54272,57,3623,1556,186,31,1252,593,104,3948,69757,12,2058,2572,3639,357,123,32,2915,7132,1650,374,2599,1748,47099,1929,54001,509,2683,830,750,266,4367,6344,2193,593,32792,2327,3361,2087,1639,2,2329,761,2004,1393,34,858,2028,5225,172,527,553,832,1485,3108,3702,54259,5054,532,4306,1552,70361,1183,1653,520,8366,546,3638,5569,2115,186,2078,6281,145,3654,252,2405,4571,3616,93980,1747,3948,908,5266,1779,2078,930,36,3996,3035,786,1527,26840,4231,3897,34,1179,54995,4344,1278,2642,1315,553,4310,2318,44022,111,2539,648,6647,7701,1201,82461,2710,1241,153,4014,1721,1,3210,674,2862,4238,1393,339,1064,5060,5296,509,7115,968,1569,4446,272,49824,2005,3717,47,4017,48780,1084,1960,1210,2805,67087,3981,1199,445,2640,7573,4008,3081,6620,4036,2168,33154,1136,5989,1985,3510,3101,1617,1784,3160,1210,1193,2371,4259,1240,2044,4366,92259,258,2763,3342,1673,3060,68791,1380,4848,33166,87928,2687,4368,866,2003,2378,2628,1196,3438,296,6711,8983,47,54995,5015,1968,364,122,8798,1477,592,1261,293,2929,231,319,2125,1343,60684,442,783,708,2997,4285,2724,2463,4240,33564,590,2324,3504,1732,2349,3273,8873,948,6323,56941,1214,6365,441,589,33166,1223,1336,1394,1367,553,648,6188,838,1196,780,1193,1073,56367,648,1283,5989,1059,1993,208,6,2373,34,5359,6764,454,858,2406,36,48738,1441,7139,2384,374,7099,367,4446,541,1077,2406,589,360,937,2119,1200,95,1980,7572,2248,235,2134,3753,260,2500,41285,1199,317,585,4022,1049,111,593,2640,3833,2081,6377,2916,1315,318,150,6879,2857,5218,2324,1270,673,64614,8917,90345,474,5266,102880,229,532,4238,3175,8622,1646,780,70293,2730,1237,1372,296,8195,552,49278,3095,357,1228,1,1057,1374,225,8984,48678,500,161,1993,3977,6863,987,1801,1590,1219,6764,750,2908,837,62799,914,3668,165,1258,1198,1942,5640,46578,53123,909,2916,7162,419,355,377,5015,590,296,1641,1616,1287,72998,2005,2160,110110,1250,4279,410,44555,247,7438,6951,2502,1371,70286,549,4993,2571,1982,48082,3793,71280,1050,83134,1395,2329,2248,1225,11,344,1580,910,2942,33794,1663,87383,5459,5377,835,357,1220,7438,508,4909,1357,1282,45447,257,363,590,4890,64508,3068,3200,2411,5954,1722,2085,2355,292,1101,3417,55253,45722,587,34405,46976,3979,50806,4993,1220,1917,48,1271,2858,3984,5489,58309,56788,1353,4164,2273,553,431,2174,1266,52,55814,51412,2599,2728,296,4246,2324,3526,342,316,5957,72733,52,541,4662,2037,6942,1077,3556,2845,783,1938,84152,266,586,6541,4299,1291,555,3246,55820,1041,86548,55820,6297,4034,1377,7151,596,3081,1409,1645,2028,34,1208,33615,475,5215,2000,589,345,1053,902,59026,3916,33675,187,2840,3052,1580,4995,1562,51077,7153,3005,4306,552,1022,26729,1610,73,344,1303,5515,3484,1962,5448,968,905,509,1569,1221,2738,965,913,74688,46976,500,3745,2797,5378,1321,1394,112,1500,108932,350,5388,5420,316,515,929,4153,7502,593,1196,52245,1196,1721,55052,553,912,55290,2841,288,112868,1,1779,5419,1981,2289,1407,6283,2153,4677,1125,1645,1580,1777,5577,31522,2324,433,688,64839,5377,4357,314,2454,300,3932,356,3155,1196,590,1183,350,5385,3996,87232,1089,2764,2194,3114,707,45720,2505,7153,1590,1204,1061,2316,111,3996,1225,48696,22,90057,5053,1432,1393,5900,4027,527,750,3494,361,4149,54286,4518,317,8961,1247,2628,1028,1375,832,5991,6944,8376,1321,4973,2918,5378,3271,638,1777,1219,647,590,2874,149,165,1416,8360,4995,4007,372,2406,3418,480,32291,344,1282,71464,2723,8798,648,3102,2581,2108,380,2916,1544,926,2997,30810,778,4811,1911,2145,1089,4246,4664,2072,953,6539,5419,2986,56801,1969,2516,296,6873,288,5445,65142,4641,5445,253,63062,185,260,2764,912,7099,593,1608,293,4447,27837,1210,230,101,2424,42632,1680,260,3821,2010,19,3578,208,593,3300,110127,6333,356,2114,653,1625,588,4896,111,4009,2657,2109,1385,4027,5049,4754,3104,6539,2571,1291,1588,3185,4027,4062,647,7458,2002,5139,1382,2676,1069,1252,1233,33615,54503,592,4019,53996,1827,4178,3702,2424,1391,303,1799,1476,2087,3105,260,1207,1909,77561,1201,205,3135,457,2459,2709,5418,231,380,44191,1049,1676,30749,48385,4973,480,2763,52950,8641,711,34,595,2423,168,115611,45499,661,558,51007,5620,3108,66097,587,24,551,2722,78557,2797,924,852,98124,1238,1858,457,628,733,6294,3181,1210,6983,3481,3450,1909,2716,748,1020,1240,5,4993,1240,1088,1219,3454,292,3911,1148,70361,2000,48326,1943,360,4153,47952,78247,1372,2542,1354,34405,32,1235,70293,2146,3409,1253,3481,1291,1247,6377,4901,4018,2006,366,8197,733,1246,4310,4007,480,282,2335,913,48516,76077,1188,80241,78041,1416,1678,3972,66,4153,1206,49272,349,6890,1192,59315,1094,3341,3114,8666,5378,4721,1358,4881,160,7367,3147,1839,3160,1274,10,242,63113,2375,2302,300,4995,1965,1527,377,434,252,6333,59315,316,60069,63113,4019,1258,4329,44665,1639,5952,1799,376,169,431,1219,4616,3676,2973,1759,4306,4816,1411,2181,34,32291,2254,111,70,1095,648,4448,1085,5388,260,3948,1023,38061,1,1587,901,852,1225,446,1251,922,4327,6188,1688,4808,367,4020,81834,3398,1185,4845,450,5004,1356,318,7234,247,91974,52,8938,4963,1150,161,3617,277,349,357,365,2288,500,553,4306,7040,16,328,3565,5617,520,3107,1591,2000,553,6377,6863,4062,1247,356,1645,329,4844,1292,74458,44555,1580,1608,515,858,3451,527,3916,2064,7139,2617,180,198,73017,1653,2091,253,920,540,98809,1007,318,539,353,2297,1726,3598,356,110,1958,62155,1816,3152,2947,4000,26649,1719,85414,2042,6220,349,4886,527,356,7982,3703,36,249,3039,1019,2716,2460,4995,3435,6281,3578,3998,4016,7377,5292,4263,46970,1148,3152,2615,253,858,2681,8042,4022,2947,8970,5066,590,353,39,5679,39,47124,5804,1784,3529,1208,4886,2398,1204,3072,56757,223,337,164,252,55247,70,4011,3646,1252,3821,4478,7254,539,3176,7164,539,653,2336,1380,2951,4223,89864,440,2944,2916,351,56251,1387,5527,4728,3685,1282,32,6385,2977,79,6863,153,1246,1247,7156,5992,53322,34162,589,1809,457,56152,7323,46,3813,830,50,25927,61132,4361,547,91529,364,3916,3301,97913,6001,19,4239,3186,4014,3422,3827,1089,380,89753,1544,2797,4902,1334,5349,29,324,69784,1377,5679,2761,1566,1356,8908,7348,79132,1036,2722,1663,2334,3459,1964,64839,3468,171,6947,940,3087,8711,4047,2011,60037,1792,5291,110,4344,253,2712,8533,2600,65,57368,5952,40815,3983,1354,2692,31,59258,1291,230,365,5303,1222,55257,52722,1206,74795,474,628,1380,2391,1370,1633,8665,1405,1271,1198,4776,4270,420,2433,1544,366,2717,1097,296,372,48744,541,39444,555,3671,788,3055,4878,225,2791,5647,173,52042,1391,8636,1573,36517,296,2657,1200,2959,62849,1298,110,342,1263,7153,4886,97923,3250,1250,55247,2208,1777,4022,33166,123,5489,2100,2730,4027,19,1188,5945,6947,2041,377,4988,1580,1219,1199,858,3101,1105,5792,79132,1997,3827,5952,1246,43853,6947,3949,2124,2490,2352,70,26495,296,2353,553,4973,4226,610,2108,4205,4975,329,3444,7698,195,2232,4993,908,2640,161,2918,3825,6974,3016,4965,2396,8961,6663,293,4191,27831,7123,91658,5459,8183,8794,3033,3752,2468,585,1270,83086,20,3919,1265,70286,349,61240,327,5991,2021,2288,6708,595,2393,296,783,5803,3703,3259,4887,595,24,4803,4226,2871,708,3801,65359,84392,8464,1,2791,3996,108190,1500,59315,2716,380,1208,1296,858,586,5481,949,2355,4580,1197,5299,2445,4005,22,5528,457,1126,1200,2300,64839,2329,8984,30749,3361,858,52283,45662,3556,2100,904,1028,3300,1246,5151,382,3006,1217,2470,1079,5669,1025,3178,4039,81591,913,105653,8528,736,2135,3578,2553,5459,56174,6754,59000,2959,56350,546,3985,2550,150,3809,527,926,32,31225,50872,4673,750,48997,1416,835,593,112852,1212,1347,3752,1721,836,4008,4811,6365,48997,3868,3207,91529,3300,1641,21,2710,48696,762,1085,3639,4741,733,2403,89085,1375,4677,68358,1769,25,1213,4211,223,102800,3910,5313,7454,1973,1961,832,2369,1533,1250,2762,1600,96596,4029,3081,52245,51662,3397,2827,47,5010,4329,235,31,593,54286,231,68358,3176,1573,1210,1234,3114,344,5481,59315,2108,544,3052,2804,509,3555,1272,597,2126,3263,3075,3494,1198,788,1674,2731,3159,661,33679,1671,49961,3885,112183,4011,990,1614,34319,234,1876,56167,34405,344,78499,593,3005,346,765,1020,2023,344,2414,2706,616,1307,5445,1307,5470,656,113348,1291,55805,1625,8880,1689,1370,4741,597,8800,2947,2144,1196,4343,6365,1300,1608,277,1097,2203,4756,316,4848,7373,1214,46948,2694,2001,494,2243,3328,288,6779,1193,322,1260,3298,5574,46578,1645,161,5989,647,6946,17,1302,2208,19,6188,37741,1270,58301,653,4025,1641,364,596,32031,4262,1266,648,141,1298,741,3973,3635,1935,6374,2791,185,535,85354,2716,292,377,2463,1208,6537,1249,500,33493,4310,6584,17,6808,3418,5445,1794,3006,3763,4388,6503,181,3033,53000,362,4973,585,3852,2273,527,1648,2991,168,317,6627,5247,211,380,8612,2686,54771,42,1694,852,1831,4979,3943,1653,618,236,837,4718,4718,454,597,4816,5872,27326,3004,8368,3439,809,4069,1287,34162,608,2022,293,6932,1503,193,4489,3082,1374,1663,595,2490,1953,728,2959,2683,4487,1047,1834,253,1917,1183,494,3555,715,7254,2329,2671,2706,1374,587,3177,2420,184,1703,1982,480,34,1271,587,47044,1968,4993,597,2114,7004,1367,2819,5146,39869,805,6157,316,1073,5679,1009,4299,37545,1788,648,2013,1359,608,4643,41569,537,231,1333,3793,3000,45722,1019,1597,4697,539,4022,2427,47,2273,6870,62374,1984,1210,3627,45186,47,5225,1514,2329,4994,1792,1262,2518,2268,161,71535,5952,3996,913,193,4262,2918,1527,1968,902,48997,3000,2500,4370,6016,4903,3404,344,68319,1041,3509,594,62081,5502,2384,4016,60943,1131,434,3301,6378,4226,33493,45722,3211,4979,2502,110,88,2000,4979,786,909,33794,1206,7259,39,3326,2728,1307,27869,3618,36,380,72,7090,47610,2369,1653,5294,4880,6502,2542,7143,2717,261,25835,4052,282,7089,1588,2581,231,296,539,5669,56563,848,2021,1479,440,3932,3298,362,43936,357,783,1162,1200,48516,288,569,480,5956,3253,991,165,145,1036,1291,70,1895,6975,7925,2527,1265,733,1172,3448,3114,317,596,85213,4886,7381,6412,367,4306,1917,3408,3300,4447,4299,543,2718,2355,420,6586,69481,2012,3185,2598,5450,5502,1250,924,832,7743,222,384,462,830,4878,1127,7139,736,608,1967,1517,5816,1644,10,507,786,1224,2916,224,6014,1792,1690,1479,60950,224,153,4865,2571,1200,1029,1073,2699,89102,6857,62644,1884,454,18,54259,377,1274,6155,4947,1196,947,1354,2906,83613,3683,2890,2583,1305,1517,3104,8464,913,1408,1947,4901,2054,1394,62999,5816,5464,1240,5265,99005,45447,1643,1220,2959,1499,454,3263,27660,1343,532,34072,1086,3703,480,1441,2987,1952,3087,153,1625,1347,2373,2126,3452,71264,1401,6294,1136,1265,367,1375,480,3108,1270,6323,3175,6957,5505,587,6552,223,86320,97306,2858,468,5669,68954,288,1282,110,1358,1246,8970,3082,77330,704,1719,53002,260,111,7025,1690,293,1013,70984,95488,4890,586,3253,56921,1252,4886,34405,1357,246,3034,1936,1947,2716,3072,2424,3364,10,329,2605,597,1171,1747,1722,1225,7347,353,1666,3997,480,356,318,1291,235,1078,809,926,920,3897,3608,4407,7254,2424,252,1213,589,225,1876,50798,1732,168,1944,1254,4054,1753,54997,1127,2268,247,1882,1580,4308,47,1097,1193,595,1088,2321,39,3969,495,150,1198,94837,1255,1206,5010,227,2294,2291,380,520,34048,1221,260,6408,6783,4995,56367,1066,35681,2130,2118,117,315,10,590,4874,2890,4889,1580,5563,4103,58998,8873,2871,117,2360,3168,941,2797,57637,11,1210,3169,2132,1200,2677,4085,5349,434,1356,1393,541,1034,4538,52287,1833,581,593,2598,520,208,1188,1994,2506,3265,51255,2278,2875,7293,3060,539,2598,1304,5673,296,4993,86,2093,3967,3552,908,5649,81562,1204,199,778,1249,1485,34048,89118,2953,27904,2804,48,5956,2236,4306,1283,2683,1246,3,1213,1197,260,858,2504,3504,1022,4034,2621,2,6936,19,64575,595,586,5283,4262,2643,172,586,292,3855,4609,2411,97752,6377,2174,472,52589,7347,2291,1234,1136,2916,80489,7438,6485,924,1252,1722,442,1278,1248,3897,454,539,2012,364,62,2076,2471,19,3408,247,2424,2391,593,55118,1947,79274,3435,3408,39183,86898,2826,1968,5415,1625,2788,1472,2028,5137,1225,2987,832,1200,50,55820,185,3801,924,724,371,8366,64197,4343,1500,1252,88125,1136,54272,39,4006,161,52,78499,1307,3972,1028,3798,68159,2706,1246,88163,51086,1960,999,185,51088,293,3163,1197,1923,1136,3857,2100,3032,5080,274,830,4979,50872,3593,2054,95744,3617,153,590,44555,42015,72226,2991,2316,317,1061,2907,3469,180,1266,150,1172,4489,1722,839,2690,70,3524,3408,102445,1968,110,471,5010,932,86880,951,1252,3107,4351,2716,7147,6503,2109,2959,1265,480,457,527,344,786,924,1270,367,593,3070,2006,4034,1292,1240,1552,457,2858,2355,2041,224,5677,1917,4235,5237,6870,85412,1029,4757,83613,8360,3257,431,33794,2331,39446,32,20,527,531,1927,514,586,62,7027,673,3639,77866,160,468,474,446,141,1240,2664,1206,2728,2570,4681,5065,36,1407,2947,296,1876,2730,62970,110,208,2712,6,186,356,105593,1947,69122,1199,1883,296,2107,3868,34314,60753,60040,41569,837,41716,1020,1580,2451,1214,801,3793,805,15,1769,3408,2997,2571,281,2194,4489,53953,736,2115,410,5464,5479,2973,421,4844,4370,45728,1090,2949,4823,1042,3697,8387,3426,60069,4105,1625,4034,497,3087,8798,27604,5957,3702,95,1135,2300,86548,260,5049,1617,3893,2858,1258,8807,1687,5049,736,3159,5693,2046,4480,17,3646,1129,485,475,1641,1466,1890,3893,3033,3608,1183,1240,1997,34162,1257,1292,101864,337,2694,1682,2804,3551,41569,1894,364,1193,1747,913,3671,800,296,32239,348,307,1258,4270,6863,10,5444,4816,288,56367,2054,40755,46972,511,648,558,2710,24,1407,2471,53189,2010,1198,3949,780,2445,3300,3994,497,4728,312,1089,6953,3712,508,3438,361,5816,2335,32469,4480,3708,1206,1049,505,150,3386,608,2944,260,6337,475,86835,2916,590,2891,3527,335,491,839,1148,26133,1203,96610,7153,541,1409,4446,2762,1499,6448,2959,1345,1641,1270,153,1304,5943,1265,936,4246,6054,105,428,2571,1028,4015,1025,72998,8983,8983,2985,3913,2340,924,32587,648,68237,173,466,8907,507,7150,8874,2791,6333,1721,3147,53125,474,539,454,2324,74789,2945,596,3052,7143,919,3521,1210,5944,1580,1035,3998,3661,2126,50,145,2396,33166,2643,2244,1302,5481,913,58,2840,2729,455,725,3263,2707,355,1961,4464,261,589,2716,1025,4427,3355,1206,4022,3882,1735,37729,3481,3608,1222,52722,3584,1277,1339,663,8372,2455,1278,1208,2571,2124,1641,1097,6037,5903,208,3146,208,2130,246,1208,318,11,7324,594,8360,454,1207,61024,2081,508,5170,2902,33679,1693,2125,18,3702,914,5218,527,454,51255,79091,3101,1367,1127,4862,4241,950,77561,858,1234,1372,185,60069,1617,2421,5481,1215,2706,1275,2427,1411,37384,231,2881,969,628,151,435,7445,785,2301,45722,47,3793,6863,144,68157,63,80917,733,2268,5313,440,2076,1256,55232,2294,228,3897,2723,69275,4816,2485,6287,54286,2012,4266,1777,1220,1210,97024,90057,377,292,318,999,3535,1994,904,48,1391,1064,4128,2302,5971,1876,2717,7981,8970,543,1033,6370,1104,5283,104,5072,3448,2683,2512,1017,44195,305,4738,551,145,1676,33493,2858,1208,720,1371,2553,2671,141,912,2406,1200,4034,4876,539,5902,2318,2427,104,356,1270,2253,1676,5445,951,1885,45,54999,3252,8636,5151,260,1283,307,185,919,745,3061,8836,4351,3697,2671,595,786,1517,329,1954,555,1034,56757,79796,1377,1128,2613,6753,39183,1964,1291,850,1391,1967,342,30812,2580,253,457,420,2985,1676,1918,2081,1291,1285,1208,39231,3386,33166,49649,110,11,2442,1909,1183,4846,337,597,2746,71838,1197,307,4041,1777,750,588,592,60161,62,318,1059,2311,1285,442,10,372,1301,111659,3039,508,6,6,5025,3535,1961,111,3706,1676,531,708,1280,5378,2248,1953,4720,25940,5630,5995,100,7649,1356,50,6942,32,2085,173,1960,69122,1183,3554,3307,903,2288,3525,1772,1092,58,480,3703,307,100,277,1037,509,7375,1387,4084,5505,54001,1573,1084,466,2167,6993,4896,6874,74327,59721,2572,440,7438,2291,1219,1073,968,5633,1221,552,1172,2110,69,762,1805,2080,74630,3386,3804,1188,1207,2450,68157,7438,3793,1920,2313,44191,3263,2205,480,3578,18,292,1721,8665,1208,27426,2770,6874,5991,186,8961,3564,2959,362,2919,1221,2406,3071,1150,543,97,51662,1265,5991,736,54281,596,1735,3506,597,150,316,3275,1212,2077,3952,1225,208,32,78268,1517,1446,1208,1161,50912,173,5604,2916,44195,3135,648,2700,3200,3797,4520,1330,4369,592,42163,2100,1704,954,1231,8623,316,648,34,6333,6,163,3624,2336,1952,280,223,296,1580,158,2291,5255,44974,3006,4521,7374,1968,329,300,1261,1377,2529,3176,2385,94,916,480,253,48997,2716,4084,4020,2059,2094,68157,4280,2716,66354,1073,592,1923,3593,765,743,7773,2700,1955,6880,89745,44,858,356,5954,2347,2161,8985,1101,110771,46578,8966,1240,616,1197,329,924,3095,3452,2406,382,4344,80219,2918,225,3798,7203,3249,3107,6818,1690,593,5995,6,4681,5900,1704,5445,519,2454,1476,377,2076,26662,4033,2,4975,296,6345,553,87304,2294,2504,1961,1246,2000,838,44788,3801,3,1299,3633,6365,6291,2427,160,107,60072,3044,3396,95002,6377,500,1252,160,344,54997,158,852,53996,48,2006,628,1089,2144,16,3335,5299,497,356,2991,55247,25,5501,107,2840,2073,116977,36527,7323,3826,608,253,55290,55363,457,33615,480,2036,1388,2020,1717,2701,1372,2065,858,370,1259,5247,7445,8943,1389,6188,57640,671,4052,103,1240,35836,1997,2716,3040,3019,1948,1242,778,899,7419,778,5308,1213,1214,8911,6879,2616,367,5991,492,3160,590,1950,27878,6157,3296,2384,2615,3450,1395,3535,2706,1333,1259,2664,830,5388,2706,1258,1093,53125,2010,7943,2791,34150,2291,315,588,551,1148,94864,72737,5971,6765,1921,49957,2571,2723,608,7250,356,1172,1022,224,6857,608,1427,3167,282,2011,62999,6244,1394,2082,71691,160,2012,1217,296,1225,719,110,31,3527,3524,8807,2797,1639,344,2002,4161,313,2858,225,5014,50,4022,48774],\"xaxis\":\"x\",\"y\":[3.5,2.0,3.5,3.0,2.0,1.0,2.5,4.0,2.0,5.0,3.0,4.0,4.0,4.0,4.5,5.0,4.5,4.5,0.5,3.0,3.0,5.0,3.5,4.0,3.5,3.5,3.0,4.5,4.0,1.0,4.0,3.5,0.5,4.0,2.5,3.0,4.5,4.0,3.0,2.0,4.0,1.0,4.0,4.0,4.0,4.0,4.5,4.0,2.0,4.0,4.0,3.0,4.0,2.0,3.5,4.0,3.0,3.5,3.0,3.0,5.0,3.5,4.0,1.0,5.0,3.0,3.0,5.0,3.0,4.0,4.0,3.0,3.0,4.5,4.0,4.0,4.0,5.0,3.0,3.0,4.0,4.0,4.0,3.5,4.5,3.0,4.0,4.5,4.0,2.0,5.0,4.0,5.0,4.0,2.0,5.0,5.0,3.0,4.0,3.5,3.5,5.0,4.0,5.0,4.0,3.0,5.0,3.0,3.5,4.0,3.0,4.0,3.0,3.0,5.0,5.0,5.0,5.0,4.0,4.5,2.0,5.0,2.0,4.5,4.0,3.5,5.0,3.0,1.0,4.0,3.0,0.5,0.5,4.0,3.0,2.5,3.0,2.0,4.5,2.0,3.0,5.0,4.0,3.0,5.0,2.0,5.0,4.0,4.0,1.0,3.0,4.0,2.5,3.0,4.0,3.5,4.0,5.0,1.0,5.0,3.0,4.0,3.5,5.0,3.5,4.0,3.5,4.0,4.0,4.0,3.0,1.5,3.0,2.0,3.0,3.5,4.0,2.5,2.5,1.0,3.0,5.0,3.0,5.0,0.5,3.0,4.0,5.0,0.5,3.5,2.0,2.0,3.0,4.5,3.0,4.5,4.0,5.0,3.0,3.0,3.0,3.0,3.5,4.0,1.5,3.0,4.0,3.0,3.5,3.0,4.0,4.5,2.5,2.0,3.0,1.0,4.0,4.0,3.0,4.0,4.0,3.0,3.5,4.5,3.5,4.5,3.0,4.0,3.0,5.0,3.0,5.0,4.0,3.0,4.0,4.0,3.0,2.5,2.5,3.5,4.0,2.0,3.5,4.5,3.0,2.5,3.5,5.0,5.0,3.0,4.5,4.0,3.0,4.0,2.0,4.0,3.0,3.5,4.0,4.0,5.0,4.0,2.0,4.0,4.0,5.0,4.5,3.0,3.5,2.5,3.0,3.0,5.0,3.0,3.0,4.0,2.0,3.5,4.0,3.0,4.0,4.5,3.0,3.0,4.0,5.0,4.0,2.5,4.0,5.0,0.5,5.0,5.0,4.5,3.0,4.0,3.5,4.0,3.5,2.0,3.0,4.0,0.5,4.5,5.0,4.5,4.0,3.0,4.0,3.5,4.0,1.5,4.0,2.5,4.0,2.0,4.0,5.0,4.5,5.0,5.0,1.0,5.0,3.0,2.5,2.5,4.5,3.0,1.5,4.5,5.0,4.0,4.0,3.0,4.0,2.5,4.0,3.0,4.0,3.0,3.0,4.5,2.5,1.5,5.0,5.0,3.0,4.5,3.5,3.0,3.5,2.5,2.0,5.0,4.0,3.5,3.0,3.0,2.5,3.0,5.0,3.0,4.0,4.0,4.5,3.0,4.0,4.0,0.5,4.0,4.0,5.0,3.0,2.5,3.0,3.0,3.0,4.0,2.0,4.0,4.0,4.0,4.0,1.5,2.5,1.5,5.0,2.5,4.0,4.0,3.0,3.0,2.0,4.0,4.0,5.0,2.0,3.0,4.0,5.0,5.0,5.0,5.0,3.0,4.0,4.0,3.5,2.0,4.5,3.0,5.0,3.0,3.5,4.0,3.0,3.0,3.0,3.5,3.0,2.0,3.0,4.0,4.0,3.5,4.0,3.0,5.0,5.0,4.0,2.0,3.0,4.0,0.5,3.0,2.0,3.5,3.0,3.0,4.0,3.0,3.0,2.5,4.0,5.0,4.0,3.5,5.0,5.0,0.5,3.5,3.0,3.0,5.0,4.0,3.0,3.0,3.5,4.0,4.0,3.0,3.0,3.0,5.0,2.5,5.0,4.0,3.5,5.0,3.0,5.0,3.5,4.5,4.0,5.0,5.0,4.0,4.0,4.0,4.5,4.5,0.5,4.0,4.0,5.0,4.0,3.5,4.0,4.5,5.0,3.5,4.0,1.5,0.5,2.5,5.0,4.0,3.0,2.0,3.5,4.0,4.5,4.0,3.0,4.0,3.5,3.0,3.0,3.0,4.0,3.0,3.0,3.0,3.0,2.0,4.0,3.0,4.5,1.5,4.5,3.5,3.0,4.0,3.0,5.0,4.5,3.0,3.0,4.0,3.5,2.0,5.0,4.5,4.0,3.0,1.5,3.0,3.0,3.0,4.0,3.0,4.5,4.0,4.0,3.5,4.5,5.0,4.0,4.0,3.0,4.5,3.0,3.0,4.0,4.5,5.0,3.5,4.0,4.0,4.0,2.0,4.0,4.0,3.0,4.0,4.0,4.0,4.0,2.0,5.0,4.5,3.0,3.0,5.0,3.0,3.0,2.0,5.0,5.0,3.0,3.5,3.0,3.5,4.0,4.0,3.0,3.5,4.0,4.0,3.5,3.0,2.0,3.5,4.0,2.0,5.0,4.0,3.0,5.0,2.5,5.0,4.0,3.5,4.5,3.5,3.0,2.0,3.5,3.5,4.0,4.0,3.5,5.0,2.0,5.0,3.5,4.5,2.5,3.0,4.0,5.0,3.0,3.5,5.0,5.0,4.5,3.0,1.0,3.5,3.0,4.0,2.0,1.0,5.0,4.0,4.0,3.0,3.0,3.0,3.0,3.0,4.0,5.0,2.0,4.5,4.0,4.0,5.0,2.0,3.5,3.0,4.0,4.0,2.5,4.0,4.0,4.0,2.5,4.5,3.0,4.0,3.0,4.0,4.0,4.5,3.0,2.5,5.0,4.0,3.0,3.5,4.0,4.5,2.5,3.0,5.0,4.0,4.0,4.0,2.5,3.5,3.0,2.5,5.0,2.0,4.0,4.0,2.0,3.0,0.5,4.0,3.5,3.0,3.5,3.5,2.0,4.5,3.0,4.5,5.0,1.5,2.0,4.5,4.0,3.0,5.0,2.0,2.5,4.0,4.0,3.5,4.5,4.5,3.0,2.5,1.5,3.0,2.0,3.0,5.0,3.0,3.5,4.0,3.0,4.0,3.0,3.0,5.0,3.0,5.0,4.0,3.5,4.5,4.5,4.0,3.5,3.0,2.0,1.0,2.0,3.0,3.5,5.0,5.0,4.5,3.0,3.5,3.0,5.0,5.0,5.0,2.0,4.0,5.0,3.0,4.0,3.0,4.5,1.0,1.0,5.0,3.0,3.5,4.0,4.5,2.5,2.0,4.0,3.0,4.0,3.5,0.5,2.5,4.0,4.0,4.0,3.0,5.0,4.0,2.0,3.5,4.0,3.5,4.0,4.5,4.0,4.0,4.0,3.5,4.0,3.0,3.0,3.0,4.0,5.0,3.5,3.5,3.0,4.0,3.0,4.0,3.0,1.0,3.5,3.5,3.0,4.5,3.0,1.0,3.5,1.0,4.0,2.5,2.5,1.0,2.0,5.0,4.0,2.5,4.0,2.0,3.0,3.0,2.5,4.0,3.5,2.0,4.0,4.0,2.0,2.0,5.0,3.0,3.0,5.0,1.5,3.0,1.0,2.0,2.0,4.0,4.0,2.0,4.0,3.5,2.0,4.0,3.0,3.0,4.0,3.5,3.0,0.5,4.0,4.0,4.0,3.0,4.0,4.5,2.0,3.5,5.0,4.0,4.0,4.0,4.0,4.0,3.0,1.0,1.0,3.0,4.0,5.0,4.0,3.0,3.0,4.0,4.0,4.0,3.0,1.0,5.0,3.0,3.0,5.0,3.5,4.0,4.0,3.5,2.0,3.0,4.0,2.0,3.5,4.0,4.5,5.0,3.0,3.0,2.5,4.5,3.0,3.0,2.0,4.0,4.0,4.0,4.0,4.0,4.0,3.5,3.0,3.5,3.0,4.0,3.5,2.0,3.0,4.0,3.5,5.0,5.0,2.5,3.5,2.0,4.0,3.0,4.0,4.5,3.5,4.0,4.5,4.0,1.0,4.0,3.5,3.5,5.0,3.5,4.0,3.0,2.5,5.0,4.5,3.0,3.0,3.0,3.0,3.5,3.0,3.0,4.0,3.0,3.5,3.5,5.0,4.0,3.0,1.0,3.0,4.0,4.0,3.5,3.0,3.0,3.0,4.0,3.0,3.5,4.0,1.5,3.0,4.0,3.5,4.5,5.0,5.0,4.0,5.0,2.5,3.5,4.0,3.5,4.0,3.0,4.0,3.5,4.0,3.5,4.5,2.5,4.0,3.0,4.0,3.0,5.0,3.0,4.0,1.0,4.0,2.0,4.0,3.5,3.5,4.0,4.0,3.5,4.0,3.5,4.5,4.5,4.5,3.0,2.5,4.5,3.0,4.0,4.5,1.5,4.0,3.5,3.5,3.0,3.5,4.0,3.0,3.0,3.5,4.0,4.0,3.0,3.0,4.0,3.0,4.0,5.0,4.5,3.0,2.5,3.0,4.5,4.5,4.5,4.0,3.0,4.5,4.5,4.0,1.0,4.5,4.0,4.5,3.0,2.0,3.0,3.0,4.0,4.0,4.5,3.0,3.5,3.0,2.5,1.0,3.0,5.0,4.0,4.0,2.0,3.0,3.5,3.5,3.5,5.0,3.5,3.5,3.0,5.0,1.5,4.0,4.0,4.0,4.5,4.0,3.0,2.0,3.0,4.0,1.5,5.0,3.0,3.0,4.0,5.0,4.0,5.0,3.0,3.0,2.5,3.5,1.0,5.0,4.0,3.0,4.0,3.0,4.0,4.5,5.0,3.0,3.5,4.5,1.5,4.0,5.0,3.0,3.0,5.0,3.0,0.5,2.0,4.0,3.0,5.0,0.5,4.5,4.0,3.0,4.0,3.0,5.0,5.0,1.0,3.0,5.0,5.0,4.0,3.0,2.0,3.0,4.0,3.0,3.0,4.0,3.5,5.0,4.0,1.5,3.5,1.0,2.5,3.0,5.0,1.0,4.0,3.5,1.0,1.0,3.5,5.0,3.0,4.0,1.5,4.5,4.0,2.0,4.0,3.0,4.0,2.5,3.0,5.0,4.0,3.0,4.0,4.0,4.0,3.0,4.0,5.0,4.0,5.0,3.0,3.0,5.0,5.0,3.5,3.5,3.5,3.5,0.5,3.0,4.0,4.0,4.0,4.0,3.0,4.0,3.0,4.0,3.5,4.0,5.0,2.5,4.0,4.0,5.0,2.5,4.0,4.0,3.0,4.0,5.0,4.0,4.0,3.5,5.0,1.0,4.0,4.0,4.0,1.0,5.0,4.5,3.0,3.0,5.0,5.0,3.5,4.0,3.0,4.0,1.0,2.0,3.0,2.0,4.0,3.0,4.0,5.0,2.0,3.0,3.5,3.0,5.0,3.0,4.0,5.0,3.0,2.5,4.0,3.5,5.0,4.0,4.0,4.0,3.5,4.0,2.0,4.0,4.0,5.0,3.0,4.0,3.5,5.0,3.0,3.5,4.0,3.0,5.0,2.5,0.5,2.0,5.0,5.0,3.0,5.0,4.0,4.0,4.0,3.0,3.0,4.0,3.5,4.5,5.0,4.0,4.0,3.5,3.0,1.0,5.0,3.5,4.0,2.0,4.0,4.0,5.0,3.0,4.0,4.0,5.0,5.0,3.0,4.0,4.0,3.5,3.0,2.0,4.5,3.0,1.0,2.0,4.0,4.5,3.5,4.0,3.5,3.0,2.0,2.0,4.0,4.0,4.0,1.0,5.0,4.0,2.5,4.0,5.0,4.5,4.0,4.0,2.5,3.5,3.0,4.0,5.0,3.5,5.0,4.0,4.0,3.0,5.0,1.0,3.0,4.5,3.5,5.0,3.0,4.0,3.5,3.5,3.0,4.0,4.0,3.0,1.0,3.5,3.5,5.0,4.0,3.0,4.5,5.0,5.0,3.5,4.0,3.0,4.0,3.0,2.0,5.0,2.5,2.5,4.0,2.0,5.0,5.0,3.0,3.0,5.0,4.0,2.0,4.0,4.0,4.0,5.0,3.5,4.0,3.0,3.0,2.0,0.5,4.5,1.5,4.0,4.5,3.5,4.0,5.0,4.5,4.0,4.0,3.5,3.0,0.5,4.0,5.0,3.0,4.0,3.5,4.0,4.0,3.5,1.0,4.0,4.0,2.5,3.0,0.5,3.0,3.5,2.0,3.5,3.0,1.0,4.5,5.0,4.0,5.0,3.5,5.0,2.0,3.0,5.0,4.0,4.0,3.0,4.5,3.0,4.0,5.0,3.0,4.0,3.0,3.5,4.0,5.0,1.0,4.0,3.0,4.0,1.0,3.5,4.0,4.5,2.5,1.0,3.0,4.0,5.0,4.0,3.5,3.0,2.0,3.5,4.0,3.0,5.0,4.0,4.0,2.5,4.0,3.0,2.0,3.0,2.5,4.0,5.0,4.0,4.0,4.0,3.5,4.0,5.0,2.0,4.0,4.5,2.5,4.0,4.0,5.0,1.0,4.5,3.0,3.5,3.5,3.5,2.5,4.5,4.0,4.5,3.0,2.0,5.0,4.0,4.0,3.5,4.0,5.0,3.5,3.5,5.0,0.5,3.0,5.0,3.0,2.5,3.5,2.0,4.0,3.5,4.0,3.5,3.0,3.0,5.0,2.0,4.5,5.0,2.5,3.0,4.5,4.5,4.0,3.5,4.0,4.5,3.0,4.5,2.0,3.5,4.0,4.0,2.0,1.0,2.0,3.0,3.5,5.0,4.0,3.5,5.0,2.5,3.0,4.0,4.0,4.0,5.0,4.0,5.0,5.0,3.0,2.0,3.5,4.5,3.5,5.0,4.0,4.0,2.5,0.5,5.0,4.0,3.0,3.0,4.5,4.0,3.0,4.0,3.0,5.0,4.0,3.0,5.0,3.0,2.5,4.0,5.0,4.5,2.0,4.0,3.5,5.0,3.0,3.0,4.0,3.0,4.0,4.0,5.0,2.0,2.5,4.0,1.0,5.0,4.5,3.5,3.0,3.0,3.0,1.0,5.0,3.0,4.0,3.0,1.0,3.0,4.0,4.0,3.5,3.0,3.5,4.5,3.5,4.0,3.0,1.0,3.0,3.5,4.0,4.0,3.0,2.0,3.0,3.0,2.0,5.0,1.0,5.0,3.0,1.0,4.0,2.5,4.0,2.0,3.0,3.5,5.0,4.0,4.0,2.0,5.0,3.0,4.0,3.5,1.0,1.0,2.0,4.0,3.0,3.0,3.5,1.0,2.0,3.0,3.0,3.0,4.0,5.0,4.0,4.0,5.0,3.0,3.0,3.5,5.0,3.0,5.0,5.0,4.0,4.5,5.0,4.0,3.5,4.0,2.5,4.0,3.0,4.0,3.0,4.0,3.0,3.0,2.0,4.0,4.5,5.0,4.0,3.0,3.0,4.0,4.0,3.0,4.5,5.0,5.0,3.0,3.5,3.0,4.0,5.0,3.0,3.0,5.0,1.0,3.0,2.0,4.5,3.5,4.0,4.5,3.5,2.5,3.0,4.0,2.0,4.0,1.0,1.0,4.5,3.0,1.0,2.0,3.5,3.5,5.0,2.5,4.0,4.0,4.5,3.0,2.0,2.0,3.0,4.5,5.0,4.0,2.5,5.0,4.0,4.0,3.0,3.5,3.0,4.0,4.5,2.5,4.0,3.0,1.0,3.5,5.0,3.0,4.5,5.0,4.0,0.5,5.0,3.5,3.5,4.0,4.0,3.5,4.0,4.0,4.5,4.0,2.0,4.0,3.0,5.0,4.0,3.5,4.0,2.0,3.0,5.0,4.5,3.5,4.0,4.0,3.0,3.0,3.0,3.0,4.0,3.0,4.0,3.0,3.0,3.0,5.0,5.0,4.0,4.0,5.0,5.0,4.0,3.5,5.0,4.5,4.0,5.0,3.0,5.0,4.0,3.0,4.0,2.0,4.5,4.0,2.5,4.5,5.0,2.5,3.0,3.0,5.0,1.0,4.5,4.0,3.0,1.0,4.0,4.0,4.0,4.0,3.5,1.0,3.0,3.0,3.0,3.0,5.0,3.0,3.5,4.5,4.5,5.0,4.0,2.0,4.0,4.5,3.5,3.0,3.0,3.0,5.0,3.0,2.0,4.0,0.5,4.0,3.0,4.5,2.5,5.0,3.5,3.0,3.0,3.5,4.5,5.0,4.0,4.0,4.0,3.0,4.0,3.0,3.0,4.0,3.0,3.0,1.0,2.5,4.0,3.0,2.5,3.0,3.0,4.0,5.0,4.0,4.0,4.0,5.0,5.0,5.0,3.5,4.0,3.0,1.0,3.5,0.5,2.0,4.0,4.5,0.5,4.0,4.0,2.5,3.5,3.0,3.0,5.0,3.5,3.0,5.0,2.0,5.0,5.0,3.5,3.5,5.0,3.0,4.5,0.5,2.5,0.5,5.0,3.0,5.0,4.0,4.0,4.5,4.5,3.5,4.0,2.5,3.0,4.0,4.0,4.0,3.0,4.0,4.0,5.0,2.0,5.0,3.0,3.0,1.5,3.0,3.0,2.0,4.0,3.0,3.0,3.5,5.0,5.0,4.0,3.0,4.0,4.0,4.5,2.5,2.5,4.5,0.5,4.0,4.0,3.0,3.0,5.0,3.0,4.0,4.0,4.5,4.0,2.5,2.0,4.0,3.0,4.5,2.0,3.0,4.0,2.0,4.5,4.0,4.5,3.5,3.0,4.0,4.0,3.5,3.0,4.5,4.5,4.0,5.0,4.0,4.5,2.0,5.0,5.0,4.5,4.0,3.0,3.5,1.0,3.0,2.5,3.0,5.0,3.0,5.0,3.0,4.0,3.5,2.0,3.5,4.0,2.0,3.0,2.0,2.5,3.0,3.0,4.0,4.5,4.5,5.0,3.5,5.0,4.5,4.0,4.0,4.0,3.0,4.0,4.0,5.0,4.0,3.0,4.0,4.0,3.0,3.0,4.0,4.0,3.0,1.0,4.0,3.5,4.0,3.5,3.5,3.0,3.5,4.0,4.5,2.5,3.5,4.0,2.0,4.5,4.0,5.0,2.5,5.0,5.0,3.0,5.0,4.0,3.5,4.0,3.5,4.5,4.0,4.0,3.0,4.0,2.0,3.0,2.0,4.0,3.0,3.0,4.0,3.5,2.0,5.0,4.0,4.0,4.0,4.0,4.0,3.0,2.0,4.0,4.0,4.0,3.0,3.5,5.0,5.0,3.5,5.0,4.0,4.0,4.0,5.0,4.5,4.0,1.5,4.0,4.5,3.5,0.5,3.0,4.5,3.0,3.5,2.0,3.0,4.5,4.0,4.0,3.5,4.0,3.5,5.0,2.0,3.5,4.0,3.0,4.0,4.0,3.0,3.0,4.0,5.0,1.0,4.0,5.0,5.0,3.0,3.0,4.5,5.0,5.0,3.0,3.0,3.0,3.0,2.5,2.0,2.5,3.0,5.0,5.0,5.0,4.0,4.5,5.0,3.5,2.5,4.0,3.5,4.0,4.0,1.0,4.0,4.0,5.0,4.0,3.0,3.0,4.0,3.5,4.0,4.5,4.0,2.0,4.0,5.0,3.0,2.5,2.5,5.0,5.0,5.0,4.5,4.0,3.5,3.0,4.5,4.0,4.0,3.0,3.5,4.0,3.0,4.0,4.0,3.0,4.5,4.0,4.0,3.0,4.0,4.0,4.0,5.0,4.0,3.0,3.5,2.5,4.0,3.0,4.0,3.0,3.0,1.0,4.5,5.0,5.0,4.0,2.0,1.0,4.0,5.0,5.0,2.5,4.5,4.0,4.0,3.0,2.0,3.5,1.0,1.5,3.0,3.5,2.0,3.5,3.5,3.0,4.0,4.0,3.5,3.0,5.0,3.0,3.0,3.0,5.0,3.5,5.0,4.5,1.5,4.0,2.0,5.0,3.0,2.5,4.0,3.0,4.0,4.0,1.0,5.0,4.0,5.0,2.5,1.0,4.0,3.0,4.5,3.0,4.0,5.0,4.5,5.0,4.0,4.0,3.0,3.0,5.0,4.0,4.5,5.0,4.0,1.0,5.0,4.0,3.0,4.0,3.0,4.0,3.0,2.0,1.0,3.0,5.0,4.0,5.0,3.5,3.5,5.0,2.0,2.5,3.5,3.0,3.0,3.5,2.5,1.0,5.0,3.0,5.0,5.0,3.0,5.0,4.0,4.0,3.5,4.0,5.0,4.5,4.0,2.5,2.0,4.5,4.0,2.5,4.0,5.0,4.0,5.0,2.5,4.0,5.0,3.0,4.5,4.5,3.0,3.0,3.0,4.0,2.5,0.5,3.5,2.0,2.5,3.5,5.0,5.0,3.5,4.0,3.0,2.0,3.0,3.5,4.0,4.0,3.0,2.0,5.0,2.0,4.0,4.0,1.0,3.0,5.0,4.0,3.5,3.0,1.0,3.5,5.0,3.0,3.5,4.0,3.0,3.5,5.0,4.0,4.0,2.0,3.0,4.0,5.0,5.0,4.0,4.0,1.0,3.5,4.0,1.5,2.0,1.0,5.0,3.0,4.5,3.0,5.0,3.5,3.5,3.5,3.0,5.0,3.5,3.5,3.0,3.0,4.0,5.0,2.5,3.5,4.0,2.0,0.5,3.0,4.0,2.0,1.0,3.0,4.5,4.0,3.0,4.0,3.0,1.0,3.0,3.5,2.0,3.5,3.0,4.0,4.0,4.5,5.0,4.0,3.0,3.0,2.0,2.0,2.0,1.0,4.0,3.0,4.0,3.5,4.5,2.0,4.0,1.0,4.0,4.0,0.5,3.5,3.0,4.5,4.5,5.0,3.0,4.0,3.0,3.0,3.5,3.5,4.0,4.0,3.0,3.0,4.0,4.5,4.0,3.0,5.0,3.0,4.0,2.5,3.5,4.5,2.5,1.0,4.0,5.0,3.5,3.0,2.0,3.5,3.0,2.0,4.0,1.0,1.0,3.0,3.0,4.0,3.0,3.5,4.0,4.5,3.0,4.0,2.0,5.0,5.0,2.5,4.0,5.0,5.0,4.0,4.0,4.5,3.0,3.0,4.0,3.5,2.0,5.0,4.0,4.0,3.0,4.5,4.0,4.0,4.0,4.0,3.0,2.0,3.5,3.0,5.0,4.0,2.0,2.0,5.0,3.0,3.0,4.0,4.0,3.0,3.5,4.0,3.5,3.0,3.0,4.0,3.0,4.0,2.5,4.0,3.0,3.5,4.5,4.0,2.5,5.0,4.0,3.0,3.5,4.5,4.5,4.5,4.0,3.0,3.5,5.0,4.0,5.0,4.0,4.0,4.0,3.0,4.5,3.5,2.5,3.0,4.0,3.0,4.0,1.0,4.0,2.0,3.5,3.0,5.0,3.0,3.0,3.0,2.0,3.0,3.0,3.5,3.5,4.0,2.0,3.0,4.0,5.0,4.5,3.5,3.5,4.0,5.0,4.0,5.0,3.5,5.0,5.0,4.5,4.0,4.0,4.0,1.5,3.0,2.0,3.0,5.0,3.0,3.5,2.5,5.0,3.0,5.0,5.0,4.0,2.0,4.0,4.5,2.0,4.0,4.0,3.0,3.0,2.5,2.0,3.0,2.0,3.0,4.0,2.0,4.5,3.5,3.5,4.5,3.0,2.0,5.0,1.0,2.5,4.0,3.0,4.0,5.0,4.0,3.5,2.0,2.0,5.0,3.0,4.0,3.5,3.0,3.0,3.5,4.0,3.0,4.0,4.5,3.0,4.5,2.5,3.5,4.0,4.0,1.0,3.5,4.5,3.0,4.0,2.0,4.0,5.0,4.0,1.0,4.0,3.5,3.0,4.0,3.5,5.0,5.0,4.0,4.5,4.5,3.5,4.0,1.5,3.5,3.0,5.0,4.0,5.0,4.0,5.0,5.0,2.0,3.5,4.0,4.0,5.0,5.0,3.5,2.0,3.0,3.5,4.0,4.0,4.5,5.0,4.0,2.5,3.0,3.5,3.0,3.0,4.5,4.0,4.0,1.0,3.0,3.0,5.0,4.0,2.0,3.0,4.5,4.5,4.5,4.0,3.0,4.0,2.0,1.0,4.0,4.5,3.0,3.5,2.5,3.5,4.0,4.0,4.0,2.5,3.0,4.0,3.5,5.0,3.5,3.0,4.5,3.0,2.0,3.0,4.0,4.0,3.5,4.0,5.0,2.5,3.5,4.5,2.0,3.0,4.0,4.0,5.0,3.0,1.5,3.0,3.0,3.0,5.0,4.0,4.5,3.0,4.0,3.0,5.0,4.0,2.5,4.5,1.0,3.0,4.0,4.0,3.0,4.0,4.0,3.0,4.5,4.5,4.0,3.0,3.0,3.0,5.0,4.0,2.5,1.5,1.0,3.0,4.5,2.5,4.5,4.0,3.0,1.5,3.5,5.0,5.0,5.0,4.0,4.0,1.0,3.5,5.0,4.5,4.5,4.0,5.0,4.0,4.0,5.0,3.5,4.0,3.5,4.0,4.0,3.5,5.0,3.0,4.0,3.0,4.0,3.0,4.0,3.0,4.0,4.5,3.5,5.0,3.5,3.0,4.0,5.0,3.0,2.5,5.0,4.0,3.0,5.0,4.5,3.5,3.0,3.0,3.0,3.0,5.0,3.0,5.0,5.0,4.5,3.5,4.0,3.5,3.0,0.5,4.0,4.0,3.0,3.5,3.0,5.0,3.0,5.0,4.5,3.0,4.0,1.0,3.5,3.0,4.5,4.0,4.5,4.0,4.0,4.0,5.0,1.5,4.0,4.0,2.5,3.0,3.0,2.0,3.5,5.0,0.5,1.0,5.0,4.5,4.0,1.0,3.5,3.5,4.0,4.0,3.5,5.0,3.5,2.0,2.5,4.0,4.0,2.5,3.0,4.0,5.0,3.0,4.5,5.0,4.0,5.0,4.0,3.0,4.0,3.0,4.0,5.0,2.5,4.0,4.0,4.0,3.0,5.0,2.0,4.5,3.0,4.0,5.0,5.0,3.0,3.5,3.0,1.0,4.0,3.5,4.0,4.0,3.0,4.0,5.0,4.5,4.0,3.5,5.0,4.0,5.0,3.0,2.5,3.5,4.0,4.0,4.0,3.5,5.0,3.0,3.0,4.0,4.0,4.0,5.0,0.5,4.5,4.0,5.0,3.5,5.0,3.5,4.0,2.0,3.0,4.0,4.0,2.0,3.0,1.5,3.5,3.5,3.5,1.5,4.0,5.0,5.0,3.0,5.0,5.0,5.0,3.0,2.5,1.0,3.0,4.0,3.0,3.0,4.0,5.0,4.0,4.5,2.5,1.0,2.0,3.0,2.0,4.5,3.5,2.5,1.0,5.0,4.0,2.0,3.0,4.0,4.0,3.0,4.0,2.0,5.0,4.0,0.5,4.5,3.0,2.0,4.0,3.0,3.0,5.0,4.5,3.0,5.0,4.0,2.0,5.0,2.5,4.0,4.0,2.0,4.0,3.0,4.5,3.0,3.0,5.0,4.5,3.0,3.0,5.0,2.0,3.0,4.5,4.5,4.5,4.0,4.0,3.5,4.0,3.0,2.0,3.0,4.0,4.5,4.5,4.5,4.0,3.5,4.0,3.0,4.0,5.0,5.0,4.0,3.0,4.0,3.0,4.0,2.5,5.0,0.5,2.5,4.0,4.0,3.5,4.0,3.5,4.0,3.0,4.0,4.0,4.0,3.0,4.0,3.0,3.5,3.0,4.0,3.0,2.0,3.0,5.0,3.0,3.0,3.0,4.0,4.5,2.0,2.0,2.5,3.0,5.0,3.5,3.0,5.0,3.0,0.5,3.0,3.0,2.0,2.0,3.0,4.0,4.5,4.0,4.0,5.0,3.0,4.0,3.5,1.0,4.5,4.0,4.0,4.0,5.0,3.0,4.0,5.0,2.5,5.0,2.0,3.0,2.5,3.0,2.5,3.0,5.0,3.5,4.0,3.5,4.5,5.0,3.5,5.0,3.0,4.0,3.0,3.0,3.5,3.0,4.0,5.0,2.0,3.5,1.0,4.5,3.5,2.0,4.0,4.0,5.0,3.0,3.0,3.5,4.5,3.0,4.0,4.0,4.5,4.0,3.0,3.0,3.0,3.0,3.0,5.0,4.5,4.0,3.0,3.5,3.0,5.0,3.5,4.0,3.0,4.5,3.0,4.0,3.0,5.0,4.0,4.0,4.0,5.0,2.0,1.0,2.0,2.0,3.0,3.0,5.0,4.5,1.0,2.5,3.0,5.0,1.0,4.0,3.0,3.0,1.5,3.0,4.0,3.0,2.5,3.0,4.0,4.0,3.0,3.0,2.0,5.0,1.5,3.0,3.0,3.0,3.0,2.0,2.0,4.0,2.0,2.5,3.0,3.0,3.0,4.0,1.0,5.0,4.0,2.5,3.0,2.0,4.0,4.0,4.0,3.0,0.5,3.0,3.5,5.0,3.5,5.0,4.0,4.5,1.0,4.0,2.0,1.0,4.0,3.0,5.0,2.0,1.5,4.0,3.0,4.0,4.0,4.0,3.5,4.0,3.0,5.0,4.0,4.0,3.0,5.0,4.0,4.0,5.0,3.5,4.0,3.5,4.0,4.0,3.0,3.5,2.5,3.0,4.0,3.0,3.5,3.0,2.5,3.0,1.0,3.0,3.0,4.0,3.5,5.0,3.0,3.0,4.0,5.0,4.0,3.5,3.0,4.0,4.0,3.0,3.5,2.5,3.0,4.5,4.0,5.0,4.0,4.0,5.0,4.0,4.0,3.5,3.5,3.0,4.0,4.0,4.5,4.0,5.0,4.5,3.5,2.5,4.5,4.0,3.0,4.0,4.5,3.0,4.5,2.0,3.0,4.0,3.5,4.0,4.0,3.5,4.0,4.5,2.0,5.0,4.5,5.0,2.0,3.0,4.0,2.0,3.0,3.0,3.5,4.0,1.0,4.0,4.5,2.0,3.0,3.5,3.5,4.5,3.5,2.0,3.0,3.5,4.0,4.0,1.0,3.0,3.5,4.0,4.0,4.0,5.0,4.5,2.0,3.0,4.0,5.0,4.5,4.0,5.0,2.5,2.0,5.0,4.0,2.0,3.5,4.5,4.0,4.0,5.0,4.0,2.0,5.0,3.0,2.5,4.0,5.0,3.0,3.0,5.0,5.0,3.0,4.0,3.0,4.0,2.0,3.0,4.0,4.0,2.5,3.5,3.0,3.0,5.0,3.0,3.5,3.5,4.0,2.0,3.5,0.5,2.0,4.0,4.0,3.5,4.0,5.0,4.0,4.0,3.5,3.0,3.0,3.0,5.0,4.0,3.5,0.5,5.0,4.0,4.5,5.0,2.5,4.0,3.0,3.5,4.0,3.5,2.0,5.0,4.0,4.0,4.0,3.0,2.5,1.5,2.5,5.0,3.0,3.0,4.0,3.0,4.0,3.0,3.0,4.0,3.0,3.0,2.0,2.5,1.5,3.5,5.0,3.0,2.0,2.0,4.0,5.0,3.5,3.0,3.0,3.0,4.0,5.0,2.0,1.5,3.0,3.0,2.0,4.0,4.0,3.0,4.0,5.0,3.0,5.0,3.0,3.0,2.0,4.5,5.0,4.0,4.0,3.0,5.0,4.0,4.5,2.0,0.5,4.5,4.0,4.0,2.0,3.5,4.0,4.0,4.0,4.0,1.5,4.0,4.0,4.0,3.0,5.0,5.0,4.0,4.0,4.0,3.0,3.0,3.0,2.0,3.0,4.0,4.0,5.0,4.0,2.5,2.0,2.0,4.5,4.0,2.0,4.5,2.5,5.0,5.0,4.0,4.0,5.0,3.0,2.0,4.5,5.0,1.0,3.5,4.0,3.0,3.0,4.0,3.5,3.5,2.5,3.0,5.0,5.0,5.0,4.0,4.0,4.5,4.0,4.0,4.0,4.5,2.5,3.5,5.0,2.0,4.5,3.5,4.0,5.0,4.0,4.0,5.0,3.0,4.0,4.0,4.0,5.0,4.0,4.0,4.0,4.0,2.0,4.0,3.5,0.5,3.0,3.0,2.0,4.0,4.0,5.0,3.5,1.5,4.0,2.0,5.0,4.0,4.0,2.0,4.5,3.0,5.0,3.0,3.0,2.0,1.0,3.0,2.5,2.5,4.0,4.0,3.0,1.0,3.0,3.0,5.0,5.0,3.5,4.5,3.0,1.0,4.0,3.0,3.0,5.0,5.0,4.0,3.5,4.0,5.0,3.0,4.0,2.5,2.0,5.0,1.5,3.5,4.0,2.5,3.0,3.0,2.5,4.0,5.0,3.0,4.0,3.0,4.0,4.0,4.0,3.0,1.5,4.0,1.0,5.0,5.0,3.0,4.0,1.0,5.0,5.0,3.5,2.0,4.5,1.0,3.0,3.0,0.5,5.0,4.0,3.5,3.5,4.5,3.5,5.0,3.5,4.0,5.0,3.0,3.0,3.0,5.0,2.5,4.0,2.0,3.5,3.0,5.0,5.0,3.5,2.0,2.0,4.0,2.0,4.0,5.0,2.0,5.0,4.0,5.0,4.0,5.0,4.0,4.0,4.0,3.0,1.0,4.0,5.0,5.0,2.0,5.0,3.5,4.0,3.0,4.0,2.5,3.0,4.0,1.0,1.5,4.0,4.5,4.0,4.0,5.0,3.0,4.0,1.0,3.0,4.0,5.0,4.0,3.0,3.0,4.0,4.0,2.0,4.0,4.5,5.0,3.0,4.0,5.0,3.0,4.0,4.5,4.0,2.5,3.0,3.0,2.0,5.0,4.0,5.0,4.0,4.0,3.0,5.0,3.5,4.0,2.0,3.0,3.0,3.5,4.5,5.0,1.0,4.5,3.0,3.5,4.0,2.0,3.0,4.5,1.5,1.5,3.0,3.0,4.0,3.0,3.0,4.0,4.0,4.0,3.0,3.0,2.5,4.0,4.5,3.5,4.0,4.0,5.0,2.0,4.5,4.5,3.5,3.0,1.0,5.0,3.0,3.0,3.0,3.0,3.0,4.0,5.0,1.0,4.0,4.0,5.0,4.5,3.0,5.0,4.0,4.0,3.5,5.0,5.0,4.0,3.0,3.5,4.0,3.5,5.0,4.0,3.0,1.0,5.0,4.5,4.0,4.0,4.0,5.0,4.0,3.0,4.5,5.0,3.5,3.0,2.5,4.0,1.0,3.0,4.0,3.5,4.0,3.5,4.0,4.0,3.5,3.0,5.0,3.0,3.5,3.0,1.0,4.0,3.5,5.0,3.0,5.0,4.0,3.0,5.0,4.0,3.5,3.0,5.0,4.0,4.0,3.0,2.0,4.0,3.5,4.0,3.0,2.5,4.0,3.0,3.0,1.5,1.0,1.5,2.0,4.5,4.0,5.0,3.0,4.0,4.0,4.0,2.0,4.5,3.0,3.0,5.0,5.0,0.5,4.0,1.0,4.5,2.5,3.5,4.0,4.0,2.5,4.5,4.5,2.0,5.0,4.5,4.0,2.0,4.0,3.5,2.5,2.0,3.0,4.0,5.0,4.0,4.0,4.0,4.0,2.0,3.0,4.5,4.0,3.0,5.0,4.5,4.0,3.5,4.0,4.0,4.0,4.0,4.0,4.0,3.0,3.5,3.0,3.5,4.0,3.0,5.0,4.5,1.5,4.0,2.0,4.0,2.5,3.0,3.0,3.0,1.5,4.0,3.0,3.0,5.0,5.0,4.0,4.0,4.0,3.5,5.0,3.5,3.5,2.0,4.0,5.0,5.0,4.0,4.0,0.5,3.5,4.0,4.0,3.5,3.5,3.0,2.5,4.0,4.0,2.0,2.5,5.0,5.0,5.0,4.0,4.5,2.0,4.5,3.5,3.0,4.5,4.0,2.5,4.5,1.0,4.0,4.0,4.0,2.5,3.0,4.0,4.0,3.0,4.0,2.0,5.0,2.0,2.0,3.5,3.0,2.0,3.0,4.0,4.5,4.0,4.0,3.5,4.0,1.0,3.0,3.0,4.5,3.5,4.0,1.0,3.0,4.0,2.5,2.0,3.0,2.5,4.0,4.5,0.5,3.0,4.0,4.0,3.0,3.5,4.5,4.0,4.0,5.0,3.0,4.5,3.0,4.0,5.0,3.5,4.0,3.5,5.0,3.0,5.0,4.0,1.0,3.0,3.5,3.0,4.0,4.0,2.0,4.0,5.0,2.5,3.0,3.0,3.5,4.0,3.5,4.0,3.0,3.0,2.0,2.5,3.5,3.0,4.5,5.0,5.0,4.0,3.0,5.0,4.0,4.0,1.5,4.0,4.0,5.0,4.5,2.0,4.0,4.0,4.0,2.5,0.5,4.5,4.0,4.0,3.0,3.5,5.0,3.0,1.0,4.5,4.0,3.5,3.5,4.0,2.0,3.0,3.5,3.0,1.0,4.0,3.0,2.0,4.0,4.0,4.5,4.0,3.0,4.0,5.0,5.0,2.5,1.0,4.0,5.0,4.0,4.0,3.0,4.0,4.0,3.5,3.5,3.0,1.0,5.0,4.0,2.0,4.0,4.5,4.0,5.0,4.0,2.5,5.0,2.5,3.0,4.0,4.0,4.5,1.0,2.0,3.0,3.0,4.0,4.5,4.0,5.0,5.0,1.0,3.5,4.0,3.0,4.0,5.0,4.0,4.0,4.0,3.5,3.5,0.5,4.5,4.0,4.0,0.5,5.0,4.0,3.0,4.0,2.0,3.0,5.0,3.5,3.5,2.0,1.0,3.0,5.0,5.0,4.0,4.0,3.0,4.0,3.0,4.0,3.0,4.0,3.0,4.0,3.5,4.0,5.0,4.0,5.0,2.0,2.0,3.0,3.0,3.0,3.0,4.5,5.0,4.0,5.0,2.5,4.0,4.0,1.5,2.0,3.0,5.0,2.0,2.0,3.5,1.0,1.0,4.0,1.0,4.0,2.0,3.0,5.0,0.5,4.0,3.0,4.0,3.0,2.0,4.0,3.0,5.0,5.0,4.0,3.0,1.0,4.0,3.0,2.0,4.0,5.0,3.5,4.0,0.5,2.5,3.0,4.0,3.0,1.5,2.5,2.5,4.0,4.0,3.0,5.0,4.0,4.0,4.5,3.0,2.0,4.5,3.5,5.0,4.0,4.0,5.0,4.0,3.0,2.0,5.0,4.5,4.5,3.0,4.0,3.0,2.0,2.5,3.0,5.0,5.0,3.0,4.0,5.0,3.0,4.0,5.0,3.0,4.0,3.5,0.5,3.0,4.0,0.5,4.0,3.0,4.5,4.0,3.0,3.0,4.0,4.0,2.5,2.5,4.0,2.5,3.0,3.0,5.0,4.0,1.5,2.0,4.0,5.0,3.0,3.0,5.0,5.0,4.5,3.0,1.0,5.0,3.0,4.0,3.5,5.0,3.0,3.0,3.0,3.5,5.0,4.0,4.0,4.5,3.0,1.0,4.5,4.0,0.5,3.5,3.5,5.0,4.0,3.0,3.0,4.5,4.0,3.0,3.5,5.0,3.0,4.0,4.0,3.0,1.0,3.0,5.0,4.0,3.0,1.5,0.5,4.0,4.0,3.5,3.0,5.0,3.5,4.0,3.0,3.0,4.0,2.5,5.0,4.5,5.0,3.5,4.0,3.0,3.0,1.0,3.5,4.0,4.0,3.0,4.0,5.0,4.0,4.5,0.5,1.0,5.0,4.0,5.0,3.0,4.5,4.0,5.0,3.5,4.0,5.0,3.5,3.0,5.0,3.0,0.5,1.0,3.0,5.0,5.0,2.0,3.0,3.0,2.0,3.0,4.0,4.0,3.5,2.0,4.0,5.0,4.5,2.5,5.0,2.5,4.0,4.0,4.0,3.5,4.0,4.0,5.0,3.0,1.5,3.5,5.0,5.0,3.0,4.5,4.0,3.0,4.0,4.5,2.0,4.0,3.0,3.0,3.0,3.0,3.0,1.0,3.0,3.0,3.0,3.0,4.0,3.0,4.0,4.0,1.0,3.0,3.5,5.0,4.0,4.0,2.0,4.5,4.0,4.0,2.0,3.0,3.0,3.0,4.5,3.5,4.0,5.0,1.5,3.0,5.0,4.0,4.0,4.0,2.5,4.0,3.0,4.0,3.0,4.5,3.5,4.0,3.0,4.0,3.5,3.5,3.0,5.0,5.0,4.0,2.0,4.0,5.0,5.0,3.0,3.5,4.0,4.0,4.5,3.5,3.5,4.0,3.0,3.0,4.0,4.0,3.0,4.0,5.0,3.0,4.0,3.0,4.0,4.0,3.0,5.0,4.0,5.0,3.5,5.0,3.0,5.0,4.0,3.0,4.0,4.0,4.5,5.0,4.0,4.0,5.0,3.5,1.5,4.0,4.0,3.0,3.5,4.0,3.5,4.0,1.0,4.0,2.5,4.5,2.0,5.0,3.0,4.5,3.5,4.5,4.0,4.5,4.0,3.5,3.0,4.0,3.0,3.0,3.0,2.5,4.0,5.0,2.0,5.0,3.0,4.0,4.0,3.5,4.0,2.0,2.0,4.0,4.5,3.0,4.0,5.0,3.5,4.0,2.5,5.0,4.0,3.5,4.0,4.0,2.0,5.0,4.0,5.0,3.5,4.0,4.0,2.0,4.0,4.0,3.5,3.0,1.0,3.0,4.0,4.5,4.0,3.0,2.0,3.0,3.0,5.0,4.5,4.0,4.0,4.0,4.0,4.5,3.5,4.0,4.0,4.0,4.0,4.5,1.5,4.5,4.0,4.0,4.0,5.0,3.0,4.5,3.0,2.0,1.0,3.5,2.0,4.0,2.0,5.0,4.0,5.0,2.5,4.0,3.0,3.0,2.5,4.0,2.0,2.0,3.5,3.0,2.0,5.0,5.0,4.0,3.0,4.0,3.0,4.5,5.0,3.0,3.5,3.0,5.0,5.0,5.0,4.0,3.5,3.0,2.0,4.0,5.0,4.0,4.5,4.5,5.0,3.0,3.5,3.0,4.0,1.0,3.0,3.0,3.0,4.0,3.0,2.0,0.5,3.0,2.5,4.0,5.0,4.0,3.5,4.5,0.5,4.0,4.5,3.5,5.0,4.5,3.5,3.0,4.0,4.0,4.0,3.5,4.0,3.5,3.0,3.5,5.0,3.0,3.0,3.0,4.0,3.5,3.5,3.0,4.0,3.0,3.5,4.5,2.0,4.0,4.5,4.0,3.0,3.0,3.0,5.0,4.0,3.0,4.0,1.0,4.0,4.0,4.5,4.5,4.0,5.0,5.0,4.0,3.0,3.0,4.0,2.5,3.5,4.0,3.0,4.0,4.5,5.0,4.0,5.0,4.5,3.0,4.5,3.0,2.0,0.5,2.5,4.0,3.5,4.0,3.5,3.5,3.0,3.0,4.0,3.0,3.5,3.0,4.5,3.0,3.0,3.5,4.0,4.0,4.5,0.5,3.0,4.0,2.0,3.0,4.5,5.0,0.5,4.0,1.0,2.0,0.5,4.5,4.0,1.0,5.0,3.0,3.5,2.0,4.5,3.5,3.0,3.0,2.0,4.0,1.0,2.0,3.0,4.5,4.0,4.0,4.0,4.0,5.0,3.5,5.0,4.0,2.5,3.0,3.5,2.5,3.5,4.0,3.0,3.5,1.0,3.0,3.0,5.0,4.0,3.0,5.0,4.0,2.0,4.5,4.0,4.0,3.0,3.5,2.5,4.0,3.0,2.0,4.5,4.0,5.0,1.5,4.5,3.0,4.0,2.0,4.5,3.0,3.0,2.5,4.0,4.0,2.0,4.0,3.0,4.5,1.5,4.0,3.5,3.0,5.0,4.0,4.0,2.0,4.0,5.0,4.0,2.5,4.5,3.5,2.0,4.5,5.0,5.0,2.0,5.0,3.5,3.0,5.0,3.0,3.0,4.5,3.0,3.0,4.5,3.0,3.0,4.0,4.0,5.0,3.0,3.5,2.0,1.0,5.0,2.0,4.5,3.0,4.0,5.0,2.0,1.0,3.5,4.0,4.0,3.0,3.5,4.0,4.0,3.5,4.5,2.5,5.0,1.0,4.0],\"yaxis\":\"y\",\"type\":\"scattergl\"}],                        {\"template\":{\"data\":{\"barpolar\":[{\"marker\":{\"line\":{\"color\":\"white\",\"width\":0.5},\"pattern\":{\"fillmode\":\"overlay\",\"size\":10,\"solidity\":0.2}},\"type\":\"barpolar\"}],\"bar\":[{\"error_x\":{\"color\":\"#2a3f5f\"},\"error_y\":{\"color\":\"#2a3f5f\"},\"marker\":{\"line\":{\"color\":\"white\",\"width\":0.5},\"pattern\":{\"fillmode\":\"overlay\",\"size\":10,\"solidity\":0.2}},\"type\":\"bar\"}],\"carpet\":[{\"aaxis\":{\"endlinecolor\":\"#2a3f5f\",\"gridcolor\":\"#C8D4E3\",\"linecolor\":\"#C8D4E3\",\"minorgridcolor\":\"#C8D4E3\",\"startlinecolor\":\"#2a3f5f\"},\"baxis\":{\"endlinecolor\":\"#2a3f5f\",\"gridcolor\":\"#C8D4E3\",\"linecolor\":\"#C8D4E3\",\"minorgridcolor\":\"#C8D4E3\",\"startlinecolor\":\"#2a3f5f\"},\"type\":\"carpet\"}],\"choropleth\":[{\"colorbar\":{\"outlinewidth\":0,\"ticks\":\"\"},\"type\":\"choropleth\"}],\"contourcarpet\":[{\"colorbar\":{\"outlinewidth\":0,\"ticks\":\"\"},\"type\":\"contourcarpet\"}],\"contour\":[{\"colorbar\":{\"outlinewidth\":0,\"ticks\":\"\"},\"colorscale\":[[0.0,\"#0d0887\"],[0.1111111111111111,\"#46039f\"],[0.2222222222222222,\"#7201a8\"],[0.3333333333333333,\"#9c179e\"],[0.4444444444444444,\"#bd3786\"],[0.5555555555555556,\"#d8576b\"],[0.6666666666666666,\"#ed7953\"],[0.7777777777777778,\"#fb9f3a\"],[0.8888888888888888,\"#fdca26\"],[1.0,\"#f0f921\"]],\"type\":\"contour\"}],\"heatmapgl\":[{\"colorbar\":{\"outlinewidth\":0,\"ticks\":\"\"},\"colorscale\":[[0.0,\"#0d0887\"],[0.1111111111111111,\"#46039f\"],[0.2222222222222222,\"#7201a8\"],[0.3333333333333333,\"#9c179e\"],[0.4444444444444444,\"#bd3786\"],[0.5555555555555556,\"#d8576b\"],[0.6666666666666666,\"#ed7953\"],[0.7777777777777778,\"#fb9f3a\"],[0.8888888888888888,\"#fdca26\"],[1.0,\"#f0f921\"]],\"type\":\"heatmapgl\"}],\"heatmap\":[{\"colorbar\":{\"outlinewidth\":0,\"ticks\":\"\"},\"colorscale\":[[0.0,\"#0d0887\"],[0.1111111111111111,\"#46039f\"],[0.2222222222222222,\"#7201a8\"],[0.3333333333333333,\"#9c179e\"],[0.4444444444444444,\"#bd3786\"],[0.5555555555555556,\"#d8576b\"],[0.6666666666666666,\"#ed7953\"],[0.7777777777777778,\"#fb9f3a\"],[0.8888888888888888,\"#fdca26\"],[1.0,\"#f0f921\"]],\"type\":\"heatmap\"}],\"histogram2dcontour\":[{\"colorbar\":{\"outlinewidth\":0,\"ticks\":\"\"},\"colorscale\":[[0.0,\"#0d0887\"],[0.1111111111111111,\"#46039f\"],[0.2222222222222222,\"#7201a8\"],[0.3333333333333333,\"#9c179e\"],[0.4444444444444444,\"#bd3786\"],[0.5555555555555556,\"#d8576b\"],[0.6666666666666666,\"#ed7953\"],[0.7777777777777778,\"#fb9f3a\"],[0.8888888888888888,\"#fdca26\"],[1.0,\"#f0f921\"]],\"type\":\"histogram2dcontour\"}],\"histogram2d\":[{\"colorbar\":{\"outlinewidth\":0,\"ticks\":\"\"},\"colorscale\":[[0.0,\"#0d0887\"],[0.1111111111111111,\"#46039f\"],[0.2222222222222222,\"#7201a8\"],[0.3333333333333333,\"#9c179e\"],[0.4444444444444444,\"#bd3786\"],[0.5555555555555556,\"#d8576b\"],[0.6666666666666666,\"#ed7953\"],[0.7777777777777778,\"#fb9f3a\"],[0.8888888888888888,\"#fdca26\"],[1.0,\"#f0f921\"]],\"type\":\"histogram2d\"}],\"histogram\":[{\"marker\":{\"pattern\":{\"fillmode\":\"overlay\",\"size\":10,\"solidity\":0.2}},\"type\":\"histogram\"}],\"mesh3d\":[{\"colorbar\":{\"outlinewidth\":0,\"ticks\":\"\"},\"type\":\"mesh3d\"}],\"parcoords\":[{\"line\":{\"colorbar\":{\"outlinewidth\":0,\"ticks\":\"\"}},\"type\":\"parcoords\"}],\"pie\":[{\"automargin\":true,\"type\":\"pie\"}],\"scatter3d\":[{\"line\":{\"colorbar\":{\"outlinewidth\":0,\"ticks\":\"\"}},\"marker\":{\"colorbar\":{\"outlinewidth\":0,\"ticks\":\"\"}},\"type\":\"scatter3d\"}],\"scattercarpet\":[{\"marker\":{\"colorbar\":{\"outlinewidth\":0,\"ticks\":\"\"}},\"type\":\"scattercarpet\"}],\"scattergeo\":[{\"marker\":{\"colorbar\":{\"outlinewidth\":0,\"ticks\":\"\"}},\"type\":\"scattergeo\"}],\"scattergl\":[{\"marker\":{\"colorbar\":{\"outlinewidth\":0,\"ticks\":\"\"}},\"type\":\"scattergl\"}],\"scattermapbox\":[{\"marker\":{\"colorbar\":{\"outlinewidth\":0,\"ticks\":\"\"}},\"type\":\"scattermapbox\"}],\"scatterpolargl\":[{\"marker\":{\"colorbar\":{\"outlinewidth\":0,\"ticks\":\"\"}},\"type\":\"scatterpolargl\"}],\"scatterpolar\":[{\"marker\":{\"colorbar\":{\"outlinewidth\":0,\"ticks\":\"\"}},\"type\":\"scatterpolar\"}],\"scatter\":[{\"fillpattern\":{\"fillmode\":\"overlay\",\"size\":10,\"solidity\":0.2},\"type\":\"scatter\"}],\"scatterternary\":[{\"marker\":{\"colorbar\":{\"outlinewidth\":0,\"ticks\":\"\"}},\"type\":\"scatterternary\"}],\"surface\":[{\"colorbar\":{\"outlinewidth\":0,\"ticks\":\"\"},\"colorscale\":[[0.0,\"#0d0887\"],[0.1111111111111111,\"#46039f\"],[0.2222222222222222,\"#7201a8\"],[0.3333333333333333,\"#9c179e\"],[0.4444444444444444,\"#bd3786\"],[0.5555555555555556,\"#d8576b\"],[0.6666666666666666,\"#ed7953\"],[0.7777777777777778,\"#fb9f3a\"],[0.8888888888888888,\"#fdca26\"],[1.0,\"#f0f921\"]],\"type\":\"surface\"}],\"table\":[{\"cells\":{\"fill\":{\"color\":\"#EBF0F8\"},\"line\":{\"color\":\"white\"}},\"header\":{\"fill\":{\"color\":\"#C8D4E3\"},\"line\":{\"color\":\"white\"}},\"type\":\"table\"}]},\"layout\":{\"annotationdefaults\":{\"arrowcolor\":\"#2a3f5f\",\"arrowhead\":0,\"arrowwidth\":1},\"autotypenumbers\":\"strict\",\"coloraxis\":{\"colorbar\":{\"outlinewidth\":0,\"ticks\":\"\"}},\"colorscale\":{\"diverging\":[[0,\"#8e0152\"],[0.1,\"#c51b7d\"],[0.2,\"#de77ae\"],[0.3,\"#f1b6da\"],[0.4,\"#fde0ef\"],[0.5,\"#f7f7f7\"],[0.6,\"#e6f5d0\"],[0.7,\"#b8e186\"],[0.8,\"#7fbc41\"],[0.9,\"#4d9221\"],[1,\"#276419\"]],\"sequential\":[[0.0,\"#0d0887\"],[0.1111111111111111,\"#46039f\"],[0.2222222222222222,\"#7201a8\"],[0.3333333333333333,\"#9c179e\"],[0.4444444444444444,\"#bd3786\"],[0.5555555555555556,\"#d8576b\"],[0.6666666666666666,\"#ed7953\"],[0.7777777777777778,\"#fb9f3a\"],[0.8888888888888888,\"#fdca26\"],[1.0,\"#f0f921\"]],\"sequentialminus\":[[0.0,\"#0d0887\"],[0.1111111111111111,\"#46039f\"],[0.2222222222222222,\"#7201a8\"],[0.3333333333333333,\"#9c179e\"],[0.4444444444444444,\"#bd3786\"],[0.5555555555555556,\"#d8576b\"],[0.6666666666666666,\"#ed7953\"],[0.7777777777777778,\"#fb9f3a\"],[0.8888888888888888,\"#fdca26\"],[1.0,\"#f0f921\"]]},\"colorway\":[\"#636efa\",\"#EF553B\",\"#00cc96\",\"#ab63fa\",\"#FFA15A\",\"#19d3f3\",\"#FF6692\",\"#B6E880\",\"#FF97FF\",\"#FECB52\"],\"font\":{\"color\":\"#2a3f5f\"},\"geo\":{\"bgcolor\":\"white\",\"lakecolor\":\"white\",\"landcolor\":\"white\",\"showlakes\":true,\"showland\":true,\"subunitcolor\":\"#C8D4E3\"},\"hoverlabel\":{\"align\":\"left\"},\"hovermode\":\"closest\",\"mapbox\":{\"style\":\"light\"},\"paper_bgcolor\":\"white\",\"plot_bgcolor\":\"white\",\"polar\":{\"angularaxis\":{\"gridcolor\":\"#EBF0F8\",\"linecolor\":\"#EBF0F8\",\"ticks\":\"\"},\"bgcolor\":\"white\",\"radialaxis\":{\"gridcolor\":\"#EBF0F8\",\"linecolor\":\"#EBF0F8\",\"ticks\":\"\"}},\"scene\":{\"xaxis\":{\"backgroundcolor\":\"white\",\"gridcolor\":\"#DFE8F3\",\"gridwidth\":2,\"linecolor\":\"#EBF0F8\",\"showbackground\":true,\"ticks\":\"\",\"zerolinecolor\":\"#EBF0F8\"},\"yaxis\":{\"backgroundcolor\":\"white\",\"gridcolor\":\"#DFE8F3\",\"gridwidth\":2,\"linecolor\":\"#EBF0F8\",\"showbackground\":true,\"ticks\":\"\",\"zerolinecolor\":\"#EBF0F8\"},\"zaxis\":{\"backgroundcolor\":\"white\",\"gridcolor\":\"#DFE8F3\",\"gridwidth\":2,\"linecolor\":\"#EBF0F8\",\"showbackground\":true,\"ticks\":\"\",\"zerolinecolor\":\"#EBF0F8\"}},\"shapedefaults\":{\"line\":{\"color\":\"#2a3f5f\"}},\"ternary\":{\"aaxis\":{\"gridcolor\":\"#DFE8F3\",\"linecolor\":\"#A2B1C6\",\"ticks\":\"\"},\"baxis\":{\"gridcolor\":\"#DFE8F3\",\"linecolor\":\"#A2B1C6\",\"ticks\":\"\"},\"bgcolor\":\"white\",\"caxis\":{\"gridcolor\":\"#DFE8F3\",\"linecolor\":\"#A2B1C6\",\"ticks\":\"\"}},\"title\":{\"x\":0.05},\"xaxis\":{\"automargin\":true,\"gridcolor\":\"#EBF0F8\",\"linecolor\":\"#EBF0F8\",\"ticks\":\"\",\"title\":{\"standoff\":15},\"zerolinecolor\":\"#EBF0F8\",\"zerolinewidth\":2},\"yaxis\":{\"automargin\":true,\"gridcolor\":\"#EBF0F8\",\"linecolor\":\"#EBF0F8\",\"ticks\":\"\",\"title\":{\"standoff\":15},\"zerolinecolor\":\"#EBF0F8\",\"zerolinewidth\":2}}},\"xaxis\":{\"anchor\":\"y\",\"domain\":[0.0,1.0],\"title\":{\"text\":\"movieId\"}},\"yaxis\":{\"anchor\":\"x\",\"domain\":[0.0,1.0],\"title\":{\"text\":\"rating\"}},\"legend\":{\"tracegroupgap\":0},\"title\":{\"text\":\"Ratings vs Movie ID\"}},                        {\"responsive\": true}                    ).then(function(){\n",
       "                            \n",
       "var gd = document.getElementById('1cf1bfcb-a5ce-4234-a9b6-fb5bb02111a3');\n",
       "var x = new MutationObserver(function (mutations, observer) {{\n",
       "        var display = window.getComputedStyle(gd).display;\n",
       "        if (!display || display === 'none') {{\n",
       "            console.log([gd, 'removed!']);\n",
       "            Plotly.purge(gd);\n",
       "            observer.disconnect();\n",
       "        }}\n",
       "}});\n",
       "\n",
       "// Listen for the removal of the full notebook cells\n",
       "var notebookContainer = gd.closest('#notebook-container');\n",
       "if (notebookContainer) {{\n",
       "    x.observe(notebookContainer, {childList: true});\n",
       "}}\n",
       "\n",
       "// Listen for the clearing of the current output cell\n",
       "var outputEl = gd.closest('.output');\n",
       "if (outputEl) {{\n",
       "    x.observe(outputEl, {childList: true});\n",
       "}}\n",
       "\n",
       "                        })                };                });            </script>        </div>"
      ]
     },
     "metadata": {},
     "output_type": "display_data"
    }
   ],
   "source": [
    "# Tampilkan scatter untuk perbandingan movieId dengan rating\n",
    "\n",
    "px.scatter(left_join_sample, \n",
    "           x='movieId', \n",
    "           y='rating', \n",
    "           hover_data=['title'],\n",
    "           title='Ratings vs Movie ID', \n",
    "           template='plotly_white')"
   ]
  },
  {
   "cell_type": "code",
   "execution_count": 85,
   "id": "92e11296",
   "metadata": {},
   "outputs": [],
   "source": [
    "# Split data genre agar bisa dikategorisasikan\n",
    "\n",
    "genres = left_join_sample['genres'].str.split('|', expand=True).stack().value_counts()"
   ]
  },
  {
   "cell_type": "code",
   "execution_count": 86,
   "id": "3c6c2ff7",
   "metadata": {},
   "outputs": [
    {
     "data": {
      "application/vnd.plotly.v1+json": {
       "config": {
        "plotlyServerURL": "https://plot.ly"
       },
       "data": [
        {
         "domain": {
          "x": [
           0,
           1
          ],
          "y": [
           0,
           1
          ]
         },
         "hovertemplate": "index=%{label}<br>value=%{value}<extra></extra>",
         "labels": [
          "Drama",
          "Comedy",
          "Action",
          "Thriller",
          "Adventure",
          "Romance",
          "Crime",
          "Sci-Fi",
          "Fantasy",
          "Children",
          "Mystery",
          "Horror",
          "Animation",
          "War",
          "Musical",
          "IMAX",
          "Western",
          "Film-Noir",
          "Documentary"
         ],
         "legendgroup": "",
         "name": "",
         "showlegend": true,
         "type": "pie",
         "values": [
          2201,
          1927,
          1426,
          1308,
          1095,
          993,
          827,
          796,
          517,
          426,
          388,
          379,
          297,
          253,
          226,
          123,
          99,
          59,
          57
         ]
        }
       ],
       "layout": {
        "legend": {
         "tracegroupgap": 0
        },
        "template": {
         "data": {
          "bar": [
           {
            "error_x": {
             "color": "#2a3f5f"
            },
            "error_y": {
             "color": "#2a3f5f"
            },
            "marker": {
             "line": {
              "color": "#E5ECF6",
              "width": 0.5
             },
             "pattern": {
              "fillmode": "overlay",
              "size": 10,
              "solidity": 0.2
             }
            },
            "type": "bar"
           }
          ],
          "barpolar": [
           {
            "marker": {
             "line": {
              "color": "#E5ECF6",
              "width": 0.5
             },
             "pattern": {
              "fillmode": "overlay",
              "size": 10,
              "solidity": 0.2
             }
            },
            "type": "barpolar"
           }
          ],
          "carpet": [
           {
            "aaxis": {
             "endlinecolor": "#2a3f5f",
             "gridcolor": "white",
             "linecolor": "white",
             "minorgridcolor": "white",
             "startlinecolor": "#2a3f5f"
            },
            "baxis": {
             "endlinecolor": "#2a3f5f",
             "gridcolor": "white",
             "linecolor": "white",
             "minorgridcolor": "white",
             "startlinecolor": "#2a3f5f"
            },
            "type": "carpet"
           }
          ],
          "choropleth": [
           {
            "colorbar": {
             "outlinewidth": 0,
             "ticks": ""
            },
            "type": "choropleth"
           }
          ],
          "contour": [
           {
            "colorbar": {
             "outlinewidth": 0,
             "ticks": ""
            },
            "colorscale": [
             [
              0,
              "#0d0887"
             ],
             [
              0.1111111111111111,
              "#46039f"
             ],
             [
              0.2222222222222222,
              "#7201a8"
             ],
             [
              0.3333333333333333,
              "#9c179e"
             ],
             [
              0.4444444444444444,
              "#bd3786"
             ],
             [
              0.5555555555555556,
              "#d8576b"
             ],
             [
              0.6666666666666666,
              "#ed7953"
             ],
             [
              0.7777777777777778,
              "#fb9f3a"
             ],
             [
              0.8888888888888888,
              "#fdca26"
             ],
             [
              1,
              "#f0f921"
             ]
            ],
            "type": "contour"
           }
          ],
          "contourcarpet": [
           {
            "colorbar": {
             "outlinewidth": 0,
             "ticks": ""
            },
            "type": "contourcarpet"
           }
          ],
          "heatmap": [
           {
            "colorbar": {
             "outlinewidth": 0,
             "ticks": ""
            },
            "colorscale": [
             [
              0,
              "#0d0887"
             ],
             [
              0.1111111111111111,
              "#46039f"
             ],
             [
              0.2222222222222222,
              "#7201a8"
             ],
             [
              0.3333333333333333,
              "#9c179e"
             ],
             [
              0.4444444444444444,
              "#bd3786"
             ],
             [
              0.5555555555555556,
              "#d8576b"
             ],
             [
              0.6666666666666666,
              "#ed7953"
             ],
             [
              0.7777777777777778,
              "#fb9f3a"
             ],
             [
              0.8888888888888888,
              "#fdca26"
             ],
             [
              1,
              "#f0f921"
             ]
            ],
            "type": "heatmap"
           }
          ],
          "heatmapgl": [
           {
            "colorbar": {
             "outlinewidth": 0,
             "ticks": ""
            },
            "colorscale": [
             [
              0,
              "#0d0887"
             ],
             [
              0.1111111111111111,
              "#46039f"
             ],
             [
              0.2222222222222222,
              "#7201a8"
             ],
             [
              0.3333333333333333,
              "#9c179e"
             ],
             [
              0.4444444444444444,
              "#bd3786"
             ],
             [
              0.5555555555555556,
              "#d8576b"
             ],
             [
              0.6666666666666666,
              "#ed7953"
             ],
             [
              0.7777777777777778,
              "#fb9f3a"
             ],
             [
              0.8888888888888888,
              "#fdca26"
             ],
             [
              1,
              "#f0f921"
             ]
            ],
            "type": "heatmapgl"
           }
          ],
          "histogram": [
           {
            "marker": {
             "pattern": {
              "fillmode": "overlay",
              "size": 10,
              "solidity": 0.2
             }
            },
            "type": "histogram"
           }
          ],
          "histogram2d": [
           {
            "colorbar": {
             "outlinewidth": 0,
             "ticks": ""
            },
            "colorscale": [
             [
              0,
              "#0d0887"
             ],
             [
              0.1111111111111111,
              "#46039f"
             ],
             [
              0.2222222222222222,
              "#7201a8"
             ],
             [
              0.3333333333333333,
              "#9c179e"
             ],
             [
              0.4444444444444444,
              "#bd3786"
             ],
             [
              0.5555555555555556,
              "#d8576b"
             ],
             [
              0.6666666666666666,
              "#ed7953"
             ],
             [
              0.7777777777777778,
              "#fb9f3a"
             ],
             [
              0.8888888888888888,
              "#fdca26"
             ],
             [
              1,
              "#f0f921"
             ]
            ],
            "type": "histogram2d"
           }
          ],
          "histogram2dcontour": [
           {
            "colorbar": {
             "outlinewidth": 0,
             "ticks": ""
            },
            "colorscale": [
             [
              0,
              "#0d0887"
             ],
             [
              0.1111111111111111,
              "#46039f"
             ],
             [
              0.2222222222222222,
              "#7201a8"
             ],
             [
              0.3333333333333333,
              "#9c179e"
             ],
             [
              0.4444444444444444,
              "#bd3786"
             ],
             [
              0.5555555555555556,
              "#d8576b"
             ],
             [
              0.6666666666666666,
              "#ed7953"
             ],
             [
              0.7777777777777778,
              "#fb9f3a"
             ],
             [
              0.8888888888888888,
              "#fdca26"
             ],
             [
              1,
              "#f0f921"
             ]
            ],
            "type": "histogram2dcontour"
           }
          ],
          "mesh3d": [
           {
            "colorbar": {
             "outlinewidth": 0,
             "ticks": ""
            },
            "type": "mesh3d"
           }
          ],
          "parcoords": [
           {
            "line": {
             "colorbar": {
              "outlinewidth": 0,
              "ticks": ""
             }
            },
            "type": "parcoords"
           }
          ],
          "pie": [
           {
            "automargin": true,
            "type": "pie"
           }
          ],
          "scatter": [
           {
            "fillpattern": {
             "fillmode": "overlay",
             "size": 10,
             "solidity": 0.2
            },
            "type": "scatter"
           }
          ],
          "scatter3d": [
           {
            "line": {
             "colorbar": {
              "outlinewidth": 0,
              "ticks": ""
             }
            },
            "marker": {
             "colorbar": {
              "outlinewidth": 0,
              "ticks": ""
             }
            },
            "type": "scatter3d"
           }
          ],
          "scattercarpet": [
           {
            "marker": {
             "colorbar": {
              "outlinewidth": 0,
              "ticks": ""
             }
            },
            "type": "scattercarpet"
           }
          ],
          "scattergeo": [
           {
            "marker": {
             "colorbar": {
              "outlinewidth": 0,
              "ticks": ""
             }
            },
            "type": "scattergeo"
           }
          ],
          "scattergl": [
           {
            "marker": {
             "colorbar": {
              "outlinewidth": 0,
              "ticks": ""
             }
            },
            "type": "scattergl"
           }
          ],
          "scattermapbox": [
           {
            "marker": {
             "colorbar": {
              "outlinewidth": 0,
              "ticks": ""
             }
            },
            "type": "scattermapbox"
           }
          ],
          "scatterpolar": [
           {
            "marker": {
             "colorbar": {
              "outlinewidth": 0,
              "ticks": ""
             }
            },
            "type": "scatterpolar"
           }
          ],
          "scatterpolargl": [
           {
            "marker": {
             "colorbar": {
              "outlinewidth": 0,
              "ticks": ""
             }
            },
            "type": "scatterpolargl"
           }
          ],
          "scatterternary": [
           {
            "marker": {
             "colorbar": {
              "outlinewidth": 0,
              "ticks": ""
             }
            },
            "type": "scatterternary"
           }
          ],
          "surface": [
           {
            "colorbar": {
             "outlinewidth": 0,
             "ticks": ""
            },
            "colorscale": [
             [
              0,
              "#0d0887"
             ],
             [
              0.1111111111111111,
              "#46039f"
             ],
             [
              0.2222222222222222,
              "#7201a8"
             ],
             [
              0.3333333333333333,
              "#9c179e"
             ],
             [
              0.4444444444444444,
              "#bd3786"
             ],
             [
              0.5555555555555556,
              "#d8576b"
             ],
             [
              0.6666666666666666,
              "#ed7953"
             ],
             [
              0.7777777777777778,
              "#fb9f3a"
             ],
             [
              0.8888888888888888,
              "#fdca26"
             ],
             [
              1,
              "#f0f921"
             ]
            ],
            "type": "surface"
           }
          ],
          "table": [
           {
            "cells": {
             "fill": {
              "color": "#EBF0F8"
             },
             "line": {
              "color": "white"
             }
            },
            "header": {
             "fill": {
              "color": "#C8D4E3"
             },
             "line": {
              "color": "white"
             }
            },
            "type": "table"
           }
          ]
         },
         "layout": {
          "annotationdefaults": {
           "arrowcolor": "#2a3f5f",
           "arrowhead": 0,
           "arrowwidth": 1
          },
          "autotypenumbers": "strict",
          "coloraxis": {
           "colorbar": {
            "outlinewidth": 0,
            "ticks": ""
           }
          },
          "colorscale": {
           "diverging": [
            [
             0,
             "#8e0152"
            ],
            [
             0.1,
             "#c51b7d"
            ],
            [
             0.2,
             "#de77ae"
            ],
            [
             0.3,
             "#f1b6da"
            ],
            [
             0.4,
             "#fde0ef"
            ],
            [
             0.5,
             "#f7f7f7"
            ],
            [
             0.6,
             "#e6f5d0"
            ],
            [
             0.7,
             "#b8e186"
            ],
            [
             0.8,
             "#7fbc41"
            ],
            [
             0.9,
             "#4d9221"
            ],
            [
             1,
             "#276419"
            ]
           ],
           "sequential": [
            [
             0,
             "#0d0887"
            ],
            [
             0.1111111111111111,
             "#46039f"
            ],
            [
             0.2222222222222222,
             "#7201a8"
            ],
            [
             0.3333333333333333,
             "#9c179e"
            ],
            [
             0.4444444444444444,
             "#bd3786"
            ],
            [
             0.5555555555555556,
             "#d8576b"
            ],
            [
             0.6666666666666666,
             "#ed7953"
            ],
            [
             0.7777777777777778,
             "#fb9f3a"
            ],
            [
             0.8888888888888888,
             "#fdca26"
            ],
            [
             1,
             "#f0f921"
            ]
           ],
           "sequentialminus": [
            [
             0,
             "#0d0887"
            ],
            [
             0.1111111111111111,
             "#46039f"
            ],
            [
             0.2222222222222222,
             "#7201a8"
            ],
            [
             0.3333333333333333,
             "#9c179e"
            ],
            [
             0.4444444444444444,
             "#bd3786"
            ],
            [
             0.5555555555555556,
             "#d8576b"
            ],
            [
             0.6666666666666666,
             "#ed7953"
            ],
            [
             0.7777777777777778,
             "#fb9f3a"
            ],
            [
             0.8888888888888888,
             "#fdca26"
            ],
            [
             1,
             "#f0f921"
            ]
           ]
          },
          "colorway": [
           "#636efa",
           "#EF553B",
           "#00cc96",
           "#ab63fa",
           "#FFA15A",
           "#19d3f3",
           "#FF6692",
           "#B6E880",
           "#FF97FF",
           "#FECB52"
          ],
          "font": {
           "color": "#2a3f5f"
          },
          "geo": {
           "bgcolor": "white",
           "lakecolor": "white",
           "landcolor": "#E5ECF6",
           "showlakes": true,
           "showland": true,
           "subunitcolor": "white"
          },
          "hoverlabel": {
           "align": "left"
          },
          "hovermode": "closest",
          "mapbox": {
           "style": "light"
          },
          "paper_bgcolor": "white",
          "plot_bgcolor": "#E5ECF6",
          "polar": {
           "angularaxis": {
            "gridcolor": "white",
            "linecolor": "white",
            "ticks": ""
           },
           "bgcolor": "#E5ECF6",
           "radialaxis": {
            "gridcolor": "white",
            "linecolor": "white",
            "ticks": ""
           }
          },
          "scene": {
           "xaxis": {
            "backgroundcolor": "#E5ECF6",
            "gridcolor": "white",
            "gridwidth": 2,
            "linecolor": "white",
            "showbackground": true,
            "ticks": "",
            "zerolinecolor": "white"
           },
           "yaxis": {
            "backgroundcolor": "#E5ECF6",
            "gridcolor": "white",
            "gridwidth": 2,
            "linecolor": "white",
            "showbackground": true,
            "ticks": "",
            "zerolinecolor": "white"
           },
           "zaxis": {
            "backgroundcolor": "#E5ECF6",
            "gridcolor": "white",
            "gridwidth": 2,
            "linecolor": "white",
            "showbackground": true,
            "ticks": "",
            "zerolinecolor": "white"
           }
          },
          "shapedefaults": {
           "line": {
            "color": "#2a3f5f"
           }
          },
          "ternary": {
           "aaxis": {
            "gridcolor": "white",
            "linecolor": "white",
            "ticks": ""
           },
           "baxis": {
            "gridcolor": "white",
            "linecolor": "white",
            "ticks": ""
           },
           "bgcolor": "#E5ECF6",
           "caxis": {
            "gridcolor": "white",
            "linecolor": "white",
            "ticks": ""
           }
          },
          "title": {
           "x": 0.05
          },
          "xaxis": {
           "automargin": true,
           "gridcolor": "white",
           "linecolor": "white",
           "ticks": "",
           "title": {
            "standoff": 15
           },
           "zerolinecolor": "white",
           "zerolinewidth": 2
          },
          "yaxis": {
           "automargin": true,
           "gridcolor": "white",
           "linecolor": "white",
           "ticks": "",
           "title": {
            "standoff": 15
           },
           "zerolinecolor": "white",
           "zerolinewidth": 2
          }
         }
        },
        "title": {
         "text": "Genre Distribution"
        }
       }
      },
      "text/html": [
       "<div>                            <div id=\"23a299f8-f9c5-4757-ae00-49d1dfc76ec0\" class=\"plotly-graph-div\" style=\"height:525px; width:100%;\"></div>            <script type=\"text/javascript\">                require([\"plotly\"], function(Plotly) {                    window.PLOTLYENV=window.PLOTLYENV || {};                                    if (document.getElementById(\"23a299f8-f9c5-4757-ae00-49d1dfc76ec0\")) {                    Plotly.newPlot(                        \"23a299f8-f9c5-4757-ae00-49d1dfc76ec0\",                        [{\"domain\":{\"x\":[0.0,1.0],\"y\":[0.0,1.0]},\"hovertemplate\":\"index=%{label}<br>value=%{value}<extra></extra>\",\"labels\":[\"Drama\",\"Comedy\",\"Action\",\"Thriller\",\"Adventure\",\"Romance\",\"Crime\",\"Sci-Fi\",\"Fantasy\",\"Children\",\"Mystery\",\"Horror\",\"Animation\",\"War\",\"Musical\",\"IMAX\",\"Western\",\"Film-Noir\",\"Documentary\"],\"legendgroup\":\"\",\"name\":\"\",\"showlegend\":true,\"values\":[2201,1927,1426,1308,1095,993,827,796,517,426,388,379,297,253,226,123,99,59,57],\"type\":\"pie\"}],                        {\"template\":{\"data\":{\"histogram2dcontour\":[{\"type\":\"histogram2dcontour\",\"colorbar\":{\"outlinewidth\":0,\"ticks\":\"\"},\"colorscale\":[[0.0,\"#0d0887\"],[0.1111111111111111,\"#46039f\"],[0.2222222222222222,\"#7201a8\"],[0.3333333333333333,\"#9c179e\"],[0.4444444444444444,\"#bd3786\"],[0.5555555555555556,\"#d8576b\"],[0.6666666666666666,\"#ed7953\"],[0.7777777777777778,\"#fb9f3a\"],[0.8888888888888888,\"#fdca26\"],[1.0,\"#f0f921\"]]}],\"choropleth\":[{\"type\":\"choropleth\",\"colorbar\":{\"outlinewidth\":0,\"ticks\":\"\"}}],\"histogram2d\":[{\"type\":\"histogram2d\",\"colorbar\":{\"outlinewidth\":0,\"ticks\":\"\"},\"colorscale\":[[0.0,\"#0d0887\"],[0.1111111111111111,\"#46039f\"],[0.2222222222222222,\"#7201a8\"],[0.3333333333333333,\"#9c179e\"],[0.4444444444444444,\"#bd3786\"],[0.5555555555555556,\"#d8576b\"],[0.6666666666666666,\"#ed7953\"],[0.7777777777777778,\"#fb9f3a\"],[0.8888888888888888,\"#fdca26\"],[1.0,\"#f0f921\"]]}],\"heatmap\":[{\"type\":\"heatmap\",\"colorbar\":{\"outlinewidth\":0,\"ticks\":\"\"},\"colorscale\":[[0.0,\"#0d0887\"],[0.1111111111111111,\"#46039f\"],[0.2222222222222222,\"#7201a8\"],[0.3333333333333333,\"#9c179e\"],[0.4444444444444444,\"#bd3786\"],[0.5555555555555556,\"#d8576b\"],[0.6666666666666666,\"#ed7953\"],[0.7777777777777778,\"#fb9f3a\"],[0.8888888888888888,\"#fdca26\"],[1.0,\"#f0f921\"]]}],\"heatmapgl\":[{\"type\":\"heatmapgl\",\"colorbar\":{\"outlinewidth\":0,\"ticks\":\"\"},\"colorscale\":[[0.0,\"#0d0887\"],[0.1111111111111111,\"#46039f\"],[0.2222222222222222,\"#7201a8\"],[0.3333333333333333,\"#9c179e\"],[0.4444444444444444,\"#bd3786\"],[0.5555555555555556,\"#d8576b\"],[0.6666666666666666,\"#ed7953\"],[0.7777777777777778,\"#fb9f3a\"],[0.8888888888888888,\"#fdca26\"],[1.0,\"#f0f921\"]]}],\"contourcarpet\":[{\"type\":\"contourcarpet\",\"colorbar\":{\"outlinewidth\":0,\"ticks\":\"\"}}],\"contour\":[{\"type\":\"contour\",\"colorbar\":{\"outlinewidth\":0,\"ticks\":\"\"},\"colorscale\":[[0.0,\"#0d0887\"],[0.1111111111111111,\"#46039f\"],[0.2222222222222222,\"#7201a8\"],[0.3333333333333333,\"#9c179e\"],[0.4444444444444444,\"#bd3786\"],[0.5555555555555556,\"#d8576b\"],[0.6666666666666666,\"#ed7953\"],[0.7777777777777778,\"#fb9f3a\"],[0.8888888888888888,\"#fdca26\"],[1.0,\"#f0f921\"]]}],\"surface\":[{\"type\":\"surface\",\"colorbar\":{\"outlinewidth\":0,\"ticks\":\"\"},\"colorscale\":[[0.0,\"#0d0887\"],[0.1111111111111111,\"#46039f\"],[0.2222222222222222,\"#7201a8\"],[0.3333333333333333,\"#9c179e\"],[0.4444444444444444,\"#bd3786\"],[0.5555555555555556,\"#d8576b\"],[0.6666666666666666,\"#ed7953\"],[0.7777777777777778,\"#fb9f3a\"],[0.8888888888888888,\"#fdca26\"],[1.0,\"#f0f921\"]]}],\"mesh3d\":[{\"type\":\"mesh3d\",\"colorbar\":{\"outlinewidth\":0,\"ticks\":\"\"}}],\"scatter\":[{\"fillpattern\":{\"fillmode\":\"overlay\",\"size\":10,\"solidity\":0.2},\"type\":\"scatter\"}],\"parcoords\":[{\"type\":\"parcoords\",\"line\":{\"colorbar\":{\"outlinewidth\":0,\"ticks\":\"\"}}}],\"scatterpolargl\":[{\"type\":\"scatterpolargl\",\"marker\":{\"colorbar\":{\"outlinewidth\":0,\"ticks\":\"\"}}}],\"bar\":[{\"error_x\":{\"color\":\"#2a3f5f\"},\"error_y\":{\"color\":\"#2a3f5f\"},\"marker\":{\"line\":{\"color\":\"#E5ECF6\",\"width\":0.5},\"pattern\":{\"fillmode\":\"overlay\",\"size\":10,\"solidity\":0.2}},\"type\":\"bar\"}],\"scattergeo\":[{\"type\":\"scattergeo\",\"marker\":{\"colorbar\":{\"outlinewidth\":0,\"ticks\":\"\"}}}],\"scatterpolar\":[{\"type\":\"scatterpolar\",\"marker\":{\"colorbar\":{\"outlinewidth\":0,\"ticks\":\"\"}}}],\"histogram\":[{\"marker\":{\"pattern\":{\"fillmode\":\"overlay\",\"size\":10,\"solidity\":0.2}},\"type\":\"histogram\"}],\"scattergl\":[{\"type\":\"scattergl\",\"marker\":{\"colorbar\":{\"outlinewidth\":0,\"ticks\":\"\"}}}],\"scatter3d\":[{\"type\":\"scatter3d\",\"line\":{\"colorbar\":{\"outlinewidth\":0,\"ticks\":\"\"}},\"marker\":{\"colorbar\":{\"outlinewidth\":0,\"ticks\":\"\"}}}],\"scattermapbox\":[{\"type\":\"scattermapbox\",\"marker\":{\"colorbar\":{\"outlinewidth\":0,\"ticks\":\"\"}}}],\"scatterternary\":[{\"type\":\"scatterternary\",\"marker\":{\"colorbar\":{\"outlinewidth\":0,\"ticks\":\"\"}}}],\"scattercarpet\":[{\"type\":\"scattercarpet\",\"marker\":{\"colorbar\":{\"outlinewidth\":0,\"ticks\":\"\"}}}],\"carpet\":[{\"aaxis\":{\"endlinecolor\":\"#2a3f5f\",\"gridcolor\":\"white\",\"linecolor\":\"white\",\"minorgridcolor\":\"white\",\"startlinecolor\":\"#2a3f5f\"},\"baxis\":{\"endlinecolor\":\"#2a3f5f\",\"gridcolor\":\"white\",\"linecolor\":\"white\",\"minorgridcolor\":\"white\",\"startlinecolor\":\"#2a3f5f\"},\"type\":\"carpet\"}],\"table\":[{\"cells\":{\"fill\":{\"color\":\"#EBF0F8\"},\"line\":{\"color\":\"white\"}},\"header\":{\"fill\":{\"color\":\"#C8D4E3\"},\"line\":{\"color\":\"white\"}},\"type\":\"table\"}],\"barpolar\":[{\"marker\":{\"line\":{\"color\":\"#E5ECF6\",\"width\":0.5},\"pattern\":{\"fillmode\":\"overlay\",\"size\":10,\"solidity\":0.2}},\"type\":\"barpolar\"}],\"pie\":[{\"automargin\":true,\"type\":\"pie\"}]},\"layout\":{\"autotypenumbers\":\"strict\",\"colorway\":[\"#636efa\",\"#EF553B\",\"#00cc96\",\"#ab63fa\",\"#FFA15A\",\"#19d3f3\",\"#FF6692\",\"#B6E880\",\"#FF97FF\",\"#FECB52\"],\"font\":{\"color\":\"#2a3f5f\"},\"hovermode\":\"closest\",\"hoverlabel\":{\"align\":\"left\"},\"paper_bgcolor\":\"white\",\"plot_bgcolor\":\"#E5ECF6\",\"polar\":{\"bgcolor\":\"#E5ECF6\",\"angularaxis\":{\"gridcolor\":\"white\",\"linecolor\":\"white\",\"ticks\":\"\"},\"radialaxis\":{\"gridcolor\":\"white\",\"linecolor\":\"white\",\"ticks\":\"\"}},\"ternary\":{\"bgcolor\":\"#E5ECF6\",\"aaxis\":{\"gridcolor\":\"white\",\"linecolor\":\"white\",\"ticks\":\"\"},\"baxis\":{\"gridcolor\":\"white\",\"linecolor\":\"white\",\"ticks\":\"\"},\"caxis\":{\"gridcolor\":\"white\",\"linecolor\":\"white\",\"ticks\":\"\"}},\"coloraxis\":{\"colorbar\":{\"outlinewidth\":0,\"ticks\":\"\"}},\"colorscale\":{\"sequential\":[[0.0,\"#0d0887\"],[0.1111111111111111,\"#46039f\"],[0.2222222222222222,\"#7201a8\"],[0.3333333333333333,\"#9c179e\"],[0.4444444444444444,\"#bd3786\"],[0.5555555555555556,\"#d8576b\"],[0.6666666666666666,\"#ed7953\"],[0.7777777777777778,\"#fb9f3a\"],[0.8888888888888888,\"#fdca26\"],[1.0,\"#f0f921\"]],\"sequentialminus\":[[0.0,\"#0d0887\"],[0.1111111111111111,\"#46039f\"],[0.2222222222222222,\"#7201a8\"],[0.3333333333333333,\"#9c179e\"],[0.4444444444444444,\"#bd3786\"],[0.5555555555555556,\"#d8576b\"],[0.6666666666666666,\"#ed7953\"],[0.7777777777777778,\"#fb9f3a\"],[0.8888888888888888,\"#fdca26\"],[1.0,\"#f0f921\"]],\"diverging\":[[0,\"#8e0152\"],[0.1,\"#c51b7d\"],[0.2,\"#de77ae\"],[0.3,\"#f1b6da\"],[0.4,\"#fde0ef\"],[0.5,\"#f7f7f7\"],[0.6,\"#e6f5d0\"],[0.7,\"#b8e186\"],[0.8,\"#7fbc41\"],[0.9,\"#4d9221\"],[1,\"#276419\"]]},\"xaxis\":{\"gridcolor\":\"white\",\"linecolor\":\"white\",\"ticks\":\"\",\"title\":{\"standoff\":15},\"zerolinecolor\":\"white\",\"automargin\":true,\"zerolinewidth\":2},\"yaxis\":{\"gridcolor\":\"white\",\"linecolor\":\"white\",\"ticks\":\"\",\"title\":{\"standoff\":15},\"zerolinecolor\":\"white\",\"automargin\":true,\"zerolinewidth\":2},\"scene\":{\"xaxis\":{\"backgroundcolor\":\"#E5ECF6\",\"gridcolor\":\"white\",\"linecolor\":\"white\",\"showbackground\":true,\"ticks\":\"\",\"zerolinecolor\":\"white\",\"gridwidth\":2},\"yaxis\":{\"backgroundcolor\":\"#E5ECF6\",\"gridcolor\":\"white\",\"linecolor\":\"white\",\"showbackground\":true,\"ticks\":\"\",\"zerolinecolor\":\"white\",\"gridwidth\":2},\"zaxis\":{\"backgroundcolor\":\"#E5ECF6\",\"gridcolor\":\"white\",\"linecolor\":\"white\",\"showbackground\":true,\"ticks\":\"\",\"zerolinecolor\":\"white\",\"gridwidth\":2}},\"shapedefaults\":{\"line\":{\"color\":\"#2a3f5f\"}},\"annotationdefaults\":{\"arrowcolor\":\"#2a3f5f\",\"arrowhead\":0,\"arrowwidth\":1},\"geo\":{\"bgcolor\":\"white\",\"landcolor\":\"#E5ECF6\",\"subunitcolor\":\"white\",\"showland\":true,\"showlakes\":true,\"lakecolor\":\"white\"},\"title\":{\"x\":0.05},\"mapbox\":{\"style\":\"light\"}}},\"legend\":{\"tracegroupgap\":0},\"title\":{\"text\":\"Genre Distribution\"}},                        {\"responsive\": true}                    ).then(function(){\n",
       "                            \n",
       "var gd = document.getElementById('23a299f8-f9c5-4757-ae00-49d1dfc76ec0');\n",
       "var x = new MutationObserver(function (mutations, observer) {{\n",
       "        var display = window.getComputedStyle(gd).display;\n",
       "        if (!display || display === 'none') {{\n",
       "            console.log([gd, 'removed!']);\n",
       "            Plotly.purge(gd);\n",
       "            observer.disconnect();\n",
       "        }}\n",
       "}});\n",
       "\n",
       "// Listen for the removal of the full notebook cells\n",
       "var notebookContainer = gd.closest('#notebook-container');\n",
       "if (notebookContainer) {{\n",
       "    x.observe(notebookContainer, {childList: true});\n",
       "}}\n",
       "\n",
       "// Listen for the clearing of the current output cell\n",
       "var outputEl = gd.closest('.output');\n",
       "if (outputEl) {{\n",
       "    x.observe(outputEl, {childList: true});\n",
       "}}\n",
       "\n",
       "                        })                };                });            </script>        </div>"
      ]
     },
     "metadata": {},
     "output_type": "display_data"
    }
   ],
   "source": [
    "# Tampilkan menggunakan pie chart\n",
    "\n",
    "px.pie(genres,\n",
    "       names=genres.index,\n",
    "       values=genres.values,\n",
    "       title='Genre Distribution')"
   ]
  },
  {
   "cell_type": "code",
   "execution_count": 88,
   "id": "21612368",
   "metadata": {
    "scrolled": true
   },
   "outputs": [
    {
     "data": {
      "image/png": "[encoded data removed]",
      "text/plain": [
       "<Figure size 1080x576 with 1 Axes>"
      ]
     },
     "metadata": {
      "needs_background": "light"
     },
     "output_type": "display_data"
    }
   ],
   "source": [
    "# Buat list warna\n",
    "rating_colors = ['#e41a1c', '#377eb8', '#4daf4a', '#984ea3', '#ff7f00']\n",
    "\n",
    "# Tampilkan grafik rating menggunakan matplotlib\n",
    "plt.figure(figsize=(15, 8))\n",
    "plt.bar(left_join_sample['rating'].value_counts().index, \n",
    "        left_join_sample['rating'].value_counts().values, \n",
    "        color=rating_colors)\n",
    "plt.xlabel('Rating')\n",
    "plt.ylabel('Count')\n",
    "plt.title('Movie Ratings')\n",
    "plt.xticks(range(1, 6))  # Assuming ratings are from 1 to 5\n",
    "plt.show()"
   ]
  },
  {
   "cell_type": "code",
   "execution_count": 89,
   "id": "077b3d41",
   "metadata": {},
   "outputs": [],
   "source": [
    "# Ambil data tahun saja pada atribut date\n",
    "\n",
    "left_join_sample['date'] = pd.to_datetime(left_join_sample['date'])\n",
    "left_join_sample['year'] = left_join_sample['date'].dt.year"
   ]
  },
  {
   "cell_type": "code",
   "execution_count": 90,
   "id": "8d0e0c4c",
   "metadata": {},
   "outputs": [],
   "source": [
    "# Kemudian hitung rata-rata rating untuk setiap tahun\n",
    "\n",
    "yearly_ratings = left_join_sample.groupby('year')['rating'].mean()"
   ]
  },
  {
   "cell_type": "code",
   "execution_count": 91,
   "id": "2a6fd65d",
   "metadata": {},
   "outputs": [
    {
     "data": {
      "image/png": "[encoded data removed]",
      "text/plain": [
       "<Figure size 1080x576 with 1 Axes>"
      ]
     },
     "metadata": {
      "needs_background": "light"
     },
     "output_type": "display_data"
    }
   ],
   "source": [
    "# Tampilkan menggunakan matplotlib\n",
    "\n",
    "plt.figure(figsize=(15, 8))\n",
    "for year, rating in yearly_ratings.items():\n",
    "    plt.plot(year, rating, marker='o', label=f'Year {year}')\n",
    "\n",
    "plt.xlabel('Year')\n",
    "plt.ylabel('Average Rating')\n",
    "plt.title('Average Movie Ratings by Year')\n",
    "plt.legend()\n",
    "plt.grid()\n",
    "plt.show()"
   ]
  },
  {
   "cell_type": "markdown",
   "id": "399298e1",
   "metadata": {},
   "source": [
    "# Additional\n",
    "Plotly punya framework yang bisa dipakai untuk membuat dashboard analytics sederhana yaitu dash"
   ]
  },
  {
   "cell_type": "code",
   "execution_count": 93,
   "id": "13f61d12",
   "metadata": {},
   "outputs": [
    {
     "name": "stdout",
     "output_type": "stream",
     "text": [
      "Requirement already satisfied: dash in c:\\users\\user\\anaconda3\\lib\\site-packages (2.11.1)\n",
      "Requirement already satisfied: dash-core-components==2.0.0 in c:\\users\\user\\anaconda3\\lib\\site-packages (from dash) (2.0.0)\n",
      "Requirement already satisfied: requests in c:\\users\\user\\anaconda3\\lib\\site-packages (from dash) (2.26.0)\n",
      "Requirement already satisfied: nest-asyncio in c:\\users\\user\\anaconda3\\lib\\site-packages (from dash) (1.5.1)\n",
      "Requirement already satisfied: plotly>=5.0.0 in c:\\users\\user\\anaconda3\\lib\\site-packages (from dash) (5.10.0)\n",
      "Requirement already satisfied: dash-html-components==2.0.0 in c:\\users\\user\\anaconda3\\lib\\site-packages (from dash) (2.0.0)\n",
      "Requirement already satisfied: typing-extensions>=4.1.1 in c:\\users\\user\\anaconda3\\lib\\site-packages (from dash) (4.7.1)\n",
      "Requirement already satisfied: Werkzeug<2.3.0 in c:\\users\\user\\anaconda3\\lib\\site-packages (from dash) (2.0.2)\n",
      "Requirement already satisfied: ansi2html in c:\\users\\user\\anaconda3\\lib\\site-packages (from dash) (1.8.0)\n",
      "Requirement already satisfied: Flask<2.3.0,>=1.0.4 in c:\\users\\user\\anaconda3\\lib\\site-packages (from dash) (1.1.2)\n",
      "Requirement already satisfied: retrying in c:\\users\\user\\anaconda3\\lib\\site-packages (from dash) (1.3.4)\n",
      "Requirement already satisfied: dash-table==5.0.0 in c:\\users\\user\\anaconda3\\lib\\site-packages (from dash) (5.0.0)\n",
      "Requirement already satisfied: itsdangerous>=0.24 in c:\\users\\user\\anaconda3\\lib\\site-packages (from Flask<2.3.0,>=1.0.4->dash) (2.0.1)\n",
      "Requirement already satisfied: Jinja2>=2.10.1 in c:\\users\\user\\anaconda3\\lib\\site-packages (from Flask<2.3.0,>=1.0.4->dash) (2.11.3)\n",
      "Requirement already satisfied: click>=5.1 in c:\\users\\user\\anaconda3\\lib\\site-packages (from Flask<2.3.0,>=1.0.4->dash) (8.0.3)\n",
      "Requirement already satisfied: colorama in c:\\users\\user\\anaconda3\\lib\\site-packages (from click>=5.1->Flask<2.3.0,>=1.0.4->dash) (0.4.4)\n",
      "Requirement already satisfied: MarkupSafe>=0.23 in c:\\users\\user\\anaconda3\\lib\\site-packages (from Jinja2>=2.10.1->Flask<2.3.0,>=1.0.4->dash) (1.1.1)\n",
      "Requirement already satisfied: tenacity>=6.2.0 in c:\\users\\user\\anaconda3\\lib\\site-packages (from plotly>=5.0.0->dash) (8.0.1)\n",
      "Requirement already satisfied: certifi>=2017.4.17 in c:\\users\\user\\anaconda3\\lib\\site-packages (from requests->dash) (2021.10.8)\n",
      "Requirement already satisfied: charset-normalizer~=2.0.0 in c:\\users\\user\\anaconda3\\lib\\site-packages (from requests->dash) (2.0.4)\n",
      "Requirement already satisfied: urllib3<1.27,>=1.21.1 in c:\\users\\user\\anaconda3\\lib\\site-packages (from requests->dash) (1.26.7)\n",
      "Requirement already satisfied: idna<4,>=2.5 in c:\\users\\user\\anaconda3\\lib\\site-packages (from requests->dash) (3.2)\n",
      "Requirement already satisfied: six>=1.7.0 in c:\\users\\user\\anaconda3\\lib\\site-packages (from retrying->dash) (1.16.0)\n"
     ]
    }
   ],
   "source": [
    "# Install Dash\n",
    "\n",
    "!pip install dash"
   ]
  },
  {
   "cell_type": "code",
   "execution_count": 95,
   "id": "e182c284",
   "metadata": {},
   "outputs": [],
   "source": [
    "# Import Dash \n",
    "\n",
    "import dash\n",
    "import dash_core_components as dcc\n",
    "import dash_html_components as html"
   ]
  },
  {
   "cell_type": "code",
   "execution_count": 96,
   "id": "12cf3a6b",
   "metadata": {},
   "outputs": [],
   "source": [
    "# Buat nama app dari dash\n",
    "\n",
    "app = dash.Dash(__name__)"
   ]
  },
  {
   "cell_type": "code",
   "execution_count": 100,
   "id": "e54d9dc9",
   "metadata": {},
   "outputs": [],
   "source": [
    "# Atur layout dan data yang ingin ditampilkan\n",
    "\n",
    "app.layout = html.Div(\n",
    "    style={\n",
    "        'backgroundColor': '#73BB73',\n",
    "        'fontFamily': 'Arial, sans-serif',\n",
    "        'padding': '30px'\n",
    "    },\n",
    "    children=[\n",
    "        html.H1(\"Dashboard Analytics\", style={'textAlign': 'center', 'color': '#333'}),\n",
    "\n",
    "        html.Div([\n",
    "            dcc.Graph(\n",
    "                id='scatter-plot',\n",
    "                figure=px.scatter(\n",
    "                    left_join_sample, x='movieId', y='rating', hover_data=['title'],\n",
    "                    title='Ratings vs Movie ID', template='plotly_white'\n",
    "                )\n",
    "            ),\n",
    "        ], style={'margin': '20px'}),\n",
    "        \n",
    "        html.Div([\n",
    "            dcc.Graph(\n",
    "                id='pie-chart',\n",
    "                figure=px.pie(left_join_sample['genres'].str.split('|', expand=True).stack().value_counts(),\n",
    "                      names=left_join_sample['genres'].str.split('|', expand=True).stack().value_counts().index,\n",
    "                      values=left_join_sample['genres'].str.split('|', expand=True).stack().value_counts().values,\n",
    "                      title='Genre Distribution'\n",
    "                      )\n",
    "            ),\n",
    "        ], style={'margin': '20px'}),\n",
    "\n",
    "        html.Div([\n",
    "            dcc.Graph(\n",
    "                id='bar-plot',\n",
    "                figure=px.bar(\n",
    "                    left_join_sample['genres'].str.split('|', expand=True).stack().value_counts(),\n",
    "                    x=left_join_sample['genres'].str.split('|', expand=True).stack().value_counts().index,\n",
    "                    y=left_join_sample['genres'].str.split('|', expand=True).stack().value_counts().values,\n",
    "                    labels={'x': 'Genres', 'y': 'Count'},\n",
    "                    title='Genres Count', template='plotly_white'\n",
    "                )\n",
    "            ),\n",
    "        ], style={'margin': '20px'}),\n",
    "    ]\n",
    ")"
   ]
  },
  {
   "cell_type": "code",
   "execution_count": 101,
   "id": "44aa0ab6",
   "metadata": {},
   "outputs": [
    {
     "data": {
      "text/html": [
       "\n",
       "        <iframe\n",
       "            width=\"100%\"\n",
       "            height=\"650\"\n",
       "            src=\"http://127.0.0.1:8050/\"\n",
       "            frameborder=\"0\"\n",
       "            allowfullscreen\n",
       "            \n",
       "        ></iframe>\n",
       "        "
      ],
      "text/plain": [
       "<IPython.lib.display.IFrame at 0x26c1dcc4100>"
      ]
     },
     "metadata": {},
     "output_type": "display_data"
    }
   ],
   "source": [
    "# Run dashboard sederhana dash\n",
    "\n",
    "if __name__ == '__main__':\n",
    "    app.run_server(debug=True)"
   ]
  },
  {
   "cell_type": "code",
   "execution_count": null,
   "id": "acd6c009",
   "metadata": {},
   "outputs": [],
   "source": []
  }
 ],
 "metadata": {
  "kernelspec": {
   "display_name": "Python 3 (ipykernel)",
   "language": "python",
   "name": "python3"
  },
  "language_info": {
   "codemirror_mode": {
    "name": "ipython",
    "version": 3
   },
   "file_extension": ".py",
   "mimetype": "text/x-python",
   "name": "python",
   "nbconvert_exporter": "python",
   "pygments_lexer": "ipython3",
   "version": "3.9.7"
  }
 },
 "nbformat": 4,
 "nbformat_minor": 5
}
